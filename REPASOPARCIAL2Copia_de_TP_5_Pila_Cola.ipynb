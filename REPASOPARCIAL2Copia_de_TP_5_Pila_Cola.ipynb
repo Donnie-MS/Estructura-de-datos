{
  "nbformat": 4,
  "nbformat_minor": 0,
  "metadata": {
    "colab": {
      "provenance": []
    },
    "kernelspec": {
      "name": "python3",
      "display_name": "Python 3"
    }
  },
  "cells": [
    {
      "cell_type": "markdown",
      "metadata": {
        "id": "42630xxYD0gZ"
      },
      "source": [
        "# ![alt text](https://upload.wikimedia.org/wikipedia/commons/thumb/c/c3/Python-logo-notext.svg/50px-Python-logo-notext.svg.png) **Trabajo Práctico 5: Pilas y colas (dinámicas)** ![alt text](https://upload.wikimedia.org/wikipedia/commons/thumb/c/c3/Python-logo-notext.svg/50px-Python-logo-notext.svg.png)\n",
        "\n",
        "En este trabajo práctico, vamos a trabajar con las estructuras de datos **Pila** y **Cola** dinámicas en Python. Recuerden crear una copia de este archivo en su ***Google Drive*** para tener permisos de edición.\n",
        "\n",
        "### Sergio: **sergio.gonzalez@unahur.edu.ar**"
      ]
    },
    {
      "cell_type": "markdown",
      "source": [
        "Declaración de listas e inserción de elementos"
      ],
      "metadata": {
        "id": "at4biqlGUFMM"
      }
    },
    {
      "cell_type": "code",
      "source": [
        "l1 = []#list()\n",
        "print(l1)\n",
        "print(len(l1))\n",
        "l1.append(2);l1.append(3);l1.append(1);\n",
        "print(l1)\n",
        "print(len(l1))\n",
        "l1.pop()\n",
        "print(l1)\n",
        "print(len(l1))"
      ],
      "metadata": {
        "id": "bgZj23rgQjKw",
        "colab": {
          "base_uri": "https://localhost:8080/"
        },
        "outputId": "32a03408-b4b8-4c9f-809e-5397fc662d9c"
      },
      "execution_count": null,
      "outputs": [
        {
          "output_type": "stream",
          "name": "stdout",
          "text": [
            "[]\n",
            "0\n",
            "[2, 3, 1]\n",
            "3\n",
            "[2, 3]\n",
            "2\n"
          ]
        }
      ]
    },
    {
      "cell_type": "markdown",
      "source": [
        "Acceso por índices"
      ],
      "metadata": {
        "id": "RoV7K12pUNC7"
      }
    },
    {
      "cell_type": "code",
      "source": [
        "l2 = [2,1,3,4,5,7]\n",
        "print(l2[len(l2)-1])\n",
        "\n",
        "print(l2)\n",
        "l2[3] = 200\n",
        "print(l2)"
      ],
      "metadata": {
        "id": "vCaX9pPAQkE3",
        "colab": {
          "base_uri": "https://localhost:8080/"
        },
        "outputId": "726bec6a-3618-45f6-ea0c-6f00811e3eba"
      },
      "execution_count": null,
      "outputs": [
        {
          "output_type": "stream",
          "name": "stdout",
          "text": [
            "7\n",
            "[2, 1, 3, 4, 5, 7]\n",
            "[2, 1, 3, 200, 5, 7]\n"
          ]
        }
      ]
    },
    {
      "cell_type": "code",
      "source": [
        "l3 = [1,4,2,5,6,2]\n",
        "print(l3)\n",
        "l3.insert(3,20)\n",
        "print(l3)"
      ],
      "metadata": {
        "colab": {
          "base_uri": "https://localhost:8080/"
        },
        "id": "sBoNypNV1SQs",
        "outputId": "4b9a6b78-8588-4f33-b9e7-d1fa8c9516e1"
      },
      "execution_count": null,
      "outputs": [
        {
          "output_type": "stream",
          "name": "stdout",
          "text": [
            "[1, 4, 2, 5, 6, 2]\n",
            "[1, 4, 2, 20, 5, 6, 2]\n"
          ]
        }
      ]
    },
    {
      "cell_type": "code",
      "source": [
        "l3 = [1,4,2,5,6,2]\n",
        "print(l3)\n",
        "l3.pop(3)\n",
        "print(l3)"
      ],
      "metadata": {
        "colab": {
          "base_uri": "https://localhost:8080/"
        },
        "id": "EB81eLPG1s4I",
        "outputId": "c47af7ab-84e3-4319-f5ed-c46830209ae7"
      },
      "execution_count": null,
      "outputs": [
        {
          "output_type": "stream",
          "name": "stdout",
          "text": [
            "[1, 4, 2, 5, 6, 2]\n",
            "[1, 4, 2, 6, 2]\n"
          ]
        }
      ]
    },
    {
      "cell_type": "markdown",
      "source": [
        "Recorrido por elementos y por índices"
      ],
      "metadata": {
        "id": "18NFlEigUPo7"
      }
    },
    {
      "cell_type": "code",
      "source": [],
      "metadata": {
        "id": "nhsho-T-QlbH"
      },
      "execution_count": null,
      "outputs": []
    },
    {
      "cell_type": "markdown",
      "metadata": {
        "id": "p_zfOaNy70h-"
      },
      "source": [
        "## **Parte 1: Pilas dinámicas**"
      ]
    },
    {
      "cell_type": "markdown",
      "metadata": {
        "id": "xjXgmD3mskbR"
      },
      "source": [
        "### **Ejercicio 1**\n",
        "\n",
        "Implementar el TDA Pila (Stack), con las siguientes operaciones:\n",
        "- Crear (__init__())\n",
        "- Vaciar\n",
        "- Apilar elemento (push)\n",
        "- Desapilar elemento (pop)\n",
        "- Obtener primer elemento (top)\n",
        "- Obtener tamaño de pila\n",
        "- Clonar\n",
        "- Esta vacía.\n",
        "- __repr__(). Para poder imprimir una Pila por consola"
      ]
    },
    {
      "cell_type": "code",
      "source": [
        "\"\"\"\n",
        "import copy\n",
        "class Pila:\n",
        "  def __init__(self) -> None:\n",
        "    self.__pila = []\n",
        "\n",
        "  def __repr__(self) -> str:\n",
        "    return f\"{self.__pila} <->\"\n",
        "\n",
        "  def vaciar(self) -> None:\n",
        "    self.__pila = []\n",
        "\n",
        "  def apilar(self, dato:any) -> None:\n",
        "    self.__pila.append(dato)\n",
        "\n",
        "  def estaVacia(self) -> bool:\n",
        "    return len(self.__pila) == 0\n",
        "\n",
        "  def desapilar(self) -> any:\n",
        "    dato = None\n",
        "    if not self.estaVacia():\n",
        "      dato = self.__pila.pop()\n",
        "    else:\n",
        "      raise Exception(\"Pila vacia\")\n",
        "    return dato\n",
        "\n",
        "  def top(self) -> any:\n",
        "    dato = None\n",
        "    if not self.estaVacia():\n",
        "      dato = self.__pila[self.tamanio() - 1]\n",
        "    else:\n",
        "      raise Exception(\"Pila vacia\")\n",
        "    return dato\n",
        "\n",
        "  def tamanio(self) -> int:\n",
        "    return len(self.__pila)\n",
        "\n",
        "  def clonar(self) -> None:\n",
        "    return copy.deepcopy(self)\n",
        "\"\"\""
      ],
      "metadata": {
        "id": "_eZpMe4VYxk_"
      },
      "execution_count": null,
      "outputs": []
    },
    {
      "cell_type": "code",
      "source": [
        "import copy as cp # paquete para no tener problemas con las estructuras que tienen multiples niveles\n",
        "\n",
        "class Pila:\n",
        "  def __init__(self, listaInicial=None):\n",
        "    self.pila = []\n",
        "    if listaInicial:\n",
        "      self.pila = cp.deepcopy(listaInicial)\n",
        "\n",
        "  def tamaño(self)->int:\n",
        "    return len(self.pila)\n",
        "\n",
        "  def estaVacia(self)->bool:\n",
        "    return self.tamaño() == 0\n",
        "\n",
        "  def apilar(self, dato:int)->None:\n",
        "    self.pila.append(dato)\n",
        "\n",
        "  def tope(self)->int:\n",
        "    datoCima = None\n",
        "    if not self.estaVacia():\n",
        "      datoCima = self.pila[len(self.pila)-1] # leo ultimo elemento\n",
        "    return datoCima\n",
        "\n",
        "  def desapilar(self)->int:\n",
        "    dato = None\n",
        "    if not self.estaVacia():\n",
        "      dato = self.pila.pop()\n",
        "    return dato\n",
        "\n",
        "  def vaciar(self)->None:\n",
        "    self.pila = []\n",
        "\n",
        "  def clonar(self): # retorna una pila que contengan los mismos elementos pero en otra posicion de memoria\n",
        "    return cp.deepcopy(self)\n",
        "\n",
        "  def __repr__(self)->str:\n",
        "    return str(self.pila)+\"<->\""
      ],
      "metadata": {
        "id": "RKgUbaITQoxm"
      },
      "execution_count": 12,
      "outputs": []
    },
    {
      "cell_type": "code",
      "source": [
        "pila1 = Pila()\n",
        "print(pila1)\n",
        "pila1.apilar(2);pila1.apilar(5);pila1.apilar(3);pila1.apilar(4);\n",
        "print(pila1)\n",
        "while True:\n",
        "  dato = pila1.desapilar()\n",
        "  print(dato)\n",
        "print(dato, pila1)"
      ],
      "metadata": {
        "colab": {
          "base_uri": "https://localhost:8080/",
          "height": 481
        },
        "id": "6R88PgFt2cN0",
        "outputId": "782d7404-4437-4776-a6e0-f507ec3d81ad"
      },
      "execution_count": null,
      "outputs": [
        {
          "output_type": "stream",
          "name": "stdout",
          "text": [
            "[]<->\n",
            "[2, 5, 3, 4]<->\n",
            "4\n",
            "3\n",
            "5\n",
            "2\n"
          ]
        },
        {
          "output_type": "error",
          "ename": "Exception",
          "evalue": "Pila vacia",
          "traceback": [
            "\u001b[0;31m---------------------------------------------------------------------------\u001b[0m",
            "\u001b[0;31mException\u001b[0m                                 Traceback (most recent call last)",
            "\u001b[0;32m<ipython-input-30-5f5899a92c9b>\u001b[0m in \u001b[0;36m<cell line: 0>\u001b[0;34m()\u001b[0m\n\u001b[1;32m      4\u001b[0m \u001b[0mprint\u001b[0m\u001b[0;34m(\u001b[0m\u001b[0mpila1\u001b[0m\u001b[0;34m)\u001b[0m\u001b[0;34m\u001b[0m\u001b[0;34m\u001b[0m\u001b[0m\n\u001b[1;32m      5\u001b[0m \u001b[0;32mwhile\u001b[0m \u001b[0;32mTrue\u001b[0m\u001b[0;34m:\u001b[0m\u001b[0;34m\u001b[0m\u001b[0;34m\u001b[0m\u001b[0m\n\u001b[0;32m----> 6\u001b[0;31m   \u001b[0mdato\u001b[0m \u001b[0;34m=\u001b[0m \u001b[0mpila1\u001b[0m\u001b[0;34m.\u001b[0m\u001b[0mdesapilar\u001b[0m\u001b[0;34m(\u001b[0m\u001b[0;34m)\u001b[0m\u001b[0;34m\u001b[0m\u001b[0;34m\u001b[0m\u001b[0m\n\u001b[0m\u001b[1;32m      7\u001b[0m   \u001b[0mprint\u001b[0m\u001b[0;34m(\u001b[0m\u001b[0mdato\u001b[0m\u001b[0;34m)\u001b[0m\u001b[0;34m\u001b[0m\u001b[0;34m\u001b[0m\u001b[0m\n\u001b[1;32m      8\u001b[0m \u001b[0mprint\u001b[0m\u001b[0;34m(\u001b[0m\u001b[0mdato\u001b[0m\u001b[0;34m,\u001b[0m \u001b[0mpila1\u001b[0m\u001b[0;34m)\u001b[0m\u001b[0;34m\u001b[0m\u001b[0;34m\u001b[0m\u001b[0m\n",
            "\u001b[0;32m<ipython-input-28-d3ec65caa51c>\u001b[0m in \u001b[0;36mdesapilar\u001b[0;34m(self)\u001b[0m\n\u001b[1;32m     19\u001b[0m       \u001b[0mdato\u001b[0m \u001b[0;34m=\u001b[0m \u001b[0mself\u001b[0m\u001b[0;34m.\u001b[0m\u001b[0m__pila\u001b[0m\u001b[0;34m.\u001b[0m\u001b[0mpop\u001b[0m\u001b[0;34m(\u001b[0m\u001b[0;34m)\u001b[0m\u001b[0;34m\u001b[0m\u001b[0;34m\u001b[0m\u001b[0m\n\u001b[1;32m     20\u001b[0m     \u001b[0;32melse\u001b[0m\u001b[0;34m:\u001b[0m\u001b[0;34m\u001b[0m\u001b[0;34m\u001b[0m\u001b[0m\n\u001b[0;32m---> 21\u001b[0;31m       \u001b[0;32mraise\u001b[0m \u001b[0mException\u001b[0m\u001b[0;34m(\u001b[0m\u001b[0;34m\"Pila vacia\"\u001b[0m\u001b[0;34m)\u001b[0m\u001b[0;34m\u001b[0m\u001b[0;34m\u001b[0m\u001b[0m\n\u001b[0m\u001b[1;32m     22\u001b[0m     \u001b[0;32mreturn\u001b[0m \u001b[0mdato\u001b[0m\u001b[0;34m\u001b[0m\u001b[0;34m\u001b[0m\u001b[0m\n\u001b[1;32m     23\u001b[0m \u001b[0;34m\u001b[0m\u001b[0m\n",
            "\u001b[0;31mException\u001b[0m: Pila vacia"
          ]
        }
      ]
    },
    {
      "cell_type": "code",
      "source": [
        "pila1 = Pila()\n",
        "pila1.apilar(2);pila1.apilar(5);pila1.apilar(3);pila1.apilar(4);\n",
        "print(pila1)\n",
        "while not pila1.estaVacia():\n",
        "  print(pila1.desapilar())\n",
        "print(pila1)"
      ],
      "metadata": {
        "colab": {
          "base_uri": "https://localhost:8080/"
        },
        "id": "KHYYwhyi6pUP",
        "outputId": "cda41a31-368c-42e2-ca2b-fc759e18302e"
      },
      "execution_count": 13,
      "outputs": [
        {
          "output_type": "stream",
          "name": "stdout",
          "text": [
            "[2, 5, 3, 4]<->\n",
            "4\n",
            "3\n",
            "5\n",
            "2\n",
            "[]<->\n"
          ]
        }
      ]
    },
    {
      "cell_type": "markdown",
      "metadata": {
        "id": "I26IE7cG1BeA"
      },
      "source": [
        "### A partir del **Ejercicio 2** vamos a trabajar fuera del TDA Pila usando la interface que creamos en el **Ejercicio 1**. Es decir, se pueden usar solo las operaciones de la interface, no se puede acceder a los componentes internos del TDA. Si necesitan estructuras auxiliares, pueden usar otra pila, arreglos o listas."
      ]
    },
    {
      "cell_type": "markdown",
      "metadata": {
        "id": "Q0D1vzJZzqID"
      },
      "source": [
        "### **Ejercicio 2**\n",
        "\n",
        "Escribir un programa que declare una pila de enteros y le apile 4 elementos. Luego debe mostrar la pila y su tamaño, desapilar 2 elementos y volver a imprimirla junto con el nuevo tamaño."
      ]
    },
    {
      "cell_type": "code",
      "metadata": {
        "id": "Y4eHEO31zpnu",
        "colab": {
          "base_uri": "https://localhost:8080/"
        },
        "outputId": "e2aa6770-3228-439a-ecda-923e4e2ade20"
      },
      "source": [
        "pila1 = Pila()\n",
        "pila1.apilar(1)\n",
        "pila1.apilar(2)\n",
        "pila1.apilar(3)\n",
        "pila1.apilar(4)\n",
        "print(f\"{pila1}, {pila1.tamaño()}\")\n",
        "pila1.desapilar()\n",
        "pila1.desapilar()\n",
        "print(f\"{pila1}, {pila1.tamaño()}\")"
      ],
      "execution_count": 14,
      "outputs": [
        {
          "output_type": "stream",
          "name": "stdout",
          "text": [
            "[1, 2, 3, 4]<->, 4\n",
            "[1, 2]<->, 2\n"
          ]
        }
      ]
    },
    {
      "cell_type": "markdown",
      "metadata": {
        "id": "rds3Jsp10bJr"
      },
      "source": [
        "### **Ejercicio 3**\n",
        "\n",
        "Escribir una función que invierta el orden de una pila. No debe devolver una nueva pila invertida, sino invertir la pila que ingresa por parámetro."
      ]
    },
    {
      "cell_type": "code",
      "source": [
        "def invertirOrdenDe(unaPila: Pila) -> Pila:\n",
        "  auxPila = unaPila.clonar()\n",
        "  unaPila.vaciar()\n",
        "  while not auxPila.estaVacia():\n",
        "    unaPila.apilar(auxPila.desapilar())\n",
        "  return unaPila\n",
        "\n",
        "pila1 = Pila([2,3,1,5,6])\n",
        "print(pila1)\n",
        "invertirOrdenDe(pila1)\n",
        "print(pila1)"
      ],
      "metadata": {
        "id": "IIUp6iNaQqdt",
        "colab": {
          "base_uri": "https://localhost:8080/"
        },
        "outputId": "efe8fe8b-d9b6-496a-e4ce-a5950925715e"
      },
      "execution_count": 15,
      "outputs": [
        {
          "output_type": "stream",
          "name": "stdout",
          "text": [
            "[2, 3, 1, 5, 6]<->\n",
            "[6, 5, 1, 3, 2]<->\n"
          ]
        }
      ]
    },
    {
      "cell_type": "markdown",
      "metadata": {
        "id": "-YN0LThH0dO6"
      },
      "source": [
        "### **Ejercicio 4**\n",
        "\n",
        "Escribir una función que toma el último elemento de una pila(la base) y lo ponga en la cima (de la misma pila), respetando el orden del resto de los elementos. Utilizar una pila auxiliar."
      ]
    },
    {
      "cell_type": "code",
      "metadata": {
        "id": "KO9cVn4T0EFQ",
        "colab": {
          "base_uri": "https://localhost:8080/"
        },
        "outputId": "c049a90f-1c58-401e-a66b-8a54baf00d48"
      },
      "source": [
        "def deUltimoAPrimero(unaPila) -> Pila:\n",
        "  auxPila = Pila()\n",
        "  while not unaPila.estaVacia():\n",
        "    auxPila.apilar(unaPila.desapilar())\n",
        "  ultimoElem = auxPila.desapilar()\n",
        "  while not auxPila.estaVacia():\n",
        "    unaPila.apilar(auxPila.desapilar())\n",
        "  unaPila.apilar(ultimoElem)\n",
        "  return  unaPila\n",
        "\n",
        "miPila = Pila([1 , 2 , 3 , 4 , 5])\n",
        "print(miPila)\n",
        "deUltimoAPrimero(miPila)\n",
        "print(miPila)"
      ],
      "execution_count": 17,
      "outputs": [
        {
          "output_type": "stream",
          "name": "stdout",
          "text": [
            "[1, 2, 3, 4, 5]<->\n",
            "[2, 3, 4, 5, 1]<->\n"
          ]
        }
      ]
    },
    {
      "cell_type": "markdown",
      "metadata": {
        "id": "_Q_DCTjI3AGK"
      },
      "source": [
        "### **Ejercicio 5**\n",
        "\n",
        "Escribir una función que coloque en el fondo de una pila un nuevo elemento."
      ]
    },
    {
      "cell_type": "code",
      "metadata": {
        "id": "S1y89t3q3BkZ"
      },
      "source": [
        "def"
      ],
      "execution_count": null,
      "outputs": []
    },
    {
      "cell_type": "markdown",
      "metadata": {
        "id": "xfP229oY3ODC"
      },
      "source": [
        "### **Ejercicio 6**\n",
        "\n",
        "Escribir una función que elimine de una pila todas las ocurrencias de un elemento dado. Usar una pila auxiliar."
      ]
    },
    {
      "cell_type": "code",
      "source": [],
      "metadata": {
        "id": "vOcqAinbQrcm"
      },
      "execution_count": null,
      "outputs": []
    },
    {
      "cell_type": "markdown",
      "metadata": {
        "id": "nxgYjoxl3gmz"
      },
      "source": [
        "### **Ejercicio 7**\n",
        "\n",
        "Escribir un función que duplique el contenido de una pila.\n",
        "\n",
        "Por ejemplo, si la pila de entrada es:\n",
        "\n",
        "Pila = 8, 5, 6, 9\n",
        "\n",
        "Luego de la función la salida debe ser:\n",
        "\n",
        "pilaSalida = 8, 5, 6, 9, 8, 5, 6, 9"
      ]
    },
    {
      "cell_type": "code",
      "metadata": {
        "id": "Ojjaj3Z23g7j"
      },
      "source": [
        "def duplicar(pila:Pila)->None:\n",
        "  pilaAux = pila.clonar()\n",
        "  invertir(pilaAux)\n",
        "  while not pilaAux.estaVacia():\n",
        "    pila.apilar(pilaAux.desapilar())\n",
        "\n",
        "def Nplicar(pila:Pila, N:int)->None:\n",
        "  listaAux = []\n",
        "  while not pila.estaVacia():\n",
        "    listaAux.append(pila.desapilar())\n",
        "  for i in range(N):\n",
        "    for dato in reversed(listaAux):\n",
        "      pila.apilar(dato)"
      ],
      "execution_count": null,
      "outputs": []
    },
    {
      "cell_type": "code",
      "source": [
        "pila1 = Pila()\n",
        "pila1.apilar(8);pila1.apilar(5);pila1.apilar(6);pila1.apilar(9);\n",
        "print(pila1)\n",
        "Nplicar(pila1,20)\n",
        "print(pila1)"
      ],
      "metadata": {
        "colab": {
          "base_uri": "https://localhost:8080/"
        },
        "id": "ZWf45fQSaOKJ",
        "outputId": "4a9231d9-23ae-497c-9242-ee7a2216484d"
      },
      "execution_count": null,
      "outputs": [
        {
          "output_type": "stream",
          "name": "stdout",
          "text": [
            "[8, 5, 6, 9]<->\n",
            "[8, 5, 6, 9, 8, 5, 6, 9, 8, 5, 6, 9, 8, 5, 6, 9, 8, 5, 6, 9, 8, 5, 6, 9, 8, 5, 6, 9, 8, 5, 6, 9, 8, 5, 6, 9, 8, 5, 6, 9, 8, 5, 6, 9, 8, 5, 6, 9, 8, 5, 6, 9, 8, 5, 6, 9, 8, 5, 6, 9, 8, 5, 6, 9, 8, 5, 6, 9, 8, 5, 6, 9, 8, 5, 6, 9, 8, 5, 6, 9]<->\n"
          ]
        }
      ]
    },
    {
      "cell_type": "markdown",
      "metadata": {
        "id": "OLopy2zK38Am"
      },
      "source": [
        "### **Ejercicio 8**\n",
        "\n",
        "Escribir una función que realiza el cálculo de la suma de dos números enteros de muchos dígitos (los dos números tienen la misma cantidad de dígitos). La función recibe dos pilas por parámetro, las que almacenan los dígitos de los números a sumar (esta pilas no deben estar modificadas al terminar la función). La función debe retornar una nueva pila con el resultado.\n",
        "\n",
        "Por ejemplo para sumar: 85699625 + 75426652\n",
        "\n",
        "Las pilas de entrada a la función son:\n",
        "\n",
        "Pila1 = 8, 5, 6, 9, 9, 6, 2, 5\n",
        "\n",
        "Pila2 = 7, 5, 4, 2, 6, 6, 5, 2\n",
        "\n",
        "La salida:\n",
        "\n",
        "pilaSalida = 1, 6, 1, 1, 2, 6, 2, 7, 7"
      ]
    },
    {
      "cell_type": "code",
      "metadata": {
        "id": "a-DTh4IX5gji"
      },
      "source": [
        "def sumaEnPilas(pila1:Pila, pila2:Pila)->Pila:\n",
        "  resultado = Pila()\n",
        "  pila1Aux = pila1.clonar()\n",
        "  pila2Aux = pila2.clonar()\n",
        "  acarreo = 0\n",
        "  while not (pila1Aux.estaVacia() and pila2Aux.estaVacia()):\n",
        "    res = acarreo + pila1Aux.desapilar() + pila2Aux.desapilar()\n",
        "    resultado.apilar(res%10)\n",
        "    acarreo = res//10\n",
        "  if acarreo == 1:\n",
        "    resultado.apilar(acarreo)\n",
        "  invertir(resultado)\n",
        "  return resultado\n"
      ],
      "execution_count": null,
      "outputs": []
    },
    {
      "cell_type": "code",
      "source": [
        "pila1 = Pila()\n",
        "pila1.apilar(4);pila1.apilar(3);pila1.apilar(9);\n",
        "pila2 = Pila()\n",
        "pila2.apilar(8);pila2.apilar(4);pila2.apilar(7);\n",
        "\n",
        "print(sumaEnPilas(pila1,pila2))"
      ],
      "metadata": {
        "colab": {
          "base_uri": "https://localhost:8080/"
        },
        "id": "3wPYElaFeRUI",
        "outputId": "f1d4894f-cfda-4eca-e176-182fff0e7acc"
      },
      "execution_count": null,
      "outputs": [
        {
          "output_type": "stream",
          "name": "stdout",
          "text": [
            "[1, 2, 8, 6]<->\n"
          ]
        }
      ]
    },
    {
      "cell_type": "markdown",
      "metadata": {
        "id": "rc3aFx7i5g13"
      },
      "source": [
        "### **Ejercicio 9**\n",
        "\n",
        "Escribir la función “reemplazar”, que recibe como parámetro una pila de enteros y dos números enteros: “viejo” y “nuevo”. La función debe modificar la pila ingresada por parámetro, reemplazando cada ocurrencia del número “viejo” por el “nuevo”.\n"
      ]
    },
    {
      "cell_type": "code",
      "metadata": {
        "id": "k3RCSCM555Ql"
      },
      "source": [],
      "execution_count": null,
      "outputs": []
    },
    {
      "cell_type": "markdown",
      "metadata": {
        "id": "qBL1crPl55oY"
      },
      "source": [
        "### **Ejercicio 10**\n",
        "\n",
        "Escribir una función que recibe una pila de enteros y retorna dos pilas, una con solo los números pares y otra con solo los impares, provenientes de la pila de entrada. Al finalizar la función, la pila de entrada no debe estar modificada."
      ]
    },
    {
      "cell_type": "code",
      "metadata": {
        "id": "ZoMkxS8z56Ar"
      },
      "source": [],
      "execution_count": null,
      "outputs": []
    },
    {
      "cell_type": "markdown",
      "metadata": {
        "id": "R-BNJESL8Ato"
      },
      "source": [
        "## **Parte 2: Colas dinámicas**"
      ]
    },
    {
      "cell_type": "markdown",
      "metadata": {
        "id": "_2Diy6h_8Jae"
      },
      "source": [
        "### **Ejercicio 11**\n",
        "\n",
        "Implementar el TDA Cola (Queue), con las siguientes operaciones:\n",
        "- Crear (__init__())\n",
        "- Vaciar\n",
        "- Encolar elemento (enqueue)\n",
        "- Desancolar elemento (dequeue)\n",
        "- Obtener primer elemento (top)\n",
        "- Obtener tamaño de cola\n",
        "- Clonar\n",
        "- Esta vacía.\n",
        "- __repr__(). Para poder imprimir una Cola por consola"
      ]
    },
    {
      "cell_type": "code",
      "source": [
        "import copy\n",
        "\n",
        "class Cola:\n",
        "  def __init__(self):\n",
        "    self.__cola = []\n",
        "\n",
        "  def __repr__(self)->str:\n",
        "    return f\"<-{self.__cola}<-\"\n",
        "\n",
        "  def estaVacia(self)->bool:\n",
        "    return len(self.__cola) == 0\n",
        "\n",
        "  def encolar(self, dato:int)->None:\n",
        "    self.__cola.append(dato)\n",
        "\n",
        "  def desencolar(self)->int:\n",
        "    dato = None\n",
        "    if not self.estaVacia():\n",
        "      dato = self.__cola.pop(0)\n",
        "    else:\n",
        "      raise Exception(\"Cola vacia\")\n",
        "    return dato\n",
        "\n",
        "  def tope(self)->int:\n",
        "    dato = None\n",
        "    if not self.estaVacia():\n",
        "      dato = self.__cola[0]\n",
        "    else:\n",
        "      raise Exception(\"Cola vacia\")\n",
        "    return dato\n",
        "\n",
        "  def vaciar(self)->None:\n",
        "    self.__cola = []\n",
        "\n",
        "  def tamaño(self)->int:\n",
        "    return len(self.__cola)\n",
        "\n",
        "  def clonar(self):\n",
        "    return copy.deepcopy(self)\n"
      ],
      "metadata": {
        "id": "f6-wt123QtmM"
      },
      "execution_count": null,
      "outputs": []
    },
    {
      "cell_type": "markdown",
      "metadata": {
        "id": "wao1sk3f9VIE"
      },
      "source": [
        "### A partir del **Ejercicio 12** vamos a trabajar fuera del TDA Cola usando la interface que creamos en el **Ejercicio 11**. Es decir, se pueden usar solo las operaciones de la interface, no se puede acceder a los componentes internos del TDA. Si necesitan estructuras auxiliares, pueden usar otra cola, pilas, arreglos o listas."
      ]
    },
    {
      "cell_type": "markdown",
      "metadata": {
        "id": "0ngItJaS9LQL"
      },
      "source": [
        "### **Ejercicio 12**\n",
        "\n",
        "Escribir una función que invierta el orden de una cola. No debe devolver una nueva cola invertida, sino invertir la cola que ingresa por parámetro."
      ]
    },
    {
      "cell_type": "code",
      "source": [
        "def invertir(cola:Cola)->None:\n",
        "  pilaAux = Pila()\n",
        "  while not cola.estaVacia():\n",
        "    pilaAux.apilar(cola.desencolar())\n",
        "  while not pilaAux.estaVacia():\n",
        "    cola.encolar(pilaAux.desapilar())"
      ],
      "metadata": {
        "id": "XQy4uoFJQund"
      },
      "execution_count": null,
      "outputs": []
    },
    {
      "cell_type": "code",
      "source": [
        "cola = Cola()\n",
        "cola.encolar(12);cola.encolar(9);cola.encolar(4);cola.encolar(3);\n",
        "print(cola)\n",
        "invertir(cola)\n",
        "print(cola)"
      ],
      "metadata": {
        "colab": {
          "base_uri": "https://localhost:8080/"
        },
        "id": "n8oGv5A9geCJ",
        "outputId": "01c532ff-b365-45db-b2d1-ad8e96ef439a"
      },
      "execution_count": null,
      "outputs": [
        {
          "output_type": "stream",
          "name": "stdout",
          "text": [
            "<-[12, 9, 4, 3]<-\n",
            "<-[3, 4, 9, 12]<-\n"
          ]
        }
      ]
    },
    {
      "cell_type": "markdown",
      "metadata": {
        "id": "c7GRn_aB9j7N"
      },
      "source": [
        "### **Ejercicio 13**\n",
        "\n",
        "Escribir una función que extraiga el primer elemento de una cola y lo ponga en el final, respetando el orden del resto de los elementos.\n",
        "\n"
      ]
    },
    {
      "cell_type": "code",
      "source": [],
      "metadata": {
        "id": "hpLbnuKVQv3D"
      },
      "execution_count": null,
      "outputs": []
    },
    {
      "cell_type": "markdown",
      "metadata": {
        "id": "1ymkgIGrzLXy"
      },
      "source": [
        "### **Ejercicio 14**\n",
        "\n",
        "Escribir una función que coloque en el principio de una cola un nuevo elemento."
      ]
    },
    {
      "cell_type": "code",
      "metadata": {
        "id": "d4GH3FgpzMjp"
      },
      "source": [],
      "execution_count": null,
      "outputs": []
    },
    {
      "cell_type": "markdown",
      "metadata": {
        "id": "02nV6J1RzOZI"
      },
      "source": [
        "### **Ejercicio 15**\n",
        "\n",
        "Escribir una función que elimine de una cola todas las ocurrencias de un elemento dado.\n"
      ]
    },
    {
      "cell_type": "code",
      "metadata": {
        "id": "Tyhn88MRzPIc"
      },
      "source": [
        "def eliminarElemento(cola:Cola, datoDel:int)->int:\n",
        "  cant = 0\n",
        "  for i in range(cola.tamaño()):\n",
        "    dato = cola.desencolar()\n",
        "    if dato == datoDel:\n",
        "      cant += 1\n",
        "    else:\n",
        "      cola.encolar(dato)\n",
        "  return cant"
      ],
      "execution_count": null,
      "outputs": []
    },
    {
      "cell_type": "markdown",
      "metadata": {
        "id": "SDTxGmiaiapF"
      },
      "source": [
        "### **Ejercicio 16**\n",
        "\n",
        "Escribir una función que recibe una cola de enteros y genera dos colas: una con los números primos y otra con los números no primos, de la cola de entrada. Al terminar la función, la cola de entrada no debe estar modificada."
      ]
    },
    {
      "cell_type": "code",
      "source": [],
      "metadata": {
        "id": "bjXSFoAhQw4T"
      },
      "execution_count": null,
      "outputs": []
    },
    {
      "cell_type": "markdown",
      "metadata": {
        "id": "JXBJhthXiexG"
      },
      "source": [
        "### **Ejercicio 17**\n",
        "\n",
        "Implementar la función \"mezcla\" de dos colas, que recibe como parámetros dos colas ordenadas de menor a mayor y devuelve una nueva cola con la unión de ambas colas de entrada con sus elementos ordenados de la misma manera.\n"
      ]
    },
    {
      "cell_type": "code",
      "metadata": {
        "id": "Z2bswiGMigDd"
      },
      "source": [],
      "execution_count": null,
      "outputs": []
    },
    {
      "cell_type": "markdown",
      "metadata": {
        "id": "uTlvxV4x-zxg"
      },
      "source": [
        "### **Ejercicio 18**\n",
        "\n",
        "Implementar la función que recibe como parámetro una cola y elimina todos los números pares."
      ]
    },
    {
      "cell_type": "code",
      "metadata": {
        "id": "l8wU_LPh-0NK"
      },
      "source": [],
      "execution_count": null,
      "outputs": []
    }
  ]
}
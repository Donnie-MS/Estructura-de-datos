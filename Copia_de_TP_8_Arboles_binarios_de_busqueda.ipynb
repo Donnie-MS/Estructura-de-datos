{
  "nbformat": 4,
  "nbformat_minor": 0,
  "metadata": {
    "colab": {
      "provenance": []
    },
    "kernelspec": {
      "name": "python3",
      "display_name": "Python 3"
    }
  },
  "cells": [
    {
      "cell_type": "markdown",
      "metadata": {
        "id": "42630xxYD0gZ"
      },
      "source": [
        "# ![alt text](https://upload.wikimedia.org/wikipedia/commons/thumb/c/c3/Python-logo-notext.svg/50px-Python-logo-notext.svg.png) **Trabajo Práctico 8: Árboles binarios de búsqueda** ![alt text](https://upload.wikimedia.org/wikipedia/commons/thumb/c/c3/Python-logo-notext.svg/50px-Python-logo-notext.svg.png)\n",
        "\n",
        "En este trabajo práctico, vamos a trabajar con las estructuras de datos **Árbol binario de búsqueda** en Python. Para esta guía, los datos que guardaremos en los nodos son números enteros. Recuerden crear una copia de este archivo en su ***Google Drive*** para tener permisos de edición.\n",
        "\n",
        "### Sergio: **sergio.gonzalez@unahur.edu.ar**"
      ]
    },
    {
      "cell_type": "markdown",
      "metadata": {
        "id": "xjXgmD3mskbR"
      },
      "source": [
        "### **Ejercicio 1**\n",
        "\n",
        "Implementar el TDA Árbol binario de búsqueda, con las siguientes operaciones:\n",
        "\n",
        "En el Tipo NodoArbol:\n",
        "- **\\_\\_init__():** Constructor.\n",
        "- **Tiene hijo izquierdo**.\n",
        "- **Tiene hijo derecho**.\n",
        "- **Obtener grado**.\n",
        "- **Es hoja**.\n",
        "- **Predecesor de un nodo**: Retorna el nodo predecesor.\n",
        "- **Sucesor de un nodo**: Retorna el nodo sucesor.\n",
        "- **Altura de un nodo**: Retorna el largo de la trayectoria hasta la hoja mas lejana\n",
        "\n",
        "En el Tipo ABB:\n",
        "- **\\_\\_init__():** Constructor.\n",
        "- **Vaciar**.\n",
        "- **Esta vacio**.\n",
        "- **Mostrar elementos en PreOrden**.\n",
        "- **Mostrar elementos en InOrden:** Prueben que pasa si en lugar de ir primero al subarbol izquierdo y luego al subarbol derecho, van primero al derecho y luego al izquierdo.\n",
        "- **Mostrar elementos en PostOrden**.\n",
        "- **Insertar elemento:** Inserta nuevo nodo en el lugar que corresponde en el árbol con el elemento que recibe como parámetro.\n",
        "- **Buscar elemento:** Recibe un elemento y retorna *True* si el elemento esta en el árbol y *False* en caso contrario.\n",
        "- **Eliminar elemento:** Recibe un elemento y elimina el nodo que lo contiene.\n",
        "- **Clonar**.\n",
        "- **Obtener peso del arbol**.\n",
        "- **Obtener máximo del arbol**.\n",
        "- **Obtener mínimo del arbol**.\n",
        "- **Obtener profundidad del árbol:** Altura de la raíz. Deben hacer una operación que calcule la altura de un nodo (del tipo NodoArbol).\n",
        "- **Obtener profundidad de un elemento (Nivel):** Recibe un elemento y retorna su profundidad si el elemento esta en el árbol y *None* en caso contrario.\n",
        "\n",
        "\n"
      ]
    },
    {
      "cell_type": "code",
      "source": [
        "from graphviz import Digraph\n",
        "import copy as cp\n",
        "\n",
        "class ABB: # Creamos la clase árbol de busqueda binario\n",
        "  def __init__(self): # Un árbol es solo una referencia a su raíz (que será un NODO)\n",
        "    self.__raiz = None # Lo instanciamos con la raiz inicializada en None\n",
        "\n",
        "  def estaVacio(self)->bool: # Estar vacío (no contener información) es igual a que la raíz sea NONE\n",
        "    return self.__raiz == None\n",
        "\n",
        "  def vaciar(self)->None: # Vaciar es asignar como None a la raiz\n",
        "    self.__raiz = None\n",
        "\n",
        "  def clonar(self): #Para clonar como hicimos con otras estructuras de datos, usamos deepcopy\n",
        "    return cp.deepcopy(self)\n",
        "\n",
        "  def treePlot(self, fileName='arbol')->None: # Cremos un método para plotear el árbol\n",
        "    if not self.estaVacio(): # Si no está vacío:\n",
        "      treeDot = Digraph() # Instanciamos un objeto Digraph() vacío\n",
        "      treeDot.node(str(self.__raiz.dato), str(self.__raiz.dato)) # Le pasamos el nodo raiz (el nombre del nodo coincide con el dato almacenado)\n",
        "      # https://networkx.org/documentation/stable/reference/classes/digraph.html siempre es bueno revisar la documentación si no entendemos algo\n",
        "      self.__raiz.treePlot(treeDot) # Ahora para completar los nodos que nos faltan usamos treePlt pero SOBRE RAÍZ, es decir que es un método de NODO, no de árbol\n",
        "      treeDot.render(fileName, view=True) # Finalmente renderizamos la imagen del árbol\n",
        "\n",
        "  ##################################################################\n",
        "  ##################################################################\n",
        "  class __NodoArbol: # Ahora creamos la clase nodo, dentro del TDA árbol\n",
        "    def __init__(self, dato): # Para instanciarlo necesitamos un dato\n",
        "      self.dato = dato # Guardamos el dato\n",
        "      self.izquierdo = None # Y el árbol va a tener una referencia izquierda\n",
        "      self.derecho = None # Y una referncia derecha.\n",
        "\n",
        "    def tieneIzquierdo(self)->bool: # Creamos métodos auxiliares para saber si un nodo tiene izquiedo\n",
        "      return self.izquierdo != None # Es decir, su izquierdo es distinto de None\n",
        "\n",
        "    def tieneDerecho(self)->bool: # Análogamente queremos saber si un nodo tiene derecho\n",
        "      return self.derecho != None # Es decir, su derecho es distinto de None\n",
        "\n",
        "    def grado(self)->int: # El grado de un nodo es la cantidad de hijos que tiene\n",
        "      cantHijos = 0 # Inicilamente es cero\n",
        "      if self.tieneIzquierdo(): cantHijos += 1 # Si tiene izquierdo suma 1\n",
        "      if self.tieneDerecho(): cantHijos += 1 # Si tiene derecho también suma 1\n",
        "      return cantHijos # Retorna la cantidad de hios (grado)\n",
        "\n",
        "    def esHoja(self)->bool: # Es Hoja si no tiene hijos (ni izquierdo ni derecho)\n",
        "      return self.grado() == 0 # Es lo mismo que pedir grador 0\n",
        "\n",
        "    def treePlot(self, dot:Digraph)->None: # Esta función treePlot es A NIVEL NODO, esa diferecnia tiene con treePlot a nivel ÁRBOL\n",
        "      if self.tieneIzquierdo(): # Si tiene izquierdo:\n",
        "        dot.node(str(self.izquierdo.dato), str(self.izquierdo.dato)) # Agrego un nodo al gráfico (el que corresponde al izquierdo)\n",
        "        dot.edge(str(self.dato), str(self.izquierdo.dato)) # Armo una conexión entre el nodo (self) y su izquierdo (self.izquierdo)\n",
        "        self.izquierdo.treePlot(dot) # Hago un llamado recursivo sobre izquierdo, esto validará si izquierdo tiene hijos y así hará la vuelta recursiva\n",
        "      else: #sino, es decir, no tiene izquierdo\n",
        "        dot.node(\"-\"+str(self.dato)+\"l\", \"-\") # Creo un nodo ficticio para ilustrar en el gráfico que no hay derecho (por eso la L (left))\n",
        "        dot.edge(str(self.dato), \"-\"+str(self.dato)+\"l\") # Creo la conexión enter self y ese nodo ficticio\n",
        "      if self.tieneDerecho(): # Para el lado derecho es totalmente análogo cada paso\n",
        "        dot.node(str(self.derecho.dato), str(self.derecho.dato))\n",
        "        dot.edge(str(self.dato), str(self.derecho.dato))\n",
        "        self.derecho.treePlot(dot)\n",
        "      else:\n",
        "        dot.node(\"-\"+str(self.dato)+\"r\", \"-\")\n",
        "        dot.edge(str(self.dato), \"-\"+str(self.dato)+\"r\")"
      ],
      "metadata": {
        "id": "aecotA0MoPOS"
      },
      "execution_count": 4,
      "outputs": []
    },
    {
      "cell_type": "code",
      "metadata": {
        "id": "vM50Hpx6yUDe"
      },
      "source": [
        "# Seguimos agregando funcionalidad heredando lo que ya armamos\n",
        "class ABB(ABB):\n",
        "  def insertar(self, dato:int)->None: # Insertar toma un dato y no retorna nada\n",
        "    nodoNuevo = ABB.__NodoArbol(dato) # Creamos un nuevo nodo\n",
        "    if self.estaVacio(): # Si mi arbol está vacío\n",
        "      self.__raiz = nodoNuevo # El nuevo nodo será la raíz\n",
        "    else: # Sino, es decir, ya tengo datos en el árbol\n",
        "      self.__raiz.insertarNodo(nodoNuevo) # Delegamos en la raíz la responsabilidad de ubicar el nuevo nodo\n",
        "\n",
        "  class __NodoArbol(ABB.__NodoArbol): # Entonces tenemos que escribir un insertar pero a nivel Nodo\n",
        "    def insertarNodo(self, nodoNuevo)->None: # InsertarNodo traerá el dato que se le pasó a insertar como parámetro y no retorna nada\n",
        "      if nodoNuevo.dato < self.dato: # Si el dato contenido en el nodoNuevo es menor que el dato almacenado en el nodo en el que estoy parado (raíz si fuese la primer iteración):\n",
        "        #El nuevo nodo va a la izquierda de self\n",
        "        if not self.tieneIzquierdo(): # Y si NO tengo izquierdo:\n",
        "          self.izquierdo = nodoNuevo # El izquierdo de SELF será entonces la raíz\n",
        "        else: #Sino, es decir, TENGO IZQUIERDO\n",
        "          self.izquierdo.insertarNodo(nodoNuevo) # Delego en el izquierdo la responasbilidad de acomodar el nuevo nodo\n",
        "      elif nodoNuevo.dato > self.dato: # Sino, si el dato almacenado en el nodoNuevo es MAYOR que el dato de self (nodo en el que estoy parado, raíz si es la primera iteración):\n",
        "        #El nuevo nodo va a la derecha de self\n",
        "        if not self.tieneDerecho(): # Si NO tengo derecho\n",
        "          self.derecho = nodoNuevo # Entonces el derecho de self será nodoNuevo\n",
        "        else: # Sino, es decir, TENGO DERECHO\n",
        "          self.derecho.insertarNodo(nodoNuevo) # Delego en el derecho la responsabiliad de insertar el nuevoNodo\n",
        "      else: # Sino, es decir, el dato no es menor ni es mayor al de self (esto significa que el dato COINCIDE con el dato de self)\n",
        "        raise Exception(\"No se admiten datos repetidos\") # lanzo una excepción: en un árbol de búsqueda binario NO PUEDE haber número repetidos\n",
        "\n",
        "arbol1 = ABB()\n",
        "arbol1.insertar(50)\n",
        "arbol1.insertar(40);arbol1.insertar(30);arbol1.insertar(45)\n",
        "arbol1.insertar(60);arbol1.insertar(70);arbol1.insertar(55)\n",
        "\n",
        "arbol1.treePlot(\"nuevo\")"
      ],
      "execution_count": 5,
      "outputs": []
    },
    {
      "cell_type": "code",
      "source": [
        "class ABB(ABB):\n",
        "  def mostrarPreOrden(self):\n",
        "    if not self.estaVacio():\n",
        "      self.__raiz.mostrarPreOrdenNodo()\n",
        "  class ABB(ABB.__NodoArbol):\n",
        "    def mostrarPreOrdenNodo(self):\n",
        "      print(self.dato)\n",
        "      if self.tieneIzquierdo():\n",
        "        self.izquierdo.mostrarPreOrdenNodo()\n",
        "      if self.tieneDerecho():\n",
        "        self.derecho.mostrarPreOrdenNodo()"
      ],
      "metadata": {
        "id": "1SgNKGro5jQ6"
      },
      "execution_count": 6,
      "outputs": []
    },
    {
      "cell_type": "code",
      "source": [
        "class ABB(ABB):\n",
        "  def mostrarInOrden(self):\n",
        "    if not self.estaVacio():\n",
        "      self.__raiz.mostrarInOrdenNodo()\n",
        "  class __NodoArbol(ABB.__NodoArbol):\n",
        "    def mostrarInOrden(self):\n",
        "      if self.tieneIzquierdo():\n",
        "        self.izquierdo.mostrarInOrden()\n",
        "      print(self.dato)\n",
        "      if self.tieneDerecho():\n",
        "        self.derecho.mostrarInOrden()"
      ],
      "metadata": {
        "id": "Q8NUWnqZ7h1i"
      },
      "execution_count": 7,
      "outputs": []
    },
    {
      "cell_type": "code",
      "source": [
        "class ABB(ABB):\n",
        "  def mostrarPostOrden(self):\n",
        "    if not self.estaVacio():\n",
        "      self.__raiz.mostrarPostOrdenNodo()\n",
        "\n",
        "  class __NodoArbol(ABB.__NodoArbol):\n",
        "    def mostrarPostOrdenNodo(self):\n",
        "      if self.tieneIzquierdo():\n",
        "        self.izquierdo.mostrarPostOrdenNodo()\n",
        "      if self.tieneDerecho():\n",
        "        self.derecho.mostrarPostOrdenNodo()\n",
        "      print(self.dato)"
      ],
      "metadata": {
        "id": "go8L7Fh19wsH"
      },
      "execution_count": 8,
      "outputs": []
    },
    {
      "cell_type": "code",
      "source": [
        "class ABB(ABB):\n",
        "  def peso(self) -> int:\n",
        "    pesoTotal = 0\n",
        "    if not self.estaVacia():\n",
        "      pesoTotal = self.__raiz.pesoNodo()\n",
        "    return pesoTotal\n",
        "  class __NodoArbol(ABB.__NodoArbol):\n",
        "    def pesoNodo(self) -> int:\n",
        "      pesoTotal = 1\n",
        "      if self.tieneIzquierdo():\n",
        "        pesoTotal += self.izquierdo.pesoNodo()\n",
        "      if self.tieneDerecho():\n",
        "        pesoTotal += self.derecho.pesoNodo()\n",
        "      return pesoTotal"
      ],
      "metadata": {
        "id": "gitB9jF_KhHG"
      },
      "execution_count": 9,
      "outputs": []
    },
    {
      "cell_type": "code",
      "source": [
        "class ABB(ABB):\n",
        "  def buscar(self, datoABuscar:any) -> bool:\n",
        "    encontrado = False\n",
        "    if not self.estaVacio():\n",
        "      encontrado = self.__raiz.buscarNodo(datoABuscar) != None\n",
        "    return encontrado\n",
        "\n",
        "  class __NodoArbol(ABB.__NodoArbol):\n",
        "    def buscarNodo(self, datoABuscar) -> bool:\n",
        "      resultado = None\n",
        "\n",
        "      if self.dato == datoABuscar:\n",
        "        resultado = self\n",
        "      else:\n",
        "        if datoABuscar < self.dato and self.tieneIzquierdo():\n",
        "          resultado = self.izquierdo.buscarNodo(datoABuscar)\n",
        "        elif datoABuscar > self.dato and self.tieneDerecho():\n",
        "          resultado = self.derecho.buscarNodo(datoABuscar)\n",
        "\n",
        "      return resultado\n",
        "\n",
        "\n",
        "\n",
        "arbol1 = ABB()\n",
        "arbol1.insertar(50)\n",
        "arbol1.insertar(40);arbol1.insertar(30);arbol1.insertar(45)\n",
        "arbol1.insertar(60);arbol1.insertar(70);arbol1.insertar(55)\n",
        "\n",
        "print(arbol1.buscar(41))\n",
        "print(arbol1.buscar(40))"
      ],
      "metadata": {
        "colab": {
          "base_uri": "https://localhost:8080/"
        },
        "id": "-LHDkmG8MftW",
        "outputId": "be89470f-86f0-4319-a4a1-ede07dc2fcca"
      },
      "execution_count": 18,
      "outputs": [
        {
          "output_type": "stream",
          "name": "stdout",
          "text": [
            "False\n",
            "True\n"
          ]
        }
      ]
    },
    {
      "cell_type": "code",
      "source": [
        "class ABB(ABB):\n",
        "  def profundidad(self) -> int:\n",
        "    resultado = 0\n",
        "    if not self.estaVacio():\n",
        "      resultado = self.__raiz.alturaNodo()\n",
        "    return resultado\n",
        "\n",
        "  class __NodoArbol(ABB.__NodoArbol):\n",
        "    def alturaNodo(self) -> int:\n",
        "      alturaIzq = 0\n",
        "      alturaDer = 0\n",
        "      alturaSelf = 0\n",
        "      if not self.esHoja():\n",
        "        if self.tieneIzquierdo():\n",
        "          alturaIzq= self.izquierdo.alturaNodo()\n",
        "        if self.tieneDerecho():\n",
        "          alturaDer = self.derecho.alturaNodo()\n",
        "        alturaSelf = 1 + max(alturaIzq, alturaDer)\n",
        "\n",
        "      return alturaSelf\n"
      ],
      "metadata": {
        "id": "FStibwQMRGXl"
      },
      "execution_count": null,
      "outputs": []
    },
    {
      "cell_type": "code",
      "source": [
        "##Importante\n",
        "\n",
        "class ABB(ABB):\n",
        "  def nivelDato(self, datoBusc: any) -> int:\n",
        "    nivel = None\n",
        "    if not self.estaVacio():\n",
        "      nivel = self.__raiz.nivelDatoNodo(datoBusc)\n",
        "    return nivel\n",
        "\n",
        "  class __NodoArbol(ABB.__NodoArbol):\n",
        "    def nivelDatoNodo(self, datoBusc: any, nivelActual = 0) -> int:\n",
        "      nivel = None\n",
        "      if datoBusc == self.dato:\n",
        "        nivel = nivelActual\n",
        "      elif datoBusc < self.dato and self.tieneIzquierdo():\n",
        "        nivel = self.izquierdo.nivelDatoNodo(datoBusc, nivelActual + 1)\n",
        "      else:\n",
        "        if self.tieneDerecho():\n",
        "          nivel = self.derecho.nivelDatoNodo(datoBusc, nivelActual + 1)\n",
        "      return nivel\n",
        "\n",
        "arbol1 = ABB()\n",
        "arbol1.insertar(50)\n",
        "arbol1.insertar(40);arbol1.insertar(30);arbol1.insertar(45)\n",
        "arbol1.insertar(60);arbol1.insertar(70);arbol1.insertar(55)\n",
        "arbol1.insertar(47)\n",
        "\n",
        "print(arbol1.nivelDato(47))"
      ],
      "metadata": {
        "colab": {
          "base_uri": "https://localhost:8080/"
        },
        "id": "ssgIb_zPVXO0",
        "outputId": "542c8eb4-2b32-44de-d946-8edaebab4725"
      },
      "execution_count": 52,
      "outputs": [
        {
          "output_type": "stream",
          "name": "stdout",
          "text": [
            "3\n"
          ]
        }
      ]
    },
    {
      "cell_type": "code",
      "source": [
        "class ABB(ABB):\n",
        "  def minimo(self) -> any:\n",
        "    resultado = None\n",
        "    if not self.estaVacio():\n",
        "      resultado = self.__raiz.minimoNodo().dato()\n",
        "    return resultado\n",
        "  def maximo(self) -> any:\n",
        "    resultado = None\n",
        "    if not self.estaVacio():\n",
        "      resultado = self.__raiz.maximoNodo().dato()\n",
        "    return resultado\n",
        "\n",
        "  class __NodoArbol(ABB.__NodoArbol):\n",
        "    def minimoNodo(self) -> ABB.__NodoArbol:\n",
        "      nodoMinimo = self\n",
        "      if self.tieneIzquierdo():\n",
        "        nodoMinimo = self.izquierdo.minimoNodo()\n",
        "      return nodoMinimo\n",
        "\n",
        "    def maximoNodo(self) -> ABB.__NodoArbol:\n",
        "      resultado = self\n",
        "      if self.tieneDerecho():\n",
        "        resultado = self.derecho.maximoNodo()\n",
        "      return resultado\n",
        "\n",
        "    def predecesor(self):\n",
        "      nodoPredecesor = None\n",
        "      if self.tieneIzquierdo():\n",
        "        nodoPredecesor = self.izquierdo.maximoNodo()\n",
        "      return nodoPredecesor\n",
        "\n",
        "    def sucesor(self):\n",
        "      nodoSucesor = None\n",
        "      if self.tieneDerecho():\n",
        "        nodoSucesor = self.derecho.minimoNodo()\n",
        "      return nodoSucesor\n"
      ],
      "metadata": {
        "id": "tYtkGIp5c67b"
      },
      "execution_count": null,
      "outputs": []
    },
    {
      "cell_type": "code",
      "source": [
        "#HACER ELIMINAR Y Buscar PROGENITOR"
      ],
      "metadata": {
        "id": "qyKbYxQqfqMZ"
      },
      "execution_count": null,
      "outputs": []
    },
    {
      "cell_type": "markdown",
      "metadata": {
        "id": "ZCanLcfoJ9_q"
      },
      "source": [
        "### **Ejercicio 2**\n",
        "\n",
        "Escribir una operación del TDA ABB que calcule la cantidad de hojas de un árbol."
      ]
    },
    {
      "cell_type": "code",
      "metadata": {
        "id": "b7fX-u09J-Wo",
        "collapsed": true,
        "colab": {
          "base_uri": "https://localhost:8080/"
        },
        "outputId": "6216f39a-a0f0-4455-b2f6-eb6b65c9f025"
      },
      "source": [
        "class ABB(ABB):\n",
        "  def cantHojas(self) -> int:\n",
        "    nroHojas = 0\n",
        "    if not self.estaVacio() :\n",
        "      nroHojas = self.__raiz.cantHojasNodo()\n",
        "    return nroHojas\n",
        "  class __NodoArbol(ABB.__NodoArbol):\n",
        "    def cantHojasNodo(self) -> int:\n",
        "      nroHojas = 0\n",
        "      if self.esHoja():\n",
        "        nroHojas += 1\n",
        "      else:\n",
        "        if self.tieneIzquierdo():\n",
        "          nroHojas += self.izquierdo.cantHojasNodo()\n",
        "        if self.tieneDerecho():\n",
        "          nroHojas += self.derecho.cantHojasNodo()\n",
        "      return nroHojas\n",
        "arbol = ABB()\n",
        "\n",
        "arbol.insertar(50)\n",
        "arbol.insertar(40);arbol.insertar(30);arbol.insertar(45)\n",
        "arbol.insertar(60);arbol.insertar(70);arbol.insertar(55)\n",
        "arbol.insertar(47);arbol.insertar(100)\n",
        "arbol.treePlot()\n",
        "print(arbol.cantHojas())"
      ],
      "execution_count": 68,
      "outputs": [
        {
          "output_type": "stream",
          "name": "stdout",
          "text": [
            "4\n"
          ]
        }
      ]
    },
    {
      "cell_type": "markdown",
      "metadata": {
        "id": "2pUdWEUPKNB6"
      },
      "source": [
        "### **Ejercicio 3**\n",
        "\n",
        "Escribir una operación del TDA ABB que muestre los elementos que estan en el nivel N de un ABB, el nivel se recibe por parámetro."
      ]
    },
    {
      "cell_type": "code",
      "source": [
        "class ABB(ABB):\n",
        "  def mostrarNivel(self, nivel) -> None:\n",
        "    if not self.estaVacio():\n",
        "      self.__raiz.mostrarNivelNodo(nivel)\n",
        "  class __NodoArbol(ABB.__NodoArbol):\n",
        "    def mostrarNivelNodo(self, nivel, nivelActual = 0) -> None:\n",
        "      if nivel == nivelActual:\n",
        "        print(self.dato)\n",
        "      else:\n",
        "        if self.tieneIzquierdo():\n",
        "          self.izquierdo.mostrarNivelNodo(nivel, nivelActual + 1)\n",
        "        if self.tieneDerecho():\n",
        "          self.derecho.mostrarNivelNodo(nivel, nivelActual + 1)"
      ],
      "metadata": {
        "id": "Lm-4AqD5ydn1"
      },
      "execution_count": null,
      "outputs": []
    },
    {
      "cell_type": "markdown",
      "metadata": {
        "id": "u7elWMBPLrV8"
      },
      "source": [
        "### **Ejercicio 4**\n",
        "\n",
        "Se define por frontera de un árbol, la secuencia formada por los elementos almacenados en las hojas de un árbol, tomados de izquierda a derecha. Escribir una operación del TDA ABB, que imprima por pantalla la frontera del árbol."
      ]
    },
    {
      "cell_type": "code",
      "metadata": {
        "id": "FqtG8OIELyP_",
        "colab": {
          "base_uri": "https://localhost:8080/"
        },
        "outputId": "1e2cbfc4-4a56-4ce7-bf1d-cb543020749e"
      },
      "source": [
        "class ABB(ABB):\n",
        "  def frontera(self):\n",
        "    if not self.estaVacio():\n",
        "      self.__raiz.fronteraNodo()\n",
        "  class __NodoArbol(ABB.__NodoArbol):\n",
        "    def fronteraNodo(self) -> None:\n",
        "      if self.esHoja():\n",
        "        print(self.dato)\n",
        "      else:\n",
        "        if  self.tieneIzquierdo():\n",
        "          self.izquierdo.fronteraNodo()\n",
        "        if self.tieneDerecho():\n",
        "          self.derecho.fronteraNodo()\n"
      ],
      "execution_count": 69,
      "outputs": [
        {
          "output_type": "stream",
          "name": "stdout",
          "text": [
            "6\n",
            "11\n",
            "20\n",
            "38\n",
            "56\n",
            "80\n",
            "96\n"
          ]
        }
      ]
    },
    {
      "cell_type": "markdown",
      "metadata": {
        "id": "lAqDC6LPL4dS"
      },
      "source": [
        "### **Ejercicio 5**\n",
        "\n",
        "Escribir una operación del TDA ABB que retorne una lista ordenada (de menor a mayor) con todos los números pares que forman parte del árbol."
      ]
    },
    {
      "cell_type": "code",
      "source": [
        "class ABB(ABB):\n",
        "  def paresOrdenados(self)->None:\n",
        "    paresOrdenados = []\n",
        "    if not self.estaVacio():\n",
        "      self.__raiz.paresOrdenadosNodo(paresOrdenados)\n",
        "    return paresOrdenados\n",
        "\n",
        "  class __NodoArbol(ABB.__NodoArbol):\n",
        "    def paresOrdenadosNodo(self , listaResultado)->None:\n",
        "      if self.tieneIzquierdo():\n",
        "        self.izquierdo.paresOrdenadosNodo(listaResultado)\n",
        "\n",
        "      if self.dato % 2 == 0:\n",
        "        listaResultado.append(self.dato)\n",
        "\n",
        "      if self.tieneDerecho():\n",
        "        self.derecho.paresOrdenadosNodo(listaResultado)\n",
        "\n",
        "      return listaResultado\n",
        "\n",
        "arbol1 = ABB()\n",
        "arbol1.insertar(50)\n",
        "arbol1.insertar(40);arbol1.insertar(30);arbol1.insertar(45)\n",
        "arbol1.insertar(60);arbol1.insertar(70);arbol1.insertar(55)\n",
        "\n",
        "arbol1.paresOrdenados()"
      ],
      "metadata": {
        "id": "KUaLK45syemt",
        "colab": {
          "base_uri": "https://localhost:8080/"
        },
        "outputId": "f3682d79-63fe-4186-abca-d396a7d685bd"
      },
      "execution_count": 73,
      "outputs": [
        {
          "output_type": "execute_result",
          "data": {
            "text/plain": [
              "[50]"
            ]
          },
          "metadata": {},
          "execution_count": 73
        }
      ]
    },
    {
      "cell_type": "code",
      "source": [
        "class ABB(ABB):\n",
        "  def listaOrdenadaPares(self)->list:\n",
        "    listaPares = []\n",
        "    if not self.estaVacio():\n",
        "      listaPares = self.__raiz.listaOrdenadaParesNodo()\n",
        "    return listaPares\n",
        "\n",
        "  class _NodoArbol(ABB.__NodoArbol):\n",
        "    def listaOrdenadaParesNodos(self):\n",
        "      listaNodos = []\n",
        "      if self.tieneIzquierdo():\n",
        "        listaNodos = self.izquierdo.listaOrdenadaParesNodos()\n",
        "      if self.dato %2== 0:\n",
        "        listaNodos.append(self.dato)\n",
        "      if self.tieneDerecho():\n",
        "        listaNodos += self.derecho.listaOrdenadaParesNodos()\n",
        "      return listaNodos"
      ],
      "metadata": {
        "id": "Jmg5VdEaWL5k"
      },
      "execution_count": null,
      "outputs": []
    },
    {
      "cell_type": "code",
      "source": [
        "l1 = [2,1]\n",
        "l2 = [5,7]\n",
        "l1 += l2\n",
        "print(l1)"
      ],
      "metadata": {
        "colab": {
          "base_uri": "https://localhost:8080/"
        },
        "id": "pBynldH4Wp8B",
        "outputId": "b9ba991b-f07f-4537-8031-7f670d110f32"
      },
      "execution_count": null,
      "outputs": [
        {
          "output_type": "stream",
          "name": "stdout",
          "text": [
            "[2, 1, 5, 7]\n"
          ]
        }
      ]
    },
    {
      "cell_type": "markdown",
      "metadata": {
        "id": "MH98-7dgNRNe"
      },
      "source": [
        "### **Ejercicio 6**\n",
        "\n",
        "Escribir una operación del TDA ABB, que rote el árbol completo, es decir, los elementos del subárbol izquierdo deben ser mayores a la raíz y los del subárbol derecho menores (para todos los nodos del arbol). No se debe retornar un nuevo arbol, sino modificar el arbol desde el que se llama a la operación."
      ]
    },
    {
      "cell_type": "code",
      "source": [
        "class ABB(ABB):\n",
        "  def rotarArbol(self) -> None:\n",
        "    if not self.estaVacio():\n",
        "      self.__raiz.rotarArbolNodo()\n",
        "  class __NodoArbol(ABB.__NodoArbol):\n",
        "    def rotarArbolNodo(self):\n",
        "      auxNodo = self.izquierdo\n",
        "      self.izquierdo = self.derecho\n",
        "      self.derecho = auxNodo\n",
        "      if self.tieneIzquierdo():\n",
        "        self.izquierdo.rotarArbolNodo()\n",
        "      if self.tieneDerecho():\n",
        "        self.derecho.rotarArbolNodo()\n",
        "\n",
        "arbol1 = ABB()\n",
        "for n in [63,28,87,16,54,79,96,8,18,50,58,80,6,11,27,29,56,20,38]:\n",
        "  arbol1.insertar(n)\n",
        "arbol1.treePlot('ej6 antes')\n",
        "arbol1.rotarArbol()\n",
        "arbol1.treePlot('ej6 despues')"
      ],
      "metadata": {
        "id": "z-MCCrLGyfm0"
      },
      "execution_count": 75,
      "outputs": []
    },
    {
      "cell_type": "markdown",
      "source": [
        "### **Ejercicio 7**\n",
        "\n",
        "Escribir una operación del TDA ABB llamada **cantidadNodosEnNivel** que retorna la cantidad de nodos del arbol en un nivel determinado"
      ],
      "metadata": {
        "id": "DA9MfYHSrPEM"
      }
    },
    {
      "cell_type": "code",
      "source": [],
      "metadata": {
        "id": "JAJAgEIYrjsa"
      },
      "execution_count": null,
      "outputs": []
    }
  ]
}
{
  "nbformat": 4,
  "nbformat_minor": 0,
  "metadata": {
    "colab": {
      "provenance": []
    },
    "kernelspec": {
      "name": "python3",
      "display_name": "Python 3"
    }
  },
  "cells": [
    {
      "cell_type": "markdown",
      "metadata": {
        "id": "42630xxYD0gZ"
      },
      "source": [
        "# ![alt text](https://upload.wikimedia.org/wikipedia/commons/thumb/c/c3/Python-logo-notext.svg/50px-Python-logo-notext.svg.png) **Trabajo Práctico 8: Árboles binarios de búsqueda** ![alt text](https://upload.wikimedia.org/wikipedia/commons/thumb/c/c3/Python-logo-notext.svg/50px-Python-logo-notext.svg.png)\n",
        "\n",
        "En este trabajo práctico, vamos a trabajar con las estructuras de datos **Árbol binario de búsqueda** en Python. Para esta guía, los datos que guardaremos en los nodos son números enteros. Recuerden crear una copia de este archivo en su ***Google Drive*** para tener permisos de edición.\n",
        "\n",
        "### Sergio: **sergio.gonzalez@unahur.edu.ar**"
      ]
    },
    {
      "cell_type": "markdown",
      "metadata": {
        "id": "xjXgmD3mskbR"
      },
      "source": [
        "### **Ejercicio 1**\n",
        "\n",
        "Implementar el TDA Árbol binario de búsqueda, con las siguientes operaciones:\n",
        "\n",
        "En el Tipo NodoArbol:\n",
        "- **\\_\\_init__():** Constructor.\n",
        "- **Tiene hijo izquierdo**.\n",
        "- **Tiene hijo derecho**.\n",
        "- **Obtener grado**.\n",
        "- **Es hoja**.\n",
        "- **Predecesor de un nodo**: Retorna el nodo predecesor.\n",
        "- **Sucesor de un nodo**: Retorna el nodo sucesor.\n",
        "- **Altura de un nodo**: Retorna el largo de la trayectoria hasta la hoja mas lejana\n",
        "\n",
        "En el Tipo ABB:\n",
        "- **\\_\\_init__():** Constructor.\n",
        "- **Vaciar**.\n",
        "- **Esta vacio**.\n",
        "- **Mostrar elementos en PreOrden**.\n",
        "- **Mostrar elementos en InOrden:** Prueben que pasa si en lugar de ir primero al subarbol izquierdo y luego al subarbol derecho, van primero al derecho y luego al izquierdo.\n",
        "- **Mostrar elementos en PostOrden**.\n",
        "- **Insertar elemento:** Inserta nuevo nodo en el lugar que corresponde en el árbol con el elemento que recibe como parámetro.\n",
        "- **Buscar elemento:** Recibe un elemento y retorna *True* si el elemento esta en el árbol y *False* en caso contrario.\n",
        "- **Eliminar elemento:** Recibe un elemento y elimina el nodo que lo contiene.\n",
        "- **Clonar**.\n",
        "- **Obtener peso del arbol**.\n",
        "- **Obtener máximo del arbol**.\n",
        "- **Obtener mínimo del arbol**.\n",
        "- **Obtener profundidad del árbol:** Altura de la raíz. Deben hacer una operación que calcule la altura de un nodo (del tipo NodoArbol).\n",
        "- **Obtener profundidad de un elemento (Nivel):** Recibe un elemento y retorna su profundidad si el elemento esta en el árbol y *None* en caso contrario.\n",
        "\n",
        "\n"
      ]
    },
    {
      "cell_type": "code",
      "metadata": {
        "id": "vM50Hpx6yUDe"
      },
      "source": [
        "from graphviz import Digraph\n",
        "import copy as cp\n",
        "\n",
        "class ABB:\n",
        "  def __init__(self):\n",
        "    self.__raiz = None\n",
        "\n",
        "  def estaVacio(self)->bool:\n",
        "    return self.__raiz == None\n",
        "\n",
        "  def vaciar(self)->None:\n",
        "    self.__raiz = None\n",
        "\n",
        "  def clonar(self):\n",
        "    return cp.deepcopy(self)\n",
        "\n",
        "  def treePlot(self, fileName='arbol')->None:\n",
        "    if not self.estaVacio():\n",
        "      treeDot = Digraph()\n",
        "      treeDot.node(str(self.__raiz.dato), str(self.__raiz.dato))\n",
        "      self.__raiz.treePlot(treeDot)\n",
        "      treeDot.render(fileName, view=True)\n",
        "\n",
        "  ##################################################################\n",
        "  ##################################################################\n",
        "  class __NodoArbol:\n",
        "    def __init__(self, dato):\n",
        "      self.dato = dato\n",
        "      self.izquierdo = None\n",
        "      self.derecho = None\n",
        "\n",
        "    def tieneIzquierdo(self)->bool:\n",
        "      return self.izquierdo != None\n",
        "\n",
        "    def tieneDerecho(self)->bool:\n",
        "      return self.derecho != None\n",
        "\n",
        "    def grado(self)->int:\n",
        "      cantHijos = 0\n",
        "      if self.tieneIzquierdo():\n",
        "        cantHijos = 1\n",
        "      if self.tieneDerecho():\n",
        "        cantHijos += 1\n",
        "      return cantHijos\n",
        "\n",
        "    def esHoja(self)->bool:\n",
        "      return self.grado() == 0\n",
        "\n",
        "    def treePlot(self, dot:Digraph)->None:\n",
        "      if self.tieneIzquierdo():\n",
        "        dot.node(str(self.izquierdo.dato), str(self.izquierdo.dato))\n",
        "        dot.edge(str(self.dato), str(self.izquierdo.dato))\n",
        "        self.izquierdo.treePlot(dot)\n",
        "      else:\n",
        "        dot.node(\"-\"+str(self.dato)+\"l\", \"-\")\n",
        "        dot.edge(str(self.dato), \"-\"+str(self.dato)+\"l\")\n",
        "      if self.tieneDerecho():\n",
        "        dot.node(str(self.derecho.dato), str(self.derecho.dato))\n",
        "        dot.edge(str(self.dato), str(self.derecho.dato))\n",
        "        self.derecho.treePlot(dot)\n",
        "      else:\n",
        "        dot.node(\"-\"+str(self.dato)+\"r\", \"-\")\n",
        "        dot.edge(str(self.dato), \"-\"+str(self.dato)+\"r\")"
      ],
      "execution_count": null,
      "outputs": []
    },
    {
      "cell_type": "code",
      "source": [
        "class ABB(ABB):\n",
        "  def insertar(self, dato:int)->None:\n",
        "    nodoNuevo = ABB.__NodoArbol(dato)\n",
        "    if self.estaVacio():\n",
        "      self.__raiz = nodoNuevo\n",
        "    else:\n",
        "      self.__raiz.insertarNodo(nodoNuevo)\n",
        "\n",
        "  class __NodoArbol(ABB.__NodoArbol):\n",
        "    def insertarNodo(self, nuevo)->None:\n",
        "      if nuevo.dato < self.dato:\n",
        "        if not self.tieneIzquierdo():\n",
        "          self.izquierdo = nuevo\n",
        "        else:\n",
        "          self.izquierdo.insertarNodo(nuevo)\n",
        "      elif nuevo.dato > self.dato:\n",
        "        if not self.tieneDerecho():\n",
        "          self.derecho = nuevo\n",
        "        else:\n",
        "          self.derecho.insertarNodo(nuevo)\n"
      ],
      "metadata": {
        "id": "OVX0OSaIubLY"
      },
      "execution_count": null,
      "outputs": []
    },
    {
      "cell_type": "code",
      "source": [
        "arbol1 = ABB()\n",
        "arbol1.insertar(70);arbol1.insertar(15);arbol1.insertar(91);arbol1.insertar(29);\n",
        "arbol1.treePlot()"
      ],
      "metadata": {
        "id": "GYAOEXi3v8Q4"
      },
      "execution_count": null,
      "outputs": []
    },
    {
      "cell_type": "code",
      "source": [
        "class ABB(ABB):\n",
        "  def imprimirPreOrden(self)->None:\n",
        "    if not self.estaVacio():\n",
        "      self.__raiz.imprimirPreOrdenNodo()\n",
        "\n",
        "  class __NodoArbol(ABB.__NodoArbol):\n",
        "    def imprimirPreOrdenNodo(self)->None:\n",
        "      print(self.dato)\n",
        "      if self.tieneIzquierdo():\n",
        "        self.izquierdo.imprimirPreOrdenNodo()\n",
        "      if self.tieneDerecho():\n",
        "        self.derecho.imprimirPreOrdenNodo()"
      ],
      "metadata": {
        "id": "0E6rpNdawqSS"
      },
      "execution_count": null,
      "outputs": []
    },
    {
      "cell_type": "code",
      "source": [
        "class ABB(ABB):\n",
        "  def imprimirInOrden(self)->None:\n",
        "    if not self.estaVacio():\n",
        "      self.__raiz.imprimirInOrdenNodo()\n",
        "\n",
        "  class __NodoArbol(ABB.__NodoArbol):\n",
        "    def imprimirInOrdenNodo(self)->None:\n",
        "      if self.tieneIzquierdo():\n",
        "        self.izquierdo.imprimirInOrdenNodo()\n",
        "      print(self.dato)\n",
        "      if self.tieneDerecho():\n",
        "        self.derecho.imprimirInOrdenNodo()"
      ],
      "metadata": {
        "id": "KXrV3bLq0JXf"
      },
      "execution_count": null,
      "outputs": []
    },
    {
      "cell_type": "code",
      "source": [
        "arbol1 = ABB()\n",
        "arbol1.insertar(70);arbol1.insertar(15);arbol1.insertar(91);arbol1.insertar(29);\n",
        "arbol1.insertar(10);arbol1.insertar(80);\n",
        "arbol1.imprimirInOrden()"
      ],
      "metadata": {
        "colab": {
          "base_uri": "https://localhost:8080/"
        },
        "id": "Hw_a-NHsxZFa",
        "outputId": "ea235aab-0211-444d-a3d3-50629d8eb03b"
      },
      "execution_count": null,
      "outputs": [
        {
          "output_type": "stream",
          "name": "stdout",
          "text": [
            "10\n",
            "15\n",
            "29\n",
            "70\n",
            "80\n",
            "91\n"
          ]
        }
      ]
    },
    {
      "cell_type": "code",
      "source": [
        "class ABB(ABB):\n",
        "  def peso(self)->int:\n",
        "    cantNodos = 0\n",
        "    if not self.estaVacio():\n",
        "      cantNodos = self.__raiz.pesoNodo()\n",
        "    return cantNodos\n",
        "\n",
        "  class __NodoArbol(ABB.__NodoArbol):\n",
        "    def pesoNodo(self)->int:\n",
        "      cantNodos = 1\n",
        "      if self.tieneIzquierdo():\n",
        "        cantNodos += self.izquierdo.pesoNodo()\n",
        "      if self.tieneDerecho():\n",
        "        cantNodos += self.derecho.pesoNodo()\n",
        "      return cantNodos"
      ],
      "metadata": {
        "id": "7Dqt7F_p66YA"
      },
      "execution_count": null,
      "outputs": []
    },
    {
      "cell_type": "code",
      "source": [
        "arbol1 = ABB()\n",
        "arbol1.insertar(70);arbol1.insertar(15);arbol1.insertar(91);arbol1.insertar(29);\n",
        "arbol1.insertar(10);arbol1.insertar(80);\n",
        "arbol1.peso()"
      ],
      "metadata": {
        "colab": {
          "base_uri": "https://localhost:8080/"
        },
        "id": "dY7J52vg83bT",
        "outputId": "2105ce68-94f5-4c08-9ff4-4cc73238c7de"
      },
      "execution_count": null,
      "outputs": [
        {
          "output_type": "execute_result",
          "data": {
            "text/plain": [
              "6"
            ]
          },
          "metadata": {},
          "execution_count": 8
        }
      ]
    },
    {
      "cell_type": "code",
      "source": [
        "class ABB(ABB):\n",
        "  def altura(self)->int:\n",
        "    alturaRaiz = 0\n",
        "    if not self.estaVacio():\n",
        "      alturaRaiz = self.__raiz.alturaNodo()\n",
        "    return alturaRaiz\n",
        "\n",
        "  class __NodoArbol(ABB.__NodoArbol):\n",
        "    def alturaNodo(self)->int:\n",
        "      altura = 0\n",
        "      if not self.esHoja():\n",
        "        alturaDerecho = 0\n",
        "        alturaIzquierdo = 0\n",
        "        if self.tieneIzquierdo():\n",
        "          alturaIzquierdo = self.izquierdo.alturaNodo()\n",
        "        if self.tieneDerecho():\n",
        "          alturaDerecho = self.derecho.alturaNodo()\n",
        "        altura = 1 + max(alturaDerecho, alturaIzquierdo)\n",
        "      return altura"
      ],
      "metadata": {
        "id": "dJE-QKQuH6sn"
      },
      "execution_count": null,
      "outputs": []
    },
    {
      "cell_type": "code",
      "source": [
        "arbol1 = ABB()\n",
        "arbol1.insertar(70);arbol1.insertar(15);arbol1.insertar(91);arbol1.insertar(29);\n",
        "arbol1.insertar(10);arbol1.insertar(80);arbol1.insertar(2);arbol1.insertar(12);\n",
        "arbol1.insertar(20);arbol1.insertar(14);\n",
        "arbol1.altura()"
      ],
      "metadata": {
        "colab": {
          "base_uri": "https://localhost:8080/"
        },
        "id": "aWjrvmFJJ1kc",
        "outputId": "6c88e682-a502-4810-924b-a6ae5ad00fbf"
      },
      "execution_count": null,
      "outputs": [
        {
          "output_type": "execute_result",
          "data": {
            "text/plain": [
              "4"
            ]
          },
          "metadata": {},
          "execution_count": 10
        }
      ]
    },
    {
      "cell_type": "code",
      "source": [
        "class ABB(ABB):\n",
        "  def buscar(self, datoBusc:int)->bool:\n",
        "    pass\n",
        "\n",
        "  class __NodoArbol(ABB.__NodoArbol):\n",
        "    def buscarNodo(self, datoBusc:int):#__NodoArbol | None\n",
        "      pass"
      ],
      "metadata": {
        "id": "GhCXY-ZkKd_0"
      },
      "execution_count": null,
      "outputs": []
    },
    {
      "cell_type": "code",
      "source": [
        "class ABB(ABB):\n",
        "  def buscarNivel(self, datoBusc:int)->int|None:\n",
        "    nivelDatoBusc = None\n",
        "    if not self.estaVacio():\n",
        "      nivelDatoBusc = self.__raiz.buscarNivelNodo(datoBusc)\n",
        "    return nivelDatoBusc\n",
        "\n",
        "  class __NodoArbol(ABB.__NodoArbol):\n",
        "    def buscarNivelNodo(self, datoBusc:int, nivelActual:int=0)->int|None:\n",
        "      nivelDato = None\n",
        "      if self.dato == datoBusc:\n",
        "        nivelDato = nivelActual\n",
        "      elif datoBusc < self.dato:\n",
        "        if self.tieneIzquierdo():\n",
        "          nivelDato = self.izquierdo.buscarNivelNodo(datoBusc, nivelActual+1)\n",
        "      else:\n",
        "        if self.tieneDerecho():\n",
        "          nivelDato = self.derecho.buscarNivelNodo(datoBusc, nivelActual+1)\n",
        "      return nivelDato"
      ],
      "metadata": {
        "id": "T9fkPxmGIqL5"
      },
      "execution_count": null,
      "outputs": []
    },
    {
      "cell_type": "code",
      "source": [
        "arbol1 = ABB()\n",
        "arbol1.insertar(70);arbol1.insertar(15);arbol1.insertar(91);arbol1.insertar(29);\n",
        "arbol1.insertar(10);arbol1.insertar(80);arbol1.insertar(2);arbol1.insertar(12);\n",
        "arbol1.insertar(20);arbol1.insertar(14);\n",
        "print(arbol1.buscarNivel(20))"
      ],
      "metadata": {
        "colab": {
          "base_uri": "https://localhost:8080/"
        },
        "id": "cYNTb89cLNu1",
        "outputId": "5f91796b-a977-463d-cba3-d7bdc8476474"
      },
      "execution_count": null,
      "outputs": [
        {
          "output_type": "stream",
          "name": "stdout",
          "text": [
            "3\n"
          ]
        }
      ]
    },
    {
      "cell_type": "code",
      "source": [
        "class ABB(ABB):\n",
        "  def minimo(self)->int|None:\n",
        "    datoMin = None\n",
        "    if not self.estaVacio():\n",
        "      datoMin = self.__raiz.minimoNodo().dato\n",
        "    return datoMin\n",
        "  def maximo(self)->int|None:\n",
        "    datoMax = None\n",
        "    if not self.estaVacio():\n",
        "      datoMax = self.__raiz.maximoNodo().dato\n",
        "    return datoMax\n",
        "\n",
        "  class __NodoArbol(ABB.__NodoArbol):\n",
        "    def minimoNodo(self)->int:\n",
        "      datoMin = None\n",
        "      if self.tieneIzquierdo():\n",
        "        datoMin = self.izquierdo.minimoNodo()\n",
        "      else:\n",
        "        datoMin = self\n",
        "      return datoMin\n",
        "    def maximoNodo(self)->int:\n",
        "      datoMax = None\n",
        "      if self.tieneDerecho():\n",
        "        datoMax = self.derecho.maximoNodo()\n",
        "      else:\n",
        "        datoMax = self\n",
        "      return datoMax"
      ],
      "metadata": {
        "id": "yQBtVMI-M2oQ"
      },
      "execution_count": null,
      "outputs": []
    },
    {
      "cell_type": "code",
      "source": [
        "arbol1 = ABB()\n",
        "arbol1.insertar(70);arbol1.insertar(15);arbol1.insertar(91);arbol1.insertar(29);\n",
        "arbol1.insertar(10);arbol1.insertar(80);arbol1.insertar(12);\n",
        "arbol1.insertar(20);arbol1.insertar(14);\n",
        "print(arbol1.minimo())\n",
        "print(arbol1.maximo())"
      ],
      "metadata": {
        "colab": {
          "base_uri": "https://localhost:8080/"
        },
        "id": "yxcYOLP9OIyh",
        "outputId": "c16cb985-a5f8-4f37-b680-b752312eebb7"
      },
      "execution_count": null,
      "outputs": [
        {
          "output_type": "stream",
          "name": "stdout",
          "text": [
            "10\n",
            "91\n"
          ]
        }
      ]
    },
    {
      "cell_type": "code",
      "source": [
        "class ABB(ABB):\n",
        "  def testPredSuc(self):\n",
        "    print(self.__raiz.predecesorNodo().dato)\n",
        "    print(self.__raiz.sucesorNodo().dato)\n",
        "\n",
        "  class __NodoArbol(ABB.__NodoArbol):\n",
        "    def predecesorNodo(self):#__NodoArbol|None\n",
        "      nodoPred = None\n",
        "      if self.tieneIzquierdo():\n",
        "        nodoPred = self.izquierdo.maximoNodo()\n",
        "      return nodoPred\n",
        "\n",
        "    def sucesorNodo(self):#__NodoArbol|None\n",
        "      nodoSuc = None\n",
        "      if self.tieneDerecho():\n",
        "        nodoSuc = self.derecho.minimoNodo()\n",
        "      return nodoSuc"
      ],
      "metadata": {
        "id": "xDHB_QPMPeqT"
      },
      "execution_count": null,
      "outputs": []
    },
    {
      "cell_type": "code",
      "source": [
        "arbol1 = ABB()\n",
        "arbol1.insertar(70);arbol1.insertar(15);arbol1.insertar(91);arbol1.insertar(29);\n",
        "arbol1.insertar(10);arbol1.insertar(80);arbol1.insertar(12);\n",
        "arbol1.insertar(20);arbol1.insertar(14);\n",
        "arbol1.testPredSuc()"
      ],
      "metadata": {
        "colab": {
          "base_uri": "https://localhost:8080/"
        },
        "id": "dQV-ZnNOREAt",
        "outputId": "e4a97de2-054c-4772-a9d2-1ca724d78f1a"
      },
      "execution_count": null,
      "outputs": [
        {
          "output_type": "stream",
          "name": "stdout",
          "text": [
            "29\n",
            "80\n"
          ]
        }
      ]
    },
    {
      "cell_type": "code",
      "source": [
        "from ast import NodeVisitor\n",
        "class ABB(ABB):\n",
        "  def buscaPadreYlado(self, datoBusc:int)->tuple[int,str]:\n",
        "    datoPadre = None\n",
        "    ladoHijo = None\n",
        "    if not self.estaVacio():\n",
        "      datoPadre, ladoHijo = self.__raiz.buscaPadreYladoNodo(datoBusc)\n",
        "      if datoPadre != None:\n",
        "        datoPadre = datoPadre.dato\n",
        "    return datoPadre, ladoHijo\n",
        "\n",
        "  class __NodoArbol(ABB.__NodoArbol):\n",
        "    def buscaPadreYladoNodo(self, datoBusc:int):#->tuple[ABB.__NodoArbol,str]:\n",
        "      nodoPadre = None\n",
        "      ladoHijo = None\n",
        "      if datoBusc < self.dato:\n",
        "        if self.tieneIzquierdo():\n",
        "          if self.izquierdo.dato == datoBusc:\n",
        "            nodoPadre = self\n",
        "            ladoHijo = \"izq\"\n",
        "          else:\n",
        "            nodoPadre, ladoHijo = self.izquierdo.buscaPadreYladoNodo(datoBusc)\n",
        "      elif datoBusc > self.dato:\n",
        "        if self.tieneDerecho():\n",
        "          if self.derecho.dato == datoBusc:\n",
        "            nodoPadre = self\n",
        "            ladoHijo = \"der\"\n",
        "          else:\n",
        "            nodoPadre, ladoHijo = self.derecho.buscaPadreYladoNodo(datoBusc)\n",
        "      return nodoPadre, ladoHijo"
      ],
      "metadata": {
        "id": "F-0ZOt9lvpcC"
      },
      "execution_count": null,
      "outputs": []
    },
    {
      "cell_type": "code",
      "source": [
        "arbol1 = ABB()\n",
        "arbol1.insertar(70);arbol1.insertar(15);arbol1.insertar(91);arbol1.insertar(29);\n",
        "arbol1.insertar(10);arbol1.insertar(80);arbol1.insertar(12);\n",
        "arbol1.insertar(20);arbol1.insertar(14);\n",
        "print(arbol1.buscaPadreYlado(200))"
      ],
      "metadata": {
        "colab": {
          "base_uri": "https://localhost:8080/"
        },
        "id": "AyRx9bb1x4cR",
        "outputId": "e8a81d10-9869-4a20-c718-c40bd24c3d37"
      },
      "execution_count": null,
      "outputs": [
        {
          "output_type": "stream",
          "name": "stdout",
          "text": [
            "(None, None)\n"
          ]
        }
      ]
    },
    {
      "cell_type": "code",
      "source": [
        "class ABB(ABB):\n",
        "  def eliminar(self, datoDel:int)->None:\n",
        "    if not self.estaVacio():\n",
        "      if self.__raiz.dato == datoDel:\n",
        "        reemplazo = self.__raiz.predecesorNodo()\n",
        "        if reemplazo == None:\n",
        "          reemplazo = self.__raiz.sucesorNodo()\n",
        "        if reemplazo != None:\n",
        "          self.__raiz.eliminarNodo(reemplazo.dato)\n",
        "          reemplazo.izquierdo = self.__raiz.izquierdo\n",
        "          reemplazo.derecho = self.__raiz.derecho\n",
        "        self.__raiz = reemplazo\n",
        "      else:\n",
        "        self.__raiz.eliminarNodo(datoDel)\n",
        "\n",
        "  class __NodoArbol(ABB.__NodoArbol):\n",
        "    def eliminarNodo(self, datoDel:int)->None:\n",
        "      nodoPadre, ladoHijo = self.buscaPadreYladoNodo(datoDel)\n",
        "      if ladoHijo == \"izq\":\n",
        "        nodoAeliminar = nodoPadre.izquierdo\n",
        "      else:\n",
        "        nodoAeliminar = nodoPadre.derecho\n",
        "      reemplazo = nodoAeliminar.predecesorNodo()\n",
        "      if reemplazo == None:\n",
        "        reemplazo = nodoAeliminar.sucesorNodo()\n",
        "      if reemplazo != None:\n",
        "        nodoPadre.eliminarNodo(reemplazo.dato)\n",
        "        reemplazo.izquierdo = nodoAeliminar.izquierdo\n",
        "        reemplazo.derecho = nodoAeliminar.derecho\n",
        "      if ladoHijo == \"izq\":\n",
        "        nodoPadre.izquierdo = reemplazo\n",
        "      else:\n",
        "        nodoPadre.derecho = reemplazo"
      ],
      "metadata": {
        "id": "xSXTloVM0Ecg"
      },
      "execution_count": null,
      "outputs": []
    },
    {
      "cell_type": "code",
      "source": [
        "arbol1 = ABB()\n",
        "arbol1.insertar(70);arbol1.insertar(15);arbol1.insertar(91);arbol1.insertar(29);\n",
        "arbol1.insertar(10);arbol1.insertar(80);arbol1.insertar(12);\n",
        "arbol1.insertar(20);arbol1.insertar(14);\n",
        "print(arbol1.eliminar(70))\n",
        "arbol1.treePlot(\"despues\")\n",
        "print(arbol1.eliminar(14))\n",
        "arbol1.treePlot(\"despues2\")\n",
        "print(arbol1.eliminar(15))\n",
        "arbol1.treePlot(\"despues3\")\n",
        "print(arbol1.eliminar(91))\n",
        "arbol1.treePlot(\"despues4\")"
      ],
      "metadata": {
        "colab": {
          "base_uri": "https://localhost:8080/"
        },
        "id": "Vdbpz0oX6MrX",
        "outputId": "944852af-f38d-4842-a3ba-66405dee13dc"
      },
      "execution_count": null,
      "outputs": [
        {
          "output_type": "stream",
          "name": "stdout",
          "text": [
            "None\n",
            "None\n",
            "None\n",
            "None\n"
          ]
        }
      ]
    },
    {
      "cell_type": "markdown",
      "metadata": {
        "id": "ZCanLcfoJ9_q"
      },
      "source": [
        "### **Ejercicio 2**\n",
        "\n",
        "Escribir una operación del TDA ABB que calcule la cantidad de hojas de un árbol."
      ]
    },
    {
      "cell_type": "code",
      "metadata": {
        "id": "b7fX-u09J-Wo",
        "collapsed": true
      },
      "source": [],
      "execution_count": null,
      "outputs": []
    },
    {
      "cell_type": "markdown",
      "metadata": {
        "id": "2pUdWEUPKNB6"
      },
      "source": [
        "### **Ejercicio 3**\n",
        "\n",
        "Escribir una operación del TDA ABB que muestre los elementos que estan en el nivel N de un ABB, el nivel se recibe por parámetro."
      ]
    },
    {
      "cell_type": "code",
      "source": [],
      "metadata": {
        "id": "Lm-4AqD5ydn1"
      },
      "execution_count": null,
      "outputs": []
    },
    {
      "cell_type": "markdown",
      "metadata": {
        "id": "u7elWMBPLrV8"
      },
      "source": [
        "### **Ejercicio 4**\n",
        "\n",
        "Se define por frontera de un árbol, la secuencia formada por los elementos almacenados en las hojas de un árbol, tomados de izquierda a derecha. Escribir una operación del TDA ABB, que imprima por pantalla la frontera del árbol."
      ]
    },
    {
      "cell_type": "code",
      "metadata": {
        "id": "FqtG8OIELyP_"
      },
      "source": [],
      "execution_count": null,
      "outputs": []
    },
    {
      "cell_type": "markdown",
      "metadata": {
        "id": "lAqDC6LPL4dS"
      },
      "source": [
        "### **Ejercicio 5**\n",
        "\n",
        "Escribir una operación del TDA ABB que retorne una lista ordenada (de menor a mayor) con todos los números pares que forman parte del árbol."
      ]
    },
    {
      "cell_type": "code",
      "source": [
        "class ABB(ABB):\n",
        "  def listaDePares(self)->list:\n",
        "    listaPares = []\n",
        "    if not self.estaVacio():\n",
        "      self.__raiz.listaDeParesNodo(listaPares)\n",
        "    return listaPares\n",
        "\n",
        "  class __NodoArbol(ABB.__NodoArbol):\n",
        "    def listaDeParesNodo(self, lista:list)->None:\n",
        "      if self.tieneIzquierdo():\n",
        "        self.izquierdo.listaDeParesNodo(lista)\n",
        "      if self.dato %2 == 0:\n",
        "        lista.append(self.dato)\n",
        "      if self.tieneDerecho():\n",
        "        self.derecho.listaDeParesNodo(lista)"
      ],
      "metadata": {
        "id": "KUaLK45syemt"
      },
      "execution_count": null,
      "outputs": []
    },
    {
      "cell_type": "code",
      "source": [
        "arbol1 = ABB()\n",
        "arbol1.insertar(70);arbol1.insertar(15);arbol1.insertar(91);arbol1.insertar(29);\n",
        "arbol1.insertar(10);arbol1.insertar(80);arbol1.insertar(2);arbol1.insertar(12);\n",
        "arbol1.insertar(20);arbol1.insertar(14);\n",
        "print(arbol1.listaDePares())"
      ],
      "metadata": {
        "colab": {
          "base_uri": "https://localhost:8080/"
        },
        "id": "eS0c970sUWZY",
        "outputId": "8a4e68ae-7991-4be8-e143-b9ce8947162d"
      },
      "execution_count": null,
      "outputs": [
        {
          "output_type": "stream",
          "name": "stdout",
          "text": [
            "[2, 10, 12, 14, 20, 70, 80]\n"
          ]
        }
      ]
    },
    {
      "cell_type": "code",
      "source": [
        "class ABB(ABB):\n",
        "  def listaOrdenadaPares(self)->list:\n",
        "    listaPares = []\n",
        "    if not self.estaVacio():\n",
        "      listaPares = self.__raiz.listaOrdenadaParesNodo()\n",
        "    return listaPares\n",
        "\n",
        "  class _NodoArbol(ABB.__NodoArbol):\n",
        "    def listaOrdenadaParesNodos(self):\n",
        "      listaNodos = []\n",
        "      if self.tieneIzquierdo():\n",
        "        listaNodos = self.izquierdo.listaOrdenadaParesNodos()\n",
        "      if self.dato %2== 0:\n",
        "        listaNodos.append(self.dato)\n",
        "      if self.tieneDerecho():\n",
        "        listaNodos += self.derecho.listaOrdenadaParesNodos()\n",
        "      return listaNodos"
      ],
      "metadata": {
        "id": "Jmg5VdEaWL5k"
      },
      "execution_count": null,
      "outputs": []
    },
    {
      "cell_type": "code",
      "source": [
        "l1 = [2,1]\n",
        "l2 = [5,7]\n",
        "l1 += l2\n",
        "print(l1)"
      ],
      "metadata": {
        "colab": {
          "base_uri": "https://localhost:8080/"
        },
        "id": "pBynldH4Wp8B",
        "outputId": "b9ba991b-f07f-4537-8031-7f670d110f32"
      },
      "execution_count": null,
      "outputs": [
        {
          "output_type": "stream",
          "name": "stdout",
          "text": [
            "[2, 1, 5, 7]\n"
          ]
        }
      ]
    },
    {
      "cell_type": "markdown",
      "metadata": {
        "id": "MH98-7dgNRNe"
      },
      "source": [
        "### **Ejercicio 6**\n",
        "\n",
        "Escribir una operación del TDA ABB, que rote el árbol completo, es decir, los elementos del subárbol izquierdo deben ser mayores a la raíz y los del subárbol derecho menores (para todos los nodos del arbol). No se debe retornar un nuevo arbol, sino modificar el arbol desde el que se llama a la operación."
      ]
    },
    {
      "cell_type": "code",
      "source": [],
      "metadata": {
        "id": "z-MCCrLGyfm0"
      },
      "execution_count": null,
      "outputs": []
    },
    {
      "cell_type": "markdown",
      "source": [
        "### **Ejercicio 7**\n",
        "\n",
        "Escribir una operación del TDA ABB llamada **cantidadNodosEnNivel** que retorna la cantidad de nodos del arbol en un nivel determinado"
      ],
      "metadata": {
        "id": "DA9MfYHSrPEM"
      }
    },
    {
      "cell_type": "code",
      "source": [],
      "metadata": {
        "id": "JAJAgEIYrjsa"
      },
      "execution_count": null,
      "outputs": []
    }
  ]
}
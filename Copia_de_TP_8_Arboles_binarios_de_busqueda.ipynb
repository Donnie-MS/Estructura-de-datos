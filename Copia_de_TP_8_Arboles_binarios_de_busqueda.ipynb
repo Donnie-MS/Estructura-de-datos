{
  "nbformat": 4,
  "nbformat_minor": 0,
  "metadata": {
    "colab": {
      "provenance": []
    },
    "kernelspec": {
      "name": "python3",
      "display_name": "Python 3"
    }
  },
  "cells": [
    {
      "cell_type": "markdown",
      "metadata": {
        "id": "42630xxYD0gZ"
      },
      "source": [
        "# ![alt text](https://upload.wikimedia.org/wikipedia/commons/thumb/c/c3/Python-logo-notext.svg/50px-Python-logo-notext.svg.png) **Trabajo Práctico 8: Árboles binarios de búsqueda** ![alt text](https://upload.wikimedia.org/wikipedia/commons/thumb/c/c3/Python-logo-notext.svg/50px-Python-logo-notext.svg.png)\n",
        "\n",
        "En este trabajo práctico, vamos a trabajar con las estructuras de datos **Árbol binario de búsqueda** en Python. Para esta guía, los datos que guardaremos en los nodos son números enteros. Recuerden crear una copia de este archivo en su ***Google Drive*** para tener permisos de edición.\n",
        "\n",
        "### Sergio: **sergio.gonzalez@unahur.edu.ar**"
      ]
    },
    {
      "cell_type": "code",
      "source": [
        "\"\"\"\n",
        "prohibido tener padres multiples\n",
        "grafo aciclico todo conectado = arbol\n",
        "los arboles no tienen conexiones multiples\n",
        "grado de un nodo es la cantidade subhijos arboles\n",
        "altura de un nodo se mide hacia abajo\n",
        "y la profundida hacia arriba osea hacia la raiz\n",
        "nivel y profundidad son lo mismo\n",
        "arbol binario solo tiene 2 hijos\n",
        "binario de busqueda:\n",
        "izquierda : elementos menores que x / derecha : elementos mayores que x\n",
        "no aceptan repetidos en binario de busqueda arboles\n",
        "\n",
        "\"\"\""
      ],
      "metadata": {
        "id": "7m0-EBPXkju6"
      },
      "execution_count": null,
      "outputs": []
    },
    {
      "cell_type": "markdown",
      "metadata": {
        "id": "xjXgmD3mskbR"
      },
      "source": [
        "### **Ejercicio 1**\n",
        "\n",
        "Implementar el TDA Árbol binario de búsqueda, con las siguientes operaciones:\n",
        "\n",
        "En el Tipo NodoArbol:\n",
        "- **\\_\\_init__():** Constructor.\n",
        "- **Tiene hijo izquierdo**.\n",
        "- **Tiene hijo derecho**.\n",
        "- **Obtener grado**.\n",
        "- **Es hoja**.\n",
        "- **Predecesor de un nodo**: Retorna el nodo predecesor.\n",
        "- **Sucesor de un nodo**: Retorna el nodo sucesor.\n",
        "- **Altura de un nodo**: Retorna el largo de la trayectoria hasta la hoja mas lejana\n",
        "\n",
        "En el Tipo ABB:\n",
        "- **\\_\\_init__():** Constructor.\n",
        "- **Vaciar**.\n",
        "- **Esta vacio**.\n",
        "- **Mostrar elementos en PreOrden**.\n",
        "- **Mostrar elementos en InOrden:** Prueben que pasa si en lugar de ir primero al subarbol izquierdo y luego al subarbol derecho, van primero al derecho y luego al izquierdo.\n",
        "- **Mostrar elementos en PostOrden**.\n",
        "- **Insertar elemento:** Inserta nuevo nodo en el lugar que corresponde en el árbol con el elemento que recibe como parámetro.\n",
        "- **Buscar elemento:** Recibe un elemento y retorna *True* si el elemento esta en el árbol y *False* en caso contrario.\n",
        "- **Eliminar elemento:** Recibe un elemento y elimina el nodo que lo contiene.\n",
        "- **Clonar**.\n",
        "- **Obtener peso del arbol**.\n",
        "- **Obtener máximo del arbol**.\n",
        "- **Obtener mínimo del arbol**.\n",
        "- **Obtener profundidad del árbol:** Altura de la raíz. Deben hacer una operación que calcule la altura de un nodo (del tipo NodoArbol).\n",
        "- **Obtener profundidad de un elemento (Nivel):** Recibe un elemento y retorna su profundidad si el elemento esta en el árbol y *None* en caso contrario.\n",
        "\n",
        "\n"
      ]
    },
    {
      "cell_type": "code",
      "metadata": {
        "id": "vM50Hpx6yUDe"
      },
      "source": [
        "from graphviz import Digraph\n",
        "import copy as cp\n",
        "\n",
        "class ABB:\n",
        "  def __init__(self):\n",
        "    self.__raiz = None\n",
        "\n",
        "  def estaVacio(self)->bool:\n",
        "    return self.__raiz == None\n",
        "\n",
        "  def vaciar(self)->None:\n",
        "    self.__raiz = None\n",
        "\n",
        "  def clonar(self):\n",
        "    return cp.deepcopy(self)\n",
        "\n",
        "  def treePlot(self, fileName='arbol')->None:\n",
        "    if not self.estaVacio():\n",
        "      treeDot = Digraph()\n",
        "      treeDot.node(str(self.__raiz.dato), str(self.__raiz.dato))\n",
        "      self.__raiz.treePlot(treeDot)\n",
        "      treeDot.render(fileName, view=True)\n",
        "\n",
        "  ##################################################################\n",
        "  ##################################################################\n",
        "  class __NodoArbol:\n",
        "    def __init__(self, dato):\n",
        "      self.dato = dato\n",
        "      self.izquierdo = None\n",
        "      self.derecho = None\n",
        "\n",
        "    def tieneIzquierdo(self)->bool:\n",
        "      return self.izquierdo != None\n",
        "\n",
        "    def tieneDerecho(self)->bool:\n",
        "      return self.derecho != None\n",
        "\n",
        "    def esHoja(self) -> bool:\n",
        "        return self.grado() == 0\n",
        "\n",
        "    def treePlot(self, dot:Digraph)->None:\n",
        "      if self.tieneIzquierdo():\n",
        "        dot.node(str(self.izquierdo.dato), str(self.izquierdo.dato))\n",
        "        dot.edge(str(self.dato), str(self.izquierdo.dato))\n",
        "        self.izquierdo.treePlot(dot)\n",
        "      else:\n",
        "        dot.node(\"-\"+str(self.dato)+\"l\", \"-\")\n",
        "        dot.edge(str(self.dato), \"-\"+str(self.dato)+\"l\")\n",
        "      if self.tieneDerecho():\n",
        "        dot.node(str(self.derecho.dato), str(self.derecho.dato))\n",
        "        dot.edge(str(self.dato), str(self.derecho.dato))\n",
        "        self.derecho.treePlot(dot)\n",
        "      else:\n",
        "        dot.node(\"-\"+str(self.dato)+\"r\", \"-\")\n",
        "        dot.edge(str(self.dato), \"-\"+str(self.dato)+\"r\")"
      ],
      "execution_count": 1,
      "outputs": []
    },
    {
      "cell_type": "code",
      "source": [
        "class ABB(ABB):\n",
        "  def insertar(self, dato:int) -> None:\n",
        "      nodoNuevo = ABB.__NodoArbol(dato)\n",
        "      if self.estaVacio():\n",
        "          self.__raiz = nodoNuevo\n",
        "      else:\n",
        "          self.__raiz.insertarNodo(nodoNuevo)\n",
        "\n",
        "  class __NodoArbol(ABB.__NodoArbol):\n",
        "      def insertarNodo(self, nuevo) -> None:\n",
        "          if nuevo.dato < self.dato:\n",
        "              if not self.tieneIzquierdo():\n",
        "                  self.izquierdo = nuevo\n",
        "              else:\n",
        "                  self.izquierdo.insertarNodo(nuevo)\n",
        "          elif nuevo.dato > self.dato:\n",
        "              if not self.tieneDerecho():\n",
        "                  self.izquierdo = nuevo\n",
        "              else:\n",
        "                  self.derecho.insertarNodo(nuevo)\n",
        ""
      ],
      "metadata": {
        "id": "NWuE0bTYuhie"
      },
      "execution_count": 2,
      "outputs": []
    },
    {
      "cell_type": "code",
      "source": [
        "arbol1 = ABB()\n",
        "arbol1.insertar(70)\n",
        "arbol1.insertar(70)\n",
        "arbol1.insertar(15)\n",
        "arbol1.insertar(91)\n",
        "arbol1.insertar(29)\n",
        "arbol1.treePlot()"
      ],
      "metadata": {
        "id": "5p3hcA_wv80g"
      },
      "execution_count": 3,
      "outputs": []
    },
    {
      "cell_type": "code",
      "source": [
        "class ABB(ABB):\n",
        "  def imprimirPreOrden(self) -> None:\n",
        "      if not self.estaVacio():\n",
        "          self.__raiz.imprimirPreOrdenNodo()\n",
        "  class __NodoArbol(ABB.__NodoArbol):\n",
        "      def imprimirPreOrdenNodo(self) -> None:\n",
        "        print(self.dato)\n",
        "        if self.tieneIzquierdo():\n",
        "            self.izquierdo.imprimirPreOrdenNodo()\n",
        "        if self.tieneDerecho():\n",
        "            self.derecho.imprimirPreOrdenNodo()\n",
        "#70,15,10,29,91,80"
      ],
      "metadata": {
        "id": "S96XCRCawybC"
      },
      "execution_count": null,
      "outputs": []
    },
    {
      "cell_type": "code",
      "source": [
        "class ABB(ABB):\n",
        "  def imprimirPostOrden(self) -> None:\n",
        "      if not self.estaVacio():\n",
        "          self.__raiz.imprimirPostOrdenNodo()\n",
        "  class __NodoArbol(ABB.__NodoArbol):\n",
        "      def imprimirPostOrdenNodo(self) -> None:\n",
        "          if self.tieneIzquierdo():\n",
        "              self.izquierdo.imprimirPostOrdenNodo()\n",
        "          if self.tieneDerecho():\n",
        "              self.derecho.imprimirPostOrdenNodo()\n",
        "          print(self.dato)\n",
        "#10,29,15,80,91,70"
      ],
      "metadata": {
        "id": "IeEP5CWHylKb"
      },
      "execution_count": null,
      "outputs": []
    },
    {
      "cell_type": "code",
      "source": [
        "class ABB(ABB):\n",
        "  def imprimirInOrden(self) -> None:\n",
        "      if not self.estaVacio():\n",
        "          self.__raiz.imprimirInOrdenNodo()\n",
        "  class __NodoArbol(ABB.__NodoArbol):\n",
        "      def imprimirInOrdenNodo(self) -> None:\n",
        "          if self.tieneIzquierdo():\n",
        "              self.izquierdo.imprimirInOrdenNodo()\n",
        "          print(self.dato)\n",
        "          if self.tieneDerecho():\n",
        "              self.derecho.imprimirInOrdenNodo()\n",
        "#10,15,29,70,80,91 de menor a mayor\n",
        "arbol1 = ABB()\n",
        "arbol1.insertar(70)\n",
        "arbol1.insertar(70)\n",
        "arbol1.insertar(15)\n",
        "arbol1.insertar(91)\n",
        "print(arbol1.imprimirInOrden())"
      ],
      "metadata": {
        "colab": {
          "base_uri": "https://localhost:8080/"
        },
        "id": "dxGch8ru0dYX",
        "outputId": "fa7916b6-6588-44e3-fd72-1c483f4c4906"
      },
      "execution_count": 14,
      "outputs": [
        {
          "output_type": "stream",
          "name": "stdout",
          "text": [
            "91\n",
            "70\n",
            "None\n"
          ]
        }
      ]
    },
    {
      "cell_type": "code",
      "source": [
        "class ABB(ABB):\n",
        "  def calcularGrado(self) -> None:\n",
        "      if not self.estaVacio():\n",
        "          self.__raiz.calcularGradoDeNodo()\n",
        "  class __NodoArbol(ABB.__NodoArbol):\n",
        "      def calcularGradoDeNodo(self) -> None:\n",
        "          grado1 = 0\n",
        "          grado2 = 0\n",
        "          resultado = nroMayor(grado1, grado2)\n",
        "          if self.tieneIzquierdo():\n",
        "              grado1 += 1\n",
        "              self.izquierdo.calcularGradoDeNodo()\n",
        "\n",
        "          if self.tieneDerecho():\n",
        "              grado2 +=1\n",
        "              self.derecho.calcularGradoDeNodo()\n",
        "\n",
        "          return resultado\n",
        "\n",
        "def nroMayor(num1, num2) :\n",
        "    resultado = num1\n",
        "    if num2 > num1:\n",
        "        resultado = num2\n",
        "    return resultado\n",
        "\n",
        "arbol2 = ABB()\n",
        "arbol2.insertar(70)\n",
        "arbol2.insertar(70)\n",
        "arbol2.insertar(15)\n",
        "arbol2.insertar(91)\n",
        "print(arbol2.calcularGradoDeNodo())\n",
        "print(arbol2)"
      ],
      "metadata": {
        "colab": {
          "base_uri": "https://localhost:8080/",
          "height": 193
        },
        "id": "0YNS4-PS2bDY",
        "outputId": "34c330e2-cb8c-401a-b0e3-ad0ae6625ddd"
      },
      "execution_count": 19,
      "outputs": [
        {
          "output_type": "error",
          "ename": "AttributeError",
          "evalue": "'ABB' object has no attribute 'calcularGradoDeNodo'",
          "traceback": [
            "\u001b[0;31m---------------------------------------------------------------------------\u001b[0m",
            "\u001b[0;31mAttributeError\u001b[0m                            Traceback (most recent call last)",
            "\u001b[0;32m<ipython-input-19-f0896b4d4bc4>\u001b[0m in \u001b[0;36m<cell line: 0>\u001b[0;34m()\u001b[0m\n\u001b[1;32m     29\u001b[0m \u001b[0marbol2\u001b[0m\u001b[0;34m.\u001b[0m\u001b[0minsertar\u001b[0m\u001b[0;34m(\u001b[0m\u001b[0;36m15\u001b[0m\u001b[0;34m)\u001b[0m\u001b[0;34m\u001b[0m\u001b[0;34m\u001b[0m\u001b[0m\n\u001b[1;32m     30\u001b[0m \u001b[0marbol2\u001b[0m\u001b[0;34m.\u001b[0m\u001b[0minsertar\u001b[0m\u001b[0;34m(\u001b[0m\u001b[0;36m91\u001b[0m\u001b[0;34m)\u001b[0m\u001b[0;34m\u001b[0m\u001b[0;34m\u001b[0m\u001b[0m\n\u001b[0;32m---> 31\u001b[0;31m \u001b[0mprint\u001b[0m\u001b[0;34m(\u001b[0m\u001b[0marbol2\u001b[0m\u001b[0;34m.\u001b[0m\u001b[0mcalcularGradoDeNodo\u001b[0m\u001b[0;34m(\u001b[0m\u001b[0;34m)\u001b[0m\u001b[0;34m)\u001b[0m\u001b[0;34m\u001b[0m\u001b[0;34m\u001b[0m\u001b[0m\n\u001b[0m\u001b[1;32m     32\u001b[0m \u001b[0mprint\u001b[0m\u001b[0;34m(\u001b[0m\u001b[0marbol2\u001b[0m\u001b[0;34m)\u001b[0m\u001b[0;34m\u001b[0m\u001b[0;34m\u001b[0m\u001b[0m\n",
            "\u001b[0;31mAttributeError\u001b[0m: 'ABB' object has no attribute 'calcularGradoDeNodo'"
          ]
        }
      ]
    },
    {
      "cell_type": "code",
      "source": [
        "class ABB(ABB):\n",
        "    def peso(self) -> int:\n",
        "        cantNodos = 0\n",
        "        if not self.estaVacio():\n",
        "            cantNodos = self.__raiz.pesoNodo()\n",
        "        return cantNodos\n",
        "    class __NodoArbol(ABB.__NodoArbol):\n",
        "        def pesoNodo(self) -> int:\n",
        "            cantNodos = 1\n",
        "            if self.tieneIzquierdo():\n",
        "              cantNodos += self.izquierdo.pesoNodo()\n",
        "            if self.tieneDerecho():\n",
        "              cantNodos += self.derecho.pesoNodo()\n",
        "            return cantNodos"
      ],
      "metadata": {
        "id": "Ae09wXGG5hxj"
      },
      "execution_count": null,
      "outputs": []
    },
    {
      "cell_type": "markdown",
      "metadata": {
        "id": "ZCanLcfoJ9_q"
      },
      "source": [
        "### **Ejercicio 2**\n",
        "\n",
        "Escribir una operación del TDA ABB que calcule la cantidad de hojas de un árbol."
      ]
    },
    {
      "cell_type": "code",
      "metadata": {
        "id": "b7fX-u09J-Wo",
        "collapsed": true
      },
      "source": [],
      "execution_count": null,
      "outputs": []
    },
    {
      "cell_type": "markdown",
      "metadata": {
        "id": "2pUdWEUPKNB6"
      },
      "source": [
        "### **Ejercicio 3**\n",
        "\n",
        "Escribir una operación del TDA ABB que muestre los elementos que estan en el nivel N de un ABB, el nivel se recibe por parámetro."
      ]
    },
    {
      "cell_type": "code",
      "source": [],
      "metadata": {
        "id": "Lm-4AqD5ydn1"
      },
      "execution_count": null,
      "outputs": []
    },
    {
      "cell_type": "markdown",
      "metadata": {
        "id": "u7elWMBPLrV8"
      },
      "source": [
        "### **Ejercicio 4**\n",
        "\n",
        "Se define por frontera de un árbol, la secuencia formada por los elementos almacenados en las hojas de un árbol, tomados de izquierda a derecha. Escribir una operación del TDA ABB, que imprima por pantalla la frontera del árbol."
      ]
    },
    {
      "cell_type": "code",
      "metadata": {
        "id": "FqtG8OIELyP_"
      },
      "source": [],
      "execution_count": null,
      "outputs": []
    },
    {
      "cell_type": "markdown",
      "metadata": {
        "id": "lAqDC6LPL4dS"
      },
      "source": [
        "### **Ejercicio 5**\n",
        "\n",
        "Escribir una operación del TDA ABB que retorne una lista ordenada (de menor a mayor) con todos los números pares que forman parte del árbol."
      ]
    },
    {
      "cell_type": "code",
      "source": [],
      "metadata": {
        "id": "KUaLK45syemt"
      },
      "execution_count": null,
      "outputs": []
    },
    {
      "cell_type": "markdown",
      "metadata": {
        "id": "MH98-7dgNRNe"
      },
      "source": [
        "### **Ejercicio 6**\n",
        "\n",
        "Escribir una operación del TDA ABB, que rote el árbol completo, es decir, los elementos del subárbol izquierdo deben ser mayores a la raíz y los del subárbol derecho menores (para todos los nodos del arbol). No se debe retornar un nuevo arbol, sino modificar el arbol desde el que se llama a la operación."
      ]
    },
    {
      "cell_type": "code",
      "source": [],
      "metadata": {
        "id": "z-MCCrLGyfm0"
      },
      "execution_count": null,
      "outputs": []
    },
    {
      "cell_type": "markdown",
      "source": [
        "### **Ejercicio 7**\n",
        "\n",
        "Escribir una operación del TDA ABB llamada **cantidadNodosEnNivel** que retorna la cantidad de nodos del arbol en un nivel determinado"
      ],
      "metadata": {
        "id": "DA9MfYHSrPEM"
      }
    },
    {
      "cell_type": "code",
      "source": [],
      "metadata": {
        "id": "JAJAgEIYrjsa"
      },
      "execution_count": null,
      "outputs": []
    }
  ]
}
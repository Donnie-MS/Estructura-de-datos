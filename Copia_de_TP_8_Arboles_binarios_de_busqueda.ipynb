{
  "nbformat": 4,
  "nbformat_minor": 0,
  "metadata": {
    "colab": {
      "provenance": []
    },
    "kernelspec": {
      "name": "python3",
      "display_name": "Python 3"
    }
  },
  "cells": [
    {
      "cell_type": "markdown",
      "metadata": {
        "id": "42630xxYD0gZ"
      },
      "source": [
        "# ![alt text](https://upload.wikimedia.org/wikipedia/commons/thumb/c/c3/Python-logo-notext.svg/50px-Python-logo-notext.svg.png) **Trabajo Práctico 8: Árboles binarios de búsqueda** ![alt text](https://upload.wikimedia.org/wikipedia/commons/thumb/c/c3/Python-logo-notext.svg/50px-Python-logo-notext.svg.png)\n",
        "\n",
        "En este trabajo práctico, vamos a trabajar con las estructuras de datos **Árbol binario de búsqueda** en Python. Para esta guía, los datos que guardaremos en los nodos son números enteros. Recuerden crear una copia de este archivo en su ***Google Drive*** para tener permisos de edición.\n",
        "\n",
        "### Sergio: **sergio.gonzalez@unahur.edu.ar**"
      ]
    },
    {
      "cell_type": "markdown",
      "metadata": {
        "id": "xjXgmD3mskbR"
      },
      "source": [
        "### **Ejercicio 1**\n",
        "\n",
        "Implementar el TDA Árbol binario de búsqueda, con las siguientes operaciones:\n",
        "\n",
        "En el Tipo NodoArbol:\n",
        "- **\\_\\_init__():** Constructor.\n",
        "- **Tiene hijo izquierdo**.\n",
        "- **Tiene hijo derecho**.\n",
        "- **Obtener grado**.\n",
        "- **Es hoja**.\n",
        "- **Predecesor de un nodo**: Retorna el nodo predecesor.\n",
        "- **Sucesor de un nodo**: Retorna el nodo sucesor.\n",
        "- **Altura de un nodo**: Retorna el largo de la trayectoria hasta la hoja mas lejana\n",
        "\n",
        "En el Tipo ABB:\n",
        "- **\\_\\_init__():** Constructor.\n",
        "- **Vaciar**.\n",
        "- **Esta vacio**.\n",
        "- **Mostrar elementos en PreOrden**.\n",
        "- **Mostrar elementos en InOrden:** Prueben que pasa si en lugar de ir primero al subarbol izquierdo y luego al subarbol derecho, van primero al derecho y luego al izquierdo.\n",
        "- **Mostrar elementos en PostOrden**.\n",
        "- **Insertar elemento:** Inserta nuevo nodo en el lugar que corresponde en el árbol con el elemento que recibe como parámetro.\n",
        "- **Buscar elemento:** Recibe un elemento y retorna *True* si el elemento esta en el árbol y *False* en caso contrario.\n",
        "- **Eliminar elemento:** Recibe un elemento y elimina el nodo que lo contiene.\n",
        "- **Clonar**.\n",
        "- **Obtener peso del arbol**.\n",
        "- **Obtener máximo del arbol**.\n",
        "- **Obtener mínimo del arbol**.\n",
        "- **Obtener profundidad del árbol:** Altura de la raíz. Deben hacer una operación que calcule la altura de un nodo (del tipo NodoArbol).\n",
        "- **Obtener profundidad de un elemento (Nivel):** Recibe un elemento y retorna su profundidad si el elemento esta en el árbol y *None* en caso contrario.\n",
        "\n",
        "\n"
      ]
    },
    {
      "cell_type": "code",
      "source": [
        "import copy\n",
        "class ABB:\n",
        "  def __init__(self):\n",
        "    self.__raiz = None\n",
        "\n",
        "  def vaciar(self):\n",
        "    self.__raiz = None\n",
        "\n",
        "  def estaVacio(self):\n",
        "    return self.__raiz == None\n",
        "\n",
        "  def clonar(self):\n",
        "    return copy.deepcopy(self)\n",
        "\n",
        "  def treePlot(self, fileName='arbol')->None: # Cremos un método para plotear el árbol\n",
        "    if not self.estaVacio(): # Si no está vacío:\n",
        "      treeDot = Digraph() # Instanciamos un objeto Digraph() vacío\n",
        "      treeDot.node(str(self.__raiz.dato), str(self.__raiz.dato)) # Le pasamos el nodo raiz (el nombre del nodo coincide con el dato almacenado)\n",
        "      # https://networkx.org/documentation/stable/reference/classes/digraph.html siempre es bueno revisar la documentación si no entendemos algo\n",
        "      self.__raiz.treePlot(treeDot) # Ahora para completar los nodos que nos faltan usamos treePlt pero SOBRE RAÍZ, es decir que es un método de NODO, no de árbol\n",
        "      treeDot.render(fileName, view=True) # Finalmente renderizamos la imagen del árbol\n",
        "\n",
        "  class __NodoArbol:\n",
        "\n",
        "    def __init__(self, dato):\n",
        "      self.dato = dato\n",
        "      self.izquierdo = None\n",
        "      self.derecho = None\n",
        "\n",
        "    def tieneIzquierdo(self)-> bool:\n",
        "      return self.izquierdo != None\n",
        "\n",
        "    def tieneDerecho(self) -> bool:\n",
        "      return self.derecho != None\n",
        "\n",
        "    def grado(self) -> int:\n",
        "      gradoActual = 0\n",
        "      if self.tieneIzquierdo(): gradoActual += 1\n",
        "      if self.tieneDerecho(): gradoActual += 1\n",
        "      return gradoActual\n",
        "\n",
        "    def esHoja(self) -> bool:\n",
        "      return self.grado == 0\n",
        "\n",
        "    def treePlot(self, dot:Digraph)->None: # Esta función treePlot es A NIVEL NODO, esa diferecnia tiene con treePlot a nivel ÁRBOL\n",
        "      if self.tieneIzquierdo(): # Si tiene izquierdo:\n",
        "        dot.node(str(self.izquierdo.dato), str(self.izquierdo.dato)) # Agrego un nodo al gráfico (el que corresponde al izquierdo)\n",
        "        dot.edge(str(self.dato), str(self.izquierdo.dato)) # Armo una conexión entre el nodo (self) y su izquierdo (self.izquierdo)\n",
        "        self.izquierdo.treePlot(dot) # Hago un llamado recursivo sobre izquierdo, esto validará si izquierdo tiene hijos y así hará la vuelta recursiva\n",
        "      else: #sino, es decir, no tiene izquierdo\n",
        "        dot.node(\"-\"+str(self.dato)+\"l\", \"-\") # Creo un nodo ficticio para ilustrar en el gráfico que no hay derecho (por eso la L (left))\n",
        "        dot.edge(str(self.dato), \"-\"+str(self.dato)+\"l\") # Creo la conexión enter self y ese nodo ficticio\n",
        "      if self.tieneDerecho(): # Para el lado derecho es totalmente análogo cada paso\n",
        "        dot.node(str(self.derecho.dato), str(self.derecho.dato))\n",
        "        dot.edge(str(self.dato), str(self.derecho.dato))\n",
        "        self.derecho.treePlot(dot)\n",
        "      else:\n",
        "        dot.node(\"-\"+str(self.dato)+\"r\", \"-\")\n",
        "        dot.edge(str(self.dato), \"-\"+str(self.dato)+\"r\")"
      ],
      "metadata": {
        "id": "aecotA0MoPOS"
      },
      "execution_count": null,
      "outputs": []
    },
    {
      "cell_type": "code",
      "metadata": {
        "id": "vM50Hpx6yUDe"
      },
      "source": [
        "class ABB(ABB):\n",
        "  def insertar(self, dato:int) -> None:\n",
        "    nuevoNodo = ABB.__NodoArbol(dato)\n",
        "    if not self.estaVacio():\n",
        "      self.__raiz.insertarNodo(nuevoNodo)\n",
        "    else:\n",
        "      self.__raiz = nuevoNodo\n",
        "\n",
        "  class __NodoArbol(ABB.__NodoArbol):\n",
        "    def insertarNodo(self, nuevoNodo):\n",
        "      if nuevoNodo.dato < self.dato:\n",
        "        if self.tieneIzquierdo():\n",
        "          self.izquierdo.insertarNodo(nuevoNodo)\n",
        "        else:\n",
        "          self.izquierdo = nuevoNodo\n",
        "      elif nuevoNodo.dato > self.dato:\n",
        "        if self.tieneDerecho():\n",
        "          self.derecho.insertarNodo(nuevoNodo)\n",
        "        else:\n",
        "          self.derecho = nuevoNodo\n",
        "      else:\n",
        "        print(\"El dato que pasaste esta repetido\")"
      ],
      "execution_count": null,
      "outputs": []
    },
    {
      "cell_type": "code",
      "source": [
        "class ABB(ABB):\n",
        "  def mostrarPreOrden(self):\n",
        "    if not self.estaVacio():\n",
        "      self.__raiz.mostrarPreOrdenNodo()\n",
        "  class ABB(ABB.__NodoArbol):\n",
        "    def mostrarPreOrdenNodo(self):\n",
        "      print(self.dato)\n",
        "      if self.tieneIzquierdo():\n",
        "        self.izquierdo.mostrarPreOrdenNodo()\n",
        "      if self.tieneDerecho():\n",
        "        self.derecho.mostrarPreOrdenNodo()"
      ],
      "metadata": {
        "id": "1SgNKGro5jQ6"
      },
      "execution_count": null,
      "outputs": []
    },
    {
      "cell_type": "code",
      "source": [
        "class ABB(ABB):\n",
        "  def mostrarInOrden(self):\n",
        "    if not self.estaVacio():\n",
        "      self.__raiz.mostrarInOrdenNodo()\n",
        "  class __NodoArbol(ABB.__NodoArbol):\n",
        "    def mostrarInOrden(self):\n",
        "      if self.tieneIzquierdo():\n",
        "        self.izquierdo.mostrarInOrden()\n",
        "      print(self.dato)\n",
        "      if self.tieneDerecho():\n",
        "        self.derecho.mostrarInOrden()"
      ],
      "metadata": {
        "id": "Q8NUWnqZ7h1i"
      },
      "execution_count": null,
      "outputs": []
    },
    {
      "cell_type": "code",
      "source": [
        "class ABB(ABB):\n",
        "  def mostrarPostOrden(self):\n",
        "    if not self.estaVacio():\n",
        "      self.__raiz.mostrarPostOrdenNodo()\n",
        "\n",
        "  class __NodoArbol(ABB.__NodoArbol):\n",
        "    def mostrarPostOrdenNodo(self):\n",
        "      if self.tieneIzquierdo():\n",
        "        self.izquierdo.mostrarPostOrdenNodo()\n",
        "      if self.tieneDerecho():\n",
        "        self.derecho.mostrarPostOrdenNodo()\n",
        "      print(self.dato)"
      ],
      "metadata": {
        "id": "go8L7Fh19wsH"
      },
      "execution_count": null,
      "outputs": []
    },
    {
      "cell_type": "code",
      "source": [
        "class ABB(ABB):\n",
        "  def peso(self) -> int:\n",
        "    pesoTotal = 0\n",
        "    if not self.estaVacia():\n",
        "      pesoTotal = self.__raiz.pesoNodo()\n",
        "    return pesoTotal\n",
        "  class __NodoArbol(ABB.__NodoArbol):\n",
        "    def pesoNodo(self) -> int:\n",
        "      pesoTotal = 1\n",
        "      if self.tieneIzquierdo():\n",
        "        pesoTotal += self.izquierdo.pesoNodo()\n",
        "      if self.tieneDerecho():\n",
        "        pesoTotal += self.derecho.pesoNodo()\n",
        "      return pesoTotal"
      ],
      "metadata": {
        "id": "gitB9jF_KhHG"
      },
      "execution_count": null,
      "outputs": []
    },
    {
      "cell_type": "markdown",
      "metadata": {
        "id": "ZCanLcfoJ9_q"
      },
      "source": [
        "### **Ejercicio 2**\n",
        "\n",
        "Escribir una operación del TDA ABB que calcule la cantidad de hojas de un árbol."
      ]
    },
    {
      "cell_type": "code",
      "metadata": {
        "id": "b7fX-u09J-Wo",
        "collapsed": true
      },
      "source": [],
      "execution_count": null,
      "outputs": []
    },
    {
      "cell_type": "markdown",
      "metadata": {
        "id": "2pUdWEUPKNB6"
      },
      "source": [
        "### **Ejercicio 3**\n",
        "\n",
        "Escribir una operación del TDA ABB que muestre los elementos que estan en el nivel N de un ABB, el nivel se recibe por parámetro."
      ]
    },
    {
      "cell_type": "code",
      "source": [],
      "metadata": {
        "id": "Lm-4AqD5ydn1"
      },
      "execution_count": null,
      "outputs": []
    },
    {
      "cell_type": "markdown",
      "metadata": {
        "id": "u7elWMBPLrV8"
      },
      "source": [
        "### **Ejercicio 4**\n",
        "\n",
        "Se define por frontera de un árbol, la secuencia formada por los elementos almacenados en las hojas de un árbol, tomados de izquierda a derecha. Escribir una operación del TDA ABB, que imprima por pantalla la frontera del árbol."
      ]
    },
    {
      "cell_type": "code",
      "metadata": {
        "id": "FqtG8OIELyP_"
      },
      "source": [],
      "execution_count": null,
      "outputs": []
    },
    {
      "cell_type": "markdown",
      "metadata": {
        "id": "lAqDC6LPL4dS"
      },
      "source": [
        "### **Ejercicio 5**\n",
        "\n",
        "Escribir una operación del TDA ABB que retorne una lista ordenada (de menor a mayor) con todos los números pares que forman parte del árbol."
      ]
    },
    {
      "cell_type": "code",
      "source": [
        "class ABB(ABB):\n",
        "  def listaDePares(self)->list:\n",
        "    listaPares = []\n",
        "    if not self.estaVacio():\n",
        "      self.__raiz.listaDeParesNodo(listaPares)\n",
        "    return listaPares\n",
        "\n",
        "  class __NodoArbol(ABB.__NodoArbol):\n",
        "    def listaDeParesNodo(self, lista:list)->None:\n",
        "      if self.tieneIzquierdo():\n",
        "        self.izquierdo.listaDeParesNodo(lista)\n",
        "      if self.dato %2 == 0:\n",
        "        lista.append(self.dato)\n",
        "      if self.tieneDerecho():\n",
        "        self.derecho.listaDeParesNodo(lista)"
      ],
      "metadata": {
        "id": "KUaLK45syemt"
      },
      "execution_count": null,
      "outputs": []
    },
    {
      "cell_type": "code",
      "source": [
        "arbol1 = ABB()\n",
        "arbol1.insertar(70);arbol1.insertar(15);arbol1.insertar(91);arbol1.insertar(29);\n",
        "arbol1.insertar(10);arbol1.insertar(80);arbol1.insertar(2);arbol1.insertar(12);\n",
        "arbol1.insertar(20);arbol1.insertar(14);\n",
        "print(arbol1.listaDePares())"
      ],
      "metadata": {
        "colab": {
          "base_uri": "https://localhost:8080/"
        },
        "id": "eS0c970sUWZY",
        "outputId": "8a4e68ae-7991-4be8-e143-b9ce8947162d"
      },
      "execution_count": null,
      "outputs": [
        {
          "output_type": "stream",
          "name": "stdout",
          "text": [
            "[2, 10, 12, 14, 20, 70, 80]\n"
          ]
        }
      ]
    },
    {
      "cell_type": "code",
      "source": [
        "class ABB(ABB):\n",
        "  def listaOrdenadaPares(self)->list:\n",
        "    listaPares = []\n",
        "    if not self.estaVacio():\n",
        "      listaPares = self.__raiz.listaOrdenadaParesNodo()\n",
        "    return listaPares\n",
        "\n",
        "  class _NodoArbol(ABB.__NodoArbol):\n",
        "    def listaOrdenadaParesNodos(self):\n",
        "      listaNodos = []\n",
        "      if self.tieneIzquierdo():\n",
        "        listaNodos = self.izquierdo.listaOrdenadaParesNodos()\n",
        "      if self.dato %2== 0:\n",
        "        listaNodos.append(self.dato)\n",
        "      if self.tieneDerecho():\n",
        "        listaNodos += self.derecho.listaOrdenadaParesNodos()\n",
        "      return listaNodos"
      ],
      "metadata": {
        "id": "Jmg5VdEaWL5k"
      },
      "execution_count": null,
      "outputs": []
    },
    {
      "cell_type": "code",
      "source": [
        "l1 = [2,1]\n",
        "l2 = [5,7]\n",
        "l1 += l2\n",
        "print(l1)"
      ],
      "metadata": {
        "colab": {
          "base_uri": "https://localhost:8080/"
        },
        "id": "pBynldH4Wp8B",
        "outputId": "b9ba991b-f07f-4537-8031-7f670d110f32"
      },
      "execution_count": null,
      "outputs": [
        {
          "output_type": "stream",
          "name": "stdout",
          "text": [
            "[2, 1, 5, 7]\n"
          ]
        }
      ]
    },
    {
      "cell_type": "markdown",
      "metadata": {
        "id": "MH98-7dgNRNe"
      },
      "source": [
        "### **Ejercicio 6**\n",
        "\n",
        "Escribir una operación del TDA ABB, que rote el árbol completo, es decir, los elementos del subárbol izquierdo deben ser mayores a la raíz y los del subárbol derecho menores (para todos los nodos del arbol). No se debe retornar un nuevo arbol, sino modificar el arbol desde el que se llama a la operación."
      ]
    },
    {
      "cell_type": "code",
      "source": [],
      "metadata": {
        "id": "z-MCCrLGyfm0"
      },
      "execution_count": null,
      "outputs": []
    },
    {
      "cell_type": "markdown",
      "source": [
        "### **Ejercicio 7**\n",
        "\n",
        "Escribir una operación del TDA ABB llamada **cantidadNodosEnNivel** que retorna la cantidad de nodos del arbol en un nivel determinado"
      ],
      "metadata": {
        "id": "DA9MfYHSrPEM"
      }
    },
    {
      "cell_type": "code",
      "source": [],
      "metadata": {
        "id": "JAJAgEIYrjsa"
      },
      "execution_count": null,
      "outputs": []
    }
  ]
}
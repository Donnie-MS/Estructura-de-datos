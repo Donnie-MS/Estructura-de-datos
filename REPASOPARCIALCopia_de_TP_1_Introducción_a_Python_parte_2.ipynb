{
  "nbformat": 4,
  "nbformat_minor": 0,
  "metadata": {
    "colab": {
      "provenance": []
    },
    "kernelspec": {
      "name": "python3",
      "display_name": "Python 3"
    }
  },
  "cells": [
    {
      "cell_type": "markdown",
      "metadata": {
        "id": "42630xxYD0gZ"
      },
      "source": [
        "# ![alt text](https://upload.wikimedia.org/wikipedia/commons/thumb/c/c3/Python-logo-notext.svg/50px-Python-logo-notext.svg.png) **Trabajo Práctico 1: Introducción a Python Parte 2** ![alt text](https://upload.wikimedia.org/wikipedia/commons/thumb/c/c3/Python-logo-notext.svg/50px-Python-logo-notext.svg.png)\n",
        "\n",
        "En este trabajo práctico, vamos a ir resolviendo ejercicios que nos permitan aprender a usar funciones y procedimientos en Python.\n",
        "\n",
        "La idea es que ustedes vayan resolviendo los ejercicios sin la necesidad de instalarse nada en sus computadoras.\n",
        "Antes que nada, creen una copia de este archivo en su ***Google Drive*** para tener permisos de edición, luego pueden compartirlo con quien quieran, tengan cuidado con los permisos al momento de compartir!!!!!!!. Si quieren, nos pueden compartir su documento a los docentes para que hagamos las correcciones.\n",
        "\n",
        "### Sergio: **sergio.gonzalez@unahur.edu.ar**"
      ]
    },
    {
      "cell_type": "markdown",
      "source": [
        "Declaración de funciones, uso de tipos de parámetros de entrada y salida"
      ],
      "metadata": {
        "id": "DgYDTH7AH7wd"
      }
    },
    {
      "cell_type": "code",
      "source": [
        "def sumaEnteros(num1:int, num2:int)->int:\n",
        "  resultadoSuma = num1+num2\n",
        "  num1 = 9\n",
        "  return resultadoSuma"
      ],
      "metadata": {
        "id": "SCLsMGG5s7J0"
      },
      "execution_count": null,
      "outputs": []
    },
    {
      "cell_type": "markdown",
      "source": [
        "Uso de valores por defecto para parámetros"
      ],
      "metadata": {
        "id": "EJxF8wxOIDsj"
      }
    },
    {
      "cell_type": "code",
      "source": [
        "n1 = 2\n",
        "n2 = 3\n",
        "print(n1)\n",
        "res = sumaEnteros(n1, n2)"
      ],
      "metadata": {
        "id": "YbgA_qr6IDfb",
        "colab": {
          "base_uri": "https://localhost:8080/",
          "height": 250
        },
        "outputId": "56add12e-aea3-44c1-876a-bdea7c148a4f"
      },
      "execution_count": null,
      "outputs": [
        {
          "output_type": "stream",
          "name": "stdout",
          "text": [
            "2\n"
          ]
        },
        {
          "output_type": "error",
          "ename": "TypeError",
          "evalue": "sumaEnteros() takes 2 positional arguments but 3 were given",
          "traceback": [
            "\u001b[0;31m---------------------------------------------------------------------------\u001b[0m",
            "\u001b[0;31mTypeError\u001b[0m                                 Traceback (most recent call last)",
            "\u001b[0;32m<ipython-input-7-f01fdbdbf974>\u001b[0m in \u001b[0;36m<cell line: 0>\u001b[0;34m()\u001b[0m\n\u001b[1;32m      2\u001b[0m \u001b[0mnum2\u001b[0m \u001b[0;34m=\u001b[0m \u001b[0;36m3\u001b[0m\u001b[0;34m\u001b[0m\u001b[0;34m\u001b[0m\u001b[0m\n\u001b[1;32m      3\u001b[0m \u001b[0mprint\u001b[0m\u001b[0;34m(\u001b[0m\u001b[0mnum1\u001b[0m\u001b[0;34m)\u001b[0m\u001b[0;34m\u001b[0m\u001b[0;34m\u001b[0m\u001b[0m\n\u001b[0;32m----> 4\u001b[0;31m \u001b[0mres\u001b[0m \u001b[0;34m=\u001b[0m \u001b[0msumaEnteros\u001b[0m\u001b[0;34m(\u001b[0m\u001b[0mnum1\u001b[0m\u001b[0;34m,\u001b[0m \u001b[0mnum2\u001b[0m\u001b[0;34m,\u001b[0m\u001b[0;36m3\u001b[0m\u001b[0;34m)\u001b[0m\u001b[0;34m\u001b[0m\u001b[0;34m\u001b[0m\u001b[0m\n\u001b[0m\u001b[1;32m      5\u001b[0m \u001b[0mprint\u001b[0m\u001b[0;34m(\u001b[0m\u001b[0mnum1\u001b[0m\u001b[0;34m)\u001b[0m\u001b[0;34m\u001b[0m\u001b[0;34m\u001b[0m\u001b[0m\n",
            "\u001b[0;31mTypeError\u001b[0m: sumaEnteros() takes 2 positional arguments but 3 were given"
          ]
        }
      ]
    },
    {
      "cell_type": "markdown",
      "source": [
        "Paso de parámetros por valor y por referencia"
      ],
      "metadata": {
        "id": "8ktb9oM0IKMb"
      }
    },
    {
      "cell_type": "code",
      "source": [],
      "metadata": {
        "id": "OVugl2JAIJ6j"
      },
      "execution_count": null,
      "outputs": []
    },
    {
      "cell_type": "markdown",
      "metadata": {
        "id": "DyzOhAhyXPt8"
      },
      "source": [
        "### **Ejercicio 1**\n",
        "\n",
        "Escribir un procedimiento que muestre por pantalla la cadena “Hola mundo!!!” cada vez que se la invoque"
      ]
    },
    {
      "cell_type": "code",
      "metadata": {
        "id": "e_93vxkBXYpi"
      },
      "source": [
        "def imprimirHolaMundo() -> None:\n",
        "    print(\"Hola mundo!!!\")"
      ],
      "execution_count": null,
      "outputs": []
    },
    {
      "cell_type": "markdown",
      "metadata": {
        "id": "_9YcxspbXZQl"
      },
      "source": [
        "### **Ejercicio 2**\n",
        "\n",
        "Escribir un procedimiento que se le pase por parámetros una cadena 'nombre' y muestre por pantalla: “Hola 'nombre'!!!”"
      ]
    },
    {
      "cell_type": "code",
      "metadata": {
        "id": "GpqCZL84ZSCo"
      },
      "source": [
        "def imprimirUnNombre(nombre: str) -> None:\n",
        "    print(f\"{nombre}\")"
      ],
      "execution_count": null,
      "outputs": []
    },
    {
      "cell_type": "markdown",
      "metadata": {
        "id": "rXKNqmsmXgLa"
      },
      "source": [
        "### **Ejercicio 3**\n",
        "\n",
        "Escribir una función que calcule y retorne el factorial de un número natural. La operación factorial (!) se define de la siguiente manera:\n",
        "\n",
        "![image.png](data:image/png;base64,iVBORw0KGgoAAAANSUhEUgAAAZoAAAAxCAIAAABsyPitAAASAUlEQVR4Ae1de1wU1R6X12IKkmTm/VSmWTx8m2jgIy3KR0qCIiEKKCLkM7WyfGtm+cgnmhrhW0FhMUTA1Ayv2c3btXyQL0RNAk1EeSjMsjtz7md3dmZnZmd258wuM7Mw+8/O45zf+Z3vOfOd3znn95vTBMjlp7m6d1bcxv9p5aKPoofdEEDvpE6P/upUOWY3iYogBQE2BJqwXZTgmq4wadK8U1USlKwUKQYCNRdXx8zNrxGjKKWMxouATOhMV7Ai8eurusbbDg2/5hXp0z/6QeGzht/QUtZQHnSG3d8+fsZxjZRAKGXXMwJo4bqEL84rcwn1DHPjFi8POtP+On/MysuKcdag+2J1aswEtWKeNeg2lrpy8qAzTU5CWNJfqNRgKOXXJwJIdnz4trvKckB9YtzYZcuDzhB1TOi39yTt6XWl+WsiuwYuPNcAhkPVJ2Z2bNVx5olqRu/GHp1aE/de99bOTZq4+s45W2e4jd7KnDd2UEdvj5ffiPhgbf4Dga2AFGV+FhIY0Ld/724BIfOybpnPHGhyE0PX31LeWYxGUU7tiIBM6Cx9XOh39wU+SDajoXtwdmt8X//nWzq7dlrQEOis6tg0Hy+facfYForRwtX92r30opvLyzP/jRDQaS8s6TVo89/CqaYqf5a/9xurLtUCgFWe+bR7i85zfn5MSDf+a3ISQtYWCS+DIU45VRAwQ0A2dBaWUiYRndX8fnBb9qUH1QdHN20gdGbWypQLmryJHcZsWjeomcuLk08QM1mPM8b4TD5hblBR8lk6REuSh3i2fD+9Ek+E/ZPybvMWw1JK6Q2KHIkPUawzSzgq92xFQDZ0NmqHxF6WSHpjoDP01rqBry+7WLIzxNPlXxNzcQtK9+cXgcEbhM9dPto/0lPVe+U1Yi1Hd+nz7m6eI1Mf0XonkhUXknRHsc5ooCgndkVALnQWHb7zoV0rBi3M0egMKzu9ekxQl26B/fp09/MLnJ3zyGAMVf+WPD24rYtbj88vEexChUJzLOGVMRmPsfLU8Kddno3+3mBQ1Xwf7ZPwg2DjTPu/eR1dm763p4IoCCvfMczdtdN8+sAdOTR+xBaGxUbkUP4VBOyBgEzoLCM6Yjf5NNijXvAyHIzOqg7HtmkxaMtfes5CS7aONbntoYWrg1SeEenMuSs9JOidjcG9llzQAVChjmrl4h1x8CEGdNdW9B1In9XC7m8f3sKd++cVmU4MVAHQHI1v7ewxJpOcigNIZmRz59aT6AyJZESHSTdBCt8hlByOh4Bc6Cwmcq9x5kUqDB2LznQFy3qovCMz8HcAVl789xMCOCQ3rpWq62JWj1XNj1N8Ig4YVjyrj0xo4+IVurcMQ45M8InLNZGRXpCuovjaFe7ftb+rTBNjyOFoL+enow+bJCBZzCsAgCdpUaOleGdp/rpxB1/EJRCS4B+9e6Oo2gSZmQYOoaSZ1rK7IBs6i9rHtg4nIl6ORWfgyckZHVxdWvebnVpQSXtM0KK1fVUe4WlscGIl3wx6beHvuC9KzfEPXnDxeDfl78I1A/qvus42NOUHv+aHSc8xrDN1ZHPn5xjWWfW+yKg0knT5ibY5FVp6ZPWmM/g43GZhtgioLdj55Z6r7LTqEEraUnnR8sqEztSxY1PZBkei4QCAg9EZALWFGR8Ht23qpHphyFdnHpKUph/6qTovMHIWHcC6/Ol+o/YTZjBy6sP2Ls3eXp880Tf2cC09JcyZ9vcFnVybDt9FzvxjD7YPdXftxNChcs+YWMqAFKYEoWnRkn0fLc1nut8JlWZjPu2fGz5cX2Du1ugQStpYd7Gys9AZtLMlent9f1UT1UDhy1aIOjb6gNgvbgbEDkdnBv0fX9kT4+vu0m7GKeNQz9AYzcJIzqLWErv37dDu80zfYKr7dY6Pq+pln1cDv7pCN86g5s5AReooT1XAl2SUmvb84q7mK5uPdo+blG0akFIV43MM3S0BqD396dg1TLNTgBw+6lHTcLhkYw9SEyermQv4YiuJln7/0aDXfF/x7dozoKuff2D4vPRrpnlQwK4ktXZWjrH7OXPe7tah3atdA3r18PfrOXzWzvP08QMhwIomRDLKPwewphQsdKa/CeVsqdU/Fa6+n541f/OYCrJ4hKjHxx60wT6wKJznTUeiM7Qk7/BvRmbA7n07yN19KOG2pzme2EblT+EsSvXrTs/yD9tDGlEAaH9f2Nm1iZNXVCalQxsyoFWlNwq5f0V3qRNBWEnyUE+vcMIxA7ubPLiZ59DkEtJi1IvEynfGTskTvHyKawXlA/w4O374KtJ7hIIDXPemZrR6bNElGyvfFx25gx79IrqSusvL+76z5jr+tNVc2TT0Gbe2cdkm655NSavVpiRAi9YM7L/s4mND42tu7hzZxrVN5MF/aH0BT25NE4pQACwCS6bkoDMoZ0ska5yXc8uxh4SPFhH1+PHpwl/cZG1sOXAkOkNyJ701/zeDOYs9zJvUvmm3JRfwdwl6J2mg6qkRVM4iQcHKUoZ3mUN76egKvnjNza3HsgK6cUZm4XtQ9dNMv5b9VuJRAT9/0tXDfzZzjIeV7YgzLb/yFUxPB9ctj08Jmn2adbYKSg5dBctnVlyy0aK1gyP2magDAER0JXWFW2atMznx1ByO8Xb2DE8jZiAAMFfScp0Zd9GbSRPm/0LCjuRNbO3sMSrVJJ9Mb1UTMiUAVoAlUrLTGZSzJVa69W13W4aaACCZcXFqiegMq/zlm5nxY0cO6dba2al5+z4hEbGTF6lv2Ph8E/jWz3/12aTYN3sG9A8OHvB6917DZu2/QlhXmh+nPO/ylO+w6StyqW6xWOWZjYmj3+jQ4mm/t6M+OVBI1k53fXXQM++zOnXAqV5bmP7x0N69+g8M6tErZO6hIrPWxMq2x8/+iezmcNLx1FDdUnd5eZ/hyayRc1ByhCjK+WrUHE3oPvVHk4kqpZJ4xepOz2zvonqD6kTNVFIIAmQew9DNPXgL3VQnb1MOWDSh3MUPOYE1pmSnMyhnS+0fC7u4+9Df+mZ6WL6AHJoy9YjZA2A5j3LXwRCo3D/tk1M20RlUt0SyYrh8g6HkCEGZ86nT/bk8iBocK6WSeMVqD0e3dPaKVFOGVkwlhSBA5nmcGdXSte20n0wUTt5iHLBowkhhfb2Olc74OlvipWnyJrb2jqIONeEmkgEAtZlzF5jsU7NKKBcaAgKavAULKL0aupPw9gE2gIWVbh3cbe5vbNO5cN1bCPScdIbd3TaEopWkShoqpj03v6Obd3gqNWCaoaQQAIx5tGVnPh/Qqm34rpvkcIBTGpsmZok5gTWmZKUz3s6WeiH6iBZPxqomjBOmXsS9PRvThH6ZxqzKygV5IoDeTkn6nuI0AdlJAIDqlmjh6v692ecEoeQIwpL7qavYE9ph6knCRpVUSX3Nqo5Pftnz9eUX6LYTXUkhCGBleyNffO4ZD/cWPmErfrpL1NeCKHZNmBm4gcVTstEZnLOl7vLy3p1sGmpi5cf257ItfTAro5w7NALobXXKUeFvLchueeXLoCCm/4kBPt5ysAcHxvt34P51nHqEYzWe+6l7vH/USwnHCPbQ2a4k3iMEqYo9PDGjc9v3kq8z2YaupA19DqstPbMhtK13wJwTTP8UmlROTWipgLDBJpyzZd3JaZ3HUYeaTBWsnKM3t4ybmSex05kVHZXb9kGgMjPhzcW/Mp8enrLhuiVatHZAr6UXWQY5EHIwVKfl/ulQFu8DQ2W46ezRrhGvziBnEO2iJA4ftKo1FzcM7TTo63MUe5loCLqSxFWB/+jNdf1Uqt6sbxZcpAVNmGVyA4unZLHO+Dtb4iI01RVP6L0GclpEV6xOzmZdgmLWhte5Ev7GCybxE6ElOWn5ZLwRZCcBkN0SK98R0vmT/5hTJ6QcQTBxPnVo8aZ3ei4iw2klU7KmYEtYQMiGP1i4DACGkoIQoGSqzXi/mXPr+KOESUq5BQCwqAk9qTDrDMLZEgCgfXDtwk2m1y+UEyYAWOmuDWkWrVGzenFdUMLfuJCR/DpavHtbNmUBDbKTwHVLADTHEv0msCyXw8oRghsnnWnPLwoYRvEekUTJmkubw4LeT7nCMVIGTCVxBLCq2xeu3idfD9RT6jFalBS3iGqAo0Vr+qjceiwzuLpRU+q5zKImjMR6NTiBNbaSuXUG5WypvbC0u8rJY/C2Yps+y1eTOXchy4sUuicp4W/QkImXQfPDosX55OMAWy5Ut9QLR4s3DX7HPO4OWg6sovr0nE9dbVZsz48pa/jiK4kW74948V8Dp69cR/0l5VBiwZhK6muE/bN7hJeTm99n/zWsFVNPqce4aRe44L9VRj6oLUqL7aBqE7ZL7wXJTGlRE3piYytwAmu8T6MzeGdL9M6eiLYt/aflkWMIo1y4P73fWY65MQobXid2+BtRSY5QMovhb7YHuhKls/6LuPuJ9U1PcA31fmeC6Ay+WxoK1P6xODgxj2KCCJTDii/7RWsu2bqLnwePp67uAtGV1J6d4+PahPlrOtoUlGOupL6y1Sc/7uL9/HvJxs0eqKfUYwCq85eP6NvZx7dLz969X+vs26lf5CL1NePUOC2lNU2oia0BSzQHjc6Ii6L/W4gKgIgeFT38Tf9dMEvbplgKf7M90NViK4m2+wmfTU8MmhqiAkgXBYvK2+mm9tzikfNxa8JOEm0UgxZ/ExGnpr/5HUJJG+stXnaZ0Bl3zCb/8Drxw9+shpJZCH+zPdBVcCfhD6nVIvhtemIQg5XtmGBrzKZVfegJ0JtbP1jyi2yiTdCipIkLzlDMRYO2DqEkHVf5nsmGzji+qME/vE7K8DfOIT1n+JsdAl2Fdiq+kGrPZ2zNvVphcVKU36YnBk2x8p0xk238ogZ0lWvPbVySZtu8LnSZHBmwih+/XJpN9b4nEjqEkoSy8v6XC51xfe+Mf3idlOFvnHTGGf5mh0BXAOp39xMkI+IpJ+cWPkOmrsu+/IjuimPs1Dw3PcFT6793RvkAt0jPheb6oc1ZN9hinURSAC8GvXdyy45fmR4AhAoOoSShrJz/ZUNn7F+j5R9eJ2n4GyedcYa/mQe6wveS+t39BAC08trRzbNDu7Zyc3L2fOWdD9ZkFTyksxrPTU/wqum/RivJZ1PqEMSiiQmPvIAcSK3lQa9DKCmg3uJmkQmdZcSw7xXAP7xO0vA3TjoDHOFvbIGusA1f37ufkPrU3Dm9c2FU4PNNnZw92r+VsCrz4gOjtcNz0xNckiR7BZCVUA4aAwKyoTPWnZx4h9cBIGn4GzedcYS/2R7oqt8aSdzdT+r+Obf/o/7PujiZ9ornuekJ/iDVHIgavZvyKdzG8HgpdRQXAbnQGfs+mxDhdVKGv3G7TQKO8DdbA12NnUS03U+Qkv/sXRrd54WnnJybt3trzpFSfPTGc9MTXFtln01xH+3GWJpM6CyddRd0mPA6ycLf9L2G0zrjDH8zD3QV3PvqafcTgz7Yk9unUuZF9HzOXc9jA+NXZl4gBpqG+/w2PcGrpuyCLriJlYw8EZALnY0btcM8aBMqvE6S8Dcjypx0xh7+xh7oyrPFjMnqf/cT7flNI7s842bkMTWdx4xa8Nr0hAApKy7EPOgIrtZKagUBSwjIhs7CiK2ITNrChdeJH/5m0pSTztjC34BdAl3rf/cTJCPWd8DEFerzNHvMVGn8iMemJ8YsyJFJIetvSb/GyKyBct5wEJANnYV+R/1EkJDwOtHD3wCwFkrGHv5ml0BXEXY/0enobhkcvd7qpifGfJqchJC1xpA/DlHKZQUBmxCQCZ2pY8K+pe8/KKBWSvibANDEy6LJTQxVrDPx8G6MJcmDzjQ5CaM22x6LooS/ybkLI9mTwrda359MzlVQdJM5AvKgM+3Z+VErL/Ma2ljGUwl/s4yPlHefHIiOPqB8RF3KJmjwZcuDzrD72yd8eML8g2cC4FfC3wSAJkYWtGh97Dx7fKNTDGWVMhwTAXnQGdAVfJWw+oodzDN9Kyjhb3Lsi1WZkxPTK+SomaJTg0FAJnQGdFfXxsw6JnzXsgbTIA20ItobW2OmZT3k2vqogdZaqZbICMiFzgCoubhtYsSqs4I/Ji8ycEpx/BFA7xyYGbP0uM1L1/xLVFI2TgTkQ2eNE3+l1goCCgJ2Q0ChM7tBqQhSEFAQkBaB/wMCMV/CNaz9RgAAAABJRU5ErkJggg==)"
      ]
    },
    {
      "cell_type": "code",
      "metadata": {
        "id": "Qkc-t1FnZB1q",
        "colab": {
          "base_uri": "https://localhost:8080/"
        },
        "outputId": "0fa2ddbe-2014-42fc-a4e9-ad645b3335f6"
      },
      "source": [
        "def calcularFactorial(numero: int) -> int:\n",
        "    resultado = 1\n",
        "    for i in range(1,numero + 1):\n",
        "        resultado *= i\n",
        "    return resultado\n",
        "\n",
        "calcularFactorial(5)"
      ],
      "execution_count": 3,
      "outputs": [
        {
          "output_type": "execute_result",
          "data": {
            "text/plain": [
              "120"
            ]
          },
          "metadata": {},
          "execution_count": 3
        }
      ]
    },
    {
      "cell_type": "markdown",
      "metadata": {
        "id": "731rz7uWYpu6"
      },
      "source": [
        "### **Ejercicio 4**\n",
        "\n",
        "Escribir una función que calcule el total de una factura tras aplicarle el IVA. La función debe recibir el importe sin IVA y el porcentaje de IVA a aplicar, y devolver el total de la factura. Si se invoca la función sin pasarle el porcentaje de IVA, deberá aplicar un 21%."
      ]
    },
    {
      "cell_type": "code",
      "source": [
        "def calcularDeFactura(importe: float, porcentajeIVA = 21) -> float:\n",
        "    importeTotal = importe + (importe * (porcentajeIVA/100))\n",
        "    return importeTotal\n",
        "\n",
        "calcularDeFactura(100, 50)"
      ],
      "metadata": {
        "id": "_Yf2YGRhuQXC",
        "colab": {
          "base_uri": "https://localhost:8080/"
        },
        "outputId": "a63d1fbe-7d62-4fb2-b63a-c75dcab53a4b"
      },
      "execution_count": 5,
      "outputs": [
        {
          "output_type": "execute_result",
          "data": {
            "text/plain": [
              "150.0"
            ]
          },
          "metadata": {},
          "execution_count": 5
        }
      ]
    },
    {
      "cell_type": "markdown",
      "metadata": {
        "id": "RB5dqJlrZSXp"
      },
      "source": [
        "### **Ejercicio 5**\n",
        "\n",
        "Escribir la función máximo, que recibe 2 números por parámetro y retorna el mayor. Luego, usando esta función, escriba un programa que pida 10 números al usuario por teclado y al finalizar informe el mayor por pantalla."
      ]
    },
    {
      "cell_type": "code",
      "metadata": {
        "id": "1NSOScKYY5lJ",
        "colab": {
          "base_uri": "https://localhost:8080/"
        },
        "outputId": "78cce76e-999c-435f-e922-79d674d9b419"
      },
      "source": [
        "def maximo(primerNro: float, segundoNro: float) -> float:\n",
        "    nroMayor = primerNro\n",
        "    if segundoNro > primerNro:\n",
        "        nroMayor = segundoNro\n",
        "    return nroMayor\n",
        "\n",
        "def maximoDe10Nros() -> float:\n",
        "    nroMayor = float(input(\"Ingrese un número: \"))\n",
        "    for i in range(9):\n",
        "        numero = float(input(\"Ingrese otro número: \"))\n",
        "        nroMayor = maximo(nroMayor, numero)\n",
        "    return nroMayor\n",
        "\n",
        "maximoDe10Nros()"
      ],
      "execution_count": 8,
      "outputs": [
        {
          "name": "stdout",
          "output_type": "stream",
          "text": [
            "Ingrese un número: 9\n",
            "Ingrese otro número: 2\n",
            "Ingrese otro número: 634\n",
            "Ingrese otro número: 43242\n",
            "Ingrese otro número: 12\n",
            "Ingrese otro número: 442\n",
            "Ingrese otro número: 7534\n",
            "Ingrese otro número: 1231\n",
            "Ingrese otro número: 11\n",
            "Ingrese otro número: 223\n"
          ]
        },
        {
          "output_type": "execute_result",
          "data": {
            "text/plain": [
              "43242.0"
            ]
          },
          "metadata": {},
          "execution_count": 8
        }
      ]
    },
    {
      "cell_type": "markdown",
      "metadata": {
        "id": "Bv97mRL7Yy6l"
      },
      "source": [
        "### **Ejercicio 6**\n",
        "\n",
        "Escribir una función que calcule el área de un círculo y otra que calcule el volumen de un cilindro usando la primera función."
      ]
    },
    {
      "cell_type": "code",
      "metadata": {
        "id": "uggVmXI7YyZQ"
      },
      "source": [
        "import math\n",
        "#A(circulo) = pi * r^2\n",
        "#V(cilindro) = A(base) * altura\n",
        "\n",
        "def areaCirculo(radio:float)->float:\n",
        "  return math.pi * radio**2 #math.pow(radio,2)\n",
        "\n",
        "def volumenCilindro(radioBase:float, altura:float)->float:\n",
        "  return areaCirculo(radioBase) * altura\n"
      ],
      "execution_count": null,
      "outputs": []
    },
    {
      "cell_type": "code",
      "source": [
        "res = volumenCilindro(10.2, 56.8)\n",
        "print(res)"
      ],
      "metadata": {
        "colab": {
          "base_uri": "https://localhost:8080/"
        },
        "id": "73IWOUw87r1h",
        "outputId": "5929131d-0d99-48f7-ffac-604082966442"
      },
      "execution_count": null,
      "outputs": [
        {
          "output_type": "stream",
          "name": "stdout",
          "text": [
            "18565.153821794578\n"
          ]
        }
      ]
    },
    {
      "cell_type": "markdown",
      "metadata": {
        "id": "e81MQrmWY6fp"
      },
      "source": [
        "### **Ejercicio 7**\n",
        "\n",
        "Escribir una función que recibe tres números enteros por parámetros, calcula el promedio y retorna “APROBADO” si el promedio es mayor o igual a 7 o “DESAPROBADO” si es menor.\n",
        "       "
      ]
    },
    {
      "cell_type": "code",
      "metadata": {
        "id": "DE1ZB_SqXnb6"
      },
      "source": [
        "def calcularPromedio(nota1: float, nota2: float, nota3: float) -> str:\n",
        "    promedio = (nota1 + nota2 + nota3) / 3\n",
        "    return esAprobadoCon(promedio)\n",
        "\n",
        "def esAprobadoCon(promedio: float) -> str:\n",
        "    resultado = \"Desaprobado\"\n",
        "    if promedio >= 7:\n",
        "        resultado = \"Aprobado\"\n",
        "    return resultado"
      ],
      "execution_count": null,
      "outputs": []
    },
    {
      "cell_type": "markdown",
      "metadata": {
        "id": "HmR1kFhbZCRR"
      },
      "source": [
        "### **Ejercicio 8**\n",
        "\n",
        "Escribir una función que recibe dos números enteros mayores que 1, n y m, y retorna la potencia n a la m. Resolver con una estructura de control repetitiva, **NO** con el operador potencia de Python"
      ]
    },
    {
      "cell_type": "code",
      "metadata": {
        "id": "XiMBGGvuXf1q",
        "colab": {
          "base_uri": "https://localhost:8080/"
        },
        "outputId": "468c3b3e-0752-41e4-af8b-909e8f612361"
      },
      "source": [
        "def potenciaDe(numero: float, potencia: int) -> float:\n",
        "    resultado = numero\n",
        "    for i in range(potencia-1):\n",
        "        resultado *= numero\n",
        "    return resultado\n",
        "\n",
        "potenciaDe(2, 4)"
      ],
      "execution_count": 32,
      "outputs": [
        {
          "output_type": "execute_result",
          "data": {
            "text/plain": [
              "16"
            ]
          },
          "metadata": {},
          "execution_count": 32
        }
      ]
    },
    {
      "cell_type": "markdown",
      "metadata": {
        "id": "3NBO6ixQZccL"
      },
      "source": [
        "### **Ejercicio 9**\n",
        "\n",
        "Escribir una función que dado un tiempo en horas, minutos y segundos retorne esa misma cantidad en segundos."
      ]
    },
    {
      "cell_type": "code",
      "source": [
        "def convertirTiempoASegundos(horas:int , minutos: int, segundos: int) -> int:\n",
        "    return (horas/3600) + (minutos/60) + segundos\n"
      ],
      "metadata": {
        "id": "3rVz6qyjuRvS"
      },
      "execution_count": null,
      "outputs": []
    },
    {
      "cell_type": "markdown",
      "metadata": {
        "id": "RwmzPtIrC3b8"
      },
      "source": [
        "### **Ejercicio 10**\n",
        "\n",
        "Escribir una función que dado un año, retorne verdadero si es bisiesto y falso en caso contrario.\n",
        "\n",
        "Nota: Los años bisiestos son múltiplos de 4 y no son múltiplos de 100, pero los años múltiplos de 400 si son bisiestos.\n",
        "Estos son algunos ejemplos de posibles respuestas: 2012 es bisiesto, 2010 no es bisiesto, 2000 es bisiesto, 1900 no es bisiesto"
      ]
    },
    {
      "cell_type": "code",
      "metadata": {
        "id": "Q0DrTpXuC4Be"
      },
      "source": [],
      "execution_count": null,
      "outputs": []
    },
    {
      "cell_type": "markdown",
      "metadata": {
        "id": "LxYbcNCsDVrv"
      },
      "source": [
        "### **Ejercicio 11**\n",
        "\n",
        "Escribir un programa que pida dos años y escriba cuántos años bisiestos hay entre esas dos fechas (incluidos los dos años)."
      ]
    },
    {
      "cell_type": "code",
      "metadata": {
        "id": "2cgCZHNZDWKZ"
      },
      "source": [],
      "execution_count": null,
      "outputs": []
    },
    {
      "cell_type": "markdown",
      "metadata": {
        "id": "jGQ_YK4kEbDk"
      },
      "source": [
        "### **Ejercicio 12**\n",
        "\n",
        "Escribir una función que tome por parámetro un numero entero y retorne la suma de sus dígitos. Para obtener los digitos deben ir dividiendo (division entera) por 10 sucesivamente y tomando el resto (digito que esta mas a la derecha)."
      ]
    },
    {
      "cell_type": "code",
      "metadata": {
        "id": "MMOb923zEb3L",
        "colab": {
          "base_uri": "https://localhost:8080/"
        },
        "outputId": "5ff25acd-e31a-46d4-bde8-3ad6d9b7de06"
      },
      "source": [
        "#sumaDigitos(25) -> 7\n",
        "#sumaDigitos(456) -> 15\n",
        "\n",
        "#456%10 -> 6\n",
        "#456//10 -> 45\n",
        "\n",
        "#45%10 -> 5\n",
        "#45//10 -> 4\n",
        "\n",
        "#4%10 -> 4\n",
        "#4//10 -> 0\n",
        "\n",
        "def sumaDigitos(numero:int)->int:\n",
        "  suma = 0\n",
        "  while numero > 0: #4\n",
        "    suma = suma + numero%10 # 0 + 6 + 5 + 4     #suma += numero%10\n",
        "    numero = numero//10 #0                      #numero //=10\n",
        "  return suma\n",
        "\n",
        "print(sumaDigitos(2456500000001))"
      ],
      "execution_count": null,
      "outputs": [
        {
          "output_type": "stream",
          "name": "stdout",
          "text": [
            "23\n"
          ]
        }
      ]
    },
    {
      "cell_type": "markdown",
      "metadata": {
        "id": "vezlqxF8FJh3"
      },
      "source": [
        "\n",
        "### **Ejercicio 13**\n",
        "\n",
        "Escribir un programa que pida números positivos (Debe dejar de pedir números cuando se ingrese uno negativo). Al finalizar debe mostrar la cantidad de números cuya sumatoria de dígitos fue menor que 10. Utilizar una o más funciones, según sea necesario."
      ]
    },
    {
      "cell_type": "code",
      "source": [
        "#Retona True si la suma de digitos de \"numero\" es menor a \"limite\"\n",
        "#Si no retorna False\n",
        "def sumaDigitosLimite(numero:int, limite:int)->bool:\n",
        "  return sumaDigitos(numero) < limite"
      ],
      "metadata": {
        "id": "5KJ92NmJBUxD"
      },
      "execution_count": null,
      "outputs": []
    },
    {
      "cell_type": "code",
      "source": [
        "limite = 10\n",
        "sumaMayorDiez = 0\n",
        "\n",
        "nuevo = int(input(\"Ingrese un numero entero positivo: \"))\n",
        "while nuevo > 0:\n",
        "  sumaMayorDiez += int(sumaDigitosLimite(nuevo, limite))\n",
        "  nuevo = int(input(\"Ingrese un numero entero positivo: \"))\n",
        "\n",
        "print(sumaMayorDiez)"
      ],
      "metadata": {
        "id": "81PbMlH1uTCa",
        "colab": {
          "base_uri": "https://localhost:8080/"
        },
        "outputId": "4628e60b-6690-42d9-b753-20d040fd18c6"
      },
      "execution_count": null,
      "outputs": [
        {
          "output_type": "stream",
          "name": "stdout",
          "text": [
            "Ingrese un numero entero positivo: 10\n",
            "Ingrese un numero entero positivo: 11\n",
            "Ingrese un numero entero positivo: 56\n",
            "Ingrese un numero entero positivo: 0\n",
            "2\n"
          ]
        }
      ]
    },
    {
      "cell_type": "code",
      "source": [
        "var = 0\n",
        "var2 = bool(var)\n",
        "\n",
        "print(type(var2))\n",
        "print(var2)"
      ],
      "metadata": {
        "colab": {
          "base_uri": "https://localhost:8080/"
        },
        "id": "5Avw4D6xC5NN",
        "outputId": "83a2e5bc-7a41-40bf-ad8f-ba4665f4faac"
      },
      "execution_count": null,
      "outputs": [
        {
          "output_type": "stream",
          "name": "stdout",
          "text": [
            "<class 'bool'>\n",
            "False\n"
          ]
        }
      ]
    },
    {
      "cell_type": "markdown",
      "metadata": {
        "id": "Jn223k7dFW0V"
      },
      "source": [
        "### **Ejercicio 14**\n",
        "\n",
        "Escribir un programa que solicita el ingreso de números primos. La lectura finalizará cuando ingrese un número que no sea primo. Al finalizar el programa, mostrar el factorial del número que tenga la mayor suma de dígitos entre todos los ingresados. Utilizar una o más funciones, según sea necesario."
      ]
    },
    {
      "cell_type": "code",
      "source": [
        "#def esPrimo(numero:int)->bool:\n",
        "#def sumaDigitos(numero:int)->int:\n",
        "#def factorial(numero:int)->int:\n",
        "#def comparaSumaDigitos(numero1:int, numero2:int)->int: Retorna el numero que tiene mayor suma de digitos entre numero1 y numero2"
      ],
      "metadata": {
        "id": "sNjiTajquUHK"
      },
      "execution_count": null,
      "outputs": []
    }
  ]
}
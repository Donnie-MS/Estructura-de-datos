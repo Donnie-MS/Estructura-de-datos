{
  "nbformat": 4,
  "nbformat_minor": 0,
  "metadata": {
    "colab": {
      "provenance": []
    },
    "kernelspec": {
      "name": "python3",
      "display_name": "Python 3"
    }
  },
  "cells": [
    {
      "cell_type": "markdown",
      "metadata": {
        "id": "42630xxYD0gZ"
      },
      "source": [
        "# ![alt text](https://upload.wikimedia.org/wikipedia/commons/thumb/c/c3/Python-logo-notext.svg/50px-Python-logo-notext.svg.png) **Trabajo Práctico 7: Listas enlazadas simples** ![alt text](https://upload.wikimedia.org/wikipedia/commons/thumb/c/c3/Python-logo-notext.svg/50px-Python-logo-notext.svg.png)\n",
        "\n",
        "En este trabajo práctico, vamos a trabajar iterativamente con la estructura de datos **Lista enlazada simple** en Python. Recuerden crear una copia de este archivo en su ***Google Drive*** para tener permisos de edición.\n",
        "\n",
        "### **En los ejercicios de esta guía, no pueden usar para nada las Listas de Python, si deben declarar una lista para algo, usen la implementada por ustedes.**\n",
        "\n",
        "### **Para implementar las operaciones del TDA Lista, tienen que trabajar con los nodos internos de las listas, no con las listas desde afuera.**\n",
        "\n",
        "### Sergio: **sergio.gonzalez@unahur.edu.ar**"
      ]
    },
    {
      "cell_type": "markdown",
      "metadata": {
        "id": "xjXgmD3mskbR"
      },
      "source": [
        "### **Ejercicio 1**\n",
        "\n",
        "Implementar el TDA Lista enlazada simple, con las siguientes operaciones:\n",
        "- **\\_\\_init__():** Constructor\n",
        "- **Vaciar**\n",
        "- **Agregar elemento al final (append):** Inserta nuevo nodo al final de la lista con el elemento que recibe como parámetro.\n",
        "- **Insertar elemento:** Recibe un elemento y una posición como parámetro e inserta un nuevo nodo con el elemento en esa posición. Si la posicion es mayor al tamaño de la lista, el elemento se inserta al final.\n",
        "- **Obtener elemento (get):** Recibe una posición y retorna el elemento del nodo en esa posición.\n",
        "- **Eliminar elemento (pop):** Recibe una posición y elimina el nodo en esa posición.\n",
        "- **Obtener tamaño de lista**.\n",
        "- **Esta vacía**.\n",
        "- **Clonar**\n",
        "- **\\_\\_repr__():** Para poder imprimir una Lista por consola\n",
        "\n",
        "**Nota: Cuando usamos posiciones en las listas, tener en cuenta que los indices empiezan en cero, es decir, el primer elemento de la lista esta en la posicion cero.**"
      ]
    },
    {
      "cell_type": "code",
      "source": [
        "import copy as cp\n",
        "\n",
        "########################################## LISTA ##########################################\n",
        "\n",
        "class Lista: #Definimos la clase lista\n",
        "\n",
        "########################################## NODO ##########################################\n",
        "\n",
        "  class __NodoLista: #Una lista está compuestas por nodos. Los nodos en principio no tienen sentido por fuera de nuestra clase lista, por eso lo generamos dentro\n",
        "    def __init__(self, dato): #El constructor del nodo. Para crear un nodo necesitamos el dato que vamos a alojar en esa posición\n",
        "      self.dato = dato # Almacenamos el dato\n",
        "      self.siguiente = None # Y cada nodo contiene la información de dónde va el siguiente nodo. Por defecto, si se crea un nodo no tiene siguiente\n",
        "\n",
        "    def tieneSiguiente(self)->bool: #Creamos el método tieneSiguiente\n",
        "      return self.siguiente != None # Da True cuando hay siguiente, es decir, el siguiente no es None\n",
        "\n",
        "  ########################################## LISTA ##########################################\n",
        "  def __init__(self, inicial:tuple=None):\n",
        "      self.__primero = None\n",
        "      if inicial != None:\n",
        "        for dato in inicial:\n",
        "          self.agregarAlFinal(dato)\n",
        "\n",
        "  def estaVacia(self)->bool: #Definimos nuestra función estaVacia, que devuelve un valor booleano\n",
        "    return self.__primero == None #Si el primero es None es porque está vacía (si no tiene primero no puede tener el resto)\n",
        "\n",
        "  def __repr__(self)->str: # Definimos el repr para poder verla al hacer print\n",
        "    salida = \"primero\" # Empezamos indicando por dónde se empeiza a contar (en nuestro caso por como estamos construyendo será de izquierda a derecha)\n",
        "    nodoAux = self.__primero # Este es el clásico recorrido de listas enlazadas, tenemos un nodo auxiliar que se irá moviendo sabiendo si el nodo tiene siguiente o no. Lo inicializamos en el primero.\n",
        "    #Ojo. Notar que nodoAux, si bien llama a self, self.__primero es de tipo NODO, esto va a ocurrir todo el tiempo, hay que saber si estamos trabajando a nivel LISTA o a nivel NODO\n",
        "    while nodoAux != None: # Mientras el nodoAuxiliar sea DISTINTO de None:\n",
        "      salida += \" -> \" + str(nodoAux.dato) #Salida sumará una flechita y el dato que contiene el nodo auxiliar (el que estamos viendo)\n",
        "      nodoAux = nodoAux.siguiente # Una vez guardado el dato cambiamos el nodoAux al siguiente (siguiente como método de nodo). Si fuese el último el siguiente sería NONE y ahí cortaría el while\n",
        "    salida += \" -|\" #Una vez que corta el while cerramos con un pipe\n",
        "    return salida #Retornamos la salida #primero -> 2 -> 3 -> 4 -|\n",
        "\n",
        "  def tamaño(self)->int: # Definimos tamaño que devuelve un número entero\n",
        "    cantNodos = 0 #Instanciamos nuestro contador de nodos empezando en cero\n",
        "    nodoAux = self.__primero # Comenzamos el clásico recorrido de listas. Creamos un nodo auxiliar y lo fijamos en el primero\n",
        "    while nodoAux != None: #Mientras nodo auxiliar sea distinto de None\n",
        "      cantNodos += 1 #Sumamos uno al contador\n",
        "      nodoAux = nodoAux.siguiente # Nos movemos al siguiente\n",
        "    return cantNodos #Retornamos el contador\n",
        "\n",
        "  def agregarAlFinal(self, dato)->None: #Agrega un elemento al final de la lista\n",
        "    nodoNuevo = Lista.__NodoLista(dato) # creo un nodo nuevo, así que instanciamos un NodoLista de la clase Lista con el dato que queremos alojar en dicho nodo\n",
        "    if self.estaVacia(): #Si la lista está vacía\n",
        "      self.__primero = nodoNuevo # El primer nodo será el nodo nuevo\n",
        "    else: #Sino, es decir, si la lista NO está vacía (ya contiene elementos)\n",
        "      nodoAux = self.__primero # definimos un nodo auxiliar como el primero\n",
        "      while nodoAux.tieneSiguiente(): #Mientras el nodo auxiliar tenga siguiente. Queremos quedarnos en el último, por eso hay que ver si tiene siguiente. En este tipo de recorridos no tenemos como \"volver atrás\". Si llegamos hasta el None no tenemos una función del estilo \"nodo anterior\", por eso itera con el while hasta \"tieneSiguiente\"\n",
        "        nodoAux = nodoAux.siguiente #El nodoAux será ahora el siguiente. Este while se corta cuando NO tenga siguiente, etnonces nodoAux será el último nodo posible (que es distinto de None)\n",
        "      nodoAux.siguiente = nodoNuevo # Hacemos que el siguiente del último nodo (nodoAux) sea el nodoNuevo\n",
        "\n",
        "  def insertar(self, posIns, dato)->None: #Definimos insertar que agrega un elemento a la lista pero en una posición particular, así que tomamos una posición para Insertar, un dato y no retornamos nada\n",
        "    nodoNuevo = Lista.__NodoLista(dato) # Instanciamos el nodo que queremos insertar con el dato dado.\n",
        "    if posIns >= 0: #Si la posición donde vamos a insertar es mayor o igual a cero (es decir, es una posición válida)\n",
        "      if self.estaVacia(): # Si la lista está vacía\n",
        "        self.__primero = nodoNuevo # El nuevo nodo, lo pongo primero\n",
        "      elif posIns == 0: #Si NO está vacía pero la posición a insertar es 0 (la primera)\n",
        "        nodoNuevo.siguiente = self.__primero #Entonces el siguiente del nodo nuevo será el que estaba originalmente como el primero (que ahora es el segundo). El resto de los nodos sigue exactamente igual (este \"primero\" que ahora es \"segundo\" sigue referenciando al \"segundo\" que ahora pasa a ser el \"tercero\" y así todo el rato)\n",
        "        self.__primero = nodoNuevo # Y el primero pasa a ser el nodo nuevo.\n",
        "      else: #Sino, es decir, si la lista NO está vacía y la posición a insertar es DISTINTA de 0:\n",
        "        nodoAux = self.__primero # Empiezo mi recorrido sobre listas enlazadas. Defino un nodoAux que comienza en la primer posición\n",
        "        posAux = 0 #Necesito ir contantdo las posiciones para saber cuándo llego a donde quiero insertar, por eso tengo que instanciar un contador inicializado en cero\n",
        "        while nodoAux.tieneSiguiente() and posAux < posIns-1: #Mientas mi nodoAux tiene siguiente (En caso que me hayan dado una posición más grande que mi lista) Y (AND) la posición auxiliar es UNA ANTES de la posición donde quiero insertar (acá de nuevo, no quiero llegar hasta el final final, me quiero quedar uno antes)\n",
        "          nodoAux = nodoAux.siguiente #Nodo aux pasa a ser el siguiente\n",
        "          posAux += 1 #Sumo uno al contador\n",
        "        #En este punto salí del while, así que una de dos, o NO hay siguiente o estoy en la posición anterior a donde quiero insertar el nuevo valor (nodo).\n",
        "        #Acá es desición de diseño, si mi lista tiene 3 elementos y me indicaron la posición 300 se va a guardar en el final, podría lanzar una excepción, pero queda a criterio de quien desarrolle (o de quien lo pida)\n",
        "        # Por ejemplo si:\n",
        "        # lista = [10 , 20 , 30 , 40 , 50]\n",
        "        # lista.insertar(2 , 555)\n",
        "        # entonces en este punto para salir del while posAux == 1 (porque es 2 - 1)\n",
        "        nodoNuevo.siguiente = nodoAux.siguiente # ENtonces el siguiente del nodoAux debe ser el 30 (que es donde quiero insertar el nuevo valor), por lo tanto el siguiente del nodoNuevo debe ser el 30\n",
        "        nodoAux.siguiente = nodoNuevo # Y el nodoAux que está parado en 20 le tengo que decir que el siguiente ya no es el 30 sino que es el NodoNuevo (555)\n",
        "        # lista será entonces [10 , 20 , 555 , 30 , 40 , 50]\n",
        "    else: #Sino, es decir, me dieron una posición menor que cero\n",
        "      raise IndexError(\"La posicion debe ser mayor o igual a cero\") #Lanzamos una excepción. Notar que en este caso no es genérica, es un INDEX ERROR\n",
        "\n",
        "  def eliminar(self, posDel)->any: #Definimos la función eliminar que recibe la posición del elemento que queremos eliminar\n",
        "    datoDel = None # Inicializamos nuestra variable dato eliminado como None\n",
        "    if 0 <= posDel < self.tamaño(): #Si la posición que queremos eliminar está entre 0 y el tamaño de la lista (es decir, dentro del rango válido)\n",
        "      if posDel == 0: #Si la posición es 0 (es decir, queremos eliminar el primero)\n",
        "        datoDel = self.__primero.dato #El dato eliminado será el dato alojado en el primer nodo\n",
        "        self.__primero = self.__primero.siguiente #El primer nodo será entonces el segundo, después queda todo igual.\n",
        "      else: #Sino, es decir, la posición que queremos eliminar es dinstinta de cero\n",
        "        nodoAux = self.__primero #Empezamos a recorrer as always. Inicializamos nuestro nodoAuxiliar en el primero\n",
        "        posAux = 0 #Empezamos a contar posiciones desde 0\n",
        "        while posAux < posDel-1: # Me quiero quedar parado uno antes de la posicion a eliminar por el mismo motivo que en insertar, sino no puedo hacer nada con el nodo en el que estoy parado.\n",
        "          nodoAux = nodoAux.siguiente #Entonces mientras la posición sea menor que la anterior a la que quiero eliminar, el nodoAux será el siguiente\n",
        "          posAux += 1 #La posición se incrementa en uno\n",
        "        #SALGO DEL WHILE, es decir que estoy un nodo atrás del que quiero eliminar (por construcción del while)\n",
        "        datoDel = nodoAux.siguiente.dato # El dato eliminado será entonces el dato almacenado en el siguiente nodo al nodo auxiliar (el próximo)\n",
        "        nodoAux.siguiente = nodoAux.siguiente.siguiente #El siguiente nodo al nodo donde estoy parado será entonces el siguiente del siguiente (me salteo uno). Y ya está!\n",
        "    else: #Sino, es decir, tengo una posición para eliminar negativa o mayor al tamaño de mi lista\n",
        "      raise IndexError(\"Posicion inválida\") #Lanzamos un IndexError\n",
        "    return datoDel #Retornamos el dato que eliminamos\n",
        "\n",
        "  def obtener(self, posGet)->any: #Obtener recibe una posición y retorna el dato almacenado en esa posición\n",
        "    datoGet = None # Inicializamos la variable resultado como None\n",
        "    if 0 <= posGet < self.tamaño(): #Validamos el rango de posición al igual que en eliminar\n",
        "      nodoAux = self.__primero #Comenzamos el recorrido como siempre. Inicializaos una variable nodoAux en el primer nodo de nuestra lista\n",
        "      posAux = 0 #Inicializamos un contador de posiciones\n",
        "      while posAux < posGet: #Acá no me quiero quedar uno antes (podría, pero no es necesario) porque solo quiero saber el valor del dato que tengo en esa posición, así que si llego hasta ahí no pasa nada porque no voy a modificar la lista, solo voy a consultar un elemento\n",
        "        nodoAux = nodoAux.siguiente #Entonces mientras la posicion auxiliar sea menor a la que estoy buscando, me muevo al siguiente nodo\n",
        "        posAux += 1 #Incremento uno a mi contador\n",
        "      datoGet = nodoAux.dato #En este punto ya salí del while, es decir que posAux = posGet, por lo tanto nodoAux es el nodo que está en la posición que quiero saber el valor. Consulto en nodoAux el dato y lo guardo en datoGet. FIN\n",
        "    else: #Sino, es decir, la posición es negativa o mayor al tamaño de mi lista\n",
        "      raise IndexError(\"Posicion inválida\") #Arrojamos un IndexError\n",
        "    return datoGet #Retornamos el dato get\n",
        "\n",
        "  def __getitem__(self, posGet)->any: #Cuando definimos __getitem__ estamos definiendo cómo se comporta nuestra lista si aplicamos los corchetes.\n",
        "  # HACE LO MISMO QUE OBTENER, pero en vez de hacer\n",
        "  # lista.obtener(3) nos permite hacer lista[3]\n",
        "  # Trucazo no?\n",
        "  # (Es lo mismo que veníamos haciendo con __repr__ que le indicamos cómo se debe comportar cuando le aplico print por ejemplo)\n",
        "  # Esto es sobrecargar los operadores por defecto de python\n",
        "    datoGet = None\n",
        "    if 0 <= posGet < self.tamaño():\n",
        "      nodoAux = self.__primero\n",
        "      posAux = 0\n",
        "      while posAux < posGet:\n",
        "        nodoAux = nodoAux.siguiente\n",
        "        posAux += 1\n",
        "      datoGet = nodoAux.dato\n",
        "    else:\n",
        "      raise IndexError(\"Posicion inválida\")\n",
        "    return datoGet\n",
        "\n",
        "  def __setitem__(self, posSet, datoSet)->None: #Así se podría sobrecargar algo del estilo \"lista[3] = 555\"\n",
        "    #Reemplazar elemento de posicion posSet por datoSet en lista self\n",
        "    pass\n",
        "\n",
        "  def __contains__(self, datoIn)->bool: #Así se podría sobrecargar el operador IN para saber si \"555 in lista\" y eso retorne false o true\n",
        "    #Sobrecarga del operador \"in\"\n",
        "    pass\n",
        "\n",
        "  def vaciar(self)->None: #Vaciar una lista es simplemente eliminar su primero (fijarlo como None)\n",
        "    self.__primero = None\n",
        "\n",
        "  def clonar(self):\n",
        "    return cp.deepocopy(self) #Para clonar como es habitual tomamos la librería deepcopy"
      ],
      "metadata": {
        "id": "oK3lqOH9ra-r"
      },
      "execution_count": 20,
      "outputs": []
    },
    {
      "cell_type": "code",
      "source": [
        "class ListaRec:\n",
        ""
      ],
      "metadata": {
        "id": "nzQQW4pDpyHq"
      },
      "execution_count": null,
      "outputs": []
    },
    {
      "cell_type": "code",
      "source": [
        "class ListaRec(ListaRec):\n",
        "  def tamaño(self)->int:\n",
        "    cantNodos = 0\n",
        "    if not self.estaVacia():\n",
        "      cantNodos = self.__primero.tamañoNodo()\n",
        "    return cantNodos\n",
        "\n",
        "  class NodoLista(ListaRec.NodoLista):\n",
        "    def tamañoNodo(self)->int:\n",
        "      cantNodos = 0\n",
        "      if not self.tieneSiguiente():\n",
        "        cantNodos = 1\n",
        "      else:\n",
        "        cantNodos = 1 + self.siguiente.tamañoNodo()\n",
        "      return cantNodos\n"
      ],
      "metadata": {
        "id": "wzB9IF2lqTUw"
      },
      "execution_count": null,
      "outputs": []
    },
    {
      "cell_type": "code",
      "source": [
        "class ListaRec(ListaRec):\n",
        "  def agregarAlFinal(self, dato:any)->None:\n",
        "    nodoNuevo = ListaRec.NodoLista(dato)\n",
        "    if self.estaVacia():\n",
        "      self.__primero = nodoNuevo\n",
        "    else:\n",
        "      self.__primero.agregarAlFinalNodo(nodoNuevo)\n",
        "\n",
        "  class NodoLista(ListaRec.NodoLista):\n",
        "    def agregarAlFinalNodo(self, nodoNuevo)->None:\n",
        "      if not self.tieneSiguiente():\n",
        "        self.siguiente = nodoNuevo\n",
        "      else:\n",
        "        self.siguiente.agregarAlFinalNodo(nodoNuevo)"
      ],
      "metadata": {
        "id": "jkxhRVNjsLFt"
      },
      "execution_count": null,
      "outputs": []
    },
    {
      "cell_type": "code",
      "source": [
        "l1 = ListaRec()\n",
        "print(l1)\n",
        "l1.agregarAlFinal(2);l1.agregarAlFinal(5);l1.agregarAlFinal(1);\n",
        "print(l1)"
      ],
      "metadata": {
        "colab": {
          "base_uri": "https://localhost:8080/"
        },
        "id": "kGWVwwtquGYH",
        "outputId": "f17c3f75-1178-4f9f-a5ad-09bed729d1b2"
      },
      "execution_count": null,
      "outputs": [
        {
          "output_type": "stream",
          "name": "stdout",
          "text": [
            "primero -|\n",
            "primero -> 2 -> 5 -> 1 -|\n"
          ]
        }
      ]
    },
    {
      "cell_type": "code",
      "source": [
        "class ListaRec(ListaRec):\n",
        "  def insertar(self, dato:any, posIns:int)->None:\n",
        "    if posIns >= 0:\n",
        "      nodoNuevo = ListaRec.NodoLista(dato)\n",
        "      if self.estaVacia():\n",
        "        self.__primero = nodoNuevo\n",
        "      elif posIns == 0:\n",
        "        nodoNuevo.siguiente = self.__primero\n",
        "        self.__primero = nodoNuevo\n",
        "      else:\n",
        "        self.__primero.insertarNodo(nodoNuevo, posIns)\n",
        "    else:\n",
        "      raise IndexError(\"Posicion invalida\")\n",
        "\n",
        "  class NodoLista(ListaRec.NodoLista):\n",
        "    def insertarNodo(self, nodoNuevo, posIns:int, posAct:int=0)->None:\n",
        "      if posAct == posIns-1 or not self.tieneSiguiente():\n",
        "        nodoNuevo.siguiente = self.siguiente\n",
        "        self.siguiente = nodoNuevo\n",
        "      else:\n",
        "        self.siguiente.insertarNodo(nodoNuevo, posIns, posAct+1)"
      ],
      "metadata": {
        "id": "kBj-flRnvCbD"
      },
      "execution_count": null,
      "outputs": []
    },
    {
      "cell_type": "code",
      "source": [
        "l1 = ListaRec()\n",
        "l1.agregarAlFinal(1);l1.agregarAlFinal(7);l1.agregarAlFinal(5);\n",
        "print(l1)\n",
        "l1.insertar(2,0)\n",
        "print(l1)"
      ],
      "metadata": {
        "colab": {
          "base_uri": "https://localhost:8080/"
        },
        "id": "rRUdUINWywNX",
        "outputId": "c9aad4da-43a5-4e45-e43a-3a95fbedbabc"
      },
      "execution_count": null,
      "outputs": [
        {
          "output_type": "stream",
          "name": "stdout",
          "text": [
            "primero -> 1 -> 7 -> 5 -|\n",
            "primero -> 2 -> 1 -> 7 -> 5 -|\n"
          ]
        }
      ]
    },
    {
      "cell_type": "code",
      "source": [
        "class ListaRec(ListaRec):\n",
        "  def eliminar(self, posDel:int)->any:\n",
        "    datoDel = None\n",
        "    if 0 <= posDel < self.tamaño():\n",
        "      if posDel == 0:\n",
        "        datoDel = self.__primero.dato\n",
        "        self.__primero = self.__primero.siguiente\n",
        "      else:\n",
        "        datoDel = self.__primero.eliminarNodo(posDel)\n",
        "    else:\n",
        "      raise IndexError(\"Posicion invalida\")\n",
        "    return datoDel\n",
        "\n",
        "  class NodoLista(ListaRec.NodoLista):\n",
        "    def eliminarNodo(self, posDel:int, posAct:int=0)->None:\n",
        "      datoDel = None\n",
        "      if posAct == posDel-1:\n",
        "        datoDel = self.siguiente.dato\n",
        "        self.siguiente = self.siguiente.siguiente\n",
        "      else:\n",
        "        datoDel = self.siguiente.eliminarNodo(posDel, posAct+1)\n",
        "      return datoDel"
      ],
      "metadata": {
        "id": "rImbHQHz2xQ9"
      },
      "execution_count": null,
      "outputs": []
    },
    {
      "cell_type": "code",
      "source": [
        "l1 = ListaRec()\n",
        "l1.agregarAlFinal(2);l1.agregarAlFinal(9);l1.agregarAlFinal(6);l1.agregarAlFinal(3);\n",
        "print(l1)\n",
        "l1.eliminar(1)\n",
        "print(l1)"
      ],
      "metadata": {
        "colab": {
          "base_uri": "https://localhost:8080/"
        },
        "id": "8NyAXHfQ4_Wu",
        "outputId": "ddc9204e-3e32-4a14-dade-3a43d2ede4db"
      },
      "execution_count": null,
      "outputs": [
        {
          "output_type": "stream",
          "name": "stdout",
          "text": [
            "primero -> 2 -> 9 -> 6 -> 3 -|\n",
            "primero -> 2 -> 6 -> 3 -|\n"
          ]
        }
      ]
    },
    {
      "cell_type": "code",
      "source": [
        "class ListaRec(ListaRec):\n",
        "  def obtener(self, posGet:int)->any:\n",
        "    datoGet = None\n",
        "    if 0 <= posGet < self.tamaño():\n",
        "      datoGet = self.__primero.obtenerNodo(posGet)\n",
        "    else:\n",
        "      raise IndexError(\"Posicion invalida\")\n",
        "    return datoGet\n",
        "  class NodoLista(ListaRec.NodoLista):\n",
        "    def obtenerNodo(self, posGet:int, posAct:int=0)->any:\n",
        "      datoGet = None\n",
        "      if posAct == posGet:\n",
        "        datoGet = self.dato\n",
        "      else:\n",
        "        datoGet = self.siguiente.obtenerNodo(posGet, posAct+1)\n",
        "      return datoGet"
      ],
      "metadata": {
        "id": "QtoIlvM2KjTt"
      },
      "execution_count": null,
      "outputs": []
    },
    {
      "cell_type": "code",
      "source": [
        "l1 = ListaRec()\n",
        "l1.agregarAlFinal(2);l1.agregarAlFinal(9);l1.agregarAlFinal(6);l1.agregarAlFinal(3);\n",
        "print(l1)\n",
        "print(l1.obtener(1))"
      ],
      "metadata": {
        "id": "EYGhyVU0xvzn",
        "colab": {
          "base_uri": "https://localhost:8080/"
        },
        "outputId": "4c18e1bb-0a16-4e6c-96e4-b83beeedbaa2"
      },
      "execution_count": null,
      "outputs": [
        {
          "output_type": "stream",
          "name": "stdout",
          "text": [
            "primero -> 2 -> 9 -> 6 -> 3 -|\n",
            "9\n"
          ]
        }
      ]
    },
    {
      "cell_type": "code",
      "source": [],
      "metadata": {
        "id": "sjJTJ4fi2tPu"
      },
      "execution_count": null,
      "outputs": []
    },
    {
      "cell_type": "code",
      "source": [
        "class Lista(Lista):\n",
        "  def tamaño(self)->int:\n",
        "    cantNodos = 0\n",
        "    nodoAux = self.__primero\n",
        "    while nodoAux != None:\n",
        "      cantNodos += 1\n",
        "      nodoAux = nodoAux.siguiente\n",
        "    return cantNodos"
      ],
      "metadata": {
        "id": "6WV_TqtDz9K3"
      },
      "execution_count": null,
      "outputs": []
    },
    {
      "cell_type": "code",
      "source": [
        "class Lista(Lista):\n",
        "  #def __getitem__(self, posGet:int)->any: Operador corchetes para acceso\n",
        "  def obtener(self, posGet:int)->any:\n",
        "    dato = None\n",
        "    if 0 <= posGet < self.tamaño():\n",
        "      nodoAux = self.__primero\n",
        "      posAux = 0\n",
        "      while posAux < posGet:\n",
        "        nodoAux = nodoAux.siguiente\n",
        "        posAux += 1\n",
        "      dato = nodoAux.dato\n",
        "    else:\n",
        "      raise IndexError(\"Posicion incorrecta\")\n",
        "    return dato"
      ],
      "metadata": {
        "id": "j4pu-z1W8BCL"
      },
      "execution_count": null,
      "outputs": []
    },
    {
      "cell_type": "code",
      "source": [
        "class Lista(Lista):\n",
        "  def insertar(self, dato:any, posIns:int)->None:\n",
        "    if posIns >= 0:\n",
        "      nodoNuevo = Lista.NodoLista(dato)\n",
        "      if posIns > self.tamaño():\n",
        "        self.agregarAlFinal(dato)\n",
        "      elif posIns == 0:\n",
        "        nodoNuevo.siguiente = self.__primero\n",
        "        self.__primero = nodoNuevo\n",
        "      else:\n",
        "        nodoAux = self.__primero\n",
        "        posAux = 0\n",
        "        while posAux < posIns-1:\n",
        "          nodoAux = nodoAux.siguiente\n",
        "          posAux += 1\n",
        "        nodoNuevo.siguiente = nodoAux.siguiente\n",
        "        nodoAux.siguiente = nodoNuevo\n",
        "    else:\n",
        "      raise IndexError(\"Posicion invalida\")"
      ],
      "metadata": {
        "id": "p4lqASpd_YU8"
      },
      "execution_count": null,
      "outputs": []
    },
    {
      "cell_type": "code",
      "source": [
        "class Lista(Lista):\n",
        "  def eliminar(self, posDel:int)->any:\n",
        "    dato = None\n",
        "    if 0 <= posDel < self.tamaño():\n",
        "      if posDel == 0:\n",
        "        dato = self.__primero.dato\n",
        "        self.__primero = self.__primero.siguiente\n",
        "      else:\n",
        "        nodoAux = self.__primero\n",
        "        posAux = 0\n",
        "        while posAux < posDel-1:\n",
        "          nodoAux = nodoAux.siguiente\n",
        "          posAux += 1\n",
        "        dato = nodoAux.siguiente.dato\n",
        "        nodoAux.siguiente = nodoAux.siguiente.siguiente\n",
        "    else:\n",
        "      raise IndexError(\"Posicion invalida\")\n",
        "    return dato"
      ],
      "metadata": {
        "id": "rGpTq75fEXaL"
      },
      "execution_count": null,
      "outputs": []
    },
    {
      "cell_type": "code",
      "source": [
        "l1 = Lista()\n",
        "l1.agregarAlFinal(5)\n",
        "l1.agregarAlFinal(7)\n",
        "l1.agregarAlFinal(1)\n",
        "print(l1)\n",
        "#print(l1.eliminar(3))\n",
        "print(l1)"
      ],
      "metadata": {
        "colab": {
          "base_uri": "https://localhost:8080/"
        },
        "id": "u1sitD0w9yfP",
        "outputId": "f4b30486-fc7d-4dd6-9ba3-8622fa250bb6"
      },
      "execution_count": null,
      "outputs": [
        {
          "output_type": "stream",
          "name": "stdout",
          "text": [
            "primero -> 5 -> 7 -> 1 -|\n",
            "primero -> 5 -> 7 -> 1 -|\n"
          ]
        }
      ]
    },
    {
      "cell_type": "code",
      "source": [],
      "metadata": {
        "id": "MXOjArzwBAF-"
      },
      "execution_count": null,
      "outputs": []
    },
    {
      "cell_type": "markdown",
      "metadata": {
        "id": "Q0D1vzJZzqID"
      },
      "source": [
        "### **Ejercicio 2**\n",
        "\n",
        "Escribir una operación del TDA Lista que intercambie los dos primeros nodos de la lista."
      ]
    },
    {
      "cell_type": "code",
      "source": [
        "class Lista(Lista):\n",
        "  def intercambiarPrimerosNodos(self) -> None:\n",
        "    auxNodo = self.__primero\n",
        "    auxNodoSiguiente = self.__primero.siguiente\n",
        "    auxNodo.siguiente = auxNodoSiguiente.siguiente\n",
        "\n",
        "    auxNodoSiguiente.siguiente = auxNodo\n",
        "\n",
        "    self.__primero = auxNodoSiguiente\n"
      ],
      "metadata": {
        "id": "okSXEKpDnTTU"
      },
      "execution_count": null,
      "outputs": []
    },
    {
      "cell_type": "markdown",
      "metadata": {
        "id": "mpbNzKecOIQe"
      },
      "source": [
        "### **Ejercicio 3**\n",
        "\n",
        "Escribir la operación del TDA Lista **buscaElemento()** que busque un elemento que recibe por parámetro. La operación debe retornar una lista con las ubicaciones del elemento en la lista de entrada.\n",
        "\n",
        "Por ejemplo:\n",
        "\n",
        "**lista1** = [ 2 , 2 , 1 , 4 , 2 , 8 , 9 , 2 , 10]\n",
        "\n",
        "**posiciones = lista1.buscaElemento(2)**\n",
        "\n",
        "Entonces, **posiciones** = [ 0 , 1 , 4 , 7 ]"
      ]
    },
    {
      "cell_type": "code",
      "source": [
        "class Lista(Lista) :\n",
        "  def buscaElemento(self, elemABuscar) -> Lista:\n",
        "    auxLista = Lista()\n",
        "    auxNodo = self.__primero\n",
        "    posAux = 0\n",
        "    while self.tengaSiguiente():\n",
        "      if auxNodo.dato == elemABuscar:\n",
        "        auxLista.append(posAux)\n",
        "      auxNodo = auxNodo.siguiente()\n",
        "      posAux += 1\n",
        "    return auxLista\n",
        "\n"
      ],
      "metadata": {
        "id": "Rw_D9XZsnUm1",
        "colab": {
          "base_uri": "https://localhost:8080/"
        },
        "outputId": "d7b68a71-4345-482a-fe9d-8a99fc8e7985"
      },
      "execution_count": null,
      "outputs": [
        {
          "output_type": "stream",
          "name": "stdout",
          "text": [
            "primero -> 5 -> 7 -> 5 -> 1 -> 5 -|\n",
            "primero -> 0 -> 2 -> 4 -|\n"
          ]
        }
      ]
    },
    {
      "cell_type": "code",
      "source": [
        "class ListaRec(ListaRec):\n",
        "  def buscaElemento(self, buscado)-> ListaRec:\n",
        "    posiciones= ListaRec()\n",
        "    if not self.estaVacia():\n",
        "      self.__primero.buscaElementoNodo(buscado, posiciones)\n",
        "    return posiciones\n",
        "\n",
        "  class NodoLista(ListaRec.NodoLista):\n",
        "    def buscaElementoNodo(self, buscado, listaPos, posActual= 0):\n",
        "      if self.dato == buscado:\n",
        "        listaPos.agregarAlFinal(posActual)\n",
        "      if self.tieneSiguiente():\n",
        "        self.siguiente.buscaElementoNodo(buscado, listaPos, posActual+1)\n",
        "\n",
        "l1 = ListaRec()\n",
        "l1.agregarAlFinal(5)\n",
        "l1.agregarAlFinal(7)\n",
        "l1.agregarAlFinal(5)\n",
        "l1.agregarAlFinal(1)\n",
        "l1.agregarAlFinal(5)\n",
        "print(l1)\n",
        "salida= l1.buscaElemento(5)\n",
        "print(salida)"
      ],
      "metadata": {
        "colab": {
          "base_uri": "https://localhost:8080/"
        },
        "id": "CQqc68fRGJkH",
        "outputId": "fb194d45-a886-4190-aeed-98932a9b5a34"
      },
      "execution_count": null,
      "outputs": [
        {
          "output_type": "stream",
          "name": "stdout",
          "text": [
            "primero -> 5 -> 7 -> 5 -> 1 -> 5 -|\n",
            "primero -> 0 -> 2 -> 4 -|\n"
          ]
        }
      ]
    },
    {
      "cell_type": "markdown",
      "metadata": {
        "id": "-YN0LThH0dO6"
      },
      "source": [
        "### **Ejercicio 4**\n",
        "\n",
        "Escribir una operación del TDA Lista que elimine todas las ocurrencias de un elemento que recibe por parámetro y devuelva la cantidad de veces que se elimino el elemento. Se deben eliminar todos los nodos que contengan al elemento.\n",
        "\n",
        "Por ejemplo:\n",
        "\n",
        "**lista1** = [ 2 , 2 , 1 , 4 , 2 , 2 , 8 , 9 , 2 , 10]\n",
        "\n",
        "**cant = lista1.eliminarOcurrencias(2)**\n",
        "\n",
        "Entonces, **cant** = 5  y **lista1** = [ 1 , 4 , 8 , 9 , 10 ]\n",
        "\n",
        "          "
      ]
    },
    {
      "cell_type": "code",
      "source": [
        "class Lista(Lista):\n",
        "  def eliminarOcurrenciasDe(self, unElem: any) -> int:\n",
        "    auxNodo = self.__primero\n",
        "    posAux = 0\n",
        "    contadorEliminados = 0\n",
        "    while auxNodo.tieneSiguiente():\n",
        "      if auxNodo.dato == unElem:\n",
        "        self.eliminar(posAux)\n",
        "        auxNodo = auxNodo.siguiente\n",
        "        contadorEliminados += 1\n",
        "      else:\n",
        "        auxNodo = auxNodo.siguiente\n",
        "        posAux += 1\n",
        "    if auxNodo.dato == unElem:\n",
        "        self.eliminar(posAux)\n",
        "        contadorEliminados += 1\n",
        "\n",
        "    return contadorEliminados\n",
        "\n",
        "l1 = Lista()\n",
        "l1.agregarAlFinal(4);l1.agregarAlFinal(1);l1.agregarAlFinal(2);l1.agregarAlFinal(2);l1.agregarAlFinal(5);l1.agregarAlFinal(2)\n",
        "print(l1)\n",
        "cantidad = l1.eliminarOcurrenciasDe(2)\n",
        "print(cantidad)\n",
        "print(l1)"
      ],
      "metadata": {
        "id": "nsljYJtvnVsm",
        "colab": {
          "base_uri": "https://localhost:8080/"
        },
        "outputId": "83ab8bf7-9b7d-4c85-d504-378d6177a9de"
      },
      "execution_count": 27,
      "outputs": [
        {
          "output_type": "stream",
          "name": "stdout",
          "text": [
            "primero -> 4 -> 1 -> 2 -> 2 -> 5 -> 2 -|\n",
            "3\n",
            "primero -> 4 -> 1 -> 5 -|\n"
          ]
        }
      ]
    },
    {
      "cell_type": "code",
      "source": [
        "l1 = Lista((2 , 2 , 1 , 4 , 2 , 2 , 8 , 9 , 2 , 10))\n",
        "print(l1)\n",
        "print(l1.eliminarOcurrencias(10))\n",
        "print(l1)"
      ],
      "metadata": {
        "colab": {
          "base_uri": "https://localhost:8080/"
        },
        "id": "yG8Xf4AtLcgm",
        "outputId": "51845088-144e-4045-c747-67d3adb7b67b"
      },
      "execution_count": null,
      "outputs": [
        {
          "output_type": "stream",
          "name": "stdout",
          "text": [
            "primero -> 2 -> 2 -> 1 -> 4 -> 2 -> 2 -> 8 -> 9 -> 2 -> 10 -|\n",
            "1\n",
            "primero -> 2 -> 2 -> 1 -> 4 -> 2 -> 2 -> 8 -> 9 -> 2 -|\n"
          ]
        }
      ]
    },
    {
      "cell_type": "code",
      "source": [
        "#lista1 = [1 , 4 , 2 , 2 , 8 , 9 , 2 , 10]\n",
        "#lista2 = []\n",
        "\n",
        "class Lista(Lista):\n",
        "  def eliminarOcurrenciasInicio(self, datoDel:any)->int:\n",
        "    #Elimina y cuenta las apariciones de datoDel al inicio de la lista self\n",
        "    cant = 0\n",
        "    while not self.estaVacia() and self.__primero.dato == datoDel:\n",
        "      self.__primero = self.__primero.siguiente\n",
        "      cant += 1\n",
        "    return cant\n",
        "\n",
        "  def eliminarOcurrencias(self, datoDel:any)->int:\n",
        "    cant = self.eliminarOcurrenciasInicio(datoDel)\n",
        "    #que pasa si despues de borrar al inicio queda vacia???\n",
        "    if not self.estaVacia():\n",
        "      nodoAux = self.__primero\n",
        "      while nodoAux.tieneSiguiente():\n",
        "        if nodoAux.siguiente.dato == datoDel:\n",
        "          nodoAux.siguiente = nodoAux.siguiente.siguiente\n",
        "          cant += 1\n",
        "        else:\n",
        "          nodoAux = nodoAux.siguiente\n",
        "    return cant"
      ],
      "metadata": {
        "id": "Lcw9TfbaMQbb"
      },
      "execution_count": null,
      "outputs": []
    },
    {
      "cell_type": "code",
      "source": [
        "l1 = Lista((2, 2, 1 , 4 , 2 , 2 , 8 , 9 , 2 , 10))\n",
        "print(l1)\n",
        "print(l1.eliminarOcurrencias(2))\n",
        "print(l1)"
      ],
      "metadata": {
        "colab": {
          "base_uri": "https://localhost:8080/"
        },
        "id": "QA6t29DePEB4",
        "outputId": "36aac7e6-a372-44bc-a837-bc1435fe895f"
      },
      "execution_count": null,
      "outputs": [
        {
          "output_type": "stream",
          "name": "stdout",
          "text": [
            "primero -> 2 -> 2 -> 1 -> 4 -> 2 -> 2 -> 8 -> 9 -> 2 -> 10 -|\n",
            "5\n",
            "primero -> 1 -> 4 -> 8 -> 9 -> 10 -|\n"
          ]
        }
      ]
    },
    {
      "cell_type": "markdown",
      "metadata": {
        "id": "_Q_DCTjI3AGK"
      },
      "source": [
        "### **Ejercicio 5**\n",
        "\n",
        "Escribir una operación del TDA Lista que saque el nodo que esta al inicio de la lista (posición cero) y lo ponga en el final. Hacer otra que haga lo contrario, saque el nodo del final y lo ponga al inicio."
      ]
    },
    {
      "cell_type": "code",
      "metadata": {
        "id": "S1y89t3q3BkZ"
      },
      "source": [
        "#l = [2,1,4,1,5]\n",
        "#algoritmo para sacar el primero y ponerlo ultimo:\n",
        "#si la lista tiene mas de un elemento\n",
        "#apuntar el primero\n",
        "#hacer que el nuevo primero sea el que era el segundo\n",
        "#recorrer hasta el ultimo nodo\n",
        "#agregar el que era el primero al final"
      ],
      "execution_count": null,
      "outputs": []
    },
    {
      "cell_type": "markdown",
      "metadata": {
        "id": "xfP229oY3ODC"
      },
      "source": [
        "### **Ejercicio 6**\n",
        "\n",
        "Escribir una operación del TDA Lista que reemplace todas las ocurrencias de un numero por otro. Ambos números los recibe por parámetro.\n",
        "\n",
        "Por ejemplo:\n",
        "\n",
        "\n",
        "**lista1** = [ 2 , 1 , 4 , 8 , 9 , 2 , 5 , 12 , 10]\n",
        "\n",
        "**lista1.reemplazar(2,3)** #Reemplaza todos los 2 por 3\n",
        "\n",
        "Entonces, **lista1** = [ 3 , 1 , 4 , 8 , 9 , 3 , 5 , 12 , 10 ]"
      ]
    },
    {
      "cell_type": "code",
      "source": [
        "class ListaRec(ListaRec):\n",
        "  def reemplazar(self, original, reemplazo):\n",
        "    if not self.estaVacia():\n",
        "      self.__primero.reemplazarNodo(original, reemplazo)\n",
        "\n",
        "  class NodoLista(ListaRec.NodoLista):\n",
        "    def reemplazarNodo (self, original, reemplazo):\n",
        "      if self.dato == original:\n",
        "        self.dato= reemplazo\n",
        "      if self.tieneSiguiente():\n",
        "        self.siguiente.reemplazarNodo(original, reemplazo)"
      ],
      "metadata": {
        "id": "ZW66DI4DnWn1"
      },
      "execution_count": null,
      "outputs": []
    },
    {
      "cell_type": "markdown",
      "metadata": {
        "id": "nxgYjoxl3gmz"
      },
      "source": [
        "### **Ejercicio 7**\n",
        "\n",
        "Escribir la operación **duplicar()** del TDA Lista que duplica el contenido de una lista.\n",
        "\n",
        "Por ejemplo:\n",
        "\n",
        "**lista1** = [ 2 , 1 , 4 , 8 , 9 ]\n",
        "\n",
        "**lista1.duplicar()**\n",
        "\n",
        "Entonces, **lista1** = [ 2 , 1 , 4 , 8 , 9 , 2 , 1 , 4 , 8 , 9 ]"
      ]
    },
    {
      "cell_type": "code",
      "metadata": {
        "id": "Ojjaj3Z23g7j"
      },
      "source": [
        "class Lista(Lista):\n",
        "  def duplicar(self):\n",
        "    N= self.tamaño()\n",
        "    aux= self.__primero\n",
        "    while N > 0:\n",
        "      self.agregarAlFinal(aux.dato)\n",
        "      N -= 1\n",
        "      aux= aux.siguiente\n",
        "\n",
        "l1 = Lista()\n",
        "l1.agregarAlFinal(5)\n",
        "l1.agregarAlFinal(7)\n",
        "l1.agregarAlFinal(5)\n",
        "l1.agregarAlFinal(1)\n",
        "l1.agregarAlFinal(5)\n",
        "print(l1)\n",
        "l1.duplicar()\n",
        "print(l1)"
      ],
      "execution_count": null,
      "outputs": []
    },
    {
      "cell_type": "markdown",
      "metadata": {
        "id": "qBL1crPl55oY"
      },
      "source": [
        "### **Ejercicio 8**\n",
        "\n",
        "Los recorridos de listas normalmente pasan por todos los nodos, empezando por el primero, luego al siguiente, etc, como en la siguiente figura:\n",
        "\n",
        "\n",
        "![texto alternativo](https://i.ibb.co/DD1SXP9/recorrido-lista.png)\n",
        "\n",
        "\n",
        "Escribir una operación del TDA Lista que recorra la lista salteandose de a un nodo y mostrando por pantalla los elementos de los nodos visitados. El recorrido debe ser asi:\n",
        "\n",
        "![texto alternativo](https://i.ibb.co/q7xjDkZ/recorrido-salteado-lista.png)\n",
        "\n",
        "Por ejemplo:\n",
        "\n",
        "**lista1** = [ 2 , 1 , 4 , 8 , 9 , 12 , 5 , 8 ]\n",
        "\n",
        "**lista1.recorridoSalteado()**\n",
        "\n",
        "2\n",
        "\n",
        "4\n",
        "\n",
        "9\n",
        "\n",
        "5\n",
        "\n",
        "\n",
        "**Nota: No es correcto hacer un recorrido secuencial e ir contando las posiciones, lo correcto es solo visitar los nodos que nos interesan**"
      ]
    },
    {
      "cell_type": "code",
      "source": [
        "#lista1 = [ 2 , 1 , 4 , 8 , 9 , 12 , 5 , 8 ]\n",
        "class Lista(Lista):\n",
        "  def recorridoSalteado(self)->None:\n",
        "    nodoAux = self.__primero\n",
        "    while nodoAux != None:\n",
        "      print(nodoAux.dato)\n",
        "      if nodoAux.tieneSiguiente():\n",
        "        nodoAux = nodoAux.siguiente.siguiente\n",
        "      else:\n",
        "        nodoAux = nodoAux.siguiente\n"
      ],
      "metadata": {
        "id": "loIUgNoenXrO"
      },
      "execution_count": null,
      "outputs": []
    },
    {
      "cell_type": "code",
      "source": [
        "l = Lista((2 , 1 , 4 , 8 , 9 , 12 , 5))\n",
        "l.recorridoSalteado()"
      ],
      "metadata": {
        "id": "cLs2nqG5TyJl"
      },
      "execution_count": null,
      "outputs": []
    },
    {
      "cell_type": "markdown",
      "metadata": {
        "id": "kaEphODFuZkW"
      },
      "source": [
        "### **Ejercicio 9**\n",
        "\n",
        "Vamos con otro tipo de recorrido de listas, escribir una operación del TDA Lista que recorra la lista de la siguiente manera (mientras va imprimiendo los elementos del nodo visitado):\n",
        "- Si el elemento del nodo visitado es par, seguimos por el siguiente\n",
        "- Si el elemento del nodo visitado es impar, nos salteamos el siguiente y seguimos con el otro\n",
        "\n",
        "El recorrido debe ser asi:\n",
        "\n",
        "![texto alternativo](https://i.ibb.co/DkBKs5M/recorrido-salteadopar-lista.png)\n",
        "\n",
        "Por ejemplo:\n",
        "\n",
        "**lista1** = [ 2 , 5 , 1 , 9 , 8 , 10 , 7 ]\n",
        "\n",
        "**lista1.recorridoParImpar()**\n",
        "\n",
        "2\n",
        "\n",
        "5\n",
        "\n",
        "9\n",
        "\n",
        "10\n",
        "\n",
        "7\n"
      ]
    },
    {
      "cell_type": "code",
      "metadata": {
        "id": "Qw2fTW5dG9Fy"
      },
      "source": [],
      "execution_count": null,
      "outputs": []
    },
    {
      "cell_type": "markdown",
      "metadata": {
        "id": "XhFVjfXpG8Vi"
      },
      "source": [
        "### **Ejercicio 10**\n",
        "\n",
        "Escribir una operación del TDA Lista que recibe dos números por parámetro. La operación recorre la lista, si el elemento del nodo es menor que el primer parámetro se deja igual, si es mayor o igual, se reemplaza por el mismo número multiplicado por el otro parámetro.\n",
        "\n",
        "Por ejemplo:\n",
        "\n",
        "**lista1** = [ 2 , 1 , 4 , 8 , 9 , 12 , 0 , 10 , 1 , 4 ]\n",
        "\n",
        "**lista1.reemplazaMayores(6,3)** #Multiplica por 3 los mayores o iguales a 6, el resto queda igual\n",
        "\n",
        "Entonces, **lista1** = [ 2 , 1 , 4 , 24 , 27 , 36 , 0 , 30 , 1 , 4 ]\n"
      ]
    },
    {
      "cell_type": "code",
      "source": [],
      "metadata": {
        "id": "i-o8y95AnY1u"
      },
      "execution_count": null,
      "outputs": []
    },
    {
      "cell_type": "markdown",
      "metadata": {
        "id": "a9FAMdrHZdJ1"
      },
      "source": [
        "### **Ejercicio 11**\n",
        "\n",
        "Escribir una operación del TDA Lista que recibe dos números por parámetro: una posición y un número nuevo. Recorre la lista hasta la posición y reemplaza el número de la lista por el nuevo.\n",
        "\n",
        "Por ejemplo:\n",
        "\n",
        "**lista1** = [ 2 , 1 , 4 , 8 , 9 , 12 , 0 , 10 , 1 , 4 ]\n",
        "\n",
        "**lista1.reemplazar(2,20)** #Reemplaza el número en la posición 2 por 20\n",
        "\n",
        "Entonces, **lista1** = [ 2 , 1 , 20 , 8 , 9 , 12 , 0 , 10 , 1 , 4 ]"
      ]
    },
    {
      "cell_type": "code",
      "metadata": {
        "id": "Qfj8xzfWougq"
      },
      "source": [
        "#Valido que la posicion sea correcta\n",
        "#Recorro hasta el nodo de la posicion deseada\n",
        "#Pongo el dato en el nodo de la posicion (no pongo un nuevo nodo, solo cambio el dato)"
      ],
      "execution_count": null,
      "outputs": []
    },
    {
      "cell_type": "markdown",
      "metadata": {
        "id": "ds5kveH9otzk"
      },
      "source": [
        "### **Ejercicio 12**\n",
        "\n",
        "Escribir la operación **insertarOrdenado()** del TDA Lista, que se llama desde una lista ordenada e inserta un número que recibe por parámetro en el lugar correcto (manteniendo el orden).\n",
        "\n",
        "Por ejemplo:\n",
        "\n",
        "**lista1** = [ 2 , 5 , 9 , 12 , 25 , 32 ]\n",
        "\n",
        "**lista1.insertarOrdenado(10)**\n",
        "\n",
        "Entonces, **lista1** = [ 2 , 5 , 9 , 10 , 12 , 25 , 32 ]"
      ]
    },
    {
      "cell_type": "code",
      "source": [
        "#NO se puede usar insertar\n",
        "#Ver que hacer si la lista esta vacia\n",
        "#Ver que hacer si el dato nuevo es mas chico que el primero\n",
        "#Recorro la lista hasta llegar a un nodo en el que el siguiente es mas grande que el dato que quiero insertar\n",
        "#Ver que pasa si el dato que quiero insertar es mas grande que el mayor\n",
        "#Inserto un nuevo nodo\n",
        "\n",
        "class Lista(Lista):\n",
        "  def insertarOrdenado(self, dato: any) -> None:\n",
        "    nodoNuevo = Lista.NodoLista(dato)\n",
        "    if self.estaVacia():\n",
        "      self.__primero = nodoNuevo\n",
        "    elif dato <= self.__primero.dato:\n",
        "      nodoNuevo.siguiente = self.__primero\n",
        "      self.__primero = nodoNuevo\n",
        "    else:\n",
        "      nodoAux = self.__primero\n",
        "      while nodoAux.tieneSiguiente() and nodoAux.siguiente.dato < dato:\n",
        "        nodoAux = nodoAux.siguiente\n",
        "      nodoNuevo.siguiente = nodoAux.siguiente\n",
        "      nodoAux.siguiente = nodoNuevo"
      ],
      "metadata": {
        "id": "v9Cj0S8-ndU_"
      },
      "execution_count": null,
      "outputs": []
    },
    {
      "cell_type": "code",
      "source": [
        "l1 = Lista((2 , 5 , 9 , 12 , 25 , 32))\n",
        "print(l1)\n",
        "l1.insertarOrdenado(10)\n",
        "print(l1)"
      ],
      "metadata": {
        "id": "DDutTY6vlh6l"
      },
      "execution_count": null,
      "outputs": []
    },
    {
      "cell_type": "code",
      "source": [
        "#l = [50, 30, 20, 10, 7]\n",
        "#               15\n",
        "#Insertar ordenado recursivo sobre una lista ordenada de mayor a menor\n",
        "class ListaRec(ListaRec):\n",
        "  def insertarOrdenado(self, dato:any)->None:\n",
        "    nodoNuevo = ListaRec.NodoLista(dato)\n",
        "    if self.estaVacia():\n",
        "      self.__primero = nodoNuevo\n",
        "    elif dato >= self.__primero.dato:\n",
        "      nodoNuevo.siguiente = self.__primero\n",
        "      self.__primero = nodoNuevo\n",
        "    else:\n",
        "      self.__primero.insertarOrdenadoNodo(nodoNuevo)\n",
        "  class NodoLista(ListaRec.NodoLista):\n",
        "    def insertarOrdenadoNodo(self, nodoNuevo)->None:\n",
        "      if not self.tieneSiguiente() or nodoNuevo.dato >= self.siguiente.dato:\n",
        "        nodoNuevo.siguiente = self.siguiente\n",
        "        self.siguiente = nodoNuevo\n",
        "      else:\n",
        "        self.siguiente.insertarOrdenadoNodo(nodoNuevo)"
      ],
      "metadata": {
        "id": "lyOj6c9bN9Dk"
      },
      "execution_count": null,
      "outputs": []
    },
    {
      "cell_type": "code",
      "source": [
        "l1 = ListaRec()\n",
        "l1.agregarAlFinal(50);l1.agregarAlFinal(30);l1.agregarAlFinal(20);l1.agregarAlFinal(7);\n",
        "print(l1)\n",
        "l1.insertarOrdenado(1)\n",
        "print(l1)"
      ],
      "metadata": {
        "colab": {
          "base_uri": "https://localhost:8080/"
        },
        "id": "D_SvuGx2RA7T",
        "outputId": "032d6c2b-4954-448b-ccf6-1c3d56ef57a1"
      },
      "execution_count": null,
      "outputs": [
        {
          "output_type": "stream",
          "name": "stdout",
          "text": [
            "primero -> 50 -> 30 -> 20 -> 7 -|\n",
            "primero -> 50 -> 30 -> 20 -> 7 -> 1 -|\n"
          ]
        }
      ]
    }
  ]
}
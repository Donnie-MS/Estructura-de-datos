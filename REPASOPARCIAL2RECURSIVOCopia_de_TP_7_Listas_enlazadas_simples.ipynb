{
  "nbformat": 4,
  "nbformat_minor": 0,
  "metadata": {
    "colab": {
      "provenance": []
    },
    "kernelspec": {
      "name": "python3",
      "display_name": "Python 3"
    }
  },
  "cells": [
    {
      "cell_type": "markdown",
      "metadata": {
        "id": "42630xxYD0gZ"
      },
      "source": [
        "# ![alt text](https://upload.wikimedia.org/wikipedia/commons/thumb/c/c3/Python-logo-notext.svg/50px-Python-logo-notext.svg.png) **Trabajo Práctico 7: Listas enlazadas simples** ![alt text](https://upload.wikimedia.org/wikipedia/commons/thumb/c/c3/Python-logo-notext.svg/50px-Python-logo-notext.svg.png)\n",
        "\n",
        "En este trabajo práctico, vamos a trabajar iterativamente con la estructura de datos **Lista enlazada simple** en Python. Recuerden crear una copia de este archivo en su ***Google Drive*** para tener permisos de edición.\n",
        "\n",
        "### **En los ejercicios de esta guía, no pueden usar para nada las Listas de Python, si deben declarar una lista para algo, usen la implementada por ustedes.**\n",
        "\n",
        "### **Para implementar las operaciones del TDA Lista, tienen que trabajar con los nodos internos de las listas, no con las listas desde afuera.**\n",
        "\n",
        "### Sergio: **sergio.gonzalez@unahur.edu.ar**"
      ]
    },
    {
      "cell_type": "markdown",
      "metadata": {
        "id": "xjXgmD3mskbR"
      },
      "source": [
        "### **Ejercicio 1**\n",
        "\n",
        "Implementar el TDA Lista enlazada simple, con las siguientes operaciones:\n",
        "- **\\_\\_init__():** Constructor\n",
        "- **Vaciar**\n",
        "- **Agregar elemento al final (append):** Inserta nuevo nodo al final de la lista con el elemento que recibe como parámetro.\n",
        "- **Insertar elemento:** Recibe un elemento y una posición como parámetro e inserta un nuevo nodo con el elemento en esa posición. Si la posicion es mayor al tamaño de la lista, el elemento se inserta al final.\n",
        "- **Obtener elemento (get):** Recibe una posición y retorna el elemento del nodo en esa posición.\n",
        "- **Eliminar elemento (pop):** Recibe una posición y elimina el nodo en esa posición.\n",
        "- **Obtener tamaño de lista**.\n",
        "- **Esta vacía**.\n",
        "- **Clonar**\n",
        "- **\\_\\_repr__():** Para poder imprimir una Lista por consola\n",
        "\n",
        "**Nota: Cuando usamos posiciones en las listas, tener en cuenta que los indices empiezan en cero, es decir, el primer elemento de la lista esta en la posicion cero.**"
      ]
    },
    {
      "cell_type": "code",
      "source": [
        "class ListaRec:\n",
        "  class __NodoLista:\n",
        "    def __init__(self, dato: any):\n",
        "      self.dato = dato\n",
        "      self.siguiente = None\n",
        "\n",
        "    def tieneSiguiente(self) -> bool:\n",
        "      return self.siguiente != None\n",
        "\n",
        "    def __repr__(self)->str: #Acá ya empieza a cambiar respecto a la interfaz anterior.\n",
        "    # Hay que notar que el __repr__ está definido a nivel NODO, antes no lo estaba.\n",
        "    # El chiste con las listas recursivas es delegar mucha funcionalidad en los nodos\n",
        "      salida = \"\" # Inicializamos una variable string vacía para la salida\n",
        "      if self != None: # Si el Nodo es distinto de None:\n",
        "        salida = f\" -> {self.dato}\" #La salida es entonces el valor del dato (y las flechitas para darle formato)\n",
        "        if self.tieneSiguiente(): # Y si tiene siguiente:\n",
        "          salida += str(self.siguiente) # La salida agrega el __repr__ del siguiente\n",
        "          # Recordar que hacer str(unObjeto) es lo mismo que pedir unObjeto.__repr__()\n",
        "      return salida # Retornamos la salida\n",
        "\n",
        "      return salida\n",
        "\n",
        "  def __init__(self) -> None:\n",
        "    self.__primero = None\n",
        "\n",
        "  def __repr__(self)->str: # El repr ya toma lo que construimos a nivel nodo:\n",
        "    salida = \"primero\" # Inicia la salida con primero (como la lista que teníamos de antes)\n",
        "    if not self.estaVacia(): # Si no está vacía (hay primero:)\n",
        "      salida += str(self.__primero) #La salida va a ser entonces sumar el __repr__ DEL NODO\n",
        "      # Entonces salida es \"primero\" + -> PRIMERNODO.__repr__()\n",
        "      # Y el repr de PRIMERNODO llama a su siguiente (si tiene) y así hace la vuelta recursiva\n",
        "    return salida + \" -|\" # Una vez que terminó de sumar todos los nodos cierra la salida con \"-|\"\n",
        "  def estaVacia(self) -> bool:\n",
        "    return self.__primero == None\n"
      ],
      "metadata": {
        "id": "x4yr4PcZnSK9"
      },
      "execution_count": null,
      "outputs": []
    },
    {
      "cell_type": "code",
      "source": [
        "class ListaRec(ListaRec):\n",
        "    def agregarAlFinal(self, dato: any) -> None:\n",
        "        nodoNuevo = ListaRec.__NodoLista(dato)\n",
        "        if not self.estaVacia():\n",
        "            self.__primero.agregarAlFinalNodo(nodoNuevo)\n",
        "        else:\n",
        "            self.__primero = nodoNuevo\n",
        "\n",
        "    class __NodoLista(ListaRec.__NodoLista):\n",
        "        def agregarAlFinalNodo(self, nodoNuevo):\n",
        "            if self.tieneSiguiente():\n",
        "                self.siguiente.agregarAlFinalNodo(nodoNuevo)\n",
        "            else:\n",
        "                self.siguiente = nodoNuevo\n"
      ],
      "metadata": {
        "id": "x8LcTvt2vzYJ"
      },
      "execution_count": null,
      "outputs": []
    },
    {
      "cell_type": "code",
      "source": [
        "class ListaRec(ListaRec):\n",
        "  def tamanio(self) -> int:\n",
        "    cantNodos = 0\n",
        "    if not self.estaVacia():\n",
        "      cantNodos = self.__primero.tamanioNodo()\n",
        "    else:\n",
        "      cantNodos = 0\n",
        "    return cantNodos\n",
        "  class __NodoLista(ListaRec.__NodoLista):\n",
        "    def tamanioNodo(self) -> int:\n",
        "      cantNodos = 1  # Cuenta el nodo actual\n",
        "      if self.tieneSiguiente():\n",
        "        cantNodos += self.siguiente.tamanioNodo()\n",
        "      return cantNodos\n",
        "\n",
        "l1 = ListaRec()\n",
        "l1.agregarAlFinal(4);l1.agregarAlFinal(1);l1.agregarAlFinal(3);\n",
        "\n",
        "print(l1.tamanio())"
      ],
      "metadata": {
        "id": "wzB9IF2lqTUw",
        "colab": {
          "base_uri": "https://localhost:8080/"
        },
        "outputId": "293b1b3a-e4ac-421b-b5ba-165929a8aaaf"
      },
      "execution_count": null,
      "outputs": [
        {
          "output_type": "stream",
          "name": "stdout",
          "text": [
            "3\n"
          ]
        }
      ]
    },
    {
      "cell_type": "code",
      "source": [
        "class ListaRec(ListaRec):\n",
        "  def insertar(self, posIns: int, dato: any) -> any:\n",
        "    nuevoNodo = ListaRec.__NodoLista(dato)\n",
        "    if posIns <= self.tamanio() - 1:\n",
        "      if posIns == 0:\n",
        "        nuevoNodo.siguiente = self.__primero\n",
        "        self.__primero = nuevoNodo\n",
        "      else:\n",
        "        self.__primero.insertarNodo(posIns, nuevoNodo)\n",
        "    else:\n",
        "      raise Exception(\"La posición a insertar no existe\")\n",
        "  class __NodoLista(ListaRec.__NodoLista):\n",
        "    def insertarNodo(self, posIns, nuevoNodo, index: int = 0) -> None:\n",
        "      #si Necesito poner pos aux significa que hago index\n",
        "      if self.tieneSiguiente() and index != posIns - 1:\n",
        "        self.siguiente.insertarNodo(posIns, nuevoNodo, index + 1)\n",
        "      else:\n",
        "        nuevoNodo.siguiente = self.siguiente\n",
        "        self.siguiente = nuevoNodo\n",
        "\n",
        "\n",
        "l1 = ListaRec()\n",
        "l1.agregarAlFinal(4);l1.agregarAlFinal(1);l1.agregarAlFinal(3);\n",
        "print(l1)\n",
        "l1.insertar(2,10)\n",
        "print(l1)"
      ],
      "metadata": {
        "colab": {
          "base_uri": "https://localhost:8080/"
        },
        "id": "kGWVwwtquGYH",
        "outputId": "85657228-b012-4656-b96f-90a99edbd793"
      },
      "execution_count": 29,
      "outputs": [
        {
          "output_type": "stream",
          "name": "stdout",
          "text": [
            "primero -> 4 -> 1 -> 3 -|\n",
            "primero -> 4 -> 1 -> 10 -> 3 -|\n"
          ]
        }
      ]
    },
    {
      "cell_type": "code",
      "source": [
        "class ListaRec(ListaRec):\n",
        "  def eliminar(self, posDel: int) -> any:\n",
        "    dato = None\n",
        "    if posDel <= self.tamanio() - 1:\n",
        "      if posDel == 0:\n",
        "        dato = self.__primero.dato\n",
        "        self.__primero = self.__primero.siguiente\n",
        "      else:\n",
        "        dato = self.__primero.eliminarNodo(posDel)\n",
        "    else:\n",
        "      raise Exception(\"La posición que quiere eliminar no existe\")\n",
        "    return dato\n",
        "\n",
        "  class __NodoLista(ListaRec.__NodoLista):\n",
        "    def eliminarNodo(self, posDel:int, index= 0):\n",
        "      datoDel = None\n",
        "      if self.tieneSiguiente() and index != posDel - 1:\n",
        "        self.siguiente.eliminarNodo(posDel, index + 1)\n",
        "      else:\n",
        "        datoDel = self.siguiente.dato\n",
        "        self.siguiente = self.siguiente.siguiente\n",
        "      return datoDel\n",
        "\n",
        "l1 = ListaRec()\n",
        "l1.agregarAlFinal(4);l1.agregarAlFinal(1);l1.agregarAlFinal(3);\n",
        "print(l1)\n",
        "print(l1.eliminar(0))\n",
        "print(l1)"
      ],
      "metadata": {
        "id": "rImbHQHz2xQ9",
        "colab": {
          "base_uri": "https://localhost:8080/"
        },
        "outputId": "c6577ab0-372b-4722-c725-d786b1d5147f"
      },
      "execution_count": 38,
      "outputs": [
        {
          "output_type": "stream",
          "name": "stdout",
          "text": [
            "primero -> 4 -> 1 -> 3 -|\n",
            "4\n",
            "primero -> 1 -> 3 -|\n"
          ]
        }
      ]
    },
    {
      "cell_type": "code",
      "source": [
        "from pickle import NONE\n",
        "#Obtener elemento (get): Recibe una posición y retorna el elemento del nodo en esa posición.\n",
        "class ListaRec(ListaRec):\n",
        "  def obtener(self, posObt: int) -> any:\n",
        "    elemBuscado = None\n",
        "    if posObt <= self.tamanio() - 1:\n",
        "      elemBuscado = self.__primero.obtenerNodo(posObt)\n",
        "    else:\n",
        "      raise IndexError(\"La posición ingresada no existe\")\n",
        "    return elemBuscado\n",
        "  class __NodoLista(ListaRec.__NodoLista):\n",
        "    def obtenerNodo(self, posObt: int, index = 0) -> any:\n",
        "      elemBuscado = None\n",
        "      if posObt != index:\n",
        "        elemBuscado = self.siguiente.obtenerNodo(posObt, index + 1)\n",
        "      else:\n",
        "        elemBuscado = self.dato\n",
        "      return elemBuscado\n",
        "\n",
        "l1 = ListaRec()\n",
        "l1.agregarAlFinal(4);l1.agregarAlFinal(22);l1.agregarAlFinal(3);\n",
        "print(l1)\n",
        "print(l1.obtener(0))"
      ],
      "metadata": {
        "colab": {
          "base_uri": "https://localhost:8080/"
        },
        "id": "Q6ykZt-8qcYd",
        "outputId": "774a1950-8359-42a1-ee6c-b6473998a244"
      },
      "execution_count": 57,
      "outputs": [
        {
          "output_type": "stream",
          "name": "stdout",
          "text": [
            "primero -> 4 -> 22 -> 3 -|\n",
            "4\n"
          ]
        }
      ]
    },
    {
      "cell_type": "markdown",
      "metadata": {
        "id": "mpbNzKecOIQe"
      },
      "source": [
        "### **Ejercicio 3**\n",
        "\n",
        "Escribir la operación del TDA Lista **buscaElemento()** que busque un elemento que recibe por parámetro. La operación debe retornar una lista con las ubicaciones del elemento en la lista de entrada.\n",
        "\n",
        "Por ejemplo:\n",
        "\n",
        "**lista1** = [ 2 , 2 , 1 , 4 , 2 , 8 , 9 , 2 , 10]\n",
        "\n",
        "**posiciones = lista1.buscaElemento(2)**\n",
        "\n",
        "Entonces, **posiciones** = [ 0 , 1 , 4 , 7 ]"
      ]
    },
    {
      "cell_type": "code",
      "source": [
        "class ListaRec(ListaRec):\n",
        "  def buscaElemento(self, elem: any) -> ListaRec:\n",
        "    posElems = ListaRec()\n",
        "    if not self.estaVacia():\n",
        "      self.__primero.buscaElementoNodo(elem, posElems)\n",
        "    return posElems\n",
        "  class __NodoLista(ListaRec.__NodoLista):\n",
        "    def buscaElementoNodo(self, elem, listado, index = 0):\n",
        "      if self.dato == elem:\n",
        "        listado.agregarAlFinal(index)\n",
        "      if self.tieneSiguiente():\n",
        "        self.siguiente.buscaElementoNodo(elem, listado, index + 1)\n",
        "\n",
        "\n",
        "l1 = ListaRec()\n",
        "l1.agregarAlFinal(5)\n",
        "l1.agregarAlFinal(7)\n",
        "l1.agregarAlFinal(5)\n",
        "l1.agregarAlFinal(1)\n",
        "l1.agregarAlFinal(5)\n",
        "print(l1)\n",
        "salida= l1.buscaElemento(5)\n",
        "print(salida)"
      ],
      "metadata": {
        "colab": {
          "base_uri": "https://localhost:8080/"
        },
        "id": "CQqc68fRGJkH",
        "outputId": "43947723-9e24-4067-d2f1-862f9e8fbdab"
      },
      "execution_count": 62,
      "outputs": [
        {
          "output_type": "stream",
          "name": "stdout",
          "text": [
            "primero -> 5 -> 7 -> 5 -> 1 -> 5 -|\n",
            "primero -> 0 -> 2 -> 4 -|\n"
          ]
        }
      ]
    },
    {
      "cell_type": "markdown",
      "metadata": {
        "id": "-YN0LThH0dO6"
      },
      "source": [
        "### **Ejercicio 4**\n",
        "\n",
        "Escribir una operación del TDA Lista que elimine todas las ocurrencias de un elemento que recibe por parámetro y devuelva la cantidad de veces que se elimino el elemento. Se deben eliminar todos los nodos que contengan al elemento.\n",
        "\n",
        "Por ejemplo:\n",
        "\n",
        "**lista1** = [ 2 , 2 , 1 , 4 , 2 , 2 , 8 , 9 , 2 , 10]\n",
        "\n",
        "**cant = lista1.eliminarOcurrencias(2)**\n",
        "\n",
        "Entonces, **cant** = 5  y **lista1** = [ 1 , 4 , 8 , 9 , 10 ]\n",
        "\n",
        "          "
      ]
    },
    {
      "cell_type": "code",
      "source": [
        "\n",
        "class ListaRec(ListaRec):\n",
        "  def eliminarOcurrencias(self, elem: any) :\n",
        "    N = 0\n",
        "    if not self.estaVacia():\n",
        "      while self.__primero.dato == elem:\n",
        "        self.__primero = self.__primero.siguiente\n",
        "        N += 1\n",
        "      N += self.__primero.eliminarOcurrenciasNodo(elem)\n",
        "    return N\n",
        "\n",
        "  class __NodoLista(ListaRec.__NodoLista):\n",
        "    def eliminarOcurrenciasNodo(self, elem:any):\n",
        "      N = 0\n",
        "      if self.tieneSiguiente():\n",
        "        if self.siguiente.dato == elem:\n",
        "          self.siguiente = self.siguiente.siguiente\n",
        "          N = 1 + self.eliminarOcurrenciasNodo(elem)\n",
        "        else:\n",
        "          N += self.siguiente.eliminarOcurrenciasNodo(elem)\n",
        "      return N\n",
        "\n",
        "l1 = ListaRec()\n",
        "l1.agregarAlFinal(4);l1.agregarAlFinal(1);l1.agregarAlFinal(2);l1.agregarAlFinal(2);l1.agregarAlFinal(5);l1.agregarAlFinal(2)\n",
        "print(l1)\n",
        "cantidad = l1.eliminarOcurrencias(2)\n",
        "print(cantidad)\n",
        "print(l1)"
      ],
      "metadata": {
        "id": "Lcw9TfbaMQbb",
        "colab": {
          "base_uri": "https://localhost:8080/"
        },
        "outputId": "d6399299-fca9-463d-b71b-519611704560"
      },
      "execution_count": 65,
      "outputs": [
        {
          "output_type": "stream",
          "name": "stdout",
          "text": [
            "primero -> 4 -> 1 -> 2 -> 2 -> 5 -> 2 -|\n",
            "3\n",
            "primero -> 4 -> 1 -> 5 -|\n"
          ]
        }
      ]
    },
    {
      "cell_type": "markdown",
      "metadata": {
        "id": "xfP229oY3ODC"
      },
      "source": [
        "### **Ejercicio 6**\n",
        "\n",
        "Escribir una operación del TDA Lista que reemplace todas las ocurrencias de un numero por otro. Ambos números los recibe por parámetro.\n",
        "\n",
        "Por ejemplo:\n",
        "\n",
        "\n",
        "**lista1** = [ 2 , 1 , 4 , 8 , 9 , 2 , 5 , 12 , 10]\n",
        "\n",
        "**lista1.reemplazar(2,3)** #Reemplaza todos los 2 por 3\n",
        "\n",
        "Entonces, **lista1** = [ 3 , 1 , 4 , 8 , 9 , 3 , 5 , 12 , 10 ]"
      ]
    },
    {
      "cell_type": "code",
      "source": [
        "class ListaRec(ListaRec):\n",
        "  def reemplazar(self, original, reemplazo):\n",
        "    if not self.estaVacia():\n",
        "      self.__primero.reemplazarNodo(original, reemplazo)\n",
        "\n",
        "  class NodoLista(ListaRec.NodoLista):\n",
        "    def reemplazarNodo (self, original, reemplazo):\n",
        "      if self.dato == original:\n",
        "        self.dato= reemplazo\n",
        "      if self.tieneSiguiente():\n",
        "        self.siguiente.reemplazarNodo(original, reemplazo)"
      ],
      "metadata": {
        "id": "ZW66DI4DnWn1"
      },
      "execution_count": null,
      "outputs": []
    },
    {
      "cell_type": "markdown",
      "metadata": {
        "id": "qBL1crPl55oY"
      },
      "source": [
        "### **Ejercicio 8**\n",
        "\n",
        "Los recorridos de listas normalmente pasan por todos los nodos, empezando por el primero, luego al siguiente, etc, como en la siguiente figura:\n",
        "\n",
        "\n",
        "![texto alternativo](https://i.ibb.co/DD1SXP9/recorrido-lista.png)\n",
        "\n",
        "\n",
        "Escribir una operación del TDA Lista que recorra la lista salteandose de a un nodo y mostrando por pantalla los elementos de los nodos visitados. El recorrido debe ser asi:\n",
        "\n",
        "![texto alternativo](https://i.ibb.co/q7xjDkZ/recorrido-salteado-lista.png)\n",
        "\n",
        "Por ejemplo:\n",
        "\n",
        "**lista1** = [ 2 , 1 , 4 , 8 , 9 , 12 , 5 , 8 ]\n",
        "\n",
        "**lista1.recorridoSalteado()**\n",
        "\n",
        "2\n",
        "\n",
        "4\n",
        "\n",
        "9\n",
        "\n",
        "5\n",
        "\n",
        "\n",
        "**Nota: No es correcto hacer un recorrido secuencial e ir contando las posiciones, lo correcto es solo visitar los nodos que nos interesan**"
      ]
    },
    {
      "cell_type": "code",
      "source": [
        "#lista1 = [ 2 , 1 , 4 , 8 , 9 , 12 , 5 , 8 ]\n",
        "class Lista(Lista):\n",
        "  def recorridoSalteado(self)->None:\n",
        "    nodoAux = self.__primero\n",
        "    while nodoAux != None:\n",
        "      print(nodoAux.dato)\n",
        "      if nodoAux.tieneSiguiente():\n",
        "        nodoAux = nodoAux.siguiente.siguiente\n",
        "      else:\n",
        "        nodoAux = nodoAux.siguiente\n"
      ],
      "metadata": {
        "id": "loIUgNoenXrO"
      },
      "execution_count": null,
      "outputs": []
    },
    {
      "cell_type": "code",
      "source": [
        "l = Lista((2 , 1 , 4 , 8 , 9 , 12 , 5))\n",
        "l.recorridoSalteado()"
      ],
      "metadata": {
        "id": "cLs2nqG5TyJl"
      },
      "execution_count": null,
      "outputs": []
    },
    {
      "cell_type": "markdown",
      "metadata": {
        "id": "kaEphODFuZkW"
      },
      "source": [
        "### **Ejercicio 9**\n",
        "\n",
        "Vamos con otro tipo de recorrido de listas, escribir una operación del TDA Lista que recorra la lista de la siguiente manera (mientras va imprimiendo los elementos del nodo visitado):\n",
        "- Si el elemento del nodo visitado es par, seguimos por el siguiente\n",
        "- Si el elemento del nodo visitado es impar, nos salteamos el siguiente y seguimos con el otro\n",
        "\n",
        "El recorrido debe ser asi:\n",
        "\n",
        "![texto alternativo](https://i.ibb.co/DkBKs5M/recorrido-salteadopar-lista.png)\n",
        "\n",
        "Por ejemplo:\n",
        "\n",
        "**lista1** = [ 2 , 5 , 1 , 9 , 8 , 10 , 7 ]\n",
        "\n",
        "**lista1.recorridoParImpar()**\n",
        "\n",
        "2\n",
        "\n",
        "5\n",
        "\n",
        "9\n",
        "\n",
        "10\n",
        "\n",
        "7\n"
      ]
    },
    {
      "cell_type": "code",
      "metadata": {
        "id": "Qw2fTW5dG9Fy"
      },
      "source": [],
      "execution_count": null,
      "outputs": []
    },
    {
      "cell_type": "markdown",
      "metadata": {
        "id": "XhFVjfXpG8Vi"
      },
      "source": [
        "### **Ejercicio 10**\n",
        "\n",
        "Escribir una operación del TDA Lista que recibe dos números por parámetro. La operación recorre la lista, si el elemento del nodo es menor que el primer parámetro se deja igual, si es mayor o igual, se reemplaza por el mismo número multiplicado por el otro parámetro.\n",
        "\n",
        "Por ejemplo:\n",
        "\n",
        "**lista1** = [ 2 , 1 , 4 , 8 , 9 , 12 , 0 , 10 , 1 , 4 ]\n",
        "\n",
        "**lista1.reemplazaMayores(6,3)** #Multiplica por 3 los mayores o iguales a 6, el resto queda igual\n",
        "\n",
        "Entonces, **lista1** = [ 2 , 1 , 4 , 24 , 27 , 36 , 0 , 30 , 1 , 4 ]\n"
      ]
    },
    {
      "cell_type": "code",
      "source": [],
      "metadata": {
        "id": "i-o8y95AnY1u"
      },
      "execution_count": null,
      "outputs": []
    },
    {
      "cell_type": "markdown",
      "metadata": {
        "id": "a9FAMdrHZdJ1"
      },
      "source": [
        "### **Ejercicio 11**\n",
        "\n",
        "Escribir una operación del TDA Lista que recibe dos números por parámetro: una posición y un número nuevo. Recorre la lista hasta la posición y reemplaza el número de la lista por el nuevo.\n",
        "\n",
        "Por ejemplo:\n",
        "\n",
        "**lista1** = [ 2 , 1 , 4 , 8 , 9 , 12 , 0 , 10 , 1 , 4 ]\n",
        "\n",
        "**lista1.reemplazar(2,20)** #Reemplaza el número en la posición 2 por 20\n",
        "\n",
        "Entonces, **lista1** = [ 2 , 1 , 20 , 8 , 9 , 12 , 0 , 10 , 1 , 4 ]"
      ]
    },
    {
      "cell_type": "code",
      "metadata": {
        "id": "Qfj8xzfWougq"
      },
      "source": [
        "#Valido que la posicion sea correcta\n",
        "#Recorro hasta el nodo de la posicion deseada\n",
        "#Pongo el dato en el nodo de la posicion (no pongo un nuevo nodo, solo cambio el dato)"
      ],
      "execution_count": null,
      "outputs": []
    },
    {
      "cell_type": "markdown",
      "metadata": {
        "id": "ds5kveH9otzk"
      },
      "source": [
        "### **Ejercicio 12**\n",
        "\n",
        "Escribir la operación **insertarOrdenado()** del TDA Lista, que se llama desde una lista ordenada e inserta un número que recibe por parámetro en el lugar correcto (manteniendo el orden).\n",
        "\n",
        "Por ejemplo:\n",
        "\n",
        "**lista1** = [ 2 , 5 , 9 , 12 , 25 , 32 ]\n",
        "\n",
        "**lista1.insertarOrdenado(10)**\n",
        "\n",
        "Entonces, **lista1** = [ 2 , 5 , 9 , 10 , 12 , 25 , 32 ]"
      ]
    },
    {
      "cell_type": "code",
      "source": [
        "#NO se puede usar insertar\n",
        "#Ver que hacer si la lista esta vacia\n",
        "#Ver que hacer si el dato nuevo es mas chico que el primero\n",
        "#Recorro la lista hasta llegar a un nodo en el que el siguiente es mas grande que el dato que quiero insertar\n",
        "#Ver que pasa si el dato que quiero insertar es mas grande que el mayor\n",
        "#Inserto un nuevo nodo\n",
        "\n",
        "class Lista(Lista):\n",
        "  def insertarOrdenado(self, dato: any) -> None:\n",
        "    nodoNuevo = Lista.NodoLista(dato)\n",
        "    if self.estaVacia():\n",
        "      self.__primero = nodoNuevo\n",
        "    elif dato <= self.__primero.dato:\n",
        "      nodoNuevo.siguiente = self.__primero\n",
        "      self.__primero = nodoNuevo\n",
        "    else:\n",
        "      nodoAux = self.__primero\n",
        "      while nodoAux.tieneSiguiente() and nodoAux.siguiente.dato < dato:\n",
        "        nodoAux = nodoAux.siguiente\n",
        "      nodoNuevo.siguiente = nodoAux.siguiente\n",
        "      nodoAux.siguiente = nodoNuevo"
      ],
      "metadata": {
        "id": "v9Cj0S8-ndU_"
      },
      "execution_count": null,
      "outputs": []
    },
    {
      "cell_type": "code",
      "source": [
        "l1 = Lista((2 , 5 , 9 , 12 , 25 , 32))\n",
        "print(l1)\n",
        "l1.insertarOrdenado(10)\n",
        "print(l1)"
      ],
      "metadata": {
        "id": "DDutTY6vlh6l"
      },
      "execution_count": null,
      "outputs": []
    },
    {
      "cell_type": "code",
      "source": [
        "#l = [50, 30, 20, 10, 7]\n",
        "#               15\n",
        "#Insertar ordenado recursivo sobre una lista ordenada de mayor a menor\n",
        "class ListaRec(ListaRec):\n",
        "  def insertarOrdenado(self, dato:any)->None:\n",
        "    nodoNuevo = ListaRec.NodoLista(dato)\n",
        "    if self.estaVacia():\n",
        "      self.__primero = nodoNuevo\n",
        "    elif dato >= self.__primero.dato:\n",
        "      nodoNuevo.siguiente = self.__primero\n",
        "      self.__primero = nodoNuevo\n",
        "    else:\n",
        "      self.__primero.insertarOrdenadoNodo(nodoNuevo)\n",
        "  class NodoLista(ListaRec.NodoLista):\n",
        "    def insertarOrdenadoNodo(self, nodoNuevo)->None:\n",
        "      if not self.tieneSiguiente() or nodoNuevo.dato >= self.siguiente.dato:\n",
        "        nodoNuevo.siguiente = self.siguiente\n",
        "        self.siguiente = nodoNuevo\n",
        "      else:\n",
        "        self.siguiente.insertarOrdenadoNodo(nodoNuevo)"
      ],
      "metadata": {
        "id": "lyOj6c9bN9Dk"
      },
      "execution_count": null,
      "outputs": []
    },
    {
      "cell_type": "code",
      "source": [
        "l1 = ListaRec()\n",
        "l1.agregarAlFinal(50);l1.agregarAlFinal(30);l1.agregarAlFinal(20);l1.agregarAlFinal(7);\n",
        "print(l1)\n",
        "l1.insertarOrdenado(1)\n",
        "print(l1)"
      ],
      "metadata": {
        "colab": {
          "base_uri": "https://localhost:8080/"
        },
        "id": "D_SvuGx2RA7T",
        "outputId": "032d6c2b-4954-448b-ccf6-1c3d56ef57a1"
      },
      "execution_count": null,
      "outputs": [
        {
          "output_type": "stream",
          "name": "stdout",
          "text": [
            "primero -> 50 -> 30 -> 20 -> 7 -|\n",
            "primero -> 50 -> 30 -> 20 -> 7 -> 1 -|\n"
          ]
        }
      ]
    }
  ]
}
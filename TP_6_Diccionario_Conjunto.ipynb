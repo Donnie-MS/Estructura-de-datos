{
  "nbformat": 4,
  "nbformat_minor": 0,
  "metadata": {
    "colab": {
      "provenance": []
    },
    "kernelspec": {
      "name": "python3",
      "display_name": "Python 3"
    }
  },
  "cells": [
    {
      "cell_type": "markdown",
      "metadata": {
        "id": "42630xxYD0gZ"
      },
      "source": [
        "# ![alt text](https://upload.wikimedia.org/wikipedia/commons/thumb/c/c3/Python-logo-notext.svg/50px-Python-logo-notext.svg.png) **Trabajo Práctico 6: Diccionarios** ![alt text](https://upload.wikimedia.org/wikipedia/commons/thumb/c/c3/Python-logo-notext.svg/50px-Python-logo-notext.svg.png)\n",
        "\n",
        "En este trabajo práctico, vamos a trabajar con la estructura de datos **Diccionario** basado en el conjunto de Python. Recuerden crear una copia de este archivo en su ***Google Drive*** para tener permisos de edición.\n",
        "\n",
        "### **florencia.dias@unahur.edu.ar** ###\n"
      ]
    },
    {
      "cell_type": "markdown",
      "source": [
        "Declaracion de conjuntos e inserción de elementos"
      ],
      "metadata": {
        "id": "25DP_bBXUbBS"
      }
    },
    {
      "cell_type": "code",
      "source": [
        "conj1 = set()\n",
        "print(conj1)\n",
        "conj1.add(1);conj1.add(10);conj1.add(2);conj1.add(4);\n",
        "print(conj1)"
      ],
      "metadata": {
        "colab": {
          "base_uri": "https://localhost:8080/"
        },
        "id": "wZbHlJyt8EUx",
        "outputId": "abdef83c-c52e-4add-adf3-df20bb264106"
      },
      "execution_count": null,
      "outputs": [
        {
          "output_type": "stream",
          "name": "stdout",
          "text": [
            "set()\n",
            "{1, 10, 2, 4}\n"
          ]
        }
      ]
    },
    {
      "cell_type": "markdown",
      "source": [
        "Declaración y manejo de tuplas"
      ],
      "metadata": {
        "id": "EpDL9UZbUiJb"
      }
    },
    {
      "cell_type": "code",
      "source": [
        "tupla1 = (2,[1,2,3,3])\n",
        "tupla1[1].append(4) # accede al segundo elemento de la tupla \"[]\"\n",
        "print(tupla1)"
      ],
      "metadata": {
        "colab": {
          "base_uri": "https://localhost:8080/"
        },
        "id": "4-6Fc_3Y8rlJ",
        "outputId": "91b093f9-a9ef-4649-fcd7-073bfbccb38c"
      },
      "execution_count": 2,
      "outputs": [
        {
          "output_type": "stream",
          "name": "stdout",
          "text": [
            "(2, [1, 2, 3, 3, 4])\n"
          ]
        }
      ]
    },
    {
      "cell_type": "markdown",
      "metadata": {
        "id": "xjXgmD3mskbR"
      },
      "source": [
        "### **Ejercicio 1**\n",
        "\n",
        "Implementar el TDA **Diccionario (Map)**, con las siguientes operaciones (Solo lo tienen que usar, ya esta implementado por nosotros, pero repasen el funcionamiento):\n",
        "- Crear (**\\_\\_init__()**).\n",
        "- **\\_\\_repr__()**: Para poder imprimir por consola.\n",
        "- **insertar(clave, significado)**: Inserta el par **<clave , significado>**, si la clave ya existe no debe modificar el diccionario.\n",
        "- **Asignación con \"dicc[clave] = significado\"**: Permite modificar significados de claves existentes y agregar nuevos pares. Esto se realiza implementado la función **\\_\\_setitem__()**.\n",
        "- **get(clave)**: Recibe una clave y retorna su significado, si la clave no existe lanza una excepción.\n",
        "- **Obtener con \"dicc[clave]\"**: Similar a **get**, pero con el operador **\"[ ]\"**. Esto se realiza implementando la función **\\_\\_getitem__()**.\n",
        "- **len()**: Retorna la cantidad de pares **<clave , significado>** en el diccionario.\n",
        "- **getKeys()**: Retorna lista con claves.\n",
        "- **getValues()**: Retorna lista con significados.\n",
        "- **Operador \"in\"**: Permite la búsqueda dentro del diccionario por las claves, es decir podemos hacer **\"if clave in diccionario\"**.\n",
        "- **remove(clave)**: Elimina el par clave-significado que contiene la clave que recibe como parámetro\n",
        "- **clone()**: Genera nuevo diccionario con el mismo contenido\n",
        "- **clear()**: Vacia diccionario\n",
        "\n",
        "Si quieren iterar el diccionario deben hacer (por ejemplo para imprimir todos los pares clave-significado en diferentes lineas):\n",
        "\n",
        "    \n",
        "    for clave in diccionario.keys():\n",
        "        print(clave, diccionario.get(clave))\n",
        "\n",
        "O el equivalente con el operador **\"[ ]\"**:\n",
        "\n",
        "\n",
        "    for clave in diccionario.keys():\n",
        "        print(clave, dicionario[clave])\n",
        "\n",
        "Aunque tengamos el operador **\"in\"** este sirve solo para búsquedas y no para iterar en diccionario, entonces no se puede hacer:\n",
        "\n",
        "\n",
        "    for clave in diccionario:\n",
        "\n",
        "\n",
        "\n",
        "\n",
        "\n",
        "\n"
      ]
    },
    {
      "cell_type": "code",
      "source": [
        "print(hash(\"hola mundo!\"))"
      ],
      "metadata": {
        "colab": {
          "base_uri": "https://localhost:8080/"
        },
        "id": "0aPRrh9xTAjq",
        "outputId": "583a6013-4416-47e0-a962-1c21ddb16026"
      },
      "execution_count": null,
      "outputs": [
        {
          "output_type": "stream",
          "name": "stdout",
          "text": [
            "7662369221931819884\n"
          ]
        }
      ]
    },
    {
      "cell_type": "code",
      "metadata": {
        "id": "vM50Hpx6yUDe"
      },
      "source": [
        "import copy as cp\n",
        "\n",
        "class Diccionario:\n",
        "  #######TDA tupla clave-significado#########################\n",
        "  class __TuplaDic:\n",
        "    def __init__(self, key, value):\n",
        "      self.__data = (key,value)\n",
        "\n",
        "    def __repr__(self):\n",
        "      return str(self.__data)\n",
        "\n",
        "    def __eq__(self, key): # sobrecargar el numerador \"==\", compara las key y no los value.\n",
        "      return self.__data[0] == key\n",
        "\n",
        "    def __hash__(self): # metodo necesario para asociar claves con valores\n",
        "      return hash(self.__data[0])\n",
        "\n",
        "    def getKey(self): # devuelve la key\n",
        "      return self.__data[0]\n",
        "\n",
        "    def getValue(self): # devuelve el valor\n",
        "      return self.__data[1]\n",
        "  ############################################################\n",
        "\n",
        "  ###Constructor recibe dos listas de claves y significados en orden\n",
        "  def __init__(self, keys = None, values = None):\n",
        "    self.__diccionario = set()\n",
        "    if keys != None:\n",
        "      if len(keys) == len(values):\n",
        "        for i in range(len(keys)):\n",
        "          self[keys[i]] = values[i]\n",
        "      else:\n",
        "        raise Exception(\"Las listas de pares clave-significado deben tener la misma cantidad\")\n",
        "\n",
        "  def __repr__(self):\n",
        "    return str(self.__diccionario)\n",
        "\n",
        "  ###Asignacion usando [], se recibe clave entre corchetes / Permite reemplazar aunque exista la clave\n",
        "  def __setitem__(self, key = None, value = None):\n",
        "    if key != None:\n",
        "      if key in self:\n",
        "        self.__diccionario.remove(key)\n",
        "      self.__diccionario.add(Diccionario.__TuplaDic(key,value))\n",
        "\n",
        "  ###No inserta si existe la clave, es decir, si la clave existe en el dicc no modifica el valor\n",
        "  def insert(self, key = None, value = None):\n",
        "    if key != None:\n",
        "      self.__diccionario.add(Diccionario.__TuplaDic(key,value))\n",
        "\n",
        "  ###Elimina si existe la clave, es decir, si la clave existe en el dicc elimina el par clave-valor\n",
        "  ###Sino existe la clave, no hace nada\n",
        "  def remove(self, key):\n",
        "    if key in self:\n",
        "        valor = self[key]\n",
        "        self.__diccionario.remove(key)\n",
        "        return valor\n",
        "\n",
        "  ###Vacia dicc\n",
        "  def clear(self):\n",
        "    self.__diccionario = set()\n",
        "\n",
        "  ###Clonar dicc\n",
        "  def clone(self):\n",
        "    return cp.deepcopy(self)\n",
        "\n",
        "  ###Acceso a valores usando [], se recibe clave entre corchetes\n",
        "  def __getitem__(self, key):\n",
        "    value = None\n",
        "    flag = False\n",
        "    for tuplaDic in self.__diccionario:\n",
        "      if tuplaDic.getKey() == key:\n",
        "        value = tuplaDic.getValue()\n",
        "        flag = True\n",
        "    if flag:\n",
        "      return value\n",
        "    else:\n",
        "      raise Exception(\"No existe la clave %s en el diccionario\" % (key))\n",
        "\n",
        "  ###Retorna valor de la clave que se recibe por parametro\n",
        "  def get(self, key):\n",
        "    value = None\n",
        "    flag = False\n",
        "    for tuplaDic in self.__diccionario:\n",
        "      if tuplaDic.getKey() == key:\n",
        "        value = tuplaDic.getValue()\n",
        "        flag = True\n",
        "    if flag:\n",
        "      return value\n",
        "    else:\n",
        "      raise Exception(\"No existe la clave %s en el diccionario\" % (key))\n",
        "\n",
        "  ###Retorna lista con claves\n",
        "  def keys(self):\n",
        "    return [x.getKey() for x in self.__diccionario]\n",
        "\n",
        "  ###Retorna lista con valores\n",
        "  def values(self):\n",
        "    return [x.getValue() for x in self.__diccionario]\n",
        "\n",
        "  ###Operador \"in\"\n",
        "  def __contains__(self, key):\n",
        "    flag = False\n",
        "    for tupla in self.__diccionario:\n",
        "        if tupla.getKey() == key:\n",
        "            flag = True\n",
        "            break\n",
        "    return flag\n",
        "\n",
        "  ###Tamaño de diccionario\n",
        "  def len(self):\n",
        "    return len(self.__diccionario)"
      ],
      "execution_count": 6,
      "outputs": []
    },
    {
      "cell_type": "code",
      "source": [
        "dic1 = Diccionario()\n",
        "dic1.insert(1,\"uno\")\n",
        "dic1.insert(2,[2,3,4,5])\n",
        "print(dic1)\n",
        "var = 1\n",
        "print(dic1[var]) # imprime el primer valor de la tupla correspondiente a key = 1\n",
        "dic1[2] = \"hola\" # cambia el valor\n",
        "print(dic1)\n",
        "dic1.remove(1)\n",
        "print(dic1)"
      ],
      "metadata": {
        "colab": {
          "base_uri": "https://localhost:8080/"
        },
        "id": "Zx_nm2ao-kQC",
        "outputId": "93299d15-68f6-4658-cb7b-39706401372e"
      },
      "execution_count": null,
      "outputs": [
        {
          "output_type": "stream",
          "name": "stdout",
          "text": [
            "{(1, 'uno'), (2, [2, 3, 4, 5])}\n",
            "uno\n",
            "{(1, 'uno'), (2, 'hola')}\n",
            "{(2, 'hola')}\n"
          ]
        }
      ]
    },
    {
      "cell_type": "code",
      "source": [
        "dic2 = Diccionario((1,2,3,4),(\"casa\", \"perro\", \"gato\", \"auto\"))\n",
        "for clave in dic2.keys():\n",
        "  print(clave, dic2[clave])\n",
        "\n",
        "print(40 in dic2)\n"
      ],
      "metadata": {
        "colab": {
          "base_uri": "https://localhost:8080/"
        },
        "id": "lEfuAV7aAVJV",
        "outputId": "c6dd93b1-3836-430f-8697-c4425ad1bb5c"
      },
      "execution_count": null,
      "outputs": [
        {
          "output_type": "stream",
          "name": "stdout",
          "text": [
            "1 casa\n",
            "2 perro\n",
            "3 gato\n",
            "4 auto\n",
            "False\n"
          ]
        }
      ]
    },
    {
      "cell_type": "code",
      "source": [
        "notas = Diccionario((\"juan\",\"pedro\",\"maria\"),([],[],[]))\n",
        "print(notas)\n",
        "notas[\"juan\"].append(4)\n",
        "print(notas)\n",
        "print(notas.len())"
      ],
      "metadata": {
        "colab": {
          "base_uri": "https://localhost:8080/"
        },
        "id": "AwkUufrNB-xN",
        "outputId": "949e258d-7f43-4052-a994-199d9dee12ef"
      },
      "execution_count": null,
      "outputs": [
        {
          "output_type": "stream",
          "name": "stdout",
          "text": [
            "{('pedro', []), ('maria', []), ('juan', [])}\n",
            "{('pedro', []), ('maria', []), ('juan', [4])}\n",
            "3\n"
          ]
        }
      ]
    },
    {
      "cell_type": "markdown",
      "metadata": {
        "id": "I26IE7cG1BeA"
      },
      "source": [
        "### A partir del **Ejercicio 2** vamos a trabajar **fuera del TDA Diccionario** usando la interface que creamos en el **Ejercicio 1**. Es decir,se pueden usar solo las operaciones de la interface, no se puede acceder a los componentes internos del TDA. Si necesitan estructuras auxiliares, pueden usar cualquiera de las estructuras que vimos hasta ahora: Arreglos, Listas, Pilas, Colas, Diccionarios."
      ]
    },
    {
      "cell_type": "code",
      "source": [
        "dic = Diccionario() #diccionario vacio\n",
        "dic = Diccionario((\"casa\",3,4,5),([2,3,1],[4,1,4,2,5],[2,3,1],[4,1,2,6,3,2]))\n",
        "print(dic)"
      ],
      "metadata": {
        "colab": {
          "base_uri": "https://localhost:8080/"
        },
        "id": "cJHUPxgqa_vd",
        "outputId": "9134e4f3-6b9e-4052-ce88-2582b2170b12"
      },
      "execution_count": null,
      "outputs": [
        {
          "output_type": "stream",
          "name": "stdout",
          "text": [
            "{(3, [4, 1, 4, 2, 5]), (4, [2, 3, 1]), (5, [4, 1, 2, 6, 3, 2]), ('casa', [2, 3, 1])}\n"
          ]
        }
      ]
    },
    {
      "cell_type": "code",
      "source": [
        "#insercion\n",
        "dic.insert(5,[0,6,5,3,1])\n",
        "dic[5] = [0,6,5,3,1]\n",
        "dic[10] = [4,1,34,43,2,45,4]\n",
        "print(dic)"
      ],
      "metadata": {
        "colab": {
          "base_uri": "https://localhost:8080/"
        },
        "id": "ZaM2x1TScBUm",
        "outputId": "1486e04d-745b-491f-ff9c-7f68e487e890"
      },
      "execution_count": null,
      "outputs": [
        {
          "output_type": "stream",
          "name": "stdout",
          "text": [
            "{(3, [4, 1, 4, 2, 5]), (4, [2, 3, 1]), (5, [0, 6, 5, 3, 1]), (10, [4, 1, 34, 43, 2, 45, 4]), ('casa', [2, 3, 1])}\n"
          ]
        }
      ]
    },
    {
      "cell_type": "code",
      "source": [
        "#lectura\n",
        "print(dic.get(3))\n",
        "print(dic[3])"
      ],
      "metadata": {
        "colab": {
          "base_uri": "https://localhost:8080/"
        },
        "id": "v2X-Wo2Lcu0T",
        "outputId": "1fc0237e-b1b9-4b22-9a04-59290f2a59e8"
      },
      "execution_count": null,
      "outputs": [
        {
          "output_type": "stream",
          "name": "stdout",
          "text": [
            "[4, 1, 4, 2, 5]\n",
            "[4, 1, 4, 2, 5]\n"
          ]
        }
      ]
    },
    {
      "cell_type": "code",
      "source": [
        "print(dic)\n",
        "var = dic.remove(4)\n",
        "print(dic)\n",
        "print(var)"
      ],
      "metadata": {
        "colab": {
          "base_uri": "https://localhost:8080/"
        },
        "id": "Ie3KEgB8d1OT",
        "outputId": "4b636c90-2ce7-41c0-a419-6cef9d3fcb88"
      },
      "execution_count": null,
      "outputs": [
        {
          "output_type": "stream",
          "name": "stdout",
          "text": [
            "{(3, [4, 1, 4, 2, 5]), (4, [2, 3, 1]), (5, [0, 6, 5, 3, 1]), (10, [4, 1, 34, 43, 2, 45, 4]), ('casa', [2, 3, 1])}\n",
            "{(3, [4, 1, 4, 2, 5]), (5, [0, 6, 5, 3, 1]), (10, [4, 1, 34, 43, 2, 45, 4]), ('casa', [2, 3, 1])}\n",
            "[2, 3, 1]\n"
          ]
        }
      ]
    },
    {
      "cell_type": "code",
      "source": [
        "for clave in dic.keys():\n",
        "  print(clave)\n",
        "  print(dic[clave])"
      ],
      "metadata": {
        "colab": {
          "base_uri": "https://localhost:8080/"
        },
        "id": "TekqdVFVemns",
        "outputId": "1e099265-27bb-4343-d733-2c3fa3621112"
      },
      "execution_count": null,
      "outputs": [
        {
          "output_type": "stream",
          "name": "stdout",
          "text": [
            "3\n",
            "[4, 1, 4, 2, 5]\n",
            "5\n",
            "[0, 6, 5, 3, 1]\n",
            "10\n",
            "[4, 1, 34, 43, 2, 45, 4]\n",
            "casa\n",
            "[2, 3, 1]\n"
          ]
        }
      ]
    },
    {
      "cell_type": "code",
      "source": [
        "print(40 in dic)"
      ],
      "metadata": {
        "colab": {
          "base_uri": "https://localhost:8080/"
        },
        "id": "vJvYkOmge5GD",
        "outputId": "fc2af816-0ae7-45fc-a816-099955e40d58"
      },
      "execution_count": null,
      "outputs": [
        {
          "output_type": "stream",
          "name": "stdout",
          "text": [
            "False\n"
          ]
        }
      ]
    },
    {
      "cell_type": "markdown",
      "metadata": {
        "id": "Q0D1vzJZzqID"
      },
      "source": [
        "### **Ejercicio 2**\n",
        "\n",
        "Escribir un programa que declare un Diccionario de **<entero , entero>** (clave entero y significado entero) y le agrege 4 pares. Luego debe mostrar el diccionario por pantalla y su tamaño.\n",
        "\n",
        "Finalmente, redefinir 2 significados y volver a imprimir."
      ]
    },
    {
      "cell_type": "code",
      "metadata": {
        "id": "Y4eHEO31zpnu",
        "colab": {
          "base_uri": "https://localhost:8080/"
        },
        "outputId": "3a7ba330-df71-4b91-9e3d-3020945bfdd4"
      },
      "source": [
        "dic = Diccionario() #Declaramos un diccionario. No es necesario definir de entrada los tipos de datos de las keys o de los values\n",
        "dic.insert(1,200) #Agregamos el primer par\n",
        "dic.insert(2,10) #EL segundo par\n",
        "dic[23] = 456 #El tercer par, la idea es mostar una forma distinta de hacerlo. Recordar que insert no modifica el valor si la clave existe, en cambio esta versión sí lo hace\n",
        "dic[123] = 745435 #Agregamos el cuarto par\n",
        "\n",
        "print(dic) #Verificamos cómo quedó nuestro diccionario\n",
        "\n",
        "dic[23] = 1 #Reemplazamos los valores para la key = 23\n",
        "dic[123] = 4 #Reemplazamos los valores para la key = 123\n",
        "\n",
        "print(dic) #Evaluamos nuevamente nuestro diccionario"
      ],
      "execution_count": null,
      "outputs": [
        {
          "output_type": "stream",
          "name": "stdout",
          "text": [
            "{(1, 200), (2, 10), (123, 745435), (23, 456)}\n",
            "{(1, 200), (2, 10), (123, 4), (23, 1)}\n"
          ]
        }
      ]
    },
    {
      "cell_type": "code",
      "source": [
        "dic.insert(23 , 8888888) #Notar que si hacemos insert sobre una clave que ya tenemos definida NO PASA NADA\n",
        "print(dic)"
      ],
      "metadata": {
        "colab": {
          "base_uri": "https://localhost:8080/"
        },
        "id": "vc8WbBonw_iQ",
        "outputId": "88d9e112-44b7-4e2e-842b-25f42d430f7f"
      },
      "execution_count": null,
      "outputs": [
        {
          "output_type": "stream",
          "name": "stdout",
          "text": [
            "{(1, 200), (2, 10), (123, 4), (23, 1)}\n"
          ]
        }
      ]
    },
    {
      "cell_type": "markdown",
      "metadata": {
        "id": "rds3Jsp10bJr"
      },
      "source": [
        "### **Ejercicio 3**\n",
        "\n",
        "Escribir un diccionario con sinónimos. Luego intentar insertar dos pares **<clave , significado>** con claves **repetidas** con la operacion **insert** y ver que sucede."
      ]
    },
    {
      "cell_type": "code",
      "metadata": {
        "id": "EJoEuAVx0eOc",
        "colab": {
          "base_uri": "https://localhost:8080/"
        },
        "outputId": "0da3c217-9534-4134-f95c-e713d492050e"
      },
      "source": [
        "palabras = ['casa' , 'perro' , 'computadora'] #Creamos una lista de palabras\n",
        "sinonimos = ['hogar' , 'can' , 'ordenador'] #Una lista de sinónimos\n",
        "\n",
        "dicc_sinonimos = Diccionario(keys = palabras , values = sinonimos) #Instanciamos nuestro diccionario con las palabras y los sinonimos\n",
        "print(dicc_sinonimos) #Vemos cómo está nuestro diccionario\n",
        "\n",
        "print('-'*50) #Linea horizontal\n",
        "\n",
        "dicc_sinonimos['casa'] = 'casita' #Cambiamos el valor sin usar insert, donde hay una key conocida\n",
        "dicc_sinonimos.insert('computadora' , 'PC') #Cambiamos el valor usando insert, donde hay una key conocida\n",
        "print(dicc_sinonimos) #Vemos cómo quedó nuestro diccionario"
      ],
      "execution_count": 6,
      "outputs": [
        {
          "output_type": "stream",
          "name": "stdout",
          "text": [
            "{('perro', 'can'), ('casa', 'hogar'), ('computadora', 'ordenador')}\n",
            "--------------------------------------------------\n",
            "{('perro', 'can'), ('casa', 'casita'), ('computadora', 'ordenador')}\n"
          ]
        }
      ]
    },
    {
      "cell_type": "code",
      "source": [
        "#Tamién se podía hacer así si uno no quería usar las listas #Pero es mucho más largo\n",
        "dicc_sinonimos = Diccionario()\n",
        "dicc_sinonimos.insert('casa' , 'hogar')\n",
        "dicc_sinonimos.insert('perro' , 'can')\n",
        "dicc_sinonimos.insert('computadora' , 'ordenador')\n",
        "print(dicc_sinonimos)"
      ],
      "metadata": {
        "colab": {
          "base_uri": "https://localhost:8080/"
        },
        "id": "FaJLwBJRxEdL",
        "outputId": "9241256e-26bb-4169-fa9a-f40f1699ed79"
      },
      "execution_count": null,
      "outputs": [
        {
          "output_type": "stream",
          "name": "stdout",
          "text": [
            "{('perro', 'can'), ('casa', 'hogar'), ('computadora', 'ordenador')}\n"
          ]
        }
      ]
    },
    {
      "cell_type": "markdown",
      "metadata": {
        "id": "-YN0LThH0dO6"
      },
      "source": [
        "### **Ejercicio 4**\n",
        "\n",
        "Escribir una función que dado una lista de enteros me devuelve otra(no necesariamente en el mismo orden) sin los numeros repetidos.\n",
        "\n",
        "Por ejemplo:\n",
        "\n",
        "Lista de entrada = [1 , 3 , 4 , 1 , 2 , 4 , 3 , 2]\n",
        "\n",
        "Lista de salida = [1 , 3 , 2, 4]"
      ]
    },
    {
      "cell_type": "code",
      "metadata": {
        "id": "KO9cVn4T0EFQ",
        "colab": {
          "base_uri": "https://localhost:8080/"
        },
        "outputId": "16855bb2-4443-440c-9239-555d8ba6a977"
      },
      "source": [
        "def eliminarRepetidos(unaLista:list)->list: #Defino mi función que toma una lista y devuelve una lista sin repetidos\n",
        "  dicc_aux = Diccionario(unaLista , unaLista) #Declaro una estructura auxiliar. Un diccionario que toma como claves y como valores los números\n",
        "  sin_repetidos = dicc_aux.keys() #Como las keys no se pueden repetir, por construcción el diccionario me eliminará los valores repetidos. Me interesan solo las keys (porque los values son lo mismo)\n",
        "\n",
        "  return sin_repetidos #Retorno la lista de keys\n",
        "\n",
        "lista_de_entrada = [1 , 3 , 4 , 1 , 2 , 4 , 3 , 2]\n",
        "lista_de_salida = eliminarRepetidos(lista_de_entrada)\n",
        "\n",
        "print(lista_de_salida)"
      ],
      "execution_count": null,
      "outputs": [
        {
          "output_type": "stream",
          "name": "stdout",
          "text": [
            "[1, 2, 3, 4]\n"
          ]
        }
      ]
    },
    {
      "cell_type": "markdown",
      "metadata": {
        "id": "_Q_DCTjI3AGK"
      },
      "source": [
        "### **Ejercicio 5**\n",
        "\n",
        "Rehacer le ejercicio 4 pero retornando un diccionario en lugar de una lista.\n",
        "\n",
        "Por ejemplo:\n",
        "\n",
        "Lista de entrada = [1 , 3 , 4 , 1 , 2 , 4 , 3 , 2]\n",
        "\n",
        "Diccionario de salida = { (1 , None) , (3 , None) , (4 , None) , (2 , None) }"
      ]
    },
    {
      "cell_type": "code",
      "metadata": {
        "id": "soxJRW3fkYpc",
        "colab": {
          "base_uri": "https://localhost:8080/"
        },
        "outputId": "2336f927-2a08-4b19-ea1c-3e1108d90210"
      },
      "source": [
        "def listToDict(numeros:list)->Diccionario: #Defino mi función que toma una lista de números y retorna un diccionario\n",
        "  salida = Diccionario() #Instancio un diccionario vacío para crear mi diccionario de salida\n",
        "  for numero in numeros: #Para cada número en mi lista de números\n",
        "    salida.insert(numero) #A la salida le inserto un número. Pero ojo! Insert recibe una tupla key-value. Si solo le paso un parámtero le estoy pasando solo la key. Si le paso una key repetida esto no hará nada, pero al no tener value lo asignará automáticamente como None\n",
        "  return salida #Retornamos el diccionario de salida\n",
        "\n",
        "listaEntrada = [1 , 3 , 4 , 1 , 2 , 4 , 3 , 2]\n",
        "\n",
        "print(listToDict(listaEntrada))"
      ],
      "execution_count": null,
      "outputs": [
        {
          "output_type": "stream",
          "name": "stdout",
          "text": [
            "{(1, None), (2, None), (3, None), (4, None)}\n"
          ]
        }
      ]
    },
    {
      "cell_type": "code",
      "source": [
        "#Otra forma de verlo\n",
        "def listToDict2(numeros:list)->Diccionario: #Defino mi función igual que antes, tomo una lista de números y devuelvo un diccionario\n",
        "  salida = Diccionario() #Instancio mi diccionario vacío para guardar los resultados\n",
        "  for numero in numeros: #Para cada número en mi lista de números\n",
        "    salida[numero] = None #En salida guardo la key número y le asigno el value None. Esto va a pisar los repetidos, pero como el value es el mismo no me importa\n",
        "  return salida #Retorno la salida\n",
        "\n",
        "listaEntrada = [1 , 3 , 4 , 1 , 2 , 4 , 3 , 2]\n",
        "\n",
        "print(listToDict2(listaEntrada))"
      ],
      "metadata": {
        "colab": {
          "base_uri": "https://localhost:8080/"
        },
        "id": "DpK0QRoYxM3b",
        "outputId": "6d4b2ec5-e70e-4578-9e7f-440b948a6e5e"
      },
      "execution_count": null,
      "outputs": [
        {
          "output_type": "stream",
          "name": "stdout",
          "text": [
            "{(1, None), (2, None), (3, None), (4, None)}\n"
          ]
        }
      ]
    },
    {
      "cell_type": "code",
      "source": [
        "print(listToDict([1 , 3 , \"4\" , \"casa\" , 2 , 4 , 3 , 2])) #Ojo con los tipos de datos!"
      ],
      "metadata": {
        "colab": {
          "base_uri": "https://localhost:8080/"
        },
        "id": "U1arnBpXxSWW",
        "outputId": "f210cd9e-4fe8-4ecc-99a7-d8ac253b4aad"
      },
      "execution_count": null,
      "outputs": [
        {
          "output_type": "stream",
          "name": "stdout",
          "text": [
            "{(1, None), (2, None), (3, None), (4, None), ('casa', None), ('4', None)}\n"
          ]
        }
      ]
    },
    {
      "cell_type": "code",
      "source": [
        "print(listToDict2([1 , 3 , \"4\" , \"casa\" , 2 , 4 , 3 , 2]))"
      ],
      "metadata": {
        "colab": {
          "base_uri": "https://localhost:8080/"
        },
        "id": "6i5_2ZfgxUlf",
        "outputId": "b87674a7-62db-4180-d267-754eee35a9c3"
      },
      "execution_count": null,
      "outputs": [
        {
          "output_type": "stream",
          "name": "stdout",
          "text": [
            "{(1, None), (2, None), (3, None), (4, None), ('casa', None), ('4', None)}\n"
          ]
        }
      ]
    },
    {
      "cell_type": "markdown",
      "metadata": {
        "id": "xfP229oY3ODC"
      },
      "source": [
        "### **Ejercicio 6**\n",
        "\n",
        "Escribir una función que recibe una lista de números como parámetro y devuelve un diccionario con los números de la lista como claves y la cantidad de apariciones de cada uno como su significado.\n",
        "\n",
        "Por ejemplo:\n",
        "\n",
        "Lista de entrada = [1 , 3 , 4 , 2 , 1 , 3 , 1 , 4 , 2 , 5 , 2]\n",
        "\n",
        "Diccionario de salida = { (1 , 3) , (3 , 2) , (4 , 2) , (2 , 3) , (5 , 1) }"
      ]
    },
    {
      "cell_type": "code",
      "metadata": {
        "id": "BMNroH_l3Ojz",
        "colab": {
          "base_uri": "https://localhost:8080/"
        },
        "outputId": "c8d0ace3-b61f-4a40-8ad4-5f2b3e54ca3c"
      },
      "source": [
        "#declaro diccionario de salida\n",
        "#itero la lista de entrada\n",
        "#  si el elemento actual NO esta como clave en el dicionario de salida -> insertar el par (elemento,1)\n",
        "#  si el elemento actual SI esta como clave en el dicionario de salida -> actualizo su valor sumando uno al valor actual\n",
        "#retorno diccionario de salida\n",
        "\n",
        "def contarOcurrencias(listaNumeros:list)->Diccionario: #Defino mi función \"contarOcurrencias\" que toma una lista de números y retorna un diccionario\n",
        "  dicSalida = Diccionario() #Instancio mi diccionario vacío, donde voy a construir el resultado\n",
        "  for numero in listaNumeros: #Para cada número en mi lista de números\n",
        "    if numero not in dicSalida: #Si el número NO ESTÁ en el diccionario de salida, es decir, si todavía no tengo una key con ese valor:\n",
        "      dicSalida[numero] = 1 #Es la primer ocurrencia, entonces el value para esa key va a ser 1\n",
        "      #dicSalida.insert(numero,1) #Si quisiéramos lo podríamos escribir así también\n",
        "    else: #Sino, es decir, si el número YA ESTÁ como valor dentro de las keys:\n",
        "      dicSalida[numero] += 1 #A ese valor que ya existe le sumamos 1\n",
        "  return dicSalida #Una vez terminado el for, es decir, recorridos todos los números en mi lista de números, retornamos el diccionario\n",
        "\n",
        "print(contarOcurrencias([1 , 3 , 4 , 2 , 1 , 3 , 1 , 4 , 2 , 5 , 2]))"
      ],
      "execution_count": null,
      "outputs": [
        {
          "output_type": "stream",
          "name": "stdout",
          "text": [
            "{(1, 3), (2, 3), (3, 2), (4, 2), (5, 1)}\n"
          ]
        }
      ]
    },
    {
      "cell_type": "code",
      "source": [
        "#Otra forma de verlo\n",
        "def contarOcurrencias2(listaNumeros:list)->Diccionario: #Definimos de la misma forma que antes\n",
        "  dicSalida = Diccionario() #Instancio mi diccionario vacío\n",
        "  for numero in listaNumeros: #Para cada número en mi lista de números\n",
        "    dicSalida.insert(numero,0) #Insertamos el valor del número y lo inicializamos como 0. El tema acá es que si la key ya existe, insert no lo reemplaza, entonces solo va a iniciarlo con los valores 0, sino no hace nada\n",
        "    dicSalida[numero] += 1 #Luego le sumamos 1. En caso que sea la primer interación queda en 1, luego como ya existe, insert no hace nada y pasa directamente a sumar 1 al contador. Así nos ahorramos de hacer las estructuras condicionales\n",
        "  return dicSalida #Finalizado el for, retornamos el diccionario de salida\n",
        "\n",
        "print(contarOcurrencias2([1 , 3 , 4 , 2 , 1 , 3 , 1 , 4 , 2 , 5 , 2]))"
      ],
      "metadata": {
        "colab": {
          "base_uri": "https://localhost:8080/"
        },
        "id": "gVsSBF3KxbFr",
        "outputId": "76c5f9bc-b922-44c6-a93d-9db0720928c7"
      },
      "execution_count": null,
      "outputs": [
        {
          "output_type": "stream",
          "name": "stdout",
          "text": [
            "{(1, 3), (2, 3), (3, 2), (4, 2), (5, 1)}\n"
          ]
        }
      ]
    },
    {
      "cell_type": "markdown",
      "metadata": {
        "id": "nxgYjoxl3gmz"
      },
      "source": [
        "### **Ejercicio 7**\n",
        "\n",
        "Escribir una función que recibe dos diccionarios y devuelve otro con la mezcla de los dos, para las claves repetidas, se queda con los significados de primer diccionario.\n",
        "\n",
        "Por ejemplo:\n",
        "\n",
        "Diccionario de entrada 1 = { (1 , 3) , (3 , 2) , (4 , 4) , (2 , 3) , (5 , 1) }\n",
        "\n",
        "Diccionario de entrada 2 = { (10 , 3) , (3 , 5) , (2 , 30) , (8 , 1) , (9 , 3) }\n",
        "\n",
        "Diccionario de salida = { (1 , 3) , (3 , 2) , (4 , 4) , (2 , 3) , (5 , 1) , (10 , 3) , (8 , 1) , (9 , 3) }"
      ]
    },
    {
      "cell_type": "code",
      "metadata": {
        "id": "Ojjaj3Z23g7j",
        "colab": {
          "base_uri": "https://localhost:8080/"
        },
        "outputId": "d34b8b68-3ebe-407c-ff57-2d4a4c27e244"
      },
      "source": [
        "def mezcla_diccionarios(primerDiccionario:Diccionario , segundoDiccionario:Diccionario)->Diccionario: #Defino una función que toma dos diccionarios y devuelve un tercer dicccionario\n",
        "  diccionario_final = primerDiccionario.clone() #Instancio mi diccionario de salida como clon del primer diccionario. Esto lo hago porque me piden que en caso de que se repita alguna key, conserve el valor del primer diccionario. Clonando me aseguro que pase esto por la cosntrucción propia del diccionario\n",
        "  for key in segundoDiccionario.keys(): #Para cada key entre las keys de mi segundo diccionario:\n",
        "    diccionario_final.insert(key , segundoDiccionario[key]) #Voy a insertar en mi diccionario final (clon del primer diccionario) la key y el valor correspondiente. En caso que esté repetida, no hace naad\n",
        "\n",
        "  return diccionario_final #Una vez recorridas todas las keys del segundo diccionario, retornamos el diccionario final\n",
        "\n",
        "diccionario_entrada1 = Diccionario([1 , 3 , 4 , 2 , 5] , [3 , 2 , 4 , 3 , 1])\n",
        "diccionario_entrada2 = Diccionario([10 , 3 , 2 , 8 , 9] , [3 , 5 , 30 , 1 , 3])\n",
        "\n",
        "diccionario_salida = mezcla_diccionarios(diccionario_entrada1 , diccionario_entrada2)\n",
        "\n",
        "print(diccionario_salida)"
      ],
      "execution_count": 8,
      "outputs": [
        {
          "output_type": "stream",
          "name": "stdout",
          "text": [
            "{(1, 3), (2, 3), (3, 2), (4, 4), (5, 1), (8, 1), (9, 3), (10, 3)}\n"
          ]
        }
      ]
    },
    {
      "cell_type": "markdown",
      "metadata": {
        "id": "OLopy2zK38Am"
      },
      "source": [
        "### **Ejercicio 8**\n",
        "\n",
        "Escribir una función que modele el problema de administrar las materias que cursa un alumno.\n",
        "Es decir que reciba un diccionario, un alumno y una materia y agregue esa materia a las materias que cursa.\n",
        "\n",
        "**Nota: La lista de materias de cada alumno no debe tener materias repetidas.**\n",
        "\n",
        "Por ejemplo:\n",
        "\n",
        "Diccionario = { ( \"Alumno1\" , [\"Materia1\" , \"Materia2\"] )   ,   ( \"Alumno2\", [ \"Materia2\" , \"Materia3\" , \"Materia4\" ] ) }\n"
      ]
    },
    {
      "cell_type": "code",
      "source": [
        "def agregaMaterias(diccionarioMaterias:Diccionario , alumno:str , materia:str)->Diccionario: #Defino una función que toma un diccionario de alumnos y materias, un alumno y una materia:\n",
        "  if alumno in diccionarioMaterias.keys(): #Si mi alumno ya aparece en mi diccionario:\n",
        "    if materia not in diccionarioMaterias[alumno]: #Y además esa materia NO ESTÁ dentro de las materias que tiene ese alumno (donde alumno es la key y el value es un array de materias)\n",
        "      diccionarioMaterias[alumno].append(materia) #Appendeo la materia a las materias que cursa el alumno (modifico el value)\n",
        "    else: #Sino, es decir, si la materia ya se encuentra dentro de las materias que tiene asignadas el alumno:\n",
        "      raise Exception(f'{alumno} ya está asignado a la materia {materia}') #Lanzo una excepción, el alumno ya tiene esa materia asignada\n",
        "  else: #Sino, es decir, que el alumno NO aparece entre los que ya están en el diccionario\n",
        "    diccionarioMaterias.insert(alumno , [materia]) #Agrego al alumno y a su correspondiente materia como un nuevo par key - value:\n",
        "\n",
        "  return diccionarioMaterias #Retornamos el diccionario de entrada, modificado\n",
        "\n",
        "diccionarioMaterias = Diccionario(['Alumno1' , 'Alumno2'] , [['Materia1' , 'Materia2'] , ['Materia2' , 'Materia3' , 'Materia4']])\n",
        "print(diccionarioMaterias)\n",
        "\n",
        "agregaMaterias(diccionarioMaterias , 'ALUMNX3' , 'MATERIA 5')\n",
        "print(diccionarioMaterias)\n",
        "\n",
        "agregaMaterias(diccionarioMaterias , 'Alumno1' , 'Materia3')\n",
        "print(diccionarioMaterias)"
      ],
      "metadata": {
        "colab": {
          "base_uri": "https://localhost:8080/"
        },
        "id": "5PkCe7wxjAS_",
        "outputId": "239fb825-a1f8-4ae9-85f6-b8e3a6c4dbe2"
      },
      "execution_count": null,
      "outputs": [
        {
          "output_type": "stream",
          "name": "stdout",
          "text": [
            "{('Alumno2', ['Materia2', 'Materia3', 'Materia4']), ('Alumno1', ['Materia1', 'Materia2'])}\n",
            "{('Alumno2', ['Materia2', 'Materia3', 'Materia4']), ('Alumno1', ['Materia1', 'Materia2']), ('ALUMNX3', ['MATERIA 5'])}\n",
            "{('Alumno2', ['Materia2', 'Materia3', 'Materia4']), ('Alumno1', ['Materia1', 'Materia2', 'Materia3']), ('ALUMNX3', ['MATERIA 5'])}\n"
          ]
        }
      ]
    },
    {
      "cell_type": "markdown",
      "source": [
        "### **Ejercicio 9**\n",
        "\n",
        "Escribir una función listaToDic que recibe una lista con chirimbolos y devuelve un diccionario con cada chirimbolo como clave y como significado una matriz de nxn donde n es la cantidad de veces que aparece el chirimbolo en la lista. La matriz se debe llenar con el chirimbolo de la clave.\n",
        "Se debe resolver usando las operaciones del TDA diccionario que vimos en clase, sin violar el encapsulamiento ni utilizando estructuras auxiliares. Si es necesario definir funciones auxiliares.\n",
        "Ejemplo:\n",
        "\n",
        "```\n",
        "lista = [‘*’, ‘#’, ‘/’, ‘*’, ‘#’, ‘/’, ‘*’, ‘$’]\n",
        "listaToDic(lista) –> Diccionario\n",
        "Entonces, listaToDic(lista) =>\n",
        "{(‘*’,  [[‘*’,‘*’,‘*’],[‘*’,‘*’,‘*’],[‘*’,‘*’,‘*’]]) , (‘$’ , [[‘$’]]), (‘/’ , [[‘/’,‘/’],[‘/’,‘/’]]) , (‘#’ , [[‘#’,‘#’],[‘#’,‘#’]])}\n",
        "```\n",
        "\n",
        "Ayuda: Se recomienda generar primero la matriz con ceros y luego reemplazarlos o bien utilizar la funcion np.full(...)."
      ],
      "metadata": {
        "id": "dOTeL0tXJJKG"
      }
    },
    {
      "cell_type": "code",
      "source": [
        "import numpy as np\n",
        "#l = ['#','!','#',')']\n",
        "#Iteramos la lista de entrada\n",
        "#guardar la cantidad de apariciones como valor del elemento como clave de un diccionario\n",
        "#iterarar el diccionario por las claves y cambiar el significado por la matriz\n",
        "\n",
        "\n",
        "#Inicio reciclando la función contar ocurrencias. La única diferencia es que cambié la palabara \"número\" por \"elemento\" para que se adecúe al dominio del problema, pero la lógica es exactamente la misma\n",
        "def contarOcurrencias(listaElementos:list)->Diccionario: #Defino mi función \"contarOcurrencias\" que toma una lista de elementos y retorna un diccionario\n",
        "  dicSalida = Diccionario() #Instancio mi diccionario vacío, donde voy a construir el resultado\n",
        "  for elemento in listaElementos: #Para cada elemento en mi lista de elementos\n",
        "    if elemento not in dicSalida: #Si el elemento NO ESTÁ en el diccionario de salida, es decir, si todavía no tengo una key con ese valor:\n",
        "      dicSalida[elemento] = 1 #Es la primer ocurrencia, entonces el value para esa key va a ser 1\n",
        "    else: #Sino, es decir, si el número YA ESTÁ como valor dentro de las keys:\n",
        "      dicSalida[elemento] += 1 #A ese valor que ya existe le sumamos 1\n",
        "  return dicSalida #Una vez terminado el for, es decir, recorridos todos los números en mi lista de números, retornamos el diccionario\n",
        "\n",
        "def listaToDic(lista:list): #Defino mi función lista to dic que toma una lista\n",
        "  resultado = contarOcurrencias(lista) #Instancio mi diccionario resultado como el producto de la función contarOcurrencias\n",
        "  for key in resultado.keys(): #Para cada key en mis keys de resultados (los chirimbolos sin repetirse)\n",
        "    nApariciones = resultado[key] #El número de apariciones será el value que tengo asociado a ese key, por construcción de ContarOcurrencias\n",
        "    resultado[key] = np.full((nApariciones , nApariciones) , key) #ENtonces reemplazo el value asociado a la key que estoy viendo por una matriz llena del chirimbolo que tomo por key\n",
        "\n",
        "  return resultado #Retornamos el resultado"
      ],
      "metadata": {
        "id": "zoB1MSdFJ0AM"
      },
      "execution_count": null,
      "outputs": []
    },
    {
      "cell_type": "code",
      "source": [
        "chirimbolos = ['*', '#', '/', '*', '#', '/', '*', '$']\n",
        "chirimbolos_to_dic = listaToDic(chirimbolos)\n",
        "print(chirimbolos_to_dic)"
      ],
      "metadata": {
        "colab": {
          "base_uri": "https://localhost:8080/"
        },
        "id": "cQbt9Ydpxnkw",
        "outputId": "74288676-8115-4988-823f-be8006f0c7ee"
      },
      "execution_count": null,
      "outputs": [
        {
          "output_type": "stream",
          "name": "stdout",
          "text": [
            "{('#', array([['#', '#'],\n",
            "       ['#', '#']], dtype='<U1')), ('/', array([['/', '/'],\n",
            "       ['/', '/']], dtype='<U1')), ('$', array([['$']], dtype='<U1')), ('*', array([['*', '*', '*'],\n",
            "       ['*', '*', '*'],\n",
            "       ['*', '*', '*']], dtype='<U1'))}\n"
          ]
        }
      ]
    },
    {
      "cell_type": "markdown",
      "source": [
        "### **Ejercicio 10**\n",
        "\n",
        "Escribir la función promedios que recibe una lista de materias (strings) y una lista de notas (enteros) del mismo tamaño. Retorna un diccionario que posee como clave cada materia y como significado su nota promedio.\n",
        "Se debe resolver usando las operaciones del TDA diccionario que vimos en clase, sin violar el encapsulamiento ni utilizando estructuras auxiliares.\n",
        "Por ejemplo:\n",
        "\n",
        "\n",
        "listaMaterias = [“Intro Prog”, **“Objetos”**, “Estructura de Datos”, “Intro Prog”, ”Inglés”, **“Objetos”**, “Estructura de Datos”]\n",
        "\n",
        "listaNotas = [4, **4**, 4, 6, 7, **6**, 6]\n",
        "\n",
        "dic  = promedios(listaMaterias , listaNotas)\n",
        "\n",
        "Entonces, dic = { (“Intro Prog”, 5) , (“Estructura de Datos”,  5) , (”Inglés”, 7) , ( “Objetos”, 5) }"
      ],
      "metadata": {
        "id": "4M7_QzmDJdUc"
      }
    },
    {
      "cell_type": "code",
      "source": [
        "def calculaPromedios(listaMaterias:list , listaNotas:list)->Diccionario: #Nuestra función toma dos listas (materias y notas) y devuelve un diccionario de promedios\n",
        "  resultado = Diccionario() #Instanciamos nuestro diccionario resultado vacío\n",
        "  for i in range(len(listaMaterias)): #Como voy a recorrer dos listas a la vez (materias y notas) me conviene iterar el índice más que los elementos, entonces, para cada índice en mi rango de tamaño de lista de materias:\n",
        "    if listaMaterias[i] not in resultado.keys(): #Si la materia en cuestión NO ESTÁ en las keys ya definidas en mi diccionariok de resultado:\n",
        "      resultado[listaMaterias[i]] = [1 , [listaNotas[i]]] #Creo la key con la materia en cuestión, su valor será una lista de dos componenetes: en la primer componente guardaré la cantidad de apariciones que vaya teniendo la materia, en la segunda las notas correspondientes\n",
        "    else: #SIno, es decir, si la materia ya aparece dentro de mis lista de keys definidas:\n",
        "      resultado[listaMaterias[i]][0] += 1 #En la primer componente de value, referida a la key en cuestión, sumo 1 (agrego una ocurrencia)\n",
        "      resultado[listaMaterias[i]][1].append(listaNotas[i]) #En la segunda componente agrego (appendeo) la nota correspondiente\n",
        "  #LLegado este punto recorrimos ambas listas, completamos nuestro dicc resultado PERO no tenemos los promedios, así que ahora vamos a iterar sobre las keys calculando el promedio\n",
        "  for key in resultado.keys(): #Para cada key (materia) en mis keys:\n",
        "    n = resultado[key][0] # N será el número de apariciones, primera componente del value corersponeidnte a dicha key\n",
        "    sum = sumaElementos(resultado[key][1]) # sum será la sumatoria de todas las notas, que están guardadas dentro de un array.\n",
        "    #Puede ser confuso pero la estructura de resultados hasta este punto es algo del estilo\n",
        "    # MATERIA X: [ CUANTAS VECES APARECIÓ , ARRAY DE NOTAS] |||| MATERIA X: [N , [nota1 , nota2 , nota3 , ... notaN]]\n",
        "    # Lo que queremos hacer es que para materia X cambiar ese array de dos elementos en un promedio, donde quede:\n",
        "    # MATERIA X: PROMEDIO MATERIA X, que es lo mismo que decir |||| MATERIA X: SUM(NOTAS)/N\n",
        "\n",
        "    resultado[key] = sum/n #Calculamos el promedio para la key correspondiente y pisamos los valores que teníamos temporales\n",
        "\n",
        "  return resultado #Retornamos el resultado\n",
        "\n",
        "def sumaElementos(unaLista:list)->int: #Defino mi función auxiliar suma elementos:\n",
        "  resultado = 0 #Inicializo el resultado de la suma como 0\n",
        "  for elemento in unaLista: #Para cada elemento en la lista\n",
        "    resultado += elemento #El resultado será sumar cada nuevo elemento\n",
        "\n",
        "  return resultado #Retorno el resultado\n",
        "\n",
        "listaMaterias = [\"Intro Prog\", \"Objetos\", \"Estructura de Datos\", \"Intro Prog\", \"Inglés\", \"Objetos\", \"Estructura de Datos\"]\n",
        "listaNotas = [4, 4, 4, 6, 7, 6, 6]\n",
        "\n",
        "calculaPromedios(listaMaterias , listaNotas)"
      ],
      "metadata": {
        "id": "IFCt9MH0JpyP",
        "colab": {
          "base_uri": "https://localhost:8080/"
        },
        "outputId": "8b98d6ef-630a-4d71-cdea-77a1549ab8f1"
      },
      "execution_count": null,
      "outputs": [
        {
          "output_type": "execute_result",
          "data": {
            "text/plain": [
              "{('Inglés', 7.0), ('Estructura de Datos', 5.0), ('Objetos', 5.0), ('Intro Prog', 5.0)}"
            ]
          },
          "metadata": {},
          "execution_count": 24
        }
      ]
    },
    {
      "cell_type": "markdown",
      "metadata": {
        "id": "rc3aFx7i5g13"
      },
      "source": [
        "### **Ejercicio 11**\n",
        "\n",
        "Tenemos un diccionario del tipo **<Entero , Lista de enteros>** (clave número entero, significado lista de enteros) que dado un numero **X**, guarda las posibles combinaciones de ese número con otros.\n",
        "\n",
        "Escribir una función que recibe un diccionario de este tipo y devuelve una lista con los posibles pares de números (en formato de tupla).\n",
        "\n",
        "Por ejemplo:\n",
        "\n",
        "Diccionario de entrada = { (5 , [5 , 3 , 7 ] )  ,  ( 8, [ 15 , 3 ] ) }\n",
        "\n",
        "Lista de salida = [ (5 , 5) ,(5 , 3) , (5 , 7) , (8 , 15) , (8 , 3) ]\n",
        "\n"
      ]
    },
    {
      "cell_type": "code",
      "metadata": {
        "id": "k3RCSCM555Ql",
        "colab": {
          "base_uri": "https://localhost:8080/"
        },
        "outputId": "3fc7f0fa-8b0f-4613-ec9e-7a0df7f539a9"
      },
      "source": [
        "def distribucionClaves(dict1:Diccionario)->list[tuple[int,int]]: #Defino mu función distribución de claves que toma un diccionario y retorna una lista de tuplas de dos componentes enteros\n",
        "  salida = [] #Instancio la salida, una lista vacía\n",
        "  for clave in dict1.keys(): #Para cada key en mis keys:\n",
        "    values = dict1[clave] #Los valores son los que están guardados en mis values:\n",
        "    #Recorriendo lista por posiciones\n",
        "    for pos in range(len(values)): #Para cada posición en mi rango de valores:\n",
        "      salida.append((clave,values[pos])) #En la lista de salida voy a appendear o agregar a clave que estoy trabajando en tupla () con los valores correspondientes del arreglo\n",
        "    #Recorriendo lista por valores\n",
        "    #for num in dict1[clave]:\n",
        "    #  salida.append((clave,num))\n",
        "  return salida #retorno la salida\n",
        "\n",
        "dic = Diccionario((5, 8), ([5,3,7], [15,3]))\n",
        "print(dic)\n",
        "print(distribucionClaves(dic))"
      ],
      "execution_count": null,
      "outputs": [
        {
          "output_type": "stream",
          "name": "stdout",
          "text": [
            "{(8, [15, 3]), (5, [5, 3, 7])}\n",
            "[(8, 15), (8, 3), (5, 5), (5, 3), (5, 7)]\n"
          ]
        }
      ]
    },
    {
      "cell_type": "markdown",
      "metadata": {
        "id": "qBL1crPl55oY"
      },
      "source": [
        "### **Ejercicio 12**\n",
        "\n",
        "Escribir una función que haga lo inverso del Ejercicio 9.\n",
        "\n",
        "Por ejemplo:\n",
        "\n",
        "Lista de entrada = [ (5 , 5) ,(5 , 3) , (5 , 7) , (8 , 15) , (8 , 3) ]\n",
        "\n",
        "Diccionario de salida = { (5 , [5 , 3 , 7 ] )  ,  ( 8, [ 15 , 3 ] ) }\n",
        "\n",
        "\n"
      ]
    },
    {
      "cell_type": "code",
      "metadata": {
        "id": "d4GH3FgpzMjp",
        "colab": {
          "base_uri": "https://localhost:8080/"
        },
        "outputId": "d82184f6-f031-440f-f0bb-0259764c5b5d"
      },
      "source": [
        "def factorComunClave(listaTuplas:list[tuple[int,int]])->Diccionario: #Defino una función que toma lista de tuplas de enteros y retorna un diccionario\n",
        "  salida = Diccionario() #Mi salida será un diccionario     #{(5, [5,3,7]), (8, [15,3])}\n",
        "  for tupla in listaTuplas: #Para cada tupla en mi lista de tuplas\n",
        "    pos0 = tupla[0] #La posición 0 es el número que voy a usar de key, o el agrupador si queremos pensarlo así (es el factor común)\n",
        "    pos1 = tupla[1] #La posición 1 es el número que será agrupado en la lista\n",
        "    if pos0 not in salida: #Si en salida aún no guardé ese núnmero defactor común, es decir, pos 0 no está en salida:\n",
        "      salida[pos0] = [pos1] # Defino la key pos0 que no estaba y pos1 como único elemento dentro de una lista\n",
        "    else: #Sino, es decir, que ya existe un key con el nombre pos 0\n",
        "      salida[pos0].append(pos1) #Simplemente tengo que appendear pos1 en mi lista de números\n",
        "  return salida #Retorno la salida\n",
        "\n",
        "print(factorComunClave([ (5 , 5) ,(5 , 3) , (5 , 7) , (8 , 15) , (8 , 3) ]))"
      ],
      "execution_count": null,
      "outputs": [
        {
          "output_type": "stream",
          "name": "stdout",
          "text": [
            "{(8, [15, 3]), (5, [5, 3, 7])}\n"
          ]
        }
      ]
    },
    {
      "cell_type": "markdown",
      "metadata": {
        "id": "02nV6J1RzOZI"
      },
      "source": [
        "### **Ejercicio 13**\n",
        "\n",
        "Escribir el TDA **MatrizDePixels**, que modele una matriz de pixels (imagen) de **N x M** usando el tipo array del paquete numpy, donde cada pixel tiene un color representado por un número entero entre **0 y 255**.\n",
        "\n",
        "Hacer las operaciones del TDA para crear una MatrizDePixels (por defecto llena de ceros), leer y escribir pixels.\n",
        "\n",
        "Luego pruebenla con estos ejemplos:\n",
        "\n",
        "**a)** Crear una MatrizDePixels de **100 x 100** y agregarle valores a dos pixels.\n",
        "\n",
        "**b)** Crear una MatrizDePixels de **100000 x 50000** y agregarle valores a dos pixels.\n",
        "\n",
        "Explicar porque el inciso **b** da un error\n",
        "\n",
        "\n"
      ]
    },
    {
      "cell_type": "code",
      "metadata": {
        "id": "UvWvca9SDM4h",
        "colab": {
          "base_uri": "https://localhost:8080/"
        },
        "outputId": "a946a45a-bae1-4514-8525-552089d0fec3"
      },
      "source": [
        "import numpy as np\n",
        "\n",
        "class MatrizDePixels: #Defino mi TDA Matriz de pixels\n",
        "  def __init__(self, cantFilas:int, cantCols:int): #El constructor toma cantidad de filas y cantidad de columnas\n",
        "    self.__imagen = np.zeros((cantFilas, cantCols), int) #La imagen será una matriz de filas x columnas y números enteros\n",
        "\n",
        "  def __repr__(self)->str: #Defino el rpr\n",
        "    return str(self.__imagen) #Es ver la matriz\n",
        "\n",
        "  def escribirPixel(self, posFila:int, posCol:int, valor:int)->None: #Defino escribir pixel, que para un dado elemento de matriz marcamos el valor que nos indican oor parámetro\n",
        "    self.__imagen[posFila,posCol] = valor #Asignamos en dicha posición el valor dado\n",
        "\n",
        "  def leerPixel(self, posFila:int, posCol:int)->int: #Leer pixel recibe una posición en la matriz\n",
        "    return self.__imagen[posFila,posCol] #Retorna el elemento en cuestión\n",
        "\n",
        "miImagen = MatrizDePixels(100 , 100) #Creo una imagen de 100 x 100\n",
        "print(miImagen) #La vemos\n",
        "miImagen.escribirPixel(0 , 0 , 255) #Cambio el primer elemento de 0 a 255\n",
        "miImagen.escribirPixel(99 , 99 , 255) #Hago lo mismo con el último\n",
        "print(miImagen)"
      ],
      "execution_count": 4,
      "outputs": [
        {
          "output_type": "stream",
          "name": "stdout",
          "text": [
            "[[0 0 0 ... 0 0 0]\n",
            " [0 0 0 ... 0 0 0]\n",
            " [0 0 0 ... 0 0 0]\n",
            " ...\n",
            " [0 0 0 ... 0 0 0]\n",
            " [0 0 0 ... 0 0 0]\n",
            " [0 0 0 ... 0 0 0]]\n",
            "[[255   0   0 ...   0   0   0]\n",
            " [  0   0   0 ...   0   0   0]\n",
            " [  0   0   0 ...   0   0   0]\n",
            " ...\n",
            " [  0   0   0 ...   0   0   0]\n",
            " [  0   0   0 ...   0   0   0]\n",
            " [  0   0   0 ...   0   0 255]]\n"
          ]
        }
      ]
    },
    {
      "cell_type": "code",
      "source": [
        "miImagen = MatrizDePixels(100000 , 50000) #Armo una imagen gigante\n",
        "print(miImagen) #La veo\n",
        "miImagen.escribirPixel(0 , 0 , 255) #Sxribo los pixels\n",
        "miImagen.escribirPixel(99 , 99 , 255)\n",
        "print(miImagen) #La veo"
      ],
      "metadata": {
        "colab": {
          "base_uri": "https://localhost:8080/"
        },
        "id": "_KU34-Cbx7fp",
        "outputId": "41918bb5-982e-4386-b19f-79836cd998c6"
      },
      "execution_count": null,
      "outputs": [
        {
          "output_type": "stream",
          "name": "stdout",
          "text": [
            "[[0 0 0 ... 0 0 0]\n",
            " [0 0 0 ... 0 0 0]\n",
            " [0 0 0 ... 0 0 0]\n",
            " ...\n",
            " [0 0 0 ... 0 0 0]\n",
            " [0 0 0 ... 0 0 0]\n",
            " [0 0 0 ... 0 0 0]]\n",
            "[[255   0   0 ...   0   0   0]\n",
            " [  0   0   0 ...   0   0   0]\n",
            " [  0   0   0 ...   0   0   0]\n",
            " ...\n",
            " [  0   0   0 ...   0   0   0]\n",
            " [  0   0   0 ...   0   0   0]\n",
            " [  0   0   0 ...   0   0   0]]\n"
          ]
        }
      ]
    },
    {
      "cell_type": "code",
      "source": [
        "type(miImagen.leerPixel(0,0)) #Vemos qué tipo de int usa"
      ],
      "metadata": {
        "colab": {
          "base_uri": "https://localhost:8080/"
        },
        "id": "mtdPdbA1x8ip",
        "outputId": "38f84985-b201-4b5b-8f10-8494cc24ffe2"
      },
      "execution_count": null,
      "outputs": [
        {
          "output_type": "execute_result",
          "data": {
            "text/plain": [
              "numpy.int64"
            ]
          },
          "metadata": {},
          "execution_count": 30
        }
      ]
    },
    {
      "cell_type": "code",
      "source": [
        "100000*50000*8 #Calculo cuántos bytes son en total"
      ],
      "metadata": {
        "colab": {
          "base_uri": "https://localhost:8080/"
        },
        "id": "R4x2YFG6x-fJ",
        "outputId": "25eeb78c-63fd-42fd-95af-a6afe418ec83"
      },
      "execution_count": null,
      "outputs": [
        {
          "output_type": "execute_result",
          "data": {
            "text/plain": [
              "40000000000"
            ]
          },
          "metadata": {},
          "execution_count": 31
        }
      ]
    },
    {
      "cell_type": "markdown",
      "source": [
        "Ahora escribir el TDA **MatrizDePixelsDict**, que modele una matriz de pixels (imagen) de **N x M** usando un diccionario de **<(fila,columna) , pixel>**, donde cada pixel tiene un color representado por un número entero entre **0 y 255** y el par **(fila,columna)** indica la posición del pixel en la matriz.\n",
        "\n",
        "Hacer las operaciones del TDA para crear una MatrizDePixelsDict (por defecto llena de ceros), leer y escribir pixels.\n",
        "\n",
        "Luego pruebenla con estos ejemplos:\n",
        "\n",
        "**a)** Crear una MatrizDePixelsDict de **100 x 100** y agregarle valores a dos pixels.\n",
        "\n",
        "**b)** Crear una MatrizDePixelsDict de **100000 x 50000** y agregarle valores a dos pixels.\n",
        "\n",
        "Explicar porque el inciso **b** ahora si funciona"
      ],
      "metadata": {
        "id": "_GiVemNfJUj8"
      }
    },
    {
      "cell_type": "markdown",
      "source": [
        "**Nota:** Si importan el paquete **sys** pueden usar la función **sys.getsizeof(variable)** que retorna el espacio que ocupa una variable en memoria."
      ],
      "metadata": {
        "id": "SHOMF2WEMDW7"
      }
    },
    {
      "cell_type": "code",
      "metadata": {
        "id": "TMyxS2YBDNwh",
        "colab": {
          "base_uri": "https://localhost:8080/"
        },
        "outputId": "aac72723-3d0c-4582-8ab6-689216d20dc8"
      },
      "source": [
        "import numpy as np\n",
        "\n",
        "class MatrizDePixelsDict: #Ahora hacemos nuestro nuevo TDA, basado en un diccionario\n",
        "  def __init__(self, cantFilas:int, cantCols:int): #TOma cantidad e ilas y de columnas\n",
        "    self.__xsize = cantFilas #Guardamos cantidad de filas\n",
        "    self.__ysize = cantCols #Guardamos cantidad de columnas\n",
        "    self.__imagen = Diccionario() #Instanciamos el diccionario. No guardamos nada porque asumimos que es todo 0\n",
        "\n",
        "  def __repr__(self)->str: #El repr será entonces mi diccionario de pixels distintos de cero y las dimensiones de la matriz\n",
        "    return f\"{self.__imagen} ({self.__xsize}, {self.__ysize})\"\n",
        "\n",
        "  def escribirPixel(self, posFila:int, posCol:int, valor:int)->None: #Par escribir el pixel ponemos como clave la psoción y como value el valor correspondiente\n",
        "    self.__imagen[(posFila,posCol)] = valor\n",
        "\n",
        "  def leerPixel(self, posFila:int, posCol:int)->int: #Par aller el pixel instanciamos el valor como 0\n",
        "    valor = 0 #Porque si es distinto de 0 lo tenemos en el diccioario, sino no\n",
        "    if (posFila,posCol) in self.__imagen: #Si tenemos guardada esa posición en particular, decimos el valor, sino se saltea este if y asumimos que es 0\n",
        "      valor = self.__imagen[(posFila,posCol)]\n",
        "    return valor\n",
        "\n",
        "imagen1 = MatrizDePixelsDict(100,100)\n",
        "imagen1.escribirPixel(2,3,5)\n",
        "imagen1.escribirPixel(4,1,10)\n",
        "print(imagen1)"
      ],
      "execution_count": 9,
      "outputs": [
        {
          "output_type": "stream",
          "name": "stdout",
          "text": [
            "{((2, 3), 5), ((4, 1), 10)} (100, 100)\n"
          ]
        }
      ]
    },
    {
      "cell_type": "markdown",
      "source": [
        "### **Ejercicio 14**\n",
        "\n",
        "Implementar la suma matrices como operación en el TDA **MatrizDePixelsDict** implementado en el Ejercicio 11."
      ],
      "metadata": {
        "id": "a-69eMHdjcSy"
      }
    },
    {
      "cell_type": "code",
      "source": [
        "#suma de matrices (valido para matrices de iguales dimensiones)\n",
        "#     | 2  0 |        | 4  0 |\n",
        "#M1 = | 0  7 |   M2 = | 1  2 |\n",
        "\n",
        "#M1 + M2 = | 6  0 |\n",
        "#          | 1  9 |\n",
        "#dic1 = {((2,3),5) , ((4,1),10)}\n",
        "#dic2 = {((4,1),2) , ((5,5),20)}\n",
        "class MatrizDePixelsDict(MatrizDePixelsDict): #Así heredamos los métodos y extendemos nuestro TDA\n",
        "  def __add__(imagen1, imagen2): #Add le indica a python como comportarse con el símbolo +\n",
        "    imagenSuma = MatrizDePixelsDict(imagen1.__xsize, imagen1.__ysize) #Imagen suma será entonces un nuevo diccionario con los valores de alguna de las imagenes\n",
        "    for clave in imagen1.__imagen.keys(): #para cada key en mis keys de imagen 1\n",
        "      if clave in imagen2.__imagen: #Si la key se repite en la otra imagen:\n",
        "        imagenSuma.escribirPixel(clave[0], clave[1], imagen1.__imagen[clave]+imagen2.__imagen[clave]) #El valor resultante será la suma de ambos\n",
        "      else: #Sino\n",
        "        imagenSuma.escribirPixel(clave[0], clave[1], imagen1.__imagen[clave]) #Agrego el valor del 1\n",
        "    for clave in imagen2.__imagen.keys(): #Para cada key en las keys de la imagen 2\n",
        "      if clave not in imagen1.__imagen: #Si no está en la imagen 1\n",
        "        imagenSuma.escribirPixel(clave[0], clave[1], imagen2.leerPixel(clave[0], clave[1])) #Escribo directamente\n",
        "    return imagenSuma #Retornamos el valor de la suma"
      ],
      "metadata": {
        "id": "HUxXguFJeyRL"
      },
      "execution_count": 10,
      "outputs": []
    },
    {
      "cell_type": "code",
      "source": [
        "imagen1 = MatrizDePixelsDict(10,10)\n",
        "imagen1.escribirPixel(2,3,5)\n",
        "imagen1.escribirPixel(4,1,10)\n",
        "imagen2 = MatrizDePixelsDict(10,10)\n",
        "imagen2.escribirPixel(4,1,2)\n",
        "imagen2.escribirPixel(5,5,20)\n",
        "\n",
        "\n",
        "print(imagen1)\n",
        "print(imagen2)\n",
        "\n",
        "suma = imagen1 + imagen2\n",
        "print(suma)"
      ],
      "metadata": {
        "colab": {
          "base_uri": "https://localhost:8080/"
        },
        "id": "rfgxUbY2yMOv",
        "outputId": "f204fb1c-d40e-4276-8be2-a8fcf7a73fdd"
      },
      "execution_count": null,
      "outputs": [
        {
          "output_type": "stream",
          "name": "stdout",
          "text": [
            "{((2, 3), 5), ((4, 1), 10)} (10, 10)\n",
            "{((5, 5), 20), ((4, 1), 2)} (10, 10)\n",
            "{((2, 3), 5), ((5, 5), 20), ((4, 1), 12)} (10, 10)\n"
          ]
        }
      ]
    },
    {
      "cell_type": "code",
      "source": [
        "imagen1 = MatrizDePixelsDict(10000000000,1000000000000)\n",
        "imagen2 = MatrizDePixelsDict(10000000000,1000000000000)\n",
        "imagen3 = imagen1 + imagen2"
      ],
      "metadata": {
        "id": "N-XZdSMvyOWy",
        "outputId": "602872e0-e54c-40ae-e013-d6a9cc48b40e",
        "colab": {
          "base_uri": "https://localhost:8080/",
          "height": 176
        }
      },
      "execution_count": 1,
      "outputs": [
        {
          "output_type": "error",
          "ename": "NameError",
          "evalue": "name 'MatrizDePixelsDict' is not defined",
          "traceback": [
            "\u001b[0;31m---------------------------------------------------------------------------\u001b[0m",
            "\u001b[0;31mNameError\u001b[0m                                 Traceback (most recent call last)",
            "\u001b[0;32m<ipython-input-1-b65dbc3452cc>\u001b[0m in \u001b[0;36m<cell line: 0>\u001b[0;34m()\u001b[0m\n\u001b[0;32m----> 1\u001b[0;31m \u001b[0mimagen1\u001b[0m \u001b[0;34m=\u001b[0m \u001b[0mMatrizDePixelsDict\u001b[0m\u001b[0;34m(\u001b[0m\u001b[0;36m10000000000\u001b[0m\u001b[0;34m,\u001b[0m\u001b[0;36m1000000000000\u001b[0m\u001b[0;34m)\u001b[0m\u001b[0;34m\u001b[0m\u001b[0;34m\u001b[0m\u001b[0m\n\u001b[0m\u001b[1;32m      2\u001b[0m \u001b[0mimagen2\u001b[0m \u001b[0;34m=\u001b[0m \u001b[0mMatrizDePixelsDict\u001b[0m\u001b[0;34m(\u001b[0m\u001b[0;36m10000000000\u001b[0m\u001b[0;34m,\u001b[0m\u001b[0;36m1000000000000\u001b[0m\u001b[0;34m)\u001b[0m\u001b[0;34m\u001b[0m\u001b[0;34m\u001b[0m\u001b[0m\n\u001b[1;32m      3\u001b[0m \u001b[0mimagen3\u001b[0m \u001b[0;34m=\u001b[0m \u001b[0mimagen1\u001b[0m \u001b[0;34m+\u001b[0m \u001b[0mimagen2\u001b[0m\u001b[0;34m\u001b[0m\u001b[0;34m\u001b[0m\u001b[0m\n",
            "\u001b[0;31mNameError\u001b[0m: name 'MatrizDePixelsDict' is not defined"
          ]
        }
      ]
    },
    {
      "cell_type": "code",
      "source": [
        "import sys"
      ],
      "metadata": {
        "id": "eISaJEzYyQQZ"
      },
      "execution_count": null,
      "outputs": []
    },
    {
      "cell_type": "code",
      "source": [
        "print(sys.getsizeof(imagen1)) #Acá vemos la magia de colab que nos dice que pesa lo mismo pero sabemos que no es así\n",
        "print(sys.getsizeof(miImagen))"
      ],
      "metadata": {
        "colab": {
          "base_uri": "https://localhost:8080/"
        },
        "id": "h180YsqRyRyy",
        "outputId": "35f98575-dafb-4c4d-cb0f-d466fb913864"
      },
      "execution_count": null,
      "outputs": [
        {
          "output_type": "stream",
          "name": "stdout",
          "text": [
            "56\n",
            "56\n"
          ]
        }
      ]
    }
  ]
}
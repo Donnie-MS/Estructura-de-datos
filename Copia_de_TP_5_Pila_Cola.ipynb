{
  "nbformat": 4,
  "nbformat_minor": 0,
  "metadata": {
    "colab": {
      "provenance": []
    },
    "kernelspec": {
      "name": "python3",
      "display_name": "Python 3"
    }
  },
  "cells": [
    {
      "cell_type": "markdown",
      "metadata": {
        "id": "42630xxYD0gZ"
      },
      "source": [
        "# ![alt text](https://upload.wikimedia.org/wikipedia/commons/thumb/c/c3/Python-logo-notext.svg/50px-Python-logo-notext.svg.png) **Trabajo Práctico 5: Pilas y colas (dinámicas)** ![alt text](https://upload.wikimedia.org/wikipedia/commons/thumb/c/c3/Python-logo-notext.svg/50px-Python-logo-notext.svg.png)\n",
        "\n",
        "En este trabajo práctico, vamos a trabajar con las estructuras de datos **Pila** y **Cola** dinámicas en Python. Recuerden crear una copia de este archivo en su ***Google Drive*** para tener permisos de edición.\n",
        "\n",
        "### Sergio: **sergio.gonzalez@unahur.edu.ar**"
      ]
    },
    {
      "cell_type": "markdown",
      "source": [
        "Declaración de listas e inserción de elementos"
      ],
      "metadata": {
        "id": "at4biqlGUFMM"
      }
    },
    {
      "cell_type": "code",
      "source": [
        "l1 = []#list()\n",
        "\n",
        "l1.append(2);l1.append(3);l1.append(1);\n",
        "print(l1)\n"
      ],
      "metadata": {
        "id": "bgZj23rgQjKw",
        "colab": {
          "base_uri": "https://localhost:8080/"
        },
        "outputId": "adeecac3-3e47-4a15-9021-3a8b62c670df"
      },
      "execution_count": 1,
      "outputs": [
        {
          "output_type": "stream",
          "name": "stdout",
          "text": [
            "[2, 3, 1]\n"
          ]
        }
      ]
    },
    {
      "cell_type": "markdown",
      "source": [
        "Acceso por índices"
      ],
      "metadata": {
        "id": "RoV7K12pUNC7"
      }
    },
    {
      "cell_type": "code",
      "source": [
        "l2 = [2,1,3,4,5,7]\n",
        "print(l2[len(l2)-1])\n",
        "\n",
        "print(l2)\n",
        "l2[3] = 200\n",
        "print(l2)"
      ],
      "metadata": {
        "id": "vCaX9pPAQkE3",
        "colab": {
          "base_uri": "https://localhost:8080/"
        },
        "outputId": "726bec6a-3618-45f6-ea0c-6f00811e3eba"
      },
      "execution_count": null,
      "outputs": [
        {
          "output_type": "stream",
          "name": "stdout",
          "text": [
            "7\n",
            "[2, 1, 3, 4, 5, 7]\n",
            "[2, 1, 3, 200, 5, 7]\n"
          ]
        }
      ]
    },
    {
      "cell_type": "code",
      "source": [
        "l3 = [1,4,2,5,6,2]\n",
        "print(l3)\n",
        "l3.insert(3,20)\n",
        "print(l3)"
      ],
      "metadata": {
        "colab": {
          "base_uri": "https://localhost:8080/"
        },
        "id": "sBoNypNV1SQs",
        "outputId": "4b9a6b78-8588-4f33-b9e7-d1fa8c9516e1"
      },
      "execution_count": null,
      "outputs": [
        {
          "output_type": "stream",
          "name": "stdout",
          "text": [
            "[1, 4, 2, 5, 6, 2]\n",
            "[1, 4, 2, 20, 5, 6, 2]\n"
          ]
        }
      ]
    },
    {
      "cell_type": "code",
      "source": [
        "l3 = [1,4,2,5,6,2]\n",
        "print(l3)\n",
        "l3.pop(3)\n",
        "print(l3)"
      ],
      "metadata": {
        "colab": {
          "base_uri": "https://localhost:8080/"
        },
        "id": "EB81eLPG1s4I",
        "outputId": "c47af7ab-84e3-4319-f5ed-c46830209ae7"
      },
      "execution_count": null,
      "outputs": [
        {
          "output_type": "stream",
          "name": "stdout",
          "text": [
            "[1, 4, 2, 5, 6, 2]\n",
            "[1, 4, 2, 6, 2]\n"
          ]
        }
      ]
    },
    {
      "cell_type": "markdown",
      "source": [
        "Recorrido por elementos y por índices"
      ],
      "metadata": {
        "id": "18NFlEigUPo7"
      }
    },
    {
      "cell_type": "code",
      "source": [],
      "metadata": {
        "id": "nhsho-T-QlbH"
      },
      "execution_count": null,
      "outputs": []
    },
    {
      "cell_type": "markdown",
      "metadata": {
        "id": "p_zfOaNy70h-"
      },
      "source": [
        "## **Parte 1: Pilas dinámicas**"
      ]
    },
    {
      "cell_type": "markdown",
      "metadata": {
        "id": "xjXgmD3mskbR"
      },
      "source": [
        "### **Ejercicio 1**\n",
        "\n",
        "Implementar el TDA Pila (Stack), con las siguientes operaciones:\n",
        "- Crear (__init__())\n",
        "- Vaciar\n",
        "- Apilar elemento (push)\n",
        "- Desapilar elemento (pop)\n",
        "- Obtener primer elemento (top)\n",
        "- Obtener tamaño de pila\n",
        "- Clonar\n",
        "- Esta vacía.\n",
        "- __repr__(). Para poder imprimir una Pila por consola"
      ]
    },
    {
      "cell_type": "code",
      "source": [
        "import copy as cp # paquete para no tener problemas con las estructuras que tienen multiples niveles\n",
        "\n",
        "class Pila:\n",
        "  def __init__(self, listaInicial=None):\n",
        "    self.pila = []\n",
        "    if listaInicial:\n",
        "      self.pila = cp.deepcopy(listaInicial)\n",
        "\n",
        "  def tamaño(self)->int:\n",
        "    return len(self.pila)\n",
        "\n",
        "  def estaVacia(self)->bool:\n",
        "    return self.tamaño() == 0\n",
        "\n",
        "  def apilar(self, dato:int)->None:\n",
        "    self.pila.append(dato)\n",
        "\n",
        "  def tope(self)->int:\n",
        "    datoCima = None\n",
        "    if not self.estaVacia():\n",
        "      datoCima = self.pila[len(self.pila)-1] # leo ultimo elemento\n",
        "    return datoCima\n",
        "\n",
        "  def desapilar(self)->int:\n",
        "    dato = None\n",
        "    if not self.estaVacia():\n",
        "      dato = self.pila.pop()\n",
        "    return dato\n",
        "\n",
        "  def vaciar(self)->None:\n",
        "    self.pila = []\n",
        "\n",
        "  def clonar(self): # retorna una pila que contengan los mismos elementos pero en otra posicion de memoria\n",
        "    return cp.deepcopy(self)\n",
        "\n",
        "  def __repr__(self)->str:\n",
        "    return str(self.pila)+\"<->\""
      ],
      "metadata": {
        "id": "RKgUbaITQoxm"
      },
      "execution_count": 8,
      "outputs": []
    },
    {
      "cell_type": "markdown",
      "metadata": {
        "id": "I26IE7cG1BeA"
      },
      "source": [
        "### A partir del **Ejercicio 2** vamos a trabajar fuera del TDA Pila usando la interface que creamos en el **Ejercicio 1**. Es decir, se pueden usar solo las operaciones de la interface, no se puede acceder a los componentes internos del TDA. Si necesitan estructuras auxiliares, pueden usar otra pila, arreglos o listas."
      ]
    },
    {
      "cell_type": "markdown",
      "metadata": {
        "id": "Q0D1vzJZzqID"
      },
      "source": [
        "### **Ejercicio 2**\n",
        "\n",
        "Escribir un programa que declare una pila de enteros y le apile 4 elementos. Luego debe mostrar la pila y su tamaño, desapilar 2 elementos y volver a imprimirla junto con el nuevo tamaño."
      ]
    },
    {
      "cell_type": "code",
      "metadata": {
        "id": "Y4eHEO31zpnu",
        "colab": {
          "base_uri": "https://localhost:8080/"
        },
        "outputId": "c51f8463-b8ae-44ef-c35b-c5ba7cece568"
      },
      "source": [
        "pila1 = Pila()\n",
        "pila1.apilar(1)\n",
        "pila1.apilar(3)\n",
        "pila1.apilar(4)\n",
        "pila1.apilar(5)\n",
        "\n",
        "\n",
        "print(pila1)\n",
        "print(pila1.tamanio())\n",
        "pila1.desapilar()\n",
        "pila1.desapilar()\n",
        "print(pila1)"
      ],
      "execution_count": 18,
      "outputs": [
        {
          "output_type": "stream",
          "name": "stdout",
          "text": [
            "[1, 3, 4, 5] <->\n",
            "4\n",
            "[1, 3] <->\n"
          ]
        }
      ]
    },
    {
      "cell_type": "markdown",
      "metadata": {
        "id": "rds3Jsp10bJr"
      },
      "source": [
        "### **Ejercicio 3**\n",
        "\n",
        "Escribir una función que invierta el orden de una pila. No debe devolver una nueva pila invertida, sino invertir la pila que ingresa por parámetro."
      ]
    },
    {
      "cell_type": "code",
      "source": [
        "def invertirPila(unaPila) -> None:\n",
        "    listaAux = []\n",
        "    while not unaPila.estaVacia():\n",
        "        listaAux.append(unaPila.desapilar())\n",
        "    for dato in listaAux:\n",
        "        unaPila.apilar(dato)"
      ],
      "metadata": {
        "id": "IIUp6iNaQqdt"
      },
      "execution_count": null,
      "outputs": []
    },
    {
      "cell_type": "markdown",
      "metadata": {
        "id": "-YN0LThH0dO6"
      },
      "source": [
        "### **Ejercicio 4**\n",
        "\n",
        "Escribir una función que toma el último elemento de una pila(la base) y lo ponga en la cima (de la misma pila), respetando el orden del resto de los elementos. Utilizar una pila auxiliar."
      ]
    },
    {
      "cell_type": "code",
      "metadata": {
        "id": "KO9cVn4T0EFQ",
        "colab": {
          "base_uri": "https://localhost:8080/"
        },
        "outputId": "fb79cf2a-bfa7-4c1a-f095-bbf0710c3036"
      },
      "source": [
        "\n",
        "def deAbajoParaArriba(unaPila:Pila)->None: #Dfino mi función. Tomo una pila y no retorno nada (porque modifico la misma pila)\n",
        "  pilaAux = Pila() #Defino mi pila auxiliar (porque me lo pide el enunciado)\n",
        "  while not unaPila.estaVacia(): #Mientras mi pila NO esté vacía:\n",
        "    pilaAux.apilar(unaPila.desapilar()) #Voy a apilar en pila Aux los elementos de unaPila que voy desapilando\n",
        "  primerElemento = pilaAux.desapilar()  #Desapilo el último elemento de pilaAux, que es el primer elemento de mi pila.\n",
        "  while not pilaAux.estaVacia(): #Ahora, mientras mi pilaAux NO esté vacía:\n",
        "    unaPila.apilar(pilaAux.desapilar()) #Voy a apilar los elementos de pilaAux que voy desapilando\n",
        "  unaPila.apilar(primerElemento) #Apilo en unaPila el primer elemento que me había reservado\n",
        "\n",
        "pila6 = Pila()\n",
        "pila6.apilar(2)\n",
        "pila6.apilar(3)\n",
        "pila6.apilar(6)\n",
        "pila6.apilar(1)\n",
        "print(pila6)\n",
        "deAbajoParaArriba(pila6)\n",
        "print(pila6)"
      ],
      "execution_count": 54,
      "outputs": [
        {
          "output_type": "stream",
          "name": "stdout",
          "text": [
            "[2, 3, 6, 1] <->\n",
            "[3, 6, 1, 2] <->\n"
          ]
        }
      ]
    },
    {
      "cell_type": "markdown",
      "metadata": {
        "id": "_Q_DCTjI3AGK"
      },
      "source": [
        "### **Ejercicio 5**\n",
        "\n",
        "Escribir una función que coloque en el fondo de una pila un nuevo elemento."
      ]
    },
    {
      "cell_type": "code",
      "metadata": {
        "id": "S1y89t3q3BkZ",
        "colab": {
          "base_uri": "https://localhost:8080/"
        },
        "outputId": "f95e63d7-c719-4034-d048-358978e9acfe"
      },
      "source": [
        "def nuevoAbajo(unaPila, nuevoElem) -> None:\n",
        "    auxPila = Pila()\n",
        "\n",
        "    while not unaPila.estaVacia():\n",
        "        auxPila.apilar(unaPila.desapilar())\n",
        "    unaPila.apilar(nuevoElem)\n",
        "    while not auxPila.estaVacia():\n",
        "        unaPila.apilar(auxPila.desapilar())\n",
        "\n",
        "pila6 = Pila()\n",
        "pila6.apilar(2)\n",
        "pila6.apilar(3)\n",
        "pila6.apilar(6)\n",
        "pila6.apilar(1)\n",
        "nuevoAbajo(pila6, 10)\n",
        "print(pila6)"
      ],
      "execution_count": 73,
      "outputs": [
        {
          "output_type": "stream",
          "name": "stdout",
          "text": [
            "[10, 2, 3, 6, 1] <->\n"
          ]
        }
      ]
    },
    {
      "cell_type": "markdown",
      "metadata": {
        "id": "xfP229oY3ODC"
      },
      "source": [
        "### **Ejercicio 6**\n",
        "\n",
        "Escribir una función que elimine de una pila todas las ocurrencias de un elemento dado. Usar una pila auxiliar."
      ]
    },
    {
      "cell_type": "code",
      "source": [
        "\n",
        "def eliminarOcurrencias(unaPila: Pila, elemAEliminar) -> None:\n",
        "    auxPila = Pila()\n",
        "\n",
        "    while not unaPila.estaVacia():\n",
        "        if unaPila.tope() != elemAEliminar:\n",
        "            auxPila.apilar(unaPila.desapilar())\n",
        "        else:\n",
        "            unaPila.desapilar()\n",
        "\n",
        "    while not auxPila.estaVacia():\n",
        "        unaPila.apilar(auxPila.desapilar())\n",
        "\n",
        "\n",
        "pila6 = Pila()\n",
        "pila6.apilar(3)\n",
        "pila6.apilar(3)\n",
        "pila6.apilar(3)\n",
        "pila6.apilar(6)\n",
        "pila6.apilar(1)\n",
        "eliminarOcurrencias(pila6, 3)\n",
        "print(pila6)"
      ],
      "metadata": {
        "id": "vOcqAinbQrcm",
        "colab": {
          "base_uri": "https://localhost:8080/"
        },
        "outputId": "17143de2-9726-4375-82e3-bd24bf30dcb4"
      },
      "execution_count": 75,
      "outputs": [
        {
          "output_type": "stream",
          "name": "stdout",
          "text": [
            "[6, 1] <->\n"
          ]
        }
      ]
    },
    {
      "cell_type": "markdown",
      "metadata": {
        "id": "nxgYjoxl3gmz"
      },
      "source": [
        "### **Ejercicio 7**\n",
        "\n",
        "Escribir un función que duplique el contenido de una pila.\n",
        "\n",
        "Por ejemplo, si la pila de entrada es:\n",
        "\n",
        "Pila = 8, 5, 6, 9\n",
        "\n",
        "Luego de la función la salida debe ser:\n",
        "\n",
        "pilaSalida = 8, 5, 6, 9, 8, 5, 6, 9"
      ]
    },
    {
      "cell_type": "code",
      "metadata": {
        "id": "Ojjaj3Z23g7j"
      },
      "source": [
        "def duplicarContenido(unaPila: Pila) -> None:\n",
        "    pilaClonada = unaPila.clonar()\n",
        "    auxPila = Pila()\n",
        "    while not pilaClonada.estaVacia():\n",
        "        auxPila.apilar(pilaClonada.desapilar())\n",
        "    while not auxPila.estaVacia():\n",
        "        unaPila.apilar(auxPila.desapilar())\n",
        "\n"
      ],
      "execution_count": null,
      "outputs": []
    },
    {
      "cell_type": "markdown",
      "metadata": {
        "id": "OLopy2zK38Am"
      },
      "source": [
        "### **Ejercicio 8**\n",
        "\n",
        "Escribir una función que realiza el cálculo de la suma de dos números enteros de muchos dígitos (los dos números tienen la misma cantidad de dígitos). La función recibe dos pilas por parámetro, las que almacenan los dígitos de los números a sumar (esta pilas no deben estar modificadas al terminar la función). La función debe retornar una nueva pila con el resultado.\n",
        "\n",
        "Por ejemplo para sumar: 85699625 + 75426652\n",
        "\n",
        "Las pilas de entrada a la función son:\n",
        "\n",
        "Pila1 = 8, 5, 6, 9, 9, 6, 2, 5\n",
        "\n",
        "Pila2 = 7, 5, 4, 2, 6, 6, 5, 2\n",
        "\n",
        "La salida:\n",
        "\n",
        "pilaSalida = 1, 6, 1, 1, 2, 6, 2, 7, 7"
      ]
    },
    {
      "cell_type": "code",
      "metadata": {
        "id": "a-DTh4IX5gji",
        "colab": {
          "base_uri": "https://localhost:8080/"
        },
        "outputId": "a999beb5-7ff1-4e21-a0ed-6eb282fec1d1"
      },
      "source": [
        "def sumaPilas(unaPila:Pila , otraPila:Pila)->Pila: #Mi función toma dos pilas y devuelve otra pila\n",
        "  if unaPila.tamaño() != otraPila.tamaño(): #Si los tamanios no coinciden\n",
        "    raise Exception ('Las pilas deben ser del mismo tamaño') #Lanzo un error: Las pilas deben ser del mismo tamanio\n",
        "\n",
        "  unaPilaAux = Pila() #Defino estructuras auxiliares para mis pilas y para el resultado\n",
        "  otraPilaAux = Pila()\n",
        "  resultadoAux = Pila() #Esto es porque sumando de atrás para adelante, cuando guarde los resultados me van a quedar al revés, así que planeo invertir esta pila al final\n",
        "  meLlevo = 0 #Como la suma es unidad a unidad, inicio una variable por si el resultado de la suma posición a posición es mayor o igual a 10\n",
        "\n",
        "  while not unaPila.estaVacia() or not otraPila.estaVacia(): #Como tiene la misma longitud da lo mismo usar una o la otra, acá queda explícito (no es necesario usar ambas)\n",
        "    unElemento = unaPila.desapilar() #Me guardo el TOP de una pila\n",
        "    otroElemento = otraPila.desapilar() #Me guardo el TOP de otra pila\n",
        "\n",
        "    suma = unElemento + otroElemento + meLlevo #Los sumo y agrego la variable auxiliar \"me llevo\" por si alguna suma anterior fue mayor o igual a diez\n",
        "    valor = suma%10 #Descompongo el valor me qeudo con la unidad\n",
        "    meLlevo = suma//10 #Me guardo al decena en caso que exista\n",
        "\n",
        "    unaPilaAux.apilar(unElemento) #Apilo el elemento de una pila en la respectiva pila auxiliar\n",
        "    otraPilaAux.apilar(otroElemento)\n",
        "    resultadoAux.apilar(valor) #Me guardo el valor de la suma en mi pila de resultado\n",
        "\n",
        "################## ACÁ YA SALIMOS DEL WHILE #######################################\n",
        "\n",
        "  if meLlevo != 0: #Si me llevo es distinto de cero, o sea me quedó un número dando vueltas\n",
        "    resultadoAux.apilar(meLlevo) #Apilo el número que me quedó\n",
        "\n",
        "  while not unaPilaAux.estaVacia() or not otraPilaAux.estaVacia(): #Como fui vaciando mis pilas originales y el enunciado me pide que no las modifique:\n",
        "    #Pude haber usado clone también y no reconstruirlas, decisión de diseño\n",
        "    unaPila.apilar(unaPilaAux.desapilar()) #Reconstruyo\n",
        "    otraPila.apilar(otraPilaAux.desapilar()) #Reconstruyo\n",
        "\n",
        "  resultado = Pila() #Instancio el resultado, una pila vacía\n",
        "\n",
        "  while not resultadoAux.estaVacia(): #Invierto mi pila auxiliar\n",
        "    resultado.apilar(resultadoAux.desapilar())\n",
        "\n",
        "  return resultado #Devuilevo el resultado\n",
        "\n",
        "pila1 = Pila([8, 5, 6, 9, 9, 6, 2, 5])\n",
        "pila2 = Pila([7, 5, 4, 2, 6, 6, 5, 2])\n",
        "\n",
        "print(pila1)\n",
        "print('+')\n",
        "print(pila2)\n",
        "print(sumaPilas(pila1 , pila2)) #Queda corrido justamente porque existe el \"me llevo\". El resultado tiene tamaño mayor que las entradas"
      ],
      "execution_count": 87,
      "outputs": [
        {
          "output_type": "stream",
          "name": "stdout",
          "text": [
            "[5, 6, 5, 6, 5] <->\n",
            "[6, 5, 6, 5, 6] <->\n",
            "[6, 5, 6, 5, 6] <->\n"
          ]
        }
      ]
    },
    {
      "cell_type": "markdown",
      "metadata": {
        "id": "rc3aFx7i5g13"
      },
      "source": [
        "### **Ejercicio 9**\n",
        "\n",
        "Escribir la función “reemplazar”, que recibe como parámetro una pila de enteros y dos números enteros: “viejo” y “nuevo”. La función debe modificar la pila ingresada por parámetro, reemplazando cada ocurrencia del número “viejo” por el “nuevo”.\n"
      ]
    },
    {
      "cell_type": "code",
      "metadata": {
        "id": "k3RCSCM555Ql"
      },
      "source": [
        "def reemplazar(unaPila, viejo, nuevo) -> None:\n",
        "    auxPila = Pila()\n",
        "    while not unaPila.estaVacia():\n",
        "        if unaPila.tope() == viejo:\n",
        "            auxPila.apilar(nuevo)\n",
        "            unaPila.desapilar()\n",
        "        else:\n",
        "            auxPila.apilar(unaPila.desapilar())\n",
        "    while not auxPila.estaVacia():\n",
        "        unaPila.apilar(auxPila.desapilar())\n"
      ],
      "execution_count": 2,
      "outputs": []
    },
    {
      "cell_type": "markdown",
      "metadata": {
        "id": "qBL1crPl55oY"
      },
      "source": [
        "### **Ejercicio 10**\n",
        "\n",
        "Escribir una función que recibe una pila de enteros y retorna dos pilas, una con solo los números pares y otra con solo los impares, provenientes de la pila de entrada. Al finalizar la función, la pila de entrada no debe estar modificada."
      ]
    },
    {
      "cell_type": "code",
      "metadata": {
        "id": "ZoMkxS8z56Ar",
        "colab": {
          "base_uri": "https://localhost:8080/"
        },
        "outputId": "f9a914ed-b9ec-42b3-9364-52fd89e0b6a3"
      },
      "source": [
        "def clasificarParidad(unaPila) -> Pila:\n",
        "    pilaPar = Pila()\n",
        "    pilaImpar = Pila()\n",
        "    pilaAux = unaPila.clonar()\n",
        "\n",
        "    while not pilaAux.estaVacia():\n",
        "        if pilaAux.tope() % 2 == 0:\n",
        "            pilaPar.apilar(pilaAux.desapilar())\n",
        "        else:\n",
        "            pilaImpar.apilar(pilaAux.desapilar())\n",
        "    return pilaPar, pilaImpar\n",
        "\n",
        "miPila = Pila([1 , 2 , 3 , 4 , 5 , 5 , 4 , 3 , 2 , 1])\n",
        "print(miPila)\n",
        "print(clasificarParidad(miPila))\n",
        "print(miPila)"
      ],
      "execution_count": 12,
      "outputs": [
        {
          "output_type": "stream",
          "name": "stdout",
          "text": [
            "[1, 2, 3, 4, 5, 5, 4, 3, 2, 1]<->\n",
            "([2, 4, 4, 2]<->, [1, 3, 5, 5, 3, 1]<->)\n",
            "[1, 2, 3, 4, 5, 5, 4, 3, 2, 1]<->\n"
          ]
        }
      ]
    },
    {
      "cell_type": "markdown",
      "metadata": {
        "id": "R-BNJESL8Ato"
      },
      "source": [
        "## **Parte 2: Colas dinámicas**"
      ]
    },
    {
      "cell_type": "markdown",
      "metadata": {
        "id": "_2Diy6h_8Jae"
      },
      "source": [
        "### **Ejercicio 11**\n",
        "\n",
        "Implementar el TDA Cola (Queue), con las siguientes operaciones:\n",
        "- Crear (__init__())\n",
        "- Vaciar\n",
        "- Encolar elemento (enqueue)\n",
        "- Desancolar elemento (dequeue)\n",
        "- Obtener primer elemento (top)\n",
        "- Obtener tamaño de cola\n",
        "- Clonar\n",
        "- Esta vacía.\n",
        "- __repr__(). Para poder imprimir una Cola por consola"
      ]
    },
    {
      "cell_type": "code",
      "source": [
        "import copy\n",
        "\n",
        "class Cola:\n",
        "    def __init__(self) -> None:\n",
        "        self.__cola = []\n",
        "\n",
        "    def vaciar(self) -> None:\n",
        "        self.__cola = []\n",
        "\n",
        "    def encolar(self, dato) -> None:\n",
        "        self.__cola.append(dato)\n",
        "\n",
        "    def desencolar(self) -> int:\n",
        "        dato = None\n",
        "        if not self.estaVacia():\n",
        "            dato = self.__cola.pop(0) #0 para desencolar por el iniico\n",
        "        else:\n",
        "            raise Exception(\"Cola vacia\")\n",
        "        return dato\n",
        "\n",
        "    def tope(self)->int:\n",
        "      dato = None\n",
        "      if not self.estaVacia():\n",
        "        dato = self.__cola[0]\n",
        "      else:\n",
        "        raise Exception(\"Cola vacia\")\n",
        "      return dato\n",
        "\n",
        "    def tamanio(self) -> int:\n",
        "        return len(self.__cola)\n",
        "\n",
        "    def clonar(self):\n",
        "        return copy.deepcopy(self)\n",
        "\n",
        "    def estaVacia(self)->bool:\n",
        "        return self.tamanio() == 0\n",
        "\n",
        "    def __repr__(self)->str:\n",
        "      return \"<-\"+str(self.__cola)+\"<-\"\n",
        "\n",
        "cola1 = Cola()\n",
        "print(cola1)\n",
        "cola1.encolar(3);cola1.encolar(2);cola1.encolar(7);cola1.encolar(4);\n",
        "print(cola1)\n",
        "\n",
        "print(cola1.tope())\n"
      ],
      "metadata": {
        "id": "f6-wt123QtmM",
        "colab": {
          "base_uri": "https://localhost:8080/"
        },
        "outputId": "6cf59a4b-755b-464a-d35a-c5a07dae66bd"
      },
      "execution_count": 22,
      "outputs": [
        {
          "output_type": "stream",
          "name": "stdout",
          "text": [
            "<-[]<-\n",
            "<-[3, 2, 7, 4]<-\n",
            "3\n"
          ]
        }
      ]
    },
    {
      "cell_type": "markdown",
      "metadata": {
        "id": "wao1sk3f9VIE"
      },
      "source": [
        "### A partir del **Ejercicio 12** vamos a trabajar fuera del TDA Cola usando la interface que creamos en el **Ejercicio 11**. Es decir, se pueden usar solo las operaciones de la interface, no se puede acceder a los componentes internos del TDA. Si necesitan estructuras auxiliares, pueden usar otra cola, pilas, arreglos o listas."
      ]
    },
    {
      "cell_type": "markdown",
      "metadata": {
        "id": "0ngItJaS9LQL"
      },
      "source": [
        "### **Ejercicio 12**\n",
        "\n",
        "Escribir una función que invierta el orden de una cola. No debe devolver una nueva cola invertida, sino invertir la cola que ingresa por parámetro."
      ]
    },
    {
      "cell_type": "code",
      "source": [
        "def invertirCola(unaCola) -> None:\n",
        "    auxPila = Pila()\n",
        "    while not unaCola.estaVacia():\n",
        "        auxPila.apilar(unaCola.desencolar())\n",
        "    while not auxPila.estaVacia():\n",
        "        unaCola.encolar(auxPila.desapilar())\n",
        "cola1 = Cola()\n",
        "cola1.encolar(2);cola1.encolar(3);cola1.encolar(1);cola1.encolar(5);\n",
        "print(cola1)\n",
        "invertirCola(cola1)\n",
        "print(cola1)"
      ],
      "metadata": {
        "id": "XQy4uoFJQund",
        "colab": {
          "base_uri": "https://localhost:8080/"
        },
        "outputId": "ed161f2f-5dab-4b51-9145-e14036f603c4"
      },
      "execution_count": 26,
      "outputs": [
        {
          "output_type": "stream",
          "name": "stdout",
          "text": [
            "<-[2, 3, 1, 5]<-\n",
            "<-[2, 3, 1, 5]<-\n"
          ]
        }
      ]
    },
    {
      "cell_type": "markdown",
      "metadata": {
        "id": "c7GRn_aB9j7N"
      },
      "source": [
        "### **Ejercicio 13**\n",
        "\n",
        "Escribir una función que extraiga el primer elemento de una cola y lo ponga en el final, respetando el orden del resto de los elementos.\n",
        "\n"
      ]
    },
    {
      "cell_type": "code",
      "source": [
        "def dePrimeroAUltimo(unaCola) -> None:\n",
        "    primerElemento = unaCola.desencolar()\n",
        "    unaCola.encolar(primerElemento)\n",
        "\n",
        "cola1 = Cola()\n",
        "cola1.encolar(2);cola1.encolar(3);cola1.encolar(1);cola1.encolar(5);\n",
        "print(cola1)\n",
        "\n",
        "print(cola1)\n",
        "dePrimeroAUltimo(cola1)\n",
        "print(cola1)"
      ],
      "metadata": {
        "id": "hpLbnuKVQv3D",
        "colab": {
          "base_uri": "https://localhost:8080/"
        },
        "outputId": "ec40cabd-23a1-45b5-ae9d-a17491ae8be0"
      },
      "execution_count": 27,
      "outputs": [
        {
          "output_type": "stream",
          "name": "stdout",
          "text": [
            "<-[2, 3, 1, 5]<-\n",
            "<-[2, 3, 1, 5]<-\n",
            "<-[3, 1, 5, 2]<-\n"
          ]
        }
      ]
    },
    {
      "cell_type": "markdown",
      "metadata": {
        "id": "1ymkgIGrzLXy"
      },
      "source": [
        "### **Ejercicio 14**\n",
        "\n",
        "Escribir una función que coloque en el principio de una cola un nuevo elemento."
      ]
    },
    {
      "cell_type": "code",
      "metadata": {
        "id": "d4GH3FgpzMjp",
        "colab": {
          "base_uri": "https://localhost:8080/"
        },
        "outputId": "602bb8fd-b2b4-423d-c473-2a8d71232503"
      },
      "source": [
        "def nuevoElemPrimero(unaCola, nuevoElem) -> None:\n",
        "    auxCola = Cola()\n",
        "    unaCola.encolar(nuevoElem)\n",
        "    for i in range(unaCola.tamanio() - 1):\n",
        "      unaCola.encolar(unaCola.desencolar())\n",
        "\n",
        "cola1 = Cola()\n",
        "cola1.encolar(2);cola1.encolar(3);cola1.encolar(1);cola1.encolar(5);\n",
        "print(cola1)\n",
        "nuevoElemPrimero(cola1 , 53)\n",
        "print(cola1)"
      ],
      "execution_count": 32,
      "outputs": [
        {
          "output_type": "stream",
          "name": "stdout",
          "text": [
            "<-[2, 3, 1, 5]<-\n",
            "<-[53, 2, 3, 1, 5]<-\n"
          ]
        }
      ]
    },
    {
      "cell_type": "markdown",
      "metadata": {
        "id": "02nV6J1RzOZI"
      },
      "source": [
        "### **Ejercicio 15**\n",
        "\n",
        "Escribir una función que elimine de una cola todas las ocurrencias de un elemento dado.\n"
      ]
    },
    {
      "cell_type": "code",
      "metadata": {
        "id": "Tyhn88MRzPIc"
      },
      "source": [
        "def eliminarElemento(cola:Cola, datoDel:int)->int:\n",
        "  cant = 0\n",
        "  for i in range(cola.tamaño()):\n",
        "    dato = cola.desencolar()\n",
        "    if dato == datoDel:\n",
        "      cant += 1\n",
        "    else:\n",
        "      cola.encolar(dato)\n",
        "  return cant"
      ],
      "execution_count": null,
      "outputs": []
    },
    {
      "cell_type": "markdown",
      "metadata": {
        "id": "SDTxGmiaiapF"
      },
      "source": [
        "### **Ejercicio 16**\n",
        "\n",
        "Escribir una función que recibe una cola de enteros y genera dos colas: una con los números primos y otra con los números no primos, de la cola de entrada. Al terminar la función, la cola de entrada no debe estar modificada."
      ]
    },
    {
      "cell_type": "code",
      "source": [],
      "metadata": {
        "id": "bjXSFoAhQw4T"
      },
      "execution_count": null,
      "outputs": []
    },
    {
      "cell_type": "markdown",
      "metadata": {
        "id": "JXBJhthXiexG"
      },
      "source": [
        "### **Ejercicio 17**\n",
        "\n",
        "Implementar la función \"mezcla\" de dos colas, que recibe como parámetros dos colas ordenadas de menor a mayor y devuelve una nueva cola con la unión de ambas colas de entrada con sus elementos ordenados de la misma manera.\n"
      ]
    },
    {
      "cell_type": "code",
      "metadata": {
        "id": "Z2bswiGMigDd"
      },
      "source": [],
      "execution_count": null,
      "outputs": []
    },
    {
      "cell_type": "markdown",
      "metadata": {
        "id": "uTlvxV4x-zxg"
      },
      "source": [
        "### **Ejercicio 18**\n",
        "\n",
        "Implementar la función que recibe como parámetro una cola y elimina todos los números pares."
      ]
    },
    {
      "cell_type": "code",
      "metadata": {
        "id": "l8wU_LPh-0NK"
      },
      "source": [],
      "execution_count": null,
      "outputs": []
    }
  ]
}
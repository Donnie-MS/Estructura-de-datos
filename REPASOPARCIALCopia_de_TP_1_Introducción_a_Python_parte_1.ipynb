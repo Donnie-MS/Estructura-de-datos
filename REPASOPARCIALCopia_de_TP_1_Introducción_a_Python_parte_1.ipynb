{
  "cells": [
    {
      "cell_type": "markdown",
      "metadata": {
        "id": "42630xxYD0gZ"
      },
      "source": [
        "# ![alt text](https://upload.wikimedia.org/wikipedia/commons/thumb/c/c3/Python-logo-notext.svg/50px-Python-logo-notext.svg.png) **Trabajo Práctico 1: Introducción a Python Parte 1** ![alt text](https://upload.wikimedia.org/wikipedia/commons/thumb/c/c3/Python-logo-notext.svg/50px-Python-logo-notext.svg.png)\n",
        "\n",
        "En estos ejercicios vamos a trabajar cosas que nos permitan empezar a programar esquinausando Python.\n",
        "\n",
        "La idea es que ustedes vayan resolviendo los ejercicios sin la necesidad de instalarse nada en sus computadoras.\n",
        "Antes que nada, creen una copia de este archivo en su ***Google Drive*** para tener permisos de edición, luego pueden compartirlo con quien quieran, tengan cuidado con los permisos al momento de compartir!!!!!!!. Si quieren, nos pueden compartir su documento para que ayudemos con las dudas.\n",
        "\n",
        "### Sergio: **sergio.gonzalez@unahur.edu.ar**"
      ]
    },
    {
      "cell_type": "markdown",
      "source": [
        "En los bloques de código como el que les aparece aca abajo, se puede programar en Python, al pararse dentro del bloque, aparecerá un ícono de \"*play*\" en la esquina superior izquierda, \"*clickeando*\" en este ícono, se ejecuta el código escrito y se muestra la salida debajo\n",
        "\n",
        "Una cosa a tener en cuenta es que todos los bloques de código estan conectados  entre sí, es por eso que podemos usar dentro de un bloque una variable definida en otro (se debe ejecutar antes el bloque para \"*crearla*\")\n",
        "\n",
        "Probemos algunas de estas cosas:"
      ],
      "metadata": {
        "id": "g-CtOfA0Gxgs"
      }
    },
    {
      "cell_type": "markdown",
      "source": [
        "Declaración de variables e impresión por consola de valores"
      ],
      "metadata": {
        "id": "jj8Fij2xGzda"
      }
    },
    {
      "cell_type": "code",
      "execution_count": null,
      "metadata": {
        "id": "IH0qfE_oTzyR",
        "colab": {
          "base_uri": "https://localhost:8080/"
        },
        "outputId": "9b2ccf35-4374-47f2-db24-6c463ce58f2b"
      },
      "outputs": [
        {
          "output_type": "stream",
          "name": "stdout",
          "text": [
            "5 10.3 True hola mundo\n"
          ]
        }
      ],
      "source": [
        "#int -> numeros enteros\n",
        "#float -> numeros decimales\n",
        "#bool -> True o False\n",
        "#str -> cadenas de caracteres \"palabras\"\n",
        "varEntera = 5\n",
        "varFlotante = 10.3\n",
        "varBoolean = True\n",
        "varStr = \"hola mundo\"\n",
        "\n",
        "print(varEntera, varFlotante, varBoolean, varStr)"
      ]
    },
    {
      "cell_type": "markdown",
      "source": [
        "Composicion de strings usando *format*"
      ],
      "metadata": {
        "id": "XbEqV95HgrUE"
      }
    },
    {
      "cell_type": "code",
      "source": [],
      "metadata": {
        "id": "uFw_P4Nqgr2Z"
      },
      "execution_count": null,
      "outputs": []
    },
    {
      "cell_type": "markdown",
      "source": [
        "Ingreso de datos desde teclado por consola"
      ],
      "metadata": {
        "id": "pW4GVw3YG6q9"
      }
    },
    {
      "cell_type": "code",
      "source": [
        "var1 = 3\n",
        "var2 = 4\n",
        "varInput = int(input(\"Ingresa un numero: \"))\n",
        "\n",
        "print(type(varInput))"
      ],
      "metadata": {
        "id": "TZqOzN3pHy7K",
        "colab": {
          "base_uri": "https://localhost:8080/",
          "height": 228
        },
        "outputId": "0fd90f85-d329-43bd-8afb-803e114abc95"
      },
      "execution_count": null,
      "outputs": [
        {
          "name": "stdout",
          "output_type": "stream",
          "text": [
            "Ingresa un numero: A\n"
          ]
        },
        {
          "output_type": "error",
          "ename": "ValueError",
          "evalue": "invalid literal for int() with base 10: 'A'",
          "traceback": [
            "\u001b[0;31m---------------------------------------------------------------------------\u001b[0m",
            "\u001b[0;31mValueError\u001b[0m                                Traceback (most recent call last)",
            "\u001b[0;32m<ipython-input-23-00d85864c56f>\u001b[0m in \u001b[0;36m<cell line: 0>\u001b[0;34m()\u001b[0m\n\u001b[1;32m      1\u001b[0m \u001b[0mvar1\u001b[0m \u001b[0;34m=\u001b[0m \u001b[0;36m3\u001b[0m\u001b[0;34m\u001b[0m\u001b[0;34m\u001b[0m\u001b[0m\n\u001b[1;32m      2\u001b[0m \u001b[0mvar2\u001b[0m \u001b[0;34m=\u001b[0m \u001b[0;36m4\u001b[0m\u001b[0;34m\u001b[0m\u001b[0;34m\u001b[0m\u001b[0m\n\u001b[0;32m----> 3\u001b[0;31m \u001b[0mvarInput\u001b[0m \u001b[0;34m=\u001b[0m \u001b[0mint\u001b[0m\u001b[0;34m(\u001b[0m\u001b[0minput\u001b[0m\u001b[0;34m(\u001b[0m\u001b[0;34m\"Ingresa un numero: \"\u001b[0m\u001b[0;34m)\u001b[0m\u001b[0;34m)\u001b[0m\u001b[0;34m\u001b[0m\u001b[0;34m\u001b[0m\u001b[0m\n\u001b[0m\u001b[1;32m      4\u001b[0m \u001b[0;34m\u001b[0m\u001b[0m\n\u001b[1;32m      5\u001b[0m \u001b[0mprint\u001b[0m\u001b[0;34m(\u001b[0m\u001b[0mtype\u001b[0m\u001b[0;34m(\u001b[0m\u001b[0mvarInput\u001b[0m\u001b[0;34m)\u001b[0m\u001b[0;34m)\u001b[0m\u001b[0;34m\u001b[0m\u001b[0;34m\u001b[0m\u001b[0m\n",
            "\u001b[0;31mValueError\u001b[0m: invalid literal for int() with base 10: 'A'"
          ]
        }
      ]
    },
    {
      "cell_type": "markdown",
      "metadata": {
        "id": "YiSL7GMcLOO9"
      },
      "source": [
        "Uso de operadores aritméticos entre variable de diferente tipo"
      ]
    },
    {
      "cell_type": "code",
      "execution_count": null,
      "metadata": {
        "id": "XTQPIJfZAH8h",
        "colab": {
          "base_uri": "https://localhost:8080/"
        },
        "outputId": "1e3a37cc-95e2-4185-c3c8-6d5e3e7f7f50",
        "collapsed": true
      },
      "outputs": [
        {
          "output_type": "stream",
          "name": "stdout",
          "text": [
            "holaholaholaholahola\n"
          ]
        }
      ],
      "source": [
        "#Operadores aritmeticos\n",
        "# + -> suma\n",
        "# - -> resta\n",
        "# * -> producto\n",
        "# / -> cociente decimal\n",
        "# // -> cociente entero\n",
        "# % -> resto del cociente entero\n",
        "# ** -> potencia\n",
        "var1 = 5\n",
        "var2 = \"hola\"\n",
        "\n",
        "res = var1 * var2\n",
        "\n",
        "print(res)"
      ]
    },
    {
      "cell_type": "markdown",
      "source": [
        "Uso de operadores lógicos"
      ],
      "metadata": {
        "id": "upZbdL3qHiQb"
      }
    },
    {
      "cell_type": "code",
      "source": [
        "#Operadores logicos\n",
        "# and -> interseccion (Y)\n",
        "# or -> union (O)\n",
        "# not -> negacion (NO)\n",
        "\n",
        "var1 = True\n",
        "var2 = False\n",
        "\n",
        "res = var1 or var2\n",
        "\n",
        "print(res)"
      ],
      "metadata": {
        "id": "tnTfh_yaKiXh",
        "colab": {
          "base_uri": "https://localhost:8080/"
        },
        "outputId": "ffec3343-79a3-49cf-bc7c-02d4c51946bc"
      },
      "execution_count": null,
      "outputs": [
        {
          "output_type": "stream",
          "name": "stdout",
          "text": [
            "True\n"
          ]
        }
      ]
    },
    {
      "cell_type": "markdown",
      "source": [
        "Uso de operadores de comparación"
      ],
      "metadata": {
        "id": "i9ev9xjMHle8"
      }
    },
    {
      "cell_type": "code",
      "source": [
        "#Operadores de comparacion\n",
        "# == -> igual\n",
        "# != -> distinto\n",
        "# > -> mayor\n",
        "# < -> menor\n",
        "# >= -> mayor o igual\n",
        "# <= -> menor o igual\n",
        "\n",
        "var1 = 2\n",
        "var2 = 20\n",
        "\n",
        "res = var1 > 20\n",
        "\n",
        "print(res)\n",
        "#Comparacion de orden alfabetico entre strings solo funciona bien entre todo mayusculoa o todo minuscula, no mezclado"
      ],
      "metadata": {
        "id": "mIJ_efY7LZkD",
        "colab": {
          "base_uri": "https://localhost:8080/"
        },
        "outputId": "50f828c7-7792-4885-c881-d21130618ea0"
      },
      "execution_count": null,
      "outputs": [
        {
          "output_type": "stream",
          "name": "stdout",
          "text": [
            "True\n"
          ]
        }
      ]
    },
    {
      "cell_type": "markdown",
      "source": [
        "*Casteo* de variables usando constructores de los tipos de datos"
      ],
      "metadata": {
        "id": "nu3P9oZ7Hp9z"
      }
    },
    {
      "cell_type": "code",
      "source": [
        "#int() -> constructor de enteros\n",
        "#float() -> constructor de floats\n",
        "#str() -> constructor de strings\n",
        "#bool() -> constructor de bools"
      ],
      "metadata": {
        "id": "AzTngm3cMnKP"
      },
      "execution_count": null,
      "outputs": []
    },
    {
      "cell_type": "markdown",
      "source": [
        "*Casteo* integrado con *input*"
      ],
      "metadata": {
        "id": "5K7YBUQknCYs"
      }
    },
    {
      "cell_type": "code",
      "source": [],
      "metadata": {
        "id": "FYu4xzE2NyiI"
      },
      "execution_count": null,
      "outputs": []
    },
    {
      "cell_type": "markdown",
      "source": [
        "Expresiones"
      ],
      "metadata": {
        "id": "mDDydsSOHw_T"
      }
    },
    {
      "cell_type": "code",
      "source": [
        "#Expresiones\n",
        "#Usamos una mezcla de operadpres logicos y de comparacion\n",
        "\n",
        "#---------------|--------------------------|----------------------------\n",
        "#               10                        25\n",
        "\n",
        "#Escribir un programa que pida un numero por teclado e imprima si su siguiente se encuentra en el intervalo 10-25 (abierto)\n",
        "\n",
        "var1 = 20\n",
        "var2 = 20\n",
        "\n",
        "res = (var1+var2 > 20) and (var1-var2 == 0)\n",
        "\n",
        "print(res)"
      ],
      "metadata": {
        "id": "yizJ9S_DOt9j",
        "colab": {
          "base_uri": "https://localhost:8080/"
        },
        "outputId": "ab3d14a2-9f27-41f8-e23a-4b9a288d2b0e"
      },
      "execution_count": null,
      "outputs": [
        {
          "output_type": "stream",
          "name": "stdout",
          "text": [
            "True\n"
          ]
        }
      ]
    },
    {
      "cell_type": "markdown",
      "metadata": {
        "id": "SWxNqIroNiiS"
      },
      "source": [
        "Ahora si, luego de las aclaraciones del caso y sabiendo como escribir y ejecutar código en los bloques de este archivo, empezamos con la guía."
      ]
    },
    {
      "cell_type": "markdown",
      "metadata": {
        "id": "JspwDwHavN5s"
      },
      "source": [
        "#**Primera parte: Declaración de variables y operaciones básicas**"
      ]
    },
    {
      "cell_type": "markdown",
      "metadata": {
        "id": "nbWbQ1jTO3AP"
      },
      "source": [
        "### **Ejercicio 1**\n",
        "\n",
        "Primer programa en Python. Escribir un programa que imprima por pantalla \"Hola mundo\"."
      ]
    },
    {
      "cell_type": "code",
      "execution_count": null,
      "metadata": {
        "id": "joL3PhcCL-6Z",
        "colab": {
          "base_uri": "https://localhost:8080/"
        },
        "outputId": "e75f3ddb-362c-4ee8-c392-ecfa241f6f4f"
      },
      "outputs": [
        {
          "output_type": "stream",
          "name": "stdout",
          "text": [
            "Hola mundo\n"
          ]
        }
      ],
      "source": [
        "def imprimirHolaMundo() -> None:\n",
        "    print(\"Hola mundo\")\n",
        "\n",
        "imprimirPalabra(\"Hola mundo\")"
      ]
    },
    {
      "cell_type": "markdown",
      "metadata": {
        "id": "dNJ7NrxMMTXf"
      },
      "source": [
        "### **Ejercicio 2**\n",
        "\n",
        "Escribir un programa que cargue en una variable la cadena de caracteres “Hola mundo” y luego la imprima por pantalla."
      ]
    },
    {
      "cell_type": "code",
      "execution_count": null,
      "metadata": {
        "id": "Y4N45RZKMb3J"
      },
      "outputs": [],
      "source": [
        "def imprimirPalabra(palabra: str) -> None:\n",
        "    print(palabra)\n",
        "\n",
        "imprimirPalabra(\"Hola mundo\")"
      ]
    },
    {
      "cell_type": "code",
      "source": [],
      "metadata": {
        "id": "hzaDNNv_ryce"
      },
      "execution_count": null,
      "outputs": []
    },
    {
      "cell_type": "markdown",
      "metadata": {
        "id": "G3Dwrq7lNVdx"
      },
      "source": [
        "### **Ejercicio 3**\n",
        "\n",
        "Escribir un programa que cree dos variables enteras, le asigne números arbitrarios (cualquiera) y muestre por pantalla: la suma, la resta, la multiplicación, la división entera y el resto de la división entera."
      ]
    },
    {
      "cell_type": "code",
      "execution_count": null,
      "metadata": {
        "id": "tXIUdY6VN48C",
        "colab": {
          "base_uri": "https://localhost:8080/"
        },
        "outputId": "7511e6b2-a5d8-450b-f2fb-8fc43802284b"
      },
      "outputs": [
        {
          "output_type": "stream",
          "name": "stdout",
          "text": [
            "Ingrese un número: 5\n",
            "Ingrese otro número:5\n",
            "suma: 10.0, resta: 0.0, division: 1.0, multiplicación: 25.0, resto: 0.0\n"
          ]
        }
      ],
      "source": [
        "def OperacionesAritmeticas() -> None:\n",
        "    num1 = float(input(\"Ingrese un número: \"))\n",
        "    num2 = float(input(\"Ingrese otro número:\"))\n",
        "    print(f\"suma: {num1+num2}, resta: {num1-num2}, division: {num1/num2}, multiplicación: {num1*num2}, resto: {num1%num2}\")\n",
        "\n",
        "OperacionesAritmeticas()"
      ]
    },
    {
      "cell_type": "markdown",
      "metadata": {
        "id": "55LHODvxOHbW"
      },
      "source": [
        "### **Ejercicio 4**\n",
        "\n",
        "Implementar algoritmos que permitan:\n",
        "\n",
        "\n",
        "*   Calcular el perímetro y el área de un rectángulo, dada su base y su altura\n",
        "*   Calcular el perímetro y el área de un círculo dado su radio.\n",
        "\n",
        "Declarar las variables necesarias y asignarle números arbitrarios"
      ]
    },
    {
      "cell_type": "code",
      "execution_count": null,
      "metadata": {
        "id": "SvRdQvtQOGgo",
        "colab": {
          "base_uri": "https://localhost:8080/",
          "height": 106
        },
        "outputId": "22e1fcc8-e798-4dd2-a4a4-c62658aa3ad6"
      },
      "outputs": [
        {
          "output_type": "error",
          "ename": "IndentationError",
          "evalue": "expected an indented block after function definition on line 15 (<ipython-input-7-5d7ec02e2af2>, line 17)",
          "traceback": [
            "\u001b[0;36m  File \u001b[0;32m\"<ipython-input-7-5d7ec02e2af2>\"\u001b[0;36m, line \u001b[0;32m17\u001b[0m\n\u001b[0;31m    print(calcularPerimetroDeRectangulo())\u001b[0m\n\u001b[0m    ^\u001b[0m\n\u001b[0;31mIndentationError\u001b[0m\u001b[0;31m:\u001b[0m expected an indented block after function definition on line 15\n"
          ]
        }
      ],
      "source": [
        "#P(R) = 2*b + 2*h\n",
        "#A(R) = b*h\n",
        "#P(C) = 2*3.14*r\n",
        "#A(C) = 3.14*r*r\n",
        "#Operador potencia: 5**2\n",
        "def calcularPerimetroDeRectangulo(base: float = 1, altura: float = 1) -> float:\n",
        "    return 2*base + 2*altura\n",
        "\n",
        "def calcularAreaDeRectangulo(base: float = 0, altura:float = 1) -> float:\n",
        "    return base * altura\n",
        "\n",
        "def calcularPerimetroDeCirculo(radio: float = 1) -> float:\n",
        "    return 2*3.14*radio\n",
        "\n",
        "def calcularAreaDeCirculo(radio: float = 1) -> float:\n",
        "    return 2.14*radio**2\n",
        "\n",
        "print(calcularPerimetroDeRectangulo())"
      ]
    },
    {
      "cell_type": "markdown",
      "metadata": {
        "id": "j34Vr_TaN5v7"
      },
      "source": [
        "### **Ejercicio 5**\n",
        "\n",
        "Escribir un programa que pida una temperatura en grados Celsius al usuario, realice la transformación de grados Celsius a Fahrenheit e imprima el resultado por pantalla."
      ]
    },
    {
      "cell_type": "code",
      "execution_count": null,
      "metadata": {
        "id": "2NMYcPsFPVoY",
        "colab": {
          "base_uri": "https://localhost:8080/",
          "height": 106
        },
        "outputId": "b4b6fc51-9b4b-4f6d-a4bf-b60b82488fbb"
      },
      "outputs": [
        {
          "output_type": "error",
          "ename": "IndentationError",
          "evalue": "unexpected indent (<ipython-input-71-2e57b45437e1>, line 6)",
          "traceback": [
            "\u001b[0;36m  File \u001b[0;32m\"<ipython-input-71-2e57b45437e1>\"\u001b[0;36m, line \u001b[0;32m6\u001b[0m\n\u001b[0;31m    temperaturaCelsius = float(input(\"Ingrese la temperatura en grados celsius: \"))\u001b[0m\n\u001b[0m    ^\u001b[0m\n\u001b[0;31mIndentationError\u001b[0m\u001b[0;31m:\u001b[0m unexpected indent\n"
          ]
        }
      ],
      "source": [
        "#T(C) = 1.8*C + 32\n",
        "\n",
        "def calcularCelsiusAFahrenheit() -> float:\n",
        "    tempCelsius = float(input(\"Ingrese una temperatura en grados Celsius a convertir: \"))\n",
        "    return 1.8*tempCelsius + 32"
      ]
    },
    {
      "cell_type": "markdown",
      "metadata": {
        "id": "V4TXH8iygA5S"
      },
      "source": [
        "### **Ejercicio 6**\n",
        "\n",
        "Escribir un programa que pregunte por el número de horas trabajadas y el costo por hora. Después debe mostrar por pantalla el sueldo que corresponde."
      ]
    },
    {
      "cell_type": "code",
      "execution_count": null,
      "metadata": {
        "id": "q5h196hQgBUy"
      },
      "outputs": [],
      "source": [
        "def sueldoCorrespondienteA() -> None:\n",
        "    horasTrabajadas = float(input(\"Ingrese las horas trabajadas: \"))\n",
        "    costoPorHora = float(input(\"Ingrese el costo por hora: \"))\n",
        "    print(horasTrabajadas * costoPorHoras)"
      ]
    },
    {
      "cell_type": "markdown",
      "metadata": {
        "id": "hiC2Y35TgWN1"
      },
      "source": [
        "### **Ejercicio 7**\n",
        "\n",
        "Escribir un programa que pida un peso (en kg) y una estatura (en metros), calcule el índice de masa corporal y lo almacene en una variable. Luego debe muestrar por pantalla la frase: \"El índice de masa corporal es: \\<imc>\". Donde \\<imc> es el índice de masa corporal calculado."
      ]
    },
    {
      "cell_type": "code",
      "execution_count": 1,
      "metadata": {
        "id": "q2Krl_PWgV3v",
        "colab": {
          "base_uri": "https://localhost:8080/"
        },
        "outputId": "9462c7cf-c710-410b-e70c-88a340edb2d7"
      },
      "outputs": [
        {
          "output_type": "stream",
          "name": "stdout",
          "text": [
            "Ingrese el peso en kg: 5\n",
            "Ingrese la estatura en metros: 5\n",
            "El indiice de masa corporal es :0.2\n"
          ]
        }
      ],
      "source": [
        "#IMC(P,H) = P / (H*H)\n",
        "def calcularIMC() -> None:\n",
        "    peso = float(input(\"Ingrese el peso en kg: \"))\n",
        "    estatura = float(input(\"Ingrese la estatura en metros: \"))\n",
        "    imc = peso / (estatura * estatura)\n",
        "    print(f\"El indiice de masa corporal es :{imc}\")\n",
        "\n",
        "calcularIMC()"
      ]
    },
    {
      "cell_type": "markdown",
      "metadata": {
        "id": "qeZrEYeuhP0Z"
      },
      "source": [
        "### **Ejercicio 8**\n",
        "\n",
        "Escribir un programa que pregunte una cantidad a invertir, el interés anual y el número de años, y muestre por pantalla el capital obtenido en la inversión."
      ]
    },
    {
      "cell_type": "code",
      "execution_count": null,
      "metadata": {
        "id": "xB0aHFqRhQRb"
      },
      "outputs": [],
      "source": [
        "#(1+IA/100)* C *Años\n",
        "def capitalObtenidoEnInversion() -> None:\n",
        "    cantidadAInvertir = float(input(\"Ingrese la cantidad a invertir: \"))\n",
        "    interesAnual = float(input(\"Ingrese el interese anual: \"))\n",
        "    nroDeAños = int(input(\"Ingrese la cantidad de años: \"))\n",
        "    capitalObtenido = (1 + interesAnual / 100) * cantidadAInvertir * nroDeAños"
      ]
    },
    {
      "cell_type": "markdown",
      "metadata": {
        "id": "_K12p-SIor7W"
      },
      "source": [
        "### **Ejercicio 9**\n",
        "\n",
        "Escribir un programa que pregunte un nombre completo en la consola y después muestre por pantalla ese nombre tres veces, una con todas las letras minúsculas, otra con todas las letras mayúsculas y otra solo con la primera letra del nombre y de los apellidos en mayúscula. Se puede introducir un nombre combinando mayúsculas y minúsculas como se quiera."
      ]
    },
    {
      "cell_type": "code",
      "execution_count": 2,
      "metadata": {
        "id": "Ey98WZ5ZosRl",
        "colab": {
          "base_uri": "https://localhost:8080/"
        },
        "outputId": "8cd283f5-3959-46aa-de38-1db60c1f79ae"
      },
      "outputs": [
        {
          "output_type": "stream",
          "name": "stdout",
          "text": [
            "Ingrese su nombre: joao\n",
            "Joao\n",
            "JOAO\n",
            "joao\n"
          ]
        }
      ],
      "source": [
        "#upper\n",
        "#lower\n",
        "#capitalize\n",
        "#title\n",
        "\n",
        "def escribirNombre() -> None:\n",
        "    nombre = str(input(\"Ingrese su nombre: \"))\n",
        "    print(nombre.capitalize())\n",
        "    print(nombre.upper())\n",
        "    print(nombre.lower())\n",
        "\n",
        "escribirNombre()"
      ]
    },
    {
      "cell_type": "markdown",
      "metadata": {
        "id": "68VGBXIJmixr"
      },
      "source": [
        "### **Ejercicio 10**\n",
        "\n",
        "Escribir un programa que pregunte un nombre en la consola y después muestre por pantalla: \"El \\<NOMBRE> tiene \\<N> letras\", donde \\<NOMBRE> es el nombre ingresado todo en mayúsculas y \\<N> es el número de letras que tienen el nombre."
      ]
    },
    {
      "cell_type": "code",
      "execution_count": 7,
      "metadata": {
        "id": "6kSdf8xkmjI3",
        "colab": {
          "base_uri": "https://localhost:8080/"
        },
        "outputId": "bd8c7582-e01c-4263-aae7-b8abe1c139ab"
      },
      "outputs": [
        {
          "output_type": "stream",
          "name": "stdout",
          "text": [
            "Ingrese una palabara: hola\n",
            "4\n"
          ]
        }
      ],
      "source": [
        "def calcularLetrasDePalabra() -> None:\n",
        "    palabra = str(input(\"Ingrese una palabara: \"))\n",
        "    nroDeLetras = len(palabra)\n",
        "    print(nroDeLetras)\n",
        "\n",
        "calcularLetrasDePalabra()"
      ]
    },
    {
      "cell_type": "markdown",
      "metadata": {
        "id": "tg91sLnqsz3G"
      },
      "source": [
        "### **Ejercicio 11**\n",
        "\n",
        "Escribir un programa que pida una palabra, reemplace todas las letras \"a\" por \"z\" y muestre el resultado por pantalla."
      ]
    },
    {
      "cell_type": "code",
      "execution_count": null,
      "metadata": {
        "id": "hPpWslcQs0Oa"
      },
      "outputs": [],
      "source": [
        "#Operadores (funciones o metodos) sobre strings\n",
        "#lower -> pasar a minuscula\n",
        "#upper -> pasar a mayuscula\n",
        "#title -> para a mayuscula la primer letra  de todas las palabra\n",
        "#capitalize -> para a mayuscula la primer letra de la primer palabras\n",
        "#startswith -> Para testear el comienzo de un string\n",
        "#replace -> reemplaza caracteres por otros\n",
        "#len(string) -> cantidad de caracteres\n",
        "\n",
        "#se usan asi: variable.funcion(), salvo len que se usa: len(variable)\n"
      ]
    },
    {
      "cell_type": "markdown",
      "metadata": {
        "id": "1qwz086stewZ"
      },
      "source": [
        "### **Ejercicio 12**\n",
        "\n",
        "Escribir un programa que pida dos palabras y muestre por pantalla la concatenacion de ambas.  "
      ]
    },
    {
      "cell_type": "code",
      "execution_count": null,
      "metadata": {
        "id": "blEaekW5Pfo7"
      },
      "outputs": [],
      "source": []
    },
    {
      "cell_type": "markdown",
      "metadata": {
        "id": "yuLrj7QTtnIl"
      },
      "source": [
        "### **Ejercicio 13**\n",
        "\n",
        "Escribir un programa que pida una palabra y un número N y muestre por pantalla la palabra ingresada repetida N veces."
      ]
    },
    {
      "cell_type": "code",
      "execution_count": 8,
      "metadata": {
        "id": "faif7mZYteUh",
        "colab": {
          "base_uri": "https://localhost:8080/"
        },
        "outputId": "ff019bd9-2267-4f91-ecaf-20a2736f03f7"
      },
      "outputs": [
        {
          "output_type": "stream",
          "name": "stdout",
          "text": [
            "Ingrese una palabra: hola\n",
            "Ingrese la cantidad a repetir: 5\n",
            "hola\n",
            "hola\n",
            "hola\n",
            "hola\n",
            "hola\n"
          ]
        }
      ],
      "source": [
        "def palabraARepetir() -> None:\n",
        "    palabra = str(input(\"Ingrese una palabra: \"))\n",
        "    cantARepetir = int(input(\"Ingrese la cantidad a repetir: \"))\n",
        "    for i in range(cantARepetir):\n",
        "        print(palabra)\n",
        "\n",
        "palabraARepetir()"
      ]
    },
    {
      "cell_type": "markdown",
      "metadata": {
        "id": "L9d6sOSpuxCT"
      },
      "source": [
        "#**Segunda parte: Estructuras de control**"
      ]
    },
    {
      "cell_type": "code",
      "source": [
        "var = 6\n",
        "if var > 5:\n",
        "  print(\"mayor a 5\")\n",
        "  print(\"otra linea\")\n",
        "else:\n",
        "  print(\"menor a 5\")\n",
        "\n",
        "\n",
        "print(\"imprime siempre\")"
      ],
      "metadata": {
        "colab": {
          "base_uri": "https://localhost:8080/"
        },
        "id": "qDbeNR1iCN1T",
        "outputId": "7b56af84-e0fb-40a5-c234-78d3c9e4055f"
      },
      "execution_count": null,
      "outputs": [
        {
          "output_type": "stream",
          "name": "stdout",
          "text": [
            "mayor a 5\n",
            "otra linea\n",
            "imprime siempre\n"
          ]
        }
      ]
    },
    {
      "cell_type": "code",
      "execution_count": null,
      "metadata": {
        "id": "_hdb9uKIOfdF",
        "colab": {
          "base_uri": "https://localhost:8080/"
        },
        "outputId": "535b5449-7f62-427e-f613-bfec70bca797"
      },
      "outputs": [
        {
          "output_type": "stream",
          "name": "stdout",
          "text": [
            "Ingrese un numero real: 5\n",
            "Parte 2\n"
          ]
        }
      ],
      "source": [
        "#Escribir un programa que pida un numero al usuario y revise en que parte la de recta numerica se encuentra:\n",
        "#   Parte 1             Parte 2                    Parte 3\n",
        "#---------------|--------------------------|----------------------------\n",
        "#             limInf                    limSup\n",
        "limInf = 2\n",
        "limSup = 10\n",
        "numEntrada = float(input(\"Ingrese un numero real: \"))\n",
        "if numEntrada < limInf:\n",
        "  print(\"Parte 1\")\n",
        "elif numEntrada > limInf and numEntrada < limSup: # limInf < numEntrada < limSup\n",
        "  print(\"Parte 2\")\n",
        "elif numEntrada > limSup:\n",
        "  print(\"Parte 3\")\n",
        "else:\n",
        "  print(\"Igual a algun limite\")\n"
      ]
    },
    {
      "cell_type": "markdown",
      "metadata": {
        "id": "xp3VZsqMv7d3"
      },
      "source": [
        "### **Ejercicio 14**\n",
        "\n",
        "Escribir un programa que pregunte una edad y muestre por pantalla si es mayor de edad o no."
      ]
    },
    {
      "cell_type": "code",
      "execution_count": null,
      "metadata": {
        "id": "F3lyWaa-v7yv"
      },
      "outputs": [],
      "source": [
        "def esMayorDeEdad() -> None:\n",
        "    edad = int(input(\"Ingrese su edad: \"))\n",
        "    if edad >= 18:\n",
        "        print(\"Es mayor de edad\")\n",
        "    else:\n",
        "        print(\"Es menor de edad\")"
      ]
    },
    {
      "cell_type": "markdown",
      "metadata": {
        "id": "QNlHtEHdwKBp"
      },
      "source": [
        "### **Ejercicio 15**\n",
        "\n",
        "Escribir un programa que almacene la cadena de caracteres \"contraseña\" en una variable y luego pregunte por la contraseña e imprima por pantalla si la contraseña introducida en la consola coincide con la guardada en la variable sin tener en cuenta mayúsculas y minúsculas."
      ]
    },
    {
      "cell_type": "code",
      "execution_count": 9,
      "metadata": {
        "id": "6-AbFKCjwKeq",
        "colab": {
          "base_uri": "https://localhost:8080/"
        },
        "outputId": "7c58312e-d610-4721-f9b9-7983a8b167ad"
      },
      "outputs": [
        {
          "output_type": "stream",
          "name": "stdout",
          "text": [
            "Ingrese la contraseña: contraseña\n",
            "Contraseña correcta\n"
          ]
        }
      ],
      "source": [
        "def esCorrectaLaContraseña() -> None:\n",
        "    contrasenia = \"Contraseña\"\n",
        "    contraseniaIngresada = str(input(\"Ingrese la contraseña: \"))\n",
        "    if contrasenia.lower() == contraseniaIngresada.lower():\n",
        "        print(\"Contraseña correcta\")\n",
        "    else:\n",
        "        print(\"Contraseña incorrecta\")\n",
        "\n",
        "esCorrectaLaContraseña()"
      ]
    },
    {
      "cell_type": "markdown",
      "metadata": {
        "id": "ZJ0_6OxYPWZJ"
      },
      "source": [
        "### **Ejercicio 15 bis**\n",
        "\n",
        "Escribir un programa pida dos números enteros e informe por pantalla cual es menor de los dos, si son iguales, indicarlo por separado.\n"
      ]
    },
    {
      "cell_type": "code",
      "execution_count": 14,
      "metadata": {
        "id": "SII_f1Zftfj5",
        "colab": {
          "base_uri": "https://localhost:8080/",
          "height": 70
        },
        "outputId": "d64305f2-2a5b-4ea8-d997-927d0ab4d332"
      },
      "outputs": [
        {
          "name": "stdout",
          "output_type": "stream",
          "text": [
            "Ingrese un número: 3\n",
            "Ingrese otro número: 3\n"
          ]
        },
        {
          "output_type": "execute_result",
          "data": {
            "text/plain": [
              "'Son iguales'"
            ],
            "application/vnd.google.colaboratory.intrinsic+json": {
              "type": "string"
            }
          },
          "metadata": {},
          "execution_count": 14
        }
      ],
      "source": [
        "def compararNumeros() -> None:\n",
        "    primerNro = int(input(\"Ingrese un número: \"))\n",
        "    segundoNro = int(input(\"Ingrese otro número: \"))\n",
        "    nroMenor = primerNro\n",
        "    if segundoNro < primerNro:\n",
        "        nroMenor = segundoNro\n",
        "    elif primerNro == segundoNro:\n",
        "        return \"Son iguales\"\n",
        "    return f\"el número menor es {nroMenor}\"\n",
        "\n",
        "compararNumeros()"
      ]
    },
    {
      "cell_type": "markdown",
      "metadata": {
        "id": "AnZ1kpoQPn3Y"
      },
      "source": [
        "### **Ejercicio 16**\n",
        "\n",
        "Escribir un programa que pida un número entero e indique si dicho número es par o impar."
      ]
    },
    {
      "cell_type": "code",
      "execution_count": 19,
      "metadata": {
        "id": "8TFzQHzKPt-v",
        "colab": {
          "base_uri": "https://localhost:8080/"
        },
        "outputId": "52810ecd-ec6d-4104-ad23-cce944734582"
      },
      "outputs": [
        {
          "output_type": "stream",
          "name": "stdout",
          "text": [
            "Ingrese un número entero: 399\n",
            "Es impar\n"
          ]
        }
      ],
      "source": [
        "def esParOImpar() -> None:\n",
        "    numero = int(input(\"Ingrese un número entero: \"))\n",
        "    if numero % 2 == 0 :\n",
        "        print(\"Es par\")\n",
        "    else:\n",
        "        print(\"Es impar\")\n",
        "\n",
        "esParOImpar()"
      ]
    },
    {
      "cell_type": "markdown",
      "metadata": {
        "id": "Z1-LrF6Swkx_"
      },
      "source": [
        "###**Ejercicio 17**\n",
        "\n",
        "Para pagar un determinado impuesto se debe ser mayor de 18 años y tener unos ingresos iguales o superiores a $100000 mensuales. Escribir un programa que pregunte la edad y los ingresos mensuales y muestre por pantalla si se debe pagar o no."
      ]
    },
    {
      "cell_type": "code",
      "execution_count": null,
      "metadata": {
        "id": "FBMDycRlwlIY"
      },
      "outputs": [],
      "source": [
        "def esMayorDeEdad() -> bool:\n",
        "    edad = int(input(\"Ingrese su edad: \"))\n",
        "    return edad >= 18\n",
        "\n",
        "\n",
        "def debePagarImpuesto() -> None:\n",
        "    ingresos = float(input(\"Ingresar ingresos: \"))\n",
        "    if esMayorDeEdad() and ingresos >= 100000:\n",
        "        print(\"Debe pagar impuestos\")\n",
        "    else:\n",
        "        print(\"No debe pagar impuestos\")\n"
      ]
    },
    {
      "cell_type": "markdown",
      "metadata": {
        "id": "HIjqXTzoPuYU"
      },
      "source": [
        "### **Ejercicio 18**\n",
        "\n",
        "Escribir un programa que pida un número entero del 1 al 7 y muestre por pantalla el día de la semana correspondiente. Controlar que el número se encuentre en el rango correcto, si no es así, informar un error. Por ejemplo, si el número es 2 el día es martes."
      ]
    },
    {
      "cell_type": "code",
      "execution_count": null,
      "metadata": {
        "id": "6SztTz4yPz2k"
      },
      "outputs": [],
      "source": [
        "def mostrar_dia_de_la_semana() -> None:\n",
        "    \"\"\"\n",
        "    Solicita un número entero del 1 al 7 al usuario y muestra el día de la semana correspondiente.\n",
        "    Si el número no está en el rango válido, informa un error.\n",
        "    \"\"\"\n",
        "    # Pedir al usuario un número entero\n",
        "    numero: int = int(input(\"Ingrese un número del 1 al 7: \"))\n",
        "\n",
        "    # Lista de días de la semana (índice 0 corresponde al número 1)\n",
        "    dias_semana: list[str] = [\n",
        "        \"Lunes\", \"Martes\", \"Miércoles\", \"Jueves\", \"Viernes\", \"Sábado\", \"Domingo\"\n",
        "    ]\n",
        "\n",
        "    # Verificar si el número está dentro del rango válido\n",
        "    if 1 <= numero <= 7:\n",
        "        # Mostrar el día correspondiente (ajustar índice con -1)\n",
        "        print(f\"El día correspondiente es: {dias_semana[numero - 1]}\")\n",
        "    else:\n",
        "        print(\"Error: el número debe estar entre 1 y 7.\")"
      ]
    },
    {
      "cell_type": "markdown",
      "metadata": {
        "id": "KY6T0NWfP0Pq"
      },
      "source": [
        "### **Ejercicio 19**\n",
        "\n",
        "Las y los alumnas y alumnos de un curso se han dividido en dos grupos A y B de acuerdo al género y el nombre. El grupo A esta formado por las personas de genero femenino con una inicial de nombre anterior a la M y las personas de genero masculino con un inicial de nombre posterior a la N y el grupo B por el resto. Escribir un programa que pregunte la inicial y el género, y muestre por pantalla el grupo que corresponde."
      ]
    },
    {
      "cell_type": "code",
      "execution_count": null,
      "metadata": {
        "id": "tXqowWynQzPJ",
        "colab": {
          "base_uri": "https://localhost:8080/"
        },
        "outputId": "1d250fd9-bd17-49cc-93cf-b351489d8ddd"
      },
      "outputs": [
        {
          "output_type": "stream",
          "name": "stdout",
          "text": [
            "Ingrese genero: M\n",
            "Ingrese inicial: b\n",
            "Grupo B\n"
          ]
        }
      ],
      "source": [
        "genero = input(\"Ingrese genero: \")\n",
        "inicial = input(\"Ingrese inicial: \")\n",
        "if (genero.upper() == \"F\" and inicial.upper() < \"M\") or (genero.upper() == \"M\" and inicial.upper() > \"N\"):\n",
        "  print(\"Grupo A\")\n",
        "else:\n",
        "  print(\"Grupo B\")"
      ]
    },
    {
      "cell_type": "markdown",
      "metadata": {
        "id": "YgtCaggoQzwr"
      },
      "source": [
        "### **Ejercicio 20**\n",
        "\n",
        "Escribir un programa para una empresa que tiene salas de juegos para todas las edades y quiere calcular de forma automática el precio que debe cobrar a sus clientes por entrar. El programa debe preguntar la edad del cliente y mostrar el precio de la entrada. Si el cliente es menor de 4 años puede entrar gratis, si tiene entre 4 y 18 años debe pagar \\$5 y si es mayor de 18 años, \\$10."
      ]
    },
    {
      "cell_type": "code",
      "execution_count": null,
      "metadata": {
        "id": "C2k49JqwREeG"
      },
      "outputs": [],
      "source": [
        "def calcular_precio_entrada() -> None:\n",
        "    \"\"\"\n",
        "    Solicita la edad del cliente y muestra el precio de la entrada según su rango etario.\n",
        "    - Menores de 4 años entran gratis.\n",
        "    - De 4 a 18 años pagan $5.\n",
        "    - Mayores de 18 años pagan $10.\n",
        "    \"\"\"\n",
        "    # Pedir al usuario la edad\n",
        "    edad: int = int(input(\"Ingrese su edad: \"))\n",
        "\n",
        "    # Determinar el precio según la edad\n",
        "    if edad < 4:\n",
        "        precio = 0\n",
        "    elif edad <= 18:\n",
        "        precio = 5\n",
        "    else:\n",
        "        precio = 10\n",
        "\n",
        "    # Mostrar el resultado\n",
        "    if precio == 0:\n",
        "        print(\"La entrada es gratis.\")\n",
        "    else:\n",
        "        print(f\"El precio de la entrada es: ${precio}\")\n",
        "\n",
        "# Llamar a la función\n",
        "calcular_precio_entrada()"
      ]
    },
    {
      "cell_type": "markdown",
      "metadata": {
        "id": "6h-hloqtswqX"
      },
      "source": [
        "### **Estructuras de control repetitivas**"
      ]
    },
    {
      "cell_type": "code",
      "source": [
        "#print(1)\n",
        "#print(2)\n",
        "#....\n",
        "#....\n",
        "#print(10)"
      ],
      "metadata": {
        "id": "5X2t8fJCa_uh"
      },
      "execution_count": null,
      "outputs": []
    },
    {
      "cell_type": "code",
      "execution_count": null,
      "metadata": {
        "id": "D7R1eqLtyTb1",
        "colab": {
          "base_uri": "https://localhost:8080/"
        },
        "outputId": "e36bb9fb-8fc4-451f-b845-512d95b9b70d"
      },
      "outputs": [
        {
          "output_type": "stream",
          "name": "stdout",
          "text": [
            "2\n",
            "5\n",
            "8\n"
          ]
        }
      ],
      "source": [
        "#range(N)=range(0,N,1) -> 0,1,2,3,4,....,N-1\n",
        "#range(1, 10, 2) -> 1,3,7,9\n",
        "#range(10,15) -> 10,11,12,13,14\n",
        "for var in range(2,10,3): #0,1,2,3,4,5,.....,9\n",
        "  print(var)\n"
      ]
    },
    {
      "cell_type": "code",
      "source": [
        "#Sirve para repetir un bloque de codigo (iterar) mientras sea verdadera una condicion evalualda\n",
        "var = 1\n",
        "while var < 4:\n",
        "  print(var)\n",
        "  var += 1 #var = var+1\n",
        "print(\"despues de while\")"
      ],
      "metadata": {
        "id": "xbL3yXdsHouz",
        "colab": {
          "base_uri": "https://localhost:8080/"
        },
        "outputId": "60f2b18d-7532-46e9-aff6-45aa8e0d70a1"
      },
      "execution_count": null,
      "outputs": [
        {
          "output_type": "stream",
          "name": "stdout",
          "text": [
            "1\n",
            "2\n",
            "3\n",
            "despues de while\n"
          ]
        }
      ]
    },
    {
      "cell_type": "markdown",
      "metadata": {
        "id": "i_R4RvnqRE0e"
      },
      "source": [
        "### **Ejercicio 21**\n",
        "\n",
        "Mostrar por pantalla todos los números enteros entre 1 y 100, hacerlo usando un bucle while y tambien con un bucle for."
      ]
    },
    {
      "cell_type": "code",
      "execution_count": 25,
      "metadata": {
        "id": "8xtW7IzBaE8x",
        "colab": {
          "base_uri": "https://localhost:8080/"
        },
        "collapsed": true,
        "outputId": "40ad0552-4169-4633-f98b-992fc1992225"
      },
      "outputs": [
        {
          "output_type": "stream",
          "name": "stdout",
          "text": [
            "1\n",
            "2\n",
            "3\n",
            "4\n",
            "5\n",
            "6\n",
            "7\n",
            "8\n",
            "9\n",
            "10\n",
            "11\n",
            "12\n",
            "13\n",
            "14\n",
            "15\n",
            "16\n",
            "17\n",
            "18\n",
            "19\n",
            "20\n",
            "21\n",
            "22\n",
            "23\n",
            "24\n",
            "25\n",
            "26\n",
            "27\n",
            "28\n",
            "29\n",
            "30\n",
            "31\n",
            "32\n",
            "33\n",
            "34\n",
            "35\n",
            "36\n",
            "37\n",
            "38\n",
            "39\n",
            "40\n",
            "41\n",
            "42\n",
            "43\n",
            "44\n",
            "45\n",
            "46\n",
            "47\n",
            "48\n",
            "49\n",
            "50\n",
            "51\n",
            "52\n",
            "53\n",
            "54\n",
            "55\n",
            "56\n",
            "57\n",
            "58\n",
            "59\n",
            "60\n",
            "61\n",
            "62\n",
            "63\n",
            "64\n",
            "65\n",
            "66\n",
            "67\n",
            "68\n",
            "69\n",
            "70\n",
            "71\n",
            "72\n",
            "73\n",
            "74\n",
            "75\n",
            "76\n",
            "77\n",
            "78\n",
            "79\n",
            "80\n",
            "81\n",
            "82\n",
            "83\n",
            "84\n",
            "85\n",
            "86\n",
            "87\n",
            "88\n",
            "89\n",
            "90\n",
            "91\n",
            "92\n",
            "93\n",
            "94\n",
            "95\n",
            "96\n",
            "97\n",
            "98\n",
            "99\n",
            "100\n"
          ]
        }
      ],
      "source": [
        "def mostrarNrosDe1A100() -> None:\n",
        "    i = 0\n",
        "    while i < 100:\n",
        "        i += 1\n",
        "        print(i)\n",
        "\n",
        "def mostrarNrosDe1A100pt2() -> None:\n",
        "    for i in range(100):\n",
        "        print(i + 1)\n",
        "mostrarNrosDe1A100pt2()"
      ]
    },
    {
      "cell_type": "markdown",
      "metadata": {
        "id": "dsdrdUzNRVlx"
      },
      "source": [
        "### **Ejercicio 22**\n",
        "\n",
        "Escribir un programa que pida dos números enteros e imprima todos los números enteros entre ellos."
      ]
    },
    {
      "cell_type": "code",
      "execution_count": 29,
      "metadata": {
        "id": "eiPpA7TmRjG_",
        "colab": {
          "base_uri": "https://localhost:8080/"
        },
        "outputId": "9c0c73bb-0a60-4345-b252-89804f20455f"
      },
      "outputs": [
        {
          "name": "stdout",
          "output_type": "stream",
          "text": [
            "Ingrese un número: 10\n",
            "Ingrese otro número: 5\n"
          ]
        }
      ],
      "source": [
        "def imprimirNrosEntre() -> None:\n",
        "    primerNro = int(input(\"Ingrese un número: \"))\n",
        "    segundoNro = int(input(\"Ingrese otro número: \"))\n",
        "\n",
        "    for i in range(primerNro - 1, segundoNro):\n",
        "        print(i)\n",
        "\n",
        "imprimirNrosEntre()"
      ]
    },
    {
      "cell_type": "markdown",
      "metadata": {
        "id": "yuxsSussRjfn"
      },
      "source": [
        "### **Ejercicio 23**\n",
        "\n",
        "Escribir un programa que pregunte un nombre en la consola y un número entero e imprima por pantalla en líneas distintas el nombre tantas veces como el número introducido."
      ]
    },
    {
      "cell_type": "code",
      "execution_count": 31,
      "metadata": {
        "id": "DGb1-6f_RsWP",
        "colab": {
          "base_uri": "https://localhost:8080/"
        },
        "outputId": "73de08b9-5165-4751-b0b1-30cca7886591"
      },
      "outputs": [
        {
          "output_type": "stream",
          "name": "stdout",
          "text": [
            "Ingrese un nombre: joao\n",
            "Ingrese el número de veces a repetir el nombre:5\n",
            "joao\n",
            "joao\n",
            "joao\n",
            "joao\n",
            "joao\n"
          ]
        }
      ],
      "source": [
        "def repetirNombre() -> None:\n",
        "    nombre = str(input(\"Ingrese un nombre: \"))\n",
        "    cantARepetir = int(input(\"Ingrese el número de veces a repetir el nombre:\"))\n",
        "\n",
        "    for i in range(cantARepetir):\n",
        "        print(nombre)\n",
        "\n",
        "repetirNombre()"
      ]
    },
    {
      "cell_type": "markdown",
      "metadata": {
        "id": "dnlPkC9XyCLe"
      },
      "source": [
        "###**Ejercicio 24**\n",
        "\n",
        "Escribir un programa que pida un número entero positivo y muestre por pantalla todos los números impares desde 1 hasta ese número."
      ]
    },
    {
      "cell_type": "code",
      "execution_count": 35,
      "metadata": {
        "id": "fcDtiO_LyCiJ",
        "colab": {
          "base_uri": "https://localhost:8080/"
        },
        "outputId": "628c8fc6-cc4b-4c2c-d402-40f080dc80bd"
      },
      "outputs": [
        {
          "output_type": "stream",
          "name": "stdout",
          "text": [
            "Ingrese un número entero positivo: 10\n",
            "1\n",
            "3\n",
            "5\n",
            "7\n",
            "9\n"
          ]
        }
      ],
      "source": [
        "def esPar(numero: int) -> None:\n",
        "    return numero % 2 == 0\n",
        "\n",
        "def nrosImparesHasta() -> None:\n",
        "    numero = int(input(\"Ingrese un número entero positivo: \"))\n",
        "\n",
        "    for i in range(1, numero):\n",
        "        imprimirSiEsImpar(i)\n",
        "\n",
        "def imprimirSiEsImpar(numero: int) -> None:\n",
        "    if not esPar(numero):\n",
        "        print(numero)\n",
        "\n",
        "nrosImparesHasta()"
      ]
    },
    {
      "cell_type": "markdown",
      "metadata": {
        "id": "tsVLTkW8Rs-O"
      },
      "source": [
        "### **Ejercicio 25**\n",
        "\n",
        "Escribir un programa que pida un número entero y muestre por pantalla un triángulo rectángulo como el de más abajo, de altura igual al número introducido.\n",
        "\n",
        "Por ejemplo, si el usuario ingresa el numero 4:\n",
        "\n",
        "\\*\n",
        "\n",
        "\\* *\n",
        "\n",
        "\\* * *\n",
        "\n",
        "\\* * * *"
      ]
    },
    {
      "cell_type": "code",
      "execution_count": 39,
      "metadata": {
        "id": "7ANmm0ROR9Tg",
        "colab": {
          "base_uri": "https://localhost:8080/"
        },
        "outputId": "4add53fe-f57e-41b2-c336-4b005bfc9eb5"
      },
      "outputs": [
        {
          "output_type": "stream",
          "name": "stdout",
          "text": [
            "Ingrese un número entero: 4\n",
            "*\n",
            "**\n",
            "***\n",
            "****\n"
          ]
        }
      ],
      "source": [
        "#N = 7\n",
        "#*\n",
        "#**\n",
        "#***\n",
        "#...\n",
        "#*******\n",
        "\n",
        "def imprimirTriangulo() -> None:\n",
        "    altura = int(input(\"Ingrese un número entero: \"))\n",
        "    ancho = 1\n",
        "    for i in range(altura):\n",
        "        print(\"*\" * ancho)\n",
        "        ancho += 1\n",
        "\n",
        "\n",
        "imprimirTriangulo()\n",
        "#for actual in range(1,N+1): #1,2,3,4,....,N\n",
        "#  print('*'*actual)"
      ]
    },
    {
      "cell_type": "markdown",
      "metadata": {
        "id": "ZZJCDA32R91Y"
      },
      "source": [
        "### **Ejercicio 26**\n",
        "\n",
        "Escribir un programa que imprima por pantalla todas las fichas del domino, una por línea, sin repetir.\n",
        "\n",
        "0 | 0 - 0 | 1 - 0 | 2 - 0 | 3 - 0 | 4 - 0 | 5 - 0 | 6\n",
        "\n",
        "1 | 1 - 1 | 2 - 1 | 3 - 1 | 4 - 1 | 5 - 1 | 6\n",
        "\n",
        "2 | 2 - 2 | 3 - 2 | 4 - 2 | 5 - 2 | 6\n",
        "\n",
        "3 | 3 - 3 | 4 - 3 | 5 - 3 | 6\n",
        "\n",
        "4 | 4 - 4 | 5 - 4 | 6\n",
        "\n",
        "5 | 5 - 5 | 6\n",
        "\n",
        "6 | 6"
      ]
    },
    {
      "cell_type": "code",
      "execution_count": 52,
      "metadata": {
        "id": "LTzYmPPWSFvO",
        "colab": {
          "base_uri": "https://localhost:8080/"
        },
        "outputId": "0971c1cb-9f4b-42b4-bc13-ca16bbe328d6"
      },
      "outputs": [
        {
          "output_type": "stream",
          "name": "stdout",
          "text": [
            "0|0\n",
            "0|1\n",
            "0|2\n",
            "0|3\n",
            "0|4\n",
            "0|5\n",
            "0|6\n",
            "1|1\n",
            "1|2\n",
            "1|3\n",
            "1|4\n",
            "1|5\n",
            "1|6\n",
            "2|2\n",
            "2|3\n",
            "2|4\n",
            "2|5\n",
            "2|6\n",
            "3|3\n",
            "3|4\n",
            "3|5\n",
            "3|6\n",
            "4|4\n",
            "4|5\n",
            "4|6\n",
            "5|5\n",
            "5|6\n",
            "6|6\n"
          ]
        }
      ],
      "source": [
        "for i in range(7):\n",
        "    for e in range(i, 7):\n",
        "        print(f\"{i}|{e}\")"
      ]
    },
    {
      "cell_type": "markdown",
      "metadata": {
        "id": "Hh19diZlyXek"
      },
      "source": [
        "###**Ejercicio 27**\n",
        "\n",
        "Escribir un programa que pida un número entero y muestre por pantalla un triángulo rectángulo como el de más abajo.\n",
        "\n",
        "Si el usuario ingresa el numero 5:\n",
        "\n",
        "1             \n",
        "\n",
        "3 1           \n",
        "\n",
        "5 3 1         \n",
        "\n",
        "7 5 3 1       \n",
        "\n",
        "9 7 5 3 1  "
      ]
    },
    {
      "cell_type": "code",
      "execution_count": null,
      "metadata": {
        "id": "f74HFoKKyX0F",
        "colab": {
          "base_uri": "https://localhost:8080/"
        },
        "outputId": "20debb36-258b-4e0e-b49b-b85a0e33c0c0"
      },
      "outputs": [
        {
          "output_type": "stream",
          "name": "stdout",
          "text": [
            "1 \n",
            "3 1 \n",
            "5 3 1 \n"
          ]
        }
      ],
      "source": [
        "N=3\n",
        "for i in range(N): #i=2\n",
        "  linea = \"\"\n",
        "  for j in range(1,2*(i+1),2): #range(1,6,2)->1,3,5\n",
        "    #linea = linea + \" \" + str(j) # 1 3 5\n",
        "    linea = str(j) + \" \" + linea # 1 3 5\n",
        "  print(linea)"
      ]
    },
    {
      "cell_type": "markdown",
      "metadata": {
        "id": "59Jbl5dbSGF2"
      },
      "source": [
        "\n",
        "### **Ejercicio 28**\n",
        "\n",
        "Escribir un programa que pida un número natural **N** e imprima por pantalla la suma de los números naturales de 1 hasta **N**.\n",
        "\n",
        "Por ejemplo para **N = 5**, la salida debe ser:\n",
        "\n",
        "1 + 2 + 3 + 4 + 5 = 15\n",
        "\n",
        "Solo debe imprimir el resultado final (por ejemplo 15)"
      ]
    },
    {
      "cell_type": "code",
      "execution_count": 55,
      "metadata": {
        "id": "jIt2AeopSiVL",
        "colab": {
          "base_uri": "https://localhost:8080/"
        },
        "outputId": "0d1350bd-78fa-4a6d-fb32-3990c028cd9a"
      },
      "outputs": [
        {
          "output_type": "stream",
          "name": "stdout",
          "text": [
            "Ingrese un número natural: 5\n",
            "15\n"
          ]
        }
      ],
      "source": [
        "#N = 2 -> 1,2\n",
        "#N = 5 -> 1,2,3,4,5\n",
        "#...\n",
        "#N = L -> 1,2,3,4,...,L\n",
        "\n",
        "def sumarNumerosDe() -> None:\n",
        "    numero = int(input(\"Ingrese un número natural: \"))\n",
        "    i = 1\n",
        "    resultado = 1\n",
        "    while i != 5:\n",
        "        i += 1\n",
        "        resultado += i\n",
        "\n",
        "    print(resultado)\n",
        "\n",
        "sumarNumerosDe()"
      ]
    },
    {
      "cell_type": "markdown",
      "metadata": {
        "id": "8uQf2g92Sivq"
      },
      "source": [
        "### **Ejercicio 29**\n",
        "\n",
        "Construir un programa que lea un número natural **N** y calcule la suma de los primeros **N** números pares.\n",
        "-  Si N = 2 -> Resultado = 2 + 4\n",
        "-  Si N = 3 -> Resultado = 2 + 4 + 6\n",
        "-  Si N = 4 -> Resultado = 2 + 4 + 6 + 8\n",
        "-  ......\n",
        "-  Para cualquier N -> Resultado = 2 + 4 + 6 +....+ 2*N"
      ]
    },
    {
      "cell_type": "code",
      "execution_count": null,
      "metadata": {
        "id": "9ADJ8tgxSn2Q",
        "colab": {
          "base_uri": "https://localhost:8080/"
        },
        "outputId": "9e835362-bd59-446e-e9f7-8fc88a399038"
      },
      "outputs": [
        {
          "output_type": "stream",
          "name": "stdout",
          "text": [
            "Ingrese un numero entero: 20\n",
            "420\n"
          ]
        }
      ],
      "source": [
        "#N = 2 -> 2,4 -> range(2,5,2)\n",
        "#N = 5 -> 2,4,6,8,10 -> range(2,11,2)\n",
        "#...\n",
        "#N = L -> 2,4,6,8,...,2*L -> range(2,2*L+1,2)\n",
        "\n",
        "N = int(input(\"Ingrese un numero entero: \"))\n",
        "sumaPares= 0\n",
        "for actual in range(2,2*N+1,2): #2,4,6,....,2*N\n",
        "  sumaPares += actual\n",
        "#for actual in range(1,N+1): #1,2,3,....,N\n",
        "#  sumaPares += 2*actual\n",
        "print(sumaPares)"
      ]
    },
    {
      "cell_type": "markdown",
      "metadata": {
        "id": "ZEi--gNXSoOZ"
      },
      "source": [
        "### **Ejercicio 30**\n",
        "\n",
        "Escribir un programa que pida dos números enteros e informa por pantalla todos los números pares entre ellos."
      ]
    },
    {
      "cell_type": "code",
      "execution_count": null,
      "metadata": {
        "id": "4_bYnYGESvV0"
      },
      "outputs": [],
      "source": []
    },
    {
      "cell_type": "markdown",
      "metadata": {
        "id": "tJwW9zpHSvwA"
      },
      "source": [
        "### **Ejercicio 31**\n",
        "\n",
        "Escribir un programa que pida un número entero y muestre por pantalla la cantidad de cifras de dicho número. Se debe resolver con divisiones sucesivas por 10 usando un bucle while."
      ]
    },
    {
      "cell_type": "code",
      "execution_count": 62,
      "metadata": {
        "id": "RjduT381S13q",
        "colab": {
          "base_uri": "https://localhost:8080/"
        },
        "outputId": "5c653502-bcd0-4a6f-8881-16f811b4e5d1"
      },
      "outputs": [
        {
          "output_type": "stream",
          "name": "stdout",
          "text": [
            "Ingresa un número: 1220\n",
            "4\n"
          ]
        }
      ],
      "source": [
        "def cantCifrasDeUnNumero() -> None:\n",
        "    numero = int(input(\"Ingresa un número: \"))\n",
        "    contador = 1 if numero == 0 else 0\n",
        "    while numero > 0:\n",
        "        numero //= 10\n",
        "        contador += 1\n",
        "    print(contador)\n",
        "\n",
        "cantCifrasDeUnNumero()"
      ]
    },
    {
      "cell_type": "markdown",
      "metadata": {
        "id": "zo91uPVAS2Tk"
      },
      "source": [
        "### **Ejercicio 32**\n",
        "\n",
        "Escribir un programa que pida un número entero e informe si dicho numero es primo o compuesto."
      ]
    },
    {
      "cell_type": "code",
      "source": [
        "#Un numero es primo cuando solo el divisible por 1 y por si mismo\n",
        "#Tomo el numero N y pruebo si es divisible por algun numero menor que el (entre 2 y N-1 )\n",
        "\n",
        "#10%2 = 0\n",
        "#10%5 = 0\n",
        "#10%6 = 4\n",
        "\n",
        "N = int(input(\"Ingrese un numero entero: \"))\n",
        "divisor = 2\n",
        "while N%divisor != 0 and divisor < N:\n",
        "  divisor += 1\n",
        "\n",
        "if divisor == N:\n",
        "  print(\"Primo\")\n",
        "else:\n",
        "  print(\"Compuesto\")"
      ],
      "metadata": {
        "id": "eGi5uFGVxOef",
        "colab": {
          "base_uri": "https://localhost:8080/"
        },
        "outputId": "e04b44a7-db49-4ea1-f2b9-a1918f7ab2fc"
      },
      "execution_count": null,
      "outputs": [
        {
          "output_type": "stream",
          "name": "stdout",
          "text": [
            "Ingrese un numero entero: 1\n",
            "Compuesto\n"
          ]
        }
      ]
    }
  ],
  "metadata": {
    "colab": {
      "provenance": []
    },
    "kernelspec": {
      "display_name": "Python 3",
      "name": "python3"
    }
  },
  "nbformat": 4,
  "nbformat_minor": 0
}
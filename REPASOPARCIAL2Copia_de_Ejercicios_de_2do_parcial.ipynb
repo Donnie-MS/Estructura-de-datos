{
  "nbformat": 4,
  "nbformat_minor": 0,
  "metadata": {
    "colab": {
      "provenance": []
    },
    "kernelspec": {
      "name": "python3",
      "display_name": "Python 3"
    },
    "language_info": {
      "name": "python"
    }
  },
  "cells": [
    {
      "cell_type": "markdown",
      "source": [
        "### **Ejercicio 1**\n",
        "\n",
        "Escribir una función que calcule la intersección de dos diccionarios de la siguiente forma:\n",
        "\n",
        "-  Si una clave está en ambos diccionarios, en la intersección el significado de dicha clave es una tupla con los valores de ambos diccionarios\n",
        "-  Si una clave está en uno solo de los diccionarios, no formará parte de la intersección.\n",
        "\n",
        "Ejemplo:\n",
        "\n",
        "dic1 = {1:“casa” , 20:“perro” , 8:“gato” , 10:“mate” , 5:“auto”} y dic2 = {5:3 , 2:15 , 8:20 , 15:1 , 20:25}\n",
        "\n",
        "inter = interseccion(dic1, dic2) -> inter = {20 : (“perro”,25) , 8 : (“gato”,20) , 5 : (“auto”,3)}\n"
      ],
      "metadata": {
        "id": "oAR2MXTJUO-t"
      }
    },
    {
      "cell_type": "code",
      "source": [],
      "metadata": {
        "id": "0fjGNnXGUPV0"
      },
      "execution_count": null,
      "outputs": []
    },
    {
      "cell_type": "markdown",
      "metadata": {
        "id": "Gk0mKuhZ9-KM"
      },
      "source": [
        "### **Ejercicio 2**\n",
        "\n",
        "Escribir una operación del TDA ABB, que calcule el promedio de los valores acumulados en el árbol. La operación puede calcular dos promedios distintos en función del valor de un parámetro de entrada: el primero es el promedio de los valores almacenados solo en las hojas del árbol, el segundo, el promedio teniendo en cuenta todos los elementos del árbol. Especificar la estructura de datos del tipo ABB y del NodoArbol utilizados."
      ]
    },
    {
      "cell_type": "code",
      "source": [],
      "metadata": {
        "id": "N59VsONbo2IA"
      },
      "execution_count": null,
      "outputs": []
    },
    {
      "cell_type": "markdown",
      "metadata": {
        "id": "QxyAW3bQ-s6b"
      },
      "source": [
        "### **Ejercicio 3**\n",
        "\n",
        "Escribir una operación del TDA Lista que inserte un dato de modo similar al insertar básico, al final de la lista (append). Pero ahora, no se debe permitir insertar datos repetidos, si un dato ya esta almacenado entonces la lista no varía. No se puede utilizar las operaciones insertar y buscar del TDA Lista. Especificar la estructura de datos del tipo Lista y del NodoLista utilizados."
      ]
    },
    {
      "cell_type": "code",
      "metadata": {
        "id": "MQvhmx1Y-wq9"
      },
      "source": [],
      "execution_count": null,
      "outputs": []
    },
    {
      "cell_type": "markdown",
      "source": [
        "### **Ejercicio 4**\n",
        "\n",
        "Escribir la función **maximoPorNumero** que recibe una lista de pares (x,y) que indica que el número x está asociado al valor y.\n",
        "\n",
        "Se debe devolver un diccionario con clave x y significado (valor) y, donde y sea el máximo valor asociado a x.\n",
        "\n",
        "Se debe resolver usando las operaciones del TDA diccionario que vimos en clase,sin violar el encapsulamiento ni utilizando estructuras auxiliares.\n",
        "\n",
        "lista = [ (1,4) , (2,5) , (1,5) , (3,8) , (2,1) , (2,5) ]\n",
        "\n",
        "dic = maximoPorNumero(lista)\n",
        "\n",
        "Entonces, dic = {(1 , 5) , (2 , 5), (3, 8)}"
      ],
      "metadata": {
        "id": "LpyzaUNHU2-z"
      }
    },
    {
      "cell_type": "code",
      "source": [],
      "metadata": {
        "id": "PTqRDluxo3qJ"
      },
      "execution_count": null,
      "outputs": []
    },
    {
      "cell_type": "markdown",
      "metadata": {
        "id": "FKZN2_jsAvNM"
      },
      "source": [
        "### **Ejercicio 5**\n",
        "\n",
        "Escribir una operación del TDA Lista (enteros) que tome una lista y elimine todos los elementos impares, la operación **NO** debe retornar una nueva lista, sino modificar la lista con la cual se llama a la función. Definir la estructura de datos del tipo Lista y del NodoLista utilizados.\n",
        "\n",
        "**Nota: No se puede utilizar la operación eliminar del TDA lista y el primer elemento siempre es par.**"
      ]
    },
    {
      "cell_type": "code",
      "metadata": {
        "id": "3UDBALsHAveN"
      },
      "source": [],
      "execution_count": null,
      "outputs": []
    },
    {
      "cell_type": "markdown",
      "source": [
        "### **Ejercicio 6**\n",
        "\n",
        "Escribir la operación **sumaHastaNivel** del TDA ABB que recibe un nivel N por parámetro y retorna la suma de todos los números en el ABB en nodos que estén a nivel menor o igual a N. La operación puede hacer uso de las operaciones del TDA ABB: estaVacio y del TDA NodoArbol: tieneIzquierdo y tieneDerecho"
      ],
      "metadata": {
        "id": "9bybA9e0VUkh"
      }
    },
    {
      "cell_type": "code",
      "source": [],
      "metadata": {
        "id": "GxpAtcX8VT8G"
      },
      "execution_count": null,
      "outputs": []
    },
    {
      "cell_type": "markdown",
      "source": [
        "### **Ejercicio 7**\n",
        "\n",
        "Escribir la operación insertarEnPosI del TDA Lista que inserte una lista completa dentro de otra en una posición determinada. La función debe recibir como parámetro la lista que debe ser insertada y la posición de inserción. Si la posición es más grande que el tamaño de la lista original, la nueva lista se inserta al final. Definir la estructura de datos del TDA Lista utilizada. No se pueden utilizar las operaciones insertar y append del tipo Lista.\n",
        "No se puede usar el TDA lista de python.\n",
        "\n",
        "Ejemplo:\n",
        "\n",
        "Si lista1 = [3 , 5 , 8 , 2 , 6 , 7] y lista2 = [4 , 9 , 1 , 2]\n",
        "\n",
        "lista1.insertarEnPosI(lista2 , 3)\n",
        "\n",
        "Entonces: lista1 = [3 , 5 , 8 , 4 , 9 , 1 , 2 , 2 , 6 , 7]\n"
      ],
      "metadata": {
        "id": "rQJOaFie6s1m"
      }
    },
    {
      "cell_type": "code",
      "source": [],
      "metadata": {
        "id": "uz6z5wYio7eA"
      },
      "execution_count": null,
      "outputs": []
    },
    {
      "cell_type": "markdown",
      "source": [
        "### **Ejercicio 8**\n",
        "\n",
        "Escribir la función **palabrasPorTamaño** que recibe una lista de palabras (strings) y retorna un diccionario que posee como clave el tamaño de palabra y como significado una lista con las palabras de ese tamaño que forman parte de la lista de entrada.\n",
        "\n",
        "Se debe resolver usando las operaciones del TDA diccionario que vimos en clase, sin violar el encapsulamiento ni utilizando estructuras auxiliares.\n",
        "\n",
        "Por ejemplo:\n",
        "\n",
        "listaEntrada = [taza , perro , computadora , libro , en , casa , si]\n",
        "\n",
        "dic  = palabrasPorTamaño(listaEntrada)\n",
        "\n",
        "Entonces, dic = { (4 , [taza , casa]) , (5 , [perro , libro]) , (11 , [computadora]) , (2 , [en , si]) }\n"
      ],
      "metadata": {
        "id": "7e4SAu4X6-U5"
      }
    },
    {
      "cell_type": "code",
      "source": [],
      "metadata": {
        "id": "WwrpGPR36-og"
      },
      "execution_count": null,
      "outputs": []
    },
    {
      "cell_type": "markdown",
      "source": [
        "### **Ejercicio 9**\n",
        "\n",
        "Escribir la operación **sumaInternosMenores** del TDA ABB que devuelva la suma de los elementos de los nodos internos del árbol que son menores a un valor N que se recibe por parámetro. Definir la estructura del TDA ABB utilizado. La función puede hacer uso de las siguientes operaciones del TDA ABB: estaVacio y del TDA NodoArbol: tieneIzquierdo, tieneDerecho y esHoja."
      ],
      "metadata": {
        "id": "x7rosi9SgNaf"
      }
    },
    {
      "cell_type": "code",
      "source": [],
      "metadata": {
        "id": "e47QffApWWPn"
      },
      "execution_count": null,
      "outputs": []
    },
    {
      "cell_type": "markdown",
      "source": [
        "### **Ejercicio 10**\n",
        "\n",
        "Crear la operación **insertarCeros** del TDA Lista, que inserte un 0 (cero) entre 2 números pares consecutivos. La función no debe crear una nueva lista, debe modificar la lista con la cual se llama a la operación. Definir la estructura de datos del TDA Lista utilizada. No se pueden utilizar las operaciones insertar y append del tipo Lista.\n",
        "\n",
        "No se puede usar el TDA lista de python.\n",
        "\n",
        "Ejemplo:\n",
        "\n",
        "lista1 = [1 , 3 , 4 , 6 , 8 , 1 , 5 , 8 , 10 , 7]\n",
        "\n",
        "lista1.insertarCeros()\n",
        "\n",
        "Entonces, lista1 = [1 , 3 , 4 , 0 , 6 , 0 , 8 , 1 , 5 , 8 , 0 , 10 , 7]"
      ],
      "metadata": {
        "id": "EPuafFLJgEHX"
      }
    },
    {
      "cell_type": "code",
      "source": [],
      "metadata": {
        "id": "RAxsjzAtx5Hh"
      },
      "execution_count": null,
      "outputs": []
    },
    {
      "cell_type": "markdown",
      "source": [
        "### **Ejercicio 11**\n",
        "\n",
        "Escribir la función **resta** que recibe dos diccionarios como parámetro (dic1 y dic2) y retorna un nuevo diccionario con la resta los dos, con el siguiente criterio:\n",
        "\n",
        "-  Cuando una clave sólo está en el dic1, pasa al diccionario de salida con el significado original.\n",
        "\n",
        "-  Si una clave está en ambos diccionarios de entrada (dic1 y dic2), no pasa al diccionario de salida.\n",
        "\n",
        "Se debe resolver usando las operaciones del TDA diccionario que vimos en clase, sin violar el encapsulamiento ni utilizando estructuras auxiliares.\n",
        "\n",
        "Ejemplo:\n",
        "\n",
        "dic1 = {(1 , 4) , (3 , 6) , (8 , 14) , (4 , 12) , (2 , 6)} y dic2 = {(8 , 5) , (10 , 6) , (1 , 7) , (2 , 9) , (14 , 8)}\n",
        "\n",
        "dic3  = resta(dic1 , dic2)\n",
        "\n",
        "Entonces, dic3 = {(3 , 6) , (4 , 12)}\n"
      ],
      "metadata": {
        "id": "j0YFS_XD7cSz"
      }
    },
    {
      "cell_type": "code",
      "source": [],
      "metadata": {
        "id": "ySJu6rA_x6Iu"
      },
      "execution_count": null,
      "outputs": []
    },
    {
      "cell_type": "markdown",
      "source": [
        "### **Ejercicio 12**\n",
        "\n",
        "Escribir la operación **obtenerHermano** del TDA ABB que recibe un número N y retorna el número del nodo hermano del nodo que contiene al número N. Dos nodos se definen como hermanos cuando tienen el mismo padre. Si el número N no está en el árbol o no tienen nodo hermano, la operación debe retornar None.\n"
      ],
      "metadata": {
        "id": "CoIQgiPegYHp"
      }
    },
    {
      "cell_type": "code",
      "source": [],
      "metadata": {
        "id": "XzMA23Ypx7mF"
      },
      "execution_count": null,
      "outputs": []
    },
    {
      "cell_type": "markdown",
      "source": [
        "### **Ejercicio 13**\n",
        "Escribir la operación eliminarSegmento del TDA Lista, que recibe dos posiciones (“inicio” y “final”) como entrada y elimina todos los nodos en la lista entre ambas (incluidas). Si la posición “final” es más grande que el tamaño de la lista, se eliminan todos los elementos desde la posición “inicio” hasta\n",
        "el final. No se puede utilizar la operación eliminar del tipo Lista. No se puede usar el TDA Lista de Python. Pueden suponer que siempre la posición “final” es mayor o igual que la “inicio”.\n",
        "\n",
        "Ejemplo:\n",
        "\n",
        "Si lista = [3 , 5 , 8 , 2 , 6 , 7 , 5 , 8 , 2]\n",
        "\n",
        "lista.eliminarSegmento(2,5) -> lista = [3 , 5 , 5 , 8 , 2]\n",
        "\n",
        "lista.eliminarSegmento(4,50) -> lista = [3 , 5 , 8 , 2 ]\n",
        "\n",
        "lista.eliminarSegmento(1,1) -> lista = [3 , 8 , 2 , 6 , 7 , 5 , 8 , 2]"
      ],
      "metadata": {
        "id": "JM1oGw39Ji6l"
      }
    },
    {
      "cell_type": "code",
      "source": [],
      "metadata": {
        "id": "y0UlH9n6x8fl"
      },
      "execution_count": null,
      "outputs": []
    }
  ]
}
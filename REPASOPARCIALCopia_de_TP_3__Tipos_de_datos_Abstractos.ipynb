{
  "nbformat": 4,
  "nbformat_minor": 0,
  "metadata": {
    "colab": {
      "provenance": []
    },
    "kernelspec": {
      "name": "python3",
      "display_name": "Python 3"
    }
  },
  "cells": [
    {
      "cell_type": "markdown",
      "metadata": {
        "id": "42630xxYD0gZ"
      },
      "source": [
        "# ![alt text](https://upload.wikimedia.org/wikipedia/commons/thumb/c/c3/Python-logo-notext.svg/50px-Python-logo-notext.svg.png) **Trabajo Práctico 3: Tipos de datos abstractos** ![alt text](https://upload.wikimedia.org/wikipedia/commons/thumb/c/c3/Python-logo-notext.svg/50px-Python-logo-notext.svg.png)\n",
        "\n",
        "En este trabajo práctico, vamos a trabajar con la definición de tipos de datos abstractos en Python. Recuerden crear una copia de este archivo en su ***Google Drive*** para tener permisos de edición.\n",
        "\n",
        "### Sergio: **sergio.gonzalez@unahur.edu.ar**\n"
      ]
    },
    {
      "cell_type": "markdown",
      "metadata": {
        "id": "cwvo5HlCXnwM"
      },
      "source": [
        "**En cada ejercicio, luego de implementar el TDA pedido, tienen que probar cada una de las operaciones en un programa principal, ejecutando cada una de ellas**\n",
        "\n",
        "**En el video se comentó la función \\_\\_str__ para la representación de variables de los TDAs, en lugar de \\_\\_str__ pueden implementar \\_\\_repr__ que es similar pero más general (No solo sirve para el *print*, sino para la representación en general de variables del TDA)**\n"
      ]
    },
    {
      "cell_type": "markdown",
      "source": [
        "Ejemplo de funciones para validar variables en los constructores de los TDAs"
      ],
      "metadata": {
        "id": "_-wOzZyANVN8"
      }
    },
    {
      "cell_type": "code",
      "source": [
        "def validarTipo(variable:any, nombre:str, tipo:type)->any:\n",
        "  if not isinstance(variable, tipo):\n",
        "    raise Exception(f\"La variable {nombre} debe ser de tipo {tipo}.\")\n",
        "  return variable\n",
        "\n",
        "def validarNumeroPositivo(numero:int, nombre:str, tipo:type)->int:\n",
        "  validarTipo(numero, nombre, tipo)\n",
        "  if numero < 0:\n",
        "    raise Exception(f\"La variable {nombre} debe contener un numero positivo.\")\n",
        "  return numero"
      ],
      "metadata": {
        "id": "Zw0Z6fHghB1P"
      },
      "execution_count": null,
      "outputs": []
    },
    {
      "cell_type": "markdown",
      "source": [
        "Prueba de funciones de validación"
      ],
      "metadata": {
        "id": "5T-Z9JM-igfa"
      }
    },
    {
      "cell_type": "code",
      "source": [
        "print(validarNumeroPositivo(1,\"numero\",int))"
      ],
      "metadata": {
        "colab": {
          "base_uri": "https://localhost:8080/"
        },
        "id": "YDgDzmbiiIht",
        "outputId": "e338e4d7-6f3f-40ca-bcc4-8c5e784d1d69"
      },
      "execution_count": null,
      "outputs": [
        {
          "output_type": "stream",
          "name": "stdout",
          "text": [
            "1\n"
          ]
        }
      ]
    },
    {
      "cell_type": "markdown",
      "source": [
        "### **Un ejemplo:**\n",
        "\n",
        "**Objeto real:** Universidad\n",
        "\n",
        "**Modelo computacional:** ¿Que cosas nos interesan para caracterizar (modelar) a una universidad?\n",
        "\n",
        "*Modelo 1:*\n",
        "\n",
        "- Nombre\n",
        "- Cantidad de alumnos\n",
        "- Carreras que ofrece\n",
        "\n",
        "Puede haber mas de un modelo...\n",
        "\n",
        "*Modelo 2:*\n",
        "\n",
        "- Nombre\n",
        "- Los alumnos en si\n",
        "- Materias cursa cada alumno\n",
        "- Carreras que ofrece\n",
        "\n",
        "**Implementaciones:** Estructura de datos de representación\n",
        "\n",
        "*Implementación modelo 1:*\n",
        "\n",
        "- nombre: va a ser un string\n",
        "- cantidad de alumnos: va a ser un entero\n",
        "- las carreras: van a ser un vector\n",
        "\n",
        "*Implementación modelo 2:*\n",
        "\n",
        "- nombre: va a ser un string\n",
        "- los alumnos y sus materias: van a ser un diccionario\n",
        "- las carreras: van a ser un vector"
      ],
      "metadata": {
        "id": "3JyR98y6eSSb"
      }
    },
    {
      "cell_type": "code",
      "source": [
        "#Modelo 1\n",
        "\n",
        "import numpy as np\n",
        "\n",
        "class Universidad1:\n",
        "  def __init__(self, nombre:str, cantAlumnos:int, cantCarreras:int):\n",
        "    self.__nombre = validarTipo(nombre, \"nombre\", str)\n",
        "    self.__cantidadAlumnos = validarNumeroPositivo(cantAlumnos, \"cantAlumnos\", int)\n",
        "    self__carreras = np.empty(validarNumeroPositivo(cantCarreras, \"cantCarreras\", int), str)"
      ],
      "metadata": {
        "id": "qalxlTOAcT0s"
      },
      "execution_count": null,
      "outputs": []
    },
    {
      "cell_type": "code",
      "source": [
        "#Modelo 2\n",
        "\n",
        "import numpy as np\n",
        "\n",
        "class Universidad2:\n",
        "  def __init__(self, nombre:str, cantCarreras:int):\n",
        "    self.__nombre = validarTipo(nombre, \"nombre\", str)\n",
        "    self.__alumnosMaterias = dict()\n",
        "    self__carreras = np.empty(validarNumeroPositivo(cantCarreras, \"cantCarreras\", int), str)"
      ],
      "metadata": {
        "id": "U7vKH1wTdR66"
      },
      "execution_count": null,
      "outputs": []
    },
    {
      "cell_type": "code",
      "source": [
        "#Implementacion del TDA Aula\n",
        "class Aula:\n",
        "  def __init__(self, cantLugares:int, aire:bool, pantalla:bool):\n",
        "    self.__cantLugares = cantLugares\n",
        "    self.__cantEstudiantes = 0\n",
        "    self.__aire = aire\n",
        "    self.__pantalla = pantalla\n",
        "    self.__materia = ''\n",
        "    self.__docente = ''\n",
        "\n",
        "  def __repr__(self)->str:\n",
        "    return f\"Docente: {self.__docente} | Capacidad: {self.__cantLugares} | Estudiantes: {self.__cantEstudiantes}\"\n",
        "\n",
        "  def ingresarEstudiantes(self, cant:int)->None:\n",
        "    self.__cantEstudiantes += cant\n",
        "\n",
        "  def estaLlena(self)->bool:\n",
        "    return self.__cantLugares == self.__cantEstudiantes\n",
        "\n",
        "  def ingresarDocente(self, nombre:str)->None:\n",
        "    self.__docente = nombre\n",
        "\n",
        "  def obtenerDocente(self)->str:\n",
        "    return self.__docente\n",
        "\n",
        "  def mismoNombreDocente(aulaN1, aulaN2)->bool:\n",
        "    return aulaN1.__docente == aulaN2.__docente"
      ],
      "metadata": {
        "id": "u-xkNaSAR-F9"
      },
      "execution_count": null,
      "outputs": []
    },
    {
      "cell_type": "code",
      "source": [
        "aula1 = Aula(50, True, False)\n",
        "print(aula1)\n",
        "aula1.ingresarEstudiantes(10)\n",
        "#Aula.ingresarEstudiantes(aula1,10)\n",
        "print(aula1)\n",
        "print(aula1.estaLlena())\n",
        "#print(aula1.cantEstudiantes) NO HACER!!!!"
      ],
      "metadata": {
        "colab": {
          "base_uri": "https://localhost:8080/"
        },
        "id": "xtNty62zTgmj",
        "outputId": "89b75f92-99a2-49b2-b9b9-6daf17a879df"
      },
      "execution_count": null,
      "outputs": [
        {
          "output_type": "stream",
          "name": "stdout",
          "text": [
            "Docente:  | Capacidad: 50 | Estudiantes: 0\n",
            "Docente:  | Capacidad: 50 | Estudiantes: 10\n",
            "False\n"
          ]
        }
      ]
    },
    {
      "cell_type": "code",
      "source": [
        "import copy\n",
        "aula2 = copy.deepcopy(aula1)\n",
        "\n",
        "\n",
        "print(Aula.mismoNombreDocente(aula1,aula2))\n"
      ],
      "metadata": {
        "colab": {
          "base_uri": "https://localhost:8080/",
          "height": 211
        },
        "id": "pxkCMVjwbEvj",
        "outputId": "77835cd9-de3e-43a9-a6c5-fe486e7ca271"
      },
      "execution_count": null,
      "outputs": [
        {
          "output_type": "error",
          "ename": "NameError",
          "evalue": "name 'aula1' is not defined",
          "traceback": [
            "\u001b[0;31m---------------------------------------------------------------------------\u001b[0m",
            "\u001b[0;31mNameError\u001b[0m                                 Traceback (most recent call last)",
            "\u001b[0;32m<ipython-input-2-48272f2017c0>\u001b[0m in \u001b[0;36m<cell line: 0>\u001b[0;34m()\u001b[0m\n\u001b[1;32m      1\u001b[0m \u001b[0;32mimport\u001b[0m \u001b[0mcopy\u001b[0m\u001b[0;34m\u001b[0m\u001b[0;34m\u001b[0m\u001b[0m\n\u001b[0;32m----> 2\u001b[0;31m \u001b[0maula2\u001b[0m \u001b[0;34m=\u001b[0m \u001b[0mcopy\u001b[0m\u001b[0;34m.\u001b[0m\u001b[0mdeepcopy\u001b[0m\u001b[0;34m(\u001b[0m\u001b[0maula1\u001b[0m\u001b[0;34m)\u001b[0m\u001b[0;34m\u001b[0m\u001b[0;34m\u001b[0m\u001b[0m\n\u001b[0m\u001b[1;32m      3\u001b[0m \u001b[0;34m\u001b[0m\u001b[0m\n\u001b[1;32m      4\u001b[0m \u001b[0;34m\u001b[0m\u001b[0m\n\u001b[1;32m      5\u001b[0m \u001b[0mprint\u001b[0m\u001b[0;34m(\u001b[0m\u001b[0mAula\u001b[0m\u001b[0;34m.\u001b[0m\u001b[0mmismoNombreDocente\u001b[0m\u001b[0;34m(\u001b[0m\u001b[0maula1\u001b[0m\u001b[0;34m,\u001b[0m\u001b[0maula2\u001b[0m\u001b[0;34m)\u001b[0m\u001b[0;34m)\u001b[0m\u001b[0;34m\u001b[0m\u001b[0;34m\u001b[0m\u001b[0m\n",
            "\u001b[0;31mNameError\u001b[0m: name 'aula1' is not defined"
          ]
        }
      ]
    },
    {
      "cell_type": "markdown",
      "metadata": {
        "id": "DyzOhAhyXPt8"
      },
      "source": [
        "### **Ejercicio 1**\n",
        "\n",
        "Implementar el TDA \"Propiedad\" que modela un inmueble, con una estructura definida por los siguientes componentes:\n",
        "- Calle\n",
        "- Número\n",
        "- Localidad\n",
        "- Año de construcción\n",
        "- Cantidad de ambientes\n",
        "\n",
        "Implementar las siguientes operaciones:\n",
        "- Constructor: Debe incluir las validaciones necesarias, teniendo en cuenta que solo se almacenan propiedades construidas luego de 1870.\n",
        "- \\_\\_repr__: Al usar la función *print* con una variable del tipo propiedad debe mostrar: **'calle' 'numero' ('localidad')**.\n",
        "- mismaLocalidad: Operación que recibe dos propiedades y retorna *True* si estan en la misma localidad y *False* en caso contrario.\n",
        "- mismaCalle: Operación que recibe dos propiedades y retorna *True* si estan en la misma calle y *False* en caso contrario.\n",
        "- mayorNumeración: Operación que recibe dos propiedades y si están en la misma calle de la misma localidad, retorna la propiedad que posee mayor numeración. Si están calles o en localidades diferentes debe lanzar una excepción.\n",
        "- calculaImpuestoARBA: Operación que retorna el porcentaje de impuesto inmobiliario de una propiedad, según la siguiente regla:\n",
        " - Propiedades entre 1871 y 1949:\n",
        "   - Entre 1 y 3 ambientes: 5% de impuesto\n",
        "   - Entre 4 y 6 ambientes: 10% de impuesto\n",
        "   - Más de 6 ambientes: 25 % de impuesto\n",
        " - Propiedades desde 1950 hasta la actualidad:\n",
        "   - Entre 1 y 5 ambientes: 5% de impuesto\n",
        "   - Más de 5 ambientes: 35 % de impuesto\n"
      ]
    },
    {
      "cell_type": "code",
      "source": [
        "\n",
        "\n",
        "def validarAñoDeConstruccion(unAño: int) -> int:\n",
        "    validarTipo(unAño, \"año\", int)\n",
        "    if unAño > 1870:\n",
        "        return unAño\n",
        "    raise ValueError(\"El año de construccion ingresado debe ser luego de 1870\")\n",
        "\n",
        "def validarTipo(variable:any, nombre:str, tipo:type)->any:\n",
        "  if not isinstance(variable, tipo):\n",
        "    raise Exception(f\"{nombre} debe ser de tipo {tipo}.\")\n",
        "  return variable\n",
        "\n",
        "def validarNumeroPositivo(numero:int, tipo:type)->int:\n",
        "  validarTipo(numero, \"numero\", tipo)\n",
        "  if numero <= 0:\n",
        "    raise Exception(f\"El numero debe ser un número entero positivo.\")\n",
        "  return numero\n",
        "\n",
        "class Propiedad:\n",
        "    def __init__(self, calle: str, numero: int, localidad: str, añoDeConstruccion: int, cantDeAmbientes: int) -> None:\n",
        "        self.__calle = validarTipo(calle, \"calle\", str).lower()\n",
        "        self.__numero = validarNumeroPositivo(numero, int)\n",
        "        self.__localidad = validarTipo(localidad, \"localidad\", str).lower()\n",
        "        self.__añoDeConstruccion = validarAñoDeConstruccion(añoDeConstruccion)\n",
        "        self.__cantDeAmbientes = validarNumeroPositivo(cantDeAmbientes, int)\n",
        "\n",
        "    def __repr__(self) -> str:\n",
        "        return f\"La propiedad esta en la calle {self.__calle}, {self.__numero} en la localidad de {self.__localidad} tiene {self.__cantDeAmbientes}\"\n",
        "\n",
        "    @property\n",
        "    def localidad(self) -> str:\n",
        "        return self.__localidad\n",
        "\n",
        "    @property\n",
        "    def cantDeAmbientes(self) -> int:\n",
        "        return self.__cantDeAmbientes\n",
        "\n",
        "    @property\n",
        "    def añoDeConstruccion(self) -> int:\n",
        "        return self.__añoDeConstruccion\n",
        "\n",
        "    @property\n",
        "    def calle(self) -> str:\n",
        "        return self.__calle\n",
        "\n",
        "    @property\n",
        "    def numero(self) -> int:\n",
        "        return self.__numero\n",
        "\n",
        "    @cantDeAmbientes.setter\n",
        "    def cantDeAmbientes(self, cantidad) -> None:\n",
        "        validarNumeroPositivo(cantidad, int)\n",
        "        self.__cantDeAmbientes = cantidad\n",
        "\n",
        "    def calcularImpuestoARBA(self) -> float:\n",
        "        impuesto = 0\n",
        "        if self.añoDeConstruccion <= 1949:\n",
        "            if self.cantDeAmbientes <= 3:\n",
        "                impuesto = 5\n",
        "            elif self.cantDeAmbientes <=6:\n",
        "                impuesto = 10\n",
        "            else:\n",
        "                impuesto = 25\n",
        "        else:\n",
        "            if self.cantDeAmbientes <= 5:\n",
        "                impuesto = 5\n",
        "            else:\n",
        "                impuesto = 35\n",
        "        return impuesto\n",
        "\n",
        "    @staticmethod\n",
        "    def mismaLocalidad(unaProp, otraProp) -> bool:\n",
        "        return unaProp.localidad == otraProp.localidad\n",
        "\n",
        "    @staticmethod\n",
        "    def mismaCalle(unaProp, otraProp) -> bool:\n",
        "        return unaProp.calle == otraProp.calle\n",
        "\n",
        "    @staticmethod\n",
        "    def mayorNumeracion(unaProp, otraProp) -> 'Propiedad':\n",
        "        if Propiedad.mismaLocalidad(unaProp, otraProp) and Propiedad.mismaCalle(unaProp, otraProp):\n",
        "            return unaProp if unaProp.numero > otraProp.numero else otraProp\n",
        "        raise Exception(\"Están en calle o en localidades diferentes\")\n",
        "\n",
        "propiedad1 = Propiedad(\"latzina\", 1675, \"ituzaingo\", 2002, 3)\n",
        "propiedad2 = Propiedad(\"latzina\", 1679, \"atuzaingo\", 2002, 3)\n",
        "\n",
        "propiedad1.cantDeAmbientes = 2\n",
        "print(propiedad1)"
      ],
      "metadata": {
        "id": "57z4EseKCdme",
        "colab": {
          "base_uri": "https://localhost:8080/"
        },
        "outputId": "db1a2805-7da0-4c36-8c35-d93eca4f2dfa"
      },
      "execution_count": 1,
      "outputs": [
        {
          "output_type": "stream",
          "name": "stdout",
          "text": [
            "La propiedad esta en la calle latzina, 1675 en la localidad de ituzaingo tiene 2\n"
          ]
        }
      ]
    },
    {
      "cell_type": "markdown",
      "metadata": {
        "id": "rP1dZEXTe-qq"
      },
      "source": [
        "### **Ejercicio 2**\n",
        "\n",
        "Implementar el TDA \"Cuenta\" que modela una cuenta bancaria, la estructura de datos esta compuesta por los siguientes componentes:\n",
        "- Número de cuenta\n",
        "- DNI del titular\n",
        "- Saldo de cuenta actual\n",
        "- Interés anual\n",
        "\n",
        "Implementar las siguientes operaciones:\n",
        "- Constructor: Debe incluir las validaciones necesarias.\n",
        "- \\_\\_repr__: Al usar la función *print* con una variable del tipo cuenta debe mostrar: **Cuenta Nro: 'numero' - Titular: 'dni' ($'saldo')**.\n",
        "- actualizarSaldo: Operación que actualiza el saldo de la cuenta aplicándole el interés diario (interés anual dividido entre 365).\n",
        "- ingresarDinero: Operación que recibe un número e ingresa esa cantidad en la cuenta.\n",
        "- retirarDinero: Operación que recibe un número y extrae esa cantidad de la cuenta (si hay saldo disponible), sino debe lanzar una excepción."
      ]
    },
    {
      "cell_type": "code",
      "source": [
        "\"\"\"\n",
        "actualizarSaldo: Operación que actualiza el saldo de la cuenta aplicándole el interés diario (interés anual dividido entre 365).\n",
        "ingresarDinero: Operación que recibe un número e ingresa esa cantidad en la cuenta.\n",
        "retirarDinero: Operación que recibe un número y extrae esa cantidad de la cuenta (si hay saldo disponible), sino debe lanzar una excepción.\n",
        "\"\"\"\n",
        "def validarTipo(variable:any, nombre:str, tipo:type)-> any:\n",
        "  if not isinstance(variable, tipo):\n",
        "    raise Exception(f\"{nombre} debe ser de tipo {tipo}.\")\n",
        "  return variable\n",
        "\n",
        "def validarNumeroPositivo(numero:int, tipo:type)->int:\n",
        "  validarTipo(numero, \"numero\", tipo)\n",
        "  if numero <= 0:\n",
        "    raise Exception(f\"El numero debe ser un número entero positivo.\")\n",
        "  return numero\n",
        "\n",
        "class Cuenta:\n",
        "    def __init__(self, nroDeCuenta: int, DNI: int, saldo: float, interesAnual: float) -> None:\n",
        "        self.__nroDeCuenta = validarNumeroPositivo(nroDeCuenta, int)\n",
        "        self.__DNI = validarNumeroPositivo(DNI, int)\n",
        "        self.__saldo = validarTipo(saldo, \"saldo\", float)\n",
        "        self.__interesAnual = validarTipo(interesAnual, \"interes anual\", float)\n",
        "\n",
        "    def __repr__(self) -> str:\n",
        "        return f\"Cuenta Nro: {self.__nroDeCuenta} - Titular: {self.__DNI}.\"\n",
        "\n",
        "    def actualizarSaldo(self) -> None:\n",
        "        self.__saldo += self.__saldo * (self.__interesAnual / 365)\n",
        "\n",
        "    def ingresarDinero(self, dinero: float) -> None:\n",
        "        validarNumeroPositivo(dinero, float)\n",
        "        self.__saldo += dinero\n",
        "\n",
        "    def retirarDinero(self, dinero: float) -> None:\n",
        "        validarNumeroPositivo(dinero, float)\n",
        "        self.__saldo -= dinero\n",
        "\n",
        "cuenta1 = Cuenta(12, 94225799, 20, 200)"
      ],
      "metadata": {
        "id": "kiFSYkduCe8d"
      },
      "execution_count": null,
      "outputs": []
    },
    {
      "cell_type": "markdown",
      "source": [
        "### **A partir de aca podemos dejar de hacer las validaciones para no complicar el código y centrarnos en el modelado e implementación de los TDAs**"
      ],
      "metadata": {
        "id": "3DbX9XYHjTVk"
      }
    },
    {
      "cell_type": "markdown",
      "metadata": {
        "id": "x8DVU8HlhE2q"
      },
      "source": [
        "### **Ejercicio 3**\n",
        "\n",
        "Implementar el TDA \"Tiempo\" que modela una duracion en horas, minutos y segundos.\n",
        "\n",
        "Se deben implementar las siguientes operaciones:\n",
        "- Constructor: Debe incluir las validaciones necesarias, la hora debe ser un número positivo y los minutos y segundos deben ser números positivos entre 0 y 59.\n",
        "- \\_\\_repr__: Al usar la función *print* con una variable del tipo tiempo debe mostrar: **'horas':'minutos':'segundos'**.\n",
        "- tiempoASegundos: Operación que toma una variable de tipo tiempo y retorna la cantidad en segundos.\n",
        "- tiemposDesdeSegundos: Operación que recibe un tiempo en segundos como parámetro y retorna una variable de tipo tiempo, en horas minutos y segundos.\n",
        "- mayorDuracion: Operación que recibe dos variables de tipo tiempo y retorna la de mayor duración."
      ]
    },
    {
      "cell_type": "code",
      "source": [
        "def validarTipo(variable:any, nombre:str, tipo:type)-> any:\n",
        "  if not isinstance(variable, tipo):\n",
        "    raise Exception(f\"{nombre} debe ser de tipo {tipo}.\")\n",
        "  return variable\n",
        "\n",
        "def validarNumeroEntre(num: int, numInicial: int, numFinal: int) -> int:\n",
        "    validarTipo(numInicial, \"numero\", int)\n",
        "    validarTipo(numFinal, \"numero\", int)\n",
        "    validarTipo(num, \"numero\", int)\n",
        "    if num > numInicial and num < numFinal:\n",
        "        return num\n",
        "    raise ValueError(\"El numero debe estar entre 0 y 60\")\n",
        "\n",
        "def validarNumeroPositivo(numero:int, tipo:type)->int:\n",
        "  validarTipo(numero, \"numero\", tipo)\n",
        "  if numero <= 0:\n",
        "    raise Exception(f\"El numero debe ser un número entero positivo.\")\n",
        "  return numero\n",
        "\n",
        "class Tiempo:\n",
        "    def __init__(self, horas:int, minutos: int, segundos:int) -> None:\n",
        "        self.__horas = validarNumeroPositivo(horas, int)\n",
        "        self.__minutos = validarNumeroEntre(minutos, -1, 60)\n",
        "        self.__segundos = validarNumeroEntre(segundos, -1, 60)\n",
        "\n",
        "    def __repr__(self) -> str:\n",
        "        return f\"{self.__horas}:{self.__minutos}:{self.__segundos}\"\n",
        "\n",
        "    @property\n",
        "    def horas(self) -> int:\n",
        "        return self.__horas\n",
        "\n",
        "    @property\n",
        "    def minutos(self) -> int:\n",
        "        return self.__minutos\n",
        "\n",
        "    @property\n",
        "    def segundos(self) -> int:\n",
        "        return self.__segundos\n",
        "\n",
        "    @staticmethod\n",
        "    def tiempoASegundos(unTiempo) -> int:\n",
        "        return unTiempo.horas * 3600 + unTiempo.minutos * 60 + unTiempo.segundos\n",
        "\n",
        "    @staticmethod\n",
        "    def tiemposDesdeSegundos(segundos: int) -> \"Tiempo\":\n",
        "        validarNumeroPositivo(segundos, int)\n",
        "        horas = segundos // 3600\n",
        "        segundos_restantes = segundos % 3600\n",
        "        minutos = segundos_restantes // 60\n",
        "        segundos = segundos_restantes % 60\n",
        "\n",
        "        return Tiempo(horas, minutos, segundos)\n",
        "\n",
        "    def __lt__(unTiempo, otroTiempo) -> bool:\n",
        "        return unTiempo.tiempoASegundos() < otroTiempo.tiempoASegundos()\n",
        "\n",
        "    def __sub__(unTiempo, otroTiempo) -> \"Tiempo\":\n",
        "        return Tiempo.tiemposDesdeSegundos(unTiempo.tiempoASegundos() - otroTiempo.tiempoASegundos())\n",
        "\n",
        "    def mayorDuracion(unTiempo, otroTiempo) -> \"Tiempo\":\n",
        "        tiempoMayor = unTiempo\n",
        "        if unTiempo < otroTiempo:\n",
        "            tiempoMayor = otroTiempo\n",
        "        return tiempoMayor\n"
      ],
      "metadata": {
        "id": "3Sec9rtOChQm"
      },
      "execution_count": null,
      "outputs": []
    },
    {
      "cell_type": "markdown",
      "source": [
        "## **TDA en dos niveles**"
      ],
      "metadata": {
        "id": "KCFrxq2CQxSc"
      }
    },
    {
      "cell_type": "markdown",
      "source": [
        "\n",
        "### **Ejercicio 4**\n",
        "\n",
        "Modelar el TDA \"Cronometro\", que contiene un tiempo inicial y un tiempo final.\n",
        "\n",
        "Se deben implementar las siguientes operaciones:\n",
        "\n",
        "- Constructor: Queremos modelar el tiempo inicial y final con el TDA \"Tiempo\". Se pueden tener dos variables que se inicializaran en otra operación de la interface.\n",
        "- Comenzar: Debe recibir las hs,min y seg iniciales.\n",
        "- Finalizar: Debe recibir las hs,min y seg finales.\n",
        "- TiempoEmpleado: Devuelve una variable de tipo Tiempo con la diferencia entre el tiempo inicial y el final."
      ],
      "metadata": {
        "id": "5gcdaYCShYkt"
      }
    },
    {
      "cell_type": "code",
      "source": [
        "class Cronometro:\n",
        "    def __init__(self) -> None:\n",
        "        self.__comenzar = None\n",
        "        self.__finalizar = None\n",
        "\n",
        "    def __repr__(self) -> str:\n",
        "        return f\"{self.__comenzar} - {self.__finalizar}\"\n",
        "\n",
        "    def comenzar(self, hs: int, mins: int, segs: int) -> None:\n",
        "        self.__comenzar = Tiempo(hs, mins, segs)\n",
        "\n",
        "    def finalizar(self, hs:int, mins: int, segs: int) -> None:\n",
        "        self.__finalizar = Tiempo(hs, mins, segs)\n",
        "\n",
        "    def tiempoEmpleado(self) -> \"Tiempo\":\n",
        "        return self.__finalizar - self.__comenzar\n"
      ],
      "metadata": {
        "id": "nw6YJtNZCi2-"
      },
      "execution_count": 9,
      "outputs": []
    },
    {
      "cell_type": "code",
      "source": [
        "crono1 = Cronometro()\n",
        "print(crono1)\n",
        "crono1.comenzar(18,49,8)\n",
        "print(crono1)\n",
        "crono1.finalizar(18,50,25)\n",
        "print(crono1)"
      ],
      "metadata": {
        "colab": {
          "base_uri": "https://localhost:8080/",
          "height": 211
        },
        "id": "S3fr_l6mU4yX",
        "outputId": "1f09a13e-a56b-4cd6-fc67-a8792edffd33"
      },
      "execution_count": 8,
      "outputs": [
        {
          "output_type": "error",
          "ename": "NameError",
          "evalue": "name 'Cronometro' is not defined",
          "traceback": [
            "\u001b[0;31m---------------------------------------------------------------------------\u001b[0m",
            "\u001b[0;31mNameError\u001b[0m                                 Traceback (most recent call last)",
            "\u001b[0;32m<ipython-input-8-f8d595c0d19f>\u001b[0m in \u001b[0;36m<cell line: 0>\u001b[0;34m()\u001b[0m\n\u001b[0;32m----> 1\u001b[0;31m \u001b[0mcrono1\u001b[0m \u001b[0;34m=\u001b[0m \u001b[0mCronometro\u001b[0m\u001b[0;34m(\u001b[0m\u001b[0;34m)\u001b[0m\u001b[0;34m\u001b[0m\u001b[0;34m\u001b[0m\u001b[0m\n\u001b[0m\u001b[1;32m      2\u001b[0m \u001b[0mprint\u001b[0m\u001b[0;34m(\u001b[0m\u001b[0mcrono1\u001b[0m\u001b[0;34m)\u001b[0m\u001b[0;34m\u001b[0m\u001b[0;34m\u001b[0m\u001b[0m\n\u001b[1;32m      3\u001b[0m \u001b[0mcrono1\u001b[0m\u001b[0;34m.\u001b[0m\u001b[0mcomenzar\u001b[0m\u001b[0;34m(\u001b[0m\u001b[0;36m18\u001b[0m\u001b[0;34m,\u001b[0m\u001b[0;36m49\u001b[0m\u001b[0;34m,\u001b[0m\u001b[0;36m8\u001b[0m\u001b[0;34m)\u001b[0m\u001b[0;34m\u001b[0m\u001b[0;34m\u001b[0m\u001b[0m\n\u001b[1;32m      4\u001b[0m \u001b[0mprint\u001b[0m\u001b[0;34m(\u001b[0m\u001b[0mcrono1\u001b[0m\u001b[0;34m)\u001b[0m\u001b[0;34m\u001b[0m\u001b[0;34m\u001b[0m\u001b[0m\n\u001b[1;32m      5\u001b[0m \u001b[0mcrono1\u001b[0m\u001b[0;34m.\u001b[0m\u001b[0mfinalizar\u001b[0m\u001b[0;34m(\u001b[0m\u001b[0;36m18\u001b[0m\u001b[0;34m,\u001b[0m\u001b[0;36m50\u001b[0m\u001b[0;34m,\u001b[0m\u001b[0;36m25\u001b[0m\u001b[0;34m)\u001b[0m\u001b[0;34m\u001b[0m\u001b[0;34m\u001b[0m\u001b[0m\n",
            "\u001b[0;31mNameError\u001b[0m: name 'Cronometro' is not defined"
          ]
        }
      ]
    },
    {
      "cell_type": "markdown",
      "source": [
        "### **Ejercicio 5**\n",
        "\n",
        "Modelar el TDA \"Rectangulo\" a partir de los dos lados que lo definen.\n",
        "\n",
        "Se deben implementar las siguientes operaciones:\n",
        "\n",
        "- Constructor: Recibe las longitudes de ambos lados\n",
        "- area: calcula y devuelve el area del rectangulo\n",
        "- perimetro: calcula y devuelve el perimetro\n",
        "- \\_\\_repr__ : imprime la longitud de los lados\n",
        "\n",
        "Luego, modelar el TDA \"Cuadrado\" teniendo unicamente como variable interna en la estructura una variable de tipo \"Rectangulo\". El TDA Cuadrado debe tener las mismas operaciones que el TDA Rectangulo.\n",
        "\n",
        "Ayuda:\n",
        "\n",
        "Área(Rectángulo) = lado1 \\* lado2\n",
        "\n",
        "Área(Cuadrado) = lado^2\n",
        "\n",
        "Perímetro(Rectangulo) = 2 \\* lado1 + 2 \\* lado2\n",
        "\n",
        "Perímetro(Cuadrado) = 4 \\* lado"
      ],
      "metadata": {
        "id": "TX3EbDojGmAV"
      }
    },
    {
      "cell_type": "code",
      "source": [
        "\"\"\"\n",
        "\n",
        "area: calcula y devuelve el area del rectangulo\n",
        "perimetro: calcula y devuelve el perimetro\n",
        "\n",
        "\"\"\"\n",
        "\n",
        "def validarTipo(variable:any, nombre:str, tipo:type)-> any:\n",
        "  if not isinstance(variable, tipo):\n",
        "    raise Exception(f\"{nombre} debe ser de tipo {tipo}.\")\n",
        "  return variable\n",
        "\n",
        "def validarNumeroPositivo(numero:int, tipo:type)->int:\n",
        "  validarTipo(numero, \"numero\", tipo)\n",
        "  if numero <= 0:\n",
        "    raise Exception(f\"El numero debe ser un número entero positivo.\")\n",
        "  return numero\n",
        "\n",
        "class Rectangulo:\n",
        "    def __init__(self, alto: float, ancho: float) -> None:\n",
        "        self.__alto = validarNumeroPositivo(alto, float)\n",
        "        self.__ancho = validarNumeroPositivo(ancho, float)\n",
        "\n",
        "    def __repr__(self) -> str:\n",
        "        return f\"{self.__alto}x{self.__ancho}\"\n",
        "\n",
        "    @property\n",
        "    def alto(self) -> float:\n",
        "        return self.__alto\n",
        "\n",
        "    @property\n",
        "    def ancho(self) -> float:\n",
        "        return self.__ancho\n",
        "\n",
        "    def area(self) -> float:\n",
        "        return self.__alto * self.__ancho\n",
        "\n",
        "    def perimetro(self) -> float:\n",
        "        return 2*self.__alto + 2*self.__ancho\n",
        "\n",
        "class Cuadrado:\n",
        "    def __init__(self, anchoYAlto: float) -> None:\n",
        "        self.__dimensiones = Rectangulo(anchoYAlto, anchoYAlto)\n",
        "\n",
        "    def __repr__(self) -> str:\n",
        "        return f\"el cuadrado es de {self.anchoYAlto}\"\n",
        "\n",
        "    @property\n",
        "    def anchoYAlto(self) -> float:\n",
        "        return self.__dimensiones.alto\n",
        "\n",
        "    def area(self) -> float:\n",
        "        return self.__dimensiones.area()\n",
        "\n",
        "    def perimetro(self) -> float:\n",
        "        return self.__dimensiones.perimetro()\n",
        "\n",
        "\n",
        "rectangulo1 = Rectangulo(4.0, 5.0)\n",
        "print(rectangulo1)\n",
        "print(rectangulo1.area())\n",
        "print(rectangulo1.perimetro())\n",
        "\n",
        "cuadrado1 = Cuadrado(5.0)\n",
        "print(cuadrado1)\n",
        "print(cuadrado1.area())\n",
        "print(cuadrado1.perimetro())"
      ],
      "metadata": {
        "id": "aUoWV4UhCkbn",
        "colab": {
          "base_uri": "https://localhost:8080/"
        },
        "outputId": "f0497841-a400-4a01-b70b-0f685198cb64"
      },
      "execution_count": 4,
      "outputs": [
        {
          "output_type": "stream",
          "name": "stdout",
          "text": [
            "4.0x5.0\n",
            "20.0\n",
            "18.0\n",
            "el cuadrado es de 5.0\n",
            "25.0\n",
            "20.0\n"
          ]
        }
      ]
    },
    {
      "cell_type": "markdown",
      "metadata": {
        "id": "30rZj5FbkT9T"
      },
      "source": [
        "### **Ejercicio 6**\n",
        "\n",
        "Las plataformas de música online como ***YouTube*** y ***Spotify*** almacenan la información asociada a las canciones en estructuras de datos complejas para hacer las búsquedas de manera eficiente. Para esto se deben modelar las canciones. Implementar el TDA \"Cancion\" con los siguientes componentes:\n",
        "- Nombre\n",
        "- Artista\n",
        "- Duración\n",
        "- Género musical (6 posibles: Rock, Jazz, Blues, Funk, Reggae y Rap).\n",
        "- Año de edición\n",
        "- Número de likes\n",
        "\n",
        "Implementar las siguientes operaciones:\n",
        "- Constructor: Debe incluir las validaciones necesarias.\n",
        "- \\_\\_repr__: Al usar la función *print* con una variable del tipo canción debe mostrar: **'nombre' - 'artista' ('duracion')**.\n",
        "- mayorDuracion: Operación que recibe dos canciones por parámetros y retorna la de mayor duración.\n",
        "- agregaLikes: Operación que recibe un número e incrementa la cantidad de likes de la canción en ese número.\n",
        "- masVotada: Operacion que recibe dos canciones y sin son del mismo artista y del mismo género musical, retorna la que tiene mayor cantidad de likes. En caso contrario debe lanzar una excepción."
      ]
    },
    {
      "cell_type": "code",
      "source": [
        "from enum import Enum\n",
        "def validarTipo(variable:any, nombre:str, tipo:type)-> any:\n",
        "  if not isinstance(variable, tipo):\n",
        "    raise Exception(f\"{nombre} debe ser de tipo {tipo}.\")\n",
        "  return variable\n",
        "\n",
        "def validarNumeroEntre(num: int, numInicial: int, numFinal: int) -> int:\n",
        "    validarTipo(numInicial, \"numero\", int)\n",
        "    validarTipo(numFinal, \"numero\", int)\n",
        "    validarTipo(num, \"numero\", int)\n",
        "    if num > numInicial and num < numFinal:\n",
        "        return num\n",
        "    raise ValueError(\"El numero debe estar entre 0 y 60\")\n",
        "\n",
        "def validarNumeroPositivo(numero:int, tipo:type)->int:\n",
        "  validarTipo(numero, \"numero\", tipo)\n",
        "  if numero < 0:\n",
        "    raise Exception(f\"El numero debe ser un número entero positivo.\")\n",
        "  return numero\n",
        "\n",
        "class Tiempo:\n",
        "    def __init__(self, horas:int, minutos: int, segundos:int) -> None:\n",
        "        self.__horas = validarNumeroPositivo(horas, int)\n",
        "        self.__minutos = validarNumeroEntre(minutos, -1, 60)\n",
        "        self.__segundos = validarNumeroEntre(segundos, -1, 60)\n",
        "\n",
        "    def __repr__(self) -> str:\n",
        "        return f\"{self.__horas}:{self.__minutos}:{self.__segundos}\"\n",
        "\n",
        "    @property\n",
        "    def horas(self) -> int:\n",
        "        return self.__horas\n",
        "\n",
        "    @property\n",
        "    def minutos(self) -> int:\n",
        "        return self.__minutos\n",
        "\n",
        "    @property\n",
        "    def segundos(self) -> int:\n",
        "        return self.__segundos\n",
        "\n",
        "    def tiempoASegundos(self) -> int:\n",
        "        return self.horas * 3600 + self.minutos * 60 + self.segundos\n",
        "\n",
        "    @staticmethod\n",
        "    def tiemposDesdeSegundos(segundos: int) -> \"Tiempo\":\n",
        "        validarNumeroPositivo(segundos, int)\n",
        "        horas = segundos // 3600\n",
        "        segundos_restantes = segundos % 3600\n",
        "        minutos = segundos_restantes // 60\n",
        "        segundos = segundos_restantes % 60\n",
        "\n",
        "        return Tiempo(horas, minutos, segundos)\n",
        "\n",
        "    def __lt__(unTiempo, otroTiempo) -> bool:\n",
        "        return unTiempo.tiempoASegundos() < otroTiempo.tiempoASegundos()\n",
        "\n",
        "    def __sub__(unTiempo, otroTiempo) -> \"Tiempo\":\n",
        "        return Tiempo.tiemposDesdeSegundos(unTiempo.tiempoASegundos() - otroTiempo.tiempoASegundos())\n",
        "\n",
        "    def mayorDuracion(unTiempo, otroTiempo) -> \"Tiempo\":\n",
        "        tiempoMayor = unTiempo\n",
        "        if unTiempo < otroTiempo:\n",
        "            tiempoMayor = otroTiempo\n",
        "        return tiempoMayor\n",
        "\n",
        "\n",
        "class GeneroMusical(Enum):\n",
        "    ROCK = \"rock\"\n",
        "    JAZZ = \"jazz\"\n",
        "    BLUES = \"blues\"\n",
        "    FUNK = \"funk\"\n",
        "    REGGAE = \"reggae\"\n",
        "    RAP = \"rap\"\n",
        "\n",
        "class Cancion:\n",
        "    def __init__(self, nombre: str, artista: str, duracion: Tiempo, generoMusical: GeneroMusical, añoDeEdicion: int, nroDeLikes: int) -> None:\n",
        "        self.__nombre = nombre #validar\n",
        "        self.__artista = artista\n",
        "        self.__duracion = duracion\n",
        "        self.__generoMusical = generoMusical\n",
        "        self.__añoDeEdicion = añoDeEdicion\n",
        "        self.__nroDeLikes = nroDeLikes\n",
        "\n",
        "    def __repr__(self) -> str:\n",
        "        return f\"{self.__nombre} - {self.__artista} ({self.__duracion})\"\n",
        "\n",
        "    @property\n",
        "    def duracion(self) -> \"Tiempo\":\n",
        "        return self.__duracion\n",
        "\n",
        "    @property\n",
        "    def artista(self) -> str:\n",
        "        return self.__artista\n",
        "\n",
        "    @property\n",
        "    def generoMusical(self) -> \"GeneroMusical\":\n",
        "        return self.__generoMusical\n",
        "    @property\n",
        "    def nroDeLikes(self) -> \"int\":\n",
        "        return self.__nroDeLikes\n",
        "\n",
        "    @nroDeLikes.setter\n",
        "    def nroDeLikes(self, cantidad:int ) -> None:\n",
        "        self.__nroDeLikes = cantidad\n",
        "\n",
        "    def agregarLikes(self, cantidad:int) -> None:\n",
        "        self.nroDeLikes = self.nroDeLikes + cantidad\n",
        "\n",
        "    @staticmethod\n",
        "    def mayorDuracion(unaCancion, otraCancion) -> \"Cancion\":\n",
        "        resultadoMayor = unaCancion\n",
        "        if unaCancion.duracion < otraCancion.duracion:\n",
        "            resultadoMayor = otraCancion\n",
        "        return resultadoMayor\n",
        "\n",
        "    @staticmethod\n",
        "    def masVotada(unaCancion, otraCancion) -> \"Cancion\":\n",
        "        if not Cancion.mismoArtista(unaCancion, otraCancion):\n",
        "          raise Exception(\"Ambas canciones deben ser del mismo artista\")\n",
        "        if not Cancion.mismoGenero(unaCancion, otraCancion):\n",
        "          raise Exception(\"Ambas canciones deben ser del mismo genero\")\n",
        "        return Cancion.masLikes(unaCancion, otraCancion)\n",
        "\n",
        "    @staticmethod\n",
        "    def masLikes(unaCancion, otraCancion) -> \"Cancion\":\n",
        "        resultado = otraCancion\n",
        "        if unaCancion.nroDeLikes > otraCancion.nroDeLikes:\n",
        "            resultado = unaCancion\n",
        "        return resultado\n",
        "\n",
        "    @staticmethod\n",
        "    def mismoGenero(unaCancion, otraCancion)->bool:\n",
        "        return unaCancion.generoMusical == otraCancion.generoMusical\n",
        "\n",
        "    @staticmethod\n",
        "    def mismoArtista(unaCancion, otraCancion)->bool:\n",
        "        return unaCancion.artista == otraCancion.artista\n",
        "\n",
        "    @staticmethod\n",
        "    def sonDelMismoArtistaYGenero(unaCancion, otraCancion) -> bool:\n",
        "        return Cancion.mismoGenero(unaCancion, otraCancion) and Cancion.mismoArtista(unaCancion, otraCancion)\n",
        "\n",
        "cancion1 = Cancion(\"MULA JUICE\", \"MDA\", Tiempo(0, 3, 20), \"rock\", 2020, 2000)\n",
        "cancion2 = Cancion(\"SOY TU MAMA\", \"MDA\", Tiempo(0, 2, 20), \"rock\", 2023, 5000)\n",
        "print(Cancion.masVotada(cancion1, cancion2))"
      ],
      "metadata": {
        "id": "UtZAmGVUClnH",
        "colab": {
          "base_uri": "https://localhost:8080/"
        },
        "outputId": "92156713-6234-4d4b-826e-b444ab06b324"
      },
      "execution_count": 19,
      "outputs": [
        {
          "output_type": "stream",
          "name": "stdout",
          "text": [
            "SOY TU MAMA - MDA (0:2:20)\n"
          ]
        }
      ]
    },
    {
      "cell_type": "markdown",
      "source": [
        "## **TDA con arreglos**"
      ],
      "metadata": {
        "id": "drATH_LgRgYk"
      }
    },
    {
      "cell_type": "markdown",
      "source": [
        "**Ejercicio 7**\n",
        "\n",
        "Crear el TDA **“SalaDeCine”** que modela una sala de cine con los siguientes componentes: una estructura que permita almacenar las butacas, un elemento por cada butaca (por defecto será una sala de 30 filas, con 40 asientos cada una), el número de sala, el tipo (2 posibles: “2D” o “3D”). La sala se va ocupando con espectadores, un espectador se define por dos cosas, dni y edad.\n",
        "\n",
        "Escribir para el TDA **SalaDeCine** al menos las siguientes operaciones:\n",
        "\n",
        "*  **init(numero, tipo, cantFilas, cantAsientos)**: que construye una variable de tipo SalaDeCine\n",
        "*  **ocuparAsiento(fila,columna, edad)**: que recibe por parámetros la ubicación del espectador que ingresa (fila y columna) y ocupa la\n",
        "butaca con el espectador. Si la butaca no existe o esta ocupada debe lanzar una excepción.\n",
        "*  **asientosVaciosFila(fila)**: que recibe un número de fila y devuelve la cantidad de butacas vacías en esa fila.\n",
        "*  **gananciaTotal()**: que calcula la ganancia total de la función, teniendo en cuenta que la entrada de los menores de 14 años sale \\$2500 y la de los mayores \\$4000 en las salas 2D y \\$4000 y \\$6000 en las salas 3D.\n",
        "*  **vaciarSala()**: que vacía la sala luego de que termine la película, marcando como desocupada a todas las butacas para la próxima función."
      ],
      "metadata": {
        "id": "5A7RznIiuyT-"
      }
    },
    {
      "cell_type": "code",
      "source": [
        "import numpy as np\n",
        "class SalaDeCine:\n",
        "    def __init__(self, nroDeSala: int, tipo:str, cantFilas:int = 30, cantButacas:int = 40) -> None:\n",
        "      #los que tenga valores predeterminados deben ir al final en parametros\n",
        "        self.__nroDeSala = nroDeSala\n",
        "        self.__tipo = tipo\n",
        "        self.__sala = np.empty((cantFilas, cantButacas), Espectador)\n",
        "\n",
        "    def __repr__(self) -> str:\n",
        "        return f\"{self.__sala}\"\n",
        "\n",
        "    @property\n",
        "    def sala(self) -> np.array:\n",
        "        return self.__sala\n",
        "\n",
        "    @sala.setter\n",
        "    def sala(self, nuevaSala) -> None:\n",
        "        self.__sala = nuevaSala\n",
        "\n",
        "    def vaciarSala(self) -> None:\n",
        "        nFilas, nCols = self.__sala.shape\n",
        "        self.__sala = np.empty((nFilas, nCols), Espectador)\n",
        "\n",
        "    def ocuparAsiento(self, fila:int , columna:int, dni: int, edad: int) -> None:\n",
        "        #Validar fila y col\n",
        "        if self.esButacaVacia(fila, columna):\n",
        "            self.__sala[fila][columna] = Espectador(dni, edad)\n",
        "        raise Exception(\"La butaca no existe o esta ocupada\")\n",
        "\n",
        "    def asientosVaciosFila(self, fila) -> None:\n",
        "        cantButacasVacias = 0\n",
        "        for col in range(len(self.__sala[fila])):\n",
        "            if self.esButacaVacia(fila, col):\n",
        "                cantButacasVacias += 1\n",
        "        return cantButacasVacias\n",
        "\n",
        "    def esButacaVacia(self, fila: int, columna: int) -> bool:\n",
        "        return self.__sala[fila][columna] == None\n",
        "\n",
        "    def gananciaTotal(self) -> float:\n",
        "        resultado = 0\n",
        "        for i in range(len(self.__sala)):\n",
        "            for e in range(len(self.__sala)):\n",
        "                if not self.esButacaVacia(i, e):\n",
        "                    resutaldo += self.__sala[i][e].precioEntrada(self.__tipo)\n",
        "        return resultado\n",
        "\n",
        "\n",
        "\"\"\"\n",
        "gananciaTotal(): que calcula la ganancia total de la función, teniendo\n",
        "en cuenta que la entrada de los menores de 14 años sale $2500 y la de los mayores $4000 en las salas 2D y $4000 y $6000 en las salas 3D.\n",
        "\"\"\"\n",
        "class Espectador:\n",
        "    def __init__(self, dni: int, edad: int) -> None:\n",
        "        self.__dni = dni\n",
        "        self.__edad = edad\n",
        "\n",
        "    def __repr__(self) -> str:\n",
        "        return f\"Dni: {self.__dni}. Edad: {self.__edad}\"\n",
        "\n",
        "    @property\n",
        "    def dni(self) -> None:\n",
        "        return self.__dni\n",
        "\n",
        "    @property\n",
        "    def edad(self) -> None:\n",
        "        return self.__edad\n",
        "\n",
        "    def precioEntrada(self, tipoDeSala) -> float:\n",
        "        precio = 0\n",
        "\n",
        "        if tipoDeSala == \"2d\":\n",
        "            if self.__edad < 14:\n",
        "                precio = 2500\n",
        "            precio = 4000\n",
        "        else:\n",
        "            if self.__edad < 14:\n",
        "                precio = 4000\n",
        "            precio = 6000\n",
        "        return precio\n",
        "\n",
        "salaCine1= SalaDeCine(1, \"2d\", 5, 5)\n",
        "\n",
        "print(salaCine1)\n",
        "print(salaCine1.asientosVaciosFila(4))"
      ],
      "metadata": {
        "id": "RMhQJAI4Cm-n",
        "colab": {
          "base_uri": "https://localhost:8080/"
        },
        "outputId": "04fe3ff7-999e-47c2-bf4a-cd82dccd163b"
      },
      "execution_count": 12,
      "outputs": [
        {
          "output_type": "stream",
          "name": "stdout",
          "text": [
            "[[None None None None None]\n",
            " [None None None None None]\n",
            " [None None None None None]\n",
            " [None None None None None]\n",
            " [None None None None None]]\n",
            "5\n"
          ]
        }
      ]
    },
    {
      "cell_type": "markdown",
      "source": [
        "### **Ejercicio 8**\n",
        "\n",
        "La unaHur nos pidió ayuda para administrar los edificios de laboratorios del campus.\n",
        "Se debe crear el TDA **EdificiosLaboratorios** con la cantidad de laboratorios disponibles, cosa que no va a cambiar.\n",
        "\n",
        "Cada laboratorio tiene una cantidad de computadoras, una cantidad de sillas y la cantidad de ventanas.\n",
        "\n",
        "Se recomienda crear primero el TDA **Laboratorio**.\n",
        "\n",
        "Implementar al menos las siguientes operaciones del TDA **EdificioLaboratorios**:\n",
        "\n",
        "- **definirLaboratorio(indiceLaboratorio, cantCompus, cantSillas, cantVentanas)**: donde el índice está entre 0 y la cantidad de laboratorios que tiene el edificio. Si el laboratorio ya existía, es decir, la posicion estaba ocupada en el edificio, se tiene que redefinir (modificar).\n",
        "\n",
        "- **laboratorioConMasVentanas()**: que devuelve el laboratorio con más ventanas en el edificio. Notar que no necesariamente están todos los laboratorios definidos.\n",
        "\n",
        "- **laboratoriosGrandes(nCompus)**: que retorna la cantidad de laboratorios en el edificio que tienen mas computadoras que la cantidad que se recibe por parámetro.\n",
        "\n",
        "- **vaciarLaboraratorios()**: que elimina los laboratorios definidos\n",
        "\n",
        "¡No son las únicas operaciones necesarias, agregar los métodos que crean necesarios, como el constructor!"
      ],
      "metadata": {
        "id": "lTo6mmMiKPrM"
      }
    },
    {
      "cell_type": "code",
      "source": [
        "\n",
        "import numpy as np\n",
        "\n",
        "class Laboratorio:\n",
        "    def __init__(self, cantCompus: int, cantSilla: int, cantVentanas: int) -> None:\n",
        "          self.__cantCompus = cantCompus\n",
        "          self.__cantSilla = cantSilla\n",
        "          self.__cantVentanas = cantVentanas\n",
        "\n",
        "    def __repr__(self) -> str:\n",
        "        return \"L\"\n",
        "\n",
        "    @property\n",
        "    def cantVentanas(self) -> int:\n",
        "        return self.__cantVentanas\n",
        "\n",
        "    def tieneNCompus(self, numAComparar: int) -> bool:\n",
        "        return self.__cantComputadoras > numAComparar\n",
        "\n",
        "class EdificiosLaboratorios:\n",
        "    def __init__(self, cantLaboratorios: int) -> None:\n",
        "        self.__edificio = np.empty(cantLaboratorios, Laboratorio)\n",
        "\n",
        "    @property\n",
        "    def edificio(self) -> np.array:\n",
        "        return self.__edificio\n",
        "\n",
        "    def definirLaboratorio(self, indiceLab: int, cantCompus:int, cantSillas:int, cantVentanas:int) -> None:\n",
        "        if self.existeLab(indiceLab)\n",
        "            self.__edificio[indiceLab] = Laboratorio(cantCompus, cantSillas, cantVentanas)\n",
        "        else:\n",
        "            self.__edificio[indiceLab] = Laboratorio(cantCompus, cantSillas, cantVentanas)\n",
        "\n",
        "    def existeLab(self, indiceLab: int) -> bool:\n",
        "        return self.__edificio[indiceLab] != None\n",
        "\n",
        "    def laboratorioConMasVentanas(self) -> \"Laboratorio\":\n",
        "        labConMasVentanas = None\n",
        "\n",
        "        for i in range(self.__edificio):\n",
        "            if self.existeLab(i):\n",
        "                labConMasVentanas = self.masVentanas(labConMasVentanas, self.__edificio[i])\n",
        "\n",
        "    def masVentanas(unLab, otroLab) -> \"Laboratorio\":\n",
        "        resultado = otroLab\n",
        "\n",
        "        if unLab.cantVentanas > otroLab.cantVentanas:\n",
        "            resultado = unLab\n",
        "\n",
        "        return unLab\n",
        "\n",
        "    def vaciarLaboraratorios(self) -> None:\n",
        "        self.__edificio = np.empty(len(self.__edificio), Laboratorio)\n",
        "\n"
      ],
      "metadata": {
        "id": "Y03Esb9tCoPI"
      },
      "execution_count": null,
      "outputs": []
    },
    {
      "cell_type": "markdown",
      "source": [
        "### **Ejercicio 9**\n",
        "\n",
        "En UNAHUR nos pidieron ayuda para poder tomar exámenes en las aulas.\n",
        "Un examen tiene una fecha y un aula con cierta capacidad. El aula tiene una cantidad de hileras con mesas y cada hilera tiene la misma cantidad de mesas.\n",
        "Lo que se necesita hacer es asignar una fecha al examen y en qué mesas se tiene que sentar cada estudiante (Se debe sentar una/o estudiante por mesa). Una/o estudiante se define con su nombre y su DNI.\n",
        "\n",
        "El criterio para “sentar” estudiantes es:\n",
        "\n",
        "No puede haber 2 estudiantes consecutivos en la misma hilera (no se puede tener a otra/o estudiante a ambos los lados).\n",
        "\n",
        "Implementar el TDA **Examen** que contenga al menos las siguientes operaciones:\n",
        "\n",
        "- **init**: que recibe la fecha, la cantidad de hileras y la cantidad de mesas por hilera del aula.\n",
        "- **asignarLugar(nombre, dni)**:\tque recibe los datos de un/a estudiante y la/o acomoda en el aula retornando la posición. Si el aula esta llena debe lanzar una excepción.\n",
        "- **alumnosJovenes(dni)**: que cuenta y retorna la cantidad de estudiantes que poseen un numero de DNI mayor al que se recibe por parámetro.\n",
        "- **empezarDeNuevo()**: que deja el aula sin asignar (vacía).\n",
        "\n",
        "No son las únicas operaciones necesarias, agregar las operaciones y funciones que consideren necesarios, como por ejemplo __repr__."
      ],
      "metadata": {
        "id": "SOatvMB9KVPd"
      }
    },
    {
      "cell_type": "code",
      "source": [],
      "metadata": {
        "id": "gMPQyQ_5Cq8x"
      },
      "execution_count": null,
      "outputs": []
    }
  ]
}
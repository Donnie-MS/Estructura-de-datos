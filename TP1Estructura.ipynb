{
  "nbformat": 4,
  "nbformat_minor": 0,
  "metadata": {
    "colab": {
      "provenance": [],
      "authorship_tag": "ABX9TyOfxxxZJUOEFeRC4N//fnt6"
    },
    "kernelspec": {
      "name": "python3",
      "display_name": "Python 3"
    },
    "language_info": {
      "name": "python"
    }
  },
  "cells": [
    {
      "cell_type": "markdown",
      "source": [
        "La unaHur nos pidió ayuda para administrar a los alumnos (TDA Alumno).\n",
        "Cada alumno tiene nombre, dni, y se espera almacenar 20 parciales el total para cada alumno. Los parciales comienzan vacíos y se van llenando a medida que se cargan las notas.\n",
        "Cada parcial (TDA Parcial) tiene una fecha (un número entero el cual puede ser usado como índice (asumimos que es un número entre 0 y 19), una materia (string) y una nota correspondiente.\n",
        "\n",
        "Implementar al menos las siguientes operaciones del TDA Alumno:\n",
        "\n",
        "__init__(self, nombreAlumno, dni)\n",
        "rendirParcial(self, indiceParcial, materia, nota): Que debe crear un Parcial y almacenarlo en el índice de parciales correspondiente.  Si el índice o la nota no son correctos se debe arrojar una excepción.\n",
        "\n",
        "obtenerNotas(self)--> np.array:  devuelve un array de notas, solo de los parciales que tengan nota. Atención, pueden ser menos 20 elementos.\n",
        "\n",
        "__repr__(self)--> str: además de los parciales se debe devolver el promedio .\n",
        "\n",
        "No son las únicas operaciones necesarias, agregar las operaciones y funciones que consideren necesario.\n",
        "\n"
      ],
      "metadata": {
        "id": "DVhEnqhP0tpK"
      }
    },
    {
      "cell_type": "code",
      "execution_count": 23,
      "metadata": {
        "colab": {
          "base_uri": "https://localhost:8080/"
        },
        "id": "X6zXdE8t0kut",
        "outputId": "a4ad9d1d-3070-48d3-9578-f8d74cc97a80"
      },
      "outputs": [
        {
          "output_type": "stream",
          "name": "stdout",
          "text": [
            "[MATERIA :Objetos (Fecha: 0) Nota: 10.0 MATERIA :ED (Fecha: 5) Nota: 8.0]\n",
            "[10.  8.]\n",
            "Pedro, sus notas son: [10.  8.] y tiene un promedio de :9.0\n"
          ]
        }
      ],
      "source": [
        "import numpy\n",
        "def validarTipo(variable:any, nombre:str, tipo:type)-> any:\n",
        "  if not isinstance(variable, tipo):\n",
        "    raise Exception(f\"{nombre} debe ser de tipo {tipo}.\")\n",
        "\n",
        "def validarNumeroEntre(num1:float, num2:float, nroAValidar: float) -> bool:\n",
        "    if not (nroAValidar >= num1 and nroAValidar <= num2):\n",
        "        raise Exception(f\"Ingrese un numero entre {num1} y {num2}\")\n",
        "\n",
        "def validarNumeroEnteroPositivo(numero:int,)->int:\n",
        "  validarTipo(numero, \"numero\", int)\n",
        "  if numero < 0:\n",
        "    raise Exception(f\"El numero debe ser un número entero positivo.\")\n",
        "\n",
        "\n",
        "class Alumno :\n",
        "    def __init__(self, nombre:str, dni: int) -> None:\n",
        "        validarNumeroEnteroPositivo(dni)\n",
        "        validarTipo(nombre, \"nombre\",str)\n",
        "        self.__parciales = numpy.empty(20, Parcial)\n",
        "        self.__dni = dni\n",
        "        self.__nombre = nombre\n",
        "\n",
        "    def __repr__(self) -> str:\n",
        "        return f\"{self.__nombre}, sus notas son: {self.obtenerNotas()} y tiene un promedio de :{self.promedio()}\"\n",
        "\n",
        "    def parcialesValidos(self) -> numpy.array:\n",
        "        parcialesCargados = self.__parciales != None\n",
        "        parcialesValidos = self.__parciales[parcialesCargados]\n",
        "        return parcialesValidos\n",
        "\n",
        "    def cantParcialesValidos(self) -> int:\n",
        "        return len(self.parcialesValidos())\n",
        "\n",
        "    def promedio(self) -> float:\n",
        "        notas = self.obtenerNotas()\n",
        "        notasTotal = 0\n",
        "        for i in notas:\n",
        "            notasTotal += i\n",
        "        return notasTotal / self.cantParcialesValidos()\n",
        "\n",
        "    def rendirParcial(self, indiceParcial:int, materia:str, nota:float) -> None:\n",
        "        self.__parciales[indiceParcial] = Parcial(indiceParcial, materia, nota)\n",
        "\n",
        "    def obtenerNotas(self) -> numpy.array:\n",
        "        parcialesValidos = self.parcialesValidos()\n",
        "        resultado = numpy.empty(len(parcialesValidos), float)\n",
        "\n",
        "        for i in range(len(parcialesValidos)):\n",
        "            resultado[i] = parcialesValidos[i].nota()\n",
        "\n",
        "        return resultado\n",
        "\n",
        "class Parcial:\n",
        "    def __init__(self, indiceParcial: int, materia:str, nota: float) -> None:\n",
        "        validarNumeroEntre(0, 19, indiceParcial)\n",
        "        validarTipo(indiceParcial, \"indice parcial\", int)\n",
        "        validarNumeroEntre(0, 10, nota)\n",
        "        validarTipo(nota, \"nota\", float)\n",
        "        validarTipo(materia, \"materia\", str)\n",
        "        self.__indiceParcial = indiceParcial\n",
        "        self.__materia = materia\n",
        "        self.__nota = nota\n",
        "    def nota(self) :\n",
        "        return self.__nota\n",
        "\n",
        "    def __repr__(self) -> str:\n",
        "        return f\"MATERIA :{self.__materia} (Fecha: {self.__indiceParcial}) Nota: {self.__nota}\"\n",
        "\n",
        "alumno1 = Alumno(\"Pedro\", 22222222)\n",
        "alumno2 = Alumno(\"Carlos\", 1111111)\n",
        "\n",
        "#rinde el parcial indice 0 con nota 1.0\n",
        "# Atención: Crear el parcial antes de agregar al arreglo\n",
        "alumno1.rendirParcial(0,\"Objetos\",1.0)\n",
        "\n",
        "# redefinimos la nota del parcial 0\n",
        "# Atención: Acá el parcial ya existe. Lo modificamos.\n",
        "alumno1.rendirParcial(0,\"Objetos\",10.0)\n",
        "\n",
        "alumno1.rendirParcial(5,\"ED\",8.0)\n",
        "print(alumno1.parcialesValidos())\n",
        "# imprime un arreglo solo con dos elementos (10.0 y 8.0)\n",
        "print(alumno1.obtenerNotas())\n",
        "\n",
        "# imprime el nombre, las notas y el promedio (9.0)\n",
        "print(alumno1)\n"
      ]
    }
  ]
}
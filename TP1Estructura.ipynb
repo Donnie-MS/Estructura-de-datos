{
  "nbformat": 4,
  "nbformat_minor": 0,
  "metadata": {
    "colab": {
      "provenance": [],
      "authorship_tag": "ABX9TyOGd+0d0njUt+0RbAMYO14M"
    },
    "kernelspec": {
      "name": "python3",
      "display_name": "Python 3"
    },
    "language_info": {
      "name": "python"
    }
  },
  "cells": [
    {
      "cell_type": "markdown",
      "source": [
        "La unaHur nos pidió ayuda para administrar a los alumnos (TDA Alumno).\n",
        "Cada alumno tiene nombre, dni, y se espera almacenar 20 parciales el total para cada alumno. Los parciales comienzan vacíos y se van llenando a medida que se cargan las notas.\n",
        "Cada parcial (TDA Parcial) tiene una fecha (un número entero el cual puede ser usado como índice (asumimos que es un número entre 0 y 19), una materia (string) y una nota correspondiente.\n",
        "\n",
        "Implementar al menos las siguientes operaciones del TDA Alumno:\n",
        "\n",
        "__init__(self, nombreAlumno, dni)\n",
        "rendirParcial(self, indiceParcial, materia, nota): Que debe crear un Parcial y almacenarlo en el índice de parciales correspondiente.  Si el índice o la nota no son correctos se debe arrojar una excepción.\n",
        "\n",
        "obtenerNotas(self)--> np.array:  devuelve un array de notas, solo de los parciales que tengan nota. Atención, pueden ser menos 20 elementos.\n",
        "\n",
        "__repr__(self)--> str: además de los parciales se debe devolver el promedio .\n",
        "\n",
        "No son las únicas operaciones necesarias, agregar las operaciones y funciones que consideren necesario.\n",
        "\n"
      ],
      "metadata": {
        "id": "DVhEnqhP0tpK"
      }
    },
    {
      "cell_type": "code",
      "execution_count": null,
      "metadata": {
        "id": "X6zXdE8t0kut"
      },
      "outputs": [],
      "source": [
        "\n",
        "class Alumno {\n",
        "    def __init__(self, dni:int, nombre: str) :\n",
        "        self.__parciales = numpy.empty(20, Parcial)\n",
        "        self.__dni = dni\n",
        "        self.__nombre = nombre\n",
        "    :\n",
        "    def rendirParcial(self, indiceParcial, materia, nota) {\n",
        "        self.enpilar()\n",
        "    }\n",
        "}\n",
        "\n",
        "class Parcial {\n",
        "    def __init__(self, fecha: int, materia:str) {\n",
        "\n",
        "    }\n",
        "}"
      ]
    }
  ]
}
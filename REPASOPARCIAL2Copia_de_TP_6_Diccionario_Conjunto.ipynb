{
  "nbformat": 4,
  "nbformat_minor": 0,
  "metadata": {
    "colab": {
      "provenance": []
    },
    "kernelspec": {
      "name": "python3",
      "display_name": "Python 3"
    }
  },
  "cells": [
    {
      "cell_type": "markdown",
      "metadata": {
        "id": "42630xxYD0gZ"
      },
      "source": [
        "# ![alt text](https://upload.wikimedia.org/wikipedia/commons/thumb/c/c3/Python-logo-notext.svg/50px-Python-logo-notext.svg.png) **Trabajo Práctico 6: Diccionarios** ![alt text](https://upload.wikimedia.org/wikipedia/commons/thumb/c/c3/Python-logo-notext.svg/50px-Python-logo-notext.svg.png)\n",
        "\n",
        "En este trabajo práctico, vamos a trabajar con la estructura de datos **Diccionario** basado en el conjunto de Python. Recuerden crear una copia de este archivo en su ***Google Drive*** para tener permisos de edición.\n",
        "\n",
        "### Sergio: **sergio.gonzalez@unahur.edu.ar**"
      ]
    },
    {
      "cell_type": "markdown",
      "source": [
        "Declaracion de conjuntos e inserción de elementos"
      ],
      "metadata": {
        "id": "25DP_bBXUbBS"
      }
    },
    {
      "cell_type": "code",
      "source": [
        "c1 = set()\n",
        "c1.add(3);c1.add(8);c1.add(3.5);c1.add(\"casa\");c1.add(4);\n",
        "print(c1)\n",
        "for dato in c1:\n",
        "  print(dato)\n",
        "\n",
        "c1.remove(8)\n",
        "print(c1)"
      ],
      "metadata": {
        "id": "8zcU9wNVCg2G",
        "colab": {
          "base_uri": "https://localhost:8080/"
        },
        "outputId": "38a7955c-1643-42dc-8ed9-58ff48080058"
      },
      "execution_count": null,
      "outputs": [
        {
          "output_type": "stream",
          "name": "stdout",
          "text": [
            "{3.5, 3, 4, 'casa', 8}\n",
            "3.5\n",
            "3\n",
            "4\n",
            "casa\n",
            "8\n",
            "{3.5, 3, 4, 'casa'}\n"
          ]
        }
      ]
    },
    {
      "cell_type": "markdown",
      "source": [
        "Declaración y manejo de tuplas"
      ],
      "metadata": {
        "id": "EpDL9UZbUiJb"
      }
    },
    {
      "cell_type": "code",
      "source": [
        "t1 = ([2,3],3,4)\n",
        "t1[0].append(5)\n",
        "print(t1)"
      ],
      "metadata": {
        "id": "ABUOStZmCiNV",
        "colab": {
          "base_uri": "https://localhost:8080/"
        },
        "outputId": "a8cebabe-8602-48ab-b3c1-6ed7474d26d1"
      },
      "execution_count": null,
      "outputs": [
        {
          "output_type": "stream",
          "name": "stdout",
          "text": [
            "([2, 3, 5], 3, 4)\n"
          ]
        }
      ]
    },
    {
      "cell_type": "code",
      "source": [
        "c1t = {(2,3),(4,5)}\n",
        "print(c1t)"
      ],
      "metadata": {
        "colab": {
          "base_uri": "https://localhost:8080/"
        },
        "id": "VhUNsIVloXDi",
        "outputId": "158307da-6568-4f1d-a3a5-dd7b85817fd9"
      },
      "execution_count": null,
      "outputs": [
        {
          "output_type": "stream",
          "name": "stdout",
          "text": [
            "{(2, 3), (4, 5)}\n"
          ]
        }
      ]
    },
    {
      "cell_type": "markdown",
      "metadata": {
        "id": "xjXgmD3mskbR"
      },
      "source": [
        "### **Ejercicio 1**\n",
        "\n",
        "Implementar el TDA **Diccionario (Map)**, con las siguientes operaciones (Solo lo tienen que usar, ya esta implementado por nosotros, pero repasen el funcionamiento):\n",
        "- Crear (**\\_\\_init__()**).\n",
        "- **\\_\\_repr__()**: Para poder imprimir por consola.\n",
        "- **insertar(clave, significado)**: Inserta el par **<clave , significado>**, si la clave ya existe no debe modificar el diccionario.\n",
        "- **Asignación con \"dicc[clave] = significado\"**: Permite modificar significados de claves existentes y agregar nuevos pares. Esto se realiza implementado la función **\\_\\_setitem__()**.\n",
        "- **get(clave)**: Recibe una clave y retorna su significado, si la clave no existe lanza una excepción.\n",
        "- **Obtener con \"dicc[clave]\"**: Similar a **get**, pero con el operador **\"[ ]\"**. Esto se realiza implementando la función **\\_\\_getitem__()**.\n",
        "- **len()**: Retorna la cantidad de pares **<clave , significado>** en el diccionario.\n",
        "- **getKeys()**: Retorna lista con claves.\n",
        "- **getValues()**: Retorna lista con significados.\n",
        "- **Operador \"in\"**: Permite la búsqueda dentro del diccionario por las claves, es decir podemos hacer **\"if clave in diccionario\"**.\n",
        "- **remove(clave)**: Elimina el par clave-significado que contiene la clave que recibe como parámetro\n",
        "- **clone()**: Genera nuevo diccionario con el mismo contenido\n",
        "- **clear()**: Vacia diccionario\n",
        "\n",
        "Si quieren iterar el diccionario deben hacer (por ejemplo para imprimir todos los pares clave-significado en diferentes lineas):\n",
        "\n",
        "    \n",
        "    for clave in diccionario.keys():\n",
        "        print(clave, diccionario.get(clave))\n",
        "\n",
        "O el equivalente con el operador **\"[ ]\"**:\n",
        "\n",
        "\n",
        "    for clave in diccionario.keys():\n",
        "        print(clave, dicionario[clave])\n",
        "\n",
        "Aunque tengamos el operador **\"in\"** este sirve solo para búsquedas y no para iterar en diccionario, entonces no se puede hacer:\n",
        "\n",
        "\n",
        "    for clave in diccionario:\n",
        "\n",
        "\n",
        "\n",
        "\n",
        "\n",
        "\n"
      ]
    },
    {
      "cell_type": "code",
      "source": [
        "import copy\n",
        "class Diccionario:\n",
        "  class __TuplaDic:\n",
        "    def __init__(self, key: any, value: any) -> None:\n",
        "      self.__data = (key, value)\n",
        "\n",
        "    def __repr__(self):\n",
        "      return str(self.__data)\n",
        "\n",
        "    def __eq__(self, key) -> bool:\n",
        "      return self.__data[0] == key\n",
        "\n",
        "    def __hash__(self):\n",
        "      return hash(self.__data[0])\n",
        "\n",
        "    def getKey(self) -> any:\n",
        "      return self.__data[0]\n",
        "\n",
        "    def getValue(self) -> any:\n",
        "      return self.__data[1]\n",
        "\n",
        "  def __init__ (self, keys = None, values = None) -> None:\n",
        "      self.__diccionario = set()\n",
        "      if keys != None:\n",
        "        if len(keys) == len(values):\n",
        "          for i in range(len(keys)):\n",
        "            self[keys[i]] = values[i] #funciona por el setItem\n",
        "        else:\n",
        "          raise Exception(\"Las listas deben tener la misma cantidad de elementos\")\n",
        "\n",
        "\n",
        "  def insertar(self, key = None: any, value= None: any) -> None:\n",
        "      if key != None:\n",
        "        self.__diccionario.add(Diccionario.__TuplaDic(key,value))\n",
        "\n",
        "  def __setitem__(self, key = None: any, value = None: any):\n",
        "      if key != None:\n",
        "        if key in self:#funciona por contains\n",
        "          self.__diccionario.remove(key)\n",
        "        self.__diccionario.add(Diccionario.__TuplaDic(key,value))\n",
        "\n",
        "  def __contains__(self, key):\n",
        "      return key in self.__diccionario\n",
        "\n",
        "  def get(self, key: any) -> any:\n",
        "      if key in self:\n",
        "\n",
        "  def clear(self) -> None:\n",
        "    self.__diccionario = set()\n",
        "\n",
        "  def clone(self):\n",
        "    return copy.deepcopy(self.__diccionario)\n"
      ],
      "metadata": {
        "id": "m-0CjktjxpCW"
      },
      "execution_count": null,
      "outputs": []
    },
    {
      "cell_type": "code",
      "metadata": {
        "id": "vM50Hpx6yUDe"
      },
      "source": [
        "import copy as cp\n",
        "\n",
        "class Diccionario:\n",
        "  #######TDA tupla clave-significado#########################\n",
        "  class __TuplaDic:\n",
        "    def __init__(self, key, value):\n",
        "      self.__data = (key,value)\n",
        "\n",
        "    def __repr__(self):\n",
        "      return str(self.__data)\n",
        "\n",
        "    def __eq__(self, key):\n",
        "      return self.__data[0] == key\n",
        "\n",
        "    def __hash__(self):\n",
        "      return hash(self.__data[0])\n",
        "\n",
        "    def getKey(self):\n",
        "      return self.__data[0]\n",
        "\n",
        "    def getValue(self):\n",
        "      return self.__data[1]\n",
        "  ############################################################\n",
        "\n",
        "  ###Constructor recibe dos listas de claves y significados en orden\n",
        "  def __init__(self, keys = None, values = None):\n",
        "    self.__diccionario = set()\n",
        "    if keys != None:\n",
        "      if len(keys) == len(values):\n",
        "        for i in range(len(keys)):\n",
        "          self[keys[i]] = values[i]\n",
        "      else:\n",
        "        raise Exception(\"Las listas de pares clave-significado deben tener la misma cantidad\")\n",
        "\n",
        "  def __repr__(self):\n",
        "    return str(self.__diccionario)\n",
        "\n",
        "  ###Asignacion usando [], se recibe clave entre corchetes / Permite reemplazar aunque exista la clave\n",
        "  def __setitem__(self, key = None, value = None):\n",
        "    if key != None:\n",
        "      if key in self:\n",
        "        self.__diccionario.remove(key)\n",
        "      self.__diccionario.add(Diccionario.__TuplaDic(key,value))\n",
        "\n",
        "  ###No inserta si existe la clave, es decir, si la clave existe en el dicc no modifica el valor\n",
        "  def insert(self, key = None, value = None):\n",
        "    if key != None:\n",
        "      self.__diccionario.add(Diccionario.__TuplaDic(key,value))\n",
        "\n",
        "  ###Elimina si existe la clave, es decir, si la clave existe en el dicc elimina el par clave-valor\n",
        "  ###Sino existe la clave, no hace nada\n",
        "  def remove(self, key):\n",
        "    if key in self:\n",
        "        valor = self[key]\n",
        "        self.__diccionario.remove(key)\n",
        "        return valor\n",
        "\n",
        "  ###Vacia dicc\n",
        "  def clear(self):\n",
        "    self.__diccionario = set()\n",
        "\n",
        "  ###Clonar dicc\n",
        "  def clone(self):\n",
        "    return cp.deepcopy(self)\n",
        "\n",
        "  ###Acceso a valores usando [], se recibe clave entre corchetes\n",
        "  def __getitem__(self, key):\n",
        "    value = None\n",
        "    flag = False\n",
        "    for tuplaDic in self.__diccionario:\n",
        "      if tuplaDic.getKey() == key:\n",
        "        value = tuplaDic.getValue()\n",
        "        flag = True\n",
        "    if flag:\n",
        "      return value\n",
        "    else:\n",
        "      raise Exception(\"No existe la clave %s en el diccionario\" % (key))\n",
        "\n",
        "  ###Retorna valor de la clave que se recibe por parametro\n",
        "  def get(self, key):\n",
        "    value = None\n",
        "    flag = False\n",
        "    for tuplaDic in self.__diccionario:\n",
        "      if tuplaDic.getKey() == key:\n",
        "        value = tuplaDic.getValue()\n",
        "        flag = True\n",
        "    if flag:\n",
        "      return value\n",
        "    else:\n",
        "      raise Exception(\"No existe la clave %s en el diccionario\" % (key))\n",
        "\n",
        "  ###Retorna lista con claves\n",
        "  def keys(self):\n",
        "    return [x.getKey() for x in self.__diccionario]\n",
        "\n",
        "  ###Retorna lista con valores\n",
        "  def values(self):\n",
        "    return [x.getValue() for x in self.__diccionario]\n",
        "\n",
        "  ###Operador \"in\"\n",
        "  def __contains__(self, key):\n",
        "    return key in self.__diccionario\n",
        "\n",
        "  ###Tamaño de diccionario\n",
        "  def len(self):\n",
        "    return len(self.__diccionario)"
      ],
      "execution_count": 1,
      "outputs": []
    },
    {
      "cell_type": "markdown",
      "source": [
        "Uso de diccionarios"
      ],
      "metadata": {
        "id": "q2B4hcS2CsPd"
      }
    },
    {
      "cell_type": "code",
      "source": [
        "d1 = Diccionario()\n",
        "d1.insert(2,\"casa\")\n",
        "d1.insert(3,\"auto\")\n",
        "d1.insert(2,\"perro\") #No reescribe nuev significado\n",
        "print(d1)\n",
        "d1.remove(2)\n",
        "print(d1)"
      ],
      "metadata": {
        "id": "lIQDvgRMCkwu",
        "colab": {
          "base_uri": "https://localhost:8080/"
        },
        "outputId": "8aee772a-4f26-44d5-cf75-cafe82456446"
      },
      "execution_count": null,
      "outputs": [
        {
          "output_type": "stream",
          "name": "stdout",
          "text": [
            "{(2, 'casa'), (3, 'auto')}\n",
            "{(3, 'auto')}\n"
          ]
        }
      ]
    },
    {
      "cell_type": "code",
      "source": [
        "d1[4] = \"moto\"\n",
        "print(d1)\n",
        "d1[3] = \"mesa\"\n",
        "print(d1)"
      ],
      "metadata": {
        "colab": {
          "base_uri": "https://localhost:8080/"
        },
        "id": "4AEwQ5OQqWWy",
        "outputId": "bbfe6355-c3a1-4db4-d6e0-ca26c269386a"
      },
      "execution_count": null,
      "outputs": [
        {
          "output_type": "stream",
          "name": "stdout",
          "text": [
            "{(3, 'auto'), (4, 'moto')}\n",
            "{(3, 'mesa'), (4, 'moto')}\n"
          ]
        }
      ]
    },
    {
      "cell_type": "code",
      "source": [
        "d1[3]\n",
        "print(d1)"
      ],
      "metadata": {
        "colab": {
          "base_uri": "https://localhost:8080/"
        },
        "id": "NiJ1Gxkqq1ej",
        "outputId": "a664c98c-37cf-47c7-a35a-43df4e9a5cdd"
      },
      "execution_count": null,
      "outputs": [
        {
          "output_type": "stream",
          "name": "stdout",
          "text": [
            "{(3, 'mesa'), (4, 'moto')}\n"
          ]
        }
      ]
    },
    {
      "cell_type": "code",
      "source": [
        "print(3 in d1)"
      ],
      "metadata": {
        "colab": {
          "base_uri": "https://localhost:8080/"
        },
        "id": "PrdUp-u7r24U",
        "outputId": "b716609f-fe7d-417c-ea40-c278c22127cd"
      },
      "execution_count": null,
      "outputs": [
        {
          "output_type": "stream",
          "name": "stdout",
          "text": [
            "True\n"
          ]
        }
      ]
    },
    {
      "cell_type": "code",
      "source": [
        "print(d1)\n",
        "for clave in d1.keys():\n",
        "  print(clave)\n",
        "  print(d1[clave])"
      ],
      "metadata": {
        "colab": {
          "base_uri": "https://localhost:8080/"
        },
        "id": "9zOoHYcLsIx6",
        "outputId": "a1bf5dae-d355-46b4-df2e-dad5564cc913"
      },
      "execution_count": null,
      "outputs": [
        {
          "output_type": "stream",
          "name": "stdout",
          "text": [
            "{(3, 'mesa'), (4, 'moto')}\n",
            "3\n",
            "mesa\n",
            "4\n",
            "moto\n"
          ]
        }
      ]
    },
    {
      "cell_type": "markdown",
      "source": [
        "Listas como significado"
      ],
      "metadata": {
        "id": "5Pzhzr55CyLd"
      }
    },
    {
      "cell_type": "code",
      "source": [],
      "metadata": {
        "id": "SPuZPCliCx8_"
      },
      "execution_count": null,
      "outputs": []
    },
    {
      "cell_type": "markdown",
      "metadata": {
        "id": "I26IE7cG1BeA"
      },
      "source": [
        "### A partir del **Ejercicio 2** vamos a trabajar **fuera del TDA Diccionario** usando la interface que creamos en el **Ejercicio 1**. Es decir,se pueden usar solo las operaciones de la interface, no se puede acceder a los componentes internos del TDA. Si necesitan estructuras auxiliares, pueden usar cualquiera de las estructuras que vimos hasta ahora: Arreglos, Listas, Pilas, Colas, Diccionarios."
      ]
    },
    {
      "cell_type": "markdown",
      "metadata": {
        "id": "Q0D1vzJZzqID"
      },
      "source": [
        "### **Ejercicio 2**\n",
        "\n",
        "Escribir un programa que declare un Diccionario de **<entero , entero>** (clave entero y significado entero) y le agrege 4 pares. Luego debe mostrar el diccionario por pantalla y su tamaño.\n",
        "\n",
        "Finalmente, redefinir 2 significados y volver a imprimir."
      ]
    },
    {
      "cell_type": "code",
      "source": [
        "dic = Diccionario([1,2], [\"casa\", \"torre\"])\n",
        "\n",
        "dic2 = Diccionario()\n",
        "dic2.insert(1, \"casa\")\n",
        "dic2.insert(2, \"casa\")\n",
        "\n",
        "dic3 = Diccionario()\n",
        "dic3[\"edificio\"] = \"casa\"\n",
        "dic3[\"edificio\"] = \"torre\"\n",
        "print(dic3)"
      ],
      "metadata": {
        "colab": {
          "base_uri": "https://localhost:8080/"
        },
        "id": "QEa-gwXhZmZD",
        "outputId": "b40a0cb8-85cd-4ee0-d603-db4bffcb63e9"
      },
      "execution_count": 3,
      "outputs": [
        {
          "output_type": "stream",
          "name": "stdout",
          "text": [
            "{('edificio', 'torre')}\n"
          ]
        }
      ]
    },
    {
      "cell_type": "code",
      "source": [
        "dic = Diccionario([1,2],[\"casa\",\"torre\"])\n",
        "#Diferentes formas de cargar en el dic\n",
        "#1,2 son nuestras claves\n",
        "#\"casa\" y \"torre\" son los valores\n",
        "\n",
        "dic2 = Diccionario()\n",
        "dic2.insert(1,\"casa\")\n",
        "dic2.insert(2,\"torre\")\n",
        "\n",
        "dic3 = Diccionario()\n",
        "dic3[1]= \"casa\"\n",
        "dic3[2]= \"torre\"\n",
        "\n",
        "\n",
        "\n"
      ],
      "metadata": {
        "id": "81KX6TytC19F",
        "colab": {
          "base_uri": "https://localhost:8080/"
        },
        "outputId": "b2cf0168-862d-40f2-d221-c319981f744d"
      },
      "execution_count": null,
      "outputs": [
        {
          "output_type": "stream",
          "name": "stdout",
          "text": [
            "{(1, 'casa'), (2, 'torre')}\n",
            "{(1, 'perro'), (2, 'torre')}\n"
          ]
        }
      ]
    },
    {
      "cell_type": "code",
      "source": [
        "dic4 = Diccionario([1,2,3,4],[\"uno\",\"dos\",\"tres\",\"cuatro\"])\n",
        "print(dic4)\n",
        "\n",
        "dic4[1]=\"perro\" # Modifico el valor en la clave 1\n",
        "dic4[2]=\"gato\"\n",
        "print(dic4)\n",
        "\n",
        "dic4[3]= [2,3,4,6] # Le inserto una lista como valor\n",
        "print(dic4)\n",
        "\n",
        "dic4[3][1]= \"casa\" # Posicion 1 en la lista de la clave 3\n",
        "print(dic4)\n",
        "\n",
        "\n"
      ],
      "metadata": {
        "colab": {
          "base_uri": "https://localhost:8080/"
        },
        "id": "kh97pMgx14Jz",
        "outputId": "cd52a8e3-36b3-4e2f-d9d8-6a2de8121d94"
      },
      "execution_count": null,
      "outputs": [
        {
          "output_type": "stream",
          "name": "stdout",
          "text": [
            "{(1, 'uno'), (2, 'dos'), (3, 'tres'), (4, 'cuatro')}\n",
            "{(1, 'perro'), (2, 'gato'), (3, 'tres'), (4, 'cuatro')}\n",
            "{(1, 'perro'), (2, 'gato'), (3, [2, 3, 4, 6]), (4, 'cuatro')}\n",
            "{(1, 'perro'), (2, 'gato'), (3, [2, 'casa', 4, 6]), (4, 'cuatro')}\n"
          ]
        }
      ]
    },
    {
      "cell_type": "markdown",
      "metadata": {
        "id": "rds3Jsp10bJr"
      },
      "source": [
        "### **Ejercicio 3**\n",
        "\n",
        "Escribir un diccionario con sinónimos. Luego intentar insertar dos pares **<clave , significado>** con claves **repetidas** con la operacion **insert** y ver que sucede."
      ]
    },
    {
      "cell_type": "code",
      "source": [
        "dic1 = Diccionario()\n",
        "dic1.insert(\"perro\", \"animal\")\n",
        "dic1.insert(\"gato\", \"animal\")\n",
        "print(dic1)\n",
        "dic1.insert(\"perro\", \"animal de cuatroPatas\")\n",
        "print(dic1)"
      ],
      "metadata": {
        "id": "9O7ED5nDC3Ol",
        "colab": {
          "base_uri": "https://localhost:8080/"
        },
        "outputId": "04866af9-6286-4fa3-ac8d-3fb61c898e5a"
      },
      "execution_count": 4,
      "outputs": [
        {
          "output_type": "stream",
          "name": "stdout",
          "text": [
            "{('perro', 'animal'), ('gato', 'animal')}\n",
            "{('perro', 'animal'), ('gato', 'animal')}\n"
          ]
        }
      ]
    },
    {
      "cell_type": "markdown",
      "metadata": {
        "id": "-YN0LThH0dO6"
      },
      "source": [
        "### **Ejercicio 4**\n",
        "\n",
        "Escribir una función que dado una lista de enteros me devuelve otra(no necesariamente en el mismo orden) sin los numeros repetidos.\n",
        "\n",
        "Por ejemplo:\n",
        "\n",
        "Lista de entrada = [1 , 3 , 4 , 1 , 2 , 4 , 3 , 2]\n",
        "\n",
        "Lista de salida = [1 , 3 , 2, 4]"
      ]
    },
    {
      "cell_type": "code",
      "source": [
        "from typing import List\n",
        "def eliminarElemsRepetidos(unaLista: list) -> list:\n",
        "  dictAux = Diccionario(unaLista, unaLista)\n",
        "  listaSinRepetidos = dictAux.keys()\n",
        "  return listaSinRepetidos"
      ],
      "metadata": {
        "id": "LkcdO0p1C4DN"
      },
      "execution_count": null,
      "outputs": []
    },
    {
      "cell_type": "markdown",
      "metadata": {
        "id": "_Q_DCTjI3AGK"
      },
      "source": [
        "### **Ejercicio 5**\n",
        "\n",
        "Rehacer le ejercicio 4 pero retornando un diccionario en lugar de una lista.\n",
        "\n",
        "Por ejemplo:\n",
        "\n",
        "Lista de entrada = [1 , 3 , 4 , 1 , 2 , 4 , 3 , 2]\n",
        "\n",
        "Diccionario de salida = { (1 , None) , (3 , None) , (4 , None) , (2 , None) }"
      ]
    },
    {
      "cell_type": "code",
      "source": [
        "def eliminarRepetidosDe(unaLista: list) -> Diccionario:\n",
        "  salida = Diccionario()\n",
        "  for elem in unaLista:\n",
        "    salida.insert(elem)\n",
        "  return salida\n",
        "\n",
        "listaEntrada = [1 , 3 , 4 , 1 , 2 , 4 , 3 , 2]\n",
        "\n",
        "print(eliminarRepetidosDe(listaEntrada))"
      ],
      "metadata": {
        "id": "quxWPPxgC4-l",
        "colab": {
          "base_uri": "https://localhost:8080/"
        },
        "outputId": "11b70059-4e14-4548-8703-13451da68103"
      },
      "execution_count": 8,
      "outputs": [
        {
          "output_type": "stream",
          "name": "stdout",
          "text": [
            "{(1, None), (2, None), (3, None), (4, None)}\n"
          ]
        }
      ]
    },
    {
      "cell_type": "markdown",
      "metadata": {
        "id": "xfP229oY3ODC"
      },
      "source": [
        "### **Ejercicio 6**\n",
        "\n",
        "Escribir una función que recibe una lista de números como parámetro y devuelve un diccionario con los números de la lista como claves y la cantidad de apariciones de cada uno como su significado.\n",
        "\n",
        "Por ejemplo:\n",
        "\n",
        "Lista de entrada = [1 , 3 , 4 , 2 , 1 , 3 , 1 , 4 , 2 , 5 , 2]\n",
        "\n",
        "Diccionario de salida = { (1 , 3) , (3 , 2) , (4 , 2) , (2 , 3) , (5 , 1) }"
      ]
    },
    {
      "cell_type": "code",
      "source": [
        "def contarOcurrencias(unaLista: list) -> Diccionario:\n",
        "  dictResultado = Diccionario()\n",
        "  for numero in unaLista:\n",
        "      dictResultado.insert(numero, 0)\n",
        "      dictResultado[numero] += 1\n",
        "  return dictResultado\n",
        "\n",
        "\n",
        "print(contarOcurrencias([1 , 3 , 4 , 2 , 1 , 3 , 1 , 4 , 2 , 5 , 2]))"
      ],
      "metadata": {
        "id": "ZyQJRxNMC5xG",
        "colab": {
          "base_uri": "https://localhost:8080/"
        },
        "outputId": "95d86275-8130-4cf7-a64c-007ad1b0ef31"
      },
      "execution_count": 14,
      "outputs": [
        {
          "output_type": "stream",
          "name": "stdout",
          "text": [
            "{(1, 3), (2, 3), (3, 2), (4, 2), (5, 1)}\n"
          ]
        }
      ]
    },
    {
      "cell_type": "markdown",
      "metadata": {
        "id": "nxgYjoxl3gmz"
      },
      "source": [
        "### **Ejercicio 7**\n",
        "\n",
        "Escribir una función que recibe dos diccionarios y devuelve otro con la mezcla de los dos, para las claves repetidas, se queda con los significados de primer diccionario.\n",
        "\n",
        "Por ejemplo:\n",
        "\n",
        "Diccionario de entrada 1 = { (1 , 3) , (3 , 2) , (4 , 4) , (2 , 3) , (5 , 1) }\n",
        "\n",
        "Diccionario de entrada 2 = { (10 , 3) , (3 , 5) , (2 , 30) , (8 , 1) , (9 , 3) }\n",
        "\n",
        "Diccionario de salida = { (1 , 3) , (3 , 2) , (4 , 4) , (2 , 3) , (5 , 1) , (10 , 3) , (8 , 1) , (9 , 3) }"
      ]
    },
    {
      "cell_type": "code",
      "source": [
        "def mezclarDiccionarios(unDiccionario: Diccionario, otroDiccionario: Diccionario) -> Diccionario:\n",
        "  dictMezclado = unDiccionario.clone()\n",
        "  for key in otroDiccionario.keys():\n",
        "    dictMezclado.insert(key , otroDiccionario[key])\n",
        "  return dictMezclado\n",
        "diccionario_entrada1 = Diccionario([1 , 3 , 4 , 2 , 5] , [3 , 2 , 4 , 3 , 1])\n",
        "diccionario_entrada2 = Diccionario([10 , 3 , 2 , 8 , 9] , [3 , 5 , 30 , 1 , 3])\n",
        "\n",
        "diccionario_salida = mezclarDiccionarios(diccionario_entrada1 , diccionario_entrada2)\n",
        "\n",
        "print(diccionario_salida)"
      ],
      "metadata": {
        "id": "iNpZStaoC6zm",
        "colab": {
          "base_uri": "https://localhost:8080/"
        },
        "outputId": "b74bf270-5a00-4199-d840-3f2e4087484a"
      },
      "execution_count": 12,
      "outputs": [
        {
          "output_type": "stream",
          "name": "stdout",
          "text": [
            "{(1, 3), (2, 3), (3, 2), (4, 4), (5, 1), (8, 1), (9, 3), (10, 3)}\n"
          ]
        }
      ]
    },
    {
      "cell_type": "markdown",
      "metadata": {
        "id": "OLopy2zK38Am"
      },
      "source": [
        "### **Ejercicio 8**\n",
        "\n",
        "Escribir una función que modele el problema de administrar las materias que cursa un alumno.\n",
        "Es decir que reciba un diccionario, un alumno y una materia y agregue esa materia a las materias que cursa.\n",
        "\n",
        "**Nota: La lista de materias de cada alumno no debe tener materias repetidas.**\n",
        "\n",
        "Por ejemplo:\n",
        "\n",
        "Diccionario = { ( \"Alumno1\" , [\"Materia1\" , \"Materia2\"] )   ,   ( \"Alumno2\", [ \"Materia2\" , \"Materia3\" , \"Materia4\" ] ) }\n"
      ]
    },
    {
      "cell_type": "code",
      "source": [
        "def administrarMaterias(unDiccionario, unAlumno, unaMateria) -> Diccionario:\n",
        "  if not unAlumno in diccionarioMaterias.keys():\n",
        "    unDiccionario[unAlumno] = unaMateria\n",
        "  else:\n",
        "    if not unaMateria in unDiccionario.get(unAlumno):\n",
        "      unDiccionario[unAlumno].append(unaMateria)\n",
        "    else:\n",
        "      raise Exception (\"\")\n",
        "  return unDiccionario\n",
        "\n",
        "\n",
        "diccionarioMaterias = Diccionario(['Alumno1' , 'Alumno2'] , [['Materia1' , 'Materia2'] , ['Materia2' , 'Materia3' , 'Materia4']])\n",
        "print(diccionarioMaterias)\n",
        "\n",
        "administrarMaterias(diccionarioMaterias , 'ALUMNX3' , 'MATERIA 5')\n",
        "print(diccionarioMaterias)\n",
        "\n",
        "administrarMaterias(diccionarioMaterias , 'Alumno1' , 'Materia3')\n",
        "print(diccionarioMaterias)"
      ],
      "metadata": {
        "id": "HFWkH-h4C7mm",
        "colab": {
          "base_uri": "https://localhost:8080/"
        },
        "outputId": "c7bd40b0-a923-4c4b-dcfd-1718f08891b1"
      },
      "execution_count": 19,
      "outputs": [
        {
          "output_type": "stream",
          "name": "stdout",
          "text": [
            "{('Alumno1', ['Materia1', 'Materia2']), ('Alumno2', ['Materia2', 'Materia3', 'Materia4'])}\n",
            "{('ALUMNX3', 'MATERIA 5'), ('Alumno1', ['Materia1', 'Materia2']), ('Alumno2', ['Materia2', 'Materia3', 'Materia4'])}\n",
            "{('ALUMNX3', 'MATERIA 5'), ('Alumno1', ['Materia1', 'Materia2', 'Materia3']), ('Alumno2', ['Materia2', 'Materia3', 'Materia4'])}\n"
          ]
        }
      ]
    },
    {
      "cell_type": "markdown",
      "source": [
        "### **Ejercicio 9**\n",
        "\n",
        "Escribir una función listaToDic que recibe una lista con chirimbolos y devuelve un diccionario con cada chirimbolo como clave y como significado una matriz de nxn donde n es la cantidad de veces que aparece el chirimbolo en la lista. La matriz se debe llenar con el chirimbolo de la clave.\n",
        "Se debe resolver usando las operaciones del TDA diccionario que vimos en clase, sin violar el encapsulamiento ni utilizando estructuras auxiliares. Si es necesario definir funciones auxiliares.\n",
        "Ejemplo:\n",
        "\n",
        "```\n",
        "lista = [‘*’, ‘#’, ‘/’, ‘*’, ‘#’, ‘/’, ‘*’, ‘$’]\n",
        "listaToDic(lista) –> Diccionario\n",
        "Entonces, listaToDic(lista) =>\n",
        "{(‘*’,  [[‘*’,‘*’,‘*’],[‘*’,‘*’,‘*’],[‘*’,‘*’,‘*’]]) , (‘$’ , [[‘$’]]), (‘/’ , [[‘/’,‘/’],[‘/’,‘/’]]) , (‘#’ , [[‘#’,‘#’],[‘#’,‘#’]])}\n",
        "```\n",
        "\n",
        "Ayuda: Se recomienda generar primero la matriz con ceros y luego reemplazarlos o bien utilizar la funcion np.full(...)."
      ],
      "metadata": {
        "id": "dOTeL0tXJJKG"
      }
    },
    {
      "cell_type": "code",
      "source": [
        "def listaToDic(chirimbolos: list) -> Diccionario:\n",
        "    resultadoDict = Diccionario()\n",
        "    for chirimbolo in chirimbolos:\n",
        "        if not chirimbolo in resultadoDict:\n",
        "            n = cantVecesDeUnElem(chirimbolos, chirimbolo)\n",
        "            matriz = construirMatrizNxN(chirimbolo, n)\n",
        "            resultadoDict.insert(chirimbolo, matriz)\n",
        "    return resultadoDict\n",
        "\n",
        "def cantVecesDeUnElem(lista: list, elem) -> int:\n",
        "    contador = 0\n",
        "    for x in lista:\n",
        "        if x == elem:\n",
        "            contador += 1\n",
        "    return contador\n",
        "\n",
        "def construirMatrizNxN(elem, n: int) -> list:\n",
        "    matriz = []\n",
        "    for _ in range(n):\n",
        "        fila = []\n",
        "        for _ in range(n):\n",
        "            fila.append(elem)\n",
        "        matriz.append(fila)\n",
        "    return matriz\n",
        "\n",
        "\n",
        "chirimbolos = ['*', '#', '/', '*', '#', '/', '*', '$']\n",
        "chirimbolos_to_dic = listaToDic(chirimbolos)\n",
        "print(chirimbolos_to_dic)"
      ],
      "metadata": {
        "id": "6PdVHKGgC9w9",
        "colab": {
          "base_uri": "https://localhost:8080/"
        },
        "outputId": "5f5a27db-c683-44c8-9c5e-793d48a6a729"
      },
      "execution_count": 41,
      "outputs": [
        {
          "output_type": "stream",
          "name": "stdout",
          "text": [
            "{('*', [['*', '*', '*'], ['*', '*', '*'], ['*', '*', '*']]), ('$', [['$']]), ('#', [['#', '#'], ['#', '#']]), ('/', [['/', '/'], ['/', '/']])}\n"
          ]
        }
      ]
    },
    {
      "cell_type": "code",
      "source": [
        "def construirMatrizNxN(elem, n: int) -> list:\n",
        "    matriz = []\n",
        "    matriz = [elem] * n\n",
        "    return matriz\n",
        "print(construirMatrizNxN(2, 5))"
      ],
      "metadata": {
        "colab": {
          "base_uri": "https://localhost:8080/"
        },
        "id": "wLH4ZX9ACbvz",
        "outputId": "a8fe3cdf-5097-414f-d04c-feacbb722975"
      },
      "execution_count": 44,
      "outputs": [
        {
          "output_type": "stream",
          "name": "stdout",
          "text": [
            "[2, 2, 2, 2, 2]\n"
          ]
        }
      ]
    },
    {
      "cell_type": "markdown",
      "source": [
        "### **Ejercicio 10**\n",
        "\n",
        "Escribir la función promedios que recibe una lista de materias (strings) y una lista de notas (enteros) del mismo tamaño. Retorna un diccionario que posee como clave cada materia y como significado su nota promedio.\n",
        "Se debe resolver usando las operaciones del TDA diccionario que vimos en clase, sin violar el encapsulamiento ni utilizando estructuras auxiliares.\n",
        "Por ejemplo:\n",
        "\n",
        "\n",
        "listaMaterias = [“Intro Prog”, **“Objetos”**, “Estructura de Datos”, “Intro Prog”, ”Inglés”, **“Objetos”**, “Estructura de Datos”]\n",
        "\n",
        "listaNotas = [4, **4**, 4, 6, 7, **6**, 6]\n",
        "\n",
        "dic  = promedios(listaMaterias , listaNotas)\n",
        "\n",
        "Entonces, dic = { (“Intro Prog”, 5) , (“Estructura de Datos”,  5) , (”Inglés”, 7) , ( “Objetos”, 5) }"
      ],
      "metadata": {
        "id": "4M7_QzmDJdUc"
      }
    },
    {
      "cell_type": "code",
      "source": [
        "def promedios(listaMaterias:list, listaNotas: list) -> Diccionario:\n",
        "  validarSiSonMismoTamanio(listaMaterias, listaNotas)\n",
        "  resultado = Diccionario()\n",
        "\n",
        "  for i in range(len(listaMaterias)):\n",
        "    if listaMaterias[i] in resultado:\n",
        "      resultado[listaMaterias[i]] += listaNotas[i]\n",
        "    else:\n",
        "      resultado[listaMaterias[i]] = listaNotas[i]\n",
        "\n",
        "  for key in resultado.keys():\n",
        "    resultado[key] = resultado.get(key) / cantVecesDeUnElem(listaMaterias, key)\n",
        "  return resultado\n",
        "\n",
        "  #sumar todo y luego contar las ocurrencias y dividirlo\n",
        "def cantVecesDeUnElem(lista: list, elem) -> int:\n",
        "    contador = 0\n",
        "    for x in lista:\n",
        "        if x == elem:\n",
        "            contador += 1\n",
        "    return contador\n",
        "\n",
        "def validarSiSonMismoTamanio(unaLista, otraLista: list) -> None:\n",
        "  if not sonDelMismoTamanio(unaLista, otraLista):\n",
        "    raise Exception(\"No son del mismo tamaño las listas\")\n",
        "\n",
        "\n",
        "\n",
        "\n",
        "def sonDelMismoTamanio(unaLista: list, otraLista: list) -> bool:\n",
        "  return len(unaLista) == len(otraLista)\n",
        "\n",
        "\n",
        "listaMaterias = [\"Intro Prog\", \"Objetos\", \"Estructura de Datos\", \"Intro Prog\", \"Inglés\", \"Objetos\", \"Estructura de Datos\"]\n",
        "listaNotas = [4, 4, 4, 6, 7, 6, 6]\n",
        "\n",
        "promedios(listaMaterias , listaNotas)"
      ],
      "metadata": {
        "id": "HGtawaoIC-sO",
        "colab": {
          "base_uri": "https://localhost:8080/"
        },
        "outputId": "5139a9f2-439b-47ae-e2aa-5835d8f5c524"
      },
      "execution_count": 48,
      "outputs": [
        {
          "output_type": "execute_result",
          "data": {
            "text/plain": [
              "{('Intro Prog', 5.0), ('Objetos', 5.0), ('Inglés', 7.0), ('Estructura de Datos', 5.0)}"
            ]
          },
          "metadata": {},
          "execution_count": 48
        }
      ]
    },
    {
      "cell_type": "markdown",
      "metadata": {
        "id": "rc3aFx7i5g13"
      },
      "source": [
        "### **Ejercicio 11**\n",
        "\n",
        "Tenemos un diccionario del tipo **<Entero , Lista de enteros>** (clave número entero, significado lista de enteros) que dado un numero **X**, guarda las posibles combinaciones de ese número con otros.\n",
        "\n",
        "Escribir una función que recibe un diccionario de este tipo y devuelve una lista con los posibles pares de números (en formato de tupla).\n",
        "\n",
        "Por ejemplo:\n",
        "\n",
        "Diccionario de entrada = { (5 , [5 , 3 , 7 ] )  ,  ( 8, [ 15 , 3 ] ) }\n",
        "\n",
        "Lista de salida = [ (5 , 5) ,(5 , 3) , (5 , 7) , (8 , 15) , (8 , 3) ]\n",
        "\n"
      ]
    },
    {
      "cell_type": "code",
      "source": [
        "def posiblesPares(dic1:Diccionario)->list[tuple]:\n",
        "  salida = []\n",
        "  for clave in dic1.keys():\n",
        "    for numero in dic1[clave]:\n",
        "      salida.append((clave,numero))\n",
        "  return salida\n"
      ],
      "metadata": {
        "id": "Y1Ax5gohJPPk"
      },
      "execution_count": null,
      "outputs": []
    },
    {
      "cell_type": "markdown",
      "metadata": {
        "id": "qBL1crPl55oY"
      },
      "source": [
        "### **Ejercicio 12**\n",
        "\n",
        "Escribir una función que haga lo inverso del Ejercicio 9.\n",
        "\n",
        "Por ejemplo:\n",
        "\n",
        "Lista de entrada = [ (5 , 5) ,(5 , 3) , (5 , 7) , (8 , 15) , (8 , 3) ]\n",
        "\n",
        "Diccionario de salida = { (5 , [5 , 3 , 7 ] )  ,  ( 8, [ 15 , 3 ] ) }\n",
        "\n",
        "\n"
      ]
    },
    {
      "cell_type": "code",
      "source": [
        "def onceAlReves(lista:list[tuple[int,int]])->Diccionario:\n",
        "  salida = Diccionario()\n",
        "  for tuplaActual in lista:\n",
        "    salida.insert(tuplaActual[0],[])\n",
        "    salida[tuplaActual[0]].append(tuplaActual[1])\n",
        "\n",
        "    #if not tuplaActual[0] in salida:\n",
        "    #  salida[tuplaActual[0]] = [tuplaActual[1]]\n",
        "    #else:\n",
        "    #  salida[tuplaActual[0]].append(tuplaActual[1])\n",
        "  return salida\n"
      ],
      "metadata": {
        "id": "3Gv1MZc0DAWd"
      },
      "execution_count": null,
      "outputs": []
    },
    {
      "cell_type": "markdown",
      "metadata": {
        "id": "02nV6J1RzOZI"
      },
      "source": [
        "### **Ejercicio 13**\n",
        "\n",
        "Escribir el TDA **MatrizDePixels**, que modele una matriz de pixels (imagen) de **N x M** usando el tipo array del paquete numpy, donde cada pixel tiene un color representado por un número entero entre **0 y 255**.\n",
        "\n",
        "Hacer las operaciones del TDA para crear una MatrizDePixels (por defecto llena de ceros), leer y escribir pixels.\n",
        "\n",
        "Luego pruebenla con estos ejemplos:\n",
        "\n",
        "**a)** Crear una MatrizDePixels de **100 x 100** y agregarle valores a dos pixels.\n",
        "\n",
        "**b)** Crear una MatrizDePixels de **100000 x 50000** y agregarle valores a dos pixels.\n",
        "\n",
        "Explicar porque el inciso **b** da un error\n",
        "\n",
        "\n"
      ]
    },
    {
      "cell_type": "code",
      "source": [
        "import numpy as np\n",
        "class MatrizDePixels:\n",
        "  def __init__(self, cantFilas:int, cantCols:int):\n",
        "    self.__imagen = np.zeros((cantFilas, cantCols), int)\n",
        "\n",
        "  def escribirPixel(self, posFila:int, posCol:int, dato:int)->None:\n",
        "    self.__imagen[posFila, posCol] = dato\n",
        "\n",
        "  def leerPixel(self, posFila:int, posCol:int)->int:\n",
        "    return self.__imagen[posFila, posCol]"
      ],
      "metadata": {
        "id": "DUyBrWKiDB6u"
      },
      "execution_count": null,
      "outputs": []
    },
    {
      "cell_type": "code",
      "source": [
        "m1 = MatrizDePixels(10000000,500000)"
      ],
      "metadata": {
        "id": "Oc3Q2WWUk5zd"
      },
      "execution_count": null,
      "outputs": []
    },
    {
      "cell_type": "markdown",
      "source": [
        "Ahora escribir el TDA **MatrizDePixelsDict**, que modele una matriz de pixels (imagen) de **N x M** usando un diccionario de **<(fila,columna) , pixel>**, donde cada pixel tiene un color representado por un número entero entre **0 y 255** y el par **(fila,columna)** indica la posición del pixel en la matriz.\n",
        "\n",
        "Hacer las operaciones del TDA para crear una MatrizDePixelsDict (por defecto llena de ceros), leer y escribir pixels.\n",
        "\n",
        "Luego pruebenla con estos ejemplos:\n",
        "\n",
        "**a)** Crear una MatrizDePixelsDict de **100 x 100** y agregarle valores a dos pixels.\n",
        "\n",
        "**b)** Crear una MatrizDePixelsDict de **100000 x 50000** y agregarle valores a dos pixels.\n",
        "\n",
        "Explicar porque el inciso **b** ahora si funciona"
      ],
      "metadata": {
        "id": "_GiVemNfJUj8"
      }
    },
    {
      "cell_type": "markdown",
      "source": [
        "**Nota:** Si importan el paquete **sys** pueden usar la función **sys.getsizeof(variable)** que retorna el espacio que ocupa una variable en memoria."
      ],
      "metadata": {
        "id": "SHOMF2WEMDW7"
      }
    },
    {
      "cell_type": "code",
      "source": [
        "class MatrizDePixelsDict:\n",
        "  def __init__(self, cantFilas:int, cantCols:int):\n",
        "    self.__cantFilas = cantFilas\n",
        "    self.__cantCols = cantCols\n",
        "    self.__imagen = Diccionario()\n",
        "\n",
        "  def escribirPixel(self, posFila:int, posCol:int, dato:int)->None:\n",
        "    self.__imagen[(posFila, posCol)] = dato\n",
        "\n",
        "  def leerPixel(self, posFila:int, posCol:int)->int:\n",
        "    dato = 0\n",
        "    if (posFila, posCol) in self.__imagen:\n",
        "      dato = self.__imagen[(posFila, posCol)]\n",
        "    return dato\n",
        "\n",
        "  def __add__(imagen1, imagen2):\n",
        "    pass"
      ],
      "metadata": {
        "id": "P0jcieZmDDRe"
      },
      "execution_count": null,
      "outputs": []
    },
    {
      "cell_type": "markdown",
      "source": [
        "### **Ejercicio 14**\n",
        "\n",
        "Implementar la suma matrices como operación en el TDA **MatrizDePixelsDict** implementado en el Ejercicio 13."
      ],
      "metadata": {
        "id": "a-69eMHdjcSy"
      }
    },
    {
      "cell_type": "code",
      "source": [],
      "metadata": {
        "id": "HUxXguFJeyRL"
      },
      "execution_count": null,
      "outputs": []
    }
  ]
}
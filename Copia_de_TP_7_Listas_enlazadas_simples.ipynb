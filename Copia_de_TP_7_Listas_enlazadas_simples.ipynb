{
  "nbformat": 4,
  "nbformat_minor": 0,
  "metadata": {
    "colab": {
      "provenance": []
    },
    "kernelspec": {
      "name": "python3",
      "display_name": "Python 3"
    }
  },
  "cells": [
    {
      "cell_type": "markdown",
      "metadata": {
        "id": "42630xxYD0gZ"
      },
      "source": [
        "# ![alt text](https://upload.wikimedia.org/wikipedia/commons/thumb/c/c3/Python-logo-notext.svg/50px-Python-logo-notext.svg.png) **Trabajo Práctico 7: Listas enlazadas simples** ![alt text](https://upload.wikimedia.org/wikipedia/commons/thumb/c/c3/Python-logo-notext.svg/50px-Python-logo-notext.svg.png)\n",
        "\n",
        "En este trabajo práctico, vamos a trabajar iterativamente con la estructura de datos **Lista enlazada simple** en Python. Recuerden crear una copia de este archivo en su ***Google Drive*** para tener permisos de edición.\n",
        "\n",
        "### **En los ejercicios de esta guía, no pueden usar para nada las Listas de Python, si deben declarar una lista para algo, usen la implementada por ustedes.**\n",
        "\n",
        "### **Para implementar las operaciones del TDA Lista, tienen que trabajar con los nodos internos de las listas, no con las listas desde afuera.**\n",
        "\n",
        "### Sergio: **sergio.gonzalez@unahur.edu.ar**"
      ]
    },
    {
      "cell_type": "code",
      "source": [
        "\"\"\"\n",
        "Todas las estructuras dinamicas son enlazadas(un encadenamiento de nodos)(es una estructura lineal porque tiene 1 previo y 1 siguiente), las listas en python son arreglos dinamicos\n",
        "estructura no lineales(>=1 previosy >=1 siguiente):\n",
        "arboles y grafos (aunque un arbol es un grafo)\n",
        "una lista es un encadenamiento de nodos tda lista y luego tda nodos\n",
        "\"\"\""
      ],
      "metadata": {
        "id": "dKVTh7fspAnL"
      },
      "execution_count": null,
      "outputs": []
    },
    {
      "cell_type": "markdown",
      "metadata": {
        "id": "xjXgmD3mskbR"
      },
      "source": [
        "### **Ejercicio 1**\n",
        "\n",
        "Implementar el TDA Lista enlazada simple, con las siguientes operaciones:\n",
        "- **\\_\\_init__():** Constructor\n",
        "- **Vaciar**\n",
        "- **Agregar elemento al final (append):** Inserta nuevo nodo al final de la lista con el elemento que recibe como parámetro.\n",
        "- **Insertar elemento:** Recibe un elemento y una posición como parámetro e inserta un nuevo nodo con el elemento en esa posición. Si la posicion es mayor al tamaño de la lista, el elemento se inserta al final.\n",
        "- **Obtener elemento (get):** Recibe una posición y retorna el elemento del nodo en esa posición.\n",
        "- **Eliminar elemento (pop):** Recibe una posición y elimina el nodo en esa posición.\n",
        "- **Obtener tamaño de lista**.\n",
        "- **Esta vacía**.\n",
        "- **Clonar**\n",
        "- **\\_\\_repr__():** Para poder imprimir una Lista por consola\n",
        "\n",
        "**Nota: Cuando usamos posiciones en las listas, tener en cuenta que los indices empiezan en cero, es decir, el primer elemento de la lista esta en la posicion cero.**"
      ]
    },
    {
      "cell_type": "code",
      "source": [
        "class Lista:\n",
        "    class NodoLista:\n",
        "        def __init__(self, dato: any):\n",
        "            self.__dato = dato\n",
        "            self.siguiente = None\n",
        "\n",
        "        def tieneSiguiente(self) -> bool:\n",
        "            return self.siguiente is not None\n",
        "\n",
        "        @property\n",
        "        def dato(self):\n",
        "            return self.__dato\n",
        "\n",
        "        def __repr__(self):\n",
        "            return f\"{self.__dato}\"\n",
        "\n",
        "\n",
        "    def __init__(self):\n",
        "        self.__primero = None\n",
        "\n",
        "    def __repr__(self) -> str:\n",
        "        strSalida = \"primero\"\n",
        "        nodoAux = self.__primero\n",
        "        while nodoAux is not None:\n",
        "            strSalida += f\" -> {nodoAux.dato}\"\n",
        "            nodoAux = nodoAux.siguiente\n",
        "        return strSalida\n",
        "        \"\"\"\n",
        "          nodoAux = self.__primero\n",
        "          resultado = f\"primero->{nodoAux}\"\n",
        "          while nodoAux.tieneSiguiente():\n",
        "            nodoAux = nodoAux.siguiente()\n",
        "          resultado += f\"->{nodoAux}\"\n",
        "        \"\"\"\n",
        "\n",
        "    def estaVacia(self) -> bool:\n",
        "        return self.__primero is None\n",
        "\n",
        "    def len(self) -> int:\n",
        "        nodoAux = self.__primero\n",
        "        contador = 0\n",
        "        while nodoAux is not None:\n",
        "            contador += 1\n",
        "            nodoAux = nodoAux.siguiente\n",
        "        return contador\n",
        "\n",
        "    def append(self, dato: any):\n",
        "        nodoNuevo = Lista.NodoLista(dato)\n",
        "        if self.estaVacia():\n",
        "            self.__primero = nodoNuevo\n",
        "        else:\n",
        "            nodoAux = self.__primero\n",
        "            while nodoAux.tieneSiguiente():\n",
        "                nodoAux = nodoAux.siguiente\n",
        "            nodoAux.siguiente = nodoNuevo\n",
        "\n",
        "\n",
        "# Prueba\n",
        "l1 = Lista()\n",
        "l1.append(5)\n",
        "l1.append(2)\n",
        "l1.append(4)\n",
        "print(l1)\n",
        "print(f\"Longitud: {l1.len()}\")\n"
      ],
      "metadata": {
        "id": "x4yr4PcZnSK9",
        "colab": {
          "base_uri": "https://localhost:8080/"
        },
        "outputId": "3cf2f701-edce-488c-c853-356c775b5c9d"
      },
      "execution_count": 3,
      "outputs": [
        {
          "output_type": "stream",
          "name": "stdout",
          "text": [
            "primero -> 5 -> 2 -> 4\n",
            "Longitud: 3\n"
          ]
        }
      ]
    },
    {
      "cell_type": "markdown",
      "metadata": {
        "id": "Q0D1vzJZzqID"
      },
      "source": [
        "### **Ejercicio 2**\n",
        "\n",
        "Escribir una operación del TDA Lista que intercambie los dos primeros nodos de la lista."
      ]
    },
    {
      "cell_type": "code",
      "source": [],
      "metadata": {
        "id": "okSXEKpDnTTU"
      },
      "execution_count": null,
      "outputs": []
    },
    {
      "cell_type": "markdown",
      "metadata": {
        "id": "mpbNzKecOIQe"
      },
      "source": [
        "### **Ejercicio 3**\n",
        "\n",
        "Escribir la operación del TDA Lista **buscaElemento()** que busque un elemento que recibe por parámetro. La operación debe retornar una lista con las ubicaciones del elemento en la lista de entrada.\n",
        "\n",
        "Por ejemplo:\n",
        "\n",
        "**lista1** = [ 2 , 2 , 1 , 4 , 2 , 8 , 9 , 2 , 10]\n",
        "\n",
        "**posiciones = lista1.buscaElemento(2)**\n",
        "\n",
        "Entonces, **posiciones** = [ 0 , 1 , 4 , 7 ]"
      ]
    },
    {
      "cell_type": "code",
      "source": [],
      "metadata": {
        "id": "Rw_D9XZsnUm1"
      },
      "execution_count": null,
      "outputs": []
    },
    {
      "cell_type": "markdown",
      "metadata": {
        "id": "-YN0LThH0dO6"
      },
      "source": [
        "### **Ejercicio 4**\n",
        "\n",
        "Escribir una operación del TDA Lista que elimine todas las ocurrencias de un elemento que recibe por parámetro y devuelva la cantidad de veces que se elimino el elemento. Se deben eliminar todos los nodos que contengan al elemento.\n",
        "\n",
        "Por ejemplo:\n",
        "\n",
        "**lista1** = [ 2 , 2 , 1 , 4 , 2 , 2 , 8 , 9 , 2 , 10]\n",
        "\n",
        "**cant = lista1.eliminarOcurrencias(2)**\n",
        "\n",
        "Entonces, **cant** = 5  y **lista1** = [ 1 , 4 , 8 , 9 , 10 ]\n",
        "\n",
        "          "
      ]
    },
    {
      "cell_type": "code",
      "source": [],
      "metadata": {
        "id": "nsljYJtvnVsm"
      },
      "execution_count": null,
      "outputs": []
    },
    {
      "cell_type": "markdown",
      "metadata": {
        "id": "_Q_DCTjI3AGK"
      },
      "source": [
        "### **Ejercicio 5**\n",
        "\n",
        "Escribir una operación del TDA Lista que saque el nodo que esta al inicio de la lista (posición cero) y lo ponga en el final. Hacer otra que haga lo contrario, saque el nodo del final y lo ponga al inicio."
      ]
    },
    {
      "cell_type": "code",
      "metadata": {
        "id": "S1y89t3q3BkZ"
      },
      "source": [],
      "execution_count": null,
      "outputs": []
    },
    {
      "cell_type": "markdown",
      "metadata": {
        "id": "xfP229oY3ODC"
      },
      "source": [
        "### **Ejercicio 6**\n",
        "\n",
        "Escribir una operación del TDA Lista que reemplace todas las ocurrencias de un numero por otro. Ambos números los recibe por parámetro.\n",
        "\n",
        "Por ejemplo:\n",
        "\n",
        "\n",
        "**lista1** = [ 2 , 1 , 4 , 8 , 9 , 2 , 5 , 12 , 10]\n",
        "\n",
        "**lista1.reemplazar(2,3)** #Reemplaza todos los 2 por 3\n",
        "\n",
        "Entonces, **lista1** = [ 3 , 1 , 4 , 8 , 9 , 3 , 5 , 12 , 10 ]"
      ]
    },
    {
      "cell_type": "code",
      "source": [],
      "metadata": {
        "id": "ZW66DI4DnWn1"
      },
      "execution_count": null,
      "outputs": []
    },
    {
      "cell_type": "markdown",
      "metadata": {
        "id": "nxgYjoxl3gmz"
      },
      "source": [
        "### **Ejercicio 7**\n",
        "\n",
        "Escribir la operación **duplicar()** del TDA Lista que duplica el contenido de una lista.\n",
        "\n",
        "Por ejemplo:\n",
        "\n",
        "**lista1** = [ 2 , 1 , 4 , 8 , 9 ]\n",
        "\n",
        "**lista1.duplicar()**\n",
        "\n",
        "Entonces, **lista1** = [ 2 , 1 , 4 , 8 , 9 , 2 , 1 , 4 , 8 , 9 ]"
      ]
    },
    {
      "cell_type": "code",
      "metadata": {
        "id": "Ojjaj3Z23g7j"
      },
      "source": [],
      "execution_count": null,
      "outputs": []
    },
    {
      "cell_type": "markdown",
      "metadata": {
        "id": "qBL1crPl55oY"
      },
      "source": [
        "### **Ejercicio 8**\n",
        "\n",
        "Los recorridos de listas normalmente pasan por todos los nodos, empezando por el primero, luego al siguiente, etc, como en la siguiente figura:\n",
        "\n",
        "\n",
        "![texto alternativo](https://i.ibb.co/DD1SXP9/recorrido-lista.png)\n",
        "\n",
        "\n",
        "Escribir una operación del TDA Lista que recorra la lista salteandose de a un nodo y mostrando por pantalla los elementos de los nodos visitados. El recorrido debe ser asi:\n",
        "\n",
        "![texto alternativo](https://i.ibb.co/q7xjDkZ/recorrido-salteado-lista.png)\n",
        "\n",
        "Por ejemplo:\n",
        "\n",
        "**lista1** = [ 2 , 1 , 4 , 8 , 9 , 12 , 5 , 8 ]\n",
        "\n",
        "**lista1.recorridoSalteado()**\n",
        "\n",
        "2\n",
        "\n",
        "4\n",
        "\n",
        "9\n",
        "\n",
        "5\n",
        "\n",
        "\n",
        "**Nota: No es correcto hacer un recorrido secuencial e ir contando las posiciones, lo correcto es solo visitar los nodos que nos interesan**"
      ]
    },
    {
      "cell_type": "code",
      "source": [],
      "metadata": {
        "id": "loIUgNoenXrO"
      },
      "execution_count": null,
      "outputs": []
    },
    {
      "cell_type": "markdown",
      "metadata": {
        "id": "kaEphODFuZkW"
      },
      "source": [
        "### **Ejercicio 9**\n",
        "\n",
        "Vamos con otro tipo de recorrido de listas, escribir una operación del TDA Lista que recorra la lista de la siguiente manera (mientras va imprimiendo los elementos del nodo visitado):\n",
        "- Si el elemento del nodo visitado es par, seguimos por el siguiente\n",
        "- Si el elemento del nodo visitado es impar, nos salteamos el siguiente y seguimos con el otro\n",
        "\n",
        "El recorrido debe ser asi:\n",
        "\n",
        "![texto alternativo](https://i.ibb.co/DkBKs5M/recorrido-salteadopar-lista.png)\n",
        "\n",
        "Por ejemplo:\n",
        "\n",
        "**lista1** = [ 2 , 5 , 1 , 9 , 8 , 10 , 7 ]\n",
        "\n",
        "**lista1.recorridoParImpar()**\n",
        "\n",
        "2\n",
        "\n",
        "5\n",
        "\n",
        "9\n",
        "\n",
        "10\n",
        "\n",
        "7\n"
      ]
    },
    {
      "cell_type": "code",
      "metadata": {
        "id": "Qw2fTW5dG9Fy"
      },
      "source": [],
      "execution_count": null,
      "outputs": []
    },
    {
      "cell_type": "markdown",
      "metadata": {
        "id": "XhFVjfXpG8Vi"
      },
      "source": [
        "### **Ejercicio 10**\n",
        "\n",
        "Escribir una operación del TDA Lista que recibe dos números por parámetro. La operación recorre la lista, si el elemento del nodo es menor que el primer parámetro se deja igual, si es mayor o igual, se reemplaza por el mismo número multiplicado por el otro parámetro.\n",
        "\n",
        "Por ejemplo:\n",
        "\n",
        "**lista1** = [ 2 , 1 , 4 , 8 , 9 , 12 , 0 , 10 , 1 , 4 ]\n",
        "\n",
        "**lista1.reemplazaMayores(6,3)** #Multiplica por 3 los mayores o iguales a 6, el resto queda igual\n",
        "\n",
        "Entonces, **lista1** = [ 2 , 1 , 4 , 24 , 27 , 36 , 0 , 30 , 1 , 4 ]\n"
      ]
    },
    {
      "cell_type": "code",
      "source": [],
      "metadata": {
        "id": "i-o8y95AnY1u"
      },
      "execution_count": null,
      "outputs": []
    },
    {
      "cell_type": "markdown",
      "metadata": {
        "id": "a9FAMdrHZdJ1"
      },
      "source": [
        "### **Ejercicio 11**\n",
        "\n",
        "Escribir una operación del TDA Lista que recibe dos números por parámetro: una posición y un número nuevo. Recorre la lista hasta la posición y reemplaza el número de la lista por el nuevo.\n",
        "\n",
        "Por ejemplo:\n",
        "\n",
        "**lista1** = [ 2 , 1 , 4 , 8 , 9 , 12 , 0 , 10 , 1 , 4 ]\n",
        "\n",
        "**lista1.reemplazar(2,20)** #Reemplaza el número en la posición 2 por 20\n",
        "\n",
        "Entonces, **lista1** = [ 2 , 1 , 20 , 8 , 9 , 12 , 0 , 10 , 1 , 4 ]"
      ]
    },
    {
      "cell_type": "code",
      "metadata": {
        "id": "Qfj8xzfWougq"
      },
      "source": [],
      "execution_count": null,
      "outputs": []
    },
    {
      "cell_type": "markdown",
      "metadata": {
        "id": "ds5kveH9otzk"
      },
      "source": [
        "### **Ejercicio 12**\n",
        "\n",
        "Escribir la operación **insertarOrdenado()** del TDA Lista, que se llama desde una lista ordenada e inserta un número que recibe por parámetro en el lugar correcto (manteniendo el orden).\n",
        "\n",
        "Por ejemplo:\n",
        "\n",
        "**lista1** = [ 2 , 5 , 9 , 12 , 25 , 32 ]\n",
        "\n",
        "**lista1.insertarOrdenado(10)**\n",
        "\n",
        "Entonces, **lista1** = [ 2 , 5 , 9 , 10 , 12 , 25 , 32 ]"
      ]
    },
    {
      "cell_type": "code",
      "source": [],
      "metadata": {
        "id": "v9Cj0S8-ndU_"
      },
      "execution_count": null,
      "outputs": []
    }
  ]
}
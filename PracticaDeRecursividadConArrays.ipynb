{
  "nbformat": 4,
  "nbformat_minor": 0,
  "metadata": {
    "colab": {
      "provenance": [],
      "authorship_tag": "ABX9TyOv2kMWcu+KJlehreprxInq"
    },
    "kernelspec": {
      "name": "python3",
      "display_name": "Python 3"
    },
    "language_info": {
      "name": "python"
    }
  },
  "cells": [
    {
      "cell_type": "markdown",
      "source": [
        "1. Suma de elementos de un array\n",
        "Consigna:\n",
        "Escribe una función recursiva suma_array(arr) que devuelva la suma de todos los elementos de una lista.\n",
        "\n",
        "suma_array([1, 2, 3]) → 6\n",
        "\n",
        "suma_array([5, -2, 10]) → 13\n",
        "\n",
        "suma_array([]) → 0"
      ],
      "metadata": {
        "id": "fW4aXlcWW5Nv"
      }
    },
    {
      "cell_type": "code",
      "execution_count": 1,
      "metadata": {
        "id": "4ZXrAeZ3P-uy"
      },
      "outputs": [],
      "source": [
        "import numpy as np\n",
        "def sumaVector(vector: np.array) -> int:\n",
        "    resultado = None\n",
        "    if len(vector) <= 0:\n",
        "        resultado = 0\n",
        "    else:\n",
        "        resultado = vector[0] + sumaVector(vector[:1])\n",
        "    return resultado"
      ]
    }
  ]
}
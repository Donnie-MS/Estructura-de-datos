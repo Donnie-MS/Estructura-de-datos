{
  "nbformat": 4,
  "nbformat_minor": 0,
  "metadata": {
    "colab": {
      "provenance": [],
      "authorship_tag": "ABX9TyO0MKfENQKmCMIUp1LXz3zq"
    },
    "kernelspec": {
      "name": "python3",
      "display_name": "Python 3"
    },
    "language_info": {
      "name": "python"
    }
  },
  "cells": [
    {
      "cell_type": "markdown",
      "source": [
        "1. Suma de elementos de un array\n",
        "Consigna:\n",
        "Escribe una función recursiva suma_array(arr) que devuelva la suma de todos los elementos de una lista.\n",
        "\n",
        "suma_array([1, 2, 3]) → 6\n",
        "\n",
        "suma_array([5, -2, 10]) → 13\n",
        "\n",
        "suma_array([]) → 0"
      ],
      "metadata": {
        "id": "fW4aXlcWW5Nv"
      }
    },
    {
      "cell_type": "code",
      "execution_count": null,
      "metadata": {
        "colab": {
          "base_uri": "https://localhost:8080/"
        },
        "id": "4ZXrAeZ3P-uy",
        "outputId": "5fb72236-017a-44c3-e5cf-c451ae67e3d1"
      },
      "outputs": [
        {
          "output_type": "stream",
          "name": "stdout",
          "text": [
            "6\n"
          ]
        }
      ],
      "source": [
        "import numpy as np\n",
        "def sumaVector(vector: np.array) -> int:\n",
        "    resultado = None\n",
        "    if len(vector) <= 0:\n",
        "        resultado = 0\n",
        "    else:\n",
        "        resultado = vector[0] + sumaVector(vector[1:])\n",
        "    return resultado\n",
        "\n",
        "print(sumaVector([1,2,3]))"
      ]
    },
    {
      "cell_type": "markdown",
      "source": [
        "2. Encontrar el máximo elemento\n",
        "Consigna:\n",
        "Crea una función recursiva maximo(arr) que retorne el valor máximo en una lista.\n",
        "Entrada/Salida:\n",
        "\n",
        "maximo([3, 7, 2, 9]) → 9\n",
        "\n",
        "maximo([-1, -5, -3]) → -1\n",
        "\n",
        "maximo([42]) → 42"
      ],
      "metadata": {
        "id": "0hZbFnBfYwh5"
      }
    },
    {
      "cell_type": "code",
      "source": [
        "import numpy as np\n",
        "def maximoElem(vector:np.array) -> int:\n",
        "    maxElem = None\n",
        "    if len(vector) == 1:\n",
        "        maxElem = vector[0]\n",
        "    else:\n",
        "        maxElem = numMayorEntre(vector[0], maximoElem(vector[1:]))\n",
        "    return maxElem\n",
        "\n",
        "def numMayorEntre(num1, num2):\n",
        "    resultado = num1\n",
        "    if num2 > num1:\n",
        "        resultado = num2\n",
        "    return resultado\n",
        "\n",
        "print(maximoElem([3, 7, 2, 9]))"
      ],
      "metadata": {
        "colab": {
          "base_uri": "https://localhost:8080/"
        },
        "id": "ZP8gq6mRY0ua",
        "outputId": "c520e872-3875-440b-bd48-5409b623264b"
      },
      "execution_count": null,
      "outputs": [
        {
          "output_type": "stream",
          "name": "stdout",
          "text": [
            "9\n"
          ]
        }
      ]
    },
    {
      "cell_type": "markdown",
      "source": [
        "3. Buscar un elemento\n",
        "Consigna:\n",
        "Implementa una función recursiva existe(arr, elemento) que devuelva True si el elemento está en la lista, o False si no.\n",
        "Entrada/Salida:\n",
        "\n",
        "\n",
        "existe([5, 2, 9, 1], 9) → True\n",
        "\n",
        "existe([\"a\", \"b\", \"c\"], \"d\") → False\n",
        "\n",
        "existe([], 10) → False"
      ],
      "metadata": {
        "id": "czwPeF_mgXdU"
      }
    },
    {
      "cell_type": "code",
      "source": [
        "import numpy as np\n",
        "def existeElem(vector:np.array, elem:any) -> bool:\n",
        "    resultado = None\n",
        "    if len(vector) == 0:\n",
        "        resultado = False\n",
        "    elif vector[0] == elem:\n",
        "        resultado = True\n",
        "    else:\n",
        "        resultado = existeElem(vector[1:], elem)\n",
        "    return resultado\n",
        "\n",
        "print(existeElem([\"a\", \"b\", \"c\"], \"a\"))"
      ],
      "metadata": {
        "colab": {
          "base_uri": "https://localhost:8080/"
        },
        "id": "7AVHWmPIgaCD",
        "outputId": "98a7ec53-727f-4249-9e47-f8a3a8aa19ce"
      },
      "execution_count": null,
      "outputs": [
        {
          "output_type": "stream",
          "name": "stdout",
          "text": [
            "True\n"
          ]
        }
      ]
    },
    {
      "cell_type": "markdown",
      "source": [
        "Ejercicio 1: Suma de elementos con índices\n",
        "Consigna:\n",
        "Implementa una función recursiva que sume todos los elementos de un array usando índices (no slices).\n",
        "Entrada/Salida:\n",
        "\n",
        "python\n",
        "suma_indices([1, 2, 3]) → 6  \n",
        "suma_indices([5, -2, 10]) → 13  "
      ],
      "metadata": {
        "id": "B71T7quXlf-2"
      }
    },
    {
      "cell_type": "code",
      "source": [
        "def suma_indices(arr, index=0):\n",
        "    resultado = None\n",
        "    if index >= len(arr):\n",
        "        resultado = 0\n",
        "    else:\n",
        "      resultado = arr[index] + suma_indices(arr, index + 1) # == [1:]\n",
        "    return resultado\n",
        "\n",
        "\n",
        "\n",
        "print(suma_indices([1, 2, 3]))"
      ],
      "metadata": {
        "colab": {
          "base_uri": "https://localhost:8080/"
        },
        "id": "7EzVL3VFlfMJ",
        "outputId": "6f3ff377-bd29-48b8-b790-d3bbce0bc614"
      },
      "execution_count": null,
      "outputs": [
        {
          "output_type": "stream",
          "name": "stdout",
          "text": [
            "6\n"
          ]
        }
      ]
    },
    {
      "cell_type": "markdown",
      "source": [
        "Ejercicio 2: Buscar el mínimo con índices\n",
        "Consigna:\n",
        "Encuentra el valor mínimo en un array usando recursión e índices.\n",
        "Entrada/Salida:\n",
        "\n",
        "\n",
        "minimo_indices([3, 7, 2, 9]) → 2  \n",
        "\n",
        "minimo_indices([-1, -5, -3]) → -5  \n"
      ],
      "metadata": {
        "id": "nq-4M8r7qC23"
      }
    },
    {
      "cell_type": "code",
      "source": [
        "import numpy as np\n",
        "def minimoIndices(vector:np.array, index=0) -> int:\n",
        "    resultado = None\n",
        "    if index >= len(vector):\n",
        "        resultado = 0\n",
        "    else:\n",
        "        resultado = nroMenor(vector[index], minimoIndices(vector, index + 1))# vector[index] == vector[0] ; y vector, index + 1 == [1:]\n",
        "    return resultado\n",
        "\n",
        "def nroMenor(num1, num2):\n",
        "    resultado = num2\n",
        "    if num1 < num2:\n",
        "        resultado = num1\n",
        "    return resultado\n",
        "\n",
        "print(minimoIndices([-1,-5,-3]))"
      ],
      "metadata": {
        "colab": {
          "base_uri": "https://localhost:8080/"
        },
        "id": "d0bZrUbCqFHd",
        "outputId": "2870de59-77fa-4617-8b77-4eed99655f19"
      },
      "execution_count": null,
      "outputs": [
        {
          "output_type": "stream",
          "name": "stdout",
          "text": [
            "-5\n"
          ]
        }
      ]
    },
    {
      "cell_type": "markdown",
      "source": [
        "Ejercicio 3: Contar ocurrencias con índices\n",
        "Consigna:\n",
        "Cuenta cuántas veces aparece un elemento en un array usando índices.\n",
        "Entrada/Salida:\n",
        "\n",
        "\n",
        "contar_indices([1, 2, 2, 3, 2], 2) → 3  \n",
        "\n",
        "contar_indices([\"a\", \"b\", \"a\"], \"a\") → 2  "
      ],
      "metadata": {
        "id": "YcY9Rg9kxwMI"
      }
    },
    {
      "cell_type": "code",
      "source": [
        "import numpy as np\n",
        "def contarOcurrencias(vector: np.array, elem, index = 0) -> int:\n",
        "    resultado = 0\n",
        "    if index >= len(vector):\n",
        "        resultado = 0\n",
        "    else:\n",
        "        resultado += (unoSiCeroSino(vector[index] == elem) + contarOcurrencias(vector, elem, index + 1))\n",
        "    return resultado\n",
        "print(contarOcurrencias([\"a\", \"b\", \"c\", \"a\"], \"a\"))\n",
        "\n",
        "def unoSiCeroSino(condicion):\n",
        "    if condicion:\n",
        "        return 1\n",
        "    else:\n",
        "        return 0"
      ],
      "metadata": {
        "colab": {
          "base_uri": "https://localhost:8080/"
        },
        "id": "rVcuRjn7xvDx",
        "outputId": "4fd950d2-96cb-41aa-e48a-a7d9ac566019"
      },
      "execution_count": null,
      "outputs": [
        {
          "output_type": "stream",
          "name": "stdout",
          "text": [
            "2\n"
          ]
        }
      ]
    },
    {
      "cell_type": "markdown",
      "source": [
        "Ejercicio 4: Filtrar pares con índices\n",
        "Consigna:\n",
        "Crea una nueva lista con solo los números pares de un array, usando recursión e índices.\n",
        "Entrada/Salida:\n",
        "\n",
        "python\n",
        "filtrar_pares_indices([1, 2, 3, 4, 5]) → [2, 4]  \n",
        "\n",
        "filtrar_pares_indices([10, 11, 12]) → [10, 12]  \n",
        "\n",
        "```\n",
        "# Tiene formato de código\n",
        "```\n",
        "\n"
      ],
      "metadata": {
        "id": "aKerY_p51MPk"
      }
    },
    {
      "cell_type": "code",
      "source": [
        "import numpy as np\n",
        "def listaConPares(vector:np.array, index = 0) -> list:#Esto es asi solo por el hecho de sumar listas?\n",
        "    resultado = None\n",
        "    if index >= len(vector):  # Caso base\n",
        "        resultado = []\n",
        "    else:\n",
        "        pares_restantes = listaConPares(vector, index + 1)\n",
        "\n",
        "        if esPar(vector[index]):\n",
        "            resultado = [vector[index]] + pares_restantes\n",
        "        else:\n",
        "            resultado = pares_restantes\n",
        "\n",
        "    return resultado\n",
        "\n",
        "def esPar(num) -> bool:\n",
        "    return num % 2 == 0\n",
        "\n",
        "print(listaConPares([10, 11, 12]))"
      ],
      "metadata": {
        "colab": {
          "base_uri": "https://localhost:8080/"
        },
        "id": "z5K1Qy_m1L9z",
        "outputId": "ddbd8fda-435a-4bd5-c0bd-b1d17c9523ba"
      },
      "execution_count": null,
      "outputs": [
        {
          "output_type": "stream",
          "name": "stdout",
          "text": [
            "[10, 12]\n"
          ]
        }
      ]
    },
    {
      "cell_type": "markdown",
      "source": [
        "Ejercicio 5: Invertir array con índices\n",
        "Consigna:\n",
        "Devuelve una nueva lista con los elementos en orden inverso usando índices.\n",
        "Entrada/Salida:\n",
        "\n",
        "invertir_indices([1, 2, 3, 4]) → [4, 3, 2, 1]  \n",
        "\n",
        "invertir_indices([\"a\", \"b\", \"c\"]) → [\"c\", \"b\", \"a\"]  "
      ],
      "metadata": {
        "id": "cRwamymrV8FS"
      }
    },
    {
      "cell_type": "code",
      "source": [
        "import numpy as np\n",
        "\n",
        "def invertir(vector: np.array, index= 0) -> np.array:\n",
        "    resultado = None\n",
        "    if  index >= len(vector):\n",
        "        resultado = []\n",
        "    else:\n",
        "        auxLista = invertir(vector, index + 1)\n",
        "        resultado = auxLista + [vector[index]]\n",
        "    return resultado\n",
        "\n",
        "print(invertir([\"a\",\"b\", \"c\", \"d\"]))"
      ],
      "metadata": {
        "colab": {
          "base_uri": "https://localhost:8080/"
        },
        "id": "IVynJj8yV_Ho",
        "outputId": "7088b91b-5248-4a84-d121-3eaaa3ad080c"
      },
      "execution_count": null,
      "outputs": [
        {
          "output_type": "stream",
          "name": "stdout",
          "text": [
            "['d', 'c', 'b', 'a']\n"
          ]
        }
      ]
    },
    {
      "cell_type": "markdown",
      "source": [
        "Ejercicio 6 (Avanzado): Búsqueda binaria recursiva\n",
        "Consigna:\n",
        "Implementa la búsqueda binaria de forma recursiva usando índices (asume que el array está ordenado).\n",
        "Entrada/Salida:\n",
        "\n",
        "python\n",
        "busqueda_binaria_indices([1, 3, 5, 7, 9], 5) → 2  \n",
        "busqueda_binaria_indices([1, 3, 5, 7, 9], 10) → -1  "
      ],
      "metadata": {
        "id": "GUWRj65RXwNM"
      }
    },
    {
      "cell_type": "code",
      "source": [
        "import numpy as np\n",
        "def busqueda_binaria_indices(arr, target, left=0, right=None):\n",
        "    if right is None:\n",
        "        right = len(arr) - 1\n",
        "    if left > right:\n",
        "        return -1\n",
        "    mid = (left + right) // 2\n",
        "    if arr[mid] == target:\n",
        "        return mid\n",
        "    elif arr[mid] < target:\n",
        "        return busqueda_binaria_indices(arr, target, mid + 1, right)\n",
        "    else:\n",
        "        return busqueda_binaria_indices(arr, target, left, mid - 1)\n",
        "\n",
        "print(busqueda_binaria_indices([1,3,5,7], 5))"
      ],
      "metadata": {
        "colab": {
          "base_uri": "https://localhost:8080/"
        },
        "id": "N1kGhfC6Xvwj",
        "outputId": "64aba9ad-bfd2-4212-ded9-14453480e6b9"
      },
      "execution_count": null,
      "outputs": [
        {
          "output_type": "stream",
          "name": "stdout",
          "text": [
            "2\n"
          ]
        }
      ]
    },
    {
      "cell_type": "markdown",
      "source": [
        "1. Suma de elementos\n",
        "Consigna:\n",
        "Sumar todos los elementos de un array usando recursión e índices.\n",
        "Entrada/Salida:\n",
        "\n",
        "python\n",
        "suma_indices([2, 4, 6]) → 12  \n",
        "suma_indices([-1, 0, 1]) → 0  "
      ],
      "metadata": {
        "id": "5H7OOTGhaW42"
      }
    },
    {
      "cell_type": "code",
      "source": [
        "import numpy as np\n",
        "def sumaElementos(vector: np.array, index = 0) -> int:\n",
        "    if index >= len(vector):\n",
        "        resultado = 0\n",
        "    else:\n",
        "        resultado = vector[index] + sumaElementos(vector, index + 1)\n",
        "    return resultado\n",
        "\n",
        "print(sumaElementos([2, 4, 1]))"
      ],
      "metadata": {
        "colab": {
          "base_uri": "https://localhost:8080/"
        },
        "id": "HDkWVz_AaYZP",
        "outputId": "e384e629-33c4-4d65-cbb5-b5bb46baab4f"
      },
      "execution_count": null,
      "outputs": [
        {
          "output_type": "stream",
          "name": "stdout",
          "text": [
            "7\n"
          ]
        }
      ]
    },
    {
      "cell_type": "markdown",
      "source": [
        "2. Buscar elemento\n",
        "Consigna:\n",
        "Verificar si un elemento existe en el array.\n",
        "Entrada/Salida:\n",
        "\n",
        "python\n",
        "existe_indices([5, 2, 9], 9) → True  \n",
        "existe_indices(['a', 'b'], 'c') → False  "
      ],
      "metadata": {
        "id": "FwvLPvJLb1Qs"
      }
    },
    {
      "cell_type": "code",
      "source": [
        "import numpy as np\n",
        "def existeElem(vector: np.array, elem, index = 0) -> bool:\n",
        "    if index >= len(vector):\n",
        "        resultado = False\n",
        "    elif vector[index] == elem:\n",
        "        resultado = True\n",
        "    else:#IMPORTANTISIMO SOY BUENISIMO\n",
        "        resultado = existeElem(vector, elem, index + 1)\n",
        "    return resultado\n",
        "\n",
        "print(existeElem([1,2,3], 0))"
      ],
      "metadata": {
        "colab": {
          "base_uri": "https://localhost:8080/"
        },
        "id": "WjHuJwUVb1fz",
        "outputId": "b330c787-e0be-4986-e38c-3d265f099156"
      },
      "execution_count": 1,
      "outputs": [
        {
          "output_type": "stream",
          "name": "stdout",
          "text": [
            "False\n"
          ]
        }
      ]
    },
    {
      "cell_type": "markdown",
      "source": [
        "3. Contar ocurrencias\n",
        "Consigna:\n",
        "Contar cuántas veces aparece un elemento.\n",
        "Entrada/Salida:\n",
        "\n",
        "contar_indices([1, 2, 2, 3], 2) → 2  \n",
        "\n",
        "contar_indices(['x', 'x'], 'y') → 0  "
      ],
      "metadata": {
        "id": "PQUL2H7scoE2"
      }
    },
    {
      "cell_type": "markdown",
      "source": [
        "3. Contar ocurrencias\n",
        "Consigna:\n",
        "Contar cuántas veces aparece un elemento.\n",
        "Entrada/Salida:\n",
        "\n",
        "\n",
        "contar_indices([1, 2, 2, 3], 2) → 2  \n",
        "\n",
        "contar_indices(['x', 'x'], 'y') → 0  "
      ],
      "metadata": {
        "id": "bOa8gydIIjcy"
      }
    },
    {
      "cell_type": "code",
      "source": [
        "import numpy as np\n",
        "def cantOcurrencias(vector:np.array, elem, index = 0) -> int:\n",
        "    if index >= len(vector):\n",
        "        resultado = 0\n",
        "    else:\n",
        "        resultado = unoSiCeroSino(vector[index] == elem) + cantOcurrencias(vector, elem, index + 1)\n",
        "    return resultado\n",
        "def unoSiCeroSino(condicion):\n",
        "    if condicion:\n",
        "        return 1\n",
        "    else:\n",
        "        return 0\n",
        "print(cantOcurrencias([1,2,2,3, 2, 2], 2))\n"
      ],
      "metadata": {
        "colab": {
          "base_uri": "https://localhost:8080/"
        },
        "id": "AZs7bwTGIj9p",
        "outputId": "1300404f-2820-4180-a891-303dc267ff6c"
      },
      "execution_count": 6,
      "outputs": [
        {
          "output_type": "stream",
          "name": "stdout",
          "text": [
            "4\n"
          ]
        }
      ]
    },
    {
      "cell_type": "markdown",
      "source": [
        "4. Producto de elementos\n",
        "Consigna:\n",
        "Multiplicar todos los elementos del array.\n",
        "Entrada/Salida:\n",
        "\n",
        "\n",
        "producto_indices([2, 3, 4]) → 24  \n",
        "\n",
        "producto_indices([5, -2]) → -10  "
      ],
      "metadata": {
        "id": "YGY0QJFEKQAN"
      }
    },
    {
      "cell_type": "code",
      "source": [
        "\n",
        "def productoDeVector(vector, index = 0) -> int:\n",
        "    if index >= len(vector):\n",
        "        resultado = 1\n",
        "    else:\n",
        "        resultado = vector[index] * productoDeVector(vector, index + 1)\n",
        "    return resultado\n",
        "print(productoDeVector([]))"
      ],
      "metadata": {
        "colab": {
          "base_uri": "https://localhost:8080/"
        },
        "id": "PdVFoDDsKSI0",
        "outputId": "9d1a6354-f159-4799-a709-1620ba2645cf"
      },
      "execution_count": 15,
      "outputs": [
        {
          "output_type": "stream",
          "name": "stdout",
          "text": [
            "0\n"
          ]
        }
      ]
    },
    {
      "cell_type": "markdown",
      "source": [
        "6. Máximo elemento\n",
        "Consigna:\n",
        "Encontrar el valor máximo en el array.\n",
        "Entrada/Salida:\n",
        "\n",
        "maximo_indices([3, 7, 2]) → 7  \n",
        "\n",
        "maximo_indices([-1, -5]) → -1  "
      ],
      "metadata": {
        "id": "cyd6NNlGLvFi"
      }
    },
    {
      "cell_type": "code",
      "source": [
        "def maximoElem2()"
      ],
      "metadata": {
        "id": "PxnIwQT-Luvv"
      },
      "execution_count": null,
      "outputs": []
    }
  ]
}
{
  "nbformat": 4,
  "nbformat_minor": 0,
  "metadata": {
    "colab": {
      "provenance": [],
      "authorship_tag": "ABX9TyNMKkq4J8lIlMYbds1o8xeL"
    },
    "kernelspec": {
      "name": "python3",
      "display_name": "Python 3"
    },
    "language_info": {
      "name": "python"
    }
  },
  "cells": [
    {
      "cell_type": "markdown",
      "source": [
        "1. Suma de elementos de un array\n",
        "Consigna:\n",
        "Escribe una función recursiva suma_array(arr) que devuelva la suma de todos los elementos de una lista.\n",
        "\n",
        "suma_array([1, 2, 3]) → 6\n",
        "\n",
        "suma_array([5, -2, 10]) → 13\n",
        "\n",
        "suma_array([]) → 0"
      ],
      "metadata": {
        "id": "fW4aXlcWW5Nv"
      }
    },
    {
      "cell_type": "code",
      "execution_count": 3,
      "metadata": {
        "colab": {
          "base_uri": "https://localhost:8080/"
        },
        "id": "4ZXrAeZ3P-uy",
        "outputId": "5fb72236-017a-44c3-e5cf-c451ae67e3d1"
      },
      "outputs": [
        {
          "output_type": "stream",
          "name": "stdout",
          "text": [
            "6\n"
          ]
        }
      ],
      "source": [
        "import numpy as np\n",
        "def sumaVector(vector: np.array) -> int:\n",
        "    resultado = None\n",
        "    if len(vector) <= 0:\n",
        "        resultado = 0\n",
        "    else:\n",
        "        resultado = vector[0] + sumaVector(vector[1:])\n",
        "    return resultado\n",
        "\n",
        "print(sumaVector([1,2,3]))"
      ]
    },
    {
      "cell_type": "markdown",
      "source": [
        "2. Encontrar el máximo elemento\n",
        "Consigna:\n",
        "Crea una función recursiva maximo(arr) que retorne el valor máximo en una lista.\n",
        "Entrada/Salida:\n",
        "\n",
        "maximo([3, 7, 2, 9]) → 9\n",
        "\n",
        "maximo([-1, -5, -3]) → -1\n",
        "\n",
        "maximo([42]) → 42"
      ],
      "metadata": {
        "id": "0hZbFnBfYwh5"
      }
    },
    {
      "cell_type": "code",
      "source": [
        "import numpy as np\n",
        "def maximoElem(vector:np.array) -> int:\n",
        "    maxElem = None\n",
        "    if len(vector) == 1:\n",
        "        maxElem = vector[0]\n",
        "    else:\n",
        "        maxElem = numMayorEntre(vector[0], maximoElem(vector[1:]))\n",
        "    return maxElem\n",
        "\n",
        "def numMayorEntre(num1, num2):\n",
        "    resultado = num1\n",
        "    if num2 > num1:\n",
        "        resultado = num2\n",
        "    return resultado\n",
        "\n",
        "print(maximoElem([3, 7, 2, 9]))"
      ],
      "metadata": {
        "colab": {
          "base_uri": "https://localhost:8080/"
        },
        "id": "ZP8gq6mRY0ua",
        "outputId": "c520e872-3875-440b-bd48-5409b623264b"
      },
      "execution_count": 11,
      "outputs": [
        {
          "output_type": "stream",
          "name": "stdout",
          "text": [
            "9\n"
          ]
        }
      ]
    },
    {
      "cell_type": "markdown",
      "source": [
        "3. Buscar un elemento\n",
        "Consigna:\n",
        "Implementa una función recursiva existe(arr, elemento) que devuelva True si el elemento está en la lista, o False si no.\n",
        "Entrada/Salida:\n",
        "\n",
        "\n",
        "existe([5, 2, 9, 1], 9) → True\n",
        "\n",
        "existe([\"a\", \"b\", \"c\"], \"d\") → False\n",
        "\n",
        "existe([], 10) → False"
      ],
      "metadata": {
        "id": "czwPeF_mgXdU"
      }
    },
    {
      "cell_type": "code",
      "source": [
        "import numpy as np\n",
        "def existeElem(vector:np.array, elem:any) -> bool:\n",
        "    resultado = None\n",
        "    if len(vector) == 0:\n",
        "        resultado = False\n",
        "    elif vector[0] == elem:\n",
        "        resultado = True\n",
        "    else:\n",
        "        resultado = existeElem(vector[1:], elem)\n",
        "    return resultado\n",
        "\n",
        "print(existeElem([\"a\", \"b\", \"c\"], \"a\"))"
      ],
      "metadata": {
        "colab": {
          "base_uri": "https://localhost:8080/"
        },
        "id": "7AVHWmPIgaCD",
        "outputId": "98a7ec53-727f-4249-9e47-f8a3a8aa19ce"
      },
      "execution_count": 14,
      "outputs": [
        {
          "output_type": "stream",
          "name": "stdout",
          "text": [
            "True\n"
          ]
        }
      ]
    },
    {
      "cell_type": "markdown",
      "source": [
        "Ejercicio 1: Suma de elementos con índices\n",
        "Consigna:\n",
        "Implementa una función recursiva que sume todos los elementos de un array usando índices (no slices).\n",
        "Entrada/Salida:\n",
        "\n",
        "python\n",
        "suma_indices([1, 2, 3]) → 6  \n",
        "suma_indices([5, -2, 10]) → 13  "
      ],
      "metadata": {
        "id": "B71T7quXlf-2"
      }
    },
    {
      "cell_type": "code",
      "source": [
        "def suma_indices(arr, index=0):\n",
        "    resultado = None\n",
        "    if index >= len(arr):\n",
        "        resultado = 0\n",
        "    else:\n",
        "      resultado = arr[index] + suma_indices(arr, index + 1) # == [1:]\n",
        "    return resultado\n",
        "\n",
        "\n",
        "\n",
        "print(suma_indices([1, 2, 3]))"
      ],
      "metadata": {
        "colab": {
          "base_uri": "https://localhost:8080/"
        },
        "id": "7EzVL3VFlfMJ",
        "outputId": "6f3ff377-bd29-48b8-b790-d3bbce0bc614"
      },
      "execution_count": 24,
      "outputs": [
        {
          "output_type": "stream",
          "name": "stdout",
          "text": [
            "6\n"
          ]
        }
      ]
    },
    {
      "cell_type": "markdown",
      "source": [
        "Ejercicio 2: Buscar el mínimo con índices\n",
        "Consigna:\n",
        "Encuentra el valor mínimo en un array usando recursión e índices.\n",
        "Entrada/Salida:\n",
        "\n",
        "\n",
        "minimo_indices([3, 7, 2, 9]) → 2  \n",
        "\n",
        "minimo_indices([-1, -5, -3]) → -5  \n"
      ],
      "metadata": {
        "id": "nq-4M8r7qC23"
      }
    },
    {
      "cell_type": "code",
      "source": [
        "import numpy as np\n",
        "def minimoIndices(vector:np.array, index=0) -> int:\n",
        "    resultado = None\n",
        "    if index >= len(vector):\n",
        "        resultado = 0\n",
        "    else:\n",
        "        resultado = nroMenor(vector[index], minimoIndices(vector, index + 1))# vector[index] == vector[0] ; y vector, index + 1 == [1:]\n",
        "    return resultado\n",
        "\n",
        "def nroMenor(num1, num2):\n",
        "    resultado = num2\n",
        "    if num1 < num2:\n",
        "        resultado = num1\n",
        "    return resultado\n",
        "\n",
        "print(minimoIndices([-1,-5,-3]))"
      ],
      "metadata": {
        "colab": {
          "base_uri": "https://localhost:8080/"
        },
        "id": "d0bZrUbCqFHd",
        "outputId": "2870de59-77fa-4617-8b77-4eed99655f19"
      },
      "execution_count": 42,
      "outputs": [
        {
          "output_type": "stream",
          "name": "stdout",
          "text": [
            "-5\n"
          ]
        }
      ]
    },
    {
      "cell_type": "markdown",
      "source": [
        "Ejercicio 3: Contar ocurrencias con índices\n",
        "Consigna:\n",
        "Cuenta cuántas veces aparece un elemento en un array usando índices.\n",
        "Entrada/Salida:\n",
        "\n",
        "\n",
        "contar_indices([1, 2, 2, 3, 2], 2) → 3  \n",
        "\n",
        "contar_indices([\"a\", \"b\", \"a\"], \"a\") → 2  "
      ],
      "metadata": {
        "id": "YcY9Rg9kxwMI"
      }
    },
    {
      "cell_type": "code",
      "source": [
        "import numpy as np\n",
        "def contarOcurrencias(vector: np.array, elem, index = 0) -> int:\n",
        "    resultado = 0\n",
        "    if index >= len(vector):\n",
        "        resultado = 0\n",
        "    else:\n",
        "        resultado += (unoSiCeroSino(vector[index] == elem) + contarOcurrencias(vector, elem, index + 1))\n",
        "    return resultado\n",
        "print(contarOcurrencias([\"a\", \"b\", \"c\", \"a\"], \"a\"))\n",
        "\n",
        "def unoSiCeroSino(condicion):\n",
        "    if condicion:\n",
        "        return 1\n",
        "    else:\n",
        "        return 0"
      ],
      "metadata": {
        "colab": {
          "base_uri": "https://localhost:8080/"
        },
        "id": "rVcuRjn7xvDx",
        "outputId": "4fd950d2-96cb-41aa-e48a-a7d9ac566019"
      },
      "execution_count": 63,
      "outputs": [
        {
          "output_type": "stream",
          "name": "stdout",
          "text": [
            "2\n"
          ]
        }
      ]
    },
    {
      "cell_type": "markdown",
      "source": [
        "Ejercicio 4: Filtrar pares con índices\n",
        "Consigna:\n",
        "Crea una nueva lista con solo los números pares de un array, usando recursión e índices.\n",
        "Entrada/Salida:\n",
        "\n",
        "python\n",
        "filtrar_pares_indices([1, 2, 3, 4, 5]) → [2, 4]  \n",
        "\n",
        "filtrar_pares_indices([10, 11, 12]) → [10, 12]  "
      ],
      "metadata": {
        "id": "aKerY_p51MPk"
      }
    },
    {
      "cell_type": "code",
      "source": [],
      "metadata": {
        "id": "z5K1Qy_m1L9z"
      },
      "execution_count": null,
      "outputs": []
    }
  ]
}
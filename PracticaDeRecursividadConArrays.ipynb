{
  "nbformat": 4,
  "nbformat_minor": 0,
  "metadata": {
    "colab": {
      "provenance": [],
      "authorship_tag": "ABX9TyOWToVwlDRMzHz+PV02rgL/"
    },
    "kernelspec": {
      "name": "python3",
      "display_name": "Python 3"
    },
    "language_info": {
      "name": "python"
    }
  },
  "cells": [
    {
      "cell_type": "markdown",
      "source": [
        "1. Suma de elementos de un array\n",
        "Consigna:\n",
        "Escribe una función recursiva suma_array(arr) que devuelva la suma de todos los elementos de una lista.\n",
        "\n",
        "suma_array([1, 2, 3]) → 6\n",
        "\n",
        "suma_array([5, -2, 10]) → 13\n",
        "\n",
        "suma_array([]) → 0"
      ],
      "metadata": {
        "id": "fW4aXlcWW5Nv"
      }
    },
    {
      "cell_type": "code",
      "execution_count": 3,
      "metadata": {
        "colab": {
          "base_uri": "https://localhost:8080/"
        },
        "id": "4ZXrAeZ3P-uy",
        "outputId": "5fb72236-017a-44c3-e5cf-c451ae67e3d1"
      },
      "outputs": [
        {
          "output_type": "stream",
          "name": "stdout",
          "text": [
            "6\n"
          ]
        }
      ],
      "source": [
        "import numpy as np\n",
        "def sumaVector(vector: np.array) -> int:\n",
        "    resultado = None\n",
        "    if len(vector) <= 0:\n",
        "        resultado = 0\n",
        "    else:\n",
        "        resultado = vector[0] + sumaVector(vector[1:])\n",
        "    return resultado\n",
        "\n",
        "print(sumaVector([1,2,3]))"
      ]
    },
    {
      "cell_type": "markdown",
      "source": [
        "2. Encontrar el máximo elemento\n",
        "Consigna:\n",
        "Crea una función recursiva maximo(arr) que retorne el valor máximo en una lista.\n",
        "Entrada/Salida:\n",
        "\n",
        "maximo([3, 7, 2, 9]) → 9\n",
        "\n",
        "maximo([-1, -5, -3]) → -1\n",
        "\n",
        "maximo([42]) → 42"
      ],
      "metadata": {
        "id": "0hZbFnBfYwh5"
      }
    },
    {
      "cell_type": "code",
      "source": [
        "import numpy as np\n",
        "def maximoElem(vector:np.array) -> int:\n",
        "    maxElem = None\n",
        "    if len(vector) == 1:\n",
        "        maxElem = vector[0]\n",
        "    else:\n",
        "        maxElem = numMayorEntre(vector[0], maximoElem(vector[1:]))\n",
        "    return maxElem\n",
        "\n",
        "def numMayorEntre(num1, num2):\n",
        "    resultado = num1\n",
        "    if num2 > num1:\n",
        "        resultado = num2\n",
        "    return resultado\n",
        "\n",
        "print(maximoElem([3, 7, 2, 9]))"
      ],
      "metadata": {
        "colab": {
          "base_uri": "https://localhost:8080/"
        },
        "id": "ZP8gq6mRY0ua",
        "outputId": "c520e872-3875-440b-bd48-5409b623264b"
      },
      "execution_count": 11,
      "outputs": [
        {
          "output_type": "stream",
          "name": "stdout",
          "text": [
            "9\n"
          ]
        }
      ]
    },
    {
      "cell_type": "markdown",
      "source": [
        "3. Buscar un elemento\n",
        "Consigna:\n",
        "Implementa una función recursiva existe(arr, elemento) que devuelva True si el elemento está en la lista, o False si no.\n",
        "Entrada/Salida:\n",
        "\n",
        "\n",
        "existe([5, 2, 9, 1], 9) → True\n",
        "\n",
        "existe([\"a\", \"b\", \"c\"], \"d\") → False\n",
        "\n",
        "existe([], 10) → False"
      ],
      "metadata": {
        "id": "czwPeF_mgXdU"
      }
    },
    {
      "cell_type": "code",
      "source": [
        "import numpy as np\n",
        "def existeElem(vector:np.array, elem:any) -> bool:\n",
        "    resultado = None\n",
        "    if len(vector) == 0:\n",
        "        resultado = False\n",
        "    elif vector[0] == elem:\n",
        "        resultado = True\n",
        "    else:\n",
        "        resultado = existeElem(vector[1:], elem)\n",
        "    return resultado\n",
        "\n",
        "print(existeElem([\"a\", \"b\", \"c\"], \"a\"))"
      ],
      "metadata": {
        "colab": {
          "base_uri": "https://localhost:8080/"
        },
        "id": "7AVHWmPIgaCD",
        "outputId": "98a7ec53-727f-4249-9e47-f8a3a8aa19ce"
      },
      "execution_count": 14,
      "outputs": [
        {
          "output_type": "stream",
          "name": "stdout",
          "text": [
            "True\n"
          ]
        }
      ]
    },
    {
      "cell_type": "markdown",
      "source": [
        "Ejercicio 1: Suma de elementos con índices\n",
        "Consigna:\n",
        "Implementa una función recursiva que sume todos los elementos de un array usando índices (no slices).\n",
        "Entrada/Salida:\n",
        "\n",
        "python\n",
        "suma_indices([1, 2, 3]) → 6  \n",
        "suma_indices([5, -2, 10]) → 13  "
      ],
      "metadata": {
        "id": "B71T7quXlf-2"
      }
    },
    {
      "cell_type": "code",
      "source": [],
      "metadata": {
        "id": "7EzVL3VFlfMJ"
      },
      "execution_count": null,
      "outputs": []
    }
  ]
}
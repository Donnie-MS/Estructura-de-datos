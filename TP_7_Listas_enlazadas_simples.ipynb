{
  "nbformat": 4,
  "nbformat_minor": 0,
  "metadata": {
    "colab": {
      "provenance": []
    },
    "kernelspec": {
      "name": "python3",
      "display_name": "Python 3"
    }
  },
  "cells": [
    {
      "cell_type": "markdown",
      "metadata": {
        "id": "42630xxYD0gZ"
      },
      "source": [
        "# ![alt text](https://upload.wikimedia.org/wikipedia/commons/thumb/c/c3/Python-logo-notext.svg/50px-Python-logo-notext.svg.png) **Trabajo Práctico 7: Listas enlazadas simples** ![alt text](https://upload.wikimedia.org/wikipedia/commons/thumb/c/c3/Python-logo-notext.svg/50px-Python-logo-notext.svg.png)\n",
        "\n",
        "En este trabajo práctico, vamos a trabajar iterativamente con la estructura de datos **Lista enlazada simple** en Python. Recuerden crear una copia de este archivo en su ***Google Drive*** para tener permisos de edición.\n",
        "\n",
        "### **En los ejercicios de esta guía, no pueden usar para nada las Listas de Python, si deben declarar una lista para algo, usen la implementada por ustedes.**\n",
        "\n",
        "### **Para implementar las operaciones del TDA Lista, tienen que trabajar con los nodos internos de las listas, no con las listas desde afuera.**\n",
        "\n",
        "### **florencia.dias@unahur.edu.ar** ###\n"
      ]
    },
    {
      "cell_type": "markdown",
      "metadata": {
        "id": "xjXgmD3mskbR"
      },
      "source": [
        "### **Ejercicio 1**\n",
        "\n",
        "Implementar el TDA Lista enlazada simple, con las siguientes operaciones:\n",
        "- **\\_\\_init__():** Constructor\n",
        "- **Vaciar**\n",
        "- **Agregar elemento al final (append):** Inserta nuevo nodo al final de la lista con el elemento que recibe como parámetro.\n",
        "- **Insertar elemento:** Recibe un elemento y una posición como parámetro e inserta un nuevo nodo con el elemento en esa posición. Si la posicion es mayor al tamaño de la lista, el elemento se inserta al final.\n",
        "- **Obtener elemento (get):** Recibe una posición y retorna el elemento del nodo en esa posición.\n",
        "- **Eliminar elemento (pop):** Recibe una posición y elimina el nodo en esa posición.\n",
        "- **Obtener tamaño de lista**.\n",
        "- **Esta vacía**.\n",
        "- **Clonar**\n",
        "- **\\_\\_repr__():** Para poder imprimir una Lista por consola\n",
        "\n",
        "**Nota: Cuando usamos posiciones en las listas, tener en cuenta que los indices empiezan en cero, es decir, el primer elemento de la lista esta en la posicion cero.**"
      ]
    },
    {
      "cell_type": "code",
      "source": [
        "import copy as cp\n",
        "\n",
        "########################################## LISTA ##########################################\n",
        "\n",
        "class Lista: #Definimos la clase lista\n",
        "\n",
        "########################################## NODO ##########################################\n",
        "\n",
        "  class __NodoLista: #Una lista está compuestas por nodos. Los nodos en principio no tienen sentido por fuera de nuestra clase lista, por eso lo generamos dentro\n",
        "    def __init__(self, dato): #El constructor del nodo. Para crear un nodo necesitamos el dato que vamos a alojar en esa posición\n",
        "      self.dato = dato # Almacenamos el dato\n",
        "      self.siguiente = None # Y cada nodo contiene la información de dónde va el siguiente nodo. Por defecto, si se crea un nodo no tiene siguiente\n",
        "\n",
        "    def tieneSiguiente(self)->bool: #Creamos el método tieneSiguiente\n",
        "      return self.siguiente != None # Da True cuando hay siguiente, es decir, el siguiente no es None\n",
        "\n",
        "########################################## LISTA ##########################################\n",
        "\n",
        "  def __init__(self): # Acá ya volvimos a los métodos de listas. Inicializamos como lista vacía\n",
        "    self.__primero = None #Lo único que necesita saber la lista es si tiene primero, luego el primero referencia al segundo y así.\n",
        "\n",
        "  def estaVacia(self)->bool: #Definimos nuestra función estaVacia, que devuelve un valor booleano\n",
        "    return self.__primero == None #Si el primero es None es porque está vacía (si no tiene primero no puede tener el resto)\n",
        "\n",
        "  def __repr__(self)->str: # Definimos el repr para poder verla al hacer print\n",
        "    salida = \"primero\" # Empezamos indicando por dónde se empeiza a contar (en nuestro caso por como estamos construyendo será de izquierda a derecha)\n",
        "    nodoAux = self.__primero # Este es el clásico recorrido de listas enlazadas, tenemos un nodo auxiliar que se irá moviendo sabiendo si el nodo tiene siguiente o no. Lo inicializamos en el primero.\n",
        "    #Ojo. Notar que nodoAux, si bien llama a self, self.__primero es de tipo NODO, esto va a ocurrir todo el tiempo, hay que saber si estamos trabajando a nivel LISTA o a nivel NODO\n",
        "    while nodoAux != None: # Mientras el nodoAuxiliar sea DISTINTO de None:\n",
        "      salida += \" -> \" + str(nodoAux.dato) #Salida sumará una flechita y el dato que contiene el nodo auxiliar (el que estamos viendo)\n",
        "      nodoAux = nodoAux.siguiente # Una vez guardado el dato cambiamos el nodoAux al siguiente (siguiente como método de nodo). Si fuese el último el siguiente sería NONE y ahí cortaría el while\n",
        "    salida += \" -|\" #Una vez que corta el while cerramos con un pipe\n",
        "    return salida #Retornamos la salida #primero -> 2 -> 3 -> 4 -|\n",
        "\n",
        "  def tamaño(self)->int: # Definimos tamaño que devuelve un número entero\n",
        "    cantNodos = 0 #Instanciamos nuestro contador de nodos empezando en cero\n",
        "    nodoAux = self.__primero # Comenzamos el clásico recorrido de listas. Creamos un nodo auxiliar y lo fijamos en el primero\n",
        "    while nodoAux != None: #Mientras nodo auxiliar sea distinto de None\n",
        "      cantNodos += 1 #Sumamos uno al contador\n",
        "      nodoAux = nodoAux.siguiente # Nos movemos al siguiente\n",
        "    return cantNodos #Retornamos el contador\n",
        "\n",
        "  def agregarAlFinal(self, dato)->None: #Agrega un elemento al final de la lista\n",
        "    nodoNuevo = Lista.__NodoLista(dato) # creo un nodo nuevo, así que instanciamos un NodoLista de la clase Lista con el dato que queremos alojar en dicho nodo\n",
        "    if self.estaVacia(): #Si la lista está vacía\n",
        "      self.__primero = nodoNuevo # El primer nodo será el nodo nuevo\n",
        "    else: #Sino, es decir, si la lista NO está vacía (ya contiene elementos)\n",
        "      nodoAux = self.__primero # definimos un nodo auxiliar como el primero\n",
        "      while nodoAux.tieneSiguiente(): #Mientras el nodo auxiliar tenga siguiente. Queremos quedarnos en el último, por eso hay que ver si tiene siguiente. En este tipo de recorridos no tenemos como \"volver atrás\". Si llegamos hasta el None no tenemos una función del estilo \"nodo anterior\", por eso itera con el while hasta \"tieneSiguiente\"\n",
        "        nodoAux = nodoAux.siguiente #El nodoAux será ahora el siguiente. Este while se corta cuando NO tenga siguiente, etnonces nodoAux será el último nodo posible (que es distinto de None)\n",
        "      nodoAux.siguiente = nodoNuevo # Hacemos que el siguiente del último nodo (nodoAux) sea el nodoNuevo\n",
        "\n",
        "  def insertar(self, posIns, dato)->None: #Definimos insertar que agrega un elemento a la lista pero en una posición particular, así que tomamos una posición para Insertar, un dato y no retornamos nada\n",
        "    nodoNuevo = Lista.__NodoLista(dato) # Instanciamos el nodo que queremos insertar con el dato dado.\n",
        "    if posIns >= 0: #Si la posición donde vamos a insertar es mayor o igual a cero (es decir, es una posición válida)\n",
        "      if self.estaVacia(): # Si la lista está vacía\n",
        "        self.__primero = nodoNuevo # El nuevo nodo, lo pongo primero\n",
        "      elif posIns == 0: #Si NO está vacía pero la posición a insertar es 0 (la primera)\n",
        "        nodoNuevo.siguiente = self.__primero #Entonces el siguiente del nodo nuevo será el que estaba originalmente como el primero (que ahora es el segundo). El resto de los nodos sigue exactamente igual (este \"primero\" que ahora es \"segundo\" sigue referenciando al \"segundo\" que ahora pasa a ser el \"tercero\" y así todo el rato)\n",
        "        self.__primero = nodoNuevo # Y el primero pasa a ser el nodo nuevo.\n",
        "      else: #Sino, es decir, si la lista NO está vacía y la posición a insertar es DISTINTA de 0:\n",
        "        nodoAux = self.__primero # Empiezo mi recorrido sobre listas enlazadas. Defino un nodoAux que comienza en la primer posición\n",
        "        posAux = 0 #Necesito ir contantdo las posiciones para saber cuándo llego a donde quiero insertar, por eso tengo que instanciar un contador inicializado en cero\n",
        "        while nodoAux.tieneSiguiente() and posAux < posIns-1: #Mientas mi nodoAux tiene siguiente (En caso que me hayan dado una posición más grande que mi lista) Y (AND) la posición auxiliar es UNA ANTES de la posición donde quiero insertar (acá de nuevo, no quiero llegar hasta el final final, me quiero quedar uno antes)\n",
        "          nodoAux = nodoAux.siguiente #Nodo aux pasa a ser el siguiente\n",
        "          posAux += 1 #Sumo uno al contador\n",
        "        #En este punto salí del while, así que una de dos, o NO hay siguiente o estoy en la posición anterior a donde quiero insertar el nuevo valor (nodo).\n",
        "        #Acá es desición de diseño, si mi lista tiene 3 elementos y me indicaron la posición 300 se va a guardar en el final, podría lanzar una excepción, pero queda a criterio de quien desarrolle (o de quien lo pida)\n",
        "        # Por ejemplo si:\n",
        "        # lista = [10 , 20 , 30 , 40 , 50]\n",
        "        # lista.insertar(2 , 555)\n",
        "        # entonces en este punto para salir del while posAux == 1 (porque es 2 - 1)\n",
        "        nodoNuevo.siguiente = nodoAux.siguiente # ENtonces el siguiente del nodoAux debe ser el 30 (que es donde quiero insertar el nuevo valor), por lo tanto el siguiente del nodoNuevo debe ser el 30\n",
        "        nodoAux.siguiente = nodoNuevo # Y el nodoAux que está parado en 20 le tengo que decir que el siguiente ya no es el 30 sino que es el NodoNuevo (555)\n",
        "        # lista será entonces [10 , 20 , 555 , 30 , 40 , 50]\n",
        "    else: #Sino, es decir, me dieron una posición menor que cero\n",
        "      raise IndexError(\"La posicion debe ser mayor o igual a cero\") #Lanzamos una excepción. Notar que en este caso no es genérica, es un INDEX ERROR\n",
        "\n",
        "  def eliminar(self, posDel)->any: #Definimos la función eliminar que recibe la posición del elemento que queremos eliminar\n",
        "    datoDel = None # Inicializamos nuestra variable dato eliminado como None\n",
        "    if 0 <= posDel < self.tamaño(): #Si la posición que queremos eliminar está entre 0 y el tamaño de la lista (es decir, dentro del rango válido)\n",
        "      if posDel == 0: #Si la posición es 0 (es decir, queremos eliminar el primero)\n",
        "        datoDel = self.__primero.dato #El dato eliminado será el dato alojado en el primer nodo\n",
        "        self.__primero = self.__primero.siguiente #El primer nodo será entonces el segundo, después queda todo igual.\n",
        "      else: #Sino, es decir, la posición que queremos eliminar es dinstinta de cero\n",
        "        nodoAux = self.__primero #Empezamos a recorrer as always. Inicializamos nuestro nodoAuxiliar en el primero\n",
        "        posAux = 0 #Empezamos a contar posiciones desde 0\n",
        "        while posAux < posDel-1: # Me quiero quedar parado uno antes de la posicion a eliminar por el mismo motivo que en insertar, sino no puedo hacer nada con el nodo en el que estoy parado.\n",
        "          nodoAux = nodoAux.siguiente #Entonces mientras la posición sea menor que la anterior a la que quiero eliminar, el nodoAux será el siguiente\n",
        "          posAux += 1 #La posición se incrementa en uno\n",
        "        #SALGO DEL WHILE, es decir que estoy un nodo atrás del que quiero eliminar (por construcción del while)\n",
        "        datoDel = nodoAux.siguiente.dato # El dato eliminado será entonces el dato almacenado en el siguiente nodo al nodo auxiliar (el próximo)\n",
        "        nodoAux.siguiente = nodoAux.siguiente.siguiente #El siguiente nodo al nodo donde estoy parado será entonces el siguiente del siguiente (me salteo uno). Y ya está!\n",
        "    else: #Sino, es decir, tengo una posición para eliminar negativa o mayor al tamaño de mi lista\n",
        "      raise IndexError(\"Posicion inválida\") #Lanzamos un IndexError\n",
        "    return datoDel #Retornamos el dato que eliminamos\n",
        "\n",
        "  def obtener(self, posGet)->any: #Obtener recibe una posición y retorna el dato almacenado en esa posición\n",
        "    datoGet = None # Inicializamos la variable resultado como None\n",
        "    if 0 <= posGet < self.tamaño(): #Validamos el rango de posición al igual que en eliminar\n",
        "      nodoAux = self.__primero #Comenzamos el recorrido como siempre. Inicializaos una variable nodoAux en el primer nodo de nuestra lista\n",
        "      posAux = 0 #Inicializamos un contador de posiciones\n",
        "      while posAux < posGet: #Acá no me quiero quedar uno antes (podría, pero no es necesario) porque solo quiero saber el valor del dato que tengo en esa posición, así que si llego hasta ahí no pasa nada porque no voy a modificar la lista, solo voy a consultar un elemento\n",
        "        nodoAux = nodoAux.siguiente #Entonces mientras la posicion auxiliar sea menor a la que estoy buscando, me muevo al siguiente nodo\n",
        "        posAux += 1 #Incremento uno a mi contador\n",
        "      datoGet = nodoAux.dato #En este punto ya salí del while, es decir que posAux = posGet, por lo tanto nodoAux es el nodo que está en la posición que quiero saber el valor. Consulto en nodoAux el dato y lo guardo en datoGet. FIN\n",
        "    else: #Sino, es decir, la posición es negativa o mayor al tamaño de mi lista\n",
        "      raise IndexError(\"Posicion inválida\") #Arrojamos un IndexError\n",
        "    return datoGet #Retornamos el dato get\n",
        "\n",
        "  def __getitem__(self, posGet)->any: #Cuando definimos __getitem__ estamos definiendo cómo se comporta nuestra lista si aplicamos los corchetes.\n",
        "  # HACE LO MISMO QUE OBTENER, pero en vez de hacer\n",
        "  # lista.obtener(3) nos permite hacer lista[3]\n",
        "  # Trucazo no?\n",
        "  # (Es lo mismo que veníamos haciendo con __repr__ que le indicamos cómo se debe comportar cuando le aplico print por ejemplo)\n",
        "  # Esto es sobrecargar los operadores por defecto de python\n",
        "    datoGet = None\n",
        "    if 0 <= posGet < self.tamaño():\n",
        "      nodoAux = self.__primero\n",
        "      posAux = 0\n",
        "      while posAux < posGet:\n",
        "        nodoAux = nodoAux.siguiente\n",
        "        posAux += 1\n",
        "      datoGet = nodoAux.dato\n",
        "    else:\n",
        "      raise IndexError(\"Posicion inválida\")\n",
        "    return datoGet\n",
        "\n",
        "  def __setitem__(self, posSet, datoSet)->None: #Así se podría sobrecargar algo del estilo \"lista[3] = 555\"\n",
        "    #Reemplazar elemento de posicion posSet por datoSet en lista self\n",
        "    pass\n",
        "\n",
        "  def __contains__(self, datoIn)->bool: #Así se podría sobrecargar el operador IN para saber si \"555 in lista\" y eso retorne false o true\n",
        "    #Sobrecarga del operador \"in\"\n",
        "    pass\n",
        "\n",
        "  def vaciar(self)->None: #Vaciar una lista es simplemente eliminar su primero (fijarlo como None)\n",
        "    self.__primero = None\n",
        "\n",
        "  def clonar(self):\n",
        "    return cp.deepocopy(self) #Para clonar como es habitual tomamos la librería deepcopy"
      ],
      "metadata": {
        "id": "72iOQybbACgo"
      },
      "execution_count": null,
      "outputs": []
    },
    {
      "cell_type": "code",
      "source": [
        "l1 = Lista() # creo una lista vacia\n",
        "#print(l1)\n",
        "l1.agregarAlFinal(4);l1.agregarAlFinal(1);l1.agregarAlFinal(2)#agrego elementos al final\n",
        "print(l1)\n",
        "print(l1.tamaño()) # le pregunto el tamaño\n",
        "l1.insertar(1,55) # agrego en la posicion 1, el dato 55\n",
        "print(l1)"
      ],
      "metadata": {
        "colab": {
          "base_uri": "https://localhost:8080/"
        },
        "id": "FTq4RD56ExQ6",
        "outputId": "15e36902-fd81-4485-a947-f01234869ed4"
      },
      "execution_count": null,
      "outputs": [
        {
          "output_type": "stream",
          "name": "stdout",
          "text": [
            "primero -> 4 -> 1 -> 2 -|\n",
            "3\n",
            "primero -> 4 -> 55 -> 1 -> 2 -|\n"
          ]
        }
      ]
    },
    {
      "cell_type": "code",
      "source": [
        "l1.insertar(50,3)\n",
        "print(l1)"
      ],
      "metadata": {
        "colab": {
          "base_uri": "https://localhost:8080/"
        },
        "id": "mAeZRj65LT4e",
        "outputId": "b0d5269a-0594-443d-98cc-5615ae4afded"
      },
      "execution_count": null,
      "outputs": [
        {
          "output_type": "stream",
          "name": "stdout",
          "text": [
            "primero -> 4 -> 55 -> 1 -> 2 -> 3 -|\n"
          ]
        }
      ]
    },
    {
      "cell_type": "code",
      "source": [
        "class ListaRec: # Vamos a crear el TDA Lista pero con todos los métodos que haya que iterar de forma recursiva\n",
        "\n",
        "########################################## NODO ##########################################\n",
        "\n",
        "  class __NodoLista: # Igual que antes, una lsita esta compuesta de nodos\n",
        "    def __init__(self, dato): # El constructor del nodo es el mismo, toma un dato\n",
        "      self.dato = dato # Guarda el dato internamente\n",
        "      self.siguiente = None # Y tiene la información de su siguiente\n",
        "\n",
        "    def tieneSiguiente(self)->bool: # Creamos una función tiene siguiente\n",
        "      return self.siguiente != None # Simplemente evalúa si el siguiente es None o no. Si es None, no tiene siguiente\n",
        "\n",
        "    def __repr__(self)->str: #Acá ya empieza a cambiar respecto a la interfaz anterior.\n",
        "    # Hay que notar que el __repr__ está definido a nivel NODO, antes no lo estaba.\n",
        "    # El chiste con las listas recursivas es delegar mucha funcionalidad en los nodos\n",
        "      salida = \"\" # Inicializamos una variable string vacía para la salida\n",
        "      if self != None: # Si el Nodo es distinto de None:\n",
        "        salida = f\" -> {self.dato}\" #La salida es entonces el valor del dato (y las flechitas para darle formato)\n",
        "        if self.tieneSiguiente(): # Y si tiene siguiente:\n",
        "          salida += str(self.siguiente) # La salida agrega el __repr__ del siguiente\n",
        "          # Recordar que hacer str(unObjeto) es lo mismo que pedir unObjeto.__repr__()\n",
        "      return salida # Retornamos la salida\n",
        "\n",
        "########################################## LISTA ##########################################\n",
        "\n",
        "#Para hacer la lista recursiva lo que vamos a hacer todo el rato es armar una función a nivel Nodo y utilizarla para hacer la vuelta recursiva, por eso antes teníamos solo dos métodos en nodo y ahora lo vamos a tener mucho más en cuenta\n",
        "\n",
        "  def __init__(self): # El constructor es el de siempre, la lista solo sabe la ubicación del primero\n",
        "    self.__primero = None\n",
        "\n",
        "  def estaVacia(self)->bool: #Estar vacío ses lo mismo de siempre, es que el primero sea none\n",
        "    return self.__primero == None\n",
        "\n",
        "  def __repr__(self)->str: # El repr ya toma lo que construimos a nivel nodo:\n",
        "    salida = \"primero\" # Inicia la salida con primero (como la lista que teníamos de antes)\n",
        "    if not self.estaVacia(): # Si no está vacía (hay primero:)\n",
        "      salida += str(self.__primero) #La salida va a ser entonces sumar el __repr__ DEL NODO\n",
        "      # Entonces salida es \"primero\" + -> PRIMERNODO.__repr__()\n",
        "      # Y el repr de PRIMERNODO llama a su siguiente (si tiene) y así hace la vuelta recursiva\n",
        "    return salida + \" -|\" # Una vez que terminó de sumar todos los nodos cierra la salida con \"-|\""
      ],
      "metadata": {
        "id": "yfY1fbdIaymL"
      },
      "execution_count": null,
      "outputs": []
    },
    {
      "cell_type": "code",
      "source": [
        "#Vamos a escribir agregarAlFinal (en una celda a parte para que se entienda cada lógica)\n",
        "\n",
        "class ListaRec(ListaRec): # Heredo lo que ya tenía en lista Rec\n",
        "  def agregarAlFinal(self, dato:any)->None: #Defino agregarAlFinal a nivel LISTA (toma un dato y lo agerga al final)\n",
        "    nodoNuevo = ListaRec.__NodoLista(dato) # Creo un nodo nuevo\n",
        "    if self.estaVacia(): # Si está vacía:\n",
        "      self.__primero = nodoNuevo # El primero es nodoNuevo, no hay recursión\n",
        "    else: # Sino (es decir, no está vacía)\n",
        "      self.__primero.agregarAlFinalNodo(nodoNuevo) #Delego sobre el primero la responsabilidad de agregar al final el nodoNuevo\n",
        "      #Pero el primero es un NODO, entonces hay que escribir a nivel nodo agragarAlFinalNodo()\n",
        "\n",
        "########################################## NODO ##########################################\n",
        "\n",
        "  class __NodoLista(ListaRec.__NodoLista): # Heredo nodoLista\n",
        "    def agregarAlFinalNodo(self, nodoNuevo)->None:#AgregarAlFinalNodo toma UN NODO, no un dato como en la lista\n",
        "      if not self.tieneSiguiente(): # Si el nodo en el que estoy parado no tiene siguiente\n",
        "        self.siguiente = nodoNuevo # El siguiente es el nodoNuevo\n",
        "      else: #Sino\n",
        "        self.siguiente.agregarAlFinalNodo(nodoNuevo) # Me muevo al siguiente y agrego el nodoNuevo\n",
        "\n",
        "l1 = ListaRec()\n",
        "l1.agregarAlFinal(4);l1.agregarAlFinal(1);l1.agregarAlFinal(3);\n",
        "\n",
        "print(l1)"
      ],
      "metadata": {
        "colab": {
          "base_uri": "https://localhost:8080/"
        },
        "id": "OrZWq_qga2gV",
        "outputId": "08d194a9-34b1-4ab2-ae66-793a24647cef"
      },
      "execution_count": null,
      "outputs": [
        {
          "output_type": "stream",
          "name": "stdout",
          "text": [
            "primero -> 4 -> 1 -> 3 -|\n"
          ]
        }
      ]
    },
    {
      "cell_type": "code",
      "source": [
        "class ListaRec(ListaRec):\n",
        "  def tamaño(self)->int: #Para el tamaño\n",
        "    cantNodos = 0 # Inicializo la cantidad de nodos\n",
        "    if not self.estaVacia(): # Si no está vacía\n",
        "      cantNodos = self.__primero.tamañoNodo() # Delego en el primer nodo la responsabilidad de contar el tamaño\n",
        "    return cantNodos\n",
        "\n",
        "  class __NodoLista(ListaRec.__NodoLista): # Ahora defino un método de nodo\n",
        "    def tamañoNodo(self)->int: #Tamaño nodo\n",
        "      cantNodos = 0 # Que inicializa la variable que después le va a pasar a la función de lsita\n",
        "      if self != None: # Si el nodo en el que estoy aprado es distinto de none:\n",
        "        cantNodos = 1 # Cantidad de nodos es 1\n",
        "        if self.tieneSiguiente(): # Si además, tiene siguiente\n",
        "          cantNodos += self.siguiente.tamañoNodo() # Voy a sumar el nodo siguiente, así hago la vuelta recursiva\n",
        "      return cantNodos # Finalmente retorno la cantidad de nodos\n",
        "\n",
        "l1 = ListaRec()\n",
        "l1.agregarAlFinal(4);l1.agregarAlFinal(1);l1.agregarAlFinal(3);\n",
        "\n",
        "print(l1.tamaño())"
      ],
      "metadata": {
        "colab": {
          "base_uri": "https://localhost:8080/"
        },
        "id": "lKvtDsFga5tW",
        "outputId": "5067546d-308d-42e2-c401-c0f5fc84f07f"
      },
      "execution_count": null,
      "outputs": [
        {
          "output_type": "stream",
          "name": "stdout",
          "text": [
            "3\n"
          ]
        }
      ]
    },
    {
      "cell_type": "code",
      "source": [
        "class ListaRec(ListaRec):\n",
        "  def insertar(self, posIns:int, dato:any)->None: #Insertar toma un dato y lo inserta en la posición recibida por parámetro\n",
        "    if posIns >= 0: # Si la posición es NO NEGATIVA:\n",
        "      nodoNuevo = ListaRec.__NodoLista(dato) # Creo un nodo nuevo con el dato dado\n",
        "      if self.estaVacia(): # Si la lista está vacía\n",
        "        self.__primero = nodoNuevo # isi, el nodoNuev es el primero\n",
        "      elif posIns == 0: # Si no está vacía pero la posición que me dieron es la 0:\n",
        "        nodoNuevo.siguiente = self.__primero # El siguiente del nodo nuevo será el que está primero\n",
        "        self.__primero = nodoNuevo # Y ahora que tengo toda la lita atraás del nodo nuevo, inidco que el primero es el nodo nuevo\n",
        "      else: # Sino, es decir, si la lista no está vacía y la posición es algún número:\n",
        "        # Tengo que empezar a recorrer. Si tengo que recorrer puedo hacerlo recursivamente\n",
        "        self.__primero.insertarNodo(posIns, nodoNuevo) # Delego sobre el primero la necesidad de resolver el problema\n",
        "        # Ahora es un problema tipo NODO\n",
        "    else: # Sino (si la posIns es negativa)\n",
        "      raise IndexError(\"Posición inválida\") # Lanzo un IndexError\n",
        "\n",
        "  class __NodoLista(ListaRec.__NodoLista): # Entonces ahora armo la función insertar de nodo:\n",
        "    def insertarNodo(self, posIns, nodoNuevo, posActual = 0): # De alguna forma tengo que acumular las posiciones para contar cuánto me voy moviendo. Como hicimos con tamaño pero ahora recibiendo como parámetro\n",
        "      if posActual == posIns-1 or not self.tieneSiguiente():\n",
        "      # Si la posActual es LA ANTERIOR a donde quiero insertar O no hay siguiente -> Esto también quiere decir que si me dieron un valor que está fuera de índice no importa y lo coloca al último\n",
        "      # Notar acá que pasa lo mismo que en las no-recursivas. Tengo que estar atentx a si necesito llegar hasta ese nodo o me tengo que quedar\n",
        "      # Acá solo entro en esa posición si se cumple la condición, no es como el while que entraba siempre\n",
        "        nodoNuevo.siguiente = self.siguiente # Entonces el siguiente del nodoNuevo es el siguiente del que estoy parado (el que está en el lugar donde quiero insertar)\n",
        "        self.siguiente = nodoNuevo # Por lo tanto mi siguiente es el nodo nuevo\n",
        "      else: #Sino, es decir, si la posActual NO ES la anterior a donde quiero insertar y tengo siguiente\n",
        "        self.siguiente.insertarNodo(posIns, nodoNuevo, posActual+1) # La responsabilidad es del siguiente nodo, aumento 1 en posActual\n",
        "\n",
        "l1 = ListaRec()\n",
        "l1.agregarAlFinal(4);l1.agregarAlFinal(1);l1.agregarAlFinal(3);\n",
        "print(l1)\n",
        "l1.insertar(2,10)\n",
        "print(l1)"
      ],
      "metadata": {
        "colab": {
          "base_uri": "https://localhost:8080/"
        },
        "id": "l-R-H_eTa8c3",
        "outputId": "f280d413-3b2e-4039-f255-c371f1fec068"
      },
      "execution_count": null,
      "outputs": [
        {
          "output_type": "stream",
          "name": "stdout",
          "text": [
            "primero -> 4 -> 1 -> 3 -|\n",
            "primero -> 4 -> 1 -> 10 -> 3 -|\n"
          ]
        }
      ]
    },
    {
      "cell_type": "code",
      "source": [
        "class ListaRec(ListaRec):\n",
        "  def eliminar(self, posDel:int)->any: # Definimos eliminar como método de lista\n",
        "    datoDel = None # Como es habitual, voy a retornar el dato que elimino\n",
        "    if 0 <= posDel < self.tamaño(): # Si la posición está entre 0 y el tamaño de la lista (menos 1 porque es <) - Es decir, estoy preguntando si la posición existe dentrod el arreglo\n",
        "      if posDel == 0: # Si la posición es la primera\n",
        "        datoDel = self.__primero.dato # Entonces el dato a eliminar es el dato almacenado en el primer nodo\n",
        "        self.__primero = self.__primero.siguiente # El primero es, entonces, el siguiente\n",
        "      else: #Sino, es decir, si la posición no es la primera:\n",
        "        datoDel = self.__primero.eliminarNodo(posDel) # Recorro recursivamente con eliminarNodo (empezando del primero)\n",
        "    else: #Sino, es decir, me dieron un índice negativo o uno más alto que el tamaño de mi lista\n",
        "      raise IndexError(\"Posición inválida\") # Lanzo un Index Error\n",
        "    return datoDel #Retorno el dato del nodo que eliminé\n",
        "\n",
        "  class __NodoLista(ListaRec.__NodoLista): # Ahora en el nodo armo la función recursiva\n",
        "    def eliminarNodo(self, posDel, posActual = 0)->any:\n",
        "      #recorro lista recursivamente hasta que self apunte al nodo posDel-1 y borro\n",
        "      datoDel = None # Necesito obtener el datoDel porque es lo que retorna eliminar\n",
        "      if posActual == posDel-1: # Si la posición es la anterior a la que quiero elimianr\n",
        "        datoDel = self.siguiente.dato # me guardo el dato del nodo que quiero eliminar, el siguiente del que estoy parado (self)\n",
        "        self.siguiente = self.siguiente.siguiente # Entonces mi siguiente no es el que borro sino su siguiente\n",
        "      else: # Sino, es decir, si la posición no es la que me interesa\n",
        "        datoDel = self.siguiente.eliminarNodo(posDel, posActual+1) # El siguiente nodo será el encargado de eliminar y evaluar. Incremento una posición\n",
        "      return datoDel # Retorno el dato a eliminar\n",
        "\n",
        "l1 = ListaRec()\n",
        "l1.agregarAlFinal(4);l1.agregarAlFinal(1);l1.agregarAlFinal(3);\n",
        "print(l1)\n",
        "print(l1.eliminar(1))\n",
        "print(l1)"
      ],
      "metadata": {
        "colab": {
          "base_uri": "https://localhost:8080/"
        },
        "id": "E1o0bpBua_KQ",
        "outputId": "7d06b48a-e27b-4ad7-99ce-32277b60a7f9"
      },
      "execution_count": null,
      "outputs": [
        {
          "output_type": "stream",
          "name": "stdout",
          "text": [
            "primero -> 4 -> 1 -> 3 -|\n",
            "1\n",
            "primero -> 4 -> 3 -|\n"
          ]
        }
      ]
    },
    {
      "cell_type": "code",
      "source": [
        "class ListaRec(ListaRec):\n",
        "  def obtener(self, posGet:int)->any: #Obtener es muy parecido a eliminar (pero más fácil porque no tengo que cambiar conexiones entre los nodos)\n",
        "    datoGet = None # Inicializo la variable que contendrá el valor de la posición indicada\n",
        "    if 0 <= posGet < self.tamaño(): # Si el índice es válido (es positivo y menor estricto que el tamaño)\n",
        "      datoGet = self.__primero.obtenerNodo(posGet) # Delego en el primero la responsabilidad de saber qué nodo es\n",
        "    else: # Sino, es decir, me dieron una posición inválida\n",
        "      raise IndexError(\"Posicion inválida\") # Lanzo un index error\n",
        "    return datoGet # Retorno el dato\n",
        "\n",
        "  class __NodoLista(ListaRec.__NodoLista): # Armo al función recursiva en los nodos\n",
        "    def obtenerNodo(self, posGet, posActual = 0)->any: # La función cuenta la posActual\n",
        "      datoGet = None # Inicializo la variable con el dato que quiero obtener\n",
        "      if posActual == posGet: # Si la posicióna actual es la que estoy buscando:\n",
        "        datoGet = self.dato # Guardo eld ato\n",
        "      else: # Sino\n",
        "        datoGet = self.siguiente.obtenerNodo(posGet, posActual+1) # Me muevo recursivamente al siguiente nodo\n",
        "      return datoGet #Retorno finalmente el datoGet\n",
        "\n",
        "l1 = ListaRec()\n",
        "l1.agregarAlFinal(4);l1.agregarAlFinal(22);l1.agregarAlFinal(3);\n",
        "print(l1)\n",
        "print(l1.obtener(1))"
      ],
      "metadata": {
        "colab": {
          "base_uri": "https://localhost:8080/"
        },
        "id": "QfZdyFeAbB2S",
        "outputId": "460563a7-d7d8-4339-c0ba-09bde589a7f0"
      },
      "execution_count": null,
      "outputs": [
        {
          "output_type": "stream",
          "name": "stdout",
          "text": [
            "primero -> 4 -> 22 -> 3 -|\n",
            "22\n"
          ]
        }
      ]
    },
    {
      "cell_type": "markdown",
      "metadata": {
        "id": "Q0D1vzJZzqID"
      },
      "source": [
        "### **Ejercicio 2**\n",
        "\n",
        "Escribir una operación del TDA Lista que intercambie los dos primeros nodos de la lista."
      ]
    },
    {
      "cell_type": "code",
      "metadata": {
        "id": "Y4eHEO31zpnu",
        "colab": {
          "base_uri": "https://localhost:8080/"
        },
        "outputId": "3dc39c31-d78e-4e52-8848-94a0618066a8"
      },
      "source": [
        "class Lista (Lista): #Definimos la clase Lista que hereda de Lista (Esto appendea las funciones nuevas sobre la interfaz ya escrita)\n",
        "  def intercambiar(self): #Definimos INTERCAMBIAR\n",
        "    if self.tamaño() > 1: #Si el tamaño es mayor que 2 (tengo al menos dos elementos para intercambiar)\n",
        "      aux = self.__primero #Defino como auxiliar mi primer nodo\n",
        "      self.__primero = aux.siguiente # Le indico a la lista que el primero es el siguiente al auxiliar (que es el primero original), es decir, el segundo. Este segundo (que ahora para la lista es el primero)\n",
        "      aux.siguiente = self.__primero.siguiente # Indico que el siguiente del que originalmente estaba primero, es el siguiente del que la lista conoce como primero (tercero originalmente)\n",
        "      self.__primero.siguiente = aux #Por último indico que el siguiente del que la lista considera primero es el auxiliar (el que originalmente es el primero pasa a ser el segundo)\n",
        "      #FIN\n",
        "      # La lógica sería así:\n",
        "      # | A -> B -> C |\n",
        "      # aux = A (queda flotando)\n",
        "      # el siguiente de A es B, entonces pongo B primero. A estaba flotando y cree que su siguiente es B\n",
        "      # self.__primero = aux.siguiente me deja un estado así = | B -> C | .... A -> B se encuentra en algún lado (en realidad se encuentra guardado en aux)\n",
        "      # aux.siguiente indica que el siguiente de A debe ser self.__primero.siguiente, es decir, self.primero es B y el siguiente es C, entonces A flotante queda como A -> C porque le indiqué que el siguiente de A es el siguiente del nuevo primero\n",
        "      # En este punto estoy así: |B -> C| .... A -> C, lo que quiero hacer ahora es que el siguiente de B sea A para terminar la permutación.\n",
        "      # self.__primero.siguiente indica que el siguiente de B sea aux, que es A (siempre lo fue), y como A ya sabe que su siguiente es C termino generando:\n",
        "      # | B -> A -> C |\n",
        "l1 = Lista()\n",
        "l1.agregarAlFinal(4);l1.agregarAlFinal(1);l1.agregarAlFinal(2)\n",
        "print(l1)\n",
        "l1.intercambiar()\n",
        "print(l1)"
      ],
      "execution_count": null,
      "outputs": [
        {
          "output_type": "stream",
          "name": "stdout",
          "text": [
            "primero -> 4 -> 1 -> 2 -|\n",
            "primero -> 1 -> 4 -> 2 -|\n"
          ]
        }
      ]
    },
    {
      "cell_type": "markdown",
      "metadata": {
        "id": "mpbNzKecOIQe"
      },
      "source": [
        "### **Ejercicio 3**\n",
        "\n",
        "Escribir la operación del TDA Lista **buscaElemento()** que busque un elemento que recibe por parámetro. La operación debe retornar una lista con las ubicaciones del elemento en la lista de entrada.\n",
        "\n",
        "Por ejemplo:\n",
        "\n",
        "**lista1** = [ 2 , 2 , 1 , 4 , 2 , 8 , 9 , 2 , 10]\n",
        "\n",
        "**posiciones = lista1.buscaElemento(2)**\n",
        "\n",
        "Entonces, **posiciones** = [ 0 , 1 , 4 , 7 ]"
      ]
    },
    {
      "cell_type": "code",
      "source": [
        "class Lista (Lista): # Construimos sobre la intefaz que ya tenemos\n",
        "  def buscarElemento(self, elem): # definimos buscar elemento, toma por parámtero el elemento que vamos a buscar\n",
        "    ret = Lista() # Instancio un ret como una lista vacía, la cual va a contener las posiciones donde aparece el elemento que estoy buscando\n",
        "    # Notar que es una Lista de las nuestras, no es una lista nativa de Python ni un array de numpy\n",
        "    pos = 0 # Inicializo mi contador de posiciones\n",
        "    aux = self.__primero # Como es habitual, inicializo mi nodo auxiliar como el primero\n",
        "    while aux != None: # Mientras el nodo auxiliar sea distinto de none:\n",
        "      if elem == aux.dato: # Si el elemento que estoy buscando es igual al dato que contiene el nodo auxiliar en esa determiada iteración:\n",
        "        ret.agregarAlFinal(pos) # Guardo su posición en mi lista de resultado\n",
        "      aux = aux.siguiente # Me muevo al siguiente nodo\n",
        "      pos += 1 # Incremento en 1 mi contador\n",
        "    return ret # Una vez que terminó el while dado qeu recorrí toda la lista, retornamos la lista con las posiciones\n",
        "\n",
        "l1 = Lista()\n",
        "l1.agregarAlFinal(4);l1.agregarAlFinal(1);l1.agregarAlFinal(2);l1.agregarAlFinal(2);l1.agregarAlFinal(5);l1.agregarAlFinal(2)\n",
        "print(l1)\n",
        "posiciones = l1.buscarElemento(2)\n",
        "print(posiciones)"
      ],
      "metadata": {
        "id": "A_h1VCRxg42L",
        "colab": {
          "base_uri": "https://localhost:8080/"
        },
        "outputId": "d1f8cc17-f92a-44c5-ae7d-22aa6615f9d7"
      },
      "execution_count": null,
      "outputs": [
        {
          "output_type": "stream",
          "name": "stdout",
          "text": [
            "primero -> 4 -> 1 -> 2 -> 2 -> 5 -> 2 -|\n",
            "primero -> 2 -> 3 -> 5 -|\n"
          ]
        }
      ]
    },
    {
      "cell_type": "code",
      "source": [
        "class ListaRec(ListaRec): #Construimos la solución recursiva sobre nuestra lista recursiva\n",
        "  def buscaElemento(self, datoBusc:any)->ListaRec: #defino la fucnión a nivel lista. Toma el dato buscado\n",
        "    posiciones = ListaRec() # Armo una lista con las posiciones de donde estan los elementos que busco\n",
        "    if not self.estaVacia(): # Si la lista NO está vacía\n",
        "      self.__primero.buscaElementoNodo(datoBusc, posiciones) # Busco recursivamente empezando del primero, a nivel nodo\n",
        "    return posiciones # Retorno la lista de mis posiciones\n",
        "\n",
        "  class __NodoLista(ListaRec.__NodoLista): # A nivel nodo\n",
        "    def buscaElementoNodo(self, datoBusc:any, listaPos:ListaRec, posActual:int = 0)->None:\n",
        "    # Tomo por parámetro el dato buscado LA LISTA DE POSICIONES y la posicion actual (inicializada en cero)\n",
        "      if self.dato == datoBusc: # Si el nodo en el que estoy contiene el dato buscado:\n",
        "        listaPos.agregarAlFinal(posActual) # agrego a la lista de posiciones la posicion actual\n",
        "      if self.tieneSiguiente(): # Si tiene siguiente:\n",
        "        self.siguiente.buscaElementoNodo(datoBusc, listaPos, posActual+1) # sigo recorriendo recursivamente, aumentando en las posiciones y recibiendo la misma lista de posciones\n",
        "\n",
        "l1 = ListaRec()\n",
        "l1.agregarAlFinal(4);l1.agregarAlFinal(1);l1.agregarAlFinal(2);l1.agregarAlFinal(2);l1.agregarAlFinal(5);l1.agregarAlFinal(2)\n",
        "print(l1)\n",
        "posiciones = l1.buscaElemento(2)\n",
        "print(posiciones)"
      ],
      "metadata": {
        "colab": {
          "base_uri": "https://localhost:8080/"
        },
        "id": "JvMyLH-lsLRq",
        "outputId": "ba68818f-1ac1-4fa6-9eca-96cef69e1016"
      },
      "execution_count": null,
      "outputs": [
        {
          "output_type": "stream",
          "name": "stdout",
          "text": [
            "primero -> 4 -> 1 -> 2 -> 2 -> 5 -> 2 -|\n",
            "primero -> 2 -> 3 -> 5 -|\n"
          ]
        }
      ]
    },
    {
      "cell_type": "markdown",
      "metadata": {
        "id": "-YN0LThH0dO6"
      },
      "source": [
        "### **Ejercicio 4**\n",
        "\n",
        "Escribir una operación del TDA Lista que elimine todas las ocurrencias de un elemento que recibe por parámetro y devuelva la cantidad de veces que se elimino el elemento. Se deben eliminar todos los nodos que contengan al elemento.\n",
        "\n",
        "Por ejemplo:\n",
        "\n",
        "**lista1** = [ 2 , 2 , 1 , 4 , 2 , 2 , 8 , 9 , 2 , 10]\n",
        "\n",
        "**cant = lista1.eliminarOcurrencias(2)**\n",
        "\n",
        "Entonces, **cant** = 5  y **lista1** = [ 1 , 4 , 8 , 9 , 10 ]\n",
        "\n",
        "          "
      ]
    },
    {
      "cell_type": "code",
      "source": [
        "class Lista(Lista):\n",
        "  def eliminarOcurrencias_vivo(self , datoAEliminar):\n",
        "    N = 0\n",
        "    if not self.estaVacia():\n",
        "      while not self.estaVacia() and self.__primero.dato == datoAEliminar:\n",
        "        self.__primero = self.__primero.siguiente\n",
        "        N += 1\n",
        "      aux = self.__primero\n",
        "      while not self.estaVacia() and aux != None and aux.tieneSiguiente():\n",
        "        if aux.siguiente.dato == datoAEliminar:\n",
        "          aux.siguiente = aux.siguiente.siguiente\n",
        "          N += 1\n",
        "        else:\n",
        "          aux = aux.siguiente\n",
        "    return N"
      ],
      "metadata": {
        "id": "nvV3HL9A91qX"
      },
      "execution_count": null,
      "outputs": []
    },
    {
      "cell_type": "code",
      "source": [
        "class ListaRec(ListaRec):\n",
        "  def eliminarOcurrencias_vivo(self , datoAEliminar):\n",
        "    N = 0\n",
        "    while not self.estaVacia() and self.__primero.dato == datoAEliminar:\n",
        "      self.__primero = self.__primero.siguiente\n",
        "      N += 1\n",
        "    if not self.estaVacia():\n",
        "      N += self.__primero.eliminarOcurrenciasNodo(datoAEliminar)\n",
        "    return N\n",
        "\n",
        "  class __NodoLista(ListaRec.__NodoLista):\n",
        "    def eliminarOcurrenciasNodo(self , datoAEliminar):\n",
        "      N = 0\n",
        "      if self.tieneSiguiente():\n",
        "        if self.siguiente.dato == datoAEliminar:\n",
        "          self.siguiente = self.siguiente.siguiente\n",
        "          N = 1 + self.eliminarOcurrenciasNodo(datoAEliminar)\n",
        "        else:\n",
        "          N = self.siguiente.eliminarOcurrenciasNodo(datoAEliminar)\n",
        "      return N"
      ],
      "metadata": {
        "id": "Sn6t9HsUE2Pv"
      },
      "execution_count": null,
      "outputs": []
    },
    {
      "cell_type": "code",
      "source": [
        "l1 = ListaRec()\n",
        "l1.agregarAlFinal(4);l1.agregarAlFinal(1);l1.agregarAlFinal(2);l1.agregarAlFinal(2);l1.agregarAlFinal(5);l1.agregarAlFinal(2)\n",
        "print(l1)\n",
        "cantidad = l1.eliminarOcurrencias_vivo(2)\n",
        "print(cantidad)\n",
        "print(l1)"
      ],
      "metadata": {
        "colab": {
          "base_uri": "https://localhost:8080/"
        },
        "id": "2bCH_XTZAgIb",
        "outputId": "9edca43d-fc41-4fa4-e92d-2764dde6dfa1"
      },
      "execution_count": null,
      "outputs": [
        {
          "output_type": "stream",
          "name": "stdout",
          "text": [
            "primero -> 4 -> 1 -> 2 -> 2 -> 5 -> 2 -|\n",
            "3\n",
            "primero -> 4 -> 1 -> 5 -|\n"
          ]
        }
      ]
    },
    {
      "cell_type": "code",
      "source": [],
      "metadata": {
        "id": "vqfIxBb6Agcy"
      },
      "execution_count": null,
      "outputs": []
    },
    {
      "cell_type": "code",
      "source": [
        "#l1 =  [ 1 , 4 , 8 , 9 , 10], datoDel=2\n",
        "#cantDelPrevia = 2 + 3 = 5\n",
        "#cantDel = 1 + 1 + 0 + 0 + 1 + 0 = 3\n",
        "class Lista (Lista): #Construimos sobre la intefraz que ya tenemos\n",
        "  def eliminarOcurrencias(self,datoDel): # EliminarOcurrencias recibe como parámetro el dato que queremos eliminar\n",
        "    cantDel = 0 # Inicializo mi contador de ocurrencias\n",
        "    if not self.estaVacia(): # Si la lista NO está vacía\n",
        "      # Hay que dividir el problema en dos partes, porque no es lo mismo eliminar el primer dato que eliminar los del medio.\n",
        "      # sobretodo porque si eliminamos el primero hay que indicarle a la lista cuál es el primero:\n",
        "      # Eliminamos apariciones del datoDel al inicio\n",
        "      while not self.estaVacia() and self.__primero.dato == datoDel: #Mientras no esté vacía (ya validamos al principio pero si todos los números son datoDel (caso extremo) puedo terminar vaciando la lista)\n",
        "      # Mientras no esté vacía y el dato que quiero eliminar es el dato contenido en el primero nodo:\n",
        "        self.__primero = self.__primero.siguiente # Le indico a la lista que el primero ahora es el siguiente al que tenía definindo como primero (el primero ahora es el segundo). De esta forma ya nada me referncia al primero por lo tanto lo eliminamos\n",
        "        cantDel +=1 #Sumo uno a mis datos eliminados.\n",
        "        # Ahora puede ser que el que puse como primero vuelva a ser el datoDel, por eso es que estoy dentro de un while. En un caso normal donde NO está sucedineod eso, ya el while se rompre por la condición\n",
        "        # Y tengo que eliminar a partir de la posición 1:\n",
        "      if not self.estaVacia(): #Si no está vacía: (pudo haber quedado vacía si el único elemento que tenía para eliminar era el que eliminé en el paso anterior)\n",
        "        nodoAux = self.__primero #Recorro como siempre, nodo aux será entocnes el primero referenciado por la lista\n",
        "        while nodoAux.tieneSiguiente(): #Mientras nodoAux tenga siguiente:\n",
        "          if nodoAux.siguiente.dato == datoDel: #Si el dato contenido en el siguiente nodo respecto al auxiliar es el dato que quiero eliminar (si estoy en el primero estoy mirando el dato que contiene el segundo y así)\n",
        "            nodoAux.siguiente = nodoAux.siguiente.siguiente # Elimino el siguiente, diciendo que el siguiente del nodoAux es el siguiente del siguiente (me salteo uno) dejando morir al nodo que contiene el dato.\n",
        "            #Ojo acá porque como eliminé, tengo que volver a evaluar el siguiente de nodoAux, que no lo vi antes (era el siguiente del siguiente) entonces no digo que nodoAux = nodoAux.siguiente justamente porque\n",
        "            # Eliminé entonces quiero volver a correr la misma iteración porque mi \"siguiente\" ahora es otro que aún no vi\n",
        "            cantDel += 1 #Como eliminé, sumo uno a mi contador\n",
        "          else: #Sino, es decir, si el dato no coincide con el dato que quiero eliminar\n",
        "            nodoAux = nodoAux.siguiente # En ese caso sí me muevo en el auxiliar uno más\n",
        "    return cantDel # Al final retorno cantDel que debe contener la cantidad de datos que se eliminaron\n",
        "\n",
        "l1 = Lista()\n",
        "l1.agregarAlFinal(4);l1.agregarAlFinal(1);l1.agregarAlFinal(2);l1.agregarAlFinal(2);l1.agregarAlFinal(5);l1.agregarAlFinal(2)\n",
        "print(l1)\n",
        "cantidad = l1.eliminarOcurrencias(2)\n",
        "print(cantidad)\n",
        "print(l1)"
      ],
      "metadata": {
        "colab": {
          "base_uri": "https://localhost:8080/"
        },
        "id": "kL1V003khC7I",
        "outputId": "dfdba35b-fe60-474f-82cb-ef59a7997011"
      },
      "execution_count": null,
      "outputs": [
        {
          "output_type": "stream",
          "name": "stdout",
          "text": [
            "primero -> 4 -> 1 -> 2 -> 2 -> 5 -> 2 -|\n",
            "3\n",
            "primero -> 4 -> 1 -> 5 -|\n"
          ]
        }
      ]
    },
    {
      "cell_type": "code",
      "source": [
        "class ListaRec(ListaRec):\n",
        "  def eliminarOcurrencias(self, datoDel:any)->int: #Definimos la función a nivel lista\n",
        "    cantDel = 0 # Inicializo una variable con la cantidad de datos que eliminé (empezando en cero)\n",
        "    if not self.estaVacia(): # Si la lista NO está vacía:\n",
        "      #Eliminamos apariciones del datoDel al inicio\n",
        "      # Esto es como en la lista común, si me aparece el dato a eliminar al principio y el siguiente también es el mismo dato y así necesito ir recorriendo pero no sé hsta cuando\n",
        "      while not self.estaVacia() and self.__primero.dato == datoDel: # mientras no esté cacía y el primer dato sea el que quiero elimianr\n",
        "        self.__primero = self.__primero.siguiente # El primero será el siguiente\n",
        "        cantDel +=1 # Sumo uno a mi contador\n",
        "      #Eliminamos el resto a apartir de la posicion 1\n",
        "      if not self.estaVacia(): # Si no está vacía acá si podemos hacer recursión\n",
        "        cantDel += self.__primero.eliminarOcurrenciasNodo(datoDel) # Voy a sumar las ocurrencias que me retorne el primer nodo con su función a nivel nodo\n",
        "    return cantDel # Retorno la cantidad de datos que eliminé\n",
        "\n",
        "  class __NodoLista(ListaRec.__NodoLista):\n",
        "    def eliminarOcurrenciasNodo(self, datoDel:any)->int: #AHora la función a nivel nodo: solo toma el dato a eliminar\n",
        "      cantDel = 0 # Inicializo la variable que cuenta los datos eliminados\n",
        "      if self.tieneSiguiente(): # Si tiene siguiente (me puedo ir moviendo)\n",
        "        if self.siguiente.dato == datoDel: # Si el siguiente contiene el dato que quiero eliminar\n",
        "          self.siguiente = self.siguiente.siguiente # Entonces mi siguiente será el siguiente del siguiente\n",
        "          cantDel = 1 + self.eliminarOcurrenciasNodo(datoDel) # Sumo 1 a mi contador de datos eliminados y sumo también los de los nodos que sigan\n",
        "        else: # Sino, es decir, si el siguiente no contiene el dato que quiero eliminar\n",
        "          cantDel = self.siguiente.eliminarOcurrenciasNodo(datoDel) # Llamo a la vuelta recursiva para el siguiente\n",
        "      return cantDel # Retorno la cantidad de datos eliminados\n",
        "\n",
        "l1 = ListaRec()\n",
        "l1.agregarAlFinal(2);l1.agregarAlFinal(2);l1.agregarAlFinal(1);l1.agregarAlFinal(4);l1.agregarAlFinal(2);l1.agregarAlFinal(2)\n",
        "l1.agregarAlFinal(8);l1.agregarAlFinal(9);l1.agregarAlFinal(2);l1.agregarAlFinal(10);\n",
        "print(l1)\n",
        "print(l1.eliminarOcurrencias(2))\n",
        "print(l1)"
      ],
      "metadata": {
        "colab": {
          "base_uri": "https://localhost:8080/"
        },
        "id": "YWv_CQL9sPzD",
        "outputId": "aba7f893-fc3d-4542-d5f3-2c3630eb417e"
      },
      "execution_count": null,
      "outputs": [
        {
          "output_type": "stream",
          "name": "stdout",
          "text": [
            "primero -> 2 -> 2 -> 1 -> 4 -> 2 -> 2 -> 8 -> 9 -> 2 -> 10 -|\n",
            "5\n",
            "primero -> 1 -> 4 -> 8 -> 9 -> 10 -|\n"
          ]
        }
      ]
    },
    {
      "cell_type": "markdown",
      "metadata": {
        "id": "_Q_DCTjI3AGK"
      },
      "source": [
        "### **Ejercicio 5**\n",
        "\n",
        "Escribir una operación del TDA Lista que saque el nodo que esta al inicio de la lista (posición cero) y lo ponga en el final. Hacer otra que haga lo contrario, saque el nodo del final y lo ponga al inicio."
      ]
    },
    {
      "cell_type": "code",
      "metadata": {
        "id": "S1y89t3q3BkZ",
        "colab": {
          "base_uri": "https://localhost:8080/"
        },
        "outputId": "b4186df1-80b7-4009-e61a-0cf1294f60de"
      },
      "source": [
        "class Lista(Lista):\n",
        "  def elPrimeroAlFinal(self)->None:\n",
        "    if self.tamaño() > 1: # Para hacer esto necesito por lo menos dos elementos\n",
        "      primero = self.__primero # Guardo el primer nodo en una variable\n",
        "      self.__primero = primero.siguiente # Ahora para mi lista el primero es el segundo\n",
        "      primero.siguiente = None # El que originalmente estaba primero ahora no tiene siguiente (por definición de último)\n",
        "      aux = self.__primero # Para llegar al último debo recorrer mi lista como es habitual iniciando un nodoAux que comience en el primero\n",
        "      while aux.tieneSiguiente(): # Mientras aux tenga siguiente:\n",
        "        aux = aux.siguiente # Me muevo al siguiente\n",
        "      aux.siguiente = primero # Cuando salgo del loop es porque aux no tiene siguiente, es decir, su siguiente es none, es decir que aux es el último.\n",
        "      # Le indico a aux que su siguiente es el que originalment eestaba primero, guardado en la variable \"primero\". A primero ya le habíamos cambiado su siguiente y habíamos indicado que era none\n",
        "      # No me intereas retornar nada\n",
        "\n",
        "l1 = Lista()\n",
        "l1.agregarAlFinal(4);l1.agregarAlFinal(1);l1.agregarAlFinal(2);l1.agregarAlFinal(2);l1.agregarAlFinal(5);l1.agregarAlFinal(2)\n",
        "print(l1)\n",
        "l1.elPrimeroAlFinal()\n",
        "print(l1)"
      ],
      "execution_count": null,
      "outputs": [
        {
          "output_type": "stream",
          "name": "stdout",
          "text": [
            "primero -> 4 -> 1 -> 2 -> 2 -> 5 -> 2 -|\n",
            "primero -> 1 -> 2 -> 2 -> 5 -> 2 -> 4 -|\n"
          ]
        }
      ]
    },
    {
      "cell_type": "code",
      "source": [
        "class Lista(Lista):\n",
        "  def elUltimoAlPrincipio(self)->None:\n",
        "    if self.tamaño() > 1: #Acá lo mismo, necesito al menos dos elementos para que haya un principio o un final\n",
        "      aux = self.__primero # Voy a recorrer hasta el ultimo así que inicializo un nodo auxiliar en el primero de la lista\n",
        "      while aux.siguiente.tieneSiguiente(): #Pero yo quiero manipular el último nodo, entonces me tengo que quedar un paso antes de terminar, por eso evalúo si el siguiente del auxiliar tiene siguiente\n",
        "        aux = aux.siguiente # Mientras haya siguientes avanzo\n",
        "      aux.siguiente.siguiente = self.__primero # Una vez que salí es porque estoy en el ante-último nodo, es decir, que el siguiente es el último, por lo tanto el siguiente del siguiente es None.\n",
        "      # Indico al último nodo que su siguiente es el primero\n",
        "      self.__primero = aux.siguiente # Indico a la lista que ahora su primero es el siguiente del auxiliar (el último)\n",
        "      aux.siguiente = None #Por último indico que el siguiente de mi auxiliar (anteúltimo) es None, o sea, mi ante último es ahora el último\n",
        "\n",
        "l1 = Lista()\n",
        "l1.agregarAlFinal(4);l1.agregarAlFinal(1);l1.agregarAlFinal(2);l1.agregarAlFinal(2);l1.agregarAlFinal(5);l1.agregarAlFinal(2)\n",
        "print(l1)\n",
        "l1.elUltimoAlPrincipio()\n",
        "print(l1)"
      ],
      "metadata": {
        "colab": {
          "base_uri": "https://localhost:8080/"
        },
        "id": "x4nSF--o1zLZ",
        "outputId": "097ce9f9-7738-4115-fd0e-01960674b0da"
      },
      "execution_count": null,
      "outputs": [
        {
          "output_type": "stream",
          "name": "stdout",
          "text": [
            "primero -> 4 -> 1 -> 2 -> 2 -> 5 -> 2 -|\n",
            "primero -> 2 -> 4 -> 1 -> 2 -> 2 -> 5 -|\n"
          ]
        }
      ]
    },
    {
      "cell_type": "markdown",
      "metadata": {
        "id": "xfP229oY3ODC"
      },
      "source": [
        "### **Ejercicio 6**\n",
        "\n",
        "Escribir una operación del TDA Lista que reemplace todas las ocurrencias de un numero por otro. Ambos números los recibe por parámetro.\n",
        "\n",
        "Por ejemplo:\n",
        "\n",
        "\n",
        "**lista1** = [ 2 , 1 , 4 , 8 , 9 , 2 , 5 , 12 , 10]\n",
        "\n",
        "**lista1.reemplazar(2,3)** #Reemplaza todos los 2 por 3\n",
        "\n",
        "Entonces, **lista1** = [ 3 , 1 , 4 , 8 , 9 , 3 , 5 , 12 , 10 ]"
      ]
    },
    {
      "cell_type": "code",
      "metadata": {
        "id": "BMNroH_l3Ojz",
        "colab": {
          "base_uri": "https://localhost:8080/"
        },
        "outputId": "19271594-9898-491e-cafa-6b033bbbac86"
      },
      "source": [
        "# Recorrer todos los nodos y cambiar el dato de su interior\n",
        "class Lista(Lista):\n",
        "  #asumimos que la lista no esta vacia\n",
        "  def reemplazar(self,numero, numeroNuevo): #Definimos la función que toma un elemento a reemplazar y otro elemento que será el reemplazo\n",
        "    aux = self.__primero #Recorremos: inicio por el primero\n",
        "    while aux != None: #Mientras aux sea dinstinto de None\n",
        "      if aux.dato == numero: #Si el dato en el auxiliar es el número que estoy buscando\n",
        "        aux.dato = numeroNuevo #El dato almacenado en el nodo auxiliar sera el número nuevo\n",
        "      aux = aux.siguiente #Avanzo al próximo nodo\n",
        "\n",
        "l1 = Lista()\n",
        "l1.agregarAlFinal(4);l1.agregarAlFinal(1);l1.agregarAlFinal(2);l1.agregarAlFinal(2);l1.agregarAlFinal(5);l1.agregarAlFinal(2)\n",
        "print(l1)\n",
        "l1.reemplazar(2,10)\n",
        "print(l1)"
      ],
      "execution_count": null,
      "outputs": [
        {
          "output_type": "stream",
          "name": "stdout",
          "text": [
            "primero -> 4 -> 1 -> 2 -> 2 -> 5 -> 2 -|\n",
            "primero -> 4 -> 1 -> 10 -> 10 -> 5 -> 10 -|\n"
          ]
        }
      ]
    },
    {
      "cell_type": "code",
      "source": [
        "class ListaRec(ListaRec):\n",
        "  def reemplazar(self,numero, numeroNuevo): #Definimos la función que toma un elemento a reemplazar y otro elemento que será el reemplazo\n",
        "    if not self.estaVacia(): # Si no está vacía\n",
        "      self.__primero.reemplazarNodo(numero , numeroNuevo) #Delego en el primero la responsabilidad de reemplazar el resto\n",
        "\n",
        "  class __NodoLista(ListaRec.__NodoLista):\n",
        "    def reemplazarNodo(self , numero , numeroNuevo):\n",
        "      if self != None: # Si el nodo en el que estoy es distinto de None\n",
        "        if self.dato == numero: # Si el dato es igual que el número buscado\n",
        "          self.dato = numeroNuevo # Reemplazo el dato de ese nodo\n",
        "        if self.tieneSiguiente(): # Si hay siguiente\n",
        "          self.siguiente.reemplazarNodo(numero , numeroNuevo) #Recorro recursivamente\n",
        "\n",
        "\n",
        "l1 = ListaRec()\n",
        "l1.agregarAlFinal(4);l1.agregarAlFinal(1);l1.agregarAlFinal(2);l1.agregarAlFinal(2);l1.agregarAlFinal(5);l1.agregarAlFinal(2)\n",
        "print(l1)\n",
        "l1.reemplazar(2,10)\n",
        "print(l1)"
      ],
      "metadata": {
        "colab": {
          "base_uri": "https://localhost:8080/"
        },
        "id": "Wv5aQ_WMsmqe",
        "outputId": "6a7c0f2e-9dfd-4620-93b7-45d9981911a7"
      },
      "execution_count": null,
      "outputs": [
        {
          "output_type": "stream",
          "name": "stdout",
          "text": [
            "primero -> 4 -> 1 -> 2 -> 2 -> 5 -> 2 -|\n",
            "primero -> 4 -> 1 -> 10 -> 10 -> 5 -> 10 -|\n"
          ]
        }
      ]
    },
    {
      "cell_type": "markdown",
      "metadata": {
        "id": "nxgYjoxl3gmz"
      },
      "source": [
        "### **Ejercicio 7**\n",
        "\n",
        "Escribir la operación **duplicar()** del TDA Lista que duplica el contenido de una lista.\n",
        "\n",
        "Por ejemplo:\n",
        "\n",
        "**lista1** = [ 2 , 1 , 4 , 8 , 9 ]\n",
        "\n",
        "**lista1.duplicar()**\n",
        "\n",
        "Entonces, **lista1** = [ 2 , 1 , 4 , 8 , 9 , 2 , 1 , 4 , 8 , 9 ]"
      ]
    },
    {
      "cell_type": "code",
      "metadata": {
        "id": "Ojjaj3Z23g7j",
        "colab": {
          "base_uri": "https://localhost:8080/"
        },
        "outputId": "886b8744-feea-438a-fb61-de63fc6d9c62"
      },
      "source": [
        "class Lista(Lista):\n",
        "  def duplicar(self):\n",
        "    N = self.tamaño() # Tomo el tamaño original de mi lista\n",
        "    aux = self.__primero # guardo en una variable auxiliar el primer elemento\n",
        "    while N > 0: # Mientras N sea mayor que cero\n",
        "      self.agregarAlFinal(aux.dato) # Agrego al final de mi lista el dato contenido en la variable auxiliar\n",
        "      N -= 1 # Le resto 1 a N\n",
        "      aux = aux.siguiente # Me muevo al siguiente nodo\n",
        "\n",
        "l1 = Lista()\n",
        "l1.agregarAlFinal(4);l1.agregarAlFinal(1);l1.agregarAlFinal(2);l1.agregarAlFinal(2);l1.agregarAlFinal(5);l1.agregarAlFinal(2)\n",
        "print(l1)\n",
        "l1.duplicar()\n",
        "print(l1)"
      ],
      "execution_count": null,
      "outputs": [
        {
          "output_type": "stream",
          "name": "stdout",
          "text": [
            "primero -> 4 -> 1 -> 2 -> 2 -> 5 -> 2 -|\n",
            "primero -> 4 -> 1 -> 2 -> 2 -> 5 -> 2 -> 4 -> 1 -> 2 -> 2 -> 5 -> 2 -|\n"
          ]
        }
      ]
    },
    {
      "cell_type": "code",
      "source": [
        "class ListaRec(ListaRec):\n",
        "  def duplicar(self): # Es lo mismo, soo que internamente agregarAlFinal es recursiva\n",
        "    N = self.tamaño() # Tomo el tamaño original de mi lista\n",
        "    aux = self.__primero # guardo en una variable auxiliar el primer elemento\n",
        "    while N > 0: # Mientras N sea mayor que cero\n",
        "      self.agregarAlFinal(aux.dato) # Agrego al final de mi lista el dato contenido en la variable auxiliar\n",
        "      N -= 1 # Le resto 1 a N\n",
        "      aux = aux.siguiente # Me muevo al siguiente nodo\n",
        "\n",
        "l1 = ListaRec()\n",
        "l1.agregarAlFinal(4);l1.agregarAlFinal(1);l1.agregarAlFinal(2);l1.agregarAlFinal(2);l1.agregarAlFinal(5);l1.agregarAlFinal(2)\n",
        "print(l1)\n",
        "l1.duplicar()\n",
        "print(l1)"
      ],
      "metadata": {
        "colab": {
          "base_uri": "https://localhost:8080/"
        },
        "id": "l_FmSSjVsr5f",
        "outputId": "39e85100-ec60-41c1-a9dc-063a5f92b5bc"
      },
      "execution_count": null,
      "outputs": [
        {
          "output_type": "stream",
          "name": "stdout",
          "text": [
            "primero -> 4 -> 1 -> 2 -> 2 -> 5 -> 2 -|\n",
            "primero -> 4 -> 1 -> 2 -> 2 -> 5 -> 2 -> 4 -> 1 -> 2 -> 2 -> 5 -> 2 -|\n"
          ]
        }
      ]
    },
    {
      "cell_type": "markdown",
      "metadata": {
        "id": "qBL1crPl55oY"
      },
      "source": [
        "### **Ejercicio 8**\n",
        "\n",
        "Los recorridos de listas normalmente pasan por todos los nodos, empezando por el primero, luego al siguiente, etc, como en la siguiente figura:\n",
        "\n",
        "\n",
        "![texto alternativo](https://i.ibb.co/DD1SXP9/recorrido-lista.png)\n",
        "\n",
        "\n",
        "Escribir una operación del TDA Lista que recorra la lista salteandose de a un nodo y mostrando por pantalla los elementos de los nodos visitados. El recorrido debe ser asi:\n",
        "\n",
        "![texto alternativo](https://i.ibb.co/q7xjDkZ/recorrido-salteado-lista.png)\n",
        "\n",
        "Por ejemplo:\n",
        "\n",
        "**lista1** = [ 2 , 1 , 4 , 8 , 9 , 12 , 5 , 8 ]\n",
        "\n",
        "**lista1.recorridoSalteado()**\n",
        "\n",
        "2\n",
        "\n",
        "4\n",
        "\n",
        "9\n",
        "\n",
        "5\n",
        "\n",
        "\n",
        "**Nota: No es correcto hacer un recorrido secuencial e ir contando las posiciones, lo correcto es solo visitar los nodos que nos interesan**"
      ]
    },
    {
      "cell_type": "code",
      "metadata": {
        "id": "QufyqyM4uaTw",
        "colab": {
          "base_uri": "https://localhost:8080/"
        },
        "outputId": "b28ca04d-8ee6-49b2-9cb8-6668e70ae977"
      },
      "source": [
        "class Lista (Lista):\n",
        "  def recorridoSalteado(self):\n",
        "    aux = self.__primero # Empezamos desde el primero guardandolo en una variable auxiliar\n",
        "    while aux.siguiente != None and aux.siguiente.siguiente != None: # Para evaluar si el siguiente del siguiente es none primero tengo que estar seguro que el sigueinte no es none, sino puede devolver error\n",
        "      print (aux.dato) # Printeamos el dato\n",
        "      aux = aux.siguiente.siguiente # Y pasamos directamente al siguiente del siguiente (que ya sabemos que es distinto de None por como está construido el while)\n",
        "    print(aux.dato) #finalmente printeamos el último dato que nos quedó guardado en caso que no se vuelva a ingresar al while\n",
        "\n",
        "l1 = Lista()\n",
        "l1.agregarAlFinal(4);l1.agregarAlFinal(1);l1.agregarAlFinal(2);l1.agregarAlFinal(2);l1.agregarAlFinal(5);l1.agregarAlFinal(2)\n",
        "print(l1)\n",
        "l1.recorridoSalteado()"
      ],
      "execution_count": null,
      "outputs": [
        {
          "output_type": "stream",
          "name": "stdout",
          "text": [
            "primero -> 4 -> 1 -> 2 -> 2 -> 5 -> 2 -|\n",
            "4\n",
            "2\n",
            "5\n"
          ]
        }
      ]
    },
    {
      "cell_type": "code",
      "source": [
        "class ListaRec(ListaRec):\n",
        "  def recorridoSalteado(self):\n",
        "    if not self.estaVacia(): # Si no está vacía\n",
        "      self.__primero.recorridoSalteadoNodo() #Simplemente sobre el primero llamo a la función del tipo nodo\n",
        "\n",
        "  class __NodoLista(ListaRec.__NodoLista):\n",
        "    def recorridoSalteadoNodo(self): #Defino la función tipo nodo\n",
        "      print(self.dato) # Imprimo el dato\n",
        "      if self.siguiente.tieneSiguiente(): # Si mi siguiente tiene siguiente (para saltar de a dos en dos)\n",
        "        self.siguiente.siguiente.recorridoSalteadoNodo() # Le paso la pelota al siguiente del siguiente\n",
        "\n",
        "l1 = ListaRec()\n",
        "l1.agregarAlFinal(4);l1.agregarAlFinal(1);l1.agregarAlFinal(2);l1.agregarAlFinal(2);l1.agregarAlFinal(5);l1.agregarAlFinal(2)\n",
        "print(l1)\n",
        "l1.recorridoSalteado()"
      ],
      "metadata": {
        "colab": {
          "base_uri": "https://localhost:8080/"
        },
        "id": "28oi38bLs0lU",
        "outputId": "dbe23108-0bc4-431f-bceb-7d1c406b49ad"
      },
      "execution_count": null,
      "outputs": [
        {
          "output_type": "stream",
          "name": "stdout",
          "text": [
            "primero -> 4 -> 1 -> 2 -> 2 -> 5 -> 2 -|\n",
            "4\n",
            "2\n",
            "5\n"
          ]
        }
      ]
    },
    {
      "cell_type": "markdown",
      "metadata": {
        "id": "kaEphODFuZkW"
      },
      "source": [
        "### **Ejercicio 9**\n",
        "\n",
        "Vamos con otro tipo de recorrido de listas, escribir una operación del TDA Lista que recorra la lista de la siguiente manera (mientras va imprimiendo los elementos del nodo visitado):\n",
        "- Si el elemento del nodo visitado es par, seguimos por el siguiente\n",
        "- Si el elemento del nodo visitado es impar, nos salteamos el siguiente y seguimos con el otro\n",
        "\n",
        "El recorrido debe ser asi:\n",
        "\n",
        "![texto alternativo](https://i.ibb.co/DkBKs5M/recorrido-salteadopar-lista.png)\n",
        "\n",
        "Por ejemplo:\n",
        "\n",
        "**lista1** = [ 2 , 5 , 1 , 9 , 8 , 10 , 7 ]\n",
        "\n",
        "**lista1.recorridoParImpar()**\n",
        "\n",
        "2\n",
        "\n",
        "5\n",
        "\n",
        "9\n",
        "\n",
        "10\n",
        "\n",
        "7\n"
      ]
    },
    {
      "cell_type": "code",
      "metadata": {
        "id": "Qw2fTW5dG9Fy",
        "colab": {
          "base_uri": "https://localhost:8080/"
        },
        "outputId": "7f18b9b9-2f6c-4489-edba-aa5748b80d4b"
      },
      "source": [
        "class Lista (Lista):\n",
        "  def recorridoParImpar(self):\n",
        "    aux = self.__primero # Empezamos desde el primero guardandolo en una variable auxiliar\n",
        "    while aux.siguiente != None: # En este caso voy a evaluar el siguiente del siguiente solo cuando lo necesito, porque sino puedo tener un problema de borde\n",
        "      print (aux.dato) # Printeamos el dato\n",
        "      if aux.dato%2 == 0: # si el dato almacenado en el nodo es par:\n",
        "        aux = aux.siguiente # Me muevo uno a la derecha\n",
        "      elif aux.siguiente.siguiente != None: # Sino (es impar y además tengo siguiente del siguiente)\n",
        "        aux = aux.siguiente.siguiente # pasamos directamente al siguiente del siguiente\n",
        "    print(aux.dato) #finalmente printeamos el último dato que nos quedó guardado en caso que no se vuelva a ingresar al while (caso de borde)\n",
        "\n",
        "l1 = Lista()\n",
        "l1.agregarAlFinal(2);l1.agregarAlFinal(5);l1.agregarAlFinal(1);l1.agregarAlFinal(9);l1.agregarAlFinal(8);l1.agregarAlFinal(10);l1.agregarAlFinal(7)\n",
        "print(l1)\n",
        "l1.recorridoParImpar()"
      ],
      "execution_count": null,
      "outputs": [
        {
          "output_type": "stream",
          "name": "stdout",
          "text": [
            "primero -> 2 -> 5 -> 1 -> 9 -> 8 -> 10 -> 7 -|\n",
            "2\n",
            "5\n",
            "9\n",
            "10\n",
            "7\n"
          ]
        }
      ]
    },
    {
      "cell_type": "code",
      "source": [
        "class ListaRec(ListaRec):\n",
        "  def recorridoParImpar(self):\n",
        "    if not self.estaVacia(): #Si no está vacía (para poder aplicar funciones sobre el primero)\n",
        "      self.__primero.recorridoParImparNodo() # Delego la función sobre el primero\n",
        "\n",
        "  class __NodoLista(ListaRec.__NodoLista):\n",
        "    def recorridoParImparNodo(self):\n",
        "      print(self.dato) # Muestro el dato (porque si ya llegué acá es que ese nodo me interesa)\n",
        "      if self.dato % 2 == 0 and self.tieneSiguiente(): # Si el dato es par y hay siguiente\n",
        "        self.siguiente.recorridoParImparNodo() # Llamo recursivamente sobre el siguiente\n",
        "      elif self.tieneSiguiente() and self.siguiente.tieneSiguiente(): # sino (no es par), tiene siguiente y el siguiente del siugiente:\n",
        "        self.siguiente.siguiente.recorridoParImparNodo() # Itero recursivamente sobre el sigueinte del sigueinte\n",
        "\n",
        "\n",
        "l1 = ListaRec()\n",
        "l1.agregarAlFinal(2);l1.agregarAlFinal(5);l1.agregarAlFinal(1);l1.agregarAlFinal(9);l1.agregarAlFinal(8);l1.agregarAlFinal(10);l1.agregarAlFinal(7)\n",
        "print(l1)\n",
        "l1.recorridoParImpar()"
      ],
      "metadata": {
        "colab": {
          "base_uri": "https://localhost:8080/"
        },
        "id": "5n9ZgM0ds7P_",
        "outputId": "9ff813cb-c8f1-40f0-9ef3-4d69c2f5d281"
      },
      "execution_count": null,
      "outputs": [
        {
          "output_type": "stream",
          "name": "stdout",
          "text": [
            "primero -> 2 -> 5 -> 1 -> 9 -> 8 -> 10 -> 7 -|\n",
            "2\n",
            "5\n",
            "9\n",
            "10\n",
            "7\n"
          ]
        }
      ]
    },
    {
      "cell_type": "markdown",
      "metadata": {
        "id": "XhFVjfXpG8Vi"
      },
      "source": [
        "### **Ejercicio 10**\n",
        "\n",
        "Escribir una operación del TDA Lista que recibe dos números por parámetro. La operación recorre la lista, si el elemento del nodo es menor que el primer parámetro se deja igual, si es mayor o igual, se reemplaza por el mismo número multiplicado por el otro parámetro.\n",
        "\n",
        "Por ejemplo:\n",
        "\n",
        "**lista1** = [ 2 , 1 , 4 , 8 , 9 , 12 , 0 , 10 , 1 , 4 ]\n",
        "\n",
        "**lista1.reemplazaMayores(6,3)** #Multiplica por 3 los mayores o iguales a 6, el resto queda igual\n",
        "\n",
        "Entonces, **lista1** = [ 2 , 1 , 4 , 24 , 27 , 36 , 0 , 30 , 1 , 4 ]\n"
      ]
    },
    {
      "cell_type": "code",
      "metadata": {
        "id": "YhDwIP7AZeC2",
        "colab": {
          "base_uri": "https://localhost:8080/"
        },
        "outputId": "c9dd4bab-fe2a-43e3-e2c1-914f2eae81ba"
      },
      "source": [
        "class Lista(Lista):\n",
        "  def reemplazaMayores(self , umbral , multiplicador): #Cremos la función que toma un umbral y un multiplicador\n",
        "    aux = self.__primero # Empezamos a recorrer por el primero\n",
        "    while aux != None: # Mientras el nodo auxiliar sea distinto de None\n",
        "      if aux.dato >= umbral: # Si el dato en el nodo es mayor o igual al umbral\n",
        "        aux.dato = aux.dato*multiplicador # El dato almacenado en el nodo será el dato por el multiplicador\n",
        "      aux = aux.siguiente # Avanzamos al siguiente nodo\n",
        "\n",
        "l1 = Lista()\n",
        "l1.agregarAlFinal(2);l1.agregarAlFinal(5);l1.agregarAlFinal(1);l1.agregarAlFinal(9);l1.agregarAlFinal(8);l1.agregarAlFinal(10);l1.agregarAlFinal(7)\n",
        "print(l1)\n",
        "l1.reemplazaMayores(6 , 3)\n",
        "print(l1)"
      ],
      "execution_count": null,
      "outputs": [
        {
          "output_type": "stream",
          "name": "stdout",
          "text": [
            "primero -> 2 -> 5 -> 1 -> 9 -> 8 -> 10 -> 7 -|\n",
            "primero -> 2 -> 5 -> 1 -> 27 -> 24 -> 30 -> 21 -|\n"
          ]
        }
      ]
    },
    {
      "cell_type": "code",
      "source": [
        "class ListaRec(ListaRec): #De forma recursiva\n",
        "  def reemplazaMayores(self, limite:int, multi:int)->None:\n",
        "    if not self.estaVacia():\n",
        "      self.__primero.reemplazaMayoresNodo(limite, multi)\n",
        "\n",
        "  class __NodoLista(ListaRec.__NodoLista):\n",
        "    def __mul__(self, multi:int)->None:\n",
        "      self.dato *= multi\n",
        "    def reemplazaMayoresNodo(self, limite:int, multi:int)->None:\n",
        "      if self.dato >= limite:\n",
        "        #self * multi  #Usando sobrecarga de operadores\n",
        "        self.dato *= multi\n",
        "      if self.tieneSiguiente():\n",
        "        self.siguiente.reemplazaMayoresNodo(limite, multi)\n",
        "\n",
        "l1 = ListaRec()\n",
        "l1.agregarAlFinal(2);l1.agregarAlFinal(1);l1.agregarAlFinal(4);l1.agregarAlFinal(8);l1.agregarAlFinal(9);\n",
        "l1.agregarAlFinal(12);l1.agregarAlFinal(0);l1.agregarAlFinal(10);l1.agregarAlFinal(1);l1.agregarAlFinal(4);\n",
        "print(l1)\n",
        "print(l1.reemplazaMayores(6,3))\n",
        "print(l1)"
      ],
      "metadata": {
        "colab": {
          "base_uri": "https://localhost:8080/"
        },
        "id": "94sCUrR1s_lw",
        "outputId": "ddfd2194-13ea-4c83-9fe2-7b3ff0a765a7"
      },
      "execution_count": null,
      "outputs": [
        {
          "output_type": "stream",
          "name": "stdout",
          "text": [
            "primero -> 2 -> 1 -> 4 -> 8 -> 9 -> 12 -> 0 -> 10 -> 1 -> 4 -|\n",
            "None\n",
            "primero -> 2 -> 1 -> 4 -> 24 -> 27 -> 36 -> 0 -> 30 -> 1 -> 4 -|\n"
          ]
        }
      ]
    },
    {
      "cell_type": "markdown",
      "metadata": {
        "id": "a9FAMdrHZdJ1"
      },
      "source": [
        "### **Ejercicio 11**\n",
        "\n",
        "Escribir una operación del TDA Lista que recibe dos números por parámetro: una posición y un número nuevo. Recorre la lista hasta la posición y reemplaza el número de la lista por el nuevo.\n",
        "\n",
        "Por ejemplo:\n",
        "\n",
        "**lista1** = [ 2 , 1 , 4 , 8 , 9 , 12 , 0 , 10 , 1 , 4 ]\n",
        "\n",
        "**lista1.reemplazar(2,20)** #Reemplaza el número en la posición 2 por 20\n",
        "\n",
        "Entonces, **lista1** = [ 2 , 1 , 20 , 8 , 9 , 12 , 0 , 10 , 1 , 4 ]"
      ]
    },
    {
      "cell_type": "code",
      "metadata": {
        "id": "Qfj8xzfWougq",
        "colab": {
          "base_uri": "https://localhost:8080/"
        },
        "outputId": "521ae008-e0ec-4e4a-92d1-5b4cfdecb559"
      },
      "source": [
        "class Lista(Lista):\n",
        "  def reemplazar(self , posicion , numero): #Cremos la función que toma una posicion y un numero\n",
        "    if posicion >= self.tamaño() or posicion < 0: # Si la posición recibida por parámetro es mayor al tamaño del arreglo:\n",
        "      raise IndexError('Posición fuera de rango')\n",
        "    aux = self.__primero # Empezamos a recorrer por el primero\n",
        "    pos = 0 #Vamos iterando en las posiciones\n",
        "    while pos < posicion: # mientras nuestro contador sea menor a la posición buscada\n",
        "      aux = aux.siguiente # Avanzamos al siguiente nodo\n",
        "      pos += 1 # Aumentamos nuestro contador\n",
        "    aux.dato = numero # cuando salimos del while, como ya validamos que la posición sea válida, es porque aux es la posición que estábamos buscando\n",
        "\n",
        "l1 = Lista()\n",
        "l1.agregarAlFinal(2);l1.agregarAlFinal(5);l1.agregarAlFinal(1);l1.agregarAlFinal(9);l1.agregarAlFinal(8);l1.agregarAlFinal(10);l1.agregarAlFinal(7)\n",
        "print(l1)\n",
        "l1.reemplazar(2 , 222)\n",
        "print(l1)"
      ],
      "execution_count": null,
      "outputs": [
        {
          "output_type": "stream",
          "name": "stdout",
          "text": [
            "primero -> 2 -> 5 -> 1 -> 9 -> 8 -> 10 -> 7 -|\n",
            "primero -> 2 -> 5 -> 222 -> 9 -> 8 -> 10 -> 7 -|\n"
          ]
        }
      ]
    },
    {
      "cell_type": "markdown",
      "metadata": {
        "id": "ds5kveH9otzk"
      },
      "source": [
        "### **Ejercicio 12**\n",
        "\n",
        "Escribir la operación **insertarOrdenado()** del TDA Lista, que se llama desde una lista ordenada e inserta un número que recibe por parámetro en el lugar correcto (manteniendo el orden).\n",
        "\n",
        "Por ejemplo:\n",
        "\n",
        "**lista1** = [ 2 , 5 , 9 , 12 , 25 , 32 ]\n",
        "\n",
        "**lista1.insertarOrdenado(10)**\n",
        "\n",
        "Entonces, **lista1** = [ 2 , 5 , 9 , 10 , 12 , 25 , 32 ]"
      ]
    },
    {
      "cell_type": "code",
      "source": [
        "#recorro con nodoAux asi:\n",
        "#while nodoAux.tieneSiguiente() and datoNuevo > nodoAux.siguiente.dato\n",
        "\n",
        "class Lista(Lista):\n",
        "  def insertarOrdenado(self , unNumero): #Recibimos por parámetro el número a insertar\n",
        "    nodoAux = self.__primero # Nodo aux será el primero\n",
        "    nodoNuevo = self.__NodoLista(unNumero) # Instanciamos el nuevo nodo que contenga el valor que queremos guardar\n",
        "    if unNumero < nodoAux.dato: # Son casos distintos si hay que insertar en el primer lugar que en el resto, por lo tanto, si el numero es menor al dato alojado en el primero (guardado en nodoAux)\n",
        "      nodoNuevo.siguiente = self.__primero # El siguiente del nuevo nodo será el primero\n",
        "      self.__primero = nodoNuevo #Y el primero de la lista será el nodo nuevo\n",
        "    else: #Sino, es decir, el nuevo numero no es menor a todos los elementos de la lista\n",
        "      while nodoAux.tieneSiguiente() and nodoAux.siguiente.dato <= unNumero: # Mientras haya siguiente y ese siguiente contenga un dato que sea menor o igual que el número que quiero insertar\n",
        "        nodoAux = nodoAux.siguiente # Me muevo un nodo a la derecha\n",
        "      nodoNuevo.siguiente = nodoAux.siguiente # Cuando salí del while es o porque todos los números son menores o porque estoy parado en el último más chico que mi número, por lo tanto\n",
        "      # el siguietne de mi nodo nuevo será el sigueinte del que estoy parado (puede ser none u otro nodo)\n",
        "      nodoAux.siguiente = nodoNuevo # El siguiente de donde estoy parado será entonces, el nodo nuevo.\n",
        "\n",
        "l1 = Lista()\n",
        "l1.agregarAlFinal(2);l1.agregarAlFinal(5);l1.agregarAlFinal(9);l1.agregarAlFinal(12);l1.agregarAlFinal(25);l1.agregarAlFinal(32)\n",
        "print(l1)\n",
        "l1.insertarOrdenado(10)\n",
        "print(l1)"
      ],
      "metadata": {
        "id": "I41_DRCMHKmh",
        "colab": {
          "base_uri": "https://localhost:8080/"
        },
        "outputId": "e7e6eaf7-7437-4c11-a970-6913cac313d8"
      },
      "execution_count": null,
      "outputs": [
        {
          "output_type": "stream",
          "name": "stdout",
          "text": [
            "primero -> 2 -> 5 -> 9 -> 12 -> 25 -> 32 -|\n",
            "primero -> 2 -> 5 -> 9 -> 10 -> 12 -> 25 -> 32 -|\n"
          ]
        }
      ]
    },
    {
      "cell_type": "code",
      "source": [
        "#Suponemos lista oredenada de menor a mayor\n",
        "class ListaRec(ListaRec):\n",
        "  def insertarOrdenado(self, datoIns:any)->None:\n",
        "    nodoNuevo = ListaRec.__NodoLista(datoIns)\n",
        "    if self.estaVacia():\n",
        "      self.__primero = nodoNuevo\n",
        "    elif datoIns <= self.__primero.dato:\n",
        "      nodoNuevo.siguiente = self.__primero\n",
        "      self.__primero = nodoNuevo\n",
        "    else:\n",
        "      self.__primero.insertarOrdenadoNodo(nodoNuevo)\n",
        "\n",
        "  class __NodoLista(ListaRec.__NodoLista):\n",
        "    def insertarOrdenadoNodo(self, nodoNuevo)->None:\n",
        "      if self.tieneSiguiente():\n",
        "        if nodoNuevo.dato <= self.siguiente.dato:\n",
        "          nodoNuevo.siguiente = self.siguiente\n",
        "          self.siguiente = nodoNuevo\n",
        "        else:\n",
        "          self.siguiente.insertarOrdenadoNodo(nodoNuevo)\n",
        "      else:\n",
        "        self.siguiente = nodoNuevo\n",
        "\n",
        "l1 = ListaRec()\n",
        "l1.agregarAlFinal(2);l1.agregarAlFinal(5);l1.agregarAlFinal(9);l1.agregarAlFinal(12);\n",
        "l1.agregarAlFinal(25);l1.agregarAlFinal(32)\n",
        "print(l1)\n",
        "l1.insertarOrdenado(50)\n",
        "print(l1)"
      ],
      "metadata": {
        "colab": {
          "base_uri": "https://localhost:8080/"
        },
        "id": "zvDWSPkoui4c",
        "outputId": "3011cf69-d465-4220-9663-751453b9e9b1"
      },
      "execution_count": null,
      "outputs": [
        {
          "output_type": "stream",
          "name": "stdout",
          "text": [
            "primero -> 2 -> 5 -> 9 -> 12 -> 25 -> 32 -|\n",
            "primero -> 2 -> 5 -> 9 -> 12 -> 25 -> 32 -> 50 -|\n"
          ]
        }
      ]
    }
  ]
}
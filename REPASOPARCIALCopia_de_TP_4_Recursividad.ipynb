{
  "nbformat": 4,
  "nbformat_minor": 0,
  "metadata": {
    "colab": {
      "provenance": []
    },
    "kernelspec": {
      "name": "python3",
      "display_name": "Python 3"
    }
  },
  "cells": [
    {
      "cell_type": "markdown",
      "metadata": {
        "id": "42630xxYD0gZ"
      },
      "source": [
        "# ![alt text](https://upload.wikimedia.org/wikipedia/commons/thumb/c/c3/Python-logo-notext.svg/50px-Python-logo-notext.svg.png) **Trabajo Práctico 4: Recursividad** ![alt text](https://upload.wikimedia.org/wikipedia/commons/thumb/c/c3/Python-logo-notext.svg/50px-Python-logo-notext.svg.png)\n",
        "\n",
        "En este trabajo práctico, vamos a trabajar con el concepto de recursividad en Python. Recuerden crear una copia de este archivo en su ***Google Drive*** para tener permisos de edición.\n",
        "\n",
        "### Sergio: **sergio.gonzalez@unahur.edu.ar**"
      ]
    },
    {
      "cell_type": "code",
      "source": [
        "#N y M positivos\n",
        "#NxM = N + N*(M-1)   si M distinto de 1\n",
        "#      N             si M igual 1\n",
        "def producto(N:int, M:int)->int:\n",
        "  salida = None\n",
        "  if M == 1:\n",
        "    salida = N\n",
        "  else:\n",
        "    salida = N + producto(N,M-1)\n",
        "  return salida"
      ],
      "metadata": {
        "id": "NlDPKBb4q6Ad"
      },
      "execution_count": null,
      "outputs": []
    },
    {
      "cell_type": "code",
      "source": [
        "print(producto(2,2))"
      ],
      "metadata": {
        "colab": {
          "base_uri": "https://localhost:8080/"
        },
        "id": "By9BjCZdsRO8",
        "outputId": "0fad5b87-a4d6-4974-fb5b-014dfceceb4c"
      },
      "execution_count": null,
      "outputs": [
        {
          "output_type": "stream",
          "name": "stdout",
          "text": [
            "4\n"
          ]
        }
      ]
    },
    {
      "cell_type": "markdown",
      "metadata": {
        "id": "xjXgmD3mskbR"
      },
      "source": [
        "### **Ejercicio 1**\n",
        "\n",
        "Implementar una función que calcule el factorial de un número de forma recursiva"
      ]
    },
    {
      "cell_type": "code",
      "source": [
        "def calcularFactorial(unNumero: int) -> int:\n",
        "    factorial = None\n",
        "    if unNumero <= 1:\n",
        "        factorial = 1\n",
        "    else:\n",
        "        factorial = unNumero * calcularFactorial(unNumero - 1)\n",
        "\n",
        "    return factorial\n",
        "\n",
        "print(calcularFactorial(4))"
      ],
      "metadata": {
        "id": "-A_49XhKzFt1",
        "colab": {
          "base_uri": "https://localhost:8080/"
        },
        "outputId": "018cfad1-8a49-4468-8143-909ce95864e5"
      },
      "execution_count": 12,
      "outputs": [
        {
          "output_type": "stream",
          "name": "stdout",
          "text": [
            "24\n"
          ]
        }
      ]
    },
    {
      "cell_type": "markdown",
      "metadata": {
        "id": "oQU_Yv1QuOXm"
      },
      "source": [
        "### **Ejercicio 2**\n",
        "\n",
        "Una canilla de una casa pierde agua de forma que todos los días pierde 2 gotas más que el día anterior. Escribir una función recursiva que calcule cuantas gotas perderá la canilla el día N. El primer día solo perdía dos gotas.\n",
        "\n",
        "De manera opcional, con un ciclo que llame N veces a la función recursiva,calcular la cantidad de gotas acumuladas en N días."
      ]
    },
    {
      "cell_type": "code",
      "metadata": {
        "id": "3QmA2qDGvs2d",
        "colab": {
          "base_uri": "https://localhost:8080/"
        },
        "outputId": "a03619c4-8ded-48bd-b101-c4f82689af66"
      },
      "source": [
        "# dia     cantgotas   cant acum\n",
        "#  1          2           2\n",
        "#  2          4           6\n",
        "#  3          6           12\n",
        "#  4          8           20\n",
        "#gotasPerdidas(diaN)\n",
        "\n",
        "def gotasPerdidas(diaN:int)->int:\n",
        "    resultado = 0\n",
        "    if diaN <= 1:\n",
        "        resultado = 2\n",
        "    else:\n",
        "        resultado = diaN * 2 + gotasPerdidas(diaN-1)\n",
        "    return resultado\n",
        "\n",
        "print(gotasPerdidas(3))"
      ],
      "execution_count": 15,
      "outputs": [
        {
          "output_type": "stream",
          "name": "stdout",
          "text": [
            "12\n"
          ]
        }
      ]
    },
    {
      "cell_type": "markdown",
      "metadata": {
        "id": "mJwO1DVLJ5q2"
      },
      "source": [
        "### **Ejercicio 3**\n",
        "\n",
        "Implementar una función recursiva que calcule los números de la serie de Fibonacci. La función para generar la serie de Fibonacci es la siguiente (donde N es el índice del número en la serie):\n",
        "\n",
        "<img src=\"https://blog.kakaocdn.net/dn/Fn13B/btretb0ZSLZ/qhgI2mFGD4cRCEVLN7PSKK/img.gif\" width=\"300\">\n",
        "\n",
        "Luego escribir un programa que pida un número N (mayor o igual a 0) al usuario e imprima por pantalla los primeros N números de la serie de Fibonacci\n",
        "\n",
        "Sobre la sucesion de Fibonacci: https://www.vix.com/es/btg/curiosidades/4461/que-es-la-sucesion-de-fibonacci\n",
        "\n",
        "\n"
      ]
    },
    {
      "cell_type": "code",
      "source": [
        "def calcularFibo(n: int) -> int:\n",
        "    resultado = None\n",
        "    if n <= 0:\n",
        "        resultado = 0\n",
        "    elif n == 1:\n",
        "        resultado = 1\n",
        "    else:\n",
        "        resultado = calcularFibo(n-1) + calcularFibo(n-2)\n",
        "\n",
        "    return resultado\n",
        "\n",
        "print(calcularFibo(5))"
      ],
      "metadata": {
        "id": "xUpEmv5PzOvf",
        "colab": {
          "base_uri": "https://localhost:8080/"
        },
        "outputId": "591e6fe5-b544-42fc-fa79-ecd0093e6012"
      },
      "execution_count": 20,
      "outputs": [
        {
          "output_type": "stream",
          "name": "stdout",
          "text": [
            "5\n"
          ]
        }
      ]
    },
    {
      "cell_type": "markdown",
      "metadata": {
        "id": "5LOgT_WupRbE"
      },
      "source": [
        "### **Ejercicio 4**\n",
        "\n",
        "Escribir una función recursiva que calcule el número triangular de índice N. El número triangular de índice N es la suma de todos los números desde 1 hasta N.\n",
        "\n",
        "Algunos ejemplos:\n",
        "\n",
        "*T(1) = 1*\n",
        "\n",
        "*T(2) = 3 = 1 + 2*\n",
        "\n",
        "*T(3) = 6 = 1 + 2 + 3*\n",
        "\n",
        "*T(4) = 10 = 1 + 2 + 3 + 4*\n",
        "\n",
        "*T(5) = 15 = 1 + 2 + 3 + 4 + 5*\n",
        "\n",
        "...\n",
        "\n",
        "*T(N) = 1 + 2 + 3 + 4 + ... + N*"
      ]
    },
    {
      "cell_type": "code",
      "source": [
        "def nroTriangular(n: int) -> int:\n",
        "    resultado = None\n",
        "    if n <= 0:\n",
        "        resultado = 0\n",
        "    elif n == 1:\n",
        "        resultado = 1\n",
        "    else:\n",
        "        resultado = n + nroTriangular(n - 1)\n",
        "    return resultado\n",
        "\n",
        "print(nroTriangular(5))"
      ],
      "metadata": {
        "id": "4ufSVoLwzP0e",
        "colab": {
          "base_uri": "https://localhost:8080/"
        },
        "outputId": "8e5f4da7-48ca-4559-b02d-f5cf7848095b"
      },
      "execution_count": 23,
      "outputs": [
        {
          "output_type": "stream",
          "name": "stdout",
          "text": [
            "15\n"
          ]
        }
      ]
    },
    {
      "cell_type": "markdown",
      "metadata": {
        "id": "7JAbyL8nqjZW"
      },
      "source": [
        "### **Ejercicio 5**\n",
        "\n",
        "En las redes sociales se produce una continua interacción y cada vez que un usuario realiza una acción, la comunidad se modifica. Suponiendo que un *influencer* que usa ***Instagram*** cada vez que postea algo, aumenta su cantidad de seguidores según la siguiente regla:\n",
        "- Durante los primeros 20 posteos, siempre suma una cantidad fija de 1000 (mil) seguidores en cada uno.\n",
        "- A partir del posteo 21, la cantidad de seguidores duplica la cantidad previa de seguidores, mas  500 seguidores extra.\n",
        "\n",
        "Implementar una función recursiva que permita saber cuantos seguidores tendra el *Instagramer* luego de una cantidad determinada de posteos."
      ]
    },
    {
      "cell_type": "code",
      "source": [
        "#seguidores(p) = 0                                si p == 0\n",
        "#              = 1000 + seguidores(p-1)           si p <= 20\n",
        "#              = 2 * seguidores(p-1) + 500        si p >= 21\n",
        "\n",
        "#seguidores(p) = 1000 * p                         si 0 <= p <= 20\n",
        "#              = 2 * seguidores(p-1) + 500        si p >= 21\n",
        "\n",
        "def calcularSeguidores(posteos: int) -> int:\n",
        "    totalSeguidores = None\n",
        "    if posteos == 0:\n",
        "        totalSeguidores = 0\n",
        "\n",
        "    elif posteos <= 20:\n",
        "        totalSeguidores = posteos * 1000\n",
        "\n",
        "    elif posteos >= 21:\n",
        "        totalSeguidores = 2 * calcularSeguidores(posteos - 1) + 500\n",
        "    return totalSeguidores\n",
        "\n",
        "print(calcularSeguidores(22))"
      ],
      "metadata": {
        "id": "SfSdD0qwzQjm",
        "colab": {
          "base_uri": "https://localhost:8080/"
        },
        "outputId": "6a837c64-f883-420b-ce79-867e3f4be4a1"
      },
      "execution_count": 28,
      "outputs": [
        {
          "output_type": "stream",
          "name": "stdout",
          "text": [
            "81500\n"
          ]
        }
      ]
    },
    {
      "cell_type": "markdown",
      "metadata": {
        "id": "-u_y1o2XrUpw"
      },
      "source": [
        "### **Ejercicio 6**\n",
        "\n",
        "Un equipo de albañiles de una obra, tiene que planificar la colocación de pisos. Dicha tarea se realiza teniendo algunas consideraciones específicas, que tienen que ver con el corte de las baldosas, con el material de pegado y la cantidad de trabajadores que hay en cada momento. En el arranque, el día uno (1), los albañiles colocan siempre 100 baldosas.\n",
        "Luego, la cantidad que se coloca cada día se organiza de esta manera:\n",
        "- Los días pares se colocan el doble de baldosas del día anterior.\n",
        "- Los días impares (salvo el primer día) se coloca una cantidad igual a la suma de las que se colocaron los 2 dias anteriores.\n",
        "\n",
        "Implementar una función que permita saber la cantidad de baldosas que se colocan en total luego de transcurrida una determinada cantidad de días."
      ]
    },
    {
      "cell_type": "code",
      "source": [
        "def cantidadTotalBaldosas(dias:int, dia:int=1, anterior:int=100, previo:int=200)->int:\n",
        "    if dia > dias:\n",
        "        return 0\n",
        "    if dia == 1:\n",
        "        cantidad = 100\n",
        "    elif dia % 2 == 0:\n",
        "        cantidad = anterior * 2\n",
        "    else:\n",
        "        cantidad = anterior + previo\n",
        "    return cantidad + cantidadTotalBaldosas(dias, dia + 1, cantidad, anterior)\n",
        "\n",
        "dias = int(input(\"Introduce la cantidad de días: \"))\n",
        "totalBaldosas = cantidadTotalBaldosas(dias)\n",
        "print(f\"En {dias} días se colocaron un total de {totalBaldosas} baldosas.\")"
      ],
      "metadata": {
        "id": "fqlKfaNpzRV9"
      },
      "execution_count": null,
      "outputs": []
    },
    {
      "cell_type": "markdown",
      "metadata": {
        "id": "EVmZea0Cselk"
      },
      "source": [
        "### **Ejercicio 7**\n",
        "\n",
        "Luego de una lluvia muy grande se acumula gran cantidad de agua en un estanque, durante el primer día, el agua comienza a ponerse de color verde y un grupo de científicos decide medir cuantas algas encuentra dentro del tanque. La primer medición le da como resultado 12 algas. Luego deciden ir a realizar la medición todos los días para tratar de establecer un patrón de crecimiento y se encuentran que las algas crecen con la siguiente regla:\n",
        "- Durante los siguientes 10 días (del dia 2 al 11) la cantidad de algas en el tanque es 15 más de las que había el día anterior.\n",
        "- A partir del día 12, la cantidad de algas en el tanque es el triple de las que había el día previo más una cantidad fija de 100.\n",
        "\n",
        "Escriba una función recursiva que calcule la cantidad de algas en el tanque en un día N.\n",
        "\n",
        "Nota: Suponer que no mueren algas en el tanque."
      ]
    },
    {
      "cell_type": "code",
      "source": [
        "# dia 1 = 12 algas\n",
        "# durante 10 dias (2 al 11) algas es 15 más que el dia anterior.\n",
        "# else  cantalgas es el triple del dia anteior y más 100 algas\n",
        "def calcularAlgas(diaN) -> int:\n",
        "    resultado = None\n",
        "    if diaN <= diaN:\n",
        "        resultado = 0\n",
        "    elif diaN == 1:\n",
        "        resultado = 12\n",
        "    elif 1 < diaN < 12:\n",
        "        resultado = calcularAlgas(diaN - 1) + 15\n",
        "    else:\n",
        "        resultado = calcularAlgas(diaN - 1) * 3 + 100\n",
        "    return resultado\n"
      ],
      "metadata": {
        "id": "QxWR-yHTzSWH"
      },
      "execution_count": null,
      "outputs": []
    },
    {
      "cell_type": "markdown",
      "metadata": {
        "id": "ahvaeTRS0Gm7"
      },
      "source": [
        "### **Ejercicio 8**\n",
        "\n",
        "Escribir una función recursiva que calcule la potencia N de un número M (M a la N), ambos números enteros positivos.   "
      ]
    },
    {
      "cell_type": "code",
      "source": [
        "from pickle import NONE\n",
        "#M^N = M*M*M*.....*M (N veces)\n",
        "#    = M * (M*M*....*M)\n",
        "#    = M * M^(N-1)              N > 1\n",
        "#    = M                        si N == 1\n",
        "\n",
        "def calcularPotencia(numero:int , potencia: int) -> int:\n",
        "    resultado = None\n",
        "    if potencia <= 0:\n",
        "        resultado = 1\n",
        "    else:\n",
        "        resultado = numero * calcularPotencia(numero, potencia - 1)\n",
        "    return resultado\n",
        "\n",
        "print(calcularPotencia(3, 4))"
      ],
      "metadata": {
        "id": "RG_JAM2ezTXe",
        "colab": {
          "base_uri": "https://localhost:8080/"
        },
        "outputId": "63c2627b-59c5-4666-92dc-48be7cccd82e"
      },
      "execution_count": 32,
      "outputs": [
        {
          "output_type": "stream",
          "name": "stdout",
          "text": [
            "81\n"
          ]
        }
      ]
    },
    {
      "cell_type": "markdown",
      "metadata": {
        "id": "1ahXjm9z0QND"
      },
      "source": [
        "### **Ejercicio 9**\n",
        "\n",
        "Problema del trigo en el tablero de ajedrez:\n",
        "\n",
        " <img src=\"https://i0.wp.com/matematicascercanas.com/wp-content/uploads/2015/03/leyenda_ajedrez.jpg?w=600&ssl=1\" width=\"400\">\n",
        "\n",
        "Si se colocase sobre un tablero de ajedrez, un grano de trigo en el primer casillero, dos en el segundo, cuarto en el tercero y asi sucesivamente, doblando la cantidad de granos en cada casilla ¿Cuantos granos de trigo habría en el tablero en total al final? Resolver el problema con una función recursiva.\n",
        "\n",
        "Leyenda del Trigo y el tablero de ajedrez y mas datos: https://matematicascercanas.com/2014/03/10/la-leyenda-del-tablero-de-ajedrez-y-los-granos-de-trigo/"
      ]
    },
    {
      "cell_type": "code",
      "source": [
        "#Hacerlo con dos funciones\n",
        "#1. Calcula recursivamente la cantidad de granos por casillero\n",
        "#2. Calcula la suma total de granos en un tablero de N casilleros (iterativa o recursiva)\n",
        "#Importante\n",
        "\n",
        "def cantGranos(casillero) -> int:\n",
        "    resultado = None\n",
        "    if casillero <= 0:\n",
        "        resultado = 0\n",
        "    elif casillero == 1:\n",
        "        resultado = 1\n",
        "    else:\n",
        "        resultado = 2 * cantGranos(casillero - 1)\n",
        "    return resultado\n",
        "\n",
        "def sumaTotalDeGranos(casillas) -> int:\n",
        "    acum = None\n",
        "    if casillas <= 0:\n",
        "        acum = 0\n",
        "    else:\n",
        "        acum = 2* cantGranos(casillas - 1) + (sumaTotalDeGranos(casillas - 1))\n",
        "    return acum\n",
        "\n",
        "print(sumaTotalDeGranos(3))"
      ],
      "metadata": {
        "id": "TxqEc52Pzg80",
        "colab": {
          "base_uri": "https://localhost:8080/"
        },
        "outputId": "d16dd32d-1289-449c-d994-aaa5bfb6de7d"
      },
      "execution_count": 26,
      "outputs": [
        {
          "output_type": "stream",
          "name": "stdout",
          "text": [
            "6\n"
          ]
        }
      ]
    },
    {
      "cell_type": "markdown",
      "metadata": {
        "id": "UcGyejNf1hYo"
      },
      "source": [
        "### **Ejercicio 10**\n",
        "\n",
        "En un edificio alto, las cucarachas se van distribuyendo por pisos de esta forma:\n",
        "- En el primer piso hay una cucaracha\n",
        "- En los pisos pares el doble del número de piso (por ejemplo en el piso 8 hay 16 cucarachas)\n",
        "- El resto de los pisos tienen la suma de las cucarachas de los dos pisos anteriores.\n",
        "\n",
        "Escribir una función recursiva que calcule la cantidad de cucarachas en un edificio en función de la cantidad de pisos."
      ]
    },
    {
      "cell_type": "code",
      "source": [
        "def calcularCucarachasEn(piso: int) -> int:\n",
        "    resultado = None\n",
        "    if piso == 0:\n",
        "        resultado = 0\n",
        "    elif piso == 1:\n",
        "        resultado = 1\n",
        "    elif esPar(piso):\n",
        "        resultado = piso * 2\n",
        "    else:\n",
        "        resultado = calcularCucarachasEn(piso - 1) + calcularCucarachasEn(piso - 2)\n",
        "    return resultado\n",
        "\n",
        "def esPar(numero: int) -> int:\n",
        "    return numero % 2 == 0\n",
        "\n",
        "def calCucarachasEnEdificioDe(pisos: int) -> int:\n",
        "    resultado = None\n",
        "\n",
        "    if pisos == 1:\n",
        "        resultado = 1\n",
        "    else:\n",
        "        resultado = calcularCucarachasEn(pisos) + calCucarachasEnEdificioDe(pisos - 1)\n",
        "    return resultado\n",
        "\n",
        "print(calCucarachasEnEdificioDe(3))"
      ],
      "metadata": {
        "id": "MLKKNS6Izh4s",
        "colab": {
          "base_uri": "https://localhost:8080/"
        },
        "outputId": "0bd426a6-247e-4350-ce91-f55885947702"
      },
      "execution_count": 33,
      "outputs": [
        {
          "output_type": "stream",
          "name": "stdout",
          "text": [
            "10\n"
          ]
        }
      ]
    },
    {
      "cell_type": "markdown",
      "metadata": {
        "id": "HnGv90m72_dg"
      },
      "source": [
        "### **Ejercicio 11**\n",
        "\n",
        "Escribir la función recursiva repetirPalabra, que recibe como parámetro una palabra (cadena de caracteres) y un número N. La función debe retornar una nueva cadena que contenga la palabra repetida N veces, por ejemplo:\n",
        "\n",
        "*repetirPalabra(\"hola\",3) -> \"holaholahola\"*"
      ]
    },
    {
      "cell_type": "code",
      "source": [
        "#repetirPalabra(\"palabra\", 3) = \"palabrapalabrapalabra\"\n",
        "#                             = \"palabra\" + \"palabrapalabra\"\n",
        "#                             = \"palabra\" + repetirPalabra(\"palabra\", 2)\n",
        "#repetirPalabra(str, N) = str + repetirPalabra(str, N-1)     si N > 1\n",
        "#                       = str                                si N == 1\n",
        "\n",
        "def repetirPalabra(palabra: str, vecesARepetir) -> str:\n",
        "    palabraRepetida = None\n",
        "    if vecesARepetir == 1:\n",
        "        palabraRepetida = palabra\n",
        "    else:\n",
        "        palabraRepetida = palabra + repetirPalabra(palabra, vecesARepetir - 1)\n",
        "    return palabraRepetida\n",
        "\n",
        "print(repetirPalabra(\"HOLA\", 3))"
      ],
      "metadata": {
        "id": "u8u_-XA3zix0",
        "colab": {
          "base_uri": "https://localhost:8080/"
        },
        "outputId": "f5b35e64-c05f-40cc-a017-af6407b923a3"
      },
      "execution_count": 36,
      "outputs": [
        {
          "output_type": "stream",
          "name": "stdout",
          "text": [
            "HOLAHOLAHOLA\n"
          ]
        }
      ]
    },
    {
      "cell_type": "markdown",
      "metadata": {
        "id": "QL1a0WtI89QA"
      },
      "source": [
        "### **Ejercicio 12**\n",
        "\n",
        "Juan y María empiezan a trabajar el mismo día en dos empresas distintas. Juan arregla un sueldo inicial de \\$40000 con una actualización mensual del 2% y María un sueldo inicial de \\$25000 con una actualización mensual del 5%. Calcular recursivamente los sueldos de Juan y de María luego de transcurridos una cantidad determinada de meses.\n",
        "\n",
        "Luego, escribir una función que retorne cuantos meses tienen que pasar para que el sueldo de María supere al de Juan (Esta parte no hace falta que sea recursiva, pero pueden intentar hacerlo)."
      ]
    },
    {
      "cell_type": "code",
      "source": [
        "#calcularSueldoJuan(Nmes)\n",
        "#calcularSueldoMaria(Nmes)\n",
        "\n",
        "#calcularSueldo(Nmes, ....) Falta parametrizar para que funcione para cualquier persona\n",
        "\n",
        "def calcularSueldo(sueldoInicial, actMensual, meses):\n",
        "    resultado = None\n",
        "    if meses == 1:\n",
        "        resultado = sueldoInicial + sueldoInicial * (actMensual/100)\n",
        "    else:\n",
        "        resultado = calcularSueldo(sueldoInicial, actMensual, meses - 1) + calcularSueldo(sueldoInicial, actMensual, meses - 1) * (actMensual/100)\n",
        "    return resultado\n",
        "\n",
        "\n",
        "print(calcularSueldo(100, 10, 2))\n"
      ],
      "metadata": {
        "id": "_hNOw7S2zkNs",
        "colab": {
          "base_uri": "https://localhost:8080/"
        },
        "outputId": "3ca7481e-6ff6-4230-9b19-cfa7e11dc278"
      },
      "execution_count": 56,
      "outputs": [
        {
          "output_type": "stream",
          "name": "stdout",
          "text": [
            "121.0\n"
          ]
        }
      ]
    },
    {
      "cell_type": "markdown",
      "source": [
        "## **Recursividad sobre vectores**"
      ],
      "metadata": {
        "id": "ygTBKEdjM-p7"
      }
    },
    {
      "cell_type": "markdown",
      "source": [
        "### **Ejercicio 13**\n",
        "\n",
        "Escribir una función **recursiva** que reciba un vector como parámetro y retorne la suma de todos sus elementos."
      ],
      "metadata": {
        "id": "PehX3FXfI8Az"
      }
    },
    {
      "cell_type": "code",
      "source": [
        "#importante\n",
        "import numpy as np\n",
        "def sumElementos(vector: np.array) -> float:\n",
        "    resultado = None\n",
        "    if len(vector) == 0:\n",
        "        resultado = 0\n",
        "    else:\n",
        "        resultado = vector[0] + sumElementos(vector[1:])\n",
        "    return resultado\n",
        "\n",
        "print(sumElementos(np.array([1,2,3])))\n"
      ],
      "metadata": {
        "id": "E9mtb_2xzmLr",
        "colab": {
          "base_uri": "https://localhost:8080/"
        },
        "outputId": "8248a1fc-705e-4739-a0d2-ff06164bbee5"
      },
      "execution_count": 2,
      "outputs": [
        {
          "output_type": "stream",
          "name": "stdout",
          "text": [
            "6\n"
          ]
        }
      ]
    },
    {
      "cell_type": "markdown",
      "source": [
        "### **Ejercicio 14**\n",
        "\n",
        "Escribir una función **recursiva** que retorna *True* si un string es un palindromo y *False* en caso contrario.\n",
        "\n",
        "Nota: Palíndromo es la forma elegante de \"capicua\""
      ],
      "metadata": {
        "id": "vj9KCgvxJV1T"
      }
    },
    {
      "cell_type": "code",
      "source": [
        "#importante\n",
        "def esCapicua(palabra:str) -> str:\n",
        "    resultado = None\n",
        "    if len(palabra) <= 1:\n",
        "        resultado = True\n",
        "    elif palabra[0] != palabra[len(palabra)-1]:\n",
        "        resultado = False\n",
        "    else:\n",
        "        resultado = esCapicua(palabra[1:len(palabra)-1])\n",
        "    return resultado\n",
        "\n",
        "print(esCapicua(\"ojo\"))"
      ],
      "metadata": {
        "id": "kmI-3MITznaz",
        "colab": {
          "base_uri": "https://localhost:8080/"
        },
        "outputId": "819f830b-c567-4d2c-d9dc-0a97f8691b91"
      },
      "execution_count": 5,
      "outputs": [
        {
          "output_type": "stream",
          "name": "stdout",
          "text": [
            "False\n"
          ]
        }
      ]
    },
    {
      "cell_type": "markdown",
      "source": [
        "### **Ejercicio 15**\n",
        "\n",
        "Escribir una función que implemente de forma **recursiva** el algoritmo de **búsqueda binaria** sobre un vector.\n",
        "\n",
        "https://es.khanacademy.org/computing/computer-science/algorithms/binary-search/a/binary-search"
      ],
      "metadata": {
        "id": "4yUk0Ww4NO11"
      }
    },
    {
      "cell_type": "code",
      "source": [
        "import numpy as np\n",
        "\n",
        "\n",
        "def busquedaBinaria(vector:np.array, datoBuscado:int, posInicial:int, posFinal:int)->int:\n",
        "    posDato = None\n",
        "    centro = (posInicial+posFinal)//2\n",
        "    if posFinal < posInicial:\n",
        "      posDato = None\n",
        "    else:\n",
        "      if vector[centro] == datoBuscado:\n",
        "        posDato = centro\n",
        "      elif datoBuscado < vector[centro]:\n",
        "        posDato = busquedaBinaria(vector, datoBuscado, posInicial, centro-1)\n",
        "      else:\n",
        "        posDato = busquedaBinaria(vector, datoBuscado, centro+1, posFinal)\n",
        "    return posDato\n",
        "\n",
        "print(busquedaBinaria([1,2,3], 3))"
      ],
      "metadata": {
        "id": "C_DUpKYezohM",
        "colab": {
          "base_uri": "https://localhost:8080/",
          "height": 321
        },
        "outputId": "ff868df4-3de8-499a-a026-d7eb96477659"
      },
      "execution_count": 12,
      "outputs": [
        {
          "output_type": "error",
          "ename": "IndexError",
          "evalue": "list index out of range",
          "traceback": [
            "\u001b[0;31m---------------------------------------------------------------------------\u001b[0m",
            "\u001b[0;31mIndexError\u001b[0m                                Traceback (most recent call last)",
            "\u001b[0;32m<ipython-input-12-16673e620a51>\u001b[0m in \u001b[0;36m<cell line: 0>\u001b[0;34m()\u001b[0m\n\u001b[1;32m     12\u001b[0m     \u001b[0;32mreturn\u001b[0m \u001b[0mresultado\u001b[0m\u001b[0;34m\u001b[0m\u001b[0;34m\u001b[0m\u001b[0m\n\u001b[1;32m     13\u001b[0m \u001b[0;34m\u001b[0m\u001b[0m\n\u001b[0;32m---> 14\u001b[0;31m \u001b[0mprint\u001b[0m\u001b[0;34m(\u001b[0m\u001b[0mbusquedaBinaria\u001b[0m\u001b[0;34m(\u001b[0m\u001b[0;34m[\u001b[0m\u001b[0;36m1\u001b[0m\u001b[0;34m,\u001b[0m\u001b[0;36m2\u001b[0m\u001b[0;34m,\u001b[0m\u001b[0;36m3\u001b[0m\u001b[0;34m]\u001b[0m\u001b[0;34m,\u001b[0m \u001b[0;36m3\u001b[0m\u001b[0;34m)\u001b[0m\u001b[0;34m)\u001b[0m\u001b[0;34m\u001b[0m\u001b[0;34m\u001b[0m\u001b[0m\n\u001b[0m",
            "\u001b[0;32m<ipython-input-12-16673e620a51>\u001b[0m in \u001b[0;36mbusquedaBinaria\u001b[0;34m(vector, numero)\u001b[0m\n\u001b[1;32m      9\u001b[0m         \u001b[0mresultado\u001b[0m \u001b[0;34m=\u001b[0m \u001b[0mbusquedaBinaria\u001b[0m\u001b[0;34m(\u001b[0m\u001b[0mvector\u001b[0m\u001b[0;34m[\u001b[0m\u001b[0mmitad\u001b[0m\u001b[0;34m:\u001b[0m\u001b[0;34m]\u001b[0m\u001b[0;34m,\u001b[0m \u001b[0mnumero\u001b[0m\u001b[0;34m)\u001b[0m\u001b[0;34m\u001b[0m\u001b[0;34m\u001b[0m\u001b[0m\n\u001b[1;32m     10\u001b[0m     \u001b[0;32melse\u001b[0m\u001b[0;34m:\u001b[0m\u001b[0;34m\u001b[0m\u001b[0;34m\u001b[0m\u001b[0m\n\u001b[0;32m---> 11\u001b[0;31m         \u001b[0mresultado\u001b[0m \u001b[0;34m=\u001b[0m \u001b[0mbusquedaBinaria\u001b[0m\u001b[0;34m(\u001b[0m\u001b[0mvector\u001b[0m\u001b[0;34m[\u001b[0m\u001b[0;36m0\u001b[0m\u001b[0;34m:\u001b[0m\u001b[0mmitad\u001b[0m\u001b[0;34m]\u001b[0m\u001b[0;34m,\u001b[0m \u001b[0mnumero\u001b[0m\u001b[0;34m)\u001b[0m\u001b[0;34m\u001b[0m\u001b[0;34m\u001b[0m\u001b[0m\n\u001b[0m\u001b[1;32m     12\u001b[0m     \u001b[0;32mreturn\u001b[0m \u001b[0mresultado\u001b[0m\u001b[0;34m\u001b[0m\u001b[0;34m\u001b[0m\u001b[0m\n\u001b[1;32m     13\u001b[0m \u001b[0;34m\u001b[0m\u001b[0m\n",
            "\u001b[0;32m<ipython-input-12-16673e620a51>\u001b[0m in \u001b[0;36mbusquedaBinaria\u001b[0;34m(vector, numero)\u001b[0m\n\u001b[1;32m      4\u001b[0m     \u001b[0mresultado\u001b[0m \u001b[0;34m=\u001b[0m \u001b[0;32mNone\u001b[0m\u001b[0;34m\u001b[0m\u001b[0;34m\u001b[0m\u001b[0m\n\u001b[1;32m      5\u001b[0m     \u001b[0mmitad\u001b[0m \u001b[0;34m=\u001b[0m \u001b[0mlen\u001b[0m\u001b[0;34m(\u001b[0m\u001b[0mvector\u001b[0m\u001b[0;34m)\u001b[0m \u001b[0;34m//\u001b[0m \u001b[0;36m2\u001b[0m \u001b[0;34m-\u001b[0m\u001b[0;36m1\u001b[0m\u001b[0;34m\u001b[0m\u001b[0;34m\u001b[0m\u001b[0m\n\u001b[0;32m----> 6\u001b[0;31m     \u001b[0;32mif\u001b[0m \u001b[0mvector\u001b[0m\u001b[0;34m[\u001b[0m\u001b[0mmitad\u001b[0m\u001b[0;34m]\u001b[0m \u001b[0;34m==\u001b[0m \u001b[0mnumero\u001b[0m\u001b[0;34m:\u001b[0m\u001b[0;34m\u001b[0m\u001b[0;34m\u001b[0m\u001b[0m\n\u001b[0m\u001b[1;32m      7\u001b[0m         \u001b[0mresultado\u001b[0m \u001b[0;34m=\u001b[0m \u001b[0mnumero\u001b[0m\u001b[0;34m\u001b[0m\u001b[0;34m\u001b[0m\u001b[0m\n\u001b[1;32m      8\u001b[0m     \u001b[0;32melif\u001b[0m \u001b[0mvector\u001b[0m\u001b[0;34m[\u001b[0m\u001b[0mmitad\u001b[0m\u001b[0;34m]\u001b[0m \u001b[0;34m>\u001b[0m \u001b[0mnumero\u001b[0m\u001b[0;34m:\u001b[0m\u001b[0;34m\u001b[0m\u001b[0;34m\u001b[0m\u001b[0m\n",
            "\u001b[0;31mIndexError\u001b[0m: list index out of range"
          ]
        }
      ]
    },
    {
      "cell_type": "markdown",
      "source": [
        "### **Ejercicio 16**\n",
        "Implementar una función recursiva para encontrar el máximo elemento de un arreglo"
      ],
      "metadata": {
        "id": "ycxrHIbZKlG7"
      }
    },
    {
      "cell_type": "code",
      "source": [
        "import numpy as np\n",
        "def maximoElem(vector: np.array) -> int:\n",
        "    maxElem = None\n",
        "    if len(vector) == 1:\n",
        "        maxElem = vector[0]\n",
        "    else:\n",
        "        maximoResto = numeroMayor(vector[0], maximoElem(vector[1:]))\n",
        "    return maxElem\n",
        "\n",
        "def numeroMayor(num1, num2) -> int:\n",
        "    resultado = num2\n",
        "    if num1 > num2:\n",
        "        resultado = num1\n",
        "    return resultado\n",
        "\n",
        "print(maximoElem([3, 10, 3, 6, 2,15,10,10 ,12]))"
      ],
      "metadata": {
        "id": "nkhLuvJHzpPz",
        "colab": {
          "base_uri": "https://localhost:8080/"
        },
        "outputId": "d9f6a2cb-f7a9-4aa6-ae58-a8893823e8eb"
      },
      "execution_count": 20,
      "outputs": [
        {
          "output_type": "stream",
          "name": "stdout",
          "text": [
            "15\n"
          ]
        }
      ]
    },
    {
      "cell_type": "markdown",
      "source": [
        "### **Ejercicio 17**\n",
        "Implementar una función recursiva para encontrar la posicion del máximo elemento de un arreglo"
      ],
      "metadata": {
        "id": "8KSSAoUZKqqb"
      }
    },
    {
      "cell_type": "code",
      "source": [
        "import numpy as np\n",
        "#Importante\n",
        "def posMaximo(vector: np.array, posInicial: int= 0) -> int:\n",
        "    posMax  = None\n",
        "    if posInicial == len(vector) - 1:\n",
        "        posMax = posInicial\n",
        "    else:\n",
        "        posMaxResto = posMaximo(vector, posInicial + 1)\n",
        "        if vector[posInicial] > vector[posMaxResto]:\n",
        "            posMax = posInicial\n",
        "        else:\n",
        "            posMax = posMaxResto\n",
        "    return posMax\n",
        "\n",
        "print(posMaximo([9,2,10,9]))"
      ],
      "metadata": {
        "id": "jHNQOnhtzqDL",
        "colab": {
          "base_uri": "https://localhost:8080/"
        },
        "outputId": "b1c8741a-8f47-47f9-9257-04ec968be04a"
      },
      "execution_count": 23,
      "outputs": [
        {
          "output_type": "stream",
          "name": "stdout",
          "text": [
            "2\n"
          ]
        }
      ]
    }
  ]
}
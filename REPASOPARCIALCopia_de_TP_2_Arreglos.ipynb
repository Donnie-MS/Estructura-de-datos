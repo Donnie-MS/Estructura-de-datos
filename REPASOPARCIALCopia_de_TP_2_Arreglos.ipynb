{
  "cells": [
    {
      "cell_type": "markdown",
      "metadata": {
        "id": "42630xxYD0gZ"
      },
      "source": [
        "# ![alt text](https://upload.wikimedia.org/wikipedia/commons/thumb/c/c3/Python-logo-notext.svg/50px-Python-logo-notext.svg.png) **Trabajo Práctico 2: Arreglos uni y multidimensionales** ![alt text](https://upload.wikimedia.org/wikipedia/commons/thumb/c/c3/Python-logo-notext.svg/50px-Python-logo-notext.svg.png)\n",
        "\n",
        "En este trabajo práctico, vamos a trabajar con arreglos uni y multidimensionales en Python. Recuerden crear una copia de este archivo en su ***Google Drive*** para tener permisos de edición.\n",
        "\n",
        "### Sergio: **sergio.gonzalez@unahur.edu.ar**"
      ]
    },
    {
      "cell_type": "markdown",
      "source": [
        "## **Vectores**"
      ],
      "metadata": {
        "id": "qofK30OIX86e"
      }
    },
    {
      "cell_type": "markdown",
      "source": [
        "Declaración y modificación/acceso usando índices"
      ],
      "metadata": {
        "id": "MQcrhLqvGR0F"
      }
    },
    {
      "cell_type": "code",
      "source": [
        "import numpy as np\n",
        "v = np.zeros(5,int)\n",
        "print(v)\n",
        "v[1] = 20\n",
        "print(v)"
      ],
      "metadata": {
        "id": "iHbFNXacgwHw",
        "colab": {
          "base_uri": "https://localhost:8080/"
        },
        "outputId": "ba76783c-2372-4552-c6a2-801bfb75d8a2"
      },
      "execution_count": null,
      "outputs": [
        {
          "output_type": "stream",
          "name": "stdout",
          "text": [
            "[0 0 0 0 0]\n",
            "[ 0 20  0  0  0]\n"
          ]
        }
      ]
    },
    {
      "cell_type": "code",
      "source": [
        "m = np.zeros((3,3),int)\n",
        "print(m)\n",
        "m[1,1] = 20\n",
        "print(m)"
      ],
      "metadata": {
        "colab": {
          "base_uri": "https://localhost:8080/"
        },
        "id": "xXdA6TeWTPNf",
        "outputId": "5b2f35cc-1db7-4f7e-d70d-0e961c524b1f"
      },
      "execution_count": null,
      "outputs": [
        {
          "output_type": "stream",
          "name": "stdout",
          "text": [
            "[[0 0 0]\n",
            " [0 0 0]\n",
            " [0 0 0]]\n",
            "[[ 0  0  0]\n",
            " [ 0 20  0]\n",
            " [ 0  0  0]]\n"
          ]
        }
      ]
    },
    {
      "cell_type": "markdown",
      "source": [
        "Recorrido por los elementos y por los índices"
      ],
      "metadata": {
        "id": "s15WdBjMGd6s"
      }
    },
    {
      "cell_type": "code",
      "source": [
        "v2 = np.array([3,2,5,6,7])\n",
        "print(v2)\n",
        "#for dato in v2:\n",
        "#  print(dato)\n",
        "\n",
        "for i in range(len(v2)): #0,1,2,3,4\n",
        "  print(i, v2[i])\n",
        "  v2[i] = v2[i]*2\n",
        "print(v2)"
      ],
      "metadata": {
        "id": "3Dhck8PwgxZn",
        "colab": {
          "base_uri": "https://localhost:8080/"
        },
        "outputId": "67679ad2-68ea-457a-d884-c70254cbaef5"
      },
      "execution_count": null,
      "outputs": [
        {
          "output_type": "stream",
          "name": "stdout",
          "text": [
            "[3 2 5 6 7]\n",
            "0 3\n",
            "1 2\n",
            "2 5\n",
            "3 6\n",
            "4 7\n",
            "[ 6  4 10 12 14]\n"
          ]
        }
      ]
    },
    {
      "cell_type": "code",
      "source": [
        "M = np.array([[3,4,2],[0,7,9],[1,8,12]])\n",
        "print(M)\n",
        "#for fila in M:\n",
        "#  print(fila)\n",
        "#  for dato in fila:\n",
        "#    print(dato)\n",
        "\n",
        "nFilas,nCols = M.shape\n",
        "for fila in range(nFilas): #0,1,2\n",
        "  print(M[fila])\n",
        "  for col in range(nCols): #0,1,2\n",
        "    print(fila, col, M[fila,col])"
      ],
      "metadata": {
        "colab": {
          "base_uri": "https://localhost:8080/"
        },
        "id": "u66rYwdxcbw4",
        "outputId": "97502988-1f45-48cc-c5e7-4d402e2ce811"
      },
      "execution_count": null,
      "outputs": [
        {
          "output_type": "stream",
          "name": "stdout",
          "text": [
            "[[ 3  4  2]\n",
            " [ 0  7  9]\n",
            " [ 1  8 12]]\n",
            "[3 4 2]\n",
            "0 0 3\n",
            "0 1 4\n",
            "0 2 2\n",
            "[0 7 9]\n",
            "1 0 0\n",
            "1 1 7\n",
            "1 2 9\n",
            "[ 1  8 12]\n",
            "2 0 1\n",
            "2 1 8\n",
            "2 2 12\n"
          ]
        }
      ]
    },
    {
      "cell_type": "code",
      "source": [
        "def test(v:np.array)->None:\n",
        "  v[0] = 5"
      ],
      "metadata": {
        "id": "v-rFlllEecHl"
      },
      "execution_count": null,
      "outputs": []
    },
    {
      "cell_type": "code",
      "source": [
        "v1 = np.zeros(5,int)\n",
        "print(v1)\n",
        "test(v1)\n",
        "print(v1)"
      ],
      "metadata": {
        "colab": {
          "base_uri": "https://localhost:8080/"
        },
        "id": "I01Te0jvejWd",
        "outputId": "e379fb6a-550c-40da-c2f1-9af416ef6837"
      },
      "execution_count": null,
      "outputs": [
        {
          "output_type": "stream",
          "name": "stdout",
          "text": [
            "[0 0 0 0 0]\n",
            "[5 0 0 0 0]\n"
          ]
        }
      ]
    },
    {
      "cell_type": "markdown",
      "source": [
        "Notación para acceder a subvectores"
      ],
      "metadata": {
        "id": "IdgWCPzxGjtj"
      }
    },
    {
      "cell_type": "code",
      "source": [],
      "metadata": {
        "id": "ystjhr5NgzGq"
      },
      "execution_count": null,
      "outputs": []
    },
    {
      "cell_type": "markdown",
      "source": [
        "Manejo de strings como vectores"
      ],
      "metadata": {
        "id": "II7ZJdqMGoBj"
      }
    },
    {
      "cell_type": "code",
      "source": [],
      "metadata": {
        "id": "z1OxwPEog0Ke"
      },
      "execution_count": null,
      "outputs": []
    },
    {
      "cell_type": "markdown",
      "metadata": {
        "id": "xjXgmD3mskbR"
      },
      "source": [
        "### **Ejercicio 1**\n",
        "\n",
        "Escribir una función que recibe un numero entero N y le pide al usuario que ingrese N numeros. Al final, el programa debe retornar un vector contiendo los números que fueron ingresados. Tambien debe imprimir por pantalla la suma total de los valores y el promedio. Se deben hacer funciones para resolver el promedio y la suma total."
      ]
    },
    {
      "cell_type": "code",
      "source": [
        "#Recibe un numero entero cantidad\n",
        "#Pide \"cantidad\" numeros con input los guarda en una vector\n",
        "#Imprime suma total y promedio\n",
        "#Retorna el vector\n",
        "import numpy as np\n",
        "\n",
        "def crearVector(longitud: int) -> np.array:\n",
        "    resultado = np.zeros((longitud), int)\n",
        "\n",
        "    for i in range(len(resultado)):\n",
        "        resultado[i] = int(input(\"Ingrese un número: \"))\n",
        "\n",
        "    print(f\"suma total {sumaTotalVector(resultado)}, promedio :{promedioVector(resultado)}\")\n",
        "\n",
        "    return resultado\n",
        "\n",
        "def sumaTotalVector(vector: np.array) -> int:\n",
        "    resultado = 0\n",
        "\n",
        "    for i in vector:\n",
        "        resultado += i\n",
        "\n",
        "    return resultado\n",
        "\n",
        "def promedioVector(vector: np.array) -> float:\n",
        "    return sumaTotalVector(vector) / len(vector)\n",
        "\n",
        "print(crearVector(3))"
      ],
      "metadata": {
        "id": "sCrjsnmwg2S4",
        "colab": {
          "base_uri": "https://localhost:8080/"
        },
        "outputId": "a484833d-5770-4072-a658-0e9498c7539a"
      },
      "execution_count": 16,
      "outputs": [
        {
          "output_type": "stream",
          "name": "stdout",
          "text": [
            "Ingrese un número: 10\n",
            "Ingrese un número: 10\n",
            "Ingrese un número: 10\n",
            "suma total 30, promedio :10.0\n",
            "[10 10 10]\n"
          ]
        }
      ]
    },
    {
      "cell_type": "markdown",
      "source": [
        "### **Ejercicio 2**\n",
        "\n",
        "Escribir una función que recibe un vector de strings y retorna otro con los mismos elementos del vector de entrada pero en orden inverso."
      ],
      "metadata": {
        "id": "i_1fkXYBkl2A"
      }
    },
    {
      "cell_type": "code",
      "source": [
        "import numpy as np\n",
        "#Creo un vector de salida del mismo tamaño y tipo de dato que el de entrada\n",
        "#Creo una variable posicionSalida y la inicializo en len(entrada)-1\n",
        "#Recorrer el vector de entrada desde el inicio por los elementos\n",
        "#   copiar el elemento actual del vector de entrada al de salida en la posicionSalida\n",
        "#   decremento en 1 posicionSalida\n",
        "#retorno el vector de salida\n",
        "\n",
        "#v = [1,2,6,3]\n",
        "def inverso(vector:np.array)->np.array:\n",
        "  salida = np.zeros(len(vector), vector.dtype)\n",
        "  contador = len(vector) - 1\n",
        "  for i in vector:\n",
        "      salida[contador] = i\n",
        "      contador -= 1\n",
        "\n",
        "  return salida\n",
        "\n",
        "print(inverso(np.array([\"a\",\"b\",\"c\"])))"
      ],
      "metadata": {
        "id": "eS3Yom0ig3Ux",
        "colab": {
          "base_uri": "https://localhost:8080/"
        },
        "outputId": "0a44ad05-6482-439f-deca-2bf1492d97ca"
      },
      "execution_count": 36,
      "outputs": [
        {
          "output_type": "stream",
          "name": "stdout",
          "text": [
            "['c' 'b' 'a']\n"
          ]
        }
      ]
    },
    {
      "cell_type": "code",
      "source": [
        "v = np.zeros(5,str)\n",
        "v = np.array(['hola', 'chau', 'casa'])\n",
        "print(v)\n",
        "print(v.dtype)"
      ],
      "metadata": {
        "colab": {
          "base_uri": "https://localhost:8080/"
        },
        "id": "RkQ8GYg50U0V",
        "outputId": "b59b5e4c-8934-4a41-c06f-53ebee686798"
      },
      "execution_count": null,
      "outputs": [
        {
          "output_type": "stream",
          "name": "stdout",
          "text": [
            "['hola' 'chau' 'casa']\n",
            "<U4\n"
          ]
        }
      ]
    },
    {
      "cell_type": "markdown",
      "source": [
        "### **Ejercicio 3**\n",
        "\n",
        "Escribir la función sumaDeVectores que recibe dos vectores de enteros del mismo tamaño y retorna otro con la suma de ambos. La suma de vectores se realiza componente a componente, segun la siguiente forma:\n",
        "\n",
        "v<sub>1</sub> = [ v<sub>11</sub> , v<sub>12</sub> , v<sub>13</sub> , ... , v<sub>1N</sub> ]\n",
        "\n",
        "v<sub>2</sub> = [ v<sub>21</sub> , v<sub>22</sub> , v<sub>23</sub> , ... , v<sub>2N</sub> ]\n",
        "\n",
        "v<sub>1</sub> + v<sub>2</sub> = [ v<sub>11</sub> + v<sub>21</sub> , v<sub>12</sub> + v<sub>22</sub> , v<sub>13</sub> + v<sub>23</sub> , ... , v<sub>1N</sub> + v<sub>2N</sub> ]"
      ],
      "metadata": {
        "id": "WAxORLS4lsQn"
      }
    },
    {
      "cell_type": "code",
      "source": [
        "import numpy as np\n",
        "#len(v1) = len(v2) = len(suma) = N\n",
        "\n",
        "def sumaDeVectores(unVector: np.array, otroVector: np.array) -> np.array:\n",
        "    resultado = np.zeros(len(unVector), unVector.dtype)\n",
        "\n",
        "    for i in range(len(unVector)):\n",
        "        resultado[i] = unVector[i] + otroVector[i]\n",
        "    return resultado\n",
        "\n",
        "print(sumaDeVectores(np.array([1,2,3]), np.array([1,2,3])))"
      ],
      "metadata": {
        "id": "0NYkf51Mg40W",
        "colab": {
          "base_uri": "https://localhost:8080/"
        },
        "outputId": "98aa3282-6673-4047-95ae-ce95a0e129c7"
      },
      "execution_count": 47,
      "outputs": [
        {
          "output_type": "stream",
          "name": "stdout",
          "text": [
            "[2 4 6]\n"
          ]
        }
      ]
    },
    {
      "cell_type": "markdown",
      "metadata": {
        "id": "xQdIQRhp-STK"
      },
      "source": [
        "### **Ejercicio 4**\n",
        "\n",
        "Escribir una función que recibe un vector y desplaza todos sus elementos una posición hacia la derecha: el primero pasa a ser el segundo, el segundo pasa a ser el tercero y así sucesivamente. El último pasa a ser el primero.\n",
        "\n",
        "Por ejemplo:\n",
        "\n",
        "v1 = [2, 4, 1, 5, 7, **9**]\n",
        "\n",
        "**desplazarADerecha(v1)**\n",
        "\n",
        "=> v1 = [**9**, 2, 4, 1, 5, 7]"
      ]
    },
    {
      "cell_type": "code",
      "source": [
        "import numpy as np\n",
        "def desplazarADerecha(vector: np.array) -> np.array:\n",
        "    resultado = np.zeros(len(vector), vector.dtype)\n",
        "\n",
        "    for i in range(len(vector)):\n",
        "        resultado[i] = vector[i-1]\n",
        "    return resultado\n",
        "\n",
        "print(desplazarADerecha(np.array([1,2,3,4])))"
      ],
      "metadata": {
        "id": "QF4-1DsYg66v",
        "colab": {
          "base_uri": "https://localhost:8080/"
        },
        "outputId": "535b044d-e085-47f9-cc2d-ac0d58760496"
      },
      "execution_count": 66,
      "outputs": [
        {
          "output_type": "stream",
          "name": "stdout",
          "text": [
            "[4 1 2 3]\n"
          ]
        }
      ]
    },
    {
      "cell_type": "markdown",
      "metadata": {
        "id": "uMMYGjtoXuJD"
      },
      "source": [
        "### **Ejercicio 5**\n",
        "\n",
        "Desarrollar una función que inserte un elemento en una posición en un vector. Al insertar el elemento, se debe producir un desplazamiento a la derecha de todos los elementos en las posiciones siguientes, el último elemento se pierde.\n",
        "\n",
        "Por ejemplo:\n",
        "\n",
        "v1 = [2, 4, 1, 7, 6, 2]\n",
        "\n",
        "**insertar(v1, 5, 3)** #insertamos un 5 en la posición 3\n",
        "\n",
        "=> v1 = [2, 4, 1, **5**, 7, 6]"
      ]
    },
    {
      "cell_type": "code",
      "source": [
        "def insertar(vector: np.array, elemAInsertar: any, pos: int) -> np.array:\n",
        "    resultado = np.zeros(len(vector), vector.dtype)\n",
        "\n",
        "    for i in range(len(vector)):\n",
        "        if i >= pos:\n",
        "            resultado[i] = vector[i-1]\n",
        "        else:\n",
        "            resultado[i] = vector[i]\n",
        "\n",
        "    resultado[pos] = elemAInsertar\n",
        "    return resultado\n",
        "\n",
        "print(insertar(np.array([2, 4, 1, 7, 6, 2]), 50, 3))"
      ],
      "metadata": {
        "id": "7q0USbI8g8XQ",
        "colab": {
          "base_uri": "https://localhost:8080/"
        },
        "outputId": "c3b3e764-2c10-4266-a1c1-51ec78c7a2d9"
      },
      "execution_count": 102,
      "outputs": [
        {
          "output_type": "stream",
          "name": "stdout",
          "text": [
            "[ 2  4  1 50  7  6]\n"
          ]
        }
      ]
    },
    {
      "cell_type": "markdown",
      "metadata": {
        "id": "FvY2_qmwX_KA"
      },
      "source": [
        "### **Ejercicio 6**\n",
        "\n",
        "Escribir una función que elimine el elemento que ocupa una determinada posición de un vector. Al eliminar, los elementos a la derecha del eliminado, deben desplazarse a la izquierda un lugar y agregar un cero en la última posición.\n",
        "\n",
        "Por ejemplo:\n",
        "\n",
        "v1 = [4, 3, **5**, 8, 6, 7]\n",
        "\n",
        "**eliminar(v1, 2)** #eliminamos el elemento de la posicion 2\n",
        "\n",
        "=> v1 = [4, 3, **8, 6, 7, 0**]"
      ]
    },
    {
      "cell_type": "code",
      "source": [
        "#v1 = [4, 3, 5, 8, 6, 7]\n",
        "#posDel = 2\n",
        "\n",
        "#posActual = 3\n",
        "#v1[posActual-1] = v1[posActual]\n",
        "#v1[posActual] = v1[posActual+1]\n",
        "\n",
        "#creo una variable posicionActual y la inicializo en posDel+1\n",
        "#mientras posicionActual menor o igual a len(v1)-1\n",
        "#   copiar el elemento de v1 en posicionActual un lugar a la izquierda\n",
        "#   incremento en 1 posicionActual\n",
        "#asignar un cero en la ultima posicion de v1\n",
        "\n",
        "\n",
        "\n",
        "#Hacer lo mismo con for\n",
        "#for pos in range(posDel+1,len(v)): posDel+1,posDel+2,posDel+3,...,len(v)-1\n"
      ],
      "metadata": {
        "id": "jKLX4oXHg-Bf"
      },
      "execution_count": null,
      "outputs": []
    },
    {
      "cell_type": "code",
      "source": [
        "v = np.array([2,3,1,5,3,6,5,7])\n",
        "print(v)\n",
        "eliminar(v,7)\n",
        "print(v)"
      ],
      "metadata": {
        "colab": {
          "base_uri": "https://localhost:8080/"
        },
        "id": "EnGHT5bW9o60",
        "outputId": "26b872fb-4ea1-4d9f-bc48-0eadc4869d84"
      },
      "execution_count": null,
      "outputs": [
        {
          "output_type": "stream",
          "name": "stdout",
          "text": [
            "[2 3 1 5 3 6 5 7]\n",
            "[2 3 1 5 3 6 5 0]\n"
          ]
        }
      ]
    },
    {
      "cell_type": "markdown",
      "metadata": {
        "id": "dfuNkFxdYT--"
      },
      "source": [
        "### **Ejercicio 7**\n",
        "\n",
        "Escribir una función que elimine todas las apariciones de un determinado elemento de un vector. Al eliminar se deben insertar tantos ceros al final como elementos se eliminaron.\n",
        "\n",
        "Por ejemplo:\n",
        "\n",
        "arr1 = [4, 3, 5, 8, 6, 5, 7, 5]\n",
        "\n",
        "**eliminarApariciones(arr1, 5)** #eliminamos todos los 5 del arreglo\n",
        "\n",
        "=> arr1 = [4, 3, 8, 6, 7, **0, 0, 0**]"
      ]
    },
    {
      "cell_type": "code",
      "source": [
        "#arr1 = [4, 3, 5, 6, 5, 7, 5, 0]\n",
        "#datoDel = 5\n",
        "#posActual = 3\n",
        "\n",
        "#Algoritmo:\n",
        "#declaro la variable posActual y la inicializo en cero\n",
        "#Recorro el vector de entrada por las posiciones con while hasta el final\n",
        "#  pregunto si el elemento de la posActual es el buscado\n",
        "#     elimino el elemento de la posActual usando la funcion \"eliminar\"\n",
        "#  sino\n",
        "#     incremento en 1 la variable posActual"
      ],
      "metadata": {
        "id": "y_GM4zVGg_UW"
      },
      "execution_count": null,
      "outputs": []
    },
    {
      "cell_type": "markdown",
      "metadata": {
        "id": "J5x_ui9jeE2c"
      },
      "source": [
        "### **Ejercicio 8**\n",
        "\n",
        "Escribir un procedimiento que reciben un vector y:\n",
        "- Imprime un subvector con los dos primeros elementos.\n",
        "- Imprime un subvector con los tres últimos elementos.\n",
        "- Imprime un subvector con los elementos desde la posiciones 2 hasta la 5\n",
        "- Imprime un subvector con los elementos alternados cada dos. Por ej.: v1 = [2 , 1 , 4 , 5 , 2 , 7 , 9] debería imprimir [2 , 4 , 2 , 9]\n",
        "\n",
        "Nota: Se debe utilizar la notacion **vector [ pos<sub>inicio</sub> : pos<sub>fin</sub> : paso ]**"
      ]
    },
    {
      "cell_type": "code",
      "source": [
        "#NO HACER"
      ],
      "metadata": {
        "id": "h7HPbrMbhAmd"
      },
      "execution_count": null,
      "outputs": []
    },
    {
      "cell_type": "markdown",
      "source": [
        "## **Matrices**"
      ],
      "metadata": {
        "id": "mzMe5_5TVI94"
      }
    },
    {
      "cell_type": "markdown",
      "source": [
        "Declaración de matrices y acceso/modificación usando índices"
      ],
      "metadata": {
        "id": "_ug0jvRhJq3L"
      }
    },
    {
      "cell_type": "code",
      "source": [],
      "metadata": {
        "id": "LBJ6wsWUhCDU"
      },
      "execution_count": null,
      "outputs": []
    },
    {
      "cell_type": "markdown",
      "source": [
        "Recorrido por los elementos"
      ],
      "metadata": {
        "id": "hhkYA64oJw6r"
      }
    },
    {
      "cell_type": "code",
      "source": [],
      "metadata": {
        "id": "Z4z2Jy3WhC2M"
      },
      "execution_count": null,
      "outputs": []
    },
    {
      "cell_type": "markdown",
      "source": [
        "Recorrido por las posiciones"
      ],
      "metadata": {
        "id": "uxtTjM_IJzSV"
      }
    },
    {
      "cell_type": "code",
      "source": [],
      "metadata": {
        "id": "9Asv3lqBhDky"
      },
      "execution_count": null,
      "outputs": []
    },
    {
      "cell_type": "markdown",
      "source": [
        "Notación para acceder a submatrices"
      ],
      "metadata": {
        "id": "824iZWnTJ8Xm"
      }
    },
    {
      "cell_type": "code",
      "source": [],
      "metadata": {
        "id": "SVVRhs-QhFC-"
      },
      "execution_count": null,
      "outputs": []
    },
    {
      "cell_type": "markdown",
      "metadata": {
        "id": "0g6QV3ZhZp6J"
      },
      "source": [
        "### **Ejercicio 12**\n",
        "\n",
        "Escribir una función que recibe las dimensiones y retorna una matriz rellena de la siguiente forma: En la posición ( n , m ) debe contener n + m.\n",
        "\n",
        "Por ejemplo:\n",
        "\n",
        "mat1 = rellenaMatriz(4,3)\n",
        "\n",
        "=> mat1 =\n",
        "\n",
        "| <!--   --> |Col 0|Col 1|Col 2|\n",
        "|------------|:---:|:---:|:---:|\n",
        "| **Fila 0** |  0  |  1  |  2  |\n",
        "| **Fila 1** |  1  |  2  |  3  |\n",
        "| **Fila 2** |  2  |  3  |  4  |\n",
        "| **Fila 3** |  3  |  4  |  5  |"
      ]
    },
    {
      "cell_type": "code",
      "source": [
        "def cargaMatriz(cantF:int, cantC:int)->np.array:\n",
        "  salida = np.zeros((cantF,cantC), int)\n",
        "  for nFila in range(cantF):\n",
        "    for nCol in range(cantC):\n",
        "      salida[nFila,nCol] = nFila+nCol\n",
        "  return salida\n",
        "\n",
        "print(cargaMatriz(10,5))"
      ],
      "metadata": {
        "id": "O8S3GbeBhGTV",
        "colab": {
          "base_uri": "https://localhost:8080/"
        },
        "outputId": "b35dd2ee-3e13-4a4d-b709-6d6f8086d2dd"
      },
      "execution_count": null,
      "outputs": [
        {
          "output_type": "stream",
          "name": "stdout",
          "text": [
            "[[ 0  1  2  3  4]\n",
            " [ 1  2  3  4  5]\n",
            " [ 2  3  4  5  6]\n",
            " [ 3  4  5  6  7]\n",
            " [ 4  5  6  7  8]\n",
            " [ 5  6  7  8  9]\n",
            " [ 6  7  8  9 10]\n",
            " [ 7  8  9 10 11]\n",
            " [ 8  9 10 11 12]\n",
            " [ 9 10 11 12 13]]\n"
          ]
        }
      ]
    },
    {
      "cell_type": "markdown",
      "metadata": {
        "id": "g96hWdmiaUmA"
      },
      "source": [
        "### **Ejercicio 13**\n",
        "\n",
        "Escribir una función que recibe una matriz cuadrada (N x N) y calcula la suma de los elementos que están por encima de la diagonal principal (excluyendo la diagonal).\n",
        "\n",
        "En el ejemplo de la imagen, la función deberia retornar: *b + c + f*\n",
        "\n",
        "![texto alternativo](https://economipedia.com/wp-content/uploads/Captura-de-Pantalla-2019-07-29-a-les-13.18.05-1.png)"
      ]
    },
    {
      "cell_type": "code",
      "source": [
        "#En diagonal principal -> indice fila == indice columna\n",
        "\n",
        "#declaro una variable \"sumaTriangulo\" donde guardar la suma y la inicializo en 0\n",
        "#Recorro toda la matriz por las posiciones con for\n",
        "#   si estoy en la region de interes (triangulo superior <=> posCol > posFila)\n",
        "#       acumulo el valor actual sobre la variable sumaTriangulo\n",
        "#retorno el valor de sumaTriangulo\n",
        "\n",
        "def sumaTrianguloSuperior(matrizCuadrada:np.array)->int:\n",
        "  sumaTriangulo = 0\n",
        "  cantFilas,cantCols = matrizCuadrada.shape #3,3\n",
        "  if cantFilas == cantCols:\n",
        "    for posFila in range(cantFilas): #0,1,2 | posFila = 2\n",
        "      for posCol in range(cantCols): #0,1,2 | posCol = 2\n",
        "        if posCol > posFila:\n",
        "          sumaTriangulo += matrizCuadrada[posFila,posCol] #0+3+5+8\n",
        "  return sumaTriangulo"
      ],
      "metadata": {
        "id": "LgGZzxpvhItf"
      },
      "execution_count": null,
      "outputs": []
    },
    {
      "cell_type": "code",
      "source": [
        "m = np.array([[2,3,5],\n",
        "              [5,1,8],\n",
        "              [4,9,0]])\n",
        "print(sumaTrianguloSuperior(m))"
      ],
      "metadata": {
        "colab": {
          "base_uri": "https://localhost:8080/"
        },
        "id": "KPyQ6K56E-u4",
        "outputId": "ba3a1eb4-845b-44cb-8788-d57f22a6713e"
      },
      "execution_count": null,
      "outputs": [
        {
          "output_type": "stream",
          "name": "stdout",
          "text": [
            "30\n"
          ]
        }
      ]
    },
    {
      "cell_type": "code",
      "source": [
        "def sumaTrianguloSuperior(matrizCuadrada:np.array)->int:\n",
        "  sumaTriangulo = 0\n",
        "  cantFilas,cantCols = matrizCuadrada.shape #3,3\n",
        "  if cantFilas == cantCols:\n",
        "    for posFila in range(cantFilas-1): #0,1\n",
        "      for posCol in range(posFila+1,cantCols): #0,1,2\n",
        "        sumaTriangulo += matrizCuadrada[posFila,posCol] #0+3+5+8\n",
        "  return sumaTriangulo"
      ],
      "metadata": {
        "id": "keIpk1vPHENU"
      },
      "execution_count": null,
      "outputs": []
    },
    {
      "cell_type": "markdown",
      "metadata": {
        "id": "ERqaprbtbx5F"
      },
      "source": [
        "### **Ejercicio 14**\n",
        "\n",
        "Escribir una función que retorna *True* si una matriz cuadrada es matriz diagonal y *False* en caso contrario.\n",
        "\n",
        "Una matriz cuadrada diagonal es una matriz que tiene ceros en todos sus elementos, menos en la diagonal principal (No importan los elementos de la diagonal principal, pueden ser cero o no).\n",
        "\n",
        "**Si i, j son los índices de las filas y columnas de M**\n",
        "\n",
        "**=> Una matriz M es diagonal si:**\n",
        "\n",
        "**M [ i , j ] == 0 para todo i != j**\n",
        "\n",
        "Matriz diagonal de 4 x 4:\n",
        "\n",
        "| <!--   --> |Col 0|Col 1|Col 2|Col 3|\n",
        "|------------|:---:|:---:|:---:|:---:|\n",
        "| **Fila 0** |  0  |  0  |  0  |  0  |\n",
        "| **Fila 1** |  0  |  2  |  0  |  0  |\n",
        "| **Fila 2** |  0  |  0  |  4  |  0  |\n",
        "| **Fila 3** |  0  |  0  |  0  |  0  |"
      ]
    },
    {
      "cell_type": "code",
      "source": [],
      "metadata": {
        "id": "kC03GBu1hKqg"
      },
      "execution_count": null,
      "outputs": []
    },
    {
      "cell_type": "markdown",
      "metadata": {
        "id": "dHytTlIXcW5P"
      },
      "source": [
        "### **Ejercicio 15**\n",
        "\n",
        "Escribir una función que retorna *True* si una matriz cuadrada de enteros es simétrica y *False* en caso contrario.\n",
        "\n",
        "Una matriz simétrica es como la de la imagen (no importan los elementos de la diagonal principal):\n",
        "\n",
        "![texto alternativo](https://economipedia.com/wp-content/uploads/Captura-de-Pantalla-2019-09-23-a-les-15.58.25.png)\n",
        "\n",
        "Es decir:\n",
        "\n",
        "**Si i, j son los índices de las filas y columnas de M**\n",
        "\n",
        "**=> Una matriz M es simétrica si:**\n",
        "\n",
        "**M [ i , j ] == M[ j, i ] para todo i != j**\n",
        "\n",
        "Matriz simétrica de 4 x 4:\n",
        "\n",
        "| <!--   --> |Col 0|Col 1|Col 2|Col 3|\n",
        "|------------|:---:|:---:|:---:|:---:|\n",
        "| **Fila 0** |  2  |  1  |  0  |  5  |\n",
        "| **Fila 1** |  1  |  2  |  9  |  7  |\n",
        "| **Fila 2** |  0  |  9  |  0  |  8  |\n",
        "| **Fila 3** |  5  |  7  |  8  |  4  |"
      ]
    },
    {
      "cell_type": "code",
      "source": [],
      "metadata": {
        "id": "Y_5v0NDrhNYD"
      },
      "execution_count": null,
      "outputs": []
    },
    {
      "cell_type": "markdown",
      "metadata": {
        "id": "tnlvo6O4q1lG"
      },
      "source": [
        "### **Ejercicio 16**\n",
        "\n",
        "Una de las aplicaciones de matrices en programación es la representación y procesamiento de imágenes. Vamos a ver algunas cosas que se pueden hacer. Para esto primero tenemos que cargarnos una imagen en el colab y generar una matriz a partir de ella.\n",
        "\n",
        "- Descarguen el archivo \"felix.csv\" del siguiente link:\n",
        "https://drive.google.com/file/d/10Du9ECx7Cz-aHXQpYaWjkaAn6wKJSArn/view?usp=sharing\n",
        "- Suban el archivo \"felix.csv\" al \"colab\" para poder cargarlo con el programa de Python de abajo (haciendo click en el icono de la carpeta ![texto alternativo](https://i.ibb.co/jzqwMsc/carpeta.png), de arriba a la izquierda y luego en \"Subir\")\n",
        "- Completen el programa, procesando a la imagen guardada en la matriz \"felix\" para obtener las imágenes de la siguiente figura (La \"A\" es la imagen original), pueden hacer funciones que generen cada transformación en la imagen:\n",
        "\n",
        "![texto alternativo](https://i.ibb.co/VvJBMsF/felix-results.png)"
      ]
    },
    {
      "cell_type": "code",
      "execution_count": null,
      "metadata": {
        "id": "5RXi-2ZbrXkZ",
        "colab": {
          "base_uri": "https://localhost:8080/",
          "height": 574
        },
        "outputId": "a748e0b8-1cee-40cc-b9eb-862a85533036"
      },
      "outputs": [
        {
          "output_type": "stream",
          "name": "stdout",
          "text": [
            "Cantidad de pixeles: 280 x 280\n"
          ]
        },
        {
          "output_type": "display_data",
          "data": {
            "text/plain": [
              "<Figure size 640x480 with 1 Axes>"
            ],
            "image/png": "[encoded data removed]"
          },
          "metadata": {}
        },
        {
          "output_type": "stream",
          "name": "stdout",
          "text": [
            "[[0. 0. 0. ... 0. 1. 1.]\n",
            " [0. 0. 0. ... 0. 1. 1.]\n",
            " [0. 0. 0. ... 0. 1. 1.]\n",
            " ...\n",
            " [0. 0. 0. ... 1. 1. 1.]\n",
            " [0. 0. 0. ... 1. 1. 1.]\n",
            " [0. 0. 0. ... 1. 1. 1.]]\n"
          ]
        }
      ],
      "source": [
        "import numpy as np\n",
        "import matplotlib.pyplot as plt\n",
        "import copy as cp\n",
        "\n",
        "###Lectura del archivo en la matriz#####\n",
        "felix = np.genfromtxt('felix.csv', delimiter=',')\n",
        "########################################\n",
        "print(\"Cantidad de pixeles:\",\" x \".join(map(str,felix.shape)))\n",
        "######Para mostrar matriz como imagen###########\n",
        "plt.imshow(felix, cmap='Greys')\n",
        "plt.show()\n",
        "########################################\n",
        "print(felix[0:50,0:50])"
      ]
    }
  ],
  "metadata": {
    "colab": {
      "provenance": []
    },
    "kernelspec": {
      "display_name": "Python 3",
      "name": "python3"
    }
  },
  "nbformat": 4,
  "nbformat_minor": 0
}
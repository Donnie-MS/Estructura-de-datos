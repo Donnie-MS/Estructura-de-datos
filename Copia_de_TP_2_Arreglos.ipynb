{
  "cells": [
    {
      "cell_type": "markdown",
      "metadata": {
        "id": "42630xxYD0gZ"
      },
      "source": [
        "# ![alt text](https://upload.wikimedia.org/wikipedia/commons/thumb/c/c3/Python-logo-notext.svg/50px-Python-logo-notext.svg.png) **Trabajo Práctico 2: Arreglos uni y multidimensionales** ![alt text](https://upload.wikimedia.org/wikipedia/commons/thumb/c/c3/Python-logo-notext.svg/50px-Python-logo-notext.svg.png)\n",
        "\n",
        "En este trabajo práctico, vamos a trabajar con arreglos uni y multidimensionales en Python. Recuerden crear una copia de este archivo en su ***Google Drive*** para tener permisos de edición.\n",
        "\n",
        "### Sergio: **sergio.gonzalez@unahur.edu.ar**"
      ]
    },
    {
      "cell_type": "markdown",
      "source": [
        "## **Vectores**"
      ],
      "metadata": {
        "id": "qofK30OIX86e"
      }
    },
    {
      "cell_type": "markdown",
      "source": [
        "Declaración y modificación/acceso usando índices"
      ],
      "metadata": {
        "id": "MQcrhLqvGR0F"
      }
    },
    {
      "cell_type": "code",
      "source": [
        "#primer valor columna luego columna\n",
        "#qué es iterar? = recorrer algo?\n",
        "v = np.zeros((3,3), int)\n",
        "print(v)\n",
        "v[1][1] = 20\n",
        "print(v)\n",
        "\"\"\"\n",
        "Solo sirve para leer:\n",
        "for elemento in vector\n",
        "\n",
        "\n",
        "Para iterar por los indices\n",
        "for indice in range(len(vector)):\n",
        "for indice in reversed(range(len(vector))):"
      ],
      "metadata": {
        "id": "iHbFNXacgwHw",
        "colab": {
          "base_uri": "https://localhost:8080/"
        },
        "outputId": "526688e4-4ca1-4968-c3a9-911e856d3175"
      },
      "execution_count": null,
      "outputs": [
        {
          "output_type": "stream",
          "name": "stdout",
          "text": [
            "[['' '' '']\n",
            " ['' '' '']\n",
            " ['' '' '']]\n",
            "[['' '' '']\n",
            " ['' '2' '']\n",
            " ['' '' '']]\n"
          ]
        }
      ]
    },
    {
      "cell_type": "markdown",
      "source": [
        "Recorrido por los elementos y por los índices"
      ],
      "metadata": {
        "id": "s15WdBjMGd6s"
      }
    },
    {
      "cell_type": "code",
      "source": [
        "#nFilas, n cols = n.shape()\n",
        "import numpy as np\n",
        "v2 = np.array([3, 2, 5, 6, 7])\n",
        "\n",
        "print(v2)\n",
        "\"\"\"\n",
        "for elemento  in v2:\n",
        "  print(elemento)\n",
        "\n",
        "\n",
        "for i in range(len(v2)):\n",
        "    print(i, v2[i])\n",
        "    v2[i] = v2[i] * 2\n",
        "\n",
        "Si yo tengo una función que toma un array como parametro\n",
        "si cambias el array por referencia (parametro) se va a cambiar en el global\n",
        "\n",
        "V2 = V\n",
        "al hacer una \"copia\"  en la memoria ocupa el mismo lugar en la memoria\n",
        "entonces si modificas v2 o v van a cambiar los dos\n",
        "\n",
        "def test(v:np.array) -> None:\n",
        "      v[0] = 5\n",
        "\n",
        "import copy\n",
        "V2 = copy.deepcopy(v)\n",
        "str en python son inmutables (no puede modificarse)\n",
        "\"\"\"\n",
        "\n",
        "M= np.zeros((3,3), int)\n",
        "\n",
        "nFilas, nCols = M.shape\n",
        "for fila in range(nFilas):\n",
        "    for col in range(nCols):\n",
        "      print(M[fila, col])\n",
        "print(v2)\n"
      ],
      "metadata": {
        "id": "3Dhck8PwgxZn",
        "colab": {
          "base_uri": "https://localhost:8080/"
        },
        "outputId": "2c31ae8c-94ca-4565-aa75-8abf3e8f9b50"
      },
      "execution_count": null,
      "outputs": [
        {
          "output_type": "stream",
          "name": "stdout",
          "text": [
            "[3 2 5 6 7]\n",
            "0\n",
            "0\n",
            "0\n",
            "0\n",
            "0\n",
            "0\n",
            "0\n",
            "0\n",
            "0\n",
            "[3 2 5 6 7]\n"
          ]
        }
      ]
    },
    {
      "cell_type": "markdown",
      "source": [
        "Notación para acceder a subvectores"
      ],
      "metadata": {
        "id": "IdgWCPzxGjtj"
      }
    },
    {
      "cell_type": "code",
      "source": [],
      "metadata": {
        "id": "ystjhr5NgzGq"
      },
      "execution_count": null,
      "outputs": []
    },
    {
      "cell_type": "markdown",
      "source": [
        "Manejo de strings como vectores"
      ],
      "metadata": {
        "id": "II7ZJdqMGoBj"
      }
    },
    {
      "cell_type": "code",
      "source": [],
      "metadata": {
        "id": "z1OxwPEog0Ke"
      },
      "execution_count": null,
      "outputs": []
    },
    {
      "cell_type": "markdown",
      "metadata": {
        "id": "xjXgmD3mskbR"
      },
      "source": [
        "### **Ejercicio 1**\n",
        "\n",
        "Escribir una función que recibe un numero entero N y le pide al usuario que ingrese N numeros. Al final, el programa debe retornar un vector contiendo los números que fueron ingresados. Tambien debe imprimir por pantalla la suma total de los valores y el promedio. Se deben hacer funciones para resolver el promedio y la suma total."
      ]
    },
    {
      "cell_type": "code",
      "source": [
        "import numpy as np\n",
        "def vectorDe(nrosAPedir: int) -> np.ndarray:\n",
        "    \"\"\"\n",
        "    Propósito: Solicita al usuario una cantidad de números entera,\n",
        "    construye un array con ellos e imprime la suma total y el promedio.\n",
        "\n",
        "    Precondiciones: nrosAPedir debe ser un entero mayor a 0.\n",
        "\n",
        "    Parámetros:\n",
        "    -nrosApedir: int - Cantidad de números a ingresar.\n",
        "\n",
        "    Tipo: Array con los números ingresados.\n",
        "    \"\"\"\n",
        "    salida = np.zeros(nrosAPedir, int)\n",
        "    for i in range(nrosAPedir):\n",
        "        numero = int(input(\"Ingrese un número\"))\n",
        "        salida[i] = numero\n",
        "    print(f\"La suma total es {sumaTotal(salida)}\")\n",
        "    print(f\"El promedio es {promedioTotal(salida)}\")\n",
        "    return salida\n",
        "\n",
        "def promedioTotal(array: np.ndarray) -> float:\n",
        "    \"\"\"\n",
        "    Propósito: Calcula el promedio de todos los elementos del array\n",
        "    Precondiciones: El array debe contener números (int o float).\n",
        "    Parámetros:\n",
        "    -array: Array - Array con los elementos a promediar.\n",
        "    Tipo: float\n",
        "    \"\"\"\n",
        "    return sumaTotal(array) / len(array)\n",
        "\n",
        "def sumaTotal(array: np.ndarray) -> float:\n",
        "    \"\"\"\n",
        "    Propósito: Calcula la suma total de todos los elementos del array.\n",
        "    Precondiciones: El array debe contener números (int o float).\n",
        "    Parámetros:\n",
        "    -array: Array - Array con los elementos a sumar\n",
        "    Tipo: float\n",
        "    \"\"\"\n",
        "    \"\"\"\n",
        "    totalSuma = 0\n",
        "    for i in range(len(array)):\n",
        "        totalSuma += array[i]\n",
        "    \"\"\"\n",
        "    return np.sum(array)"
      ],
      "metadata": {
        "id": "sCrjsnmwg2S4"
      },
      "execution_count": null,
      "outputs": []
    },
    {
      "cell_type": "markdown",
      "source": [
        "### **Ejercicio 2**\n",
        "\n",
        "Escribir una función que recibe un vector de strings y retorna otro con los mismos elementos del vector de entrada pero en orden inverso."
      ],
      "metadata": {
        "id": "i_1fkXYBkl2A"
      }
    },
    {
      "cell_type": "code",
      "source": [
        "def invertirArrayDeStrings(arrayStr: np.ndarray) -> np.ndarray:\n",
        "    \"\"\"\n",
        "    Propósito: Describe un array de strings invertido de derecha a izquierda.\n",
        "    Precondiciones: arrayStr debe ser un array de strings\n",
        "    Parámetros:\n",
        "    -arrayStr: Array - Array de strings a invertir\n",
        "    Tipo: Array\n",
        "    \"\"\"\n",
        "    iInver = len(arrayStr)\n",
        "    arrayInver = np.zeros(len(arrayStr), '<U20')\n",
        "    for i in range(len(arrayStr)):\n",
        "        iInver -= 1\n",
        "        arrayInver[iInver] = arrayStr[i]\n",
        "    print(arrayInver)\n",
        "invertirArrayDeStrings(testArray)"
      ],
      "metadata": {
        "id": "eS3Yom0ig3Ux",
        "colab": {
          "base_uri": "https://localhost:8080/"
        },
        "outputId": "48a15787-c66d-41df-b518-eedba66fdfd2"
      },
      "execution_count": null,
      "outputs": [
        {
          "output_type": "stream",
          "name": "stdout",
          "text": [
            "['bienvidio' 'adios' 'hola']\n"
          ]
        }
      ]
    },
    {
      "cell_type": "markdown",
      "source": [
        "### **Ejercicio 3**\n",
        "\n",
        "Escribir la función sumaDeVectores que recibe dos vectores de enteros del mismo tamaño y retorna otro con la suma de ambos. La suma de vectores se realiza componente a componente, segun la siguiente forma:\n",
        "\n",
        "v<sub>1</sub> = [ v<sub>11</sub> , v<sub>12</sub> , v<sub>13</sub> , ... , v<sub>1N</sub> ]\n",
        "\n",
        "v<sub>2</sub> = [ v<sub>21</sub> , v<sub>22</sub> , v<sub>23</sub> , ... , v<sub>2N</sub> ]\n",
        "\n",
        "v<sub>1</sub> + v<sub>2</sub> = [ v<sub>11</sub> + v<sub>21</sub> , v<sub>12</sub> + v<sub>22</sub> , v<sub>13</sub> + v<sub>23</sub> , ... , v<sub>1N</sub> + v<sub>2N</sub> ]"
      ],
      "metadata": {
        "id": "WAxORLS4lsQn"
      }
    },
    {
      "cell_type": "code",
      "source": [
        "import numpy as np\n",
        "def sumaDeVectores(vector1: np.ndarray, vector2: np.ndarray) -> np.ndarray:\n",
        "     \"\"\"\n",
        "        Propósito: Retorna un vector resultante de la suma componente a componente de vector1 y vector2.\n",
        "        Precondiciones:\n",
        "        - vector1 y vector2 deben ser arrays de enteros del mismo tamaño.\n",
        "        Parametros:\n",
        "        -vector1: Array - Primer vector de enteros.\n",
        "        -vector2: Array - Segundo vector de enteros.\n",
        "        Tipo: Array\n",
        "     \"\"\"\n",
        "     resultadoVector = np.zeros(len(vector1), int)\n",
        "     for i in range(len(vector1)):\n",
        "        resultadoVector[i] = vector1[i] + vector2[i]\n",
        "     print(resultadoVector)\n",
        "     return resultadoVector\n",
        "sumaDeVectores([1, 2, 3], [3, 2, 1])"
      ],
      "metadata": {
        "id": "0NYkf51Mg40W",
        "colab": {
          "base_uri": "https://localhost:8080/"
        },
        "outputId": "6c3dd26c-cc94-4bce-bb55-f7a636646854"
      },
      "execution_count": null,
      "outputs": [
        {
          "output_type": "stream",
          "name": "stdout",
          "text": [
            "[4 4 4]\n"
          ]
        }
      ]
    },
    {
      "cell_type": "markdown",
      "metadata": {
        "id": "xQdIQRhp-STK"
      },
      "source": [
        "### **Ejercicio 4**\n",
        "\n",
        "Escribir una función que recibe un vector y desplaza todos sus elementos una posición hacia la derecha: el primero pasa a ser el segundo, el segundo pasa a ser el tercero y así sucesivamente. El último pasa a ser el primero.\n",
        "\n",
        "Por ejemplo:\n",
        "\n",
        "v1 = [2, 4, 1, 5, 7, **9**]\n",
        "\n",
        "**desplazarADerecha(v1)**\n",
        "\n",
        "=> v1 = [**9**, 2, 4, 1, 5, 7]"
      ]
    },
    {
      "cell_type": "code",
      "source": [
        "import numpy as np\n",
        "def desplazarADerecha(vector: np.ndarray) -> np.ndarray:\n",
        "    \"\"\"\n",
        "       Propósito: Retorna un vector con todos los elementos desplazados un lugar\n",
        "       a la derecha.\n",
        "       Precondiciones: Ninguno\n",
        "       Parámetros:\n",
        "       -vector: array - Vector a desplazar\n",
        "       Tipo: array\n",
        "    \"\"\"\n",
        "    vector = np.array(vector) #asegura que se una array\n",
        "    print(\"Original:\", vector)\n",
        "    resultado = np.zeros(len(vector), vector.dtype) # mantiene el tipo original\n",
        "    resultado[0] = vector[-1]\n",
        "    for i in range(0, len(vector) - 1):\n",
        "        resultado[i + 1] = vector[i]\n",
        "    return resultado\n",
        "desplazarADerecha([\"hola\", \"joao\", \"adios\"])"
      ],
      "metadata": {
        "id": "QF4-1DsYg66v",
        "colab": {
          "base_uri": "https://localhost:8080/"
        },
        "outputId": "84e41fcc-6473-4f53-f863-e881573a5ef7"
      },
      "execution_count": null,
      "outputs": [
        {
          "output_type": "stream",
          "name": "stdout",
          "text": [
            "Original: ['hola' 'joao' 'adios']\n"
          ]
        },
        {
          "output_type": "execute_result",
          "data": {
            "text/plain": [
              "array(['adios', 'hola', 'joao'], dtype='<U5')"
            ]
          },
          "metadata": {},
          "execution_count": 65
        }
      ]
    },
    {
      "cell_type": "markdown",
      "metadata": {
        "id": "uMMYGjtoXuJD"
      },
      "source": [
        "### **Ejercicio 5**\n",
        "\n",
        "Desarrollar una función que inserte un elemento en una posición en un vector. Al insertar el elemento, se debe producir un desplazamiento a la derecha de todos los elementos en las posiciones siguientes, el último elemento se pierde.\n",
        "\n",
        "Por ejemplo:\n",
        "\n",
        "v1 = [2, 4, 1, 7, 6, 2]\n",
        "\n",
        "**insertar(v1, 5, 3)** #insertamos un 5 en la posición 3\n",
        "\n",
        "=> v1 = [2, 4, 1, **5**, 7, 6]"
      ]
    },
    {
      "cell_type": "code",
      "source": [
        "import numpy as np\n",
        "def desplazarADerecha(vector: np.ndarray) -> np.ndarray:\n",
        "    \"\"\"\n",
        "       Propósito: Retorna un vector con todos los elementos desplazados un lugar\n",
        "       a la derecha.\n",
        "       Precondiciones: Ninguno\n",
        "       Parámetros:\n",
        "       -vector: array - Vector a desplazar\n",
        "       Tipo: array\n",
        "    \"\"\"\n",
        "    vector = np.array(vector) #asegura que se una array\n",
        "    resultado = np.zeros(len(vector), vector.dtype) # mantiene el tipo original\n",
        "    resultado[0] = vector[-1]\n",
        "    for i in range(0, len(vector) - 1):\n",
        "        resultado[i + 1] = vector[i]\n",
        "    return resultado\n",
        "\n",
        "\n",
        "def insertarElemento(vector, elem, i) -> np.ndarray:\n",
        "\n",
        "    resultado = np.array(vector, type(elem))\n",
        "    resultado = desplazarADerecha(vector)\n",
        "    resultado[i] = elem\n",
        "    return resultado\n",
        "insertarElemento([1, 2, 3, 4], 0, 3)"
      ],
      "metadata": {
        "id": "7q0USbI8g8XQ",
        "colab": {
          "base_uri": "https://localhost:8080/"
        },
        "outputId": "e6bd1861-91ea-449c-93fd-c03837536eb9"
      },
      "execution_count": null,
      "outputs": [
        {
          "output_type": "stream",
          "name": "stdout",
          "text": [
            "[1 2 3 4]\n",
            "[4 1 2 3]\n"
          ]
        },
        {
          "output_type": "execute_result",
          "data": {
            "text/plain": [
              "array([4, 1, 2, 0])"
            ]
          },
          "metadata": {},
          "execution_count": 89
        }
      ]
    },
    {
      "cell_type": "markdown",
      "metadata": {
        "id": "FvY2_qmwX_KA"
      },
      "source": [
        "### **Ejercicio 6**\n",
        "\n",
        "Escribir una función que elimine el elemento que ocupa una determinada posición de un vector. Al eliminar, los elementos a la derecha del eliminado, deben desplazarse a la izquierda un lugar y agregar un cero en la última posición.\n",
        "\n",
        "Por ejemplo:\n",
        "\n",
        "v1 = [4, 3, **5**, 8, 6, 7]\n",
        "\n",
        "**eliminar(v1, 2)** #eliminamos el elemento de la posicion 2\n",
        "\n",
        "=> v1 = [4, 3, **8, 6, 7, 0**]"
      ]
    },
    {
      "cell_type": "code",
      "source": [
        "def eliminarElemEnVector(vector: np.ndarray, pos: int) -> np.ndarray:\n",
        "    \"\"\"\n",
        "    Propósito: Retorna un nuevo vector con el elemento en la posición 'pos' eliminado.\n",
        "    Los elementos posteriores se desplazan a la izquierda y se coloca un 0 al final.\n",
        "    Precondiciones: Ninguno\n",
        "    Parámetros:\n",
        "    -vector: Array -  Vector original.\n",
        "    -pos: int - Posición del elemento a eliminar.\n",
        "    Tipo: Array\n",
        "    \"\"\"\n",
        "    # Asegurar que el vector es un array de NumPy\n",
        "    if not isinstance(vector, np.ndarray):\n",
        "        vector = np.array(vector)\n",
        "\n",
        "    # Verificar que la posición sea válida\n",
        "    if pos < 0 or pos >= len(vector):\n",
        "        raise IndexError(\"La posición está fuera del rango del vector.\")\n",
        "\n",
        "    # Hacer una copia para no modificar el original\n",
        "    copia = vector.copy()\n",
        "\n",
        "    # Desplazar elementos a la izquierda desde la posición\n",
        "    for i in range(pos, len(copia) - 1):\n",
        "        copia[i] = copia[i + 1]\n",
        "\n",
        "    # Colocar 0 en la última posición\n",
        "    copia[-1] = 0\n",
        "\n",
        "    return copia\n",
        "\n",
        "eliminarElemEnVector([4, 3, 5, 8, 6, 7], 2)"
      ],
      "metadata": {
        "id": "jKLX4oXHg-Bf",
        "colab": {
          "base_uri": "https://localhost:8080/"
        },
        "outputId": "61e5a371-a24e-4a75-86fa-b3619795bac8"
      },
      "execution_count": null,
      "outputs": [
        {
          "output_type": "execute_result",
          "data": {
            "text/plain": [
              "array([4, 3, 8, 6, 7, 0])"
            ]
          },
          "metadata": {},
          "execution_count": 120
        }
      ]
    },
    {
      "cell_type": "markdown",
      "metadata": {
        "id": "dfuNkFxdYT--"
      },
      "source": [
        "### **Ejercicio 7**\n",
        "\n",
        "Escribir una función que elimine todas las apariciones de un determinado elemento de un vector. Al eliminar se deben insertar tantos ceros al final como elementos se eliminaron.\n",
        "\n",
        "Por ejemplo:\n",
        "\n",
        "arr1 = [4, 3, 5, 8, 6, 5, 7, 5]\n",
        "\n",
        "**eliminarApariciones(arr1, 5)** #eliminamos todos los 5 del arreglo\n",
        "\n",
        "=> arr1 = [4, 3, 8, 6, 7, **0, 0, 0**]"
      ]
    },
    {
      "cell_type": "code",
      "source": [
        "import numpy as np\n",
        "from typing import Any\n",
        "def validarTipoDeDato(variable: Any, nombre: str, tipo: type) -> Any:\n",
        "    \"\"\"\n",
        "    Purpose: Valida que la variable sea de tipo de dato especificado.\n",
        "    Precondiciones: Ninguno\n",
        "\n",
        "    Parameters:\n",
        "    -variable: any - Indica la variable a validar\n",
        "    -nombre: str - Indica el nombre de la variable\n",
        "    -tipo: type - Indica el tipo a esperar de variable\n",
        "\n",
        "    Returns:\n",
        "    -Any: - La misma variable si es el tipo de dato especificado.\n",
        "\n",
        "    Raises:\n",
        "    -TypeError: Si la variable no es del tipo especificado\n",
        "    \"\"\"\n",
        "    if isinstance(variable, tipo):\n",
        "        return variable\n",
        "    else:\n",
        "        raise TypeError(f\"La variable {nombre} debeser de tipo {tipo}\")\n",
        "\n",
        "def convertirEnArraySiEsNecesario(vector: np.ndarray) -> np.ndarray:\n",
        "    \"\"\"\n",
        "    Purpose: Convierte el vector en array si es necesario.\n",
        "    Preconditions: Ninguno\n",
        "    Parameters:\n",
        "    -vector: np.ndarray - El vector a convertir si es necesario\n",
        "    Returns: np.ndarray\n",
        "    \"\"\"\n",
        "    if not isinstance(vector, np.ndarray):\n",
        "        vector = np.array(vector)\n",
        "        return vector\n",
        "    return vector\n",
        "\n",
        "def eliminarElemEnVector(vector: np.ndarray, pos: int) -> np.ndarray:\n",
        "    \"\"\"\n",
        "    Propósito: Retorna un nuevo vector con el elemento en la posición 'pos' eliminado.\n",
        "    Los elementos posteriores se desplazan a la izquierda y se coloca un 0 al final.\n",
        "    Precondiciones: Ninguno\n",
        "    Parámetros:\n",
        "    -vector: Array -  Vector original.\n",
        "    -pos: int - Posición del elemento a eliminar.\n",
        "    Tipo: Array\n",
        "    \"\"\"\n",
        "    # Asegurar que el vector es un array de NumPy\n",
        "    if not isinstance(vector, np.ndarray):\n",
        "        vector = np.array(vector)\n",
        "\n",
        "    # Verificar que la posición sea válida\n",
        "    if pos < 0 or pos >= len(vector):\n",
        "        raise IndexError(\"La posición está fuera del rango del vector.\")\n",
        "\n",
        "    # Hacer una copia para no modificar el original\n",
        "    copia = vector.copy()\n",
        "\n",
        "    # Desplazar elementos a la izquierda desde la posición\n",
        "    for i in range(pos, len(copia) - 1):\n",
        "        copia[i] = copia[i + 1]\n",
        "\n",
        "    # Colocar 0 en la última posición\n",
        "    copia[-1] = 0\n",
        "\n",
        "    return copia\n",
        "\n",
        "def eliminarTodosLosElemEnVector(vector: np.ndarray, elem: any) -> np.ndarray:\n",
        "    \"\"\"\n",
        "    Purpose: Elimina todos los elementos repetidos \"elem\" en el vector \"vector\".\n",
        "    Preconditions: Ninguno.\n",
        "    Parameters:\n",
        "    - vector: np.ndarray - Indica el vector a modificar.\n",
        "    - elem: any - Indica el tipo de elemento a eliminar del vector\n",
        "    Returns:\n",
        "    - np.ndarray: Nuevo vector sin las ocurrencias del elemento especificado.\n",
        "    \"\"\"\n",
        "    #Asegura que el vector es un array\n",
        "    vector = convertirEnArraySiEsNecesario(vector)\n",
        "    #Hacer una copia para no modificar el original\n",
        "    copy = vector.copy()\n",
        "    i = 0\n",
        "    while i < len(copy):\n",
        "        if copy[i] == elem:\n",
        "            copy = eliminarElemEnVector(copy, i)\n",
        "        else:\n",
        "            i += 1\n",
        "    return copy\n",
        "\n",
        "\"\"\"\n",
        "    for i in range(len(copy)):\n",
        "        if copy[i] == elem:\n",
        "            copy[i] = 0\n",
        "            copy = eliminarElemEnVector(copy, i)\n",
        "\n",
        "    return copy\n",
        "\"\"\"\n",
        "eliminarTodosLosElemEnVector([2, 5, 5], 5)\n"
      ],
      "metadata": {
        "id": "y_GM4zVGg_UW",
        "colab": {
          "base_uri": "https://localhost:8080/"
        },
        "outputId": "55ce8b66-856b-4299-88a8-b9bd822527cf"
      },
      "execution_count": null,
      "outputs": [
        {
          "output_type": "execute_result",
          "data": {
            "text/plain": [
              "array([2, 0, 0])"
            ]
          },
          "metadata": {},
          "execution_count": 30
        }
      ]
    },
    {
      "cell_type": "markdown",
      "metadata": {
        "id": "J5x_ui9jeE2c"
      },
      "source": [
        "### **Ejercicio 8**\n",
        "\n",
        "Escribir un procedimiento que reciben un vector y:\n",
        "- Imprime un subvector con los dos primeros elementos.\n",
        "- Imprime un subvector con los tres últimos elementos.\n",
        "- Imprime un subvector con los elementos desde la posiciones 2 hasta la 5\n",
        "- Imprime un subvector con los elementos alternados cada dos. Por ej.: v1 = [2 , 1 , 4 , 5 , 2 , 7 , 9] debería imprimir [2 , 4 , 2 , 9]\n",
        "\n",
        "Nota: Se debe utilizar la notacion **vector [ pos<sub>inicio</sub> : pos<sub>fin</sub> : paso ]**"
      ]
    },
    {
      "cell_type": "code",
      "source": [
        "import numpy as np\n",
        "\n",
        "def convertirEnArraySiEsNecesario(vector: np.ndarray) -> np.ndarray:\n",
        "    \"\"\"\n",
        "    Purpose: Convierte el vector en array si es necesario.\n",
        "    Preconditions: Ninguno\n",
        "    Parameters:\n",
        "    -vector: np.ndarray - El vector a convertir si es necesario\n",
        "    Returns: np.ndarray\n",
        "    \"\"\"\n",
        "    if not isinstance(vector, np.ndarray):\n",
        "        vector = np.array(vector)\n",
        "        return vector\n",
        "    return vector\n",
        "\n",
        "def imprimirSubvector(vector: np.ndarray) -> None:\n",
        "  \"\"\"\n",
        "  Purpose: Imprime multiples subvectores del vector  indicado.\n",
        "  Preconditions: Ninguno\n",
        "  Parameters:\n",
        "  - vector: np.ndarray - El vector a imprimir sus subvectores.\n",
        "  Tipo: None\n",
        "  Returns: None\n",
        "  \"\"\"\n",
        "  vector = convertirEnArraySiEsNecesario(vector)\n",
        "  copy = vector.copy()\n",
        "  print(copy[0: 2])\n",
        "  print(copy[len(copy) - 3 : len(copy)])\n",
        "  print(copy[2 : 5])\n",
        "  print(copy[0 : -1 : 2])\n",
        "\n",
        "imprimirSubvector([1, 2 ,3 , 4, 5, 6])"
      ],
      "metadata": {
        "id": "h7HPbrMbhAmd",
        "colab": {
          "base_uri": "https://localhost:8080/"
        },
        "outputId": "c5dab428-904b-4eb5-d36c-8ee9f3998dc9"
      },
      "execution_count": null,
      "outputs": [
        {
          "output_type": "stream",
          "name": "stdout",
          "text": [
            "[1 2]\n",
            "[4 5 6]\n",
            "[3 4 5]\n",
            "[1 3 5]\n"
          ]
        }
      ]
    },
    {
      "cell_type": "markdown",
      "source": [
        "## **Matrices**"
      ],
      "metadata": {
        "id": "mzMe5_5TVI94"
      }
    },
    {
      "cell_type": "markdown",
      "source": [
        "**Declaración** de matrices y acceso/modificación usando índices"
      ],
      "metadata": {
        "id": "_ug0jvRhJq3L"
      }
    },
    {
      "cell_type": "code",
      "source": [
        "import numpy as np\n",
        "\n",
        "vector = np.array([2, 4, 5, 6, 6])\n",
        "matrix = np.array([[2, 3, 4],\n",
        "                   [2, 1, 1]])"
      ],
      "metadata": {
        "id": "LBJ6wsWUhCDU",
        "colab": {
          "base_uri": "https://localhost:8080/",
          "height": 193
        },
        "outputId": "d8fdad95-c6ef-4b32-da20-44d05299583b"
      },
      "execution_count": null,
      "outputs": [
        {
          "output_type": "error",
          "ename": "TypeError",
          "evalue": "reshape() missing 1 required positional argument: 'newshape'",
          "traceback": [
            "\u001b[0;31m---------------------------------------------------------------------------\u001b[0m",
            "\u001b[0;31mTypeError\u001b[0m                                 Traceback (most recent call last)",
            "\u001b[0;32m<ipython-input-27-8938635dc3c3>\u001b[0m in \u001b[0;36m<cell line: 0>\u001b[0;34m()\u001b[0m\n\u001b[1;32m      2\u001b[0m \u001b[0;34m\u001b[0m\u001b[0m\n\u001b[1;32m      3\u001b[0m \u001b[0mvector\u001b[0m \u001b[0;34m=\u001b[0m \u001b[0mnp\u001b[0m\u001b[0;34m.\u001b[0m\u001b[0marray\u001b[0m\u001b[0;34m(\u001b[0m\u001b[0;34m[\u001b[0m\u001b[0;36m2\u001b[0m\u001b[0;34m,\u001b[0m \u001b[0;36m4\u001b[0m\u001b[0;34m,\u001b[0m \u001b[0;36m5\u001b[0m\u001b[0;34m,\u001b[0m \u001b[0;36m6\u001b[0m\u001b[0;34m,\u001b[0m \u001b[0;36m6\u001b[0m\u001b[0;34m]\u001b[0m\u001b[0;34m)\u001b[0m\u001b[0;34m\u001b[0m\u001b[0;34m\u001b[0m\u001b[0m\n\u001b[0;32m----> 4\u001b[0;31m matrix = np.reshape([[2, 3, 4],\n\u001b[0m\u001b[1;32m      5\u001b[0m                    [2, 1, 1]])\n",
            "\u001b[0;31mTypeError\u001b[0m: reshape() missing 1 required positional argument: 'newshape'"
          ]
        }
      ]
    },
    {
      "cell_type": "markdown",
      "source": [
        "Recorrido por los elementos"
      ],
      "metadata": {
        "id": "hhkYA64oJw6r"
      }
    },
    {
      "cell_type": "code",
      "source": [
        "for i in array:\n",
        "    print(i)"
      ],
      "metadata": {
        "id": "Z4z2Jy3WhC2M"
      },
      "execution_count": null,
      "outputs": []
    },
    {
      "cell_type": "markdown",
      "source": [
        "Recorrido por las posiciones"
      ],
      "metadata": {
        "id": "uxtTjM_IJzSV"
      }
    },
    {
      "cell_type": "code",
      "source": [
        "for i in range(len(array)):\n",
        "    print(i)"
      ],
      "metadata": {
        "id": "9Asv3lqBhDky"
      },
      "execution_count": null,
      "outputs": []
    },
    {
      "cell_type": "markdown",
      "source": [
        "Notación para acceder a submatrices"
      ],
      "metadata": {
        "id": "824iZWnTJ8Xm"
      }
    },
    {
      "cell_type": "code",
      "source": [
        "for i in range(len(array)):\n",
        "    for e in range(array[i]):\n",
        "        print(e)"
      ],
      "metadata": {
        "id": "SVVRhs-QhFC-"
      },
      "execution_count": null,
      "outputs": []
    },
    {
      "cell_type": "markdown",
      "metadata": {
        "id": "0g6QV3ZhZp6J"
      },
      "source": [
        "### **Ejercicio 12**\n",
        "\n",
        "Escribir una función que recibe las dimensiones y retorna una matriz rellena de la siguiente forma: En la posición ( n , m ) debe contener n + m.\n",
        "\n",
        "Por ejemplo:\n",
        "\n",
        "mat1 = rellenaMatriz(4,3)\n",
        "\n",
        "=> mat1 =\n",
        "\n",
        "| <!--   --> |Col 0|Col 1|Col 2|\n",
        "|------------|:---:|:---:|:---:|\n",
        "| **Fila 0** |  0  |  1  |  2  |\n",
        "| **Fila 1** |  1  |  2  |  3  |\n",
        "| **Fila 2** |  2  |  3  |  4  |\n",
        "| **Fila 3** |  3  |  4  |  5  |"
      ]
    },
    {
      "cell_type": "code",
      "source": [
        "import numpy as np\n",
        "def matrizRellena(filas: int, columnas: int) -> np.ndarray:\n",
        "    \"\"\"\n",
        "    Purpose: Retorna una matriz de NumPy donde cada elemento representa la suma de\n",
        "    sus índices de fila y columna.\n",
        "    Preconditions:\n",
        "    - filas y columnas deben ser enteros mayores o iguales a cero.\n",
        "    Parameters:\n",
        "    - filas: int - Indica la cantidad de filas de la matriz\n",
        "    - columnas: int - Indica la cantidad de columnas en la matriz\n",
        "    Returns: np.ndarray\n",
        "    \"\"\"\n",
        "    matrizFinal = np.zeros([filas, columnas], object)\n",
        "    print(matrizFinal)\n",
        "    for i in range(len(matrizFinal)):\n",
        "        print(matrizFinal[i])\n",
        "        for e in range(len(matrizFinal[i])):\n",
        "            matrizFinal[i][e] = i + e\n",
        "    return matrizFinal\n",
        "matrizRellena(2, 4)"
      ],
      "metadata": {
        "id": "O8S3GbeBhGTV",
        "colab": {
          "base_uri": "https://localhost:8080/"
        },
        "outputId": "6c74d849-5a72-4710-b953-1c5b6c83a161"
      },
      "execution_count": 16,
      "outputs": [
        {
          "output_type": "stream",
          "name": "stdout",
          "text": [
            "[[0 0 0 0]\n",
            " [0 0 0 0]]\n",
            "[0 0 0 0]\n",
            "[0 0 0 0]\n"
          ]
        },
        {
          "output_type": "execute_result",
          "data": {
            "text/plain": [
              "array([[0, 1, 2, 3],\n",
              "       [1, 2, 3, 4]], dtype=object)"
            ]
          },
          "metadata": {},
          "execution_count": 16
        }
      ]
    },
    {
      "cell_type": "markdown",
      "metadata": {
        "id": "g96hWdmiaUmA"
      },
      "source": [
        "### **Ejercicio 13**\n",
        "\n",
        "Escribir una función que recibe una matriz cuadrada (N x N) y calcula la suma de los elementos que están por encima de la diagonal principal (excluyendo la diagonal).\n",
        "\n",
        "En el ejemplo de la imagen, la función deberia retornar: *b + c + f*\n",
        "\n",
        "![texto alternativo](https://economipedia.com/wp-content/uploads/Captura-de-Pantalla-2019-07-29-a-les-13.18.05-1.png)"
      ]
    },
    {
      "cell_type": "code",
      "source": [
        "import numpy as np\n",
        "\n",
        "def convertirEnArraySiEsNecesario(array: np.ndarray) -> np.ndarray:\n",
        "    \"\"\"\n",
        "    Purpose: Convierte en un array si es necesario.\n",
        "    Preconditions: Ninguno\n",
        "    Parameters:\n",
        "    -array: np.ndarray - El array a convertir si es necesario\n",
        "    Returns: np.ndarray\n",
        "    \"\"\"\n",
        "    if not isinstance(array, np.ndarray):\n",
        "        array = np.array(array)\n",
        "        return array\n",
        "    return array\n",
        "\n",
        "def sumarMatrizExcluyendoDiagonal(matriz) -> float:\n",
        "    \"\"\"\n",
        "    Purpose: Retorna la suma de la matriz correspondiente excluyendo su diagonal.\n",
        "    Preconditions: La \"matriz\" debe ser cuadrada\n",
        "    Parameters:\n",
        "    - matriz: np.ndarray - Matriz a calcular.\n",
        "    Returns:\n",
        "    -float\n",
        "    \"\"\"\n",
        "    matriz = convertirEnArraySiEsNecesario(matriz)\n",
        "    resultadoSuma = 0\n",
        "    for i in range(len(matriz)):\n",
        "        for e in range(len(matriz[i])):\n",
        "            if i != e:\n",
        "                resultadoSuma += matriz[i][e]\n",
        "    return resultadoSuma\n",
        "\n",
        "sumarMatrizExcluyendoDiagonal([[1,5,5,5],\n",
        "                               [5,1,5,5],\n",
        "                               [5,5,1,5],\n",
        "                               [5,5,5,1]])"
      ],
      "metadata": {
        "id": "LgGZzxpvhItf",
        "colab": {
          "base_uri": "https://localhost:8080/"
        },
        "outputId": "55b782dc-b6ad-4368-9a58-1ba6f280a4c9"
      },
      "execution_count": 24,
      "outputs": [
        {
          "output_type": "execute_result",
          "data": {
            "text/plain": [
              "np.int64(60)"
            ]
          },
          "metadata": {},
          "execution_count": 24
        }
      ]
    },
    {
      "cell_type": "markdown",
      "metadata": {
        "id": "ERqaprbtbx5F"
      },
      "source": [
        "### **Ejercicio 14**\n",
        "\n",
        "Escribir una función que retorna *True* si una matriz cuadrada es matriz diagonal y *False* en caso contrario.\n",
        "\n",
        "Una matriz cuadrada diagonal es una matriz que tiene ceros en todos sus elementos, menos en la diagonal principal (No importan los elementos de la diagonal principal, pueden ser cero o no).\n",
        "\n",
        "**Si i, j son los índices de las filas y columnas de M**\n",
        "\n",
        "**=> Una matriz M es diagonal si:**\n",
        "\n",
        "**M [ i , j ] == 0 para todo i != j**\n",
        "\n",
        "Matriz diagonal de 4 x 4:\n",
        "\n",
        "| <!--   --> |Col 0|Col 1|Col 2|Col 3|\n",
        "|------------|:---:|:---:|:---:|:---:|\n",
        "| **Fila 0** |  0  |  0  |  0  |  0  |\n",
        "| **Fila 1** |  0  |  2  |  0  |  0  |\n",
        "| **Fila 2** |  0  |  0  |  4  |  0  |\n",
        "| **Fila 3** |  0  |  0  |  0  |  0  |"
      ]
    },
    {
      "cell_type": "code",
      "source": [],
      "metadata": {
        "id": "kC03GBu1hKqg"
      },
      "execution_count": null,
      "outputs": []
    },
    {
      "cell_type": "markdown",
      "metadata": {
        "id": "dHytTlIXcW5P"
      },
      "source": [
        "### **Ejercicio 15**\n",
        "\n",
        "Escribir una función que retorna *True* si una matriz cuadrada de enteros es simétrica y *False* en caso contrario.\n",
        "\n",
        "Una matriz simétrica es como la de la imagen (no importan los elementos de la diagonal principal):\n",
        "\n",
        "![texto alternativo](https://economipedia.com/wp-content/uploads/Captura-de-Pantalla-2019-09-23-a-les-15.58.25.png)\n",
        "\n",
        "Es decir:\n",
        "\n",
        "**Si i, j son los índices de las filas y columnas de M**\n",
        "\n",
        "**=> Una matriz M es simétrica si:**\n",
        "\n",
        "**M [ i , j ] == M[ j, i ] para todo i != j**\n",
        "\n",
        "Matriz simétrica de 4 x 4:\n",
        "\n",
        "| <!--   --> |Col 0|Col 1|Col 2|Col 3|\n",
        "|------------|:---:|:---:|:---:|:---:|\n",
        "| **Fila 0** |  2  |  1  |  0  |  5  |\n",
        "| **Fila 1** |  1  |  2  |  9  |  7  |\n",
        "| **Fila 2** |  0  |  9  |  0  |  8  |\n",
        "| **Fila 3** |  5  |  7  |  8  |  4  |"
      ]
    },
    {
      "cell_type": "code",
      "source": [],
      "metadata": {
        "id": "Y_5v0NDrhNYD"
      },
      "execution_count": null,
      "outputs": []
    },
    {
      "cell_type": "markdown",
      "metadata": {
        "id": "tnlvo6O4q1lG"
      },
      "source": [
        "### **Ejercicio 16**\n",
        "\n",
        "Una de las aplicaciones de matrices en programación es la representación y procesamiento de imágenes. Vamos a ver algunas cosas que se pueden hacer. Para esto primero tenemos que cargarnos una imagen en el colab y generar una matriz a partir de ella.\n",
        "\n",
        "- Descarguen el archivo \"felix.csv\" del siguiente link:\n",
        "https://drive.google.com/file/d/10Du9ECx7Cz-aHXQpYaWjkaAn6wKJSArn/view?usp=sharing\n",
        "- Suban el archivo \"felix.csv\" al \"colab\" para poder cargarlo con el programa de Python de abajo (haciendo click en el icono de la carpeta ![texto alternativo](https://i.ibb.co/jzqwMsc/carpeta.png), de arriba a la izquierda y luego en \"Subir\")\n",
        "- Completen el programa, procesando a la imagen guardada en la matriz \"felix\" para obtener las imágenes de la siguiente figura (La \"A\" es la imagen original), pueden hacer funciones que generen cada transformación en la imagen:\n",
        "\n",
        "![texto alternativo](https://i.ibb.co/VvJBMsF/felix-results.png)"
      ]
    },
    {
      "cell_type": "code",
      "execution_count": null,
      "metadata": {
        "id": "5RXi-2ZbrXkZ"
      },
      "outputs": [],
      "source": [
        "import numpy as np\n",
        "import matplotlib.pyplot as plt\n",
        "import copy as cp\n",
        "\n",
        "###Lectura del archivo en la matriz#####\n",
        "felix = np.genfromtxt('felix.csv', delimiter=',')\n",
        "########################################\n",
        "print(\"Cantidad de pixeles:\",\" x \".join(map(str,felix.shape)))\n",
        "######Para mostrar matriz como imagen###########\n",
        "plt.imshow(felix, cmap='Greys')\n",
        "plt.show()\n",
        "########################################\n",
        "print(felix[0:50,0:50])"
      ]
    }
  ],
  "metadata": {
    "colab": {
      "provenance": []
    },
    "kernelspec": {
      "display_name": "Python 3",
      "name": "python3"
    }
  },
  "nbformat": 4,
  "nbformat_minor": 0
}
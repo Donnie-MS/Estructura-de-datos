{
  "nbformat": 4,
  "nbformat_minor": 0,
  "metadata": {
    "colab": {
      "provenance": []
    },
    "kernelspec": {
      "name": "python3",
      "display_name": "Python 3"
    }
  },
  "cells": [
    {
      "cell_type": "markdown",
      "metadata": {
        "id": "42630xxYD0gZ"
      },
      "source": [
        "# ![alt text](https://upload.wikimedia.org/wikipedia/commons/thumb/c/c3/Python-logo-notext.svg/50px-Python-logo-notext.svg.png) **Trabajo Práctico 4: Recursividad** ![alt text](https://upload.wikimedia.org/wikipedia/commons/thumb/c/c3/Python-logo-notext.svg/50px-Python-logo-notext.svg.png)\n",
        "\n",
        "En este trabajo práctico, vamos a trabajar con el concepto de recursividad en Python. Recuerden crear una copia de este archivo en su ***Google Drive*** para tener permisos de edición.\n",
        "\n",
        "### Sergio: **sergio.gonzalez@unahur.edu.ar**"
      ]
    },
    {
      "cell_type": "code",
      "source": [
        "def producto(N:int, M: int) -> int:\n",
        "    salida = 0\n",
        "    if M <= 1:\n",
        "        salida = N\n",
        "    else:\n",
        "        salida = N + producto(N,M -1)\n",
        "    return salida\n",
        "# hay que poner todos los casos bases si es más de uno\n",
        "# si el caso base fuera m = 100 deberia sumarse/ osea que cuando se llama asi mismo debe estar más cerca del caso base da igual si es sumando o restando pero que se a acerque\n",
        "producto(3, 3)"
      ],
      "metadata": {
        "colab": {
          "base_uri": "https://localhost:8080/"
        },
        "id": "fWSRj71HrPCz",
        "outputId": "1b9aaba3-19bd-47d6-bb91-641ce697018f"
      },
      "execution_count": null,
      "outputs": [
        {
          "output_type": "execute_result",
          "data": {
            "text/plain": [
              "9"
            ]
          },
          "metadata": {},
          "execution_count": 7
        }
      ]
    },
    {
      "cell_type": "markdown",
      "metadata": {
        "id": "xjXgmD3mskbR"
      },
      "source": [
        "### **Ejercicio 1**\n",
        "\n",
        "Implementar una función que calcule el factorial de un número de forma recursiva"
      ]
    },
    {
      "cell_type": "code",
      "source": [
        "#Estructura de recurrencia cuando yo separo el problema principal me encuentro el mismo pero más chico\n",
        "#3x4 = 3+3+3+3\n",
        "#    = 3+(3+3+3)\n",
        "#    = 3+ 3x3\n",
        "#buscar cómo reconocer cuando hago recursividad/ cualquier problema se puede hacer iteratibamente o recursivamente\n",
        "#Estrucutra de recurrencia diapositiva intentar encontrar caso general y al menos un caso base\n",
        "def factorialDe(N) -> float:\n",
        "    #iNTENTAR que solo haya un return en las funciones y para eso usar una variable\n",
        "    resultado = 0\n",
        "    if N <= 1:\n",
        "        resultado = N\n",
        "    else:\n",
        "        resultado = N * factorialDe(N-1)\n",
        "    return resultado\n",
        "\n",
        "def factorial(N:int) -> int:\n",
        "    salida = 1\n",
        "    if N != 0:\n",
        "        salida = N * factorial(N-1)\n",
        "    return salida\n",
        "print(factorialDe(5))"
      ],
      "metadata": {
        "id": "-A_49XhKzFt1",
        "colab": {
          "base_uri": "https://localhost:8080/"
        },
        "outputId": "3dc2062f-2c0c-4024-ea2f-7de80d0a222b"
      },
      "execution_count": null,
      "outputs": [
        {
          "output_type": "stream",
          "name": "stdout",
          "text": [
            "120\n"
          ]
        }
      ]
    },
    {
      "cell_type": "markdown",
      "metadata": {
        "id": "oQU_Yv1QuOXm"
      },
      "source": [
        "### **Ejercicio 2**\n",
        "\n",
        "Una canilla de una casa pierde agua de forma que todos los días pierde 2 gotas más que el día anterior. Escribir una función recursiva que calcule cuantas gotas perderá la canilla el día N. El primer día solo perdía dos gotas.\n",
        "\n",
        "De manera opcional, con un ciclo que llame N veces a la función recursiva,calcular la cantidad de gotas acumuladas en N días."
      ]
    },
    {
      "cell_type": "code",
      "metadata": {
        "id": "3QmA2qDGvs2d",
        "colab": {
          "base_uri": "https://localhost:8080/"
        },
        "outputId": "9f8b86d2-87ab-4b39-b6ad-12e436843680"
      },
      "source": [
        "# dia     cantgotas   cant acum\n",
        "#  1          2           2\n",
        "#  2          4           6\n",
        "#  3          6           12\n",
        "#  4          8           20\n",
        "def calcularGotasPerdidas(N: int):\n",
        "    cantAcumulada = 0\n",
        "    if N <= 1:\n",
        "        cantAcumulada += 2\n",
        "    else:\n",
        "        cantAcumulada += (N * 2) + calcularGotasPerdidas(N-1)\n",
        "    return cantAcumulada\n",
        "\n",
        "print(calcularGotasPerdidas(4))"
      ],
      "execution_count": 4,
      "outputs": [
        {
          "output_type": "stream",
          "name": "stdout",
          "text": [
            "20\n"
          ]
        }
      ]
    },
    {
      "cell_type": "markdown",
      "metadata": {
        "id": "mJwO1DVLJ5q2"
      },
      "source": [
        "### **Ejercicio 3**\n",
        "\n",
        "Implementar una función recursiva que calcule los números de la serie de Fibonacci. La función para generar la serie de Fibonacci es la siguiente (donde N es el índice del número en la serie):\n",
        "\n",
        "<img src=\"https://blog.kakaocdn.net/dn/Fn13B/btretb0ZSLZ/qhgI2mFGD4cRCEVLN7PSKK/img.gif\" width=\"300\">\n",
        "\n",
        "Luego escribir un programa que pida un número N (mayor o igual a 0) al usuario e imprima por pantalla los primeros N números de la serie de Fibonacci\n",
        "\n",
        "Sobre la sucesion de Fibonacci: https://www.vix.com/es/btg/curiosidades/4461/que-es-la-sucesion-de-fibonacci\n",
        "\n",
        "\n"
      ]
    },
    {
      "cell_type": "code",
      "source": [
        "def calcularSerieDeFibo(N):\n",
        "    resultado = 0\n",
        "    if N <= 1:\n",
        "        resultado = N\n",
        "    else:\n",
        "        resultado += (N + calcularSerieDeFibo(N-1))\n",
        "    return resultado\n",
        "\n",
        "print(calcularSerieDeFibo(3))"
      ],
      "metadata": {
        "id": "xUpEmv5PzOvf",
        "colab": {
          "base_uri": "https://localhost:8080/"
        },
        "outputId": "91defcab-4a03-4b14-b5fc-de948d9e8202"
      },
      "execution_count": 18,
      "outputs": [
        {
          "output_type": "stream",
          "name": "stdout",
          "text": [
            "6\n"
          ]
        }
      ]
    },
    {
      "cell_type": "markdown",
      "metadata": {
        "id": "5LOgT_WupRbE"
      },
      "source": [
        "### **Ejercicio 4**\n",
        "\n",
        "Escribir una función recursiva que calcule el número triangular de índice N. El número triangular de índice N es la suma de todos los números desde 1 hasta N.\n",
        "\n",
        "Algunos ejemplos:\n",
        "\n",
        "*T(1) = 1*\n",
        "\n",
        "*T(2) = 3 = 1 + 2*\n",
        "\n",
        "*T(3) = 6 = 1 + 2 + 3*\n",
        "\n",
        "*T(4) = 10 = 1 + 2 + 3 + 4*\n",
        "\n",
        "*T(5) = 15 = 1 + 2 + 3 + 4 + 5*\n",
        "\n",
        "...\n",
        "\n",
        "*T(N) = 1 + 2 + 3 + 4 + ... + N*"
      ]
    },
    {
      "cell_type": "code",
      "source": [
        "def calcularNumTriangular(N: int) -> None:\n",
        "    resultado = 0\n",
        "    if N <= 1:\n",
        "        resultado = 1\n",
        "    else:\n",
        "        resultado += (calcularNumTriangular(N-1) + N)\n",
        "    return resultado\n",
        "print(calcularNumTriangular(4))"
      ],
      "metadata": {
        "id": "4ufSVoLwzP0e",
        "colab": {
          "base_uri": "https://localhost:8080/"
        },
        "outputId": "d9822b23-c769-40c1-fbcf-625328f47db1"
      },
      "execution_count": 23,
      "outputs": [
        {
          "output_type": "stream",
          "name": "stdout",
          "text": [
            "10\n"
          ]
        }
      ]
    },
    {
      "cell_type": "markdown",
      "metadata": {
        "id": "7JAbyL8nqjZW"
      },
      "source": [
        "### **Ejercicio 5**\n",
        "\n",
        "En las redes sociales se produce una continua interacción y cada vez que un usuario realiza una acción, la comunidad se modifica. Suponiendo que un *influencer* que usa ***Instagram*** cada vez que postea algo, aumenta su cantidad de seguidores según la siguiente regla:\n",
        "- Durante los primeros 20 posteos, siempre suma una cantidad fija de 1000 (mil) seguidores en cada uno.\n",
        "- A partir del posteo 21, la cantidad de seguidores duplica la cantidad previa de seguidores, mas  500 seguidores extra.\n",
        "\n",
        "Implementar una función recursiva que permita saber cuantos seguidores tendra el *Instagramer* luego de una cantidad determinada de posteos."
      ]
    },
    {
      "cell_type": "code",
      "source": [],
      "metadata": {
        "id": "SfSdD0qwzQjm"
      },
      "execution_count": null,
      "outputs": []
    },
    {
      "cell_type": "markdown",
      "metadata": {
        "id": "-u_y1o2XrUpw"
      },
      "source": [
        "### **Ejercicio 6**\n",
        "\n",
        "Un equipo de albañiles de una obra, tiene que planificar la colocación de pisos. Dicha tarea se realiza teniendo algunas consideraciones específicas, que tienen que ver con el corte de las baldosas, con el material de pegado y la cantidad de trabajadores que hay en cada momento. En el arranque, el día uno (1), los albañiles colocan siempre 100 baldosas.\n",
        "Luego, la cantidad que se coloca cada día se organiza de esta manera:\n",
        "- Los días pares se colocan el doble de baldosas del día anterior.\n",
        "- Los días impares (salvo el primer día) se coloca una cantidad igual a la suma de las que se colocaron los 2 dias anteriores.\n",
        "\n",
        "Implementar una función que permita saber la cantidad de baldosas que se colocan en total luego de transcurrida una determinada cantidad de días."
      ]
    },
    {
      "cell_type": "code",
      "source": [],
      "metadata": {
        "id": "fqlKfaNpzRV9"
      },
      "execution_count": null,
      "outputs": []
    },
    {
      "cell_type": "markdown",
      "metadata": {
        "id": "EVmZea0Cselk"
      },
      "source": [
        "### **Ejercicio 7**\n",
        "\n",
        "Luego de una lluvia muy grande se acumula gran cantidad de agua en un estanque, durante el primer día, el agua comienza a ponerse de color verde y un grupo de científicos decide medir cuantas algas encuentra dentro del tanque. La primer medición le da como resultado 12 algas. Luego deciden ir a realizar la medición todos los días para tratar de establecer un patrón de crecimiento y se encuentran que las algas crecen con la siguiente regla:\n",
        "- Durante los siguientes 10 días (del dia 2 al 11) la cantidad de algas en el tanque es 15 más de las que había el día anterior.\n",
        "- A partir del día 12, la cantidad de algas en el tanque es el triple de las que había el día previo más una cantidad fija de 100.\n",
        "\n",
        "Escriba una función recursiva que calcule la cantidad de algas en el tanque en un día N.\n",
        "\n",
        "Nota: Suponer que no mueren algas en el tanque."
      ]
    },
    {
      "cell_type": "code",
      "source": [],
      "metadata": {
        "id": "QxWR-yHTzSWH"
      },
      "execution_count": null,
      "outputs": []
    },
    {
      "cell_type": "markdown",
      "metadata": {
        "id": "ahvaeTRS0Gm7"
      },
      "source": [
        "### **Ejercicio 8**\n",
        "\n",
        "Escribir una función recursiva que calcule la potencia N de un número M (M a la N), ambos números enteros positivos.   "
      ]
    },
    {
      "cell_type": "code",
      "source": [],
      "metadata": {
        "id": "RG_JAM2ezTXe"
      },
      "execution_count": null,
      "outputs": []
    },
    {
      "cell_type": "markdown",
      "metadata": {
        "id": "1ahXjm9z0QND"
      },
      "source": [
        "### **Ejercicio 9**\n",
        "\n",
        "Problema del trigo en el tablero de ajedrez:\n",
        "\n",
        " <img src=\"https://i0.wp.com/matematicascercanas.com/wp-content/uploads/2015/03/leyenda_ajedrez.jpg?w=600&ssl=1\" width=\"400\">\n",
        "\n",
        "Si se colocase sobre un tablero de ajedrez, un grano de trigo en el primer casillero, dos en el segundo, cuarto en el tercero y asi sucesivamente, doblando la cantidad de granos en cada casilla ¿Cuantos granos de trigo habría en el tablero en total al final? Resolver el problema con una función recursiva.\n",
        "\n",
        "Leyenda del Trigo y el tablero de ajedrez y mas datos: https://matematicascercanas.com/2014/03/10/la-leyenda-del-tablero-de-ajedrez-y-los-granos-de-trigo/"
      ]
    },
    {
      "cell_type": "code",
      "source": [],
      "metadata": {
        "id": "TxqEc52Pzg80"
      },
      "execution_count": null,
      "outputs": []
    },
    {
      "cell_type": "markdown",
      "metadata": {
        "id": "UcGyejNf1hYo"
      },
      "source": [
        "### **Ejercicio 10**\n",
        "\n",
        "En un edificio alto, las cucarachas se van distribuyendo por pisos de esta forma:\n",
        "- En el primer piso hay una cucaracha\n",
        "- En los pisos pares el doble del número de piso (por ejemplo en el piso 8 hay 16 cucarachas)\n",
        "- El resto de los pisos tienen la suma de las cucarachas de los dos pisos anteriores.\n",
        "\n",
        "Escribir una función recursiva que calcule la cantidad de cucarachas en un edificio en función de la cantidad de pisos."
      ]
    },
    {
      "cell_type": "code",
      "source": [],
      "metadata": {
        "id": "MLKKNS6Izh4s"
      },
      "execution_count": null,
      "outputs": []
    },
    {
      "cell_type": "markdown",
      "metadata": {
        "id": "HnGv90m72_dg"
      },
      "source": [
        "### **Ejercicio 11**\n",
        "\n",
        "Escribir la función recursiva repetirPalabra, que recibe como parámetro una palabra (cadena de caracteres) y un número N. La función debe retornar una nueva cadena que contenga la palabra repetida N veces, por ejemplo:\n",
        "\n",
        "*repetirPalabra(\"hola\",3) -> \"holaholahola\"*"
      ]
    },
    {
      "cell_type": "code",
      "source": [],
      "metadata": {
        "id": "u8u_-XA3zix0"
      },
      "execution_count": null,
      "outputs": []
    },
    {
      "cell_type": "markdown",
      "metadata": {
        "id": "QL1a0WtI89QA"
      },
      "source": [
        "### **Ejercicio 12**\n",
        "\n",
        "Juan y María empiezan a trabajar el mismo día en dos empresas distintas. Juan arregla un sueldo inicial de \\$40000 con una actualización mensual del 2% y María un sueldo inicial de \\$25000 con una actualización mensual del 5%. Calcular recursivamente los sueldos de Juan y de María luego de transcurridos una cantidad determinada de meses.\n",
        "\n",
        "Luego, escribir una función que retorne cuantos meses tienen que pasar para que el sueldo de María supere al de Juan (Esta parte no hace falta que sea recursiva, pero pueden intentar hacerlo)."
      ]
    },
    {
      "cell_type": "code",
      "source": [],
      "metadata": {
        "id": "_hNOw7S2zkNs"
      },
      "execution_count": null,
      "outputs": []
    },
    {
      "cell_type": "markdown",
      "source": [
        "## **Recursividad sobre vectores**"
      ],
      "metadata": {
        "id": "ygTBKEdjM-p7"
      }
    },
    {
      "cell_type": "markdown",
      "source": [
        "### **Ejercicio 13**\n",
        "\n",
        "Escribir una función **recursiva** que reciba un vector como parámetro y retorne la suma de todos sus elementos."
      ],
      "metadata": {
        "id": "PehX3FXfI8Az"
      }
    },
    {
      "cell_type": "code",
      "source": [],
      "metadata": {
        "id": "E9mtb_2xzmLr"
      },
      "execution_count": null,
      "outputs": []
    },
    {
      "cell_type": "markdown",
      "source": [
        "### **Ejercicio 14**\n",
        "\n",
        "Escribir una función **recursiva** que retorna *True* si un string es un palindromo y *False* en caso contrario.\n",
        "\n",
        "Nota: Palíndromo es la forma elegante de \"capicua\""
      ],
      "metadata": {
        "id": "vj9KCgvxJV1T"
      }
    },
    {
      "cell_type": "code",
      "source": [],
      "metadata": {
        "id": "kmI-3MITznaz"
      },
      "execution_count": null,
      "outputs": []
    },
    {
      "cell_type": "markdown",
      "source": [
        "### **Ejercicio 15**\n",
        "\n",
        "Escribir una función que implemente de forma **recursiva** el algoritmo de **búsqueda binaria** sobre un vector.\n",
        "\n",
        "https://es.khanacademy.org/computing/computer-science/algorithms/binary-search/a/binary-search"
      ],
      "metadata": {
        "id": "4yUk0Ww4NO11"
      }
    },
    {
      "cell_type": "code",
      "source": [],
      "metadata": {
        "id": "C_DUpKYezohM"
      },
      "execution_count": null,
      "outputs": []
    },
    {
      "cell_type": "markdown",
      "source": [
        "### **Ejercicio 16**\n",
        "Implementar una función recursiva para encontrar el máximo elemento de un arreglo"
      ],
      "metadata": {
        "id": "ycxrHIbZKlG7"
      }
    },
    {
      "cell_type": "code",
      "source": [
        "def maximo(vector: np.array) -> int:\n",
        "      valorMaximo = None\n",
        "      if len(vector) == 1:\n",
        "          valorMaximo = v[0]\n",
        "      else\n",
        "          valorMaximo = max(v[0], maximo(v[1:]))\n",
        "      return valorMaximo\n",
        "# falta hacer el max\n",
        "\n",
        "def maximo2(vector: np.array, posInicial: int = 0) -> int:\n",
        "    valorMaximo = None\n",
        "    if posInicial == len(vector) - 1\n",
        "        valorMaximo = vector[posInicial] # vector[len(vector) - 1]\n",
        "    else:\n",
        "        valorMaximo = max(vector[posInicial], maximo(vector, posInicial + 1))\n",
        "        return valorMaximo"
      ],
      "metadata": {
        "id": "nkhLuvJHzpPz"
      },
      "execution_count": null,
      "outputs": []
    },
    {
      "cell_type": "markdown",
      "source": [
        "### **Ejercicio 17**\n",
        "Implementar una función recursiva para encontrar la posicion del máximo elemento de un arreglo"
      ],
      "metadata": {
        "id": "8KSSAoUZKqqb"
      }
    },
    {
      "cell_type": "code",
      "source": [
        "def posMaximo(vector: np.array, posInicial: int) -> int:\n",
        "    posMax  = None\n",
        "    if posInicial == len(vector) - 1:\n",
        "        posMax = posInicial\n",
        "    else:\n",
        "        posMaxResto = posMaximo(vector, posInicial + 1) = 1\n",
        "        if vector[posInicial] > vector[posMaxResto]:\n",
        "            posMax = posInicial\n",
        "        else\n",
        "            posMax = posMaxResto\n",
        "        return posMax"
      ],
      "metadata": {
        "id": "jHNQOnhtzqDL"
      },
      "execution_count": null,
      "outputs": []
    }
  ]
}
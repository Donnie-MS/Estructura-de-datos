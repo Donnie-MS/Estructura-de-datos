{
  "nbformat": 4,
  "nbformat_minor": 0,
  "metadata": {
    "colab": {
      "provenance": []
    },
    "kernelspec": {
      "name": "python3",
      "display_name": "Python 3"
    }
  },
  "cells": [
    {
      "cell_type": "markdown",
      "metadata": {
        "id": "42630xxYD0gZ"
      },
      "source": [
        "# ![alt text](https://upload.wikimedia.org/wikipedia/commons/thumb/c/c3/Python-logo-notext.svg/50px-Python-logo-notext.svg.png) **Trabajo Práctico 4: Recursividad** ![alt text](https://upload.wikimedia.org/wikipedia/commons/thumb/c/c3/Python-logo-notext.svg/50px-Python-logo-notext.svg.png)\n",
        "\n",
        "En este trabajo práctico, vamos a trabajar con el concepto de recursividad en Python. Recuerden crear una copia de este archivo en su ***Google Drive*** para tener permisos de edición.\n",
        "\n",
        "### Sergio: **sergio.gonzalez@unahur.edu.ar**"
      ]
    },
    {
      "cell_type": "code",
      "source": [
        "#N y M positivos\n",
        "#NxM = N + N*(M-1)   si M distinto de 1\n",
        "#      N             si M igual 1\n",
        "def producto(N:int, M:int)->int:\n",
        "  salida = None\n",
        "  if M == 1:\n",
        "    salida = N\n",
        "  else:\n",
        "    salida = N + producto(N,M-1)\n",
        "  return salida"
      ],
      "metadata": {
        "id": "NlDPKBb4q6Ad"
      },
      "execution_count": null,
      "outputs": []
    },
    {
      "cell_type": "code",
      "source": [
        "print(producto(2,2))"
      ],
      "metadata": {
        "colab": {
          "base_uri": "https://localhost:8080/"
        },
        "id": "By9BjCZdsRO8",
        "outputId": "0fad5b87-a4d6-4974-fb5b-014dfceceb4c"
      },
      "execution_count": null,
      "outputs": [
        {
          "output_type": "stream",
          "name": "stdout",
          "text": [
            "4\n"
          ]
        }
      ]
    },
    {
      "cell_type": "markdown",
      "metadata": {
        "id": "xjXgmD3mskbR"
      },
      "source": [
        "### **Ejercicio 1**\n",
        "\n",
        "Implementar una función que calcule el factorial de un número de forma recursiva"
      ]
    },
    {
      "cell_type": "code",
      "source": [
        "def factorial(N:int) -> int:\n",
        "  salida = None\n",
        "  if N <= 0:\n",
        "      salida = 1\n",
        "  else:\n",
        "      salida = N * factorial(N-1)\n",
        "  return salida\n",
        "\n",
        "print(factorial(3))"
      ],
      "metadata": {
        "colab": {
          "base_uri": "https://localhost:8080/"
        },
        "id": "L8bSdqJXWlSS",
        "outputId": "0b4b1bcc-d0c8-430b-8a26-30af03cf2f1f"
      },
      "execution_count": null,
      "outputs": [
        {
          "output_type": "stream",
          "name": "stdout",
          "text": [
            "6\n"
          ]
        }
      ]
    },
    {
      "cell_type": "markdown",
      "metadata": {
        "id": "oQU_Yv1QuOXm"
      },
      "source": [
        "### **Ejercicio 2**\n",
        "\n",
        "Una canilla de una casa pierde agua de forma que todos los días pierde 2 gotas más que el día anterior. Escribir una función recursiva que calcule cuantas gotas perderá la canilla el día N. El primer día solo perdía dos gotas.\n",
        "\n",
        "De manera opcional, con un ciclo que llame N veces a la función recursiva,calcular la cantidad de gotas acumuladas en N días."
      ]
    },
    {
      "cell_type": "code",
      "metadata": {
        "id": "3QmA2qDGvs2d"
      },
      "source": [
        "# dia     cantgotas   cant acum\n",
        "#  1          2           2\n",
        "#  2          4           6\n",
        "#  3          6           12\n",
        "#  4          8           20\n",
        "#gotasPerdidas(diaN) = 2                             si diaN == 1\n",
        "#                    = 2 + gotasPerdidas(diaN-1)     si diaN != 1\n",
        "\n",
        "def gotasPerdidas(diaN:int)->int:\n",
        "  resultado = None\n",
        "  if diaN <= 0:\n",
        "    resultado = 0\n",
        "  else:\n",
        "    resultado = diaN * 2 + gotasPerdidas(diaN - 1)\n",
        "  return resultado"
      ],
      "execution_count": null,
      "outputs": []
    },
    {
      "cell_type": "code",
      "source": [
        "print(gotasPerdidas(3))"
      ],
      "metadata": {
        "colab": {
          "base_uri": "https://localhost:8080/"
        },
        "id": "N0M_N8m_0nGF",
        "outputId": "1c70372f-c323-4156-ad55-0bca2fcd58a5"
      },
      "execution_count": null,
      "outputs": [
        {
          "output_type": "stream",
          "name": "stdout",
          "text": [
            "12\n"
          ]
        }
      ]
    },
    {
      "cell_type": "markdown",
      "metadata": {
        "id": "mJwO1DVLJ5q2"
      },
      "source": [
        "### **Ejercicio 3**\n",
        "\n",
        "Implementar una función recursiva que calcule los números de la serie de Fibonacci. La función para generar la serie de Fibonacci es la siguiente (donde N es el índice del número en la serie):\n",
        "\n",
        "<img src=\"https://blog.kakaocdn.net/dn/Fn13B/btretb0ZSLZ/qhgI2mFGD4cRCEVLN7PSKK/img.gif\" width=\"300\">\n",
        "\n",
        "Luego escribir un programa que pida un número N (mayor o igual a 0) al usuario e imprima por pantalla los primeros N números de la serie de Fibonacci\n",
        "\n",
        "Sobre la sucesion de Fibonacci: https://www.vix.com/es/btg/curiosidades/4461/que-es-la-sucesion-de-fibonacci\n",
        "\n",
        "\n"
      ]
    },
    {
      "cell_type": "code",
      "source": [],
      "metadata": {
        "id": "xUpEmv5PzOvf"
      },
      "execution_count": null,
      "outputs": []
    },
    {
      "cell_type": "code",
      "source": [],
      "metadata": {
        "id": "Kn-X_sAH5a09"
      },
      "execution_count": null,
      "outputs": []
    },
    {
      "cell_type": "markdown",
      "metadata": {
        "id": "5LOgT_WupRbE"
      },
      "source": [
        "### **Ejercicio 4**\n",
        "\n",
        "Escribir una función recursiva que calcule el número triangular de índice N. El número triangular de índice N es la suma de todos los números desde 1 hasta N.\n",
        "\n",
        "Algunos ejemplos:\n",
        "\n",
        "*T(1) = 1*\n",
        "\n",
        "*T(2) = 3 = 1 + 2*\n",
        "\n",
        "*T(3) = 6 = 1 + 2 + 3*\n",
        "\n",
        "*T(4) = 10 = 1 + 2 + 3 + 4*\n",
        "\n",
        "*T(5) = 15 = 1 + 2 + 3 + 4 + 5*\n",
        "\n",
        "...\n",
        "\n",
        "*T(N) = 1 + 2 + 3 + 4 + ... + N*"
      ]
    },
    {
      "cell_type": "code",
      "source": [
        "def nroTriangulo(N: int) -> int:\n",
        "  resultado = None\n",
        "  if N <= 0:\n",
        "    resultado = 0\n",
        "  else:\n",
        "    resultado = N + nroTriangulo(N - 1)\n",
        "  return resultado\n",
        "print(nroTriangulo(6))"
      ],
      "metadata": {
        "id": "4ufSVoLwzP0e",
        "colab": {
          "base_uri": "https://localhost:8080/"
        },
        "outputId": "9c55f384-6d70-4784-8cb6-d93cadccddde"
      },
      "execution_count": null,
      "outputs": [
        {
          "output_type": "stream",
          "name": "stdout",
          "text": [
            "21\n"
          ]
        }
      ]
    },
    {
      "cell_type": "markdown",
      "metadata": {
        "id": "7JAbyL8nqjZW"
      },
      "source": [
        "### **Ejercicio 5**\n",
        "\n",
        "En las redes sociales se produce una continua interacción y cada vez que un usuario realiza una acción, la comunidad se modifica. Suponiendo que un *influencer* que usa ***Instagram*** cada vez que postea algo, aumenta su cantidad de seguidores según la siguiente regla:\n",
        "- Durante los primeros 20 posteos, siempre suma una cantidad fija de 1000 (mil) seguidores en cada uno.\n",
        "- A partir del posteo 21, la cantidad de seguidores duplica la cantidad previa de seguidores, mas  500 seguidores extra.\n",
        "\n",
        "Implementar una función recursiva que permita saber cuantos seguidores tendra el *Instagramer* luego de una cantidad determinada de posteos."
      ]
    },
    {
      "cell_type": "code",
      "source": [
        "#seguidores(p) = 0                                si p == 0\n",
        "#              = 1000 + seguidores(p-1)           si p <= 20\n",
        "#              = 2 * seguidores(p-1) + 500        si p >= 21\n",
        "\n",
        "#seguidores(p) = 1000 * p                         si 0 <= p <= 20\n",
        "#              = 2 * seguidores(p-1) + 500        si p >= 21\n",
        "\n",
        "def cantSeguidoresPorPostear(NPosteos) -> int :\n",
        "  resultado = None\n",
        "  if NPosteos <= 20:\n",
        "    resultado = NPosteos * 1000\n",
        "  else:\n",
        "    resultado = cantSeguidoresPorPostear(NPosteos - 1) * 2 + 500\n",
        "  return resultado"
      ],
      "metadata": {
        "id": "SfSdD0qwzQjm"
      },
      "execution_count": null,
      "outputs": []
    },
    {
      "cell_type": "code",
      "source": [
        "N = 5\n",
        "print(cantSeguidoresPorPostear(N))\n"
      ],
      "metadata": {
        "colab": {
          "base_uri": "https://localhost:8080/"
        },
        "id": "cADd18XT_Urz",
        "outputId": "fe384f9a-de20-4c20-e4af-0aa5cd0c1901"
      },
      "execution_count": null,
      "outputs": [
        {
          "output_type": "stream",
          "name": "stdout",
          "text": [
            "5000\n"
          ]
        }
      ]
    },
    {
      "cell_type": "markdown",
      "metadata": {
        "id": "-u_y1o2XrUpw"
      },
      "source": [
        "### **Ejercicio 6**\n",
        "\n",
        "Un equipo de albañiles de una obra, tiene que planificar la colocación de pisos. Dicha tarea se realiza teniendo algunas consideraciones específicas, que tienen que ver con el corte de las baldosas, con el material de pegado y la cantidad de trabajadores que hay en cada momento. En el arranque, el día uno (1), los albañiles colocan siempre 100 baldosas.\n",
        "Luego, la cantidad que se coloca cada día se organiza de esta manera:\n",
        "- Los días pares se colocan el doble de baldosas del día anterior.\n",
        "- Los días impares (salvo el primer día) se coloca una cantidad igual a la suma de las que se colocaron los 2 dias anteriores.\n",
        "\n",
        "Implementar una función que permita saber la cantidad de baldosas que se colocan en total luego de transcurrida una determinada cantidad de días."
      ]
    },
    {
      "cell_type": "code",
      "source": [
        "def cantBaldosasColocadas(NDias) -> int:\n",
        "  resultado = None\n",
        "  if NDias <= 1:\n",
        "    resultado = 100\n",
        "  elif NDias == 2:\n",
        "    resultado = 2 * cantBaldosasColocadas(1)\n",
        "  elif esPar(NDias):\n",
        "    resultado = cantBaldosasColocadas(NDias - 1) * 2\n",
        "  else:\n",
        "    resultado = cantBaldosasColocadas(NDias -1) + cantBaldosasColocadas(NDias - 2)\n",
        "  return resultado\n",
        "\n",
        "def esPar(num) -> bool:\n",
        "  return num % 2 == 0\n",
        "\n",
        "\n",
        "def baldosasTotales(NDias) -> int:\n",
        "    resultado = None\n",
        "    if NDias <= 0:\n",
        "        resultado = 0\n",
        "    else:\n",
        "        resultado = cantBaldosasColocadas(NDias) + baldosasTotales(NDias - 1)\n",
        "    return resultado\n",
        "print(baldosasTotales(3))"
      ],
      "metadata": {
        "id": "fqlKfaNpzRV9",
        "colab": {
          "base_uri": "https://localhost:8080/"
        },
        "outputId": "fdc229dd-8475-49f9-ff31-7f38308ac0f7"
      },
      "execution_count": null,
      "outputs": [
        {
          "output_type": "stream",
          "name": "stdout",
          "text": [
            "600\n"
          ]
        }
      ]
    },
    {
      "cell_type": "code",
      "source": [],
      "metadata": {
        "id": "AeVI8khUCvru"
      },
      "execution_count": null,
      "outputs": []
    },
    {
      "cell_type": "code",
      "source": [
        "\n"
      ],
      "metadata": {
        "id": "o7NjmF96DLfs"
      },
      "execution_count": null,
      "outputs": []
    },
    {
      "cell_type": "markdown",
      "metadata": {
        "id": "EVmZea0Cselk"
      },
      "source": [
        "### **Ejercicio 7**\n",
        "\n",
        "Luego de una lluvia muy grande se acumula gran cantidad de agua en un estanque, durante el primer día, el agua comienza a ponerse de color verde y un grupo de científicos decide medir cuantas algas encuentra dentro del tanque. La primer medición le da como resultado 12 algas. Luego deciden ir a realizar la medición todos los días para tratar de establecer un patrón de crecimiento y se encuentran que las algas crecen con la siguiente regla:\n",
        "- Durante los siguientes 10 días (del dia 2 al 11) la cantidad de algas en el tanque es 15 más de las que había el día anterior.\n",
        "- A partir del día 12, la cantidad de algas en el tanque es el triple de las que había el día previo más una cantidad fija de 100.\n",
        "\n",
        "Escriba una función recursiva que calcule la cantidad de algas en el tanque en un día N.\n",
        "\n",
        "Nota: Suponer que no mueren algas en el tanque."
      ]
    },
    {
      "cell_type": "code",
      "source": [
        "def calcularAlgasEnEstanquePor(NDias) -> int:\n",
        "  resultado = None\n",
        "  if NDias <= 0:\n",
        "    resultado = 0\n",
        "  elif NDias == 1:\n",
        "    resultado = 12\n",
        "  elif NDias <= 11:\n",
        "    resultado = 15 + calcularAlgasEnEstanquePor(NDias - 1)\n",
        "  else:\n",
        "    resultado = calcularAlgasEnEstanquePor(NDias - 1) * 3 + 100\n",
        "  return resultado\n",
        "print(calcularAlgasEnEstanquePor(2))"
      ],
      "metadata": {
        "id": "QxWR-yHTzSWH",
        "colab": {
          "base_uri": "https://localhost:8080/"
        },
        "outputId": "875fa1d1-2a26-441e-fccf-dd71f2570341"
      },
      "execution_count": null,
      "outputs": [
        {
          "output_type": "stream",
          "name": "stdout",
          "text": [
            "27\n"
          ]
        }
      ]
    },
    {
      "cell_type": "markdown",
      "metadata": {
        "id": "ahvaeTRS0Gm7"
      },
      "source": [
        "### **Ejercicio 8**\n",
        "\n",
        "Escribir una función recursiva que calcule la potencia N de un número M (M a la N), ambos números enteros positivos.   "
      ]
    },
    {
      "cell_type": "code",
      "source": [
        "#M^N = M*M*M*.....*M (N veces)\n",
        "#    = M * (M*M*....*M)\n",
        "#    = M * M^(N-1)              N > 1\n",
        "#    = M                        si N == 1\n",
        "def potenciaDe(unNum: int, exponente:int) -> int:\n",
        "  resultado = None\n",
        "  if exponente == 0:\n",
        "      resultado = 1\n",
        "  else:\n",
        "      resultado = unNum * potenciaDe(unNum, exponente - 1)\n",
        "  return resultado\n",
        "\n",
        "print(potenciaDe(2, 10))"
      ],
      "metadata": {
        "id": "RG_JAM2ezTXe",
        "colab": {
          "base_uri": "https://localhost:8080/"
        },
        "outputId": "1045e3d4-304d-40ca-b386-b203190c18a3"
      },
      "execution_count": null,
      "outputs": [
        {
          "output_type": "stream",
          "name": "stdout",
          "text": [
            "1024\n"
          ]
        }
      ]
    },
    {
      "cell_type": "markdown",
      "metadata": {
        "id": "1ahXjm9z0QND"
      },
      "source": [
        "### **Ejercicio 9**\n",
        "\n",
        "Problema del trigo en el tablero de ajedrez:\n",
        "\n",
        " <img src=\"https://i0.wp.com/matematicascercanas.com/wp-content/uploads/2015/03/leyenda_ajedrez.jpg?w=600&ssl=1\" width=\"400\">\n",
        "\n",
        "Si se colocase sobre un tablero de ajedrez, un grano de trigo en el primer casillero, dos en el segundo, cuarto en el tercero y asi sucesivamente, doblando la cantidad de granos en cada casilla ¿Cuantos granos de trigo habría en el tablero en total al final? Resolver el problema con una función recursiva.\n",
        "\n",
        "Leyenda del Trigo y el tablero de ajedrez y mas datos: https://matematicascercanas.com/2014/03/10/la-leyenda-del-tablero-de-ajedrez-y-los-granos-de-trigo/"
      ]
    },
    {
      "cell_type": "code",
      "source": [
        "#Hacerlo con dos funciones\n",
        "#1. Calcula recursivamente la cantidad de granos por casillero\n",
        "#2. Calcula la suma total de granos en un tablero de N casilleros (iterativa o recursiva)\n",
        "\n",
        "#Hacerlo con una funcion aprovechando la relacion exponencial\n",
        "#cantGranos(n) = 2^(n-1)   (cuando el primer casillero es el numero 1)\n",
        "#cantGranos(n) = 2^n   (cuando el primer casillero es el numero 0)\n",
        "#1. Calcula la suma total de granos en un tablero de N casilleros (recursiva)\n",
        "def calcularGranosPor(nroCasilleros: int)  -> int:\n",
        "  resultado = None\n",
        "  if nroCasilleros <= 0:\n",
        "    resultado = 0\n",
        "  elif nroCasilleros == 1:\n",
        "    resultado = 1\n",
        "  else:\n",
        "    resultado = calcularGranosPor(nroCasilleros - 1) * 2\n",
        "  return resultado\n",
        "\n",
        "def sumaTotalDeGranosPor(nroCasilleros: int) -> int:\n",
        "  resultado = None\n",
        "  if nroCasilleros\n",
        "\n",
        "print(calcularGranosPor(4))"
      ],
      "metadata": {
        "id": "TxqEc52Pzg80",
        "colab": {
          "base_uri": "https://localhost:8080/"
        },
        "outputId": "b77e11c3-48a5-4060-fced-61b547d1c771"
      },
      "execution_count": null,
      "outputs": [
        {
          "output_type": "stream",
          "name": "stdout",
          "text": [
            "8\n"
          ]
        }
      ]
    },
    {
      "cell_type": "markdown",
      "source": [],
      "metadata": {
        "id": "_xCDXmKOS2W9"
      }
    },
    {
      "cell_type": "markdown",
      "metadata": {
        "id": "UcGyejNf1hYo"
      },
      "source": [
        "### **Ejercicio 10**\n",
        "\n",
        "En un edificio alto, las cucarachas se van distribuyendo por pisos de esta forma:\n",
        "- En el primer piso hay una cucaracha\n",
        "- En los pisos pares el doble del número de piso (por ejemplo en el piso 8 hay 16 cucarachas)\n",
        "- El resto de los pisos tienen la suma de las cucarachas de los dos pisos anteriores.\n",
        "\n",
        "Escribir una función recursiva que calcule la cantidad de cucarachas en un edificio en función de la cantidad de pisos."
      ]
    },
    {
      "cell_type": "code",
      "source": [
        "def cantCucarachasEn(piso : int) -> int:\n",
        "  resultado = None\n",
        "  if piso <= 0:\n",
        "    resultado = 0\n",
        "  elif piso == 1:\n",
        "    resultado = 1\n",
        "  elif esPar(piso):\n",
        "    resultado = piso * 2\n",
        "  else:\n",
        "    resultado = cantCucarachasEn(piso - 1) + cantCucarachasEn(piso - 2)\n",
        "  return resultado\n",
        "\n",
        "def cantCucarachasEnEdificioDe(nPisos : int) -> int:\n",
        "  resultado = None\n",
        "  if nPisos <= 0:\n",
        "    resultado = 0\n",
        "  else:\n",
        "    resultado = cantCucarachasEn(nPisos) + cantCucarachasEnEdificioDe(nPisos - 1)\n",
        "  return resultado\n",
        "\n",
        "print(cantCucarachasEnEdificioDe(2))"
      ],
      "metadata": {
        "id": "MLKKNS6Izh4s",
        "colab": {
          "base_uri": "https://localhost:8080/"
        },
        "outputId": "e61ab68a-a671-4cdd-e698-f2b7d3a7b827"
      },
      "execution_count": null,
      "outputs": [
        {
          "output_type": "stream",
          "name": "stdout",
          "text": [
            "5\n"
          ]
        }
      ]
    },
    {
      "cell_type": "markdown",
      "metadata": {
        "id": "HnGv90m72_dg"
      },
      "source": [
        "### **Ejercicio 11**\n",
        "\n",
        "Escribir la función recursiva repetirPalabra, que recibe como parámetro una palabra (cadena de caracteres) y un número N. La función debe retornar una nueva cadena que contenga la palabra repetida N veces, por ejemplo:\n",
        "\n",
        "*repetirPalabra(\"hola\",3) -> \"holaholahola\"*"
      ]
    },
    {
      "cell_type": "code",
      "source": [
        "#repetirPalabra(\"palabra\", 3) = \"palabrapalabrapalabra\"\n",
        "#                             = \"palabra\" + \"palabrapalabra\"\n",
        "#                             = \"palabra\" + repetirPalabra(\"palabra\", 2)\n",
        "#repetirPalabra(str, N) = str + repetirPalabra(str, N-1)     si N > 1\n",
        "#                       = str                                si N == 1\n",
        "def repetirPalabra(palabra: str, nroVecesARepetir: int) -> str:\n",
        "  resultado = None\n",
        "  if nroVecesARepetir <= 0:\n",
        "    resultado = \"\"\n",
        "  else:\n",
        "    resultado = palabra + repetirPalabra(palabra, nroVecesARepetir - 1)\n",
        "  return resultado\n",
        "\n",
        "print(repetirPalabra(\"hola\", 4))"
      ],
      "metadata": {
        "id": "u8u_-XA3zix0",
        "colab": {
          "base_uri": "https://localhost:8080/"
        },
        "outputId": "5dc6318d-460d-42e6-9aaa-cdc823b09765"
      },
      "execution_count": null,
      "outputs": [
        {
          "output_type": "stream",
          "name": "stdout",
          "text": [
            "holaholaholahola\n"
          ]
        }
      ]
    },
    {
      "cell_type": "markdown",
      "metadata": {
        "id": "QL1a0WtI89QA"
      },
      "source": [
        "### **Ejercicio 12**\n",
        "\n",
        "Juan y María empiezan a trabajar el mismo día en dos empresas distintas. Juan arregla un sueldo inicial de \\$40000 con una actualización mensual del 2% y María un sueldo inicial de \\$25000 con una actualización mensual del 5%. Calcular recursivamente los sueldos de Juan y de María luego de transcurridos una cantidad determinada de meses.\n",
        "\n",
        "Luego, escribir una función que retorne cuantos meses tienen que pasar para que el sueldo de María supere al de Juan (Esta parte no hace falta que sea recursiva, pero pueden intentar hacerlo)."
      ]
    },
    {
      "cell_type": "code",
      "source": [
        "#calcularSueldoJuan(Nmes)\n",
        "#calcularSueldoMaria(Nmes)\n",
        "\n",
        "#calcularSueldo(Nmes, ....) Falta parametrizar para que funcione para cualquier persona"
      ],
      "metadata": {
        "id": "_hNOw7S2zkNs"
      },
      "execution_count": null,
      "outputs": []
    },
    {
      "cell_type": "markdown",
      "source": [
        "## **Recursividad sobre vectores**"
      ],
      "metadata": {
        "id": "ygTBKEdjM-p7"
      }
    },
    {
      "cell_type": "markdown",
      "source": [
        "### **Ejercicio 13**\n",
        "\n",
        "Escribir una función **recursiva** que reciba un vector como parámetro y retorne la suma de todos sus elementos."
      ],
      "metadata": {
        "id": "PehX3FXfI8Az"
      }
    },
    {
      "cell_type": "code",
      "source": [
        "def sumarTodosLosElemsDe(vector, index= 0) -> float:\n",
        "  resultado = None\n",
        "  if index >= len(vector):\n",
        "    resultado = 0\n",
        "  else:\n",
        "    resultado = vector[index] + sumarTodosLosElemsDe(vector, index + 1)\n",
        "  return resultado\n",
        "\n",
        "print(sumarTodosLosElemsDe([1,2,3,4,5]))"
      ],
      "metadata": {
        "id": "E9mtb_2xzmLr",
        "colab": {
          "base_uri": "https://localhost:8080/"
        },
        "outputId": "c270c956-1381-4ad6-91d4-8c40b0bae958"
      },
      "execution_count": 19,
      "outputs": [
        {
          "output_type": "stream",
          "name": "stdout",
          "text": [
            "15\n"
          ]
        }
      ]
    },
    {
      "cell_type": "markdown",
      "source": [
        "### **Ejercicio 14**\n",
        "\n",
        "Escribir una función **recursiva** que retorna *True* si un string es un palindromo y *False* en caso contrario.\n",
        "\n",
        "Nota: Palíndromo es la forma elegante de \"capicua\""
      ],
      "metadata": {
        "id": "vj9KCgvxJV1T"
      }
    },
    {
      "cell_type": "code",
      "source": [
        "def esPalindromo(cadena: str) -> bool:\n",
        "  # Caso base: si la cadena tiene 0 o 1 letra, es palíndromo\n",
        "  if len(cadena) <= 1:\n",
        "    return True\n",
        "  # Si la primera y la última letra no coinciden, no es palíndromo\n",
        "  if cadena[0] != cadena[-1]:\n",
        "    return False\n",
        "  # Caso recursivo: comparar el string sin la primera y última letra\n",
        "  return esPalindromo(cadena[1:-1])\n",
        "\n",
        "def esPalindromo(palabra: str) -> bool:\n",
        "  resultado = None\n",
        "  if len(palabra) <= 1:\n",
        "    resultado = True\n",
        "  if palabra[0] != palabra[-1]:\n",
        "    resultado = False\n",
        "  return esPalindromo(palabra[1:-1])\n"
      ],
      "metadata": {
        "id": "kmI-3MITznaz"
      },
      "execution_count": 20,
      "outputs": []
    },
    {
      "cell_type": "markdown",
      "source": [
        "### **Ejercicio 15**\n",
        "\n",
        "Escribir una función que implemente de forma **recursiva** el algoritmo de **búsqueda binaria** sobre un vector.\n",
        "\n",
        "https://es.khanacademy.org/computing/computer-science/algorithms/binary-search/a/binary-search"
      ],
      "metadata": {
        "id": "4yUk0Ww4NO11"
      }
    },
    {
      "cell_type": "markdown",
      "source": [],
      "metadata": {
        "id": "zOYt6y9tyTvf"
      }
    },
    {
      "cell_type": "code",
      "source": [
        "def busquedaBinaria(vector, num: int, index=0) -> int:\n",
        "    if len(vector) == 0:\n",
        "        return -1  # No se encontró el número\n",
        "\n",
        "    mitad = len(vector) // 2\n",
        "\n",
        "    if vector[mitad] == num:\n",
        "        return index + mitad\n",
        "    elif num < vector[mitad]:\n",
        "        return busquedaBinaria(vector[:mitad], num, index)\n",
        "    else:\n",
        "        return busquedaBinaria(vector[mitad + 1:], num, index + mitad + 1)"
      ],
      "metadata": {
        "id": "C_DUpKYezohM"
      },
      "execution_count": null,
      "outputs": []
    },
    {
      "cell_type": "markdown",
      "source": [
        "### **Ejercicio 16**\n",
        "Implementar una función recursiva para encontrar el máximo elemento de un arreglo"
      ],
      "metadata": {
        "id": "ycxrHIbZKlG7"
      }
    },
    {
      "cell_type": "code",
      "source": [
        "from ast import Index\n",
        "import numpy as np\n",
        "def maximoElemEn(array: np.array, index = 0):\n",
        "  resultado = None\n",
        "  if index == len(array) - 1:\n",
        "    resultado = array[index]\n",
        "  else:\n",
        "    resultado = esMayor(array[index], maximoElemEn(array, index + 1))\n",
        "  return resultado\n",
        "\n",
        "def esMayor(elem, otroElem):\n",
        "  resultado = elem\n",
        "  if otroElem > elem:\n",
        "    resultado = otroElem\n",
        "  return resultado"
      ],
      "metadata": {
        "id": "nkhLuvJHzpPz",
        "colab": {
          "base_uri": "https://localhost:8080/"
        },
        "outputId": "f8083752-074d-40eb-fe84-493f7eaf2691"
      },
      "execution_count": null,
      "outputs": [
        {
          "output_type": "stream",
          "name": "stdout",
          "text": [
            "[3] maximo=3\n",
            "[10  3] maximo=10\n",
            "[ 3 10  3] maximo=10\n",
            "[ 2  3 10  3] maximo=10\n",
            "10\n"
          ]
        }
      ]
    },
    {
      "cell_type": "markdown",
      "source": [
        "### **Ejercicio 17**\n",
        "Implementar una función recursiva para encontrar la posicion del máximo elemento de un arreglo"
      ],
      "metadata": {
        "id": "8KSSAoUZKqqb"
      }
    },
    {
      "cell_type": "code",
      "source": [
        "import numpy as np\n",
        "def posElemMaximoDe(array: np.array, index=0) -> int:\n",
        "    resultado = None\n",
        "    if index == len(array) - 1:\n",
        "        resultado = index\n",
        "    else:\n",
        "        posMaxResto = posElemMaximoDe(array, index + 1)\n",
        "        if array[index] > array[posMaxResto]:\n",
        "            resultado = index\n",
        "        else:\n",
        "            resultado = posMaxResto\n",
        "    return resultado\n",
        "\n"
      ],
      "metadata": {
        "id": "jHNQOnhtzqDL"
      },
      "execution_count": null,
      "outputs": []
    },
    {
      "cell_type": "markdown",
      "source": [
        "Buscar elem"
      ],
      "metadata": {
        "id": "bNSVou3oG57p"
      }
    },
    {
      "cell_type": "code",
      "source": [
        "import numpy as np\n",
        "def buscarElemMin(array:np.array, index = 0) -> any:\n",
        "  resultado = None\n",
        "  if index == len(array) - 1:\n",
        "    resultado = array[index]\n",
        "  else:\n",
        "    resultado = elemMenor(array[index], buscarElemMin(array, index+1))\n",
        "  return resultado\n",
        "\n",
        "\n",
        "def elemMenor(elem, otroElem):\n",
        "  resultado = elem\n",
        "  if otroElem < elem:\n",
        "    resultado = otroElem\n",
        "  return resultado"
      ],
      "metadata": {
        "id": "eAQagTaQG3cD"
      },
      "execution_count": null,
      "outputs": []
    },
    {
      "cell_type": "markdown",
      "source": [
        "Buscar pos elem min\n"
      ],
      "metadata": {
        "id": "mIOv23RpG6VL"
      }
    },
    {
      "cell_type": "code",
      "source": [
        "import numpy as np\n",
        "def posElemMin(array:np.array, index = 0) -> int:\n",
        "  resultado = None\n",
        "  if index == len(array) - 1:\n",
        "    resultado = index\n",
        "  else:\n",
        "    posMinResto = posElemMin(array, index + 1)\n",
        "    if array[index] < array[posMinResto]:\n",
        "      resultado = index\n",
        "    else:\n",
        "      resultado = posMinResto\n",
        "  return resultado"
      ],
      "metadata": {
        "id": "fOSWBivIG3Xh"
      },
      "execution_count": null,
      "outputs": []
    }
  ]
}
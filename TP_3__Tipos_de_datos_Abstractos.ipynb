{
  "nbformat": 4,
  "nbformat_minor": 0,
  "metadata": {
    "colab": {
      "provenance": []
    },
    "kernelspec": {
      "name": "python3",
      "display_name": "Python 3"
    }
  },
  "cells": [
    {
      "cell_type": "markdown",
      "metadata": {
        "id": "42630xxYD0gZ"
      },
      "source": [
        "# ![alt text](https://upload.wikimedia.org/wikipedia/commons/thumb/c/c3/Python-logo-notext.svg/50px-Python-logo-notext.svg.png) **Trabajo Práctico 3: Tipos de datos abstractos** ![alt text](https://upload.wikimedia.org/wikipedia/commons/thumb/c/c3/Python-logo-notext.svg/50px-Python-logo-notext.svg.png)\n",
        "\n",
        "En este trabajo práctico, vamos a trabajar con la definición de tipos de datos abstractos en Python. Recuerden crear una copia de este archivo en su ***Google Drive*** para tener permisos de edición.\n",
        "\n",
        "### Sergio: **sergio.gonzalez@unahur.edu.ar**\n"
      ]
    },
    {
      "cell_type": "markdown",
      "metadata": {
        "id": "cwvo5HlCXnwM"
      },
      "source": [
        "**En cada ejercicio, luego de implementar el TDA pedido, tienen que probar cada una de las operaciones en un programa principal, ejecutando cada una de ellas**\n",
        "\n",
        "**En el video se comentó la función \\_\\_str__ para la representación de variables de los TDAs, en lugar de \\_\\_str__ pueden implementar \\_\\_repr__ que es similar pero más general (No solo sirve para el *print*, sino para la representación en general de variables del TDA)**\n"
      ]
    },
    {
      "cell_type": "markdown",
      "source": [
        "Ejemplo de funciones para validar variables en los constructores de los TDAs"
      ],
      "metadata": {
        "id": "_-wOzZyANVN8"
      }
    },
    {
      "cell_type": "code",
      "source": [
        "def validarTipo(variable:any, nombre:str, tipo:type)->any:\n",
        "  if not isinstance(variable, tipo):\n",
        "    raise Exception(f\"La variable {nombre} debe ser de tipo {tipo}.\")\n",
        "  return variable\n",
        "\n",
        "def validarNumeroPositivo(numero:int, nombre:str, tipo:type)->int:\n",
        "  validarTipo(numero, nombre, tipo)\n",
        "  if numero < 0:\n",
        "    raise Exception(f\"La variable {nombre} debe contener un numero positivo.\")\n",
        "  return numero"
      ],
      "metadata": {
        "id": "Zw0Z6fHghB1P"
      },
      "execution_count": null,
      "outputs": []
    },
    {
      "cell_type": "markdown",
      "source": [
        "Prueba de funciones de validación"
      ],
      "metadata": {
        "id": "5T-Z9JM-igfa"
      }
    },
    {
      "cell_type": "code",
      "source": [
        "print(validarNumeroPositivo(1,\"numero\",int))"
      ],
      "metadata": {
        "colab": {
          "base_uri": "https://localhost:8080/"
        },
        "id": "YDgDzmbiiIht",
        "outputId": "e338e4d7-6f3f-40ca-bcc4-8c5e784d1d69"
      },
      "execution_count": null,
      "outputs": [
        {
          "output_type": "stream",
          "name": "stdout",
          "text": [
            "1\n"
          ]
        }
      ]
    },
    {
      "cell_type": "markdown",
      "source": [
        "### **Un ejemplo:**\n",
        "\n",
        "**Objeto real:** Universidad\n",
        "\n",
        "**Modelo computacional:** ¿Que cosas nos interesan para caracterizar (modelar) a una universidad?\n",
        "\n",
        "*Modelo 1:*\n",
        "\n",
        "- Nombre\n",
        "- Cantidad de alumnos\n",
        "- Carreras que ofrece\n",
        "\n",
        "Puede haber mas de un modelo...\n",
        "\n",
        "*Modelo 2:*\n",
        "\n",
        "- Nombre\n",
        "- Los alumnos en si\n",
        "- Materias cursa cada alumno\n",
        "- Carreras que ofrece\n",
        "\n",
        "**Implementaciones:** Estructura de datos de representación\n",
        "\n",
        "*Implementación modelo 1:*\n",
        "\n",
        "- nombre: va a ser un string\n",
        "- cantidad de alumnos: va a ser un entero\n",
        "- las carreras: van a ser un vector\n",
        "\n",
        "*Implementación modelo 2:*\n",
        "\n",
        "- nombre: va a ser un string\n",
        "- los alumnos y sus materias: van a ser un diccionario\n",
        "- las carreras: van a ser un vector"
      ],
      "metadata": {
        "id": "3JyR98y6eSSb"
      }
    },
    {
      "cell_type": "code",
      "source": [
        "#Modelo 1\n",
        "\n",
        "import numpy as np\n",
        "\n",
        "class Universidad1:\n",
        "  def __init__(self, nombre:str, cantAlumnos:int, cantCarreras:int):\n",
        "    self.__nombre = validarTipo(nombre, \"nombre\", str)\n",
        "    self.__cantidadAlumnos = validarNumeroPositivo(cantAlumnos, \"cantAlumnos\", int)\n",
        "    self__carreras = np.empty(validarNumeroPositivo(cantCarreras, \"cantCarreras\", int), str)"
      ],
      "metadata": {
        "id": "qalxlTOAcT0s"
      },
      "execution_count": null,
      "outputs": []
    },
    {
      "cell_type": "code",
      "source": [
        "#Modelo 2\n",
        "\n",
        "import numpy as np\n",
        "\n",
        "class Universidad2:\n",
        "  def __init__(self, nombre:str, cantCarreras:int):\n",
        "    self.__nombre = validarTipo(nombre, \"nombre\", str)\n",
        "    self.__alumnosMaterias = dict()\n",
        "    self__carreras = np.empty(validarNumeroPositivo(cantCarreras, \"cantCarreras\", int), str)"
      ],
      "metadata": {
        "id": "U7vKH1wTdR66"
      },
      "execution_count": null,
      "outputs": []
    },
    {
      "cell_type": "code",
      "source": [
        "#Implementación de TDA aula\n",
        "class Aula#Implementar la estructura primero en python para implementar la estrcutura se hace el constructor (creador de variables) [__init__]\n",
        "    def __init__(self, cantDeLugares: int, aire:bool, pantalla:bool) -> None {\n",
        "        self.cantLugares = cantLugares\n",
        "        self.cantEstudiantes = 0\n",
        "        self.aire = aire\n",
        "        self.pantalla = pantalla\n",
        "        self.materia = \"\"\n",
        "        self.docente = \"\"\n",
        "    }\n",
        "\n",
        "    def __repr__(self) -> str:#Cambia el print a aula\n",
        "        return f\"Capacidad: {self.cantLugares}\"\n",
        "#Self es"
      ],
      "metadata": {
        "id": "zwo2jJtdSC0v"
      },
      "execution_count": null,
      "outputs": []
    },
    {
      "cell_type": "code",
      "source": [
        "aula1 = Aula(50, True, False)"
      ],
      "metadata": {
        "id": "h85q5YVBTj1B"
      },
      "execution_count": null,
      "outputs": []
    },
    {
      "cell_type": "markdown",
      "metadata": {
        "id": "DyzOhAhyXPt8"
      },
      "source": [
        "### **Ejercicio 1**\n",
        "\n",
        "Implementar el TDA \"Propiedad\" que modela un inmueble, con una estructura definida por los siguientes componentes:\n",
        "- Calle\n",
        "- Número\n",
        "- Localidad\n",
        "- Año de construcción\n",
        "- Cantidad de ambientes\n",
        "\n",
        "Implementar las siguientes operaciones:\n",
        "- Constructor: Debe incluir las validaciones necesarias, teniendo en cuenta que solo se almacenan propiedades construidas luego de 1870.\n",
        "- \\_\\_repr__: Al usar la función *print* con una variable del tipo propiedad debe mostrar: **'calle' 'numero' ('localidad')**.\n",
        "- mismaLocalidad: Operación que recibe dos propiedades y retorna *True* si estan en la misma localidad y *False* en caso contrario.\n",
        "- mismaCalle: Operación que recibe dos propiedades y retorna *True* si estan en la misma calle y *False* en caso contrario.\n",
        "- mayorNumeración: Operación que recibe dos propiedades y si están en la misma calle de la misma localidad, retorna la propiedad que posee mayor numeración. Si están calles o en localidades diferentes debe lanzar una excepción.\n",
        "- calculaImpuestoARBA: Operación que retorna el porcentaje de impuesto inmobiliario de una propiedad, según la siguiente regla:\n",
        " - Propiedades entre 1871 y 1949:\n",
        "   - Entre 1 y 3 ambientes: 5% de impuesto\n",
        "   - Entre 4 y 6 ambientes: 10% de impuesto\n",
        "   - Más de 6 ambientes: 25 % de impuesto\n",
        " - Propiedades desde 1950 hasta la actualidad:\n",
        "   - Entre 1 y 5 ambientes: 5% de impuesto\n",
        "   - Más de 5 ambientes: 35 % de impuesto\n"
      ]
    },
    {
      "cell_type": "code",
      "source": [],
      "metadata": {
        "id": "57z4EseKCdme"
      },
      "execution_count": null,
      "outputs": []
    },
    {
      "cell_type": "markdown",
      "metadata": {
        "id": "rP1dZEXTe-qq"
      },
      "source": [
        "### **Ejercicio 2**\n",
        "\n",
        "Implementar el TDA \"Cuenta\" que modela una cuenta bancaria, la estructura de datos esta compuesta por los siguientes componentes:\n",
        "- Número de cuenta\n",
        "- DNI del titular\n",
        "- Saldo de cuenta actual\n",
        "- Interés anual\n",
        "\n",
        "Implementar las siguientes operaciones:\n",
        "- Constructor: Debe incluir las validaciones necesarias.\n",
        "- \\_\\_repr__: Al usar la función *print* con una variable del tipo cuenta debe mostrar: **Cuenta Nro: 'numero' - Titular: 'dni' ($'saldo')**.\n",
        "- actualizarSaldo: Operación que actualiza el saldo de la cuenta aplicándole el interés diario (interés anual dividido entre 365).\n",
        "- ingresarDinero: Operación que recibe un número e ingresa esa cantidad en la cuenta.\n",
        "- retirarDinero: Operación que recibe un número y extrae esa cantidad de la cuenta (si hay saldo disponible), sino debe lanzar una excepción."
      ]
    },
    {
      "cell_type": "code",
      "source": [],
      "metadata": {
        "id": "kiFSYkduCe8d"
      },
      "execution_count": null,
      "outputs": []
    },
    {
      "cell_type": "markdown",
      "source": [
        "### **A partir de aca podemos dejar de hacer las validaciones para no complicar el código y centrarnos en el modelado e implementación de los TDAs**"
      ],
      "metadata": {
        "id": "3DbX9XYHjTVk"
      }
    },
    {
      "cell_type": "markdown",
      "metadata": {
        "id": "x8DVU8HlhE2q"
      },
      "source": [
        "### **Ejercicio 3**\n",
        "\n",
        "Implementar el TDA \"Tiempo\" que modela una duracion en horas, minutos y segundos.\n",
        "\n",
        "Se deben implementar las siguientes operaciones:\n",
        "- Constructor: Debe incluir las validaciones necesarias, la hora debe ser un número positivo y los minutos y segundos deben ser números positivos entre 0 y 59.\n",
        "- \\_\\_repr__: Al usar la función *print* con una variable del tipo tiempo debe mostrar: **'horas':'minutos':'segundos'**.\n",
        "- tiempoASegundos: Operación que toma una variable de tipo tiempo y retorna la cantidad en segundos.\n",
        "- tiemposDesdeSegundos: Operación que recibe un tiempo en segundos como parámetro y retorna una variable de tipo tiempo, en horas minutos y segundos.\n",
        "- mayorDuracion: Operación que recibe dos variables de tipo tiempo y retorna la de mayor duración."
      ]
    },
    {
      "cell_type": "code",
      "source": [],
      "metadata": {
        "id": "3Sec9rtOChQm"
      },
      "execution_count": null,
      "outputs": []
    },
    {
      "cell_type": "markdown",
      "source": [
        "## **TDA en dos niveles**"
      ],
      "metadata": {
        "id": "KCFrxq2CQxSc"
      }
    },
    {
      "cell_type": "markdown",
      "source": [
        "\n",
        "### **Ejercicio 4**\n",
        "\n",
        "Modelar el TDA \"Cronometro\", que contiene un tiempo inicial y un tiempo final.\n",
        "\n",
        "Se deben implementar las siguientes operaciones:\n",
        "\n",
        "- Constructor: Queremos modelar el tiempo inicial y final con el TDA \"Tiempo\". Se pueden tener dos variables que se inicializaran en otra operación de la interface.\n",
        "- Comenzar: Debe recibir las hs,min y seg iniciales.\n",
        "- Finalizar: Debe recibir las hs,min y seg finales.\n",
        "- TiempoEmpleado: Devuelve una variable de tipo Tiempo con la diferencia entre el tiempo inicial y el final."
      ],
      "metadata": {
        "id": "5gcdaYCShYkt"
      }
    },
    {
      "cell_type": "code",
      "source": [],
      "metadata": {
        "id": "nw6YJtNZCi2-"
      },
      "execution_count": null,
      "outputs": []
    },
    {
      "cell_type": "markdown",
      "source": [
        "### **Ejercicio 5**\n",
        "\n",
        "Modelar el TDA \"Rectangulo\" a partir de los dos lados que lo definen.\n",
        "\n",
        "Se deben implementar las siguientes operaciones:\n",
        "\n",
        "- Constructor: Recibe las longitudes de ambos lados\n",
        "- area: calcula y devuelve el area del rectangulo\n",
        "- perimetro: calcula y devuelve el perimetro\n",
        "- \\_\\_repr__ : imprime la longitud de los lados\n",
        "\n",
        "Luego, modelar el TDA \"Cuadrado\" teniendo unicamente como variable interna en la estructura una variable de tipo \"Rectangulo\". El TDA Cuadrado debe tener las mismas operaciones que el TDA Rectangulo.\n",
        "\n",
        "Ayuda:\n",
        "\n",
        "Área(Rectángulo) = lado1 \\* lado2\n",
        "\n",
        "Área(Cuadrado) = lado^2\n",
        "\n",
        "Perímetro(Rectangulo) = 2 \\* lado1 + 2 \\* lado2\n",
        "\n",
        "Perímetro(Cuadrado) = 4 \\* lado"
      ],
      "metadata": {
        "id": "TX3EbDojGmAV"
      }
    },
    {
      "cell_type": "code",
      "source": [],
      "metadata": {
        "id": "aUoWV4UhCkbn"
      },
      "execution_count": null,
      "outputs": []
    },
    {
      "cell_type": "markdown",
      "metadata": {
        "id": "30rZj5FbkT9T"
      },
      "source": [
        "### **Ejercicio 6**\n",
        "\n",
        "Las plataformas de música online como ***YouTube*** y ***Spotify*** almacenan la información asociada a las canciones en estructuras de datos complejas para hacer las búsquedas de manera eficiente. Para esto se deben modelar las canciones. Implementar el TDA \"Cancion\" con los siguientes componentes:\n",
        "- Nombre\n",
        "- Artista\n",
        "- Duración\n",
        "- Género musical (6 posibles: Rock, Jazz, Blues, Funk, Reggae y Rap).\n",
        "- Año de edición\n",
        "- Número de likes\n",
        "\n",
        "Implementar las siguientes operaciones:\n",
        "- Constructor: Debe incluir las validaciones necesarias.\n",
        "- \\_\\_repr__: Al usar la función *print* con una variable del tipo canción debe mostrar: **'nombre' - 'artista' ('duracion')**.\n",
        "- mayorDuracion: Operación que recibe dos canciones por parámetros y retorna la de mayor duración.\n",
        "- agregaLikes: Operación que recibe un número e incrementa la cantidad de likes de la canción en ese número.\n",
        "- masVotada: Operacion que recibe dos canciones y sin son del mismo artista y del mismo género musical, retorna la que tiene mayor cantidad de likes. En caso contrario debe lanzar una excepción."
      ]
    },
    {
      "cell_type": "code",
      "source": [],
      "metadata": {
        "id": "UtZAmGVUClnH"
      },
      "execution_count": null,
      "outputs": []
    },
    {
      "cell_type": "markdown",
      "source": [
        "## **TDA con arreglos**"
      ],
      "metadata": {
        "id": "drATH_LgRgYk"
      }
    },
    {
      "cell_type": "markdown",
      "source": [
        "**Ejercicio 7**\n",
        "\n",
        "Crear el TDA **“SalaDeCine”** que modela una sala de cine con los siguientes componentes: una estructura que permita almacenar las butacas, un elemento por cada butaca (por defecto será una sala de 30 filas, con 40 asientos cada una), el número de sala, el tipo (2 posibles: “2D” o “3D”). La sala se va ocupando con espectadores, un espectador se define por dos cosas, dni y edad.\n",
        "\n",
        "Escribir para el TDA **SalaDeCine** al menos las siguientes operaciones:\n",
        "\n",
        "*  **init(numero, tipo, cantFilas, cantAsientos)**: que construye una variable de tipo SalaDeCine\n",
        "*  **ocuparAsiento(fila,columna, edad)**: que recibe por parámetros la ubicación del espectador que ingresa (fila y columna) y ocupa la\n",
        "butaca con el espectador. Si la butaca no existe o esta ocupada debe lanzar una excepción.\n",
        "*  **asientosVaciosFila(fila)**: que recibe un número de fila y devuelve la cantidad de butacas vacías en esa fila.\n",
        "*  **gananciaTotal()**: que calcula la ganancia total de la función, teniendo en cuenta que la entrada de los menores de 14 años sale \\$2500 y la de los mayores \\$4000 en las salas 2D y \\$4000 y \\$6000 en las salas 3D.\n",
        "*  **vaciarSala()**: que vacía la sala luego de que termine la película, marcando como desocupada a todas las butacas para la próxima función."
      ],
      "metadata": {
        "id": "5A7RznIiuyT-"
      }
    },
    {
      "cell_type": "code",
      "source": [],
      "metadata": {
        "id": "RMhQJAI4Cm-n"
      },
      "execution_count": null,
      "outputs": []
    },
    {
      "cell_type": "markdown",
      "source": [
        "### **Ejercicio 8**\n",
        "\n",
        "La unaHur nos pidió ayuda para administrar los edificios de laboratorios del campus.\n",
        "Se debe crear el TDA **EdificiosLaboratorios** con la cantidad de laboratorios disponibles, cosa que no va a cambiar.\n",
        "\n",
        "Cada laboratorio tiene una cantidad de computadoras, una cantidad de sillas y la cantidad de ventanas.\n",
        "\n",
        "Se recomienda crear primero el TDA **Laboratorio**.\n",
        "\n",
        "Implementar al menos las siguientes operaciones del TDA **EdificioLaboratorios**:\n",
        "\n",
        "- **definirLaboratorio(indiceLaboratorio, cantCompus, cantSillas, cantVentanas)**: donde el índice está entre 0 y la cantidad de laboratorios que tiene el edificio. Si el laboratorio ya existía, es decir, la posicion estaba ocupada en el edificio, se tiene que redefinir (modificar).\n",
        "\n",
        "- **laboratorioConMasVentanas()**: que devuelve el laboratorio con más ventanas en el edificio. Notar que no necesariamente están todos los laboratorios definidos.\n",
        "\n",
        "- **laboratoriosGrandes(nCompus)**: que retorna la cantidad de laboratorios en el edificio que tienen mas computadoras que la cantidad que se recibe por parámetro.\n",
        "\n",
        "- **vaciarLaboraratorios()**: que elimina los laboratorios definidos\n",
        "\n",
        "¡No son las únicas operaciones necesarias, agregar los métodos que crean necesarios, como el constructor!"
      ],
      "metadata": {
        "id": "lTo6mmMiKPrM"
      }
    },
    {
      "cell_type": "code",
      "source": [],
      "metadata": {
        "id": "Y03Esb9tCoPI"
      },
      "execution_count": null,
      "outputs": []
    },
    {
      "cell_type": "markdown",
      "source": [
        "### **Ejercicio 9**\n",
        "\n",
        "En UNAHUR nos pidieron ayuda para poder tomar exámenes en las aulas.\n",
        "Un examen tiene una fecha y un aula con cierta capacidad. El aula tiene una cantidad de hileras con mesas y cada hilera tiene la misma cantidad de mesas.\n",
        "Lo que se necesita hacer es asignar una fecha al examen y en qué mesas se tiene que sentar cada estudiante (Se debe sentar una/o estudiante por mesa). Una/o estudiante se define con su nombre y su DNI.\n",
        "\n",
        "El criterio para “sentar” estudiantes es:\n",
        "\n",
        "No puede haber 2 estudiantes consecutivos en la misma hilera (no se puede tener a otra/o estudiante a ambos los lados).\n",
        "\n",
        "Implementar el TDA **Examen** que contenga al menos las siguientes operaciones:\n",
        "\n",
        "- **init**: que recibe la fecha, la cantidad de hileras y la cantidad de mesas por hilera del aula.\n",
        "- **asignarLugar(nombre, dni)**:\tque recibe los datos de un/a estudiante y la/o acomoda en el aula retornando la posición. Si el aula esta llena debe lanzar una excepción.\n",
        "- **alumnosJovenes(dni)**: que cuenta y retorna la cantidad de estudiantes que poseen un numero de DNI mayor al que se recibe por parámetro.\n",
        "- **empezarDeNuevo()**: que deja el aula sin asignar (vacía).\n",
        "\n",
        "No son las únicas operaciones necesarias, agregar las operaciones y funciones que consideren necesarios, como por ejemplo __repr__."
      ],
      "metadata": {
        "id": "SOatvMB9KVPd"
      }
    },
    {
      "cell_type": "code",
      "source": [],
      "metadata": {
        "id": "gMPQyQ_5Cq8x"
      },
      "execution_count": null,
      "outputs": []
    }
  ]
}
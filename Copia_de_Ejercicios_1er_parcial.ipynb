{
  "nbformat": 4,
  "nbformat_minor": 0,
  "metadata": {
    "colab": {
      "provenance": []
    },
    "kernelspec": {
      "name": "python3",
      "display_name": "Python 3"
    },
    "language_info": {
      "name": "python"
    }
  },
  "cells": [
    {
      "cell_type": "markdown",
      "source": [
        "#**Ejercicios de parcial**\n"
      ],
      "metadata": {
        "id": "00T5qxKVTgFE"
      }
    },
    {
      "cell_type": "markdown",
      "source": [
        "### **Ejercicio 1**\n",
        "\n",
        "Escribir la función recursiva **posicionCima(arreglo)**, que retorna la posición de la cima de un arreglo que tiene los números ordenados de manera creciente hasta la cima(el número más grande) y luego de forma decreciente. Asumir que no hay números repetidos y que el arreglo no está vacío.\n",
        "\n",
        "arr1 = [1, 3, 4, 5, 7, 18, 21, **23**, 22, 19]\n",
        "\n",
        "posicionCima(arr1) debe devolver la posición de 23, que es 7.\n",
        "\n"
      ],
      "metadata": {
        "id": "KafMLSCgbYhU"
      }
    },
    {
      "cell_type": "code",
      "source": [
        "import numpy as np\n",
        "def posicionCima(vector: np.array, posInicial: int) -> int:\n",
        "     posMax = None\n",
        "     if posInicial == len(vector):\n",
        "        posMax = posInicial\n",
        "     else:\n",
        "        posMaxResto = posMaximo(vector, posInicial + 1) = 1\n",
        "        if vector[posInicial] > vector[posMaxResto]:\n",
        "            posMax = posInicial\n",
        "        else\n",
        "            posMax = posMaxResto\n",
        "        return posMax\n",
        "\n",
        "def posCima(vecotr:np.array, posInicial: int) -> int:\n",
        "  pos = none\n",
        "  if posInicial == len(vector) - 1\n",
        "    pos = posInicial\n",
        "  elif  vector[posInicial + 1 ] < vector[posInicial]:\n",
        "    pos = posInicial\n",
        "  else:\n",
        "      pos = posCima(vector, posInicial + 1)\n",
        "  return pos"
      ],
      "metadata": {
        "id": "NyZvSNQcbeDE"
      },
      "execution_count": null,
      "outputs": []
    },
    {
      "cell_type": "markdown",
      "source": [
        "### **Ejercicio 2**\n",
        "\n",
        "En un trabajo estamos implementando el software de administración de ventas de la línea de cajas de un supermercado. Para esto tenemos que crear el TDA **CajaDeSupermercado** que contiene:\n",
        "\n",
        "- Una estructura de datos que contiene el historial de ventas que se cobraron en esa caja, donde una venta consiste en un monto y el horario en el que fue realizada. En esta estructura se accede primero solo a la primera venta que se hizo en el día. La estructura debe ser dinámica. **NO** se puede usar una Lista.\n",
        "- El nombre de la persona que administra la caja\n",
        "- El número de la caja en la línea\n",
        "\n",
        "Implementar las siguientes operaciones en el TDA CajaDeSupermercado:\n",
        "\n",
        "- **agregarVenta(horario, montoDeVenta)**: Operación que guarda la venta realizada. Por simplicidad asumir que el horario es un string\n",
        "- **cantidadDeVentasGrandes(montoMinimo)**: Operación que calcula la cantidad de ventas que se realizaron en la caja que sean mayores al monto que se recibe como parámetro. El historial de ventas NO debe ser modificado.\n",
        "- **ultimasNVentas(N)**: Operación que retorna un arreglo conteniendo los montos de las últimas N ventas que se cobraron en la caja. El historial de ventas NO debe ser modificado.\n",
        "- **vaciarHistorial()**: Operación que vacía el historial de ventas retornando la cantidad de ventas eliminadas.\n",
        "- **montoVentasHorario(horario)**:  Operación que retorna el importe de la venta realizada en ese horario.\n",
        "\n",
        "Ayuda: Modelar la venta con otro TDA"
      ],
      "metadata": {
        "id": "lkDvBBKCZz8E"
      }
    },
    {
      "cell_type": "code",
      "source": [
        "class cajaDeSupermercado:\n",
        ""
      ],
      "metadata": {
        "id": "n94Uvo4mZ2c8"
      },
      "execution_count": null,
      "outputs": []
    },
    {
      "cell_type": "markdown",
      "source": [
        "### **Ejercicio 3**\n",
        "\n",
        "Implementar la función **recursiva** **\"inversionRecursiva\"** que recibe por parámetro un string y retorna un nuevo string conteniendo el string de entrada invertido.\n",
        "\n",
        "Por ejemplo:\n",
        "\n",
        "Si str1 = \"hola\"\n",
        "\n",
        "str2 = inversionRecursiva(str1)\n",
        "\n",
        "Entonces, str2 = \"aloh\"  \n"
      ],
      "metadata": {
        "id": "T9-MJI5tOIx8"
      }
    },
    {
      "cell_type": "code",
      "source": [],
      "metadata": {
        "id": "I69MoKRFZImB"
      },
      "execution_count": null,
      "outputs": []
    },
    {
      "cell_type": "markdown",
      "source": [
        "### **Ejercicio 4**\n",
        "\n",
        "Un chef está intentando organizar sus recetas y necesita ayuda mediante algún registro de datos. Para esto decide crear una aplicación, para la que se deben modelar este tipo de datos. Crear el TDA **\"Receta\"**, que contiene una arreglo con los ingredientes de una receta, el nombre de la receta y el tipo (Puede ser “omnivora”, “vegetariana” o “vegana” ).\n",
        "Los ingredientes se definen con los siguientes componentes:\n",
        "*  Nombre\n",
        "*  Cantidad (valor entero)\n",
        "*  Calorías que aporta a la receta\n",
        "\n",
        "Una Receta puede tener a lo sumo 20 ingredientes\n",
        "\n",
        "Implementar las siguientes operaciones:\n",
        "*  **cantidadDeIngredientes()**: Retorna la cantidad de ingredientes de la receta\n",
        "*  **registrarIngrediente(ingrediente)**: Agrega un ingrediente a la receta\n",
        "*  **totalCalorias()**: Retorna el total de las calorías de la receta\n",
        "*  **ingredienteMasCalorico()**: Retorna el ingrediente con mayor cantidad de calorías de la receta"
      ],
      "metadata": {
        "id": "vBgfei-4SsR2"
      }
    },
    {
      "cell_type": "code",
      "source": [],
      "metadata": {
        "id": "A5aDOqsfbvnx"
      },
      "execution_count": null,
      "outputs": []
    },
    {
      "cell_type": "markdown",
      "source": [
        "### **Ejercicio 5**\n",
        "\n",
        "Escribir la función ***recursiva*** **\"sonIguales\"** que recibe dos strings del mismo tamaño (no vacías) y retorna *True* si son iguales y *False* en caso contrario."
      ],
      "metadata": {
        "id": "rflxWHv6SmEu"
      }
    },
    {
      "cell_type": "code",
      "source": [],
      "metadata": {
        "id": "GRMfJlOxZmN1"
      },
      "execution_count": null,
      "outputs": []
    },
    {
      "cell_type": "markdown",
      "source": [
        "### **Ejercicio 6**\n",
        "\n",
        "El Correo Argentino nos pidió ayuda para organizar los paquetes de cada sucursal. Todos los días llegan paquetes con diferente peso que son apilados para luego ser distribuidos. Para que no se aplasten, siempre se pone el más pesado debajo y así, queda ordenado de manera que el paquete más liviano siempre esté en el tope. Pero atención, cuando llega un paquete nuevo, este debe ser intercalado de manera de respetar el orden del peso.\n",
        "\n",
        "Modelar el TDA ElCorreoNoSeCierra con las siguientes operaciones:\n",
        "\n",
        "- **agregarPaquete(contenido, peso):** Que recibe un contenido (String) y el peso de ese contenido, arma un paquete y lo apila de manera que el resto de los paquetes no se aplasten. Se puede asumir que en las pilas auxiliares los paquetes no se aplastan.\n",
        "\n",
        "- **pilaPaquetes() → Pila:** Que devuelve una copia de la pila de paquetes sin destruir los paquetes internos.\n",
        "\n",
        "- **juntarCorreos(otroCorreo):** Que recibe otra instancia del TDA, y “apila en self” los “paquetes de self” combinados con los del otroCorreo, de manera que no se aplasten. otroCorreo debe quedar intacto luego de la operación. Se recomienda usar pilaPaquetes(). Aprovechar que “otroCorreo” ya viene ordenado.\n",
        "\n",
        "**Notas:**\n",
        "\n",
        "- Se recomienda primero generar el TDA Paquete, conteniendo el nombre y el peso.\n",
        "- Se pueden agregar todas las funciones auxiliares y/o operaciones de los TDAs que consideren necesarias además de las pedidas.\n",
        "- NO se puede usar el TDA Lista en la solución.\n",
        "\n",
        "Las soluciones correctas deben funcionar en términos del siguiente ejemplo:\n",
        "\n",
        "correo1 = ElCorreoNoSeCierra(); correo2 = ElCorreoNoSeCierra();\n",
        "\n",
        "correo1.agregarPaquete(“a”, 10); correo1.agregarPaquete(“b”, 1); correo1.agregarPaquete(“c”, 5);\n",
        "correo2.agregarPaquete(“d”, 2); correo2.agregarPaquete(“e”, 10); correo2.agregarPaquete(“f”, 6);\n",
        "\n",
        "\n",
        "*correo1 debería tener [Paquete(“a”,10) , Paquete(“c”, 5) , Paquete(“b”, 1)]*\n",
        "\n",
        "*correo2 debería tener [Paquete(“e”,10) , Paquete(“f”, 6) , Paquete(“d”, 2)]*\n",
        "\n",
        "correo1.juntarCorreos(correo2)\n",
        "\n",
        "*correo1 podría tener [Paquete(“a”,10), Paquete(“e”,10) , Paquete(“f”, 6),Paquete(“c”, 5), Paquete(“d”, 2), Paquete(“b”, 1)]*\n",
        "\n",
        "puede haber paquetes “repetidos” y no importa el orden para paquetes de igual peso.\n",
        "\n",
        "o bien [Paquete(“e”,10), Paquete(“a”,10), Paquete(“f”, 6), Paquete(“c”, 5), Paquete(“d”, 2), Paquete(“b”, 1)]"
      ],
      "metadata": {
        "id": "pY4Y1N2-jhX4"
      }
    },
    {
      "cell_type": "code",
      "source": [
        "class Paquete:\n",
        "  def __init__(peso: float, contenido: str):\n",
        "    self.__peso = peso\n",
        "    self.__contenido = contenido\n",
        "  def __repr__(self):\n",
        "      return f\"Paquete({self.__contenido}, {self.__peso})\"\n",
        "  def obtenerPeso(self):\n",
        "      return self.__peso\n",
        "  def obtenerContenido(self):\n",
        "      return self.__contenido\n",
        "\n",
        "class elCorreoNoSeCierra:\n",
        "  def __init__(self):\n",
        "    self.___pila = Pila()\n",
        "  def agregarPaquete():\n",
        "\n",
        "  def pilaPaquetes():\n"
      ],
      "metadata": {
        "id": "VCUZGJdSb2ph"
      },
      "execution_count": null,
      "outputs": []
    },
    {
      "cell_type": "markdown",
      "source": [
        "### **Ejercicio 7**\n",
        "\n",
        "Escribir las funciones que considere necesarias para implementar un algoritmo recursivo que cuente la cantidad de números pares y otro algoritmo recursivo para contar la cantidad de números mayores que 10 en un arreglo de números enteros. Por último implementar la función  masParesQue10(arreglo), que devuelve True cuando “arreglo” tiene más números pares que números mayores que 10. Esta última función no hace falta que sea recursiva. Las soluciones que NO sean recursivas no serán tomadas en cuenta.\n",
        "\n",
        "Por ejemplo:\n",
        "\n",
        "Si arr1 = [5, 10, 9, 8, 13, 21] => masParesQue10(arr1) devuelve False, porque arr1 tiene 2 números mayores que 10 y 2 números pares.\n",
        "\n",
        "Si arr2 = [5, 10, 24, 9, 8, 6, 21] => masParesQue10(arr2) devuelve True, porque arr2 tiene 4 números pares y solamente 2 números mayores que 10.\n",
        "\n",
        "Ayuda: Se puede asumir que ya se tiene la función esPar(n) que devuelve verdadero cuando n es par."
      ],
      "metadata": {
        "id": "VxOEXdCOhWZ7"
      }
    },
    {
      "cell_type": "code",
      "source": [],
      "metadata": {
        "id": "XVS0svoYZtHc"
      },
      "execution_count": null,
      "outputs": []
    },
    {
      "cell_type": "markdown",
      "source": [
        "### **Ejercicio 8**\n",
        "\n",
        "En UNAHUR se está desarrollando un software para administrar el estacionamiento. En todo momento pueden entrar o salir autos. No puede haber dos autos en el mismo lugar y de cada auto solo nos interesa conocer la patente y la hora de ingreso, que a fines prácticos consideraremos dos números.\n",
        "\n",
        "Al inicio del día se puede asumir que el estacionamiento comienza vacío y con una cantidad fija de lugares que informa el bedel al abrir el lugar. Vamos a suponer que el estacionamiento tiene igual cantidad de espacios verticales que horizontales cada día. Por ejemplo 20x20 lugares. Lo que se necesita hacer es asignar un auto a algún lugar vacío cada vez que ingresa y desasignarlo cuando egresa.\n",
        "\n",
        "Implementar el TDA EstacionamientoUnaHur que contenga al menos las siguientes operaciones:\n",
        "\n",
        "-  **__init__(cantFilas):** Recibe la cantidad total de lugares en el estacionamiento y crea una variable de tipo EstacionamientoUnaHur.\n",
        "\n",
        "- **estacionar(patente, horaIngreso)**: Estaciona el auto en algún lugar disponible. La función debe retornar la ubicación (posición vertical y posición horizontal) utilizada. Si no hay más lugar debe lanzar una excepción. Se puede asumir que no se estacionan dos autos iguales ni estacionan dos autos al mismo tiempo.\n",
        "\n",
        "- **salir(patente):** Libera el espacio si el auto se encuentra en el estacionamiento y retorna la hora de ingreso. Si el auto no se encuentra en el estacionamiento no debe hacer nada.\n",
        "\n",
        "- **estaVacio():** Retorna True si no hay ningún auto estacionado y False en caso contrario.\n",
        "\n",
        "- **cantidadAutosHora(hora):** Devuelve la cantidad de autos que ingresaron antes de la hora recibida por parámetro y que aún están en el estacionamiento.\n",
        "\n",
        "- **__repr__():** que muestra los lugares del estacionamiento."
      ],
      "metadata": {
        "id": "4xYR7A1lhYSC"
      }
    },
    {
      "cell_type": "code",
      "source": [],
      "metadata": {
        "id": "UDdkuXLxZukc"
      },
      "execution_count": null,
      "outputs": []
    },
    {
      "cell_type": "markdown",
      "source": [
        "### **Ejercicio 9**\n",
        "\n",
        "Escribir la función recursiva **estaIncluido(arreglo1, arreglo2)**, que retorna verdadero si el arreglo1 está incluido al inicio o al final del arreglo2. Tener en cuenta que un arreglo vacío siempre está incluido en otro (vacío o no) y que un arreglo vacío solo puede incluir a otro vacío. Soluciones que no sean recursivas NO serán tenidas en cuenta.\n",
        "\n",
        "Por ejemplo, si:\n",
        "\n",
        "arr1 = [2, 5, 1], arr2 = [1, 9, 3, 4, 2, 5, 1] , arr3 = [2, 5, 1, 6 ,1, 8, 5] , arr4 = [4, 3, 2, 5, 1, 8, 2]\n",
        "\n",
        "estaIncluido(arr1, arr2) => True\n",
        "\n",
        "estaIncluido(arr1, arr3) => True\n",
        "\n",
        "estaIncluido(arr1, arr4) => False\n",
        "\n",
        "Ayuda: Pueden utilizar dos funciones auxiliares, al menos una tiene que ser recursiva."
      ],
      "metadata": {
        "id": "xaydWu5gjTRI"
      }
    },
    {
      "cell_type": "code",
      "source": [],
      "metadata": {
        "id": "yv2Wo1p2jTjH"
      },
      "execution_count": null,
      "outputs": []
    }
  ]
}
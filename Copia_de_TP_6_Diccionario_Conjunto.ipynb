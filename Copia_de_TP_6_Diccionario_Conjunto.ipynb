{
  "nbformat": 4,
  "nbformat_minor": 0,
  "metadata": {
    "colab": {
      "provenance": []
    },
    "kernelspec": {
      "name": "python3",
      "display_name": "Python 3"
    }
  },
  "cells": [
    {
      "cell_type": "markdown",
      "metadata": {
        "id": "42630xxYD0gZ"
      },
      "source": [
        "# ![alt text](https://upload.wikimedia.org/wikipedia/commons/thumb/c/c3/Python-logo-notext.svg/50px-Python-logo-notext.svg.png) **Trabajo Práctico 6: Diccionarios** ![alt text](https://upload.wikimedia.org/wikipedia/commons/thumb/c/c3/Python-logo-notext.svg/50px-Python-logo-notext.svg.png)\n",
        "\n",
        "En este trabajo práctico, vamos a trabajar con la estructura de datos **Diccionario** basado en el conjunto de Python. Recuerden crear una copia de este archivo en su ***Google Drive*** para tener permisos de edición.\n",
        "\n",
        "### Sergio: **sergio.gonzalez@unahur.edu.ar**"
      ]
    },
    {
      "cell_type": "markdown",
      "source": [
        "Declaracion de conjuntos e inserción de elementos"
      ],
      "metadata": {
        "id": "25DP_bBXUbBS"
      }
    },
    {
      "cell_type": "code",
      "source": [
        "#arreglos homogenios\n",
        "#lista heterogenea\n",
        "conjunto = set()\n",
        "conjunto.add(3);conjunto.add(8);conjunto.add(\"casa\")\n",
        "print(conjunto)\n",
        "conjunto.remove(3)\n",
        "print(conjunto)\n",
        "for dato in conjunto:\n",
        "    print(dato)"
      ],
      "metadata": {
        "id": "8zcU9wNVCg2G",
        "colab": {
          "base_uri": "https://localhost:8080/"
        },
        "outputId": "47cb2d50-6fcc-48b3-c3b9-4dc041b2c72c"
      },
      "execution_count": null,
      "outputs": [
        {
          "output_type": "stream",
          "name": "stdout",
          "text": [
            "{8, 'casa', 3}\n",
            "{8, 'casa'}\n",
            "8\n",
            "casa\n"
          ]
        }
      ]
    },
    {
      "cell_type": "markdown",
      "source": [
        "Declaración y manejo de tuplas"
      ],
      "metadata": {
        "id": "EpDL9UZbUiJb"
      }
    },
    {
      "cell_type": "code",
      "source": [
        "tupla  = {2,3,4}\n",
        "print(tupla)\n",
        "\"\"\"\n",
        "tupla2 = {[2,3,4],5,6}\n",
        "tupla2[0].append(10)\n",
        "print(tupla2)\n",
        "\"\"\""
      ],
      "metadata": {
        "id": "ABUOStZmCiNV",
        "colab": {
          "base_uri": "https://localhost:8080/",
          "height": 228
        },
        "outputId": "564552a0-ed5a-4747-c20a-4e2a7630157f"
      },
      "execution_count": null,
      "outputs": [
        {
          "output_type": "stream",
          "name": "stdout",
          "text": [
            "{2, 3, 4}\n"
          ]
        },
        {
          "output_type": "error",
          "ename": "TypeError",
          "evalue": "unhashable type: 'list'",
          "traceback": [
            "\u001b[0;31m---------------------------------------------------------------------------\u001b[0m",
            "\u001b[0;31mTypeError\u001b[0m                                 Traceback (most recent call last)",
            "\u001b[0;32m<ipython-input-5-d402df8f1234>\u001b[0m in \u001b[0;36m<cell line: 0>\u001b[0;34m()\u001b[0m\n\u001b[1;32m      1\u001b[0m \u001b[0mtupla\u001b[0m  \u001b[0;34m=\u001b[0m \u001b[0;34m{\u001b[0m\u001b[0;36m2\u001b[0m\u001b[0;34m,\u001b[0m\u001b[0;36m3\u001b[0m\u001b[0;34m,\u001b[0m\u001b[0;36m4\u001b[0m\u001b[0;34m}\u001b[0m\u001b[0;34m\u001b[0m\u001b[0;34m\u001b[0m\u001b[0m\n\u001b[1;32m      2\u001b[0m \u001b[0mprint\u001b[0m\u001b[0;34m(\u001b[0m\u001b[0mtupla\u001b[0m\u001b[0;34m)\u001b[0m\u001b[0;34m\u001b[0m\u001b[0;34m\u001b[0m\u001b[0m\n\u001b[0;32m----> 3\u001b[0;31m \u001b[0mtupla2\u001b[0m \u001b[0;34m=\u001b[0m \u001b[0;34m{\u001b[0m\u001b[0;34m[\u001b[0m\u001b[0;36m2\u001b[0m\u001b[0;34m,\u001b[0m\u001b[0;36m3\u001b[0m\u001b[0;34m,\u001b[0m\u001b[0;36m4\u001b[0m\u001b[0;34m]\u001b[0m\u001b[0;34m,\u001b[0m\u001b[0;36m5\u001b[0m\u001b[0;34m,\u001b[0m\u001b[0;36m6\u001b[0m\u001b[0;34m}\u001b[0m\u001b[0;34m\u001b[0m\u001b[0;34m\u001b[0m\u001b[0m\n\u001b[0m\u001b[1;32m      4\u001b[0m \u001b[0mtupla2\u001b[0m\u001b[0;34m[\u001b[0m\u001b[0;36m0\u001b[0m\u001b[0;34m]\u001b[0m\u001b[0;34m.\u001b[0m\u001b[0mappend\u001b[0m\u001b[0;34m(\u001b[0m\u001b[0;36m10\u001b[0m\u001b[0;34m)\u001b[0m\u001b[0;34m\u001b[0m\u001b[0;34m\u001b[0m\u001b[0m\n\u001b[1;32m      5\u001b[0m \u001b[0mprint\u001b[0m\u001b[0;34m(\u001b[0m\u001b[0mtupla2\u001b[0m\u001b[0;34m)\u001b[0m\u001b[0;34m\u001b[0m\u001b[0;34m\u001b[0m\u001b[0m\n",
            "\u001b[0;31mTypeError\u001b[0m: unhashable type: 'list'"
          ]
        }
      ]
    },
    {
      "cell_type": "code",
      "source": [],
      "metadata": {
        "id": "HNP_72-4ooPl"
      },
      "execution_count": null,
      "outputs": []
    },
    {
      "cell_type": "markdown",
      "metadata": {
        "id": "xjXgmD3mskbR"
      },
      "source": [
        "### **Ejercicio 1**\n",
        "\n",
        "Implementar el TDA **Diccionario (Map)**, con las siguientes operaciones (Solo lo tienen que usar, ya esta implementado por nosotros, pero repasen el funcionamiento):\n",
        "- Crear (**\\_\\_init__()**).\n",
        "- **\\_\\_repr__()**: Para poder imprimir por consola.\n",
        "- **insertar(clave, significado)**: Inserta el par **<clave , significado>**, si la clave ya existe no debe modificar el diccionario.\n",
        "- **Asignación con \"dicc[clave] = significado\"**: Permite modificar significados de claves existentes y agregar nuevos pares. Esto se realiza implementado la función **\\_\\_setitem__()**.\n",
        "- **get(clave)**: Recibe una clave y retorna su significado, si la clave no existe lanza una excepción.\n",
        "- **Obtener con \"dicc[clave]\"**: Similar a **get**, pero con el operador **\"[ ]\"**. Esto se realiza implementando la función **\\_\\_getitem__()**.\n",
        "- **len()**: Retorna la cantidad de pares **<clave , significado>** en el diccionario.\n",
        "- **getKeys()**: Retorna lista con claves.\n",
        "- **getValues()**: Retorna lista con significados.\n",
        "- **Operador \"in\"**: Permite la búsqueda dentro del diccionario por las claves, es decir podemos hacer **\"if clave in diccionario\"**.\n",
        "- **remove(clave)**: Elimina el par clave-significado que contiene la clave que recibe como parámetro\n",
        "- **clone()**: Genera nuevo diccionario con el mismo contenido\n",
        "- **clear()**: Vacia diccionario\n",
        "\n",
        "Si quieren iterar el diccionario deben hacer (por ejemplo para imprimir todos los pares clave-significado en diferentes lineas):\n",
        "\n",
        "    \n",
        "    for clave in diccionario.keys():\n",
        "        print(clave, diccionario.get(clave))\n",
        "\n",
        "O el equivalente con el operador **\"[ ]\"**:\n",
        "\n",
        "\n",
        "    for clave in diccionario.keys():\n",
        "        print(clave, dicionario[clave])\n",
        "\n",
        "Aunque tengamos el operador **\"in\"** este sirve solo para búsquedas y no para iterar en diccionario, entonces no se puede hacer:\n",
        "\n",
        "\n",
        "    for clave in diccionario:\n",
        "\n",
        "\n",
        "\n",
        "\n",
        "\n",
        "\n"
      ]
    },
    {
      "cell_type": "code",
      "metadata": {
        "id": "vM50Hpx6yUDe"
      },
      "source": [
        "import copy as cp\n",
        "\n",
        "class Diccionario:\n",
        "  #######TDA tupla clave-significado#########################\n",
        "  class __TuplaDic:\n",
        "    def __init__(self, key, value):\n",
        "      self.__data = (key,value)\n",
        "\n",
        "    def __repr__(self):\n",
        "      return str(self.__data)\n",
        "\n",
        "    def __eq__(self, key):\n",
        "      return self.__data[0] == key\n",
        "\n",
        "    def __hash__(self):\n",
        "      return hash(self.__data[0])\n",
        "\n",
        "    def getKey(self):\n",
        "      return self.__data[0]\n",
        "\n",
        "    def getValue(self):\n",
        "      return self.__data[1]\n",
        "  ############################################################\n",
        "\n",
        "  ###Constructor recibe dos listas de claves y significados en orden\n",
        "  def __init__(self, keys = None, values = None):\n",
        "    self.__diccionario = set()\n",
        "    if keys != None:\n",
        "      if len(keys) == len(values):\n",
        "        for i in range(len(keys)):\n",
        "          self[keys[i]] = values[i]\n",
        "      else:\n",
        "        raise Exception(\"Las listas de pares clave-significado deben tener la misma cantidad\")\n",
        "\n",
        "  def __repr__(self):\n",
        "    return str(self.__diccionario)\n",
        "\n",
        "  ###Asignacion usando [], se recibe clave entre corchetes / Permite reemplazar aunque exista la clave\n",
        "  def __setitem__(self, key = None, value = None):\n",
        "    if key != None:\n",
        "      if key in self:\n",
        "        self.__diccionario.remove(key)\n",
        "      self.__diccionario.add(Diccionario.__TuplaDic(key,value))\n",
        "\n",
        "  ###No inserta si existe la clave, es decir, si la clave existe en el dicc no modifica el valor\n",
        "  def insert(self, key = None, value = None):\n",
        "    if key != None:\n",
        "      self.__diccionario.add(Diccionario.__TuplaDic(key,value))\n",
        "\n",
        "  ###Elimina si existe la clave, es decir, si la clave existe en el dicc elimina el par clave-valor\n",
        "  ###Sino existe la clave, no hace nada\n",
        "  def remove(self, key):\n",
        "    if key in self:\n",
        "        valor = self[key]\n",
        "        self.__diccionario.remove(key)\n",
        "        return valor\n",
        "\n",
        "  ###Vacia dicc\n",
        "  def clear(self):\n",
        "    self.__diccionario = set()\n",
        "\n",
        "  ###Clonar dicc\n",
        "  def clone(self):\n",
        "    return cp.deepcopy(self)\n",
        "\n",
        "  ###Acceso a valores usando [], se recibe clave entre corchetes\n",
        "  def __getitem__(self, key):\n",
        "    value = None\n",
        "    flag = False\n",
        "    for tuplaDic in self.__diccionario:\n",
        "      if tuplaDic.getKey() == key:\n",
        "        value = tuplaDic.getValue()\n",
        "        flag = True\n",
        "    if flag:\n",
        "      return value\n",
        "    else:\n",
        "      raise Exception(\"No existe la clave %s en el diccionario\" % (key))\n",
        "\n",
        "  ###Retorna valor de la clave que se recibe por parametro\n",
        "  def get(self, key):\n",
        "    value = None\n",
        "    flag = False\n",
        "    for tuplaDic in self.__diccionario:\n",
        "      if tuplaDic.getKey() == key:\n",
        "        value = tuplaDic.getValue()\n",
        "        flag = True\n",
        "    if flag:\n",
        "      return value\n",
        "    else:\n",
        "      raise Exception(\"No existe la clave %s en el diccionario\" % (key))\n",
        "\n",
        "  ###Retorna lista con claves\n",
        "  def keys(self):\n",
        "    return [x.getKey() for x in self.__diccionario]\n",
        "\n",
        "  ###Retorna lista con valores\n",
        "  def values(self):\n",
        "    return [x.getValue() for x in self.__diccionario]\n",
        "\n",
        "  ###Operador \"in\"\n",
        "  def __contains__(self, key):\n",
        "    return key in self.__diccionario\n",
        "\n",
        "  ###Tamaño de diccionario\n",
        "  def len(self):\n",
        "    return len(self.__diccionario)"
      ],
      "execution_count": null,
      "outputs": []
    },
    {
      "cell_type": "markdown",
      "source": [
        "Uso de diccionarios"
      ],
      "metadata": {
        "id": "q2B4hcS2CsPd"
      }
    },
    {
      "cell_type": "code",
      "source": [
        "diccionario1 = Diccionario()\n",
        "diccionario1.insert(3, \"auto\")\n",
        "diccionario1.insert(2, \"casa\")\n",
        "diccionario1.insert(2, \"perro\")\n",
        "print(diccionario1)\n",
        "diccionario1.remove(2)\n",
        "print(diccionario1)"
      ],
      "metadata": {
        "id": "lIQDvgRMCkwu",
        "colab": {
          "base_uri": "https://localhost:8080/"
        },
        "outputId": "ac7a5061-4bce-448a-8ea7-6da1b10096dc"
      },
      "execution_count": null,
      "outputs": [
        {
          "output_type": "stream",
          "name": "stdout",
          "text": [
            "{(2, 'casa'), (3, 'auto')}\n",
            "{(3, 'auto')}\n"
          ]
        }
      ]
    },
    {
      "cell_type": "code",
      "source": [
        "diccionario1[4] = \"moto\"\n",
        "print(diccionario1)"
      ],
      "metadata": {
        "colab": {
          "base_uri": "https://localhost:8080/"
        },
        "id": "VIk7dQT4qaN8",
        "outputId": "9608fb6d-318e-49f1-81cf-58a5aff20d02"
      },
      "execution_count": null,
      "outputs": [
        {
          "output_type": "stream",
          "name": "stdout",
          "text": [
            "{(3, 'auto'), (4, 'moto')}\n"
          ]
        }
      ]
    },
    {
      "cell_type": "code",
      "source": [
        "diccionario1.get(3)\n",
        "#Son iguales\n",
        "diccionario1[3]\n",
        "print(3 in diccionario1)\n"
      ],
      "metadata": {
        "id": "s32810csq9Qz"
      },
      "execution_count": null,
      "outputs": []
    },
    {
      "cell_type": "code",
      "source": [
        "print(diccionario1)\n",
        "for clave in diccionario1.keys():\n",
        "    print(clave)\n"
      ],
      "metadata": {
        "id": "1TYFAIB_sNhZ"
      },
      "execution_count": null,
      "outputs": []
    },
    {
      "cell_type": "markdown",
      "source": [
        "Listas como significado"
      ],
      "metadata": {
        "id": "5Pzhzr55CyLd"
      }
    },
    {
      "cell_type": "code",
      "source": [],
      "metadata": {
        "id": "SPuZPCliCx8_"
      },
      "execution_count": null,
      "outputs": []
    },
    {
      "cell_type": "markdown",
      "metadata": {
        "id": "I26IE7cG1BeA"
      },
      "source": [
        "### A partir del **Ejercicio 2** vamos a trabajar **fuera del TDA Diccionario** usando la interface que creamos en el **Ejercicio 1**. Es decir,se pueden usar solo las operaciones de la interface, no se puede acceder a los componentes internos del TDA. Si necesitan estructuras auxiliares, pueden usar cualquiera de las estructuras que vimos hasta ahora: Arreglos, Listas, Pilas, Colas, Diccionarios."
      ]
    },
    {
      "cell_type": "markdown",
      "metadata": {
        "id": "Q0D1vzJZzqID"
      },
      "source": [
        "### **Ejercicio 2**\n",
        "\n",
        "Escribir un programa que declare un Diccionario de **<entero , entero>** (clave entero y significado entero) y le agrege 4 pares. Luego debe mostrar el diccionario por pantalla y su tamaño.\n",
        "\n",
        "Finalmente, redefinir 2 significados y volver a imprimir."
      ]
    },
    {
      "cell_type": "code",
      "source": [
        "dic1 = Diccionario()\n",
        "dic1.insert(1, 10); dic1.insert(2, 20); dic1.insert(3, 30); dic1.insert(4, 40)\n",
        "print(dic1)\n",
        "dic1[3] = 60\n",
        "dic1[4] = 80\n",
        "print(dic1)"
      ],
      "metadata": {
        "id": "81KX6TytC19F",
        "colab": {
          "base_uri": "https://localhost:8080/"
        },
        "outputId": "7049c7d8-ed5d-491f-98bc-398b6fb13461"
      },
      "execution_count": null,
      "outputs": [
        {
          "output_type": "stream",
          "name": "stdout",
          "text": [
            "{(1, 10), (2, 20), (3, 30), (4, 40)}\n",
            "{(1, 10), (2, 20), (3, 60), (4, 80)}\n"
          ]
        }
      ]
    },
    {
      "cell_type": "markdown",
      "metadata": {
        "id": "rds3Jsp10bJr"
      },
      "source": [
        "### **Ejercicio 3**\n",
        "\n",
        "Escribir un diccionario con sinónimos. Luego intentar insertar dos pares **<clave , significado>** con claves **repetidas** con la operacion **insert** y ver que sucede."
      ]
    },
    {
      "cell_type": "code",
      "source": [
        "dicSinonimos = Diccionario((23, 45), (10,10))\n",
        "print(dicSinonimos)"
      ],
      "metadata": {
        "id": "9O7ED5nDC3Ol",
        "colab": {
          "base_uri": "https://localhost:8080/"
        },
        "outputId": "e072261e-bebe-4da7-c112-ffdcb0e0dc97"
      },
      "execution_count": null,
      "outputs": [
        {
          "output_type": "stream",
          "name": "stdout",
          "text": [
            "{(45, 10), (23, 10)}\n"
          ]
        }
      ]
    },
    {
      "cell_type": "code",
      "source": [
        "palabras = [\"casa\", \"perro\", \"computadora\"]\n",
        "sinonimos = [\"hogar\", \"can\", \"ordenador\"]\n",
        "\"\"\"\n",
        "otra forma de cargar en el dic:\n",
        "Diccionario([1,2], [\"casa\", \"torre\"])\n",
        "\"\"\"\n",
        "dic__Sinonimos = Diccionario(keys = palabras, values = sinonimos)\n",
        "print(dic__Sinonimos)\n",
        "\n",
        "dic__Sinonimos.insert(\"casa\", \"lugar\")\n",
        "dic__Sinonimos[\"casa\"] = \"lugar\""
      ],
      "metadata": {
        "colab": {
          "base_uri": "https://localhost:8080/"
        },
        "id": "78skj7oEyy6i",
        "outputId": "650e2b27-f11d-4aaf-e3c2-90faf50de085"
      },
      "execution_count": null,
      "outputs": [
        {
          "output_type": "stream",
          "name": "stdout",
          "text": [
            "{('computadora', 'ordenador'), ('casa', 'hogar'), ('perro', 'can')}\n"
          ]
        }
      ]
    },
    {
      "cell_type": "markdown",
      "metadata": {
        "id": "-YN0LThH0dO6"
      },
      "source": [
        "### **Ejercicio 4**\n",
        "\n",
        "Escribir una función que dado una lista de enteros me devuelve otra(no necesariamente en el mismo orden) sin los numeros repetidos.\n",
        "\n",
        "Por ejemplo:\n",
        "\n",
        "Lista de entrada = [1 , 3 , 4 , 1 , 2 , 4 , 3 , 2]\n",
        "\n",
        "Lista de salida = [1 , 3 , 2, 4]"
      ]
    },
    {
      "cell_type": "code",
      "source": [
        "def listaSinNrosRepetidos(unaLista: list) -> list:\n",
        "    resultado = []\n",
        "    for datoInt in unaLista:\n",
        "        if not (datoInt in resultado):\n",
        "            resultado.append(datoInt)\n",
        "    return resultado\n",
        "\n",
        "print(listaSinNrosRepetidos([1,2,2,2,2,4,5,6,7,7,7,1,2,2]))"
      ],
      "metadata": {
        "id": "LkcdO0p1C4DN",
        "colab": {
          "base_uri": "https://localhost:8080/"
        },
        "outputId": "fc2e4203-a7b7-4fd5-b73d-30a46fa2984a"
      },
      "execution_count": null,
      "outputs": [
        {
          "output_type": "stream",
          "name": "stdout",
          "text": [
            "[1, 2, 4, 5, 6, 7]\n"
          ]
        }
      ]
    },
    {
      "cell_type": "markdown",
      "metadata": {
        "id": "_Q_DCTjI3AGK"
      },
      "source": [
        "### **Ejercicio 5**\n",
        "\n",
        "Rehacer le ejercicio 4 pero retornando un diccionario en lugar de una lista.\n",
        "\n",
        "Por ejemplo:\n",
        "\n",
        "Lista de entrada = [1 , 3 , 4 , 1 , 2 , 4 , 3 , 2]\n",
        "\n",
        "Diccionario de salida = { (1 , None) , (3 , None) , (4 , None) , (2 , None) }"
      ]
    },
    {
      "cell_type": "code",
      "source": [
        "lista_de_entrada = [1 , 3 , 4 , 1 , 2 , 4 , 3 , 2]\n",
        "def diccionarioDeListaSinRepetidos(unaLista: list) -> list:\n",
        "    resultado = Diccionario()\n",
        "    for datoInt in unaLista:\n",
        "        resultado.insert(datoInt)\n",
        "    return resultado\n",
        "print(diccionarioDeListaSinRepetidos(lista_de_entrada))"
      ],
      "metadata": {
        "id": "quxWPPxgC4-l",
        "colab": {
          "base_uri": "https://localhost:8080/"
        },
        "outputId": "1d3d7e82-e9e9-4525-d4fb-d7fce2a548e8"
      },
      "execution_count": null,
      "outputs": [
        {
          "output_type": "stream",
          "name": "stdout",
          "text": [
            "{(1, None), (2, None), (3, None), (4, None)}\n"
          ]
        }
      ]
    },
    {
      "cell_type": "markdown",
      "metadata": {
        "id": "xfP229oY3ODC"
      },
      "source": [
        "### **Ejercicio 6**\n",
        "\n",
        "Escribir una función que recibe una lista de números como parámetro y devuelve un diccionario con los números de la lista como claves y la cantidad de apariciones de cada uno como su significado.\n",
        "\n",
        "Por ejemplo:\n",
        "\n",
        "Lista de entrada = [1 , 3 , 4 , 2 , 1 , 3 , 1 , 4 , 2 , 5 , 2]\n",
        "\n",
        "Diccionario de salida = { (1 , 3) , (3 , 2) , (4 , 2) , (2 , 3) , (5 , 1) }"
      ]
    },
    {
      "cell_type": "code",
      "source": [
        "DEF"
      ],
      "metadata": {
        "id": "ZyQJRxNMC5xG"
      },
      "execution_count": null,
      "outputs": []
    },
    {
      "cell_type": "markdown",
      "metadata": {
        "id": "nxgYjoxl3gmz"
      },
      "source": [
        "### **Ejercicio 7**\n",
        "\n",
        "Escribir una función que recibe dos diccionarios y devuelve otro con la mezcla de los dos, para las claves repetidas, se queda con los significados de primer diccionario.\n",
        "\n",
        "Por ejemplo:\n",
        "\n",
        "Diccionario de entrada 1 = { (1 , 3) , (3 , 2) , (4 , 4) , (2 , 3) , (5 , 1) }\n",
        "\n",
        "Diccionario de entrada 2 = { (10 , 3) , (3 , 5) , (2 , 30) , (8 , 1) , (9 , 3) }\n",
        "\n",
        "Diccionario de salida = { (1 , 3) , (3 , 2) , (4 , 4) , (2 , 3) , (5 , 1) , (10 , 3) , (8 , 1) , (9 , 3) }"
      ]
    },
    {
      "cell_type": "code",
      "source": [],
      "metadata": {
        "id": "iNpZStaoC6zm"
      },
      "execution_count": null,
      "outputs": []
    },
    {
      "cell_type": "markdown",
      "metadata": {
        "id": "OLopy2zK38Am"
      },
      "source": [
        "### **Ejercicio 8**\n",
        "\n",
        "Escribir una función que modele el problema de administrar las materias que cursa un alumno.\n",
        "Es decir que reciba un diccionario, un alumno y una materia y agregue esa materia a las materias que cursa.\n",
        "\n",
        "**Nota: La lista de materias de cada alumno no debe tener materias repetidas.**\n",
        "\n",
        "Por ejemplo:\n",
        "\n",
        "Diccionario = { ( \"Alumno1\" , [\"Materia1\" , \"Materia2\"] )   ,   ( \"Alumno2\", [ \"Materia2\" , \"Materia3\" , \"Materia4\" ] ) }\n"
      ]
    },
    {
      "cell_type": "code",
      "source": [],
      "metadata": {
        "id": "HFWkH-h4C7mm"
      },
      "execution_count": null,
      "outputs": []
    },
    {
      "cell_type": "markdown",
      "source": [
        "### **Ejercicio 9**\n",
        "\n",
        "Escribir una función listaToDic que recibe una lista con chirimbolos y devuelve un diccionario con cada chirimbolo como clave y como significado una matriz de nxn donde n es la cantidad de veces que aparece el chirimbolo en la lista. La matriz se debe llenar con el chirimbolo de la clave.\n",
        "Se debe resolver usando las operaciones del TDA diccionario que vimos en clase, sin violar el encapsulamiento ni utilizando estructuras auxiliares. Si es necesario definir funciones auxiliares.\n",
        "Ejemplo:\n",
        "\n",
        "```\n",
        "lista = [‘*’, ‘#’, ‘/’, ‘*’, ‘#’, ‘/’, ‘*’, ‘$’]\n",
        "listaToDic(lista) –> Diccionario\n",
        "Entonces, listaToDic(lista) =>\n",
        "{(‘*’,  [[‘*’,‘*’,‘*’],[‘*’,‘*’,‘*’],[‘*’,‘*’,‘*’]]) , (‘$’ , [[‘$’]]), (‘/’ , [[‘/’,‘/’],[‘/’,‘/’]]) , (‘#’ , [[‘#’,‘#’],[‘#’,‘#’]])}\n",
        "```\n",
        "\n",
        "Ayuda: Se recomienda generar primero la matriz con ceros y luego reemplazarlos o bien utilizar la funcion np.full(...)."
      ],
      "metadata": {
        "id": "dOTeL0tXJJKG"
      }
    },
    {
      "cell_type": "code",
      "source": [],
      "metadata": {
        "id": "6PdVHKGgC9w9"
      },
      "execution_count": null,
      "outputs": []
    },
    {
      "cell_type": "markdown",
      "source": [
        "### **Ejercicio 10**\n",
        "\n",
        "Escribir la función promedios que recibe una lista de materias (strings) y una lista de notas (enteros) del mismo tamaño. Retorna un diccionario que posee como clave cada materia y como significado su nota promedio.\n",
        "Se debe resolver usando las operaciones del TDA diccionario que vimos en clase, sin violar el encapsulamiento ni utilizando estructuras auxiliares.\n",
        "Por ejemplo:\n",
        "\n",
        "\n",
        "listaMaterias = [“Intro Prog”, **“Objetos”**, “Estructura de Datos”, “Intro Prog”, ”Inglés”, **“Objetos”**, “Estructura de Datos”]\n",
        "\n",
        "listaNotas = [4, **4**, 4, 6, 7, **6**, 6]\n",
        "\n",
        "dic  = promedios(listaMaterias , listaNotas)\n",
        "\n",
        "Entonces, dic = { (“Intro Prog”, 5) , (“Estructura de Datos”,  5) , (”Inglés”, 7) , ( “Objetos”, 5) }"
      ],
      "metadata": {
        "id": "4M7_QzmDJdUc"
      }
    },
    {
      "cell_type": "code",
      "source": [],
      "metadata": {
        "id": "HGtawaoIC-sO"
      },
      "execution_count": null,
      "outputs": []
    },
    {
      "cell_type": "markdown",
      "metadata": {
        "id": "rc3aFx7i5g13"
      },
      "source": [
        "### **Ejercicio 11**\n",
        "\n",
        "Tenemos un diccionario del tipo **<Entero , Lista de enteros>** (clave número entero, significado lista de enteros) que dado un numero **X**, guarda las posibles combinaciones de ese número con otros.\n",
        "\n",
        "Escribir una función que recibe un diccionario de este tipo y devuelve una lista con los posibles pares de números (en formato de tupla).\n",
        "\n",
        "Por ejemplo:\n",
        "\n",
        "Diccionario de entrada = { (5 , [5 , 3 , 7 ] )  ,  ( 8, [ 15 , 3 ] ) }\n",
        "\n",
        "Lista de salida = [ (5 , 5) ,(5 , 3) , (5 , 7) , (8 , 15) , (8 , 3) ]\n",
        "\n"
      ]
    },
    {
      "cell_type": "code",
      "source": [],
      "metadata": {
        "id": "Y1Ax5gohJPPk"
      },
      "execution_count": null,
      "outputs": []
    },
    {
      "cell_type": "markdown",
      "metadata": {
        "id": "qBL1crPl55oY"
      },
      "source": [
        "### **Ejercicio 12**\n",
        "\n",
        "Escribir una función que haga lo inverso del Ejercicio 9.\n",
        "\n",
        "Por ejemplo:\n",
        "\n",
        "Lista de entrada = [ (5 , 5) ,(5 , 3) , (5 , 7) , (8 , 15) , (8 , 3) ]\n",
        "\n",
        "Diccionario de salida = { (5 , [5 , 3 , 7 ] )  ,  ( 8, [ 15 , 3 ] ) }\n",
        "\n",
        "\n"
      ]
    },
    {
      "cell_type": "code",
      "source": [],
      "metadata": {
        "id": "3Gv1MZc0DAWd"
      },
      "execution_count": null,
      "outputs": []
    },
    {
      "cell_type": "markdown",
      "metadata": {
        "id": "02nV6J1RzOZI"
      },
      "source": [
        "### **Ejercicio 13**\n",
        "\n",
        "Escribir el TDA **MatrizDePixels**, que modele una matriz de pixels (imagen) de **N x M** usando el tipo array del paquete numpy, donde cada pixel tiene un color representado por un número entero entre **0 y 255**.\n",
        "\n",
        "Hacer las operaciones del TDA para crear una MatrizDePixels (por defecto llena de ceros), leer y escribir pixels.\n",
        "\n",
        "Luego pruebenla con estos ejemplos:\n",
        "\n",
        "**a)** Crear una MatrizDePixels de **100 x 100** y agregarle valores a dos pixels.\n",
        "\n",
        "**b)** Crear una MatrizDePixels de **100000 x 50000** y agregarle valores a dos pixels.\n",
        "\n",
        "Explicar porque el inciso **b** da un error\n",
        "\n",
        "\n"
      ]
    },
    {
      "cell_type": "code",
      "source": [],
      "metadata": {
        "id": "DUyBrWKiDB6u"
      },
      "execution_count": null,
      "outputs": []
    },
    {
      "cell_type": "markdown",
      "source": [
        "Ahora escribir el TDA **MatrizDePixelsDict**, que modele una matriz de pixels (imagen) de **N x M** usando un diccionario de **<(fila,columna) , pixel>**, donde cada pixel tiene un color representado por un número entero entre **0 y 255** y el par **(fila,columna)** indica la posición del pixel en la matriz.\n",
        "\n",
        "Hacer las operaciones del TDA para crear una MatrizDePixelsDict (por defecto llena de ceros), leer y escribir pixels.\n",
        "\n",
        "Luego pruebenla con estos ejemplos:\n",
        "\n",
        "**a)** Crear una MatrizDePixelsDict de **100 x 100** y agregarle valores a dos pixels.\n",
        "\n",
        "**b)** Crear una MatrizDePixelsDict de **100000 x 50000** y agregarle valores a dos pixels.\n",
        "\n",
        "Explicar porque el inciso **b** ahora si funciona"
      ],
      "metadata": {
        "id": "_GiVemNfJUj8"
      }
    },
    {
      "cell_type": "markdown",
      "source": [
        "**Nota:** Si importan el paquete **sys** pueden usar la función **sys.getsizeof(variable)** que retorna el espacio que ocupa una variable en memoria."
      ],
      "metadata": {
        "id": "SHOMF2WEMDW7"
      }
    },
    {
      "cell_type": "code",
      "source": [],
      "metadata": {
        "id": "P0jcieZmDDRe"
      },
      "execution_count": null,
      "outputs": []
    },
    {
      "cell_type": "markdown",
      "source": [
        "### **Ejercicio 14**\n",
        "\n",
        "Implementar la suma matrices como operación en el TDA **MatrizDePixelsDict** implementado en el Ejercicio 13."
      ],
      "metadata": {
        "id": "a-69eMHdjcSy"
      }
    },
    {
      "cell_type": "code",
      "source": [],
      "metadata": {
        "id": "HUxXguFJeyRL"
      },
      "execution_count": null,
      "outputs": []
    }
  ]
}
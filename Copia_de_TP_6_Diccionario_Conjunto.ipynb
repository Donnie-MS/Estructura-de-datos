{
  "nbformat": 4,
  "nbformat_minor": 0,
  "metadata": {
    "colab": {
      "provenance": []
    },
    "kernelspec": {
      "name": "python3",
      "display_name": "Python 3"
    }
  },
  "cells": [
    {
      "cell_type": "markdown",
      "metadata": {
        "id": "42630xxYD0gZ"
      },
      "source": [
        "# ![alt text](https://upload.wikimedia.org/wikipedia/commons/thumb/c/c3/Python-logo-notext.svg/50px-Python-logo-notext.svg.png) **Trabajo Práctico 6: Diccionarios** ![alt text](https://upload.wikimedia.org/wikipedia/commons/thumb/c/c3/Python-logo-notext.svg/50px-Python-logo-notext.svg.png)\n",
        "\n",
        "En este trabajo práctico, vamos a trabajar con la estructura de datos **Diccionario** basado en el conjunto de Python. Recuerden crear una copia de este archivo en su ***Google Drive*** para tener permisos de edición.\n",
        "\n",
        "### Sergio: **sergio.gonzalez@unahur.edu.ar**"
      ]
    },
    {
      "cell_type": "markdown",
      "source": [
        "Declaracion de conjuntos e inserción de elementos"
      ],
      "metadata": {
        "id": "25DP_bBXUbBS"
      }
    },
    {
      "cell_type": "code",
      "source": [
        "#arreglos homogenios\n",
        "#lista heterogenea\n",
        "conjunto = set()\n",
        "conjunto.add(3);conjunto.add(8);conjunto.add(\"casa\")\n",
        "print(conjunto)\n",
        "conjunto.remove(3)\n",
        "print(conjunto)\n",
        "for dato in conjunto:\n",
        "    print(dato)"
      ],
      "metadata": {
        "id": "8zcU9wNVCg2G",
        "colab": {
          "base_uri": "https://localhost:8080/"
        },
        "outputId": "47cb2d50-6fcc-48b3-c3b9-4dc041b2c72c"
      },
      "execution_count": null,
      "outputs": [
        {
          "output_type": "stream",
          "name": "stdout",
          "text": [
            "{8, 'casa', 3}\n",
            "{8, 'casa'}\n",
            "8\n",
            "casa\n"
          ]
        }
      ]
    },
    {
      "cell_type": "markdown",
      "source": [
        "Declaración y manejo de tuplas"
      ],
      "metadata": {
        "id": "EpDL9UZbUiJb"
      }
    },
    {
      "cell_type": "code",
      "source": [
        "tupla  = (2,3,4)\n",
        "print(tupla)\n",
        "\n",
        "tupla2 = ([2,3,4],5,6)\n",
        "tupla2[0].append(10)\n",
        "print(tupla2)\n"
      ],
      "metadata": {
        "id": "ABUOStZmCiNV",
        "colab": {
          "base_uri": "https://localhost:8080/"
        },
        "outputId": "e86b97d8-92cd-4632-8b87-85a729646209"
      },
      "execution_count": null,
      "outputs": [
        {
          "output_type": "stream",
          "name": "stdout",
          "text": [
            "(2, 3, 4)\n",
            "([2, 3, 4, 10], 5, 6)\n"
          ]
        }
      ]
    },
    {
      "cell_type": "code",
      "source": [],
      "metadata": {
        "id": "HNP_72-4ooPl"
      },
      "execution_count": null,
      "outputs": []
    },
    {
      "cell_type": "markdown",
      "metadata": {
        "id": "xjXgmD3mskbR"
      },
      "source": [
        "### **Ejercicio 1**\n",
        "\n",
        "Implementar el TDA **Diccionario (Map)**, con las siguientes operaciones (Solo lo tienen que usar, ya esta implementado por nosotros, pero repasen el funcionamiento):\n",
        "- Crear (**\\_\\_init__()**).\n",
        "- **\\_\\_repr__()**: Para poder imprimir por consola.\n",
        "- **insertar(clave, significado)**: Inserta el par **<clave , significado>**, si la clave ya existe no debe modificar el diccionario.\n",
        "- **Asignación con \"dicc[clave] = significado\"**: Permite modificar significados de claves existentes y agregar nuevos pares. Esto se realiza implementado la función **\\_\\_setitem__()**.\n",
        "- **get(clave)**: Recibe una clave y retorna su significado, si la clave no existe lanza una excepción.\n",
        "- **Obtener con \"dicc[clave]\"**: Similar a **get**, pero con el operador **\"[ ]\"**. Esto se realiza implementando la función **\\_\\_getitem__()**.\n",
        "- **len()**: Retorna la cantidad de pares **<clave , significado>** en el diccionario.\n",
        "- **getKeys()**: Retorna lista con claves.\n",
        "- **getValues()**: Retorna lista con significados.\n",
        "- **Operador \"in\"**: Permite la búsqueda dentro del diccionario por las claves, es decir podemos hacer **\"if clave in diccionario\"**.\n",
        "- **remove(clave)**: Elimina el par clave-significado que contiene la clave que recibe como parámetro\n",
        "- **clone()**: Genera nuevo diccionario con el mismo contenido\n",
        "- **clear()**: Vacia diccionario\n",
        "\n",
        "Si quieren iterar el diccionario deben hacer (por ejemplo para imprimir todos los pares clave-significado en diferentes lineas):\n",
        "\n",
        "    \n",
        "    for clave in diccionario.keys():\n",
        "        print(clave, diccionario.get(clave))\n",
        "\n",
        "O el equivalente con el operador **\"[ ]\"**:\n",
        "\n",
        "\n",
        "    for clave in diccionario.keys():\n",
        "        print(clave, dicionario[clave])\n",
        "\n",
        "Aunque tengamos el operador **\"in\"** este sirve solo para búsquedas y no para iterar en diccionario, entonces no se puede hacer:\n",
        "\n",
        "\n",
        "    for clave in diccionario:\n",
        "\n",
        "\n",
        "\n",
        "\n",
        "\n",
        "\n"
      ]
    },
    {
      "cell_type": "code",
      "metadata": {
        "id": "vM50Hpx6yUDe"
      },
      "source": [
        "import copy as cp\n",
        "\n",
        "class Diccionario:\n",
        "  #######TDA tupla clave-significado#########################\n",
        "  class __TuplaDic:\n",
        "    def __init__(self, key, value):\n",
        "      self.__data = (key,value)\n",
        "\n",
        "    def __repr__(self):\n",
        "      return str(self.__data)\n",
        "\n",
        "    def __eq__(self, key): # sobrecargar el numerador \"==\", compara las key y no los value.\n",
        "      return self.__data[0] == key\n",
        "\n",
        "    def __hash__(self): # metodo necesario para asociar claves con valores\n",
        "      return hash(self.__data[0])\n",
        "\n",
        "    def getKey(self): # devuelve la key\n",
        "      return self.__data[0]\n",
        "\n",
        "    def getValue(self): # devuelve el valor\n",
        "      return self.__data[1]\n",
        "  ############################################################\n",
        "\n",
        "  ###Constructor recibe dos listas de claves y significados en orden\n",
        "  def __init__(self, keys = None, values = None):\n",
        "    self.__diccionario = set()\n",
        "    if keys != None:\n",
        "      if len(keys) == len(values):\n",
        "        for i in range(len(keys)):\n",
        "          self[keys[i]] = values[i]\n",
        "      else:\n",
        "        raise Exception(\"Las listas de pares clave-significado deben tener la misma cantidad\")\n",
        "\n",
        "  def __repr__(self):\n",
        "    return str(self.__diccionario)\n",
        "\n",
        "  ###Asignacion usando [], se recibe clave entre corchetes / Permite reemplazar aunque exista la clave\n",
        "  def __setitem__(self, key = None, value = None):\n",
        "    if key != None:\n",
        "      if key in self:\n",
        "        self.__diccionario.remove(key)\n",
        "      self.__diccionario.add(Diccionario.__TuplaDic(key,value))\n",
        "\n",
        "  ###No inserta si existe la clave, es decir, si la clave existe en el dicc no modifica el valor\n",
        "  def insert(self, key = None, value = None):\n",
        "    if key != None:\n",
        "      self.__diccionario.add(Diccionario.__TuplaDic(key,value))\n",
        "\n",
        "  ###Elimina si existe la clave, es decir, si la clave existe en el dicc elimina el par clave-valor\n",
        "  ###Sino existe la clave, no hace nada\n",
        "  def remove(self, key):\n",
        "    if key in self:\n",
        "        valor = self[key]\n",
        "        self.__diccionario.remove(key)\n",
        "        return valor\n",
        "\n",
        "  ###Vacia dicc\n",
        "  def clear(self):\n",
        "    self.__diccionario = set()\n",
        "\n",
        "  ###Clonar dicc\n",
        "  def clone(self):\n",
        "    return cp.deepcopy(self)\n",
        "\n",
        "  ###Acceso a valores usando [], se recibe clave entre corchetes\n",
        "  def __getitem__(self, key):\n",
        "    value = None\n",
        "    flag = False\n",
        "    for tuplaDic in self.__diccionario:\n",
        "      if tuplaDic.getKey() == key:\n",
        "        value = tuplaDic.getValue()\n",
        "        flag = True\n",
        "    if flag:\n",
        "      return value\n",
        "    else:\n",
        "      raise Exception(\"No existe la clave %s en el diccionario\" % (key))\n",
        "\n",
        "  ###Retorna valor de la clave que se recibe por parametro\n",
        "  def get(self, key):\n",
        "    value = None\n",
        "    flag = False\n",
        "    for tuplaDic in self.__diccionario:\n",
        "      if tuplaDic.getKey() == key:\n",
        "        value = tuplaDic.getValue()\n",
        "        flag = True\n",
        "    if flag:\n",
        "      return value\n",
        "    else:\n",
        "      raise Exception(\"No existe la clave %s en el diccionario\" % (key))\n",
        "\n",
        "  ###Retorna lista con claves\n",
        "  def keys(self):\n",
        "    return [x.getKey() for x in self.__diccionario]\n",
        "\n",
        "  ###Retorna lista con valores\n",
        "  def values(self):\n",
        "    return [x.getValue() for x in self.__diccionario]\n",
        "\n",
        "  ###Operador \"in\"\n",
        "  def __contains__(self, key):\n",
        "    flag = False\n",
        "    for tupla in self.__diccionario:\n",
        "        if tupla.getKey() == key:\n",
        "            flag = True\n",
        "            break\n",
        "    return flag\n",
        "\n",
        "  ###Tamaño de diccionario\n",
        "  def len(self):\n",
        "    return len(self.__diccionario)"
      ],
      "execution_count": 1,
      "outputs": []
    },
    {
      "cell_type": "markdown",
      "source": [
        "Uso de diccionarios"
      ],
      "metadata": {
        "id": "q2B4hcS2CsPd"
      }
    },
    {
      "cell_type": "code",
      "source": [
        "diccionario1 = Diccionario()\n",
        "diccionario1.insert(3, \"auto\")\n",
        "diccionario1.insert(2, \"casa\")\n",
        "diccionario1.insert(2, \"perro\")\n",
        "print(diccionario1)\n",
        "diccionario1.remove(2)\n",
        "print(diccionario1)"
      ],
      "metadata": {
        "id": "lIQDvgRMCkwu",
        "colab": {
          "base_uri": "https://localhost:8080/"
        },
        "outputId": "ac7a5061-4bce-448a-8ea7-6da1b10096dc"
      },
      "execution_count": null,
      "outputs": [
        {
          "output_type": "stream",
          "name": "stdout",
          "text": [
            "{(2, 'casa'), (3, 'auto')}\n",
            "{(3, 'auto')}\n"
          ]
        }
      ]
    },
    {
      "cell_type": "code",
      "source": [
        "diccionario1[4] = \"moto\"\n",
        "print(diccionario1)"
      ],
      "metadata": {
        "colab": {
          "base_uri": "https://localhost:8080/"
        },
        "id": "VIk7dQT4qaN8",
        "outputId": "9608fb6d-318e-49f1-81cf-58a5aff20d02"
      },
      "execution_count": null,
      "outputs": [
        {
          "output_type": "stream",
          "name": "stdout",
          "text": [
            "{(3, 'auto'), (4, 'moto')}\n"
          ]
        }
      ]
    },
    {
      "cell_type": "code",
      "source": [
        "diccionario1.get(3)\n",
        "#Son iguales\n",
        "diccionario1[3]\n",
        "print(3 in diccionario1)\n"
      ],
      "metadata": {
        "id": "s32810csq9Qz"
      },
      "execution_count": null,
      "outputs": []
    },
    {
      "cell_type": "code",
      "source": [
        "print(diccionario1)\n",
        "for clave in diccionario1.keys():\n",
        "    print(clave)\n"
      ],
      "metadata": {
        "id": "1TYFAIB_sNhZ"
      },
      "execution_count": null,
      "outputs": []
    },
    {
      "cell_type": "markdown",
      "source": [
        "Listas como significado"
      ],
      "metadata": {
        "id": "5Pzhzr55CyLd"
      }
    },
    {
      "cell_type": "code",
      "source": [],
      "metadata": {
        "id": "SPuZPCliCx8_"
      },
      "execution_count": null,
      "outputs": []
    },
    {
      "cell_type": "markdown",
      "metadata": {
        "id": "I26IE7cG1BeA"
      },
      "source": [
        "### A partir del **Ejercicio 2** vamos a trabajar **fuera del TDA Diccionario** usando la interface que creamos en el **Ejercicio 1**. Es decir,se pueden usar solo las operaciones de la interface, no se puede acceder a los componentes internos del TDA. Si necesitan estructuras auxiliares, pueden usar cualquiera de las estructuras que vimos hasta ahora: Arreglos, Listas, Pilas, Colas, Diccionarios."
      ]
    },
    {
      "cell_type": "markdown",
      "metadata": {
        "id": "Q0D1vzJZzqID"
      },
      "source": [
        "### **Ejercicio 2**\n",
        "\n",
        "Escribir un programa que declare un Diccionario de **<entero , entero>** (clave entero y significado entero) y le agrege 4 pares. Luego debe mostrar el diccionario por pantalla y su tamaño.\n",
        "\n",
        "Finalmente, redefinir 2 significados y volver a imprimir."
      ]
    },
    {
      "cell_type": "code",
      "source": [
        "dic1 = Diccionario()\n",
        "dic1.insert(1, 10); dic1.insert(2, 20); dic1.insert(3, 30); dic1.insert(4, 40)\n",
        "print(dic1)\n",
        "dic1[3] = 60\n",
        "dic1[4] = 80\n",
        "print(dic1)"
      ],
      "metadata": {
        "id": "81KX6TytC19F",
        "colab": {
          "base_uri": "https://localhost:8080/"
        },
        "outputId": "859f8a35-69bd-480c-925b-162c92235d00"
      },
      "execution_count": null,
      "outputs": [
        {
          "output_type": "stream",
          "name": "stdout",
          "text": [
            "{(1, 10), (2, 20), (3, 30), (4, 40)}\n",
            "{(1, 10), (2, 20), (3, 60), (4, 80)}\n"
          ]
        }
      ]
    },
    {
      "cell_type": "markdown",
      "metadata": {
        "id": "rds3Jsp10bJr"
      },
      "source": [
        "### **Ejercicio 3**\n",
        "\n",
        "Escribir un diccionario con sinónimos. Luego intentar insertar dos pares **<clave , significado>** con claves **repetidas** con la operacion **insert** y ver que sucede."
      ]
    },
    {
      "cell_type": "code",
      "source": [
        "dicSinonimos = Diccionario((23, 45), (10,10))\n",
        "print(dicSinonimos)"
      ],
      "metadata": {
        "id": "9O7ED5nDC3Ol",
        "colab": {
          "base_uri": "https://localhost:8080/"
        },
        "outputId": "e072261e-bebe-4da7-c112-ffdcb0e0dc97"
      },
      "execution_count": null,
      "outputs": [
        {
          "output_type": "stream",
          "name": "stdout",
          "text": [
            "{(45, 10), (23, 10)}\n"
          ]
        }
      ]
    },
    {
      "cell_type": "code",
      "source": [
        "palabras = [\"casa\", \"perro\", \"computadora\"]\n",
        "sinonimos = [\"hogar\", \"can\", \"ordenador\"]\n",
        "\"\"\"\n",
        "otra forma de cargar en el dic:\n",
        "Diccionario([1,2], [\"casa\", \"torre\"])\n",
        "\"\"\"\n",
        "dic__Sinonimos = Diccionario(keys = palabras, values = sinonimos)\n",
        "print(dic__Sinonimos)\n",
        "print(\"-\"*70)\n",
        "dic__Sinonimos[\"casa\"] = \"casita\"\n",
        "dic__Sinonimos.insert('computadora' , 'PC')\n",
        "print(dic__Sinonimos)"
      ],
      "metadata": {
        "colab": {
          "base_uri": "https://localhost:8080/"
        },
        "id": "78skj7oEyy6i",
        "outputId": "3db20195-bfc1-4361-e2df-0d0079ed8791"
      },
      "execution_count": null,
      "outputs": [
        {
          "output_type": "stream",
          "name": "stdout",
          "text": [
            "{('casa', 'hogar'), ('perro', 'can'), ('computadora', 'ordenador')}\n",
            "----------------------------------------------------------------------\n",
            "{('casa', 'casita'), ('perro', 'can'), ('computadora', 'ordenador')}\n"
          ]
        }
      ]
    },
    {
      "cell_type": "markdown",
      "metadata": {
        "id": "-YN0LThH0dO6"
      },
      "source": [
        "### **Ejercicio 4**\n",
        "\n",
        "Escribir una función que dado una lista de enteros me devuelve otra(no necesariamente en el mismo orden) sin los numeros repetidos.\n",
        "\n",
        "Por ejemplo:\n",
        "\n",
        "Lista de entrada = [1 , 3 , 4 , 1 , 2 , 4 , 3 , 2]\n",
        "\n",
        "Lista de salida = [1 , 3 , 2, 4]"
      ]
    },
    {
      "cell_type": "code",
      "source": [
        "def eliminarRepetidos(lista) -> list:\n",
        "  dicAux = Diccionario(lista, lista)\n",
        "  sinRepetidos = dicAux.keys()\n",
        "  return sinRepetidos\n",
        "lista_de_entrada = [1 , 3 , 4 , 1 , 2 , 4 , 3 , 2]\n",
        "lista_de_salida = eliminarRepetidos(lista_de_entrada)\n",
        "\n",
        "print(lista_de_salida)"
      ],
      "metadata": {
        "id": "LkcdO0p1C4DN",
        "colab": {
          "base_uri": "https://localhost:8080/"
        },
        "outputId": "e34c1434-f718-4e5f-b60d-4179f3b5c845"
      },
      "execution_count": null,
      "outputs": [
        {
          "output_type": "stream",
          "name": "stdout",
          "text": [
            "[1, 2, 3, 4]\n"
          ]
        }
      ]
    },
    {
      "cell_type": "markdown",
      "metadata": {
        "id": "_Q_DCTjI3AGK"
      },
      "source": [
        "### **Ejercicio 5**\n",
        "\n",
        "Rehacer le ejercicio 4 pero retornando un diccionario en lugar de una lista.\n",
        "\n",
        "Por ejemplo:\n",
        "\n",
        "Lista de entrada = [1 , 3 , 4 , 1 , 2 , 4 , 3 , 2]\n",
        "\n",
        "Diccionario de salida = { (1 , None) , (3 , None) , (4 , None) , (2 , None) }"
      ]
    },
    {
      "cell_type": "code",
      "source": [
        "def eliminarRepetidos(unaLista) -> dict:\n",
        "  auxDic = Diccionario()\n",
        "  for numero in unaLista:\n",
        "    auxDic.insert(numero, None)\n",
        "  return auxDic\n",
        "listaEntrada = [1 , 3 , 4 , 1 , 2 , 4 , 3 , 2]\n",
        "\n",
        "print(eliminarRepetidos(listaEntrada))"
      ],
      "metadata": {
        "id": "quxWPPxgC4-l",
        "colab": {
          "base_uri": "https://localhost:8080/"
        },
        "outputId": "304d409e-2dd9-4815-945d-826258c839f3"
      },
      "execution_count": null,
      "outputs": [
        {
          "output_type": "stream",
          "name": "stdout",
          "text": [
            "{(1, None), (2, None), (3, None), (4, None)}\n"
          ]
        }
      ]
    },
    {
      "cell_type": "markdown",
      "metadata": {
        "id": "xfP229oY3ODC"
      },
      "source": [
        "### **Ejercicio 6**\n",
        "\n",
        "Escribir una función que recibe una lista de números como parámetro y devuelve un diccionario con los números de la lista como claves y la cantidad de apariciones de cada uno como su significado.\n",
        "\n",
        "Por ejemplo:\n",
        "\n",
        "Lista de entrada = [1 , 3 , 4 , 2 , 1 , 3 , 1 , 4 , 2 , 5 , 2]\n",
        "\n",
        "Diccionario de salida = { (1 , 3) , (3 , 2) , (4 , 2) , (2 , 3) , (5 , 1) }"
      ]
    },
    {
      "cell_type": "code",
      "source": [
        "\n",
        "def contarOcurrencias(unaLista) -> dict:\n",
        "  dicSalida = Diccionario()\n",
        "  for numero in unaLista:\n",
        "\n",
        "    if numero in dicSalida:\n",
        "      dicSalida[numero] = dicSalida[numero] + 1\n",
        "    else:\n",
        "      dicSalida.insert(numero, 1)\n",
        "  return dicSalida\n",
        "\n",
        "print(contarOcurrencias([1 , 3 , 4 , 2 , 1 , 3 , 1 , 4 , 2 , 5 , 2]))\n",
        "\n"
      ],
      "metadata": {
        "id": "ZyQJRxNMC5xG",
        "colab": {
          "base_uri": "https://localhost:8080/"
        },
        "outputId": "ab6fdf93-fba2-4314-8b7b-6caec32505fc"
      },
      "execution_count": null,
      "outputs": [
        {
          "output_type": "stream",
          "name": "stdout",
          "text": [
            "{(1, 3), (2, 3), (3, 2), (4, 2), (5, 1)}\n"
          ]
        }
      ]
    },
    {
      "cell_type": "markdown",
      "metadata": {
        "id": "nxgYjoxl3gmz"
      },
      "source": [
        "### **Ejercicio 7**\n",
        "\n",
        "Escribir una función que recibe dos diccionarios y devuelve otro con la mezcla de los dos, para las claves repetidas, se queda con los significados de primer diccionario.\n",
        "\n",
        "Por ejemplo:\n",
        "\n",
        "Diccionario de entrada 1 = { (1 , 3) , (3 , 2) , (4 , 4) , (2 , 3) , (5 , 1) }\n",
        "\n",
        "Diccionario de entrada 2 = { (10 , 3) , (3 , 5) , (2 , 30) , (8 , 1) , (9 , 3) }\n",
        "\n",
        "Diccionario de salida = { (1 , 3) , (3 , 2) , (4 , 4) , (2 , 3) , (5 , 1) , (10 , 3) , (8 , 1) , (9 , 3) }"
      ]
    },
    {
      "cell_type": "code",
      "source": [
        "def mezclarDiccionarios(primerDiccionario, segundoDiccionario) -> dict:\n",
        "  diccionario_final = primerDiccionario.clone() #Instancio mi diccionario de salida como clon del primer diccionario. Esto lo hago porque me piden que en caso de que se repita alguna key, conserve el valor del primer diccionario. Clonando me aseguro que pase esto por la cosntrucción propia del diccionario\n",
        "  for key in segundoDiccionario.keys(): #Para cada key entre las keys de mi segundo diccionario:\n",
        "    diccionario_final.insert(key , segundoDiccionario[key]) #Voy a insertar en mi diccionario final (clon del primer diccionario) la key y el valor correspondiente. En caso que esté repetida, no hace naad\n",
        "\n",
        "  return diccionario_final\n",
        "diccionarioentrada1 = Diccionario([1 , 3 , 4 , 2 , 5] , [3 , 2 , 4 , 3 , 1])\n",
        "diccionarioentrada2 = Diccionario([10 , 3 , 2 , 8 , 9] , [3 , 5 , 30 , 1 , 3])\n",
        "diccionario_salida = mezclarDiccionarios(diccionarioentrada1 , diccionarioentrada2)\n",
        "\n",
        "print(diccionario_salida)"
      ],
      "metadata": {
        "id": "iNpZStaoC6zm",
        "colab": {
          "base_uri": "https://localhost:8080/"
        },
        "outputId": "d9a32fc0-fee8-4bb2-8aea-7e085b214d5e"
      },
      "execution_count": null,
      "outputs": [
        {
          "output_type": "stream",
          "name": "stdout",
          "text": [
            "{(1, 3), (2, 3), (3, 2), (4, 4), (5, 1), (8, 1), (9, 3), (10, 3)}\n"
          ]
        }
      ]
    },
    {
      "cell_type": "markdown",
      "metadata": {
        "id": "OLopy2zK38Am"
      },
      "source": [
        "### **Ejercicio 8**\n",
        "\n",
        "Escribir una función que modele el problema de administrar las materias que cursa un alumno.\n",
        "Es decir que reciba un diccionario, un alumno y una materia y agregue esa materia a las materias que cursa.\n",
        "\n",
        "**Nota: La lista de materias de cada alumno no debe tener materias repetidas.**\n",
        "\n",
        "Por ejemplo:\n",
        "\n",
        "Diccionario = { ( \"Alumno1\" , [\"Materia1\" , \"Materia2\"] )   ,   ( \"Alumno2\", [ \"Materia2\" , \"Materia3\" , \"Materia4\" ] ) }\n"
      ]
    },
    {
      "cell_type": "code",
      "source": [
        "def agregaMaterias(diccionarioMaterias:Diccionario , alumno:str , materia:str)->Diccionario: #Defino una función que toma un diccionario de alumnos y materias, un alumno y una materia:\n",
        "  if alumno in diccionarioMaterias.keys(): #Si mi alumno ya aparece en mi diccionario:\n",
        "    if materia not in diccionarioMaterias[alumno]: #Y además esa materia NO ESTÁ dentro de las materias que tiene ese alumno (donde alumno es la key y el value es un array de materias)\n",
        "      diccionarioMaterias[alumno].append(materia) #Appendeo la materia a las materias que cursa el alumno (modifico el value)\n",
        "    else: #Sino, es decir, si la materia ya se encuentra dentro de las materias que tiene asignadas el alumno:\n",
        "      raise Exception(f'{alumno} ya está asignado a la materia {materia}') #Lanzo una excepción, el alumno ya tiene esa materia asignada\n",
        "  else: #Sino, es decir, que el alumno NO aparece entre los que ya están en el diccionario\n",
        "    diccionarioMaterias.insert(alumno , [materia]) #Agrego al alumno y a su correspondiente materia como un nuevo par key - value:\n",
        "\n",
        "  return diccionarioMaterias #Retornamos el diccionario de entrada, modificado\n",
        "\n",
        "diccionarioMaterias = Diccionario(['Alumno1' , 'Alumno2'] , [['Materia1' , 'Materia2'] , ['Materia2' , 'Materia3' , 'Materia4']])\n",
        "print(diccionarioMaterias)\n",
        "\n",
        "agregaMaterias(diccionarioMaterias , 'ALUMNX3' , 'MATERIA 5')\n",
        "print(diccionarioMaterias)\n",
        "\n",
        "agregaMaterias(diccionarioMaterias , 'Alumno1' , 'Materia3')\n",
        "print(diccionarioMaterias)"
      ],
      "metadata": {
        "id": "HFWkH-h4C7mm",
        "colab": {
          "base_uri": "https://localhost:8080/"
        },
        "outputId": "fa7bcaf6-54f9-4305-c3e8-b0cabd66876d"
      },
      "execution_count": null,
      "outputs": [
        {
          "output_type": "stream",
          "name": "stdout",
          "text": [
            "{('Alumno1', ['Materia1', 'Materia2']), ('Alumno2', ['Materia2', 'Materia3', 'Materia4'])}\n",
            "{('Alumno1', ['Materia1', 'Materia2']), ('Alumno2', ['Materia2', 'Materia3', 'Materia4']), ('ALUMNX3', 'MATERIA 5')}\n",
            "{('Alumno1', ['Materia1', 'Materia2', 'Materia3']), ('Alumno2', ['Materia2', 'Materia3', 'Materia4']), ('ALUMNX3', 'MATERIA 5')}\n"
          ]
        }
      ]
    },
    {
      "cell_type": "markdown",
      "source": [
        "### **Ejercicio 9**\n",
        "\n",
        "Escribir una función listaToDic que recibe una lista con chirimbolos y devuelve un diccionario con cada chirimbolo como clave y como significado una matriz de nxn donde n es la cantidad de veces que aparece el chirimbolo en la lista. La matriz se debe llenar con el chirimbolo de la clave.\n",
        "Se debe resolver usando las operaciones del TDA diccionario que vimos en clase, sin violar el encapsulamiento ni utilizando estructuras auxiliares. Si es necesario definir funciones auxiliares.\n",
        "Ejemplo:\n",
        "\n",
        "```\n",
        "lista = [‘*’, ‘#’, ‘/’, ‘*’, ‘#’, ‘/’, ‘*’, ‘$’]\n",
        "listaToDic(lista) –> Diccionario\n",
        "Entonces, listaToDic(lista) =>\n",
        "{(‘*’,  [[‘*’,‘*’,‘*’],[‘*’,‘*’,‘*’],[‘*’,‘*’,‘*’]]) , (‘$’ , [[‘$’]]), (‘/’ , [[‘/’,‘/’],[‘/’,‘/’]]) , (‘#’ , [[‘#’,‘#’],[‘#’,‘#’]])}\n",
        "```\n",
        "\n",
        "Ayuda: Se recomienda generar primero la matriz con ceros y luego reemplazarlos o bien utilizar la funcion np.full(...)."
      ],
      "metadata": {
        "id": "dOTeL0tXJJKG"
      }
    },
    {
      "cell_type": "code",
      "source": [
        "def listToDic(unaLista) -> dict:\n",
        "    dictFinal = Diccionario()\n",
        "    for chirimbolo in unaLista:\n",
        "        NroApariciones = cantOcurrencias(unaLista, chirimbolo)\n",
        "        dictFinal.insert(chirimbolo, [chirimbolo * NroApariciones] * NroApariciones)\n",
        "    return dictFinal\n",
        "\n",
        "def cantOcurrencias(unaLista, unElemento):\n",
        "    contador = 0\n",
        "    for elem in unaLista:\n",
        "        if elem == unElemento:\n",
        "            contador += 1\n",
        "    return contador\n",
        "chirimbolos = ['*', '#', '/', '*', '#', '/', '*', '$']\n",
        "chirimbolos_to_dic = listToDic(chirimbolos)\n",
        "print(chirimbolos_to_dic)\n"
      ],
      "metadata": {
        "id": "6PdVHKGgC9w9",
        "colab": {
          "base_uri": "https://localhost:8080/"
        },
        "outputId": "c09f77e1-e70d-4968-8e40-b50d7c0acdd0"
      },
      "execution_count": null,
      "outputs": [
        {
          "output_type": "stream",
          "name": "stdout",
          "text": [
            "{('#', ['##', '##']), ('/', ['//', '//']), ('*', ['***', '***', '***']), ('$', ['$'])}\n"
          ]
        }
      ]
    },
    {
      "cell_type": "markdown",
      "source": [
        "### **Ejercicio 10**\n",
        "\n",
        "Escribir la función promedios que recibe una lista de materias (strings) y una lista de notas (enteros) del mismo tamaño. Retorna un diccionario que posee como clave cada materia y como significado su nota promedio.\n",
        "Se debe resolver usando las operaciones del TDA diccionario que vimos en clase, sin violar el encapsulamiento ni utilizando estructuras auxiliares.\n",
        "Por ejemplo:\n",
        "\n",
        "\n",
        "listaMaterias = [“Intro Prog”, **“Objetos”**, “Estructura de Datos”, “Intro Prog”, ”Inglés”, **“Objetos”**, “Estructura de Datos”]\n",
        "\n",
        "listaNotas = [4, **4**, 4, 6, 7, **6**, 6]\n",
        "\n",
        "dic  = promedios(listaMaterias , listaNotas)\n",
        "\n",
        "Entonces, dic = { (“Intro Prog”, 5) , (“Estructura de Datos”,  5) , (”Inglés”, 7) , ( “Objetos”, 5) }"
      ],
      "metadata": {
        "id": "4M7_QzmDJdUc"
      }
    },
    {
      "cell_type": "code",
      "source": [
        "def cantOcurrencias(unaLista, unElemento):\n",
        "    contador = 0\n",
        "    for elem in unaLista:\n",
        "        if elem == unElemento:\n",
        "            contador += 1\n",
        "    return contador\n",
        "\n",
        "def promedios(listaDeMaterias: str, listaDeNotas: int) -> dict:\n",
        "    dictResultado = Diccionario()\n",
        "    for i in range(len(listaDeMaterias)):\n",
        "        materia = listaDeMaterias[i]\n",
        "        nota = listaDeNotas[i]\n",
        "        if materia in dictResultado:\n",
        "            dictResultado[materia] = (dictResultado[materia] + nota )\n",
        "        else:\n",
        "            dictResultado.insert(materia, nota)\n",
        "\n",
        "    for key in dictResultado.keys():\n",
        "        dictResultado[key] = dictResultado[key] / cantOcurrencias(listaDeMaterias, key)\n",
        "    return dictResultado\n",
        "listaMaterias = [\"Intro Prog\", \"Objetos\", \"Estructura de Datos\", \"Intro Prog\", \"Inglés\", \"Objetos\", \"Estructura de Datos\"]\n",
        "listaNotas = [4, 4, 4, 6, 7, 6, 6]\n",
        "\n",
        "promedios(listaMaterias , listaNotas)"
      ],
      "metadata": {
        "id": "HGtawaoIC-sO",
        "colab": {
          "base_uri": "https://localhost:8080/"
        },
        "outputId": "7ce5114b-9bf9-48d3-cb8f-8d1940374ec4"
      },
      "execution_count": null,
      "outputs": [
        {
          "output_type": "execute_result",
          "data": {
            "text/plain": [
              "{('Estructura de Datos', 5.0), ('Objetos', 5.0), ('Intro Prog', 5.0), ('Inglés', 7.0)}"
            ]
          },
          "metadata": {},
          "execution_count": 77
        }
      ]
    },
    {
      "cell_type": "markdown",
      "metadata": {
        "id": "rc3aFx7i5g13"
      },
      "source": [
        "### **Ejercicio 11**\n",
        "\n",
        "Tenemos un diccionario del tipo **<Entero , Lista de enteros>** (clave número entero, significado lista de enteros) que dado un numero **X**, guarda las posibles combinaciones de ese número con otros.\n",
        "\n",
        "Escribir una función que recibe un diccionario de este tipo y devuelve una lista con los posibles pares de números (en formato de tupla).\n",
        "\n",
        "Por ejemplo:\n",
        "\n",
        "Diccionario de entrada = { (5 , [5 , 3 , 7 ] )  ,  ( 8, [ 15 , 3 ] ) }\n",
        "\n",
        "Lista de salida = [ (5 , 5) ,(5 , 3) , (5 , 7) , (8 , 15) , (8 , 3) ]\n",
        "\n"
      ]
    },
    {
      "cell_type": "code",
      "source": [
        "def combinacionesDe(unDiccionario: dict) -> list:\n",
        "    listaResultado = []\n",
        "\n",
        "    for key in unDiccionario.keys():\n",
        "        for num in unDiccionario[key]:\n",
        "            listaResultado.append((key, num))\n",
        "    return listaResultado\n",
        "dic = Diccionario((5, 8), ([5,3,7], [15,3]))\n",
        "print(dic)\n",
        "print(combinacionesDe(dic))"
      ],
      "metadata": {
        "id": "Y1Ax5gohJPPk",
        "colab": {
          "base_uri": "https://localhost:8080/"
        },
        "outputId": "ab1c8c47-3096-4b5d-8903-56a3d6c1f5e8"
      },
      "execution_count": null,
      "outputs": [
        {
          "output_type": "stream",
          "name": "stdout",
          "text": [
            "{(8, [15, 3]), (5, [5, 3, 7])}\n",
            "[(8, 15), (8, 3), (5, 5), (5, 3), (5, 7)]\n"
          ]
        }
      ]
    },
    {
      "cell_type": "markdown",
      "metadata": {
        "id": "qBL1crPl55oY"
      },
      "source": [
        "### **Ejercicio 12**\n",
        "\n",
        "Escribir una función que haga lo inverso del Ejercicio 9.\n",
        "\n",
        "Por ejemplo:\n",
        "\n",
        "Lista de entrada = [ (5 , 5) ,(5 , 3) , (5 , 7) , (8 , 15) , (8 , 3) ]\n",
        "\n",
        "Diccionario de salida = { (5 , [5 , 3 , 7 ] )  ,  ( 8, [ 15 , 3 ] ) }\n",
        "\n",
        "\n"
      ]
    },
    {
      "cell_type": "code",
      "source": [
        "def factorComunClave(unaLista: list[tuple[int,int]]) -> dict:\n",
        "    dictResultado = Diccionario()\n",
        "    num = 0\n",
        "    for tupla in unaLista:# Se puede en el for poner 2 variables para desenpaquetar\n",
        "      if num != tupla[0]:\n",
        "        num = tupla[0]\n",
        "        dictResultado.insert(num, [tupla[1]])\n",
        "      else:\n",
        "        dictResultado[num].append(tupla[1])\n",
        "    return dictResultado\n",
        "\n",
        "\n",
        "\n",
        "\n",
        "print(factorComunClave([ (5 , 5) ,(5 , 3) , (5 , 7) , (8 , 15) , (8 , 3) ]))"
      ],
      "metadata": {
        "id": "3Gv1MZc0DAWd",
        "colab": {
          "base_uri": "https://localhost:8080/"
        },
        "outputId": "cc25ff6e-8ae5-463d-a410-067d6242f459"
      },
      "execution_count": 2,
      "outputs": [
        {
          "output_type": "stream",
          "name": "stdout",
          "text": [
            "{(8, [15, 3]), (5, [5, 3, 7])}\n"
          ]
        }
      ]
    },
    {
      "cell_type": "markdown",
      "metadata": {
        "id": "02nV6J1RzOZI"
      },
      "source": [
        "### **Ejercicio 13**\n",
        "\n",
        "Escribir el TDA **MatrizDePixels**, que modele una matriz de pixels (imagen) de **N x M** usando el tipo array del paquete numpy, donde cada pixel tiene un color representado por un número entero entre **0 y 255**.\n",
        "\n",
        "Hacer las operaciones del TDA para crear una MatrizDePixels (por defecto llena de ceros), leer y escribir pixels.\n",
        "\n",
        "Luego pruebenla con estos ejemplos:\n",
        "\n",
        "**a)** Crear una MatrizDePixels de **100 x 100** y agregarle valores a dos pixels.\n",
        "\n",
        "**b)** Crear una MatrizDePixels de **100000 x 50000** y agregarle valores a dos pixels.\n",
        "\n",
        "Explicar porque el inciso **b** da un error\n",
        "\n",
        "\n"
      ]
    },
    {
      "cell_type": "code",
      "source": [
        "import numpy as np\n",
        "\n",
        "class MatrizDePixels2:\n",
        "   def __init__(self, cantFilas: int, cantCols: int):\n",
        "      self.__imagen = np.zeros((cantFilas, cantCols), int)\n",
        "\n",
        "   def __repr__(self) -> str:\n",
        "      return str(self.__imagen)\n",
        "\n",
        "   def escribirPixel(self, posFila:int, posCol: int, valor:int) -> None:\n",
        "        self.__imagen[posFila, posCol] = valor\n",
        "\n",
        "   def leerPixel(self, posFila:int, posCol:int) -> int:\n",
        "        return self.__imagen[posFila, posCol]"
      ],
      "metadata": {
        "id": "bkeo5xL0jvnq"
      },
      "execution_count": null,
      "outputs": []
    },
    {
      "cell_type": "code",
      "source": [
        "import numpy as np\n",
        "\n",
        "class MatrizDePixels:\n",
        "  def __init__(self, cantFilas: int, cantCols: int)-> None:\n",
        "      self.__imagen = np.zeros((cantFilas, cantCols), int)\n",
        "\n",
        "  def __repr__(self) -> str:\n",
        "      return str(self.__imagen)\n",
        "\n",
        "  def escribirPixel(self, posFila:int, posCol: int, valor:int)->None:\n",
        "      self.__imagen[posFila][posCol] = valor\n",
        "\n",
        "  def leerPixel(self, posFila:int, posCol: int) -> int:\n",
        "      return self.__imagen[posFila][posCol]\n",
        "\n",
        "\n",
        "miImagen = MatrizDePixels(100 , 100) #Creo una imagen de 100 x 100\n",
        "print(miImagen) #La vemos\n",
        "miImagen.escribirPixel(0 , 0 , 255) #Cambio el primer elemento de 0 a 255\n",
        "miImagen.escribirPixel(99 , 99 , 255) #Hago lo mismo con el último\n",
        "print(miImagen)"
      ],
      "metadata": {
        "id": "DUyBrWKiDB6u",
        "colab": {
          "base_uri": "https://localhost:8080/"
        },
        "outputId": "b2a1da56-8311-422b-cc0c-621fd29fd98e"
      },
      "execution_count": null,
      "outputs": [
        {
          "output_type": "stream",
          "name": "stdout",
          "text": [
            "[[0 0 0 ... 0 0 0]\n",
            " [0 0 0 ... 0 0 0]\n",
            " [0 0 0 ... 0 0 0]\n",
            " ...\n",
            " [0 0 0 ... 0 0 0]\n",
            " [0 0 0 ... 0 0 0]\n",
            " [0 0 0 ... 0 0 0]]\n",
            "[[255   0   0 ...   0   0   0]\n",
            " [  0   0   0 ...   0   0   0]\n",
            " [  0   0   0 ...   0   0   0]\n",
            " ...\n",
            " [  0   0   0 ...   0   0   0]\n",
            " [  0   0   0 ...   0   0   0]\n",
            " [  0   0   0 ...   0   0 255]]\n"
          ]
        }
      ]
    },
    {
      "cell_type": "markdown",
      "source": [
        "Ahora escribir el TDA **MatrizDePixelsDict**, que modele una matriz de pixels (imagen) de **N x M** usando un diccionario de **<(fila,columna) , pixel>**, donde cada pixel tiene un color representado por un número entero entre **0 y 255** y el par **(fila,columna)** indica la posición del pixel en la matriz.\n",
        "\n",
        "Hacer las operaciones del TDA para crear una MatrizDePixelsDict (por defecto llena de ceros), leer y escribir pixels.\n",
        "\n",
        "Luego pruebenla con estos ejemplos:\n",
        "\n",
        "**a)** Crear una MatrizDePixelsDict de **100 x 100** y agregarle valores a dos pixels.\n",
        "\n",
        "**b)** Crear una MatrizDePixelsDict de **100000 x 50000** y agregarle valores a dos pixels.\n",
        "\n",
        "Explicar porque el inciso **b** ahora si funciona"
      ],
      "metadata": {
        "id": "_GiVemNfJUj8"
      }
    },
    {
      "cell_type": "markdown",
      "source": [
        "**Nota:** Si importan el paquete **sys** pueden usar la función **sys.getsizeof(variable)** que retorna el espacio que ocupa una variable en memoria."
      ],
      "metadata": {
        "id": "SHOMF2WEMDW7"
      }
    },
    {
      "cell_type": "code",
      "source": [],
      "metadata": {
        "id": "RGw-p-7wlh6h"
      },
      "execution_count": null,
      "outputs": []
    },
    {
      "cell_type": "code",
      "source": [
        "import numpy as np\n",
        "\n",
        "class MatrizDePixelsDict: #Ahora hacemos nuestro nuevo TDA, basado en un diccionario\n",
        "  def __init__(self, cantFilas:int, cantCols:int): #TOma cantidad e ilas y de columnas\n",
        "    self.__xsize = cantFilas #Guardamos cantidad de filas\n",
        "    self.__ysize = cantCols #Guardamos cantidad de columnas\n",
        "    self.__imagen = Diccionario() #Instanciamos el diccionario. No guardamos nada porque asumimos que es todo 0\n",
        "\n",
        "  def __repr__(self)->str: #El repr será entonces mi diccionario de pixels distintos de cero y las dimensiones de la matriz\n",
        "    return f\"{self.__imagen} ({self.__xsize}, {self.__ysize})\"\n",
        "\n",
        "  def escribirPixel(self, posFila:int, posCol:int, valor:int)->None: #Par escribir el pixel ponemos como clave la psoción y como value el valor correspondiente\n",
        "    self.__imagen[(posFila,posCol)] = valor\n",
        "\n",
        "  def leerPixel(self, posFila:int, posCol:int)->int: #Par aller el pixel instanciamos el valor como 0\n",
        "    valor = 0 #Porque si es distinto de 0 lo tenemos en el diccioario, sino no\n",
        "    if (posFila,posCol) in self.__imagen: #Si tenemos guardada esa posición en particular, decimos el valor, sino se saltea este if y asumimos que es 0\n",
        "      valor = self.__imagen[(posFila,posCol)]\n",
        "    return valor\n",
        "\n",
        "imagen1 = MatrizDePixelsDict(10,10)\n",
        "imagen1.escribirPixel(2,3,5)\n",
        "imagen1.escribirPixel(4,1,10)\n",
        "print(imagen1)"
      ],
      "metadata": {
        "id": "P0jcieZmDDRe",
        "colab": {
          "base_uri": "https://localhost:8080/"
        },
        "outputId": "52f714cc-cc06-43b7-ad79-9d23c7880b55"
      },
      "execution_count": null,
      "outputs": [
        {
          "output_type": "stream",
          "name": "stdout",
          "text": [
            "{((2, 3), 5), ((4, 1), 10)} (10, 10)\n"
          ]
        }
      ]
    },
    {
      "cell_type": "markdown",
      "source": [
        "### **Ejercicio 14**\n",
        "\n",
        "Implementar la suma matrices como operación en el TDA **MatrizDePixelsDict** implementado en el Ejercicio 13."
      ],
      "metadata": {
        "id": "a-69eMHdjcSy"
      }
    },
    {
      "cell_type": "code",
      "source": [
        "class MatrizDePixelsDict2:\n",
        "  def __init__(self, cantFilas: int, cantCols: int)-> None:\n",
        "      self.__cantFilas = cantFilas\n",
        "      self.__cantCols = cantCols\n",
        "      self.__imagen = Diccionario()\n",
        "\n",
        "  def __repr__(self) -> str:\n",
        "      return str(self.__imagen)\n",
        "\n",
        "  def escribirPixel(self, posFila:int, posCol: int, valor:int)->None:\n",
        "      self.__imagen[(posFila, posCol)] = valor\n",
        "\n",
        "  def leerPixel(self, posFila:int, posCol: int) -> int:\n",
        "      dato = 0\n",
        "      if [posFila, posCol] in self.__imagen:\n",
        "          dato = self.__imagen[posFila, posCol]\n",
        "      return dato\n",
        "\n",
        "   def __add__(imagen1, imagen2):#resolver\n",
        "      pass"
      ],
      "metadata": {
        "id": "HUxXguFJeyRL"
      },
      "execution_count": null,
      "outputs": []
    }
  ]
}